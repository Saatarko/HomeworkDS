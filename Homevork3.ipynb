{
 "cells": [
  {
   "cell_type": "markdown",
   "id": "a3c9da27-4193-4e95-b187-d98c5285c3dd",
   "metadata": {},
   "source": [
    "# Задание: Рассчет квадратных уравнений"
   ]
  },
  {
   "cell_type": "code",
   "execution_count": 1,
   "id": "783ed299-b583-494a-9aa5-94fb60dfc9dc",
   "metadata": {},
   "outputs": [
    {
     "name": "stdout",
     "output_type": "stream",
     "text": [
      "Корни уравнения y2 - 12y + 20 = 0:\n",
      "[10.0, 2.0]\n",
      "Корни уравнения z2 + 17z + 72 = 0:\n",
      "[-8.0, -9.0]\n",
      "Корни уравнения x2 - 7x - 44 = 0:\n",
      "[11.0, -4.0]\n",
      "Корни уравнения y2 + 9y + 8 = 0:\n",
      "[-1.0, -8.0]\n",
      "Корни уравнения b2 - 2b - 63 = 0:\n",
      "[9.0, -7.0]\n",
      "Корни уравнения (x^2 - 8)^2 + 4(x^2 - 8) - 5 = 0:\n",
      "[3.0, -3.0, 1.7320508075688772, -1.7320508075688772]\n"
     ]
    }
   ],
   "source": [
    "import math\n",
    "from typing import List\n",
    "\n",
    "def quadratic(a: int,b: int,c: int) -> List:\n",
    "   \n",
    "    \"\"\"\n",
    "    Функция для расчета квадратных уравнений вида 𝑎⋅𝑦2+𝑏⋅𝑦+𝑐=0,\n",
    "    \n",
    "    Параметры:\n",
    "    a - коэффициент при 𝑦2\n",
    "    b - коэффициент при 𝑦\n",
    "    c - свободный коэффициент\n",
    "\n",
    "    Возвращает:\n",
    "    pd.DataFrame: DataFrame с удаленными выбросами.\n",
    "    \"\"\"\n",
    "    \n",
    "    discriminant = b**2 - 4*a*c\n",
    "    if discriminant < 0:\n",
    "        return []  # Нет действительных корней\n",
    "    sqrt_disc = math.sqrt(discriminant)\n",
    "    return [(-b + sqrt_disc) / (2 * a), (-b - sqrt_disc) / (2 * a)]\n",
    "\n",
    "print(\"Корни уравнения y2 - 12y + 20 = 0:\")\n",
    "print(quadratic(1, -12, 20))\n",
    "\n",
    "print(\"Корни уравнения z2 + 17z + 72 = 0:\")\n",
    "print(quadratic(1, 17, 72))\n",
    "\n",
    "print(\"Корни уравнения x2 - 7x - 44 = 0:\")\n",
    "print(quadratic(1, -7, -44))\n",
    "\n",
    "print(\"Корни уравнения y2 + 9y + 8 = 0:\")\n",
    "print(quadratic(1, 9, 8))\n",
    "\n",
    "print(\"Корни уравнения b2 - 2b - 63 = 0:\")\n",
    "print(quadratic(1, -2, -63))\n",
    "\n",
    "# для расчета уравнения  (x2 - 8)**2+ 4(x2 - 8)-5=0 сначала сделаем замену\n",
    "# z = (x**2 - 8), тогда уравнение примет вид z2+ 4z-5=0, решаем это уравнение\n",
    "z_roots = quadratic(1, 4, -5)\n",
    "x_roots = []\n",
    "\n",
    "# пройдемся по полученным корням уравнения z2+ 4z-5=0 и вычиислим для них корни уравнения\n",
    "for z in z_roots:\n",
    "    if z + 8 >= 0:\n",
    "        x_roots.extend([math.sqrt(z + 8), -math.sqrt(z + 8)])\n",
    "print(\"Корни уравнения (x^2 - 8)^2 + 4(x^2 - 8) - 5 = 0:\")\n",
    "print(x_roots)\n",
    "\n",
    "\n"
   ]
  },
  {
   "cell_type": "markdown",
   "id": "831eae3e-5bf3-486c-aef4-38878f5547a1",
   "metadata": {},
   "source": [
    "# Задание: Дан произвольный список. Нужно представить его в обратном порядке."
   ]
  },
  {
   "cell_type": "code",
   "execution_count": 2,
   "id": "c7a7d36b-0231-40b3-a1d6-a3b25ecf7cf9",
   "metadata": {},
   "outputs": [
    {
     "data": {
      "text/plain": [
       "[69, 98, 78, 40, 83]"
      ]
     },
     "execution_count": 2,
     "metadata": {},
     "output_type": "execute_result"
    }
   ],
   "source": [
    "import random\n",
    "\n",
    "# Создадим произвольный список\n",
    "\n",
    "len_list: int = 5 # длинна списка\n",
    "\n",
    "random_list: List = [random.randint(1, 100) for _ in range(len_list)]\n",
    "\n",
    "# Выведем список на экран\n",
    "random_list\n"
   ]
  },
  {
   "cell_type": "code",
   "execution_count": 3,
   "id": "d1e35d15-dcbc-48c0-a523-857ad81be001",
   "metadata": {},
   "outputs": [
    {
     "data": {
      "text/plain": [
       "[83, 40, 78, 98, 69]"
      ]
     },
     "execution_count": 3,
     "metadata": {},
     "output_type": "execute_result"
    }
   ],
   "source": [
    "\n",
    "# Развернем список и выведем его на экран\n",
    "random_list.reverse()\n",
    "random_list"
   ]
  },
  {
   "cell_type": "markdown",
   "id": "41c57067-2cb9-4b36-87a4-7ee734057db2",
   "metadata": {},
   "source": [
    "# Задание: Написать функцию замены первого и последнего элемента списка местами"
   ]
  },
  {
   "cell_type": "code",
   "execution_count": 4,
   "id": "1520f29e-7a54-4159-904a-7b3246011764",
   "metadata": {},
   "outputs": [
    {
     "data": {
      "text/plain": [
       "[93, 6, 3, 44, 17]"
      ]
     },
     "execution_count": 4,
     "metadata": {},
     "output_type": "execute_result"
    }
   ],
   "source": [
    "# Создадим произвольный список\n",
    "\n",
    "len_list: int = 5 # длинна списка\n",
    "\n",
    "random_list: List = [random.randint(1, 100) for _ in range(len_list)]\n",
    "\n",
    "# Выведем список на экран\n",
    "random_list\n"
   ]
  },
  {
   "cell_type": "code",
   "execution_count": 5,
   "id": "4393e26a-63f1-4ff2-bb06-deca54769682",
   "metadata": {},
   "outputs": [],
   "source": [
    "def change(random_list: List) ->List:\n",
    "    \n",
    "    \"\"\"\n",
    "    Функция для замены первого и последнего элемента списка местами\n",
    "    \n",
    "    Параметры:\n",
    "    random_list - исходный список\n",
    "\n",
    "    Возвращает:\n",
    "    random_list - отредактированный список\n",
    "    \"\"\"\n",
    "    \n",
    "    random_list[0],random_list[-1]=random_list[-1],random_list[0]\n",
    "    return random_list\n",
    "\n"
   ]
  },
  {
   "cell_type": "code",
   "execution_count": 6,
   "id": "2a30502a-63b0-41f4-afff-59c3fb9ef773",
   "metadata": {},
   "outputs": [
    {
     "name": "stdout",
     "output_type": "stream",
     "text": [
      "[17, 6, 3, 44, 93]\n"
     ]
    }
   ],
   "source": [
    "print(change(random_list))"
   ]
  },
  {
   "cell_type": "markdown",
   "id": "043a56ae-f773-43e4-b546-7b0ff62fd161",
   "metadata": {},
   "source": [
    "# Задание: Работа со списками\n",
    "Николай задумался о поиске «бесполезного» числа на основании списка. '\n",
    "Суть оного в следующем: он берет произвольный список чисел, находит самое\n",
    "большое из них, а затем делит его на длину списка. Студент пока не придумал,\n",
    "где может пригодиться подобное значение, но ищет у вас помощи в реализации\n",
    "такой функции useless(s)."
   ]
  },
  {
   "cell_type": "code",
   "execution_count": 7,
   "id": "4f4c9d88-940b-475a-b7ad-ba6550c48390",
   "metadata": {
    "editable": true,
    "slideshow": {
     "slide_type": ""
    },
    "tags": []
   },
   "outputs": [],
   "source": [
    "def useless(random_list: List) -> float:\n",
    "    \"\"\"\n",
    "    Функция находит элемент максимального значение и делит на длинну списка\n",
    "    Параметры:\n",
    "    random_list - исходный список\n",
    "    Возвращает:\n",
    "    Результат вычислений\n",
    "    \"\"\"\n",
    "    return max(random_list)/len(random_list)"
   ]
  },
  {
   "cell_type": "code",
   "execution_count": 8,
   "id": "b81d531c-bd8f-422a-9c99-1fbe40ae4438",
   "metadata": {},
   "outputs": [
    {
     "data": {
      "text/plain": [
       "[84, 51, 22, 15, 87]"
      ]
     },
     "execution_count": 8,
     "metadata": {},
     "output_type": "execute_result"
    }
   ],
   "source": [
    "# Создадим произвольный список\n",
    "\n",
    "len_list: int = 5 # длинна списка\n",
    "\n",
    "random_list: List = [random.randint(1, 100) for _ in range(len_list)]\n",
    "\n",
    "# Выведем список на экран\n",
    "random_list."
   ]
  },
  {
   "cell_type": "code",
   "execution_count": 9,
   "id": "0db6787e-55dc-42df-8fd5-346f85303efb",
   "metadata": {},
   "outputs": [
    {
     "name": "stdout",
     "output_type": "stream",
     "text": [
      "Результатом выполнения функции по нашему списку будет 17.4\n"
     ]
    }
   ],
   "source": [
    "# Используем нашу функцию\n",
    "\n",
    "print(f'Результатом выполнения функции по нашему списку будет {useless(random_list)}')"
   ]
  },
  {
   "cell_type": "markdown",
   "id": "4e0a05f6-5b57-4da2-a42d-a0a710eb6b24",
   "metadata": {},
   "source": [
    "# Задание: Изменения длинн строк в списке (добавить _ к каждому элементу, чтобы их длинна стала как у максимального)\n",
    "На входе имеем список строк разной длины. Необходимо написать функцию\n",
    "all_eq(lst), которая вернет новый список из строк одинаковой длины. Длину\n",
    "итоговой строки определяем исходя из самой большой из них. Если конкретная\n",
    "строка короче самой длинной, дополнить ее нижними подчеркиваниями с\n",
    "правого края до требуемого количества символов.\n",
    "Расположение элементов начального списка не менять.\n",
    "['крот', 'белка', 'выхухоль'] ->\n",
    "['крот____', 'белка___', 'выхухоль']"
   ]
  },
  {
   "cell_type": "code",
   "execution_count": 10,
   "id": "5cc86a61-caa7-49cf-948d-633f5086c1ad",
   "metadata": {},
   "outputs": [],
   "source": [
    "def all_eq(random_list: List) -> List:\n",
    "    \"\"\"\n",
    "    Функция находит в списке строк элемент максимальной длинны, и для всех остальных элементов мы добавляем \"_\" до достижения нужного размера\n",
    "    \n",
    "    Параметры:\n",
    "    random_list - исходный список\n",
    "\n",
    "    Возвращает:\n",
    "    random_list - отредактированный список\n",
    "    \"\"\"\n",
    "\n",
    "    len_max: int = len(max(random_list, key=len))  # Получаем длину самой длинной строки\n",
    "\n",
    "    for x in range(len(random_list)):\n",
    "        if len(random_list[x]) < len_max:\n",
    "            random_list[x] = random_list[x] + \"_\"*(len_max-len(random_list[x]))\n",
    "            \n",
    "    return random_list"
   ]
  },
  {
   "cell_type": "code",
   "execution_count": 11,
   "id": "434ccb87-f3f1-4d65-8b34-cd2199487575",
   "metadata": {},
   "outputs": [
    {
     "data": {
      "text/plain": [
       "['heF', 'qETPsm', 'WyUbq46s', 'nHCe3ew', 'hv6nKzhqP']"
      ]
     },
     "execution_count": 11,
     "metadata": {},
     "output_type": "execute_result"
    }
   ],
   "source": [
    "import string\n",
    "import random\n",
    "\n",
    "\n",
    "# Создадим произвольный список\n",
    "\n",
    "min_length = 3    # Минимальная длина строки\n",
    "max_length = 10   # Максимальная длина строки\n",
    "len_list = 5      # Длина списка\n",
    "\n",
    "\n",
    "chars = string.ascii_letters + string.digits  # Набор символов для строк\n",
    "\n",
    "# Генератор списка строк произвольной длины\n",
    "random_list = [\n",
    "    ''.join(random.choices(chars, k=random.randint(min_length, max_length))) \n",
    "    for _ in range(len_list)\n",
    "]\n",
    "\n",
    "# Выведем список на экран\n",
    "random_list\n"
   ]
  },
  {
   "cell_type": "code",
   "execution_count": 12,
   "id": "f4325f15-93ae-4775-b63d-dd59f751b8e5",
   "metadata": {},
   "outputs": [
    {
     "name": "stdout",
     "output_type": "stream",
     "text": [
      "Результатом выполнения функции по нашему списку будет ['heF______', 'qETPsm___', 'WyUbq46s_', 'nHCe3ew__', 'hv6nKzhqP']\n"
     ]
    }
   ],
   "source": [
    "# Используем нашу функцию\n",
    "\n",
    "print(f'Результатом выполнения функции по нашему списку будет {all_eq(random_list)}')"
   ]
  },
  {
   "cell_type": "code",
   "execution_count": null,
   "id": "f804d136-82e8-4057-ade2-582d6827a501",
   "metadata": {},
   "outputs": [],
   "source": []
  }
 ],
 "metadata": {
  "kernelspec": {
   "display_name": "Python 3 (ipykernel)",
   "language": "python",
   "name": "python3"
  },
  "language_info": {
   "codemirror_mode": {
    "name": "ipython",
    "version": 3
   },
   "file_extension": ".py",
   "mimetype": "text/x-python",
   "name": "python",
   "nbconvert_exporter": "python",
   "pygments_lexer": "ipython3",
   "version": "3.12.8"
  }
 },
 "nbformat": 4,
 "nbformat_minor": 5
}
