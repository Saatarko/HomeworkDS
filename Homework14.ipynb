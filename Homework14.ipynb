{
 "cells": [
  {
   "cell_type": "code",
   "execution_count": 2,
   "id": "f4d3c01f-dd27-441d-8b52-e70df9cf0a1c",
   "metadata": {},
   "outputs": [],
   "source": [
    "import numpy as np\n",
    "from scipy import stats\n",
    "import matplotlib.pyplot as plt\n",
    "from scipy.special import perm, comb, factorial"
   ]
  },
  {
   "cell_type": "markdown",
   "id": "7cff897b-7917-4124-8bea-def86dc9d222",
   "metadata": {},
   "source": [
    "# 1. Комбинаторика"
   ]
  },
  {
   "cell_type": "markdown",
   "id": "b4f00761-b7bf-4fc8-b5e0-3f748a10c688",
   "metadata": {},
   "source": [
    "Задача 1. В группе 30 студентов. Необходимо выбрать старосту, заместителя старосты и\n",
    "профорга. Сколько существует способов это сделать?\n",
    "Задача на размещения"
   ]
  },
  {
   "cell_type": "code",
   "execution_count": 7,
   "id": "c0c9435c-50a3-4cee-9420-45ce0f15d758",
   "metadata": {},
   "outputs": [
    {
     "data": {
      "text/plain": [
       "24360.000000000004"
      ]
     },
     "execution_count": 7,
     "metadata": {},
     "output_type": "execute_result"
    }
   ],
   "source": [
    "n = factorial(30) / factorial(30-3)\n",
    "n"
   ]
  },
  {
   "cell_type": "code",
   "execution_count": 6,
   "id": "49ba05a7-9893-4f5d-9547-9e3243bfb9c3",
   "metadata": {},
   "outputs": [
    {
     "data": {
      "text/plain": [
       "24360.0"
      ]
     },
     "execution_count": 6,
     "metadata": {},
     "output_type": "execute_result"
    }
   ],
   "source": [
    "k = np.array(3)\n",
    "n = np.array(30)\n",
    "perm(n, k)"
   ]
  },
  {
   "cell_type": "markdown",
   "id": "fa4aeff9-7fd7-4e75-a76a-51b246d58c6c",
   "metadata": {},
   "source": [
    "Задача 2. Два почтальона должны разнести 10 писем по 10 адресам. Сколькими\n",
    "способами они могут распределить работу?\n",
    "Задача на разбиение множества (или размещение с повторениями)."
   ]
  },
  {
   "cell_type": "code",
   "execution_count": 11,
   "id": "bf5641fa-75b2-49c9-bf8e-75c93fe09531",
   "metadata": {},
   "outputs": [
    {
     "data": {
      "text/plain": [
       "1024"
      ]
     },
     "execution_count": 11,
     "metadata": {},
     "output_type": "execute_result"
    }
   ],
   "source": [
    "n = 2**10\n",
    "n"
   ]
  },
  {
   "cell_type": "markdown",
   "id": "553fc244-55f5-4f93-99d0-1f7c77d5aca5",
   "metadata": {},
   "source": [
    "Задача 3. В ящике 100 деталей, из них 30 – деталей 1-го сорта, 50 – 2-го, остальные – 3-\n",
    "го. Сколько существует способов извлечения из ящика одной детали 1-го или 2-го сорта?\n",
    "Задача на сложение вероятностей."
   ]
  },
  {
   "cell_type": "code",
   "execution_count": 12,
   "id": "4ab5972f-d025-4368-baef-d2d1f6d00597",
   "metadata": {},
   "outputs": [
    {
     "data": {
      "text/plain": [
       "80"
      ]
     },
     "execution_count": 12,
     "metadata": {},
     "output_type": "execute_result"
    }
   ],
   "source": [
    "n = 30+50\n",
    "n"
   ]
  },
  {
   "cell_type": "markdown",
   "id": "5fc23fd4-acf6-4c7d-9e1c-480643618139",
   "metadata": {},
   "source": [
    "Задача 5. Порядок выступления 7 участников конкурса определяется жребием. Сколько\n",
    "различных вариантов жеребьевки при этом возможно?\n",
    "Задача на перестановки."
   ]
  },
  {
   "cell_type": "code",
   "execution_count": 14,
   "id": "909d539b-6f93-4450-8017-822f51c97668",
   "metadata": {},
   "outputs": [
    {
     "data": {
      "text/plain": [
       "5040.0"
      ]
     },
     "execution_count": 14,
     "metadata": {},
     "output_type": "execute_result"
    }
   ],
   "source": [
    "n = factorial(7) \n",
    "n"
   ]
  },
  {
   "cell_type": "markdown",
   "id": "bafeb2f3-bcb6-4397-a66c-72cd269ca449",
   "metadata": {},
   "source": [
    "Задача 6. В конкурсе по 5 номинациям участвуют 10 кинофильмов. Сколько существует\n",
    "вариантов распределения призов, если по всем номинациям установлены различные\n",
    "премии?\n",
    "Задача на размещения."
   ]
  },
  {
   "cell_type": "code",
   "execution_count": 18,
   "id": "ad45f6c3-8d7d-41cf-b536-22f406ed7156",
   "metadata": {},
   "outputs": [
    {
     "data": {
      "text/plain": [
       "30240.0"
      ]
     },
     "execution_count": 18,
     "metadata": {},
     "output_type": "execute_result"
    }
   ],
   "source": [
    "n = factorial(10) / factorial(10-5)\n",
    "n"
   ]
  },
  {
   "cell_type": "code",
   "execution_count": 19,
   "id": "8e04fc71-6f0c-47a8-92d5-461fcd3c299e",
   "metadata": {},
   "outputs": [
    {
     "data": {
      "text/plain": [
       "30240.0"
      ]
     },
     "execution_count": 19,
     "metadata": {},
     "output_type": "execute_result"
    }
   ],
   "source": [
    "k = np.array(5)\n",
    "n = np.array(10)\n",
    "perm(n, k)"
   ]
  },
  {
   "cell_type": "markdown",
   "id": "2e4d8b8b-f4e3-43bb-a43c-ef0a395904a5",
   "metadata": {},
   "source": [
    "Задача 7. В шахматном турнире участвуют 16 человек. Сколько партий должно быть\n",
    "сыграно в турнире, если между любыми двумя участниками должна быть сыграна одна\n",
    "партия?\n",
    "Задача на сочетания без повторений."
   ]
  },
  {
   "cell_type": "code",
   "execution_count": 23,
   "id": "840d8dcc-7895-4b4e-8a75-ce594164ec3b",
   "metadata": {},
   "outputs": [
    {
     "data": {
      "text/plain": [
       "120.0"
      ]
     },
     "execution_count": 23,
     "metadata": {},
     "output_type": "execute_result"
    }
   ],
   "source": [
    "n = factorial(16) / (factorial(16-2) * factorial(2))\n",
    "n"
   ]
  },
  {
   "cell_type": "code",
   "execution_count": 24,
   "id": "88212fea-8db8-48c6-9250-ba3cfb7850a9",
   "metadata": {},
   "outputs": [
    {
     "data": {
      "text/plain": [
       "120"
      ]
     },
     "execution_count": 24,
     "metadata": {},
     "output_type": "execute_result"
    }
   ],
   "source": [
    "k = np.array(2)\n",
    "n = np.array(16)\n",
    "comb(n, k, exact=True, repetition=False)"
   ]
  },
  {
   "cell_type": "markdown",
   "id": "59448906-1443-4881-bb64-bfbbf9ab393b",
   "metadata": {},
   "source": [
    "Задача 8. В условиях задачи 6 определить, сколько существует вариантов распределения\n",
    "призов, если по всем номинациям установлены одинаковые призы?"
   ]
  },
  {
   "cell_type": "code",
   "execution_count": 28,
   "id": "8a373e4b-2f2a-4e43-ba93-fbf1a28c1216",
   "metadata": {},
   "outputs": [
    {
     "data": {
      "text/plain": [
       "100000"
      ]
     },
     "execution_count": 28,
     "metadata": {},
     "output_type": "execute_result"
    }
   ],
   "source": [
    "n = 10**5\n",
    "n"
   ]
  },
  {
   "cell_type": "code",
   "execution_count": 25,
   "id": "513dd0a0-63b1-4b8a-9179-630294756790",
   "metadata": {},
   "outputs": [
    {
     "data": {
      "text/plain": [
       "100000"
      ]
     },
     "execution_count": 25,
     "metadata": {},
     "output_type": "execute_result"
    }
   ],
   "source": [
    "k = np.array(5)\n",
    "n = np.array(10)\n",
    "n**k"
   ]
  },
  {
   "cell_type": "markdown",
   "id": "04d9eeb3-cd49-4efa-bfb0-f78c2dc49fe1",
   "metadata": {},
   "source": [
    "Задача 9. Садовник должен в течении трех дней посадить 6 деревьев. Сколькими\n",
    "способами он может распределить по дням работу, если будет сажать не менее одного\n",
    "дерева в день?\n",
    "Задача на сочетания с повторениями"
   ]
  },
  {
   "cell_type": "code",
   "execution_count": 30,
   "id": "63439440-40ba-4024-bd21-859e36c6e816",
   "metadata": {},
   "outputs": [
    {
     "data": {
      "text/plain": [
       "10.0"
      ]
     },
     "execution_count": 30,
     "metadata": {},
     "output_type": "execute_result"
    }
   ],
   "source": [
    "# 3 дерева посажены в 1 день. т.е деревьев осталось 3\n",
    "t = 3 # tree\n",
    "d = 3 # day\n",
    "n = factorial(d+t -1)/(factorial(d-1) * factorial(t))\n",
    "n"
   ]
  },
  {
   "cell_type": "code",
   "execution_count": 36,
   "id": "754ecc9d-25ee-4452-b23a-3de6037376a2",
   "metadata": {},
   "outputs": [
    {
     "data": {
      "text/plain": [
       "10"
      ]
     },
     "execution_count": 36,
     "metadata": {},
     "output_type": "execute_result"
    }
   ],
   "source": [
    "t = 3 # tree\n",
    "d = 3 # day\n",
    "comb(t , d, exact=True, repetition=True)"
   ]
  },
  {
   "cell_type": "markdown",
   "id": "4b455e54-a8cf-485a-a65b-11be515db473",
   "metadata": {},
   "source": [
    "Задача 10. Сколько существует четырехзначных чисел (возможно, начинающихся с нуля),\n",
    "сумма цифр которых равна 5?\n",
    "Задача на сочетания с повторениями"
   ]
  },
  {
   "cell_type": "code",
   "execution_count": 37,
   "id": "2bf8ef2e-a35e-4819-a5ea-37754ee037c8",
   "metadata": {},
   "outputs": [
    {
     "data": {
      "text/plain": [
       "56.0"
      ]
     },
     "execution_count": 37,
     "metadata": {},
     "output_type": "execute_result"
    }
   ],
   "source": [
    "s = 5 # sum\n",
    "d = 4 # quantity chars\n",
    "n = factorial(d+s -1)/(factorial(d-1) * factorial(s))\n",
    "n"
   ]
  },
  {
   "cell_type": "code",
   "execution_count": 40,
   "id": "c846cdb1-7595-4ea7-81fe-c6d6267177e1",
   "metadata": {},
   "outputs": [
    {
     "data": {
      "text/plain": [
       "56"
      ]
     },
     "execution_count": 40,
     "metadata": {},
     "output_type": "execute_result"
    }
   ],
   "source": [
    "comb(d , s, exact=True, repetition=True)"
   ]
  },
  {
   "cell_type": "markdown",
   "id": "cf05c8aa-fec3-477d-bd3a-bf8d2a610b35",
   "metadata": {},
   "source": [
    "Задача 11. Сколькими способами можно разбить группу из 25 студентов на три подгруппы\n",
    "А, В и С по 6, 9 и 10 человек соответственно?\n",
    "Задача на разбиений множества на подмножества фиксированных размеров.\n"
   ]
  },
  {
   "cell_type": "code",
   "execution_count": 43,
   "id": "c7dbf88d-1580-488b-81f0-1aada4771904",
   "metadata": {},
   "outputs": [
    {
     "data": {
      "text/plain": [
       "16360143799.0"
      ]
     },
     "execution_count": 43,
     "metadata": {},
     "output_type": "execute_result"
    }
   ],
   "source": [
    "n = factorial(25)//(factorial(6) * factorial(9)* factorial(10))\n",
    "n"
   ]
  },
  {
   "cell_type": "markdown",
   "id": "848db3dd-ebfb-40ae-ae63-77b03961c65b",
   "metadata": {},
   "source": [
    "Задача 12. Сколько существует семизначных чисел, состоящих из цифр 4, 5 и 6, в которых\n",
    "цифра 4 повторяется 3 раза, а цифры 5 и 6 – по 2 раза?\n",
    "Задача по размещению повторяющихся элементов (перестановок с повторениями)"
   ]
  },
  {
   "cell_type": "code",
   "execution_count": 45,
   "id": "5665bcac-c416-487f-9540-aa4077f5e5d7",
   "metadata": {},
   "outputs": [
    {
     "data": {
      "text/plain": [
       "210.0"
      ]
     },
     "execution_count": 45,
     "metadata": {},
     "output_type": "execute_result"
    }
   ],
   "source": [
    "n = factorial(7)//(factorial(3) * factorial(2)* factorial(2))\n",
    "n"
   ]
  },
  {
   "cell_type": "markdown",
   "id": "263b6895-3ffd-4723-923f-3c574ed0dd04",
   "metadata": {},
   "source": [
    "# 2. Классическая вероятностная модель. Геометрическая вероятность"
   ]
  },
  {
   "cell_type": "markdown",
   "id": "5a1d0634-8787-4628-80b3-7987a517fe38",
   "metadata": {},
   "source": [
    "Задача 1. В ящике 5 апельсинов и 4 яблока. Наудачу выбираются 3 фрукта. Какова\n",
    "вероятность, что все три фрукта – апельсины?"
   ]
  },
  {
   "cell_type": "code",
   "execution_count": 52,
   "id": "a0754e96-126c-459b-81a6-9287d05685b0",
   "metadata": {},
   "outputs": [
    {
     "data": {
      "text/plain": [
       "84.0"
      ]
     },
     "execution_count": 52,
     "metadata": {},
     "output_type": "execute_result"
    }
   ],
   "source": [
    "# Найдём общее число способов выбрать 3 фрукта из 9\n",
    "all_fruit = factorial(9) // (factorial(9-3) * factorial(3))\n",
    "all_fruit\n"
   ]
  },
  {
   "cell_type": "code",
   "execution_count": 48,
   "id": "5b9ebb7f-4169-46ba-bcd7-0780a3fb2907",
   "metadata": {},
   "outputs": [
    {
     "data": {
      "text/plain": [
       "84"
      ]
     },
     "execution_count": 48,
     "metadata": {},
     "output_type": "execute_result"
    }
   ],
   "source": [
    "comb(9 , 3, exact=True)"
   ]
  },
  {
   "cell_type": "code",
   "execution_count": 53,
   "id": "aa26918d-a940-4bd6-88ba-14972c6af04e",
   "metadata": {},
   "outputs": [
    {
     "data": {
      "text/plain": [
       "10.0"
      ]
     },
     "execution_count": 53,
     "metadata": {},
     "output_type": "execute_result"
    }
   ],
   "source": [
    "# Найдём общее число способов  выбрать 3 апельсина из 5\n",
    "all_orange = factorial(5) // (factorial(5-3) * factorial(3))\n",
    "all_orange"
   ]
  },
  {
   "cell_type": "code",
   "execution_count": 51,
   "id": "59b075fd-cd0c-42d4-83c2-39679240adfd",
   "metadata": {},
   "outputs": [
    {
     "data": {
      "text/plain": [
       "10"
      ]
     },
     "execution_count": 51,
     "metadata": {},
     "output_type": "execute_result"
    }
   ],
   "source": [
    "comb(5 , 3, exact=True)"
   ]
  },
  {
   "cell_type": "code",
   "execution_count": 54,
   "id": "a4c2d0f1-7e2b-44d0-a4a6-d603b695e268",
   "metadata": {},
   "outputs": [
    {
     "data": {
      "text/plain": [
       "0.11904761904761904"
      ]
     },
     "execution_count": 54,
     "metadata": {},
     "output_type": "execute_result"
    }
   ],
   "source": [
    "# Итоговая веротяность\n",
    "\n",
    "total =  all_orange / all_fruit\n",
    "total"
   ]
  },
  {
   "cell_type": "markdown",
   "id": "dc0044aa-8bcc-4318-82c4-9590cfc2cbb3",
   "metadata": {},
   "source": [
    "Задача 2. Преподаватель предлагает каждому из трех студентов задумать любое число от\n",
    "1 до 10. Считая, что выбор каждым из студентов любого числа из заданных\n",
    "равновозможен, найти вероятность того, что у кого-то из них задуманные числа совпадут."
   ]
  },
  {
   "cell_type": "code",
   "execution_count": 57,
   "id": "a1365607-2302-4f29-998e-5a0c1dfbbcf5",
   "metadata": {},
   "outputs": [
    {
     "data": {
      "text/plain": [
       "1000"
      ]
     },
     "execution_count": 57,
     "metadata": {},
     "output_type": "execute_result"
    }
   ],
   "source": [
    "# всего исходов \n",
    "\n",
    "number = 10\n",
    "stud = 3\n",
    "max_ish = number**stud\n",
    "max_ish"
   ]
  },
  {
   "cell_type": "code",
   "execution_count": 59,
   "id": "f48e7588-5f75-4f09-ba8c-f4b879ff4f53",
   "metadata": {},
   "outputs": [
    {
     "data": {
      "text/plain": [
       "720"
      ]
     },
     "execution_count": 59,
     "metadata": {},
     "output_type": "execute_result"
    }
   ],
   "source": [
    "# благоприятные исходы\n",
    "good_ish = number*(number-1)*(number-2)\n",
    "good_ish"
   ]
  },
  {
   "cell_type": "code",
   "execution_count": 60,
   "id": "cceacd71-8608-4a82-b46f-93c03d35f519",
   "metadata": {},
   "outputs": [
    {
     "data": {
      "text/plain": [
       "0.72"
      ]
     },
     "execution_count": 60,
     "metadata": {},
     "output_type": "execute_result"
    }
   ],
   "source": [
    "# Вероятность что все три числа разные.\n",
    "\n",
    "ver = good_ish/max_ish\n",
    "ver"
   ]
  },
  {
   "cell_type": "code",
   "execution_count": 61,
   "id": "9a16b61d-de6b-4de3-9f50-303c42612bb5",
   "metadata": {},
   "outputs": [
    {
     "data": {
      "text/plain": [
       "0.28"
      ]
     },
     "execution_count": 61,
     "metadata": {},
     "output_type": "execute_result"
    }
   ],
   "source": [
    "# Но нам нужно чтобы 2 числа были одинаковвые\n",
    "\n",
    "total_ver = 1- ver\n",
    "total_ver"
   ]
  },
  {
   "cell_type": "markdown",
   "id": "9a1c8309-dd02-41f3-bce1-54e17050afbe",
   "metadata": {},
   "source": [
    "Задача 3. Найти вероятность того, что в 8-значном числе ровно 4 цифры совпадают, а\n",
    "остальные различны."
   ]
  },
  {
   "cell_type": "code",
   "execution_count": 68,
   "id": "76f3f96a-a06b-4213-95b1-e235f48b4065",
   "metadata": {},
   "outputs": [],
   "source": [
    "# Мы можем выбрать любую из 10 цифр, значит 10 вариантов.\n",
    "t =10"
   ]
  },
  {
   "cell_type": "code",
   "execution_count": 62,
   "id": "e880b63b-27b3-4cdf-96df-cd0c590d982b",
   "metadata": {},
   "outputs": [
    {
     "data": {
      "text/plain": [
       "126.0"
      ]
     },
     "execution_count": 62,
     "metadata": {},
     "output_type": "execute_result"
    }
   ],
   "source": [
    "\n",
    "# Остается 9 цифр из которых 4 должны быть одинаковые. Ищем сочетания\n",
    "all_socet = factorial(9) // (factorial(9-4) * factorial(4))\n",
    "all_socet\n"
   ]
  },
  {
   "cell_type": "code",
   "execution_count": 63,
   "id": "8e3a7cce-3061-4d27-b704-4d4a6b62c65f",
   "metadata": {},
   "outputs": [
    {
     "data": {
      "text/plain": [
       "126"
      ]
     },
     "execution_count": 63,
     "metadata": {},
     "output_type": "execute_result"
    }
   ],
   "source": [
    "comb(9 , 4, exact=True)"
   ]
  },
  {
   "cell_type": "code",
   "execution_count": 64,
   "id": "9a8e0eea-fc85-4961-89a2-ae6845aea12c",
   "metadata": {},
   "outputs": [
    {
     "data": {
      "text/plain": [
       "70.0"
      ]
     },
     "execution_count": 64,
     "metadata": {},
     "output_type": "execute_result"
    }
   ],
   "source": [
    "# выбираем 4 позиции из 8(9-1) для этой цифры. Это сочетание\n",
    "poss_char = factorial(8) // (factorial(8-4) * factorial(4))\n",
    "poss_char\n"
   ]
  },
  {
   "cell_type": "code",
   "execution_count": 65,
   "id": "c6a043c4-36e2-456b-acd5-1dffe7365afb",
   "metadata": {},
   "outputs": [
    {
     "data": {
      "text/plain": [
       "70"
      ]
     },
     "execution_count": 65,
     "metadata": {},
     "output_type": "execute_result"
    }
   ],
   "source": [
    "comb(8 , 4, exact=True)"
   ]
  },
  {
   "cell_type": "code",
   "execution_count": 69,
   "id": "aa59f503-81c5-4cdc-9ab7-5da9aeee7d74",
   "metadata": {},
   "outputs": [
    {
     "data": {
      "text/plain": [
       "24.0"
      ]
     },
     "execution_count": 69,
     "metadata": {},
     "output_type": "execute_result"
    }
   ],
   "source": [
    "# У нас осталось 4 цифры на 4 позиции и нам неважно как они встанут (это размещение)\n",
    "n = factorial(4)\n",
    "n"
   ]
  },
  {
   "cell_type": "code",
   "execution_count": 71,
   "id": "93a165bf-8ec5-447c-ad5e-c6bcd1837afd",
   "metadata": {},
   "outputs": [
    {
     "data": {
      "text/plain": [
       "2116800.0"
      ]
     },
     "execution_count": 71,
     "metadata": {},
     "output_type": "execute_result"
    }
   ],
   "source": [
    "# Общее число подходящих чисел будет при выполнении всех условий т.е и, т.е перемнождаем все\n",
    "total_char = all_socet*poss_char*n*t\n",
    "total_char"
   ]
  },
  {
   "cell_type": "code",
   "execution_count": null,
   "id": "2bf8af13-040e-4bea-ac5e-8ae54c3eae5c",
   "metadata": {},
   "outputs": [],
   "source": [
    "# Общее число 8-х чисел (при учете что 0 первым не может быть)"
   ]
  },
  {
   "cell_type": "code",
   "execution_count": 73,
   "id": "3629ae8e-01b5-4d1d-8fac-a1a1470a1692",
   "metadata": {},
   "outputs": [
    {
     "data": {
      "text/plain": [
       "90000000"
      ]
     },
     "execution_count": 73,
     "metadata": {},
     "output_type": "execute_result"
    }
   ],
   "source": [
    "all_number = 9*(10**7)\n",
    "all_number"
   ]
  },
  {
   "cell_type": "code",
   "execution_count": 75,
   "id": "e3d689ad-7713-4571-8e5b-cbcc69d81dd3",
   "metadata": {},
   "outputs": [
    {
     "data": {
      "text/plain": [
       "0.02352"
      ]
     },
     "execution_count": 75,
     "metadata": {},
     "output_type": "execute_result"
    }
   ],
   "source": [
    "total_ver = total_char/all_number\n",
    "total_ver"
   ]
  },
  {
   "cell_type": "markdown",
   "id": "1fb17b86-21c6-433b-8d14-d1f49f553642",
   "metadata": {},
   "source": [
    "Задача 4. Шесть клиентов случайным образом обращаются в 5 фирм. Найти вероятность\n",
    "того, что хотя бы в одну фирму никто не обратится."
   ]
  },
  {
   "cell_type": "code",
   "execution_count": 76,
   "id": "84425ab9-48c1-4d86-943f-539ed32a1f6b",
   "metadata": {},
   "outputs": [
    {
     "data": {
      "text/plain": [
       "15625"
      ]
     },
     "execution_count": 76,
     "metadata": {},
     "output_type": "execute_result"
    }
   ],
   "source": [
    "# Клиент может выбрать любую из 5 фирм\n",
    "n = 5**6\n",
    "n"
   ]
  },
  {
   "cell_type": "markdown",
   "id": "ab001bae-d890-4c15-ae57-0ce94642b45d",
   "metadata": {},
   "source": [
    "для определения сколькими способами можно разбить 𝑚 объектов на 𝑛 непустых групп воспольхуемся таблицей стирлинговых чисел второго рода:\n",
    "S =(6,5)=15"
   ]
  },
  {
   "cell_type": "code",
   "execution_count": 79,
   "id": "1a712eae-7ad3-4596-b6a8-0b39e67e8781",
   "metadata": {},
   "outputs": [],
   "source": [
    "S =15"
   ]
  },
  {
   "cell_type": "markdown",
   "id": "33e26e51-d59b-4f6b-8fc7-8cdb06d2c791",
   "metadata": {},
   "source": [
    "\n",
    "разбили 6 клиентов на 5 групп, но фирмы различны. Это значит, что мы можем переставлять 5 фирм между этими группами."
   ]
  },
  {
   "cell_type": "code",
   "execution_count": 77,
   "id": "cbc678f1-bdb6-4844-b399-0ed10736d402",
   "metadata": {},
   "outputs": [
    {
     "data": {
      "text/plain": [
       "120"
      ]
     },
     "execution_count": 77,
     "metadata": {},
     "output_type": "execute_result"
    }
   ],
   "source": [
    "firm = factorial(5, exact=True)\n",
    "firm"
   ]
  },
  {
   "cell_type": "code",
   "execution_count": 80,
   "id": "8cc2e6ef-6be0-4cfb-b978-dab59e2ebd72",
   "metadata": {},
   "outputs": [
    {
     "data": {
      "text/plain": [
       "1800"
      ]
     },
     "execution_count": 80,
     "metadata": {},
     "output_type": "execute_result"
    }
   ],
   "source": [
    "# общее число нужных распределений:\n",
    "all_distrib = S*firm\n",
    "all_distrib"
   ]
  },
  {
   "cell_type": "code",
   "execution_count": 81,
   "id": "f4189c1e-808f-4ebe-b1fc-8cc58f4c632d",
   "metadata": {},
   "outputs": [
    {
     "data": {
      "text/plain": [
       "0.1152"
      ]
     },
     "execution_count": 81,
     "metadata": {},
     "output_type": "execute_result"
    }
   ],
   "source": [
    "# Вероятность того, что все фирмы получили хотя бы одного клиента\n",
    "V = all_distrib/n\n",
    "V"
   ]
  },
  {
   "cell_type": "code",
   "execution_count": 82,
   "id": "ff6cddbe-63b7-4b93-a8d6-ea4b92cd7ccd",
   "metadata": {},
   "outputs": [
    {
     "data": {
      "text/plain": [
       "0.8848"
      ]
     },
     "execution_count": 82,
     "metadata": {},
     "output_type": "execute_result"
    }
   ],
   "source": [
    "# Хотябы 1 фирма -это обратное событие, поэтому\n",
    "total_ver = 1-V\n",
    "total_ver "
   ]
  },
  {
   "cell_type": "markdown",
   "id": "860670b9-9c93-41db-865e-18ede3a40f73",
   "metadata": {},
   "source": [
    "# 3. Основные формулы теории вероятностей"
   ]
  },
  {
   "cell_type": "markdown",
   "id": "826c1236-90a0-401c-8336-5d7381cc28a1",
   "metadata": {},
   "source": [
    "Задача 1. В ящике 10 красных и 5 синих пуговиц. Вынимаются наудачу две пуговицы.\n",
    "Какова вероятность, что пуговицы будут одноцветными?"
   ]
  },
  {
   "cell_type": "code",
   "execution_count": 83,
   "id": "942910e0-4131-4387-846a-47ed73f6363d",
   "metadata": {},
   "outputs": [
    {
     "data": {
      "text/plain": [
       "15"
      ]
     },
     "execution_count": 83,
     "metadata": {},
     "output_type": "execute_result"
    }
   ],
   "source": [
    "# Всего пуговиц\n",
    "n = 10+5\n",
    "n"
   ]
  },
  {
   "cell_type": "code",
   "execution_count": 91,
   "id": "97558001-eeb0-4a2c-8812-b653fb7f2dad",
   "metadata": {},
   "outputs": [
    {
     "data": {
      "text/plain": [
       "105.0"
      ]
     },
     "execution_count": 91,
     "metadata": {},
     "output_type": "execute_result"
    }
   ],
   "source": [
    "# Общее число способов выбрать 2 пуговицы из 15(сочетаний)\n",
    "total_socet = factorial(n) // (factorial(n-2) * factorial(2))\n",
    "total_socet"
   ]
  },
  {
   "cell_type": "code",
   "execution_count": 92,
   "id": "e3286385-d563-4b88-ac86-3cf46d957471",
   "metadata": {},
   "outputs": [
    {
     "data": {
      "text/plain": [
       "105"
      ]
     },
     "execution_count": 92,
     "metadata": {},
     "output_type": "execute_result"
    }
   ],
   "source": [
    "comb(n , 2, exact=True)"
   ]
  },
  {
   "cell_type": "code",
   "execution_count": 86,
   "id": "07e1c6e0-8833-4078-8c48-f47b14d435be",
   "metadata": {},
   "outputs": [
    {
     "data": {
      "text/plain": [
       "45.0"
      ]
     },
     "execution_count": 86,
     "metadata": {},
     "output_type": "execute_result"
    }
   ],
   "source": [
    "# Благоприятные исходы\n",
    "# Число способов выбрать 2 красные пуговицы из 10(сочетаний):\n",
    "good_socet = factorial(10) // (factorial(10-2) * factorial(2))\n",
    "good_socet"
   ]
  },
  {
   "cell_type": "code",
   "execution_count": 87,
   "id": "c8e0a9d1-6b81-4977-a012-c2ee89129c1b",
   "metadata": {},
   "outputs": [
    {
     "data": {
      "text/plain": [
       "45"
      ]
     },
     "execution_count": 87,
     "metadata": {},
     "output_type": "execute_result"
    }
   ],
   "source": [
    "comb(10 , 2, exact=True)"
   ]
  },
  {
   "cell_type": "code",
   "execution_count": 88,
   "id": "5ab5b59e-55ca-4f8c-a088-8f41e3a357dc",
   "metadata": {},
   "outputs": [
    {
     "data": {
      "text/plain": [
       "10.0"
      ]
     },
     "execution_count": 88,
     "metadata": {},
     "output_type": "execute_result"
    }
   ],
   "source": [
    "# Число способов выбрать 2 синие пуговицы из 5:\n",
    "blue_socet = factorial(5) // (factorial(5-2) * factorial(2))\n",
    "blue_socet"
   ]
  },
  {
   "cell_type": "code",
   "execution_count": 89,
   "id": "2b8c4324-109a-4116-9ede-873842c93fe4",
   "metadata": {},
   "outputs": [
    {
     "data": {
      "text/plain": [
       "10"
      ]
     },
     "execution_count": 89,
     "metadata": {},
     "output_type": "execute_result"
    }
   ],
   "source": [
    "comb(5 , 2, exact=True)"
   ]
  },
  {
   "cell_type": "code",
   "execution_count": null,
   "id": "b09cf744-ecb5-4204-9e92-b9437ef48423",
   "metadata": {},
   "outputs": [],
   "source": [
    "# Общее число благоприятных исходов(складываем)"
   ]
  },
  {
   "cell_type": "code",
   "execution_count": 90,
   "id": "d3c6da28-12a5-4a10-b4e0-e8f303dad2e2",
   "metadata": {},
   "outputs": [
    {
     "data": {
      "text/plain": [
       "55.0"
      ]
     },
     "execution_count": 90,
     "metadata": {},
     "output_type": "execute_result"
    }
   ],
   "source": [
    "all_socet = blue_socet + good_socet\n",
    "all_socet"
   ]
  },
  {
   "cell_type": "code",
   "execution_count": 93,
   "id": "3ceb4cb3-5527-4769-b0bd-30d3db7dd8d5",
   "metadata": {},
   "outputs": [
    {
     "data": {
      "text/plain": [
       "0.5238095238095238"
      ]
     },
     "execution_count": 93,
     "metadata": {},
     "output_type": "execute_result"
    }
   ],
   "source": [
    "# Вероятность\n",
    "p = all_socet/total_socet\n",
    "p"
   ]
  },
  {
   "cell_type": "markdown",
   "id": "d2811073-cae1-4c62-bb2d-f6781145ae0b",
   "metadata": {},
   "source": [
    "Задача 2. Среди сотрудников фирмы 28% знают английский язык, 30% – немецкий, 42% –\n",
    "французский; английский и немецкий – 8%, английский и французский – 10%, немецкий и\n",
    "французский – 5%, все три языка – 3%. Найти вероятность того, что случайно выбранный\n",
    "сотрудник фирмы: а) знает английский или немецкий; б) знает английский, немецкий или\n",
    "французский; в) не знает ни один из перечисленных языков."
   ]
  },
  {
   "cell_type": "markdown",
   "id": "5401fb06-4bdd-4064-ae83-dff074d084db",
   "metadata": {},
   "source": [
    "\n"
   ]
  },
  {
   "cell_type": "code",
   "execution_count": 95,
   "id": "b3b74d8f-b2ef-4e04-86e0-66195702e032",
   "metadata": {},
   "outputs": [],
   "source": [
    "# Обозначим:\n",
    "p_a=0.28 #— знают английский\n",
    "p_n=0.30 #— знают немецкий\n",
    "p_f=0.42 #— знают французский\n",
    "p_a_and_n=0.08 #— знают английский и немецкий\n",
    "p_a_and_f=0.10 #— знают английский и французский\n",
    "p_n_and_n=0.05 #— знают немецкий и французский\n",
    "p_a_and_n_and_f=0.03 #— знают все три языка"
   ]
  },
  {
   "cell_type": "code",
   "execution_count": 96,
   "id": "9f6f58dc-33d8-4315-a69d-42ee295cf0e4",
   "metadata": {},
   "outputs": [
    {
     "data": {
      "text/plain": [
       "0.5000000000000001"
      ]
     },
     "execution_count": 96,
     "metadata": {},
     "output_type": "execute_result"
    }
   ],
   "source": [
    "# а) Вероятность, что сотрудник знает английский или немецкий\n",
    "p_result_a_or_n = p_a + p_n - p_a_and_n  # вычитаем т.к учли их в p_a + p_n\n",
    "p_result_a_or_n"
   ]
  },
  {
   "cell_type": "code",
   "execution_count": 97,
   "id": "df751e3b-4643-40e4-8790-12dce3e144f4",
   "metadata": {},
   "outputs": [
    {
     "data": {
      "text/plain": [
       "0.8"
      ]
     },
     "execution_count": 97,
     "metadata": {},
     "output_type": "execute_result"
    }
   ],
   "source": [
    "# а) Вероятность, что сотрудник знает английский или немецкий\n",
    "p_result_a_or_n_or_f = p_a + p_n +p_f - p_a_and_n - p_a_and_f - p_n_and_n + p_a_and_n_and_f  # добавляем p_a_and_n_and_f т.к их вычли в p_a_and_f\n",
    "p_result_a_or_n_or_f"
   ]
  },
  {
   "cell_type": "code",
   "execution_count": 99,
   "id": "bd93c281-c42a-4a81-9828-3dde4c031225",
   "metadata": {},
   "outputs": [
    {
     "data": {
      "text/plain": [
       "0.19999999999999996"
      ]
     },
     "execution_count": 99,
     "metadata": {},
     "output_type": "execute_result"
    }
   ],
   "source": [
    "# в) не знает ни одного языка (обратно знанию одного из трех)\n",
    "\n",
    "p_result_none = 1-p_result_a_or_n_or_f\n",
    "p_result_none"
   ]
  },
  {
   "cell_type": "markdown",
   "id": "9b1a763b-a400-49ba-9c05-5352bf127887",
   "metadata": {},
   "source": [
    "Задача 3. В семье – двое детей. Какова вероятность, что старший ребенок – мальчик, если\n",
    "известно, что в семье есть дети обоего пола?"
   ]
  },
  {
   "cell_type": "markdown",
   "id": "a3ad6ead-1f8d-496f-85e1-10db966c6796",
   "metadata": {},
   "source": [
    "Обозначим:\n",
    "\n",
    "М — мальчик\n",
    "Д — девочка\n",
    "Возможные комбинации рождения детей (первый ребёнок - старший, второй - младший) с учетом что есть дети обоего пола:\n",
    "\n",
    "МД (старший мальчик, младшая девочка)\n",
    "ДМ (старшая девочка, младший мальчик)\n",
    "Итого исходов 2"
   ]
  },
  {
   "cell_type": "code",
   "execution_count": 100,
   "id": "389c9282-949a-4c13-8772-b851119498bf",
   "metadata": {},
   "outputs": [
    {
     "data": {
      "text/plain": [
       "0.5"
      ]
     },
     "execution_count": 100,
     "metadata": {},
     "output_type": "execute_result"
    }
   ],
   "source": [
    "# Веротяность будет\n",
    "\n",
    "p = 1/2\n",
    "p"
   ]
  },
  {
   "cell_type": "code",
   "execution_count": null,
   "id": "550e2d8d-5a65-4524-9c88-b4d68125d8d9",
   "metadata": {},
   "outputs": [],
   "source": []
  }
 ],
 "metadata": {
  "kernelspec": {
   "display_name": "Python 3 (ipykernel)",
   "language": "python",
   "name": "python3"
  },
  "language_info": {
   "codemirror_mode": {
    "name": "ipython",
    "version": 3
   },
   "file_extension": ".py",
   "mimetype": "text/x-python",
   "name": "python",
   "nbconvert_exporter": "python",
   "pygments_lexer": "ipython3",
   "version": "3.12.8"
  }
 },
 "nbformat": 4,
 "nbformat_minor": 5
}
