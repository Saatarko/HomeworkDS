{
 "cells": [
  {
   "cell_type": "markdown",
   "id": "9bbc8851-89bb-4440-a30d-2227826ca758",
   "metadata": {},
   "source": [
    "# Задача 1. Написать функция для расчета уравнения и решить его для x=1.79\n",
    "\n",
    "y = (cos(e**x) + ln((1+x)**2) + (e**cos(x)+ sin**2(pi*x))**0,5 + (1/x)**0,5 + cos(x**2))**sin(x)"
   ]
  },
  {
   "cell_type": "code",
   "execution_count": 1,
   "id": "3552894f-8036-44a6-8ea0-64d15fce0858",
   "metadata": {},
   "outputs": [
    {
     "name": "stdout",
     "output_type": "stream",
     "text": [
      "Значение уравнения для x = 1.79: 3.7230820101533415\n"
     ]
    }
   ],
   "source": [
    "import math\n",
    "\n",
    "def calculate_equation(x):\n",
    "    \n",
    "    \"\"\"Расчет заданного уравнения.\n",
    "    Параметры:\n",
    "    x - передаваемый аргумент для расчета\n",
    "    Возвращает:\n",
    "    y - результат расчета уравнения\n",
    "    \"\"\"\n",
    "    \n",
    "    # Разобьем уравнение на составные части для удобства расчета\n",
    "    term1 = math.cos(math.e**x)  # cos(e**x)\n",
    "    term2 = math.log((1 + x)**2)  # ln((1 + x)**2)\n",
    "    term3 = (math.e**math.cos(x) + math.sin(math.pi * x)**2)**0.5  # (e**cos(x) + sin**2(pi*x))**0.5\n",
    "    term4 = (1 / x)**0.5  # (1/x)**0.5\n",
    "    term5 = math.cos(x**2)  # cos(x**2)\n",
    "    \n",
    "    # Вычисление полного выражения\n",
    "    y = (term1 + term2 + term3 + term4 + term5)**math.sin(x)\n",
    "    \n",
    "    return y\n",
    "\n",
    "\n",
    "x_value = 1.79\n",
    "result = calculate_equation(x_value)\n",
    "print(f\"Значение уравнения для x = {x_value}: {result}\")"
   ]
  },
  {
   "cell_type": "markdown",
   "id": "1c57dfa5-adcb-47d3-97f6-c63b82653209",
   "metadata": {},
   "source": [
    "# Задача 2. Написать функцию search_substr(substr, st) для поиска подстроки substr в строке st  без учета регистра.(если нашли пишем \"Есть контакт!\", если не нашли - \"Мимо\")\n"
   ]
  },
  {
   "cell_type": "code",
   "execution_count": 2,
   "id": "b25739f4-244d-43cd-bf07-5750495040e3",
   "metadata": {},
   "outputs": [
    {
     "name": "stdin",
     "output_type": "stream",
     "text": [
      "Введите строку:  Всем приветики в этом чате\n",
      "Введите слово для поиска:  чат\n"
     ]
    },
    {
     "name": "stdout",
     "output_type": "stream",
     "text": [
      "Есть контакт! Слово 'чат' найдено!\n"
     ]
    }
   ],
   "source": [
    "\n",
    "def search_substr(substr, st):\n",
    "\n",
    "    \"\"\"Поиск подстроки в строке.\n",
    "    Параметры:\n",
    "    st - базовая строка\n",
    "    substr -  подстрока \n",
    "    \"\"\"\n",
    "\n",
    "    # Список для хранения позиций вхождения слова\n",
    "    indices = st.lower().find(substr.lower())\n",
    "    \n",
    "    # Вывод результата\n",
    "    if indices:\n",
    "        print(f\"Есть контакт! Слово '{substr}' найдено!\")\n",
    "    else:\n",
    "        print(f\"Мимо! Слово '{substr}' не найдено.\")\n",
    "\n",
    "# Ввод строки и слова для поиска\n",
    "st = input(\"Введите строку: \")\n",
    "substr = input(\"Введите слово для поиска: \")\n",
    "search_substr(substr,st)\n",
    "\n"
   ]
  },
  {
   "cell_type": "markdown",
   "id": "71cd5f2e-18a4-4724-ae6d-97a906e4bddf",
   "metadata": {},
   "source": [
    "# Задача 3. Написать функцию которая будет на основании строки определить 3 наиболее часто встречающихся символа (кроме пробела). Можно использовать Counter"
   ]
  },
  {
   "cell_type": "code",
   "execution_count": 3,
   "id": "4b9a84ed-5b60-416a-80eb-977003dfe7b0",
   "metadata": {},
   "outputs": [
    {
     "name": "stdin",
     "output_type": "stream",
     "text": [
      "Введите строку:  Все приветитке в этом чатике\n"
     ]
    },
    {
     "name": "stdout",
     "output_type": "stream",
     "text": [
      "3 самых частых символа в строке [('е', 4), ('т', 4), ('и', 3)]\n"
     ]
    }
   ],
   "source": [
    "from collections import Counter\n",
    "\n",
    "\n",
    "def max_char(st):\n",
    "\n",
    "    \"\"\"Функция поиска 3 самых частых символа в строке.\n",
    "    Параметры:\n",
    "    st - базовая строка\n",
    "    Возвращает:\n",
    "    top_three_chars - 3 самых частых символа\n",
    "    \"\"\"\n",
    "\n",
    "    filtered_st = st.replace(\" \", \"\")  # Убираем пробелы т.е Counter этого не делает\n",
    "\n",
    "    # применяем метод Counter\n",
    "    char_count = Counter(filtered_st)\n",
    "\n",
    "    # Три самых частых символа (с помощью метода most_common)\n",
    "    top_three_chars = char_count.most_common(3)\n",
    "    \n",
    "    \n",
    "    return top_three_chars \n",
    "    \n",
    "\n",
    "# Ввод строки и слова для поиска\n",
    "st = input(\"Введите строку: \")\n",
    "\n",
    "print(f'3 самых частых символа в строке {max_char(st)}')"
   ]
  },
  {
   "cell_type": "markdown",
   "id": "7d34da6b-b9fd-4164-8c9c-9965061edde3",
   "metadata": {},
   "source": [
    "# Задача 4. Дана строка в виде случайной последовательности чисел от 0 до 9. Требуется создать словарь, который в качестве ключей будет принимать данные числа (т. е. ключи будут типом int), а в качестве значений – количество этих чисел в имеющейся последовательности. Для построения словаря создайте функцию count_it(sequence), принимающую строку из цифр. Функция должна возвратить словарь из 3-х самых часто встречаемых чисел."
   ]
  },
  {
   "cell_type": "code",
   "execution_count": 4,
   "id": "11cf2e50-d50b-4440-a8d4-1c4d140d58d9",
   "metadata": {},
   "outputs": [
    {
     "name": "stdin",
     "output_type": "stream",
     "text": [
      "Введите строку:  24534636356744856784568\n"
     ]
    },
    {
     "name": "stdout",
     "output_type": "stream",
     "text": [
      "Словарь 3 самых частых символов в строке (в формате символ: частота) {4: 5, 6: 5, 5: 4}\n"
     ]
    }
   ],
   "source": [
    "from collections import Counter\n",
    "\n",
    "def count_it(sequence):\n",
    "\n",
    "    \"\"\"Функция поиска 3 самых частых символа в цифровой строке.\n",
    "    Параметры:\n",
    "    sequence - базовая строка\n",
    "    Возвращает:\n",
    "    dict(count_dict.most_common(3))- словарь из 3 самых частых символов\n",
    "    \"\"\"\n",
    "\n",
    "    \n",
    "    count_dict = Counter(map(int, sequence))  # Преобразуем символы в числа и считаем\n",
    "    return dict(count_dict.most_common(3))  # Возвращаем словарь из 3-х самых частых чисел\n",
    "\n",
    "# Ввод строки и слова для поиска\n",
    "sequence = input(\"Введите строку: \")\n",
    "\n",
    "print(f'Словарь 3 самых частых символов в строке (в формате символ: частота) {count_it(sequence)}')"
   ]
  },
  {
   "cell_type": "code",
   "execution_count": null,
   "id": "6d75e39a-7d02-4f7b-90fd-bc20e3d539df",
   "metadata": {},
   "outputs": [],
   "source": []
  }
 ],
 "metadata": {
  "kernelspec": {
   "display_name": "Python 3 (ipykernel)",
   "language": "python",
   "name": "python3"
  },
  "language_info": {
   "codemirror_mode": {
    "name": "ipython",
    "version": 3
   },
   "file_extension": ".py",
   "mimetype": "text/x-python",
   "name": "python",
   "nbconvert_exporter": "python",
   "pygments_lexer": "ipython3",
   "version": "3.12.8"
  }
 },
 "nbformat": 4,
 "nbformat_minor": 5
}
