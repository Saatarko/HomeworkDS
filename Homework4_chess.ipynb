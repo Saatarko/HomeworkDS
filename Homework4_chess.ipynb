{
 "cells": [
  {
   "cell_type": "markdown",
   "id": "e70ca1f2-d58c-4dc2-82e2-15980c1fe733",
   "metadata": {},
   "source": [
    "# Задача 5 - 6. Объединенная задача. Есть шахматное поле 8*8, есть черная фигура, есть фигура белых (ферзь или конь). Задается начальное положение. И нужно опередлить угрожает ли белая фигура черной при учете что у белых есть еще ход (т.е есть или угроза сразу или через ход)\n"
   ]
  },
  {
   "cell_type": "code",
   "execution_count": 1,
   "id": "9c1a0f24-35c1-4d48-a6bd-01ae8293c18a",
   "metadata": {},
   "outputs": [],
   "source": [
    "import matplotlib.pyplot as plt\n",
    "import numpy as np\n",
    "import ipywidgets as widgets\n",
    "from IPython.display import display, HTML\n",
    "\n",
    "def draw_chessboard(position=None):\n",
    "    \"\"\"Функция отрисовки шахматной доски.\"\"\"\n",
    "    \n",
    "    board = np.zeros((8, 8))\n",
    "    for x in range(8):\n",
    "        for y in range(8):\n",
    "            board[x, y] = (x + y) % 2  # Черно-белая раскраска\n",
    "    \n",
    "    fig, ax = plt.subplots(figsize=(6, 6))\n",
    "    ax.imshow(board, cmap=\"gray\", interpolation=\"nearest\")\n",
    "    \n",
    "    # Отображение фигур\n",
    "\n",
    "    if position:\n",
    "        for (x, y, piece) in position:\n",
    "            ax.text(x, y, piece, ha=\"center\", va=\"center\", fontsize=20, color=\"red\")  # x и y инвертированы\n",
    "\n",
    "    # Подписи к осям\n",
    "    ax.set_xticks(range(8))\n",
    "    ax.set_yticks(range(8))\n",
    "    \n",
    "    # Подписи для оси X (столбцы a-h)\n",
    "    ax.set_xticklabels(['a', 'b', 'c', 'd', 'e', 'f', 'g', 'h'])\n",
    "    \n",
    "    # Подписи для оси Y (строки 1-8 снизу вверх)\n",
    "    ax.set_yticklabels([8, 7, 6, 5, 4, 3, 2, 1])\n",
    "    \n",
    "    plt.grid(True)\n",
    "    plt.show()"
   ]
  },
  {
   "cell_type": "code",
   "execution_count": 2,
   "id": "c105558e-0fc9-438d-b835-6d74c8e8ca72",
   "metadata": {},
   "outputs": [],
   "source": [
    "def is_valid_move(x, y, size=8):\n",
    "    \"\"\"Функция проверки, находится ли клетка (x, y) в пределах доски размера size x size.\n",
    "    Параметры: \n",
    "    x, y координаты клетки\n",
    "    size - размерность доски (для шахмат 8)\n",
    "    \"\"\"\n",
    "    return 0 <= x < size and 0 <= y < size"
   ]
  },
  {
   "cell_type": "code",
   "execution_count": 3,
   "id": "c4033b30-98d2-4242-bc5b-2de9a4ce20a1",
   "metadata": {},
   "outputs": [],
   "source": [
    "def chess_notation_to_index(notation):\n",
    "    \"\"\"\n",
    "    Преобразует шахматную нотацию (например, 'a1', 'e6') в индексы.\n",
    "    \n",
    "    Пример: 'e6' -> (4, 5)\n",
    "    \"\"\"\n",
    "    # Словарь для перевода букв (a-h) в индексы (0-7)\n",
    "    letter_to_index = {'a': 0, 'b': 1, 'c': 2, 'd': 3, 'e': 4, 'f': 5, 'g': 6, 'h': 7}\n",
    "    \n",
    "    letter = notation[0].lower()  # Берем первую букву и приводим к нижнему регистру\n",
    "    number = int(notation[1])   # Преобразуем число в индекс, но без сдвига\n",
    "\n",
    "    # Преобразуем строку (например, 1 -> 7, 2 -> 6, ... 8 -> 0)\n",
    "    return (letter_to_index[letter], 8 - number)  # Инвертируем строку"
   ]
  },
  {
   "cell_type": "code",
   "execution_count": 4,
   "id": "e46c08ed-e8ae-4205-ba35-f1ff4010a7f0",
   "metadata": {},
   "outputs": [],
   "source": [
    "def check_check(move_list, x_black, y_black):\n",
    "    \"\"\"\n",
    "    Проверяет, находится ли король под шахом.\n",
    "    Параметры:\n",
    "    move_list - список потенциальных клеток для удара (может содержать кортежи или списки).\n",
    "    x_black, y_black - координаты черного короля.\n",
    "    \n",
    "    Возвращает:\n",
    "    True/False в зависимости от того, находится ли король под шахом.\n",
    "    \"\"\"\n",
    "    # Преобразуем каждый элемент move_list в кортеж, если это список\n",
    "    normalized_moves = [tuple(move) if isinstance(move, list) else move for move in move_list]\n",
    "    return (x_black, y_black) in normalized_moves"
   ]
  },
  {
   "cell_type": "code",
   "execution_count": 5,
   "id": "533fbb61-2c4f-4978-91ce-f2d0cc8b5356",
   "metadata": {},
   "outputs": [],
   "source": [
    "def knight_move(x_white, y_white):\n",
    "    \"\"\"\n",
    "    Функция формирования списка клеток, куда может попасть конь.\n",
    "    Параметры: \n",
    "    x_white, y_white - стартовые координаты коня.\n",
    "    Возвращает:\n",
    "    new_knight_moves - список клеток, куда может пойти конь.\n",
    "    \"\"\"\n",
    "    knight_moves = [(2, 1), (1, 2), (-1, 2), (-2, 1), (-2, -1), (-1, -2), (1, -2), (2, -1)]\n",
    "    \n",
    "    new_knight_moves = []\n",
    "\n",
    "    for dx, dy in knight_moves: \n",
    "        new_x, new_y = x_white + dx, y_white + dy  \n",
    "        if is_valid_move(new_x, new_y):  # Проверка границ\n",
    "            new_knight_moves.append([new_x, new_y])  \n",
    "    return new_knight_moves"
   ]
  },
  {
   "cell_type": "code",
   "execution_count": 6,
   "id": "afc24e6e-02b0-45da-a1db-b857f3ccd051",
   "metadata": {},
   "outputs": [],
   "source": [
    "def check_next_move(new_knight_moves, x_black, y_black):\n",
    "    \"\"\"\n",
    "    Функция для проверки возможности шаха на следующем ходу.\n",
    "    Параметры:\n",
    "    new_knight_moves - список возможных ходов для коня.\n",
    "    x_black, y_black - координаты черного короля.\n",
    "    \"\"\"\n",
    "    count_check = 0\n",
    "    for item in new_knight_moves:\n",
    "        knight_moves = knight_move(item[0], item[1])\n",
    "        if check_check(knight_moves, x_black, y_black):  # Проверяем, не попадет ли ход в шах\n",
    "            count_check += 1\n",
    "    if count_check > 0:\n",
    "        display(HTML(\"<p style='color:red;'>В результате хода возможен шах черному королю</p>\"))\n",
    "    else:\n",
    "        display(HTML(\"<p style='color:green;'>Нет шаха черному королю после следующего хода коня</p>\"))\n",
    "\n"
   ]
  },
  {
   "cell_type": "code",
   "execution_count": 7,
   "id": "da3a1eaf-c76d-44bc-bdcd-c810090c6481",
   "metadata": {},
   "outputs": [],
   "source": [
    "def next_move(new_knight_moves):\n",
    "\n",
    "    \"\"\"\n",
    "    Функция для расчета следующего хода.\n",
    "    Параметры:\n",
    "    new_knight_moves - список возможных ходов для коня.\n",
    "    Возвращает:\n",
    "    x_white, y_white новые координаты фигуры\n",
    "    \"\"\"\n",
    "\n",
    "    input_white_coord = input(\"Введите координаты хода белого коня (например, e4 или A1): \")\n",
    "    x_white, y_white = chess_notation_to_index(input_white_coord)\n",
    "    \n",
    "\n",
    "    # Проверка на корректность хода\n",
    "    while [x_white, y_white] not in new_knight_moves:\n",
    "        print('Так конь не ходит. Попробуйте снова.')\n",
    "        input_white_coord = input(\"Введите координаты хода белого коня (например, e4 или A1): \")\n",
    "        x_white, y_white = chess_notation_to_index(input_white_coord)\n",
    "\n",
    "    return x_white, y_white\n",
    "    "
   ]
  },
  {
   "cell_type": "code",
   "execution_count": 8,
   "id": "11b99b4f-b487-4436-b55f-3729297ccf14",
   "metadata": {},
   "outputs": [],
   "source": [
    "def start_initialization(selected_figure):\n",
    "\n",
    "    \"\"\"\n",
    "    Функция для инициализации фигур.\n",
    "    Параметры:\n",
    "    selected_figure - выбранная фигура\n",
    "    Возвращает:\n",
    "    x_white, y_white, x_black, y_black координаты фигур\n",
    "    \"\"\"\n",
    "\n",
    "    x_white = x_black = 0\n",
    "    y_white = y_black = 1  # Пример начальных позиций\n",
    "\n",
    "    if selected_figure == \"конь\":\n",
    "        selected_figure = \"коня\"\n",
    "    else:\n",
    "        selected_figure = \"ферзя\"\n",
    "\n",
    "    while x_white == x_black and y_white == y_black:\n",
    "        input_black_coord = input(\"Введите положение черного короля (например, e4 или A1): \")\n",
    "        x_black, y_black = chess_notation_to_index(input_black_coord)\n",
    "\n",
    "        input_white_coord = input(f\"Введите положение белого {selected_figure} (например, e4 или A1): \")\n",
    "        x_white, y_white = chess_notation_to_index(input_white_coord)\n",
    "            \n",
    "    return x_white, y_white, x_black, y_black"
   ]
  },
  {
   "cell_type": "code",
   "execution_count": 9,
   "id": "0fa36965-c43b-4312-b03a-7f40dc918d10",
   "metadata": {},
   "outputs": [],
   "source": [
    "def queen_move(x_white, y_white):\n",
    "    \"\"\"\n",
    "    Формирование списка клеток, куда может пойти ферзь.\n",
    "    \n",
    "    Параметры:\n",
    "    x_white, y_white - стартовые координаты ферзя.\n",
    "    \n",
    "    Возвращает:\n",
    "    new_queen_moves - список клеток, куда может пойти ферзь.\n",
    "    \"\"\"\n",
    "    new_queen_moves = []\n",
    "\n",
    "    # Горизонтальные и вертикальные направления\n",
    "    for i in range(8):\n",
    "        if i != y_white:\n",
    "            new_queen_moves.append((x_white, i))  # Горизонтальные ходы\n",
    "    \n",
    "        if i != x_white:\n",
    "            new_queen_moves.append((i, y_white))  # Вертикальные ходы\n",
    "\n",
    "\n",
    "    # Диагональные направления\n",
    "    for dx, dy in [(-1, -1), (-1, 1), (1, -1), (1, 1)]:\n",
    "        nx, ny = x_white + dx, y_white + dy\n",
    "        while 0 <= nx < 8 and 0 <= ny < 8:\n",
    "            new_queen_moves.append((nx, ny))\n",
    "\n",
    "            nx += dx\n",
    "            ny += dy\n",
    "\n",
    "    return new_queen_moves"
   ]
  },
  {
   "cell_type": "code",
   "execution_count": 10,
   "id": "e8e4fd30-a518-4d7c-9292-86ef51efdeb9",
   "metadata": {},
   "outputs": [],
   "source": [
    "def check_next_queen_move(new_queen_moves, x_black, y_black):\n",
    "    \"\"\"\n",
    "    Проверка возможности шаха после хода ферзя.\n",
    "    \n",
    "    Параметры:\n",
    "    new_queen_moves - список возможных ходов для ферзя.\n",
    "    x_black, y_black - координаты черного короля.\n",
    "    \"\"\"\n",
    "    count_check = 0\n",
    "    for move in new_queen_moves:\n",
    "        next_moves = queen_move(move[0], move[1])\n",
    "        if check_check(next_moves, x_black, y_black):  # Проверяем возможность шаха\n",
    "            count_check += 1\n",
    "    if count_check > 0:\n",
    "        display(HTML(\"<p style='color:red;'>В результате хода возможен шах черному королю</p>\"))\n",
    "    else:\n",
    "        display(HTML(\"<p style='color:green;'>Нет шаха черному королю после следующего хода ферзя</p>\"))\n"
   ]
  },
  {
   "cell_type": "code",
   "execution_count": 11,
   "id": "b255edb1-5a44-40cf-af93-41d47cda5d29",
   "metadata": {},
   "outputs": [],
   "source": [
    "def next_queen_move(new_queen_moves):\n",
    "\n",
    "    \"\"\"\n",
    "    Функция для расчета следующего хода.\n",
    "    Параметры:\n",
    "    new_queen_moves - список возможных ходов для ферзя.\n",
    "    Возвращает:\n",
    "    x_white, y_white новые координаты фигуры\n",
    "    \"\"\"\n",
    "\n",
    "    input_white_coord = input(\"Введите координаты хода белого ферзя (например, e4 или A1): \")\n",
    "    x_white, y_white = chess_notation_to_index(input_white_coord)\n",
    "    \n",
    "\n",
    "    # Проверка на корректность хода\n",
    "    while (x_white, y_white) not in new_queen_moves:\n",
    "        print(f'x_white, y_white {x_white}{y_white}')\n",
    "        print('Так ферзь не ходит. Попробуйте снова.')\n",
    "        input_white_coord = input(\"Введите координаты хода белого ферзя (например, e4 или A1): \")\n",
    "        x_white, y_white = chess_notation_to_index(input_white_coord)\n",
    "\n",
    "    return x_white, y_white\n",
    "    "
   ]
  },
  {
   "cell_type": "code",
   "execution_count": 12,
   "id": "206da9ed-e690-443f-a086-7fa9a9109ac1",
   "metadata": {},
   "outputs": [],
   "source": [
    "def chess():\n",
    "    letter_to_index = {'a': 0, 'b': 1, 'c': 2, 'd': 3, 'e': 4, 'f': 5, 'g': 6, 'h': 7}\n",
    "    \n",
    "    selected_figure = input(\"Введите фигуру (конь или ферзь): \").lower()\n",
    "\n",
    "    while selected_figure != \"конь\" and selected_figure != \"ферзь\":\n",
    "        print('Такой фигуры нет')\n",
    "        selected_figure = input(\"Введите фигуру (конь или ферзь): \").lower()\n",
    "\n",
    "    print(f\"Вы выбрали фигуру: {selected_figure}\")\n",
    "    \n",
    "    # Логика для выбранной фигуры\n",
    "    if selected_figure.lower() == \"конь\":\n",
    "        \n",
    "        x_white, y_white, x_black, y_black = start_initialization(selected_figure.lower())\n",
    "\n",
    "        initial_position = [(x_black, y_black, '♚'), (x_white, y_white, '♘')]\n",
    "        draw_chessboard(initial_position)\n",
    "        new_knight_moves = knight_move(x_white, y_white)\n",
    "\n",
    "        print(f'new_knight_moves {new_knight_moves}')\n",
    "\n",
    "        if check_check(new_knight_moves, x_black, y_black):\n",
    "            display(HTML(\"<p style='color:red;'>Объявлен шах черному королю</p>\"))\n",
    "        else:\n",
    "            check_next_move(new_knight_moves, x_black, y_black)\n",
    "            input_turn_or_exit = input(\"Введите 'ход' для продолжения или 'выход' для завершения: \")\n",
    "            \n",
    "            while input_turn_or_exit.lower() != 'выход':\n",
    "                \n",
    "                x_white, y_white = next_move(new_knight_moves)\n",
    "                initial_position = [(x_black, y_black, '♚'), (x_white, y_white, '♘')]\n",
    "                draw_chessboard(initial_position)\n",
    "\n",
    "                new_knight_moves = knight_move(x_white, y_white)\n",
    "                \n",
    "                if check_check(new_knight_moves, x_black, y_black):\n",
    "                    display(HTML(\"<p style='color:red;'>Объявлен шах черному королю</p>\"))\n",
    "                input_turn_or_exit = input(\"Введите 'ход' для продолжения или 'выход' для завершения: \")\n",
    "                if input_turn_or_exit == 'выход':\n",
    "                    display(HTML(\"<p style='color:red;'>Завершаем игру</p>\"))\n",
    "                    break  # Прерывание цикла\n",
    "                    \n",
    "    if selected_figure.lower() == \"ферзь\":\n",
    "\n",
    "        x_white, y_white, x_black, y_black = start_initialization(selected_figure.lower())\n",
    "\n",
    "        initial_position = [(x_black, y_black, '♚'), (x_white, y_white, '♕')]\n",
    "        draw_chessboard(initial_position)\n",
    "\n",
    "        new_queen_moves = queen_move(x_white, y_white)\n",
    "        new_queen_moves.sort()\n",
    "\n",
    "        print(f'new_queen_moves {new_queen_moves}')\n",
    "\n",
    "        if check_check(new_queen_moves, x_black, y_black):\n",
    "            display(HTML(\"<p style='color:red;'>Объявлен шах черному королю</p>\"))\n",
    "        else:\n",
    "\n",
    "            check_next_queen_move(new_queen_moves, x_black, y_black)\n",
    "            input_turn_or_exit = input(\"Введите 'ход' для продолжения или 'выход' для завершения: \")\n",
    "            \n",
    "            while input_turn_or_exit.lower() != 'выход':\n",
    "                \n",
    "                x_white, y_white = next_queen_move(new_queen_moves)\n",
    "                initial_position = [(x_black, y_black, '♚'), (x_white, y_white, '♕')]\n",
    "                draw_chessboard(initial_position)\n",
    "\n",
    "                new_queen_moves = queen_move(x_white, y_white)\n",
    "                if check_check(new_queen_moves, x_black, y_black):\n",
    "                     display(HTML(\"<p style='color:red;'>Объявлен шах черному королю</p>\"))\n",
    "                input_turn_or_exit = input(\"Введите 'ход' для продолжения или 'выход' для завершения: \")\n",
    "                if input_turn_or_exit == 'выход':\n",
    "                    print(\"Завершаем игру.\")\n",
    "                    break  # Прерывание цикла\n",
    "\n",
    "        "
   ]
  },
  {
   "cell_type": "code",
   "execution_count": 13,
   "id": "2297de03-0cfb-440d-bf91-586d1617b43d",
   "metadata": {},
   "outputs": [
    {
     "name": "stdin",
     "output_type": "stream",
     "text": [
      "Введите фигуру (конь или ферзь):  конь\n"
     ]
    },
    {
     "name": "stdout",
     "output_type": "stream",
     "text": [
      "Вы выбрали фигуру: конь\n"
     ]
    },
    {
     "name": "stdin",
     "output_type": "stream",
     "text": [
      "Введите положение черного короля (например, e4 или A1):  f7\n",
      "Введите положение белого коня (например, e4 или A1):  c4\n"
     ]
    },
    {
     "data": {
      "image/png": "[encoded data removed]",
      "text/plain": [
       "<Figure size 600x600 with 1 Axes>"
      ]
     },
     "metadata": {},
     "output_type": "display_data"
    },
    {
     "name": "stdout",
     "output_type": "stream",
     "text": [
      "new_knight_moves [[4, 5], [3, 6], [1, 6], [0, 5], [0, 3], [1, 2], [3, 2], [4, 3]]\n"
     ]
    },
    {
     "data": {
      "text/html": [
       "<p style='color:red;'>В результате хода возможен шах черному королю</p>"
      ],
      "text/plain": [
       "<IPython.core.display.HTML object>"
      ]
     },
     "metadata": {},
     "output_type": "display_data"
    },
    {
     "name": "stdin",
     "output_type": "stream",
     "text": [
      "Введите 'ход' для продолжения или 'выход' для завершения:  d6\n",
      "Введите координаты хода белого коня (например, e4 или A1):  d6\n"
     ]
    },
    {
     "data": {
      "image/png": "[encoded data removed]",
      "text/plain": [
       "<Figure size 600x600 with 1 Axes>"
      ]
     },
     "metadata": {},
     "output_type": "display_data"
    },
    {
     "data": {
      "text/html": [
       "<p style='color:red;'>Объявлен шах черному королю</p>"
      ],
      "text/plain": [
       "<IPython.core.display.HTML object>"
      ]
     },
     "metadata": {},
     "output_type": "display_data"
    },
    {
     "name": "stdin",
     "output_type": "stream",
     "text": [
      "Введите 'ход' для продолжения или 'выход' для завершения:  выход\n"
     ]
    },
    {
     "data": {
      "text/html": [
       "<p style='color:red;'>Завершаем игру</p>"
      ],
      "text/plain": [
       "<IPython.core.display.HTML object>"
      ]
     },
     "metadata": {},
     "output_type": "display_data"
    }
   ],
   "source": [
    "chess()"
   ]
  },
  {
   "cell_type": "code",
   "execution_count": null,
   "id": "9c47df39-9e04-4c49-8512-1879d35eb080",
   "metadata": {},
   "outputs": [
    {
     "name": "stdin",
     "output_type": "stream",
     "text": [
      "Введите фигуру (конь или ферзь):  ферзь\n"
     ]
    },
    {
     "name": "stdout",
     "output_type": "stream",
     "text": [
      "Вы выбрали фигуру: ферзь\n"
     ]
    },
    {
     "name": "stdin",
     "output_type": "stream",
     "text": [
      "Введите положение черного короля (например, e4 или A1):  g8\n",
      "Введите положение белого ферзя (например, e4 или A1):  b1\n"
     ]
    },
    {
     "data": {
      "image/png": "[encoded data removed]",
      "text/plain": [
       "<Figure size 600x600 with 1 Axes>"
      ]
     },
     "metadata": {},
     "output_type": "display_data"
    },
    {
     "name": "stdout",
     "output_type": "stream",
     "text": [
      "new_queen_moves [(0, 6), (0, 7), (1, 0), (1, 1), (1, 2), (1, 3), (1, 4), (1, 5), (1, 6), (2, 6), (2, 7), (3, 5), (3, 7), (4, 4), (4, 7), (5, 3), (5, 7), (6, 2), (6, 7), (7, 1), (7, 7)]\n"
     ]
    },
    {
     "data": {
      "text/html": [
       "<p style='color:red;'>В результате хода возможен шах черному королю</p>"
      ],
      "text/plain": [
       "<IPython.core.display.HTML object>"
      ]
     },
     "metadata": {},
     "output_type": "display_data"
    },
    {
     "name": "stdin",
     "output_type": "stream",
     "text": [
      "Введите 'ход' для продолжения или 'выход' для завершения:  ход\n",
      "Введите координаты хода белого ферзя (например, e4 или A1):  g1\n"
     ]
    },
    {
     "data": {
      "image/png": "[encoded data removed]",
      "text/plain": [
       "<Figure size 600x600 with 1 Axes>"
      ]
     },
     "metadata": {},
     "output_type": "display_data"
    },
    {
     "data": {
      "text/html": [
       "<p style='color:red;'>Объявлен шах черному королю</p>"
      ],
      "text/plain": [
       "<IPython.core.display.HTML object>"
      ]
     },
     "metadata": {},
     "output_type": "display_data"
    }
   ],
   "source": [
    "chess()"
   ]
  },
  {
   "cell_type": "code",
   "execution_count": null,
   "id": "90331278-2605-4f6c-abf5-2166ab301bad",
   "metadata": {},
   "outputs": [],
   "source": []
  }
 ],
 "metadata": {
  "kernelspec": {
   "display_name": "Python 3 (ipykernel)",
   "language": "python",
   "name": "python3"
  },
  "language_info": {
   "codemirror_mode": {
    "name": "ipython",
    "version": 3
   },
   "file_extension": ".py",
   "mimetype": "text/x-python",
   "name": "python",
   "nbconvert_exporter": "python",
   "pygments_lexer": "ipython3",
   "version": "3.12.8"
  }
 },
 "nbformat": 4,
 "nbformat_minor": 5
}
