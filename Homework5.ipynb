{
 "cells": [
  {
   "cell_type": "markdown",
   "id": "c0679fc1-230a-4f19-87c2-af566cd212ed",
   "metadata": {},
   "source": [
    "# Задача 1. Напишите функцию для разделения строки и преобразования ее в список слов. Пример \"Robin Singh\" ==> [\"Robin\", \"Singh\"]"
   ]
  },
  {
   "cell_type": "code",
   "execution_count": 24,
   "id": "06e5d8ca-3dd5-4880-bc74-7db90fa1f548",
   "metadata": {},
   "outputs": [],
   "source": [
    "# Вариант через map\n",
    "from typing import List\n",
    "\n",
    "def split_str(input_str: str)-> List[str]:\n",
    "\n",
    "    symbols_to_replace = set(\"!-=?.\")  # Символы, которые нужно вначале почистить из строки чтобы она корректно разбивалась на список\n",
    "\n",
    "    # Используем map для замены символов на пробел\n",
    "    processed_text = (''.join(map(lambda char: ' ' if char in symbols_to_replace else char, input_str))).split()\n",
    "\n",
    "    return processed_text"
   ]
  },
  {
   "cell_type": "code",
   "execution_count": 25,
   "id": "09676e7e-cb8d-415b-bbe5-411182577ddc",
   "metadata": {},
   "outputs": [],
   "source": [
    "# Вариант через re\n",
    "\n",
    "import re\n",
    "from typing import List\n",
    "\n",
    "\n",
    "def split_re_str(input_str: str)-> List[str]:\n",
    "\n",
    "    return re.sub(r\"[!-=?.]\", \" \", input_str).split()  # Заменяем нужные символы на пробел и разбиваем на слова\n"
   ]
  },
  {
   "cell_type": "code",
   "execution_count": 26,
   "id": "5b156ded-11ff-46ed-837a-e6724cfdb3e1",
   "metadata": {},
   "outputs": [
    {
     "name": "stdout",
     "output_type": "stream",
     "text": [
      " Функция split_str ['Привет', 'Как', 'дела', 'Хорошо', 'прекрасно']\n",
      " Функция split_re_str ['Привет', 'Как', 'дела', 'Хорошо', 'прекрасно']\n"
     ]
    }
   ],
   "source": [
    "text = \"Привет! Как дела? Хорошо - прекрасно.\"\n",
    "print(f' Функция split_str {split_str(text)}')\n",
    "print(f' Функция split_re_str {split_re_str(text)}')\n"
   ]
  },
  {
   "cell_type": "markdown",
   "id": "08afda97-fcf4-43ae-928e-e0ea38bf8a50",
   "metadata": {},
   "source": [
    "# Задача 2. Натан любит кататься на велосипеде. Поскольку Натан знает, как важно избегать обезвоживания, он выпивает 0,5 литра воды за час езды на велосипеде. Вам дано время в часах, и вам нужно вернуть количество литров, которое выпьет Натан, округленное до наименьшего значения. Пример time = 3 ----> litres = 1"
   ]
  },
  {
   "cell_type": "code",
   "execution_count": 21,
   "id": "9cd6e4eb-924e-4846-97d0-12ffebbb595a",
   "metadata": {},
   "outputs": [],
   "source": [
    "from functools import reduce\n",
    "from typing import Union, List\n",
    "\n",
    "\n",
    "# Усилим задачу чтобы использовать map и reduce\n",
    "def drink(time_hours: Union[int, float, List[Union[int, float]]]) -> int:\n",
    "    \"\"\"\n",
    "    Рассчитывает количество литров воды, которое выпьет Натан, \n",
    "    исходя из времени поездки в часах. На каждые 2 часа требуется 1 литр.\n",
    "    Параметры:\n",
    "    time_hours: Время поездки (целое число, дробное число или список таких чисел)\n",
    "    Возвращает: Количество литров воды\n",
    "    \"\"\"\n",
    "    # Преобразуем входное значение в список\n",
    "    if isinstance(time_hours, (int, float)):\n",
    "        time_hours = [time_hours]  # Оборачиваем в список\n",
    "        sum_time = sum(time_hours)\n",
    "\n",
    "    # Преобразование каждого времени в список с количеством единиц, равным целой части времени\n",
    "    hourly_lists = list(map(lambda t: [1] * int(t), time_hours))\n",
    "    \n",
    "    # Объединение всех списков в один с использованием reduce\n",
    "    all_hours = reduce(lambda x, y: x + y, hourly_lists, [])\n",
    "    \n",
    "    # Количество литров воды (0.5 литра за каждый час)\n",
    "    litres = len(all_hours) // 2\n",
    "    \n",
    "    return litres,sum_time"
   ]
  },
  {
   "cell_type": "code",
   "execution_count": 23,
   "id": "92e4f6a0-06b5-4720-89f6-33bba2262b25",
   "metadata": {},
   "outputs": [
    {
     "name": "stdout",
     "output_type": "stream",
     "text": [
      "При поездках 5 часов, объем выпитой воды будет 2 литра(ов)\n"
     ]
    }
   ],
   "source": [
    "l, h = drink(5)\n",
    "print(f'При поездках {h} часов, объем выпитой воды будет {l} литра(ов)')"
   ]
  },
  {
   "cell_type": "markdown",
   "id": "de64baae-e91d-4d72-98c3-d0f7243e88d5",
   "metadata": {},
   "source": [
    "# Но проще было сделать litres = int(time * 0.5)"
   ]
  },
  {
   "cell_type": "markdown",
   "id": "1abb6b6d-617c-46b3-a640-9a6ae5bcfda9",
   "metadata": {},
   "source": [
    "# Задача 3.Создайте функцию, которая возвращает список целых чисел от n до 1, где n>0. Пример: n=5-->[5,4,3,2,1]"
   ]
  },
  {
   "cell_type": "code",
   "execution_count": 30,
   "id": "09e7a97e-f7aa-42d1-9788-b9b83e184d02",
   "metadata": {},
   "outputs": [],
   "source": [
    "from typing import List\n",
    "\n",
    "def int_to_list(number: int)-> List[int]:\n",
    "    \n",
    "    \"\"\"\n",
    "    Функция возвращает список целых чисел от number до 1, где number > 0.\n",
    "    Параметры: \n",
    "    number Положительное целое число.\n",
    "    Возвращает: Список целых чисел от number до 1.\n",
    "    \"\"\"\n",
    "    if number <= 0:\n",
    "        raise ValueError(\"А-та-та, по условию number>0\")\n",
    "    \n",
    "    return list(map(int, range(number, 0, -1)))\n",
    "\n",
    "\n",
    "    return list_numbers\n",
    "    "
   ]
  },
  {
   "cell_type": "code",
   "execution_count": 31,
   "id": "bf1748fa-78ad-4eb3-84d4-73a81acfc34e",
   "metadata": {},
   "outputs": [
    {
     "name": "stdout",
     "output_type": "stream",
     "text": [
      "[7, 6, 5, 4, 3, 2, 1]\n"
     ]
    }
   ],
   "source": [
    "print(int_to_list(7))"
   ]
  },
  {
   "cell_type": "markdown",
   "id": "99136b14-95c8-412f-838a-a87cb722a9d8",
   "metadata": {},
   "source": [
    "# Задача 4. Учитывая год, верните столетие, в котором он находится.Пример 1705 --> 18, 1900 --> 19, 1601 --> 17"
   ]
  },
  {
   "cell_type": "code",
   "execution_count": 48,
   "id": "c4de70f5-89c3-49cb-a56c-039fba16d9e7",
   "metadata": {},
   "outputs": [],
   "source": [
    "from functools import reduce\n",
    "from typing import Union\n",
    "\n",
    "\n",
    "def year_to_century(year: Union[int, str]) -> int:\n",
    "    \"\"\"Функция пределяет столетие по заданному году.\n",
    "    Параметры: \n",
    "    year - год (число или строка).\n",
    "    Возвращает: Век (int).\n",
    "    \"\"\"\n",
    "    # Преобразуем год в список его цифр\n",
    "    digits = list(map(int, str(year)))\n",
    "    \n",
    "    # Получаем сумму цифр для определения типа столетия\n",
    "    digit_sum = reduce(lambda x, y: x + y, digits)\n",
    "    \n",
    "    # Рассчитываем столетие с учетом деления и остатка\n",
    "    century = year // 100 + (1 if year % 100 != 0 else 0)\n",
    "    \n",
    "    return century, year"
   ]
  },
  {
   "cell_type": "code",
   "execution_count": 49,
   "id": "11c2f402-b796-4864-851c-7283315edc5e",
   "metadata": {},
   "outputs": [
    {
     "name": "stdout",
     "output_type": "stream",
     "text": [
      "Год: 1916, Столетие: 20\n"
     ]
    }
   ],
   "source": [
    "century, year = year_to_century(1916)  # Получаем оба значения\n",
    "print(f\"Год: {year}, Столетие: {century}\")"
   ]
  },
  {
   "cell_type": "code",
   "execution_count": null,
   "id": "fc5a2296-41a0-470f-ba23-5b8cc024741d",
   "metadata": {},
   "outputs": [],
   "source": [
    "# Но если не извращаться, то гораздо проще просто использовать тоже самое // 100\n",
    "\n",
    "def year_to_century(year: Union[int, str]) -> int:\n",
    "    \"\"\"Функция пределяет столетие по заданному году.\n",
    "    Параметры: \n",
    "    year - год (число или строка).\n",
    "    Возвращает: Век (int).\n",
    "    \"\"\"\n",
    "    year = int(year)  # Убедимся, что year — целое число (если нет то или будет или ошибка)\n",
    "    \n",
    "    # Столетие — целое число от деления + корректировка для неполного века\n",
    "    century = year // 100 + (1 if year % 100 != 0 else 0)\n",
    "    return century"
   ]
  },
  {
   "cell_type": "markdown",
   "id": "8bfaa50c-03be-4873-a259-5464ad7f50b7",
   "metadata": {},
   "source": [
    "# Задание 5. Учитывая случайное неотрицательное число, вам необходимо вернуть цифры этого числа в массиве в обратном порядке. 35231 => [1,3,2,5,3]"
   ]
  },
  {
   "cell_type": "code",
   "execution_count": 54,
   "id": "91f89176-3215-47ab-ac49-797ebcecede9",
   "metadata": {},
   "outputs": [],
   "source": [
    "from typing import List\n",
    "\n",
    "def int_to_revers_list(number: int)-> List[int]:\n",
    "    \"\"\"\n",
    "    Функция возвращает список целых чисел от number до 1, где number > 0.\n",
    "    Параметры: \n",
    "    number Положительное целое число.\n",
    "    Возвращает: Список целых чисел от number до 1.\n",
    "    \"\"\"\n",
    "    if number <= 0:\n",
    "        raise ValueError(\"А-та-та, по условию number>0\")\n",
    "\n",
    "    number_list = list(str(number)) # преобразуем число в список символов (предварительно преобразовав в строку)\n",
    "    \n",
    "    reversed_list = list(map(lambda i: number_list[-i-1], range(len(number_list)))) # создаем новый список в обратном порядке\n",
    "\n",
    "    return reversed_list\n",
    " "
   ]
  },
  {
   "cell_type": "code",
   "execution_count": 55,
   "id": "bd65ab8e-0c90-4f73-9c0a-3a8519ff0d83",
   "metadata": {},
   "outputs": [
    {
     "name": "stdout",
     "output_type": "stream",
     "text": [
      "['1', '3', '2', '5', '3']\n"
     ]
    }
   ],
   "source": [
    "print(int_to_revers_list(35231))"
   ]
  },
  {
   "cell_type": "markdown",
   "id": "9e350131-c978-4e86-86c0-d01962a6e5e8",
   "metadata": {},
   "source": [
    "# Задание 6.Получить квадратные матрицы порядка n (через список как на занятии), элементами которых являются заданные действительные числа 1, 2, ..., n*n, расположенные в ней по схемам, которые приведены на рисунках (там"
   ]
  },
  {
   "cell_type": "markdown",
   "id": "0fc7f854-0223-454a-a931-89893de27a63",
   "metadata": {},
   "source": [
    "См. файл Lesson5"
   ]
  }
 ],
 "metadata": {
  "kernelspec": {
   "display_name": "Python 3 (ipykernel)",
   "language": "python",
   "name": "python3"
  },
  "language_info": {
   "codemirror_mode": {
    "name": "ipython",
    "version": 3
   },
   "file_extension": ".py",
   "mimetype": "text/x-python",
   "name": "python",
   "nbconvert_exporter": "python",
   "pygments_lexer": "ipython3",
   "version": "3.12.8"
  }
 },
 "nbformat": 4,
 "nbformat_minor": 5
}
