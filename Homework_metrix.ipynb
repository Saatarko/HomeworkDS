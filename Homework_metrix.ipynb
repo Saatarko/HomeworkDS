{
 "cells": [
  {
   "cell_type": "code",
   "execution_count": 9,
   "id": "097cc812-3bee-4a1e-aa7e-0743943bfca3",
   "metadata": {},
   "outputs": [],
   "source": [
    "from typing import Dict, List\n",
    "import math\n",
    "import numpy as np\n",
    "from sklearn.metrics import mean_absolute_error, mean_squared_error, accuracy_score, f1_score"
   ]
  },
  {
   "cell_type": "markdown",
   "id": "65c6c7bb-457a-48af-9ac5-6ee3d3f2296a",
   "metadata": {},
   "source": [
    "# Error functions"
   ]
  },
  {
   "cell_type": "code",
   "execution_count": 10,
   "id": "f2d76324-2d7e-438e-8587-bd105776d665",
   "metadata": {},
   "outputs": [],
   "source": [
    "class MY_Len_Exception(Exception):\n",
    "\n",
    "    \"\"\"\n",
    "    My error class\n",
    "    Parameters:\n",
    "    message - error message\n",
    "    \"\"\"\n",
    "    \n",
    "    def __init__(self, message=\"Ошибка\"):\n",
    "        super().__init__(message)\n",
    "\n",
    "def mae(model_data: List[float], ideal_data: List[float]) -> float:\n",
    "    \n",
    "    \"\"\"\n",
    "    MAE (Mean Absolute Error) - mean absolute error.\n",
    "    \n",
    "    Parameters:\n",
    "    model_data - list of values ​​of the predicted model.\n",
    "    ideal_data - list of true values.\n",
    "    \n",
    "    Returns:\n",
    "    MAE value.\n",
    "    \"\"\"\n",
    "    \n",
    "    if len(model_data) != len(ideal_data):\n",
    "        raise MY_Len_Exception(\"Размер данных модели и правильных данных не совпадают\")\n",
    "    \n",
    "    n = len(model_data)\n",
    "    error_sum = sum(abs(ideal_data[i] - model_data[i]) for i in range(n))\n",
    "    \n",
    "    return error_sum / n\n"
   ]
  },
  {
   "cell_type": "code",
   "execution_count": 21,
   "id": "88e75495-6ff6-46d9-ae20-614f9cf863d6",
   "metadata": {},
   "outputs": [],
   "source": [
    "def mse(model_data: List[float], ideal_data: List[float]) -> float:\n",
    "    \n",
    "    \"\"\"\n",
    "    MSE (Mean Squared Error) - mean square error.\n",
    "    \n",
    "    Parameters:\n",
    "    model_data - list of values of the predicted model.\n",
    "    ideal_data - list of true values.\n",
    "    \n",
    "    Returns:\n",
    "    MSE value.\n",
    "    \"\"\"\n",
    "    \n",
    "    if len(model_data) != len(ideal_data):\n",
    "        raise MY_Len_Exception()\n",
    "    \n",
    "    n = len(model_data)\n",
    "    error_sum = sum(pow((ideal_data[i] - model_data[i]),2) for i in range(n))\n",
    "    \n",
    "    return error_sum / n"
   ]
  },
  {
   "cell_type": "code",
   "execution_count": 22,
   "id": "4e0f4345-7ba8-42e5-a2b8-dcdfd8e5921e",
   "metadata": {},
   "outputs": [],
   "source": [
    "def accuracy_manual(model_data: List[any], true_data: List[any])-> float:\n",
    "    \n",
    "    \"\"\"\n",
    "    accuracy - Classification accuracy.\n",
    "    \n",
    "    Parameters:\n",
    "    model_data - list of values of the predicted model.\n",
    "    true_data - list of true values.\n",
    "    \n",
    "    Returns:\n",
    "    The accuracy value.\n",
    "    \"\"\"\n",
    "    \n",
    "    if len(model_data) != len(true_data):\n",
    "        raise MY_Len_Exception(\"Размер данных модели и правильных данных не совпадают\")\n",
    "    \n",
    "    n = len(model_data) # общее кол-во объектов\n",
    "    accuracy = sum(1 if model_data[i] == true_data[i] else 0 for i in range(n)) / n  \n",
    "    \n",
    "    return accuracy"
   ]
  },
  {
   "cell_type": "code",
   "execution_count": 23,
   "id": "beb757ab-141b-490f-89e1-130e0b9a2c18",
   "metadata": {},
   "outputs": [],
   "source": [
    "def f1_score_manual(model_data: List[int], true_data: List[int]) -> tuple:\n",
    "    \n",
    "    \"\"\"\n",
    "    F1-measure (F1-score) - classification quality metric.\n",
    "    \n",
    "    Parameters:\n",
    "    model_data - list of predicted model values (0 and 1).\n",
    "    true_data - list of true values (0 and 1).\n",
    "    \n",
    "    Returns:\n",
    "    (F1, Precision, Recall)\n",
    "    \"\"\"\n",
    "    \n",
    "    if len(model_data) != len(true_data):\n",
    "        raise MY_Len_Exception(\"Размер данных модели и правильных данных не совпадают\")\n",
    "\n",
    "    n = len(model_data)  # Total number of objects\n",
    "    \n",
    "    # True Positives\n",
    "    TP = sum(1 for i in range(n) if model_data[i] == 1 and true_data[i] == 1) \n",
    "\n",
    "    # False positives\n",
    "    FP = sum(1 for i in range(n) if model_data[i] == 1 and true_data[i] == 0) \n",
    "\n",
    "    # False negatives\n",
    "    FN = sum(1 for i in range(n) if model_data[i] == 0 and true_data[i] == 1)  \n",
    "\n",
    "    # Check for division by zero\n",
    "    Precision = TP / (TP + FP) if (TP + FP) > 0 else 0\n",
    "    Recall = TP / (TP + FN) if (TP + FN) > 0 else 0\n",
    "    F1 = 2 * (Precision * Recall) / (Precision + Recall) if (Precision + Recall) > 0 else 0\n",
    "\n",
    "    return F1, Precision, Recall"
   ]
  },
  {
   "cell_type": "markdown",
   "id": "71b860fe-29ca-47d9-8cfa-3192bc2c6c67",
   "metadata": {},
   "source": [
    "## Calculating metrics"
   ]
  },
  {
   "cell_type": "markdown",
   "id": "a11ef4bc-42ad-49a5-a573-82860e92090d",
   "metadata": {},
   "source": [
    "### Generating data for functions"
   ]
  },
  {
   "cell_type": "code",
   "execution_count": 5,
   "id": "40bee28c-72e3-4052-99e3-dd3db5dd8a54",
   "metadata": {},
   "outputs": [
    {
     "name": "stdout",
     "output_type": "stream",
     "text": [
      "ideal_values: [24.98160475 48.02857226 39.27975767 33.94633937 16.24074562 16.23978081\n",
      " 12.32334449 44.64704583 34.04460047 38.32290311 10.82337977 48.79639409\n",
      " 43.29770563 18.49356443 17.27299869 17.33618039 22.16968972 30.99025727\n",
      " 27.27780075 21.64916561]\n",
      "model_values: [19.91744915 49.59980892 34.73963729 26.88482086 23.56898946 15.11089931\n",
      " 12.66098551 37.5233049  31.32268685 38.87751606  5.06841188 50.67488418\n",
      " 40.29451218 17.03509568 14.26446563 26.59757132 22.10220359 25.70170262\n",
      " 31.39052531 15.54494736]\n"
     ]
    }
   ],
   "source": [
    "# Generate 20 true values (ideal)\n",
    "np.random.seed(42)  # Fix the seed for reproducibility\n",
    "ideal_values = np.random.uniform(10, 50, 20)  # True values in the range 10-50\n",
    "\n",
    "# Generate predicted values with a small spread (error)\n",
    "model_values = ideal_values + np.random.normal(0, 5, 20) # Add noise (mean=0, std=5)\n",
    "\n",
    "print(f'ideal_values: {ideal_values}')\n",
    "print(f'model_values: {model_values}')"
   ]
  },
  {
   "cell_type": "markdown",
   "id": "f8f51187-b979-4326-9db6-4b93446ad0fc",
   "metadata": {},
   "source": [
    "### Calculating MAE"
   ]
  },
  {
   "cell_type": "code",
   "execution_count": 7,
   "id": "bb9d70bc-9efa-4986-921c-a5454e2a0e3b",
   "metadata": {},
   "outputs": [
    {
     "name": "stdout",
     "output_type": "stream",
     "text": [
      "mae__manual_value: 3.8685\n",
      "mae_sklearn: 3.8685\n"
     ]
    }
   ],
   "source": [
    "mae__manual_value = mae(model_data = model_values, ideal_data=ideal_values)\n",
    "print(f\"mae__manual_value: {mae__manual_value:.4f}\")\n",
    "\n",
    "mae_sklearn = mean_absolute_error(ideal_values, model_values)\n",
    "print(f\"mae_sklearn: {mae_sklearn:.4f}\")"
   ]
  },
  {
   "cell_type": "markdown",
   "id": "5509a1a6-1d62-479a-82f4-c243fb4b3e9f",
   "metadata": {},
   "source": [
    "### Calculating MSE"
   ]
  },
  {
   "cell_type": "code",
   "execution_count": 10,
   "id": "82e0dd21-8b93-45a3-924c-6fd651a28e3c",
   "metadata": {},
   "outputs": [
    {
     "name": "stdout",
     "output_type": "stream",
     "text": [
      "mse__manual_value: 21.8458\n",
      "mse_sklearn: 21.8458\n"
     ]
    }
   ],
   "source": [
    "mse__manual_value = mse(model_data = model_values, ideal_data=ideal_values)\n",
    "print(f\"mse__manual_value: {mse__manual_value:.4f}\")\n",
    "\n",
    "mse_sklearn = mean_squared_error(ideal_values, model_values)\n",
    "print(f\"mse_sklearn: {mse_sklearn:.4f}\")"
   ]
  },
  {
   "cell_type": "markdown",
   "id": "295b555f-980c-4f5a-bda1-4ab04cb55e8c",
   "metadata": {},
   "source": [
    "### Generating data for functions"
   ]
  },
  {
   "cell_type": "code",
   "execution_count": 16,
   "id": "050f5332-8858-4a71-9f98-1e450fdfc09d",
   "metadata": {},
   "outputs": [
    {
     "name": "stdout",
     "output_type": "stream",
     "text": [
      "true_values: [0 1 1 1 0 0 0 1 1 1 0 1 1 0 0 0 0 1 0 0]\n",
      "model_values: [1 0 1 1 0 1 0 0 1 1 0 1 1 0 0 0 0 1 1 0]\n"
     ]
    }
   ],
   "source": [
    "np.random.seed(42)\n",
    "true_values = np.random.choice([0, 1], size=20, p=[0.5, 0.5])  # True values\n",
    "\n",
    "# Generate labels predicted by the model (with some errors)\n",
    "model_values = true_values.copy()\n",
    "flip_indices = np.random.choice(len(true_values), size=5, replace=False)  \n",
    "model_values[flip_indices] = 1 - model_values[flip_indices]  # Change 0 to 1 and vice versa\n",
    "\n",
    "print(f'true_values: {true_values}')\n",
    "print(f'model_values: {model_values}')\n"
   ]
  },
  {
   "cell_type": "markdown",
   "id": "fd6a4848-3c23-454e-b1a4-efcbd68c91f2",
   "metadata": {},
   "source": [
    "### Calculating Accuracy"
   ]
  },
  {
   "cell_type": "code",
   "execution_count": 16,
   "id": "8a2e630d-4ec2-4dd6-b20a-7cbf32b43420",
   "metadata": {},
   "outputs": [
    {
     "name": "stdout",
     "output_type": "stream",
     "text": [
      "Accuracy: 0.7500\n",
      "accuracy_manual_value: 0.7500\n"
     ]
    }
   ],
   "source": [
    "accuracy_manual_value = accuracy_manual(model_data=y_pred, true_data=y_true)\n",
    "accuracy = accuracy_score(y_true, y_pred)\n",
    "\n",
    "print(f\"Accuracy: {accuracy:.4f}\")\n",
    "print(f\"accuracy_manual_value: {accuracy_manual_value:.4f}\")"
   ]
  },
  {
   "cell_type": "markdown",
   "id": "4fe45e2f-739e-4129-9f7f-e9aa3eafefc0",
   "metadata": {},
   "source": [
    "### F1-score"
   ]
  },
  {
   "cell_type": "code",
   "execution_count": 19,
   "id": "cd294931-c1cd-4fa5-abc7-6e51d7b2e1dd",
   "metadata": {},
   "outputs": [
    {
     "name": "stdout",
     "output_type": "stream",
     "text": [
      "F1-score: 0.7368\n",
      "f1_score_value: 0.7368 precision 0.7000 recall 0.7778\n"
     ]
    }
   ],
   "source": [
    "accuracy = accuracy_score(y_true, y_pred)\n",
    "f1 = f1_score(y_true, y_pred)\n",
    "f1_score_value, precision, recall = f1_score_manual(model_data=y_pred, true_data=y_true)\n",
    "\n",
    "print(f\"F1-score: {f1:.4f}\")\n",
    "print(f\"f1_score_value: {f1_score_value:.4f} precision {precision:.4f} recall {recall:.4f}\")"
   ]
  },
  {
   "cell_type": "code",
   "execution_count": null,
   "id": "2f1dab09-9cb7-494a-be8b-731a0c64cd97",
   "metadata": {},
   "outputs": [],
   "source": []
  },
  {
   "cell_type": "markdown",
   "id": "87e9cb77-9f53-45d0-ab47-bc41be680957",
   "metadata": {},
   "source": [
    "## Gradient Descent"
   ]
  },
  {
   "cell_type": "code",
   "execution_count": 6,
   "id": "0e408ae6-b18f-42f4-9219-2fc6cf440f70",
   "metadata": {},
   "outputs": [],
   "source": [
    "import sympy as sp\n",
    "import random\n",
    "\n",
    "def gradient_descent(func_str: str, start: tuple = None, eta: float = 0.1, lambda_decay: float = 0.01, iterations: int = 1000):\n",
    "    \"\"\"\n",
    "    Gradient descent with adaptive step and automatic start point selection.\n",
    "\n",
    "    Parameters:\n",
    "    func_str - function as a string (e.g. \"x**2 + y**2\").\n",
    "    start - initial coordinates (x, y) or (x,) for one variable. If None, it is selected automatically.\n",
    "    eta - initial learning rate.\n",
    "    lambda_decay - step decrease factor.\n",
    "    iterations - number of iterations.\n",
    "    \n",
    "    Returns:\n",
    "    Minimum coordinates found.\n",
    "    \"\"\"\n",
    "    # Define all characters in a string that look like variables\n",
    "    all_symbols = set(filter(str.isalpha, func_str))  # Select only letters\n",
    "    allowed_symbols = {\"x\", \"y\"}\n",
    "    \n",
    "   # Check that there are no extra variables in the line\n",
    "    extra_symbols = all_symbols - allowed_symbols\n",
    "    if extra_symbols:\n",
    "        raise ValueError(f\"Функция содержит недопустимые переменные: {', '.join(extra_symbols)}\")\n",
    "    \n",
    "    # Define variables (x, y or just x)\n",
    "    symbols = sorted(all_symbols & allowed_symbols)\n",
    "    if not symbols:\n",
    "        raise ValueError(\"Функция не содержит переменных (x или y).\")\n",
    "\n",
    "    vars = [sp.Symbol(var) for var in symbols]\n",
    "    f = sp.sympify(func_str)  # Convert the string to a sympy expression\n",
    "\n",
    "    # Проверяем, есть ли хотя бы одна степень выше 1\n",
    "    if all(sp.degree(f, var) <= 1 for var in vars):\n",
    "        raise MY_Len_Exception(\"Функция линейная и не имеет минимума!\")\n",
    "\n",
    "    # Partial diff\n",
    "    gradients = [sp.diff(f, var) for var in vars]\n",
    "\n",
    "    # If the starting point is not passed, we will find it\n",
    "    if start is None:\n",
    "        crit_solutions = sp.solve(gradients, vars, dict=True)\n",
    "        if crit_solutions:\n",
    "            start = tuple(crit_solutions[0][var] for var in vars)\n",
    "        else:\n",
    "            start = tuple(random.uniform(-10, 10) for _ in vars)\n",
    "\n",
    "    point = list(start)\n",
    "\n",
    "    for k in range(1, iterations + 1):  \n",
    "        grad_values = [grad.subs(dict(zip(vars, point))).evalf() for grad in gradients]\n",
    "\n",
    "        # We calculate the sum of the absolute values of the gradient\n",
    "        grad_norm = sum(abs(g) for g in grad_values)\n",
    "\n",
    "        # adaptive step\n",
    "        alpha = eta / (1 + lambda_decay * k + grad_norm)\n",
    "\n",
    "        # Updating the point\n",
    "        point = [point[i] - alpha * grad_values[i] for i in range(len(point))]\n",
    "\n",
    "    return tuple(point)\n"
   ]
  },
  {
   "cell_type": "code",
   "execution_count": 57,
   "id": "4a508033-d642-45f4-99f9-101885f89211",
   "metadata": {},
   "outputs": [
    {
     "data": {
      "text/plain": [
       "(-3.00140672583879, 1.97859555749400)"
      ]
     },
     "execution_count": 57,
     "metadata": {},
     "output_type": "execute_result"
    }
   ],
   "source": [
    "gradient_descent(\"x**3 +2*x*y +y**2\", start=(3, 5), eta=0.1, lambda_decay=0.01, iterations=100)"
   ]
  },
  {
   "cell_type": "code",
   "execution_count": 60,
   "id": "d64caf81-1fb4-4219-87fb-ba989ef06109",
   "metadata": {},
   "outputs": [
    {
     "data": {
      "text/plain": [
       "(-90.9571855963997, 3.72908027013101)"
      ]
     },
     "execution_count": 60,
     "metadata": {},
     "output_type": "execute_result"
    }
   ],
   "source": [
    "gradient_descent(\"x**3 +2*x*y +y**2\", start=(3, 5))"
   ]
  },
  {
   "cell_type": "code",
   "execution_count": 58,
   "id": "a5757a4f-317c-43ee-b087-cd2d5a99593c",
   "metadata": {},
   "outputs": [
    {
     "data": {
      "text/plain": [
       "(0, 0)"
      ]
     },
     "execution_count": 58,
     "metadata": {},
     "output_type": "execute_result"
    }
   ],
   "source": [
    "gradient_descent(\"x**3 +2*x*y +y**2\", eta=0.1, lambda_decay=0.01, iterations=100)"
   ]
  },
  {
   "cell_type": "code",
   "execution_count": 61,
   "id": "e6b90f66-7cd8-4161-b588-6e2cfd3ed6e9",
   "metadata": {},
   "outputs": [
    {
     "data": {
      "text/plain": [
       "(0, 0)"
      ]
     },
     "execution_count": 61,
     "metadata": {},
     "output_type": "execute_result"
    }
   ],
   "source": [
    "gradient_descent(\"x**3 +2*x*y +y**2\")"
   ]
  },
  {
   "cell_type": "code",
   "execution_count": 59,
   "id": "013f8c6d-9d0e-47d9-b1ef-d5be5c3f06fa",
   "metadata": {},
   "outputs": [
    {
     "data": {
      "text/plain": [
       "(3.49822188055820e-5,)"
      ]
     },
     "execution_count": 59,
     "metadata": {},
     "output_type": "execute_result"
    }
   ],
   "source": [
    "gradient_descent(\"x**2\", start=(2,), eta=0.1, lambda_decay=0.01, iterations=100)"
   ]
  },
  {
   "cell_type": "code",
   "execution_count": 11,
   "id": "2c02483c-0f75-4789-a88e-95fbbf624a3e",
   "metadata": {},
   "outputs": [
    {
     "ename": "MY_Len_Exception",
     "evalue": "Функция линейная и не имеет минимума!",
     "output_type": "error",
     "traceback": [
      "\u001b[0;31m---------------------------------------------------------------------------\u001b[0m",
      "\u001b[0;31mMY_Len_Exception\u001b[0m                          Traceback (most recent call last)",
      "Cell \u001b[0;32mIn[11], line 1\u001b[0m\n\u001b[0;32m----> 1\u001b[0m gradient_descent(\u001b[38;5;124m\"\u001b[39m\u001b[38;5;124m5*x + 6\u001b[39m\u001b[38;5;124m\"\u001b[39m)\n",
      "Cell \u001b[0;32mIn[6], line 37\u001b[0m, in \u001b[0;36mgradient_descent\u001b[0;34m(func_str, start, eta, lambda_decay, iterations)\u001b[0m\n\u001b[1;32m     35\u001b[0m \u001b[38;5;66;03m# Проверяем, есть ли хотя бы одна степень выше 1\u001b[39;00m\n\u001b[1;32m     36\u001b[0m \u001b[38;5;28;01mif\u001b[39;00m \u001b[38;5;28mall\u001b[39m(sp\u001b[38;5;241m.\u001b[39mdegree(f, var) \u001b[38;5;241m<\u001b[39m\u001b[38;5;241m=\u001b[39m \u001b[38;5;241m1\u001b[39m \u001b[38;5;28;01mfor\u001b[39;00m var \u001b[38;5;129;01min\u001b[39;00m \u001b[38;5;28mvars\u001b[39m):\n\u001b[0;32m---> 37\u001b[0m     \u001b[38;5;28;01mraise\u001b[39;00m MY_Len_Exception(\u001b[38;5;124m\"\u001b[39m\u001b[38;5;124mФункция линейная и не имеет минимума!\u001b[39m\u001b[38;5;124m\"\u001b[39m)\n\u001b[1;32m     39\u001b[0m \u001b[38;5;66;03m# Partial diff\u001b[39;00m\n\u001b[1;32m     40\u001b[0m gradients \u001b[38;5;241m=\u001b[39m [sp\u001b[38;5;241m.\u001b[39mdiff(f, var) \u001b[38;5;28;01mfor\u001b[39;00m var \u001b[38;5;129;01min\u001b[39;00m \u001b[38;5;28mvars\u001b[39m]\n",
      "\u001b[0;31mMY_Len_Exception\u001b[0m: Функция линейная и не имеет минимума!"
     ]
    }
   ],
   "source": [
    "gradient_descent(\"5*x + 6\")"
   ]
  },
  {
   "cell_type": "code",
   "execution_count": 17,
   "id": "6380388d-96b9-4157-89c1-073d4b970e47",
   "metadata": {},
   "outputs": [],
   "source": [
    "import numpy as np\n",
    "\n",
    "def linear_regression_gd(X, y, lr=0.1, lambda_decay=0.01, iterations=1000):\n",
    "    \"\"\"\n",
    "    Линейная регрессия с градиентным спуском и адаптивным шагом обучения.\n",
    "\n",
    "    Параметры:\n",
    "    X - матрица фичей (numpy array), размерность (n_samples, n_features)\n",
    "    y - вектор пердсказаний, размерность (n_samples,)\n",
    "    lr - базовый шаг обучения\n",
    "    lambda_decay - коэффициент адаптивного уменьшения шага\n",
    "    iterations - количество итераций\n",
    "\n",
    "    Возвращает:\n",
    "    w - вектор весов (коэффициентов) модели\n",
    "    b - смещение (intercept)\n",
    "    \"\"\"\n",
    "    n_samples, n_features = X.shape\n",
    "    \n",
    "    # Инициализация коэффициентов\n",
    "    w = np.zeros(n_features)\n",
    "    b = 0\n",
    "\n",
    "    for k in range(1, iterations + 1):  \n",
    "        # Предсказания\n",
    "        y_predskas = np.dot(X, w) + b\n",
    "        \n",
    "        # Градиенты\n",
    "        error = y_predskas - y\n",
    "        dw = (2 / n_samples) * np.dot(X.T, error)  # Градиент по w\n",
    "        db = (2 / n_samples) * np.sum(error)       # Градиент по b\n",
    "\n",
    "        # Адаптивный шаг обучения\n",
    "        grad_norm = np.linalg.norm(dw) + abs(db)  # Норма градиента\n",
    "        alpha = lr / (1 + lambda_decay * k  )\n",
    "\n",
    "        # Обновление параметров\n",
    "        w -= alpha * dw\n",
    "        b -= alpha * db\n",
    "\n",
    "    return w, b\n"
   ]
  },
  {
   "cell_type": "code",
   "execution_count": null,
   "id": "01984c1d-4a7e-4353-b677-dbbd41c9514a",
   "metadata": {},
   "outputs": [],
   "source": []
  },
  {
   "cell_type": "code",
   "execution_count": 18,
   "id": "dee4c1bc-7e0c-480f-8a6e-6956418d9ec2",
   "metadata": {},
   "outputs": [
    {
     "name": "stdout",
     "output_type": "stream",
     "text": [
      "Коэффициенты: [3.07596028 5.08049569]\n",
      "Свободный член: 6.443772469364218\n"
     ]
    }
   ],
   "source": [
    "# Генерируем случайные данные\n",
    "np.random.seed(42)\n",
    "X = np.random.rand(100, 2) * 10  # 100 образцов, 2 признака\n",
    "y = 3 * X[:, 0] + 5 * X[:, 1] + 7 + np.random.randn(100) * 2  # Линейная зависимость + шум\n",
    "\n",
    "# Обучаем модель\n",
    "w, b = linear_regression_gd(X, y)\n",
    "\n",
    "print(\"Коэффициенты:\", w)\n",
    "print(\"Свободный член:\", b)"
   ]
  },
  {
   "cell_type": "code",
   "execution_count": null,
   "id": "843e4b9a-c572-4e49-8795-5e1d0dc12f72",
   "metadata": {},
   "outputs": [],
   "source": []
  }
 ],
 "metadata": {
  "kernelspec": {
   "display_name": "Python 3 (ipykernel)",
   "language": "python",
   "name": "python3"
  },
  "language_info": {
   "codemirror_mode": {
    "name": "ipython",
    "version": 3
   },
   "file_extension": ".py",
   "mimetype": "text/x-python",
   "name": "python",
   "nbconvert_exporter": "python",
   "pygments_lexer": "ipython3",
   "version": "3.12.8"
  }
 },
 "nbformat": 4,
 "nbformat_minor": 5
}
