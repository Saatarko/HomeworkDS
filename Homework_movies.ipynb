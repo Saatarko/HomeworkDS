{
 "cells": [
  {
   "cell_type": "code",
   "execution_count": 2,
   "id": "2626e719-feec-4135-bdf2-9e19113d8f9e",
   "metadata": {
    "editable": true,
    "slideshow": {
     "slide_type": ""
    },
    "tags": []
   },
   "outputs": [],
   "source": [
    "import pandas as pd\n",
    "import numpy as np\n",
    "from genre_recommender import preprocess_popularity, recommend_top_movies_by_genres, show_recommendations, get_all_genres\n",
    "import ipywidgets as widgets\n",
    "from ipywidgets import Layout, Button, Dropdown, VBox, HBox\n",
    "from IPython.display import display\n",
    "from sklearn.feature_extraction.text import TfidfVectorizer\n",
    "from sklearn.metrics.pairwise import cosine_similarity\n",
    "from sklearn.preprocessing import MultiLabelBinarizer\n",
    "from scipy.sparse import csr_matrix\n",
    "import concurrent.futures\n",
    "from tqdm import tqdm  # Импортируем tqdm для прогресса\n",
    "from concurrent.futures import ProcessPoolExecutor, ThreadPoolExecutor\n",
    "import os\n",
    "import dill\n",
    "import multiprocessing\n",
    "from collections import Counter\n",
    "from sklearn.decomposition import TruncatedSVD\n",
    "import matplotlib.pyplot as plt\n",
    "from sklearn.cluster import KMeans, MiniBatchKMeans\n",
    "from sklearn.metrics import silhouette_score, calinski_harabasz_score\n",
    "from sklearn.neighbors import NearestNeighbors\n",
    "from hdbscan import HDBSCAN\n",
    "from sklearn.utils import resample\n",
    "import plotly.express as px\n",
    "from sklearn.cluster import AgglomerativeClustering\n",
    "import hdbscan\n",
    "from sklearn.metrics.pairwise import euclidean_distances\n",
    "import implicit\n",
    "import scipy.sparse as sp\n",
    "from sklearn.decomposition import IncrementalPCA\n",
    "from scipy.sparse import vstack\n",
    "from implicit import als\n",
    "import psutil\n",
    "from scipy import sparse\n",
    "import gc\n",
    "from implicit.als import AlternatingLeastSquares\n",
    "from sklearn.preprocessing import LabelEncoder"
   ]
  },
  {
   "cell_type": "code",
   "execution_count": 2,
   "id": "7d5297e8-ce63-4d92-8a6d-a9f98dc7092d",
   "metadata": {},
   "outputs": [],
   "source": [
    "# Устанавливаем максимальную ширину столбца\n",
    "pd.set_option('display.max_colwidth', 1000)\n",
    "\n",
    "# Устанавливаем максимальную ширину для столбцов (если они обрезаются)\n",
    "pd.set_option('display.width', None)\n"
   ]
  },
  {
   "cell_type": "code",
   "execution_count": 3,
   "id": "682c6163-4ba2-4cdc-adec-f3aa5138fa60",
   "metadata": {},
   "outputs": [],
   "source": [
    "genome_scores = pd.read_csv('content/films/genome-scores.csv')"
   ]
  },
  {
   "cell_type": "code",
   "execution_count": 4,
   "id": "a45c480f-c8a3-4efd-940a-c75f3747b781",
   "metadata": {},
   "outputs": [],
   "source": [
    "genome_tags = pd.read_csv('content/films/genome-tags.csv')"
   ]
  },
  {
   "cell_type": "code",
   "execution_count": 5,
   "id": "6f866682-e69e-40da-8e47-3b4329f71800",
   "metadata": {},
   "outputs": [],
   "source": [
    "links = pd.read_csv('content/films/links.csv')"
   ]
  },
  {
   "cell_type": "code",
   "execution_count": 3,
   "id": "0f29f93f-d946-4b32-ab56-aba9b8fc7924",
   "metadata": {},
   "outputs": [],
   "source": [
    "movies = pd.read_csv('content/films/movies.csv')"
   ]
  },
  {
   "cell_type": "code",
   "execution_count": 7,
   "id": "469556a6-31c6-434e-9af2-ec43f2307da0",
   "metadata": {},
   "outputs": [],
   "source": [
    "ratings = pd.read_csv('content/films/ratings.csv')"
   ]
  },
  {
   "cell_type": "code",
   "execution_count": 10,
   "id": "e445d419-5f8d-4b1c-beb8-d8b856578fdf",
   "metadata": {},
   "outputs": [],
   "source": [
    "tags = pd.read_csv('content/films/tags.csv')"
   ]
  },
  {
   "cell_type": "code",
   "execution_count": 11,
   "id": "eaf2f384-28e2-4702-85bc-ca7841f87913",
   "metadata": {},
   "outputs": [
    {
     "data": {
      "text/html": [
       "<div>\n",
       "<style scoped>\n",
       "    .dataframe tbody tr th:only-of-type {\n",
       "        vertical-align: middle;\n",
       "    }\n",
       "\n",
       "    .dataframe tbody tr th {\n",
       "        vertical-align: top;\n",
       "    }\n",
       "\n",
       "    .dataframe thead th {\n",
       "        text-align: right;\n",
       "    }\n",
       "</style>\n",
       "<table border=\"1\" class=\"dataframe\">\n",
       "  <thead>\n",
       "    <tr style=\"text-align: right;\">\n",
       "      <th></th>\n",
       "      <th>movieId</th>\n",
       "      <th>tagId</th>\n",
       "      <th>relevance</th>\n",
       "    </tr>\n",
       "  </thead>\n",
       "  <tbody>\n",
       "    <tr>\n",
       "      <th>0</th>\n",
       "      <td>1</td>\n",
       "      <td>1</td>\n",
       "      <td>0.03200</td>\n",
       "    </tr>\n",
       "    <tr>\n",
       "      <th>1</th>\n",
       "      <td>1</td>\n",
       "      <td>2</td>\n",
       "      <td>0.02225</td>\n",
       "    </tr>\n",
       "    <tr>\n",
       "      <th>2</th>\n",
       "      <td>1</td>\n",
       "      <td>3</td>\n",
       "      <td>0.07000</td>\n",
       "    </tr>\n",
       "    <tr>\n",
       "      <th>3</th>\n",
       "      <td>1</td>\n",
       "      <td>4</td>\n",
       "      <td>0.05900</td>\n",
       "    </tr>\n",
       "    <tr>\n",
       "      <th>4</th>\n",
       "      <td>1</td>\n",
       "      <td>5</td>\n",
       "      <td>0.12300</td>\n",
       "    </tr>\n",
       "    <tr>\n",
       "      <th>...</th>\n",
       "      <td>...</td>\n",
       "      <td>...</td>\n",
       "      <td>...</td>\n",
       "    </tr>\n",
       "    <tr>\n",
       "      <th>18472123</th>\n",
       "      <td>288167</td>\n",
       "      <td>1124</td>\n",
       "      <td>0.09875</td>\n",
       "    </tr>\n",
       "    <tr>\n",
       "      <th>18472124</th>\n",
       "      <td>288167</td>\n",
       "      <td>1125</td>\n",
       "      <td>0.02950</td>\n",
       "    </tr>\n",
       "    <tr>\n",
       "      <th>18472125</th>\n",
       "      <td>288167</td>\n",
       "      <td>1126</td>\n",
       "      <td>0.02275</td>\n",
       "    </tr>\n",
       "    <tr>\n",
       "      <th>18472126</th>\n",
       "      <td>288167</td>\n",
       "      <td>1127</td>\n",
       "      <td>0.11225</td>\n",
       "    </tr>\n",
       "    <tr>\n",
       "      <th>18472127</th>\n",
       "      <td>288167</td>\n",
       "      <td>1128</td>\n",
       "      <td>0.03025</td>\n",
       "    </tr>\n",
       "  </tbody>\n",
       "</table>\n",
       "<p>18472128 rows × 3 columns</p>\n",
       "</div>"
      ],
      "text/plain": [
       "          movieId  tagId  relevance\n",
       "0               1      1    0.03200\n",
       "1               1      2    0.02225\n",
       "2               1      3    0.07000\n",
       "3               1      4    0.05900\n",
       "4               1      5    0.12300\n",
       "...           ...    ...        ...\n",
       "18472123   288167   1124    0.09875\n",
       "18472124   288167   1125    0.02950\n",
       "18472125   288167   1126    0.02275\n",
       "18472126   288167   1127    0.11225\n",
       "18472127   288167   1128    0.03025\n",
       "\n",
       "[18472128 rows x 3 columns]"
      ]
     },
     "execution_count": 11,
     "metadata": {},
     "output_type": "execute_result"
    }
   ],
   "source": [
    "genome_scores"
   ]
  },
  {
   "cell_type": "code",
   "execution_count": 10,
   "id": "c8a05e91-0aa7-467b-91cf-93d98c72b52d",
   "metadata": {},
   "outputs": [
    {
     "data": {
      "text/html": [
       "<div>\n",
       "<style scoped>\n",
       "    .dataframe tbody tr th:only-of-type {\n",
       "        vertical-align: middle;\n",
       "    }\n",
       "\n",
       "    .dataframe tbody tr th {\n",
       "        vertical-align: top;\n",
       "    }\n",
       "\n",
       "    .dataframe thead th {\n",
       "        text-align: right;\n",
       "    }\n",
       "</style>\n",
       "<table border=\"1\" class=\"dataframe\">\n",
       "  <thead>\n",
       "    <tr style=\"text-align: right;\">\n",
       "      <th></th>\n",
       "      <th>tagId</th>\n",
       "      <th>tag</th>\n",
       "    </tr>\n",
       "  </thead>\n",
       "  <tbody>\n",
       "    <tr>\n",
       "      <th>0</th>\n",
       "      <td>1</td>\n",
       "      <td>007</td>\n",
       "    </tr>\n",
       "    <tr>\n",
       "      <th>1</th>\n",
       "      <td>2</td>\n",
       "      <td>007 (series)</td>\n",
       "    </tr>\n",
       "    <tr>\n",
       "      <th>2</th>\n",
       "      <td>3</td>\n",
       "      <td>18th century</td>\n",
       "    </tr>\n",
       "    <tr>\n",
       "      <th>3</th>\n",
       "      <td>4</td>\n",
       "      <td>1920s</td>\n",
       "    </tr>\n",
       "    <tr>\n",
       "      <th>4</th>\n",
       "      <td>5</td>\n",
       "      <td>1930s</td>\n",
       "    </tr>\n",
       "    <tr>\n",
       "      <th>...</th>\n",
       "      <td>...</td>\n",
       "      <td>...</td>\n",
       "    </tr>\n",
       "    <tr>\n",
       "      <th>1123</th>\n",
       "      <td>1124</td>\n",
       "      <td>writing</td>\n",
       "    </tr>\n",
       "    <tr>\n",
       "      <th>1124</th>\n",
       "      <td>1125</td>\n",
       "      <td>wuxia</td>\n",
       "    </tr>\n",
       "    <tr>\n",
       "      <th>1125</th>\n",
       "      <td>1126</td>\n",
       "      <td>wwii</td>\n",
       "    </tr>\n",
       "    <tr>\n",
       "      <th>1126</th>\n",
       "      <td>1127</td>\n",
       "      <td>zombie</td>\n",
       "    </tr>\n",
       "    <tr>\n",
       "      <th>1127</th>\n",
       "      <td>1128</td>\n",
       "      <td>zombies</td>\n",
       "    </tr>\n",
       "  </tbody>\n",
       "</table>\n",
       "<p>1128 rows × 2 columns</p>\n",
       "</div>"
      ],
      "text/plain": [
       "      tagId           tag\n",
       "0         1           007\n",
       "1         2  007 (series)\n",
       "2         3  18th century\n",
       "3         4         1920s\n",
       "4         5         1930s\n",
       "...     ...           ...\n",
       "1123   1124       writing\n",
       "1124   1125         wuxia\n",
       "1125   1126          wwii\n",
       "1126   1127        zombie\n",
       "1127   1128       zombies\n",
       "\n",
       "[1128 rows x 2 columns]"
      ]
     },
     "execution_count": 10,
     "metadata": {},
     "output_type": "execute_result"
    }
   ],
   "source": [
    "genome_tags"
   ]
  },
  {
   "cell_type": "code",
   "execution_count": 11,
   "id": "1311a8ea-5d11-426f-ac81-c9ee427b2b85",
   "metadata": {},
   "outputs": [
    {
     "data": {
      "text/html": [
       "<div>\n",
       "<style scoped>\n",
       "    .dataframe tbody tr th:only-of-type {\n",
       "        vertical-align: middle;\n",
       "    }\n",
       "\n",
       "    .dataframe tbody tr th {\n",
       "        vertical-align: top;\n",
       "    }\n",
       "\n",
       "    .dataframe thead th {\n",
       "        text-align: right;\n",
       "    }\n",
       "</style>\n",
       "<table border=\"1\" class=\"dataframe\">\n",
       "  <thead>\n",
       "    <tr style=\"text-align: right;\">\n",
       "      <th></th>\n",
       "      <th>movieId</th>\n",
       "      <th>imdbId</th>\n",
       "      <th>tmdbId</th>\n",
       "    </tr>\n",
       "  </thead>\n",
       "  <tbody>\n",
       "    <tr>\n",
       "      <th>0</th>\n",
       "      <td>1</td>\n",
       "      <td>114709</td>\n",
       "      <td>862.0</td>\n",
       "    </tr>\n",
       "    <tr>\n",
       "      <th>1</th>\n",
       "      <td>2</td>\n",
       "      <td>113497</td>\n",
       "      <td>8844.0</td>\n",
       "    </tr>\n",
       "    <tr>\n",
       "      <th>2</th>\n",
       "      <td>3</td>\n",
       "      <td>113228</td>\n",
       "      <td>15602.0</td>\n",
       "    </tr>\n",
       "    <tr>\n",
       "      <th>3</th>\n",
       "      <td>4</td>\n",
       "      <td>114885</td>\n",
       "      <td>31357.0</td>\n",
       "    </tr>\n",
       "    <tr>\n",
       "      <th>4</th>\n",
       "      <td>5</td>\n",
       "      <td>113041</td>\n",
       "      <td>11862.0</td>\n",
       "    </tr>\n",
       "    <tr>\n",
       "      <th>...</th>\n",
       "      <td>...</td>\n",
       "      <td>...</td>\n",
       "      <td>...</td>\n",
       "    </tr>\n",
       "    <tr>\n",
       "      <th>86532</th>\n",
       "      <td>288967</td>\n",
       "      <td>14418234</td>\n",
       "      <td>845861.0</td>\n",
       "    </tr>\n",
       "    <tr>\n",
       "      <th>86533</th>\n",
       "      <td>288971</td>\n",
       "      <td>11162178</td>\n",
       "      <td>878958.0</td>\n",
       "    </tr>\n",
       "    <tr>\n",
       "      <th>86534</th>\n",
       "      <td>288975</td>\n",
       "      <td>70199</td>\n",
       "      <td>150392.0</td>\n",
       "    </tr>\n",
       "    <tr>\n",
       "      <th>86535</th>\n",
       "      <td>288977</td>\n",
       "      <td>23050520</td>\n",
       "      <td>1102551.0</td>\n",
       "    </tr>\n",
       "    <tr>\n",
       "      <th>86536</th>\n",
       "      <td>288983</td>\n",
       "      <td>11644948</td>\n",
       "      <td>940588.0</td>\n",
       "    </tr>\n",
       "  </tbody>\n",
       "</table>\n",
       "<p>86537 rows × 3 columns</p>\n",
       "</div>"
      ],
      "text/plain": [
       "       movieId    imdbId     tmdbId\n",
       "0            1    114709      862.0\n",
       "1            2    113497     8844.0\n",
       "2            3    113228    15602.0\n",
       "3            4    114885    31357.0\n",
       "4            5    113041    11862.0\n",
       "...        ...       ...        ...\n",
       "86532   288967  14418234   845861.0\n",
       "86533   288971  11162178   878958.0\n",
       "86534   288975     70199   150392.0\n",
       "86535   288977  23050520  1102551.0\n",
       "86536   288983  11644948   940588.0\n",
       "\n",
       "[86537 rows x 3 columns]"
      ]
     },
     "execution_count": 11,
     "metadata": {},
     "output_type": "execute_result"
    }
   ],
   "source": [
    "links"
   ]
  },
  {
   "cell_type": "code",
   "execution_count": 11,
   "id": "c4c6ea33-857b-46d4-aa66-bedd0c57c6c9",
   "metadata": {},
   "outputs": [
    {
     "data": {
      "text/html": [
       "<div>\n",
       "<style scoped>\n",
       "    .dataframe tbody tr th:only-of-type {\n",
       "        vertical-align: middle;\n",
       "    }\n",
       "\n",
       "    .dataframe tbody tr th {\n",
       "        vertical-align: top;\n",
       "    }\n",
       "\n",
       "    .dataframe thead th {\n",
       "        text-align: right;\n",
       "    }\n",
       "</style>\n",
       "<table border=\"1\" class=\"dataframe\">\n",
       "  <thead>\n",
       "    <tr style=\"text-align: right;\">\n",
       "      <th></th>\n",
       "      <th>movieId</th>\n",
       "      <th>title</th>\n",
       "      <th>genres</th>\n",
       "    </tr>\n",
       "  </thead>\n",
       "  <tbody>\n",
       "    <tr>\n",
       "      <th>0</th>\n",
       "      <td>1</td>\n",
       "      <td>Toy Story (1995)</td>\n",
       "      <td>Adventure|Animation|Children|Comedy|Fantasy</td>\n",
       "    </tr>\n",
       "    <tr>\n",
       "      <th>1</th>\n",
       "      <td>2</td>\n",
       "      <td>Jumanji (1995)</td>\n",
       "      <td>Adventure|Children|Fantasy</td>\n",
       "    </tr>\n",
       "    <tr>\n",
       "      <th>2</th>\n",
       "      <td>3</td>\n",
       "      <td>Grumpier Old Men (1995)</td>\n",
       "      <td>Comedy|Romance</td>\n",
       "    </tr>\n",
       "    <tr>\n",
       "      <th>3</th>\n",
       "      <td>4</td>\n",
       "      <td>Waiting to Exhale (1995)</td>\n",
       "      <td>Comedy|Drama|Romance</td>\n",
       "    </tr>\n",
       "    <tr>\n",
       "      <th>4</th>\n",
       "      <td>5</td>\n",
       "      <td>Father of the Bride Part II (1995)</td>\n",
       "      <td>Comedy</td>\n",
       "    </tr>\n",
       "    <tr>\n",
       "      <th>...</th>\n",
       "      <td>...</td>\n",
       "      <td>...</td>\n",
       "      <td>...</td>\n",
       "    </tr>\n",
       "    <tr>\n",
       "      <th>86532</th>\n",
       "      <td>288967</td>\n",
       "      <td>State of Siege: Temple Attack (2021)</td>\n",
       "      <td>Action|Drama</td>\n",
       "    </tr>\n",
       "    <tr>\n",
       "      <th>86533</th>\n",
       "      <td>288971</td>\n",
       "      <td>Ouija Japan (2021)</td>\n",
       "      <td>Action|Horror</td>\n",
       "    </tr>\n",
       "    <tr>\n",
       "      <th>86534</th>\n",
       "      <td>288975</td>\n",
       "      <td>The Men Who Made the Movies: Howard Hawks (1973)</td>\n",
       "      <td>Documentary</td>\n",
       "    </tr>\n",
       "    <tr>\n",
       "      <th>86535</th>\n",
       "      <td>288977</td>\n",
       "      <td>Skinford: Death Sentence (2023)</td>\n",
       "      <td>Crime|Thriller</td>\n",
       "    </tr>\n",
       "    <tr>\n",
       "      <th>86536</th>\n",
       "      <td>288983</td>\n",
       "      <td>UNZIPPED: An Autopsy of American Inequality (2...</td>\n",
       "      <td>Documentary</td>\n",
       "    </tr>\n",
       "  </tbody>\n",
       "</table>\n",
       "<p>86537 rows × 3 columns</p>\n",
       "</div>"
      ],
      "text/plain": [
       "       movieId                                              title  \\\n",
       "0            1                                   Toy Story (1995)   \n",
       "1            2                                     Jumanji (1995)   \n",
       "2            3                            Grumpier Old Men (1995)   \n",
       "3            4                           Waiting to Exhale (1995)   \n",
       "4            5                 Father of the Bride Part II (1995)   \n",
       "...        ...                                                ...   \n",
       "86532   288967               State of Siege: Temple Attack (2021)   \n",
       "86533   288971                                 Ouija Japan (2021)   \n",
       "86534   288975   The Men Who Made the Movies: Howard Hawks (1973)   \n",
       "86535   288977                    Skinford: Death Sentence (2023)   \n",
       "86536   288983  UNZIPPED: An Autopsy of American Inequality (2...   \n",
       "\n",
       "                                            genres  \n",
       "0      Adventure|Animation|Children|Comedy|Fantasy  \n",
       "1                       Adventure|Children|Fantasy  \n",
       "2                                   Comedy|Romance  \n",
       "3                             Comedy|Drama|Romance  \n",
       "4                                           Comedy  \n",
       "...                                            ...  \n",
       "86532                                 Action|Drama  \n",
       "86533                                Action|Horror  \n",
       "86534                                  Documentary  \n",
       "86535                               Crime|Thriller  \n",
       "86536                                  Documentary  \n",
       "\n",
       "[86537 rows x 3 columns]"
      ]
     },
     "execution_count": 11,
     "metadata": {},
     "output_type": "execute_result"
    }
   ],
   "source": [
    "movies"
   ]
  },
  {
   "cell_type": "code",
   "execution_count": 12,
   "id": "9c0f0e10-bf67-433f-a9df-cac643dda25d",
   "metadata": {},
   "outputs": [
    {
     "data": {
      "text/html": [
       "<div>\n",
       "<style scoped>\n",
       "    .dataframe tbody tr th:only-of-type {\n",
       "        vertical-align: middle;\n",
       "    }\n",
       "\n",
       "    .dataframe tbody tr th {\n",
       "        vertical-align: top;\n",
       "    }\n",
       "\n",
       "    .dataframe thead th {\n",
       "        text-align: right;\n",
       "    }\n",
       "</style>\n",
       "<table border=\"1\" class=\"dataframe\">\n",
       "  <thead>\n",
       "    <tr style=\"text-align: right;\">\n",
       "      <th></th>\n",
       "      <th>userId</th>\n",
       "      <th>movieId</th>\n",
       "      <th>rating</th>\n",
       "      <th>timestamp</th>\n",
       "    </tr>\n",
       "  </thead>\n",
       "  <tbody>\n",
       "    <tr>\n",
       "      <th>0</th>\n",
       "      <td>1</td>\n",
       "      <td>1</td>\n",
       "      <td>4.0</td>\n",
       "      <td>1225734739</td>\n",
       "    </tr>\n",
       "    <tr>\n",
       "      <th>1</th>\n",
       "      <td>1</td>\n",
       "      <td>110</td>\n",
       "      <td>4.0</td>\n",
       "      <td>1225865086</td>\n",
       "    </tr>\n",
       "    <tr>\n",
       "      <th>2</th>\n",
       "      <td>1</td>\n",
       "      <td>158</td>\n",
       "      <td>4.0</td>\n",
       "      <td>1225733503</td>\n",
       "    </tr>\n",
       "    <tr>\n",
       "      <th>3</th>\n",
       "      <td>1</td>\n",
       "      <td>260</td>\n",
       "      <td>4.5</td>\n",
       "      <td>1225735204</td>\n",
       "    </tr>\n",
       "    <tr>\n",
       "      <th>4</th>\n",
       "      <td>1</td>\n",
       "      <td>356</td>\n",
       "      <td>5.0</td>\n",
       "      <td>1225735119</td>\n",
       "    </tr>\n",
       "    <tr>\n",
       "      <th>...</th>\n",
       "      <td>...</td>\n",
       "      <td>...</td>\n",
       "      <td>...</td>\n",
       "      <td>...</td>\n",
       "    </tr>\n",
       "    <tr>\n",
       "      <th>33832157</th>\n",
       "      <td>330975</td>\n",
       "      <td>8340</td>\n",
       "      <td>2.0</td>\n",
       "      <td>1091583256</td>\n",
       "    </tr>\n",
       "    <tr>\n",
       "      <th>33832158</th>\n",
       "      <td>330975</td>\n",
       "      <td>8493</td>\n",
       "      <td>2.5</td>\n",
       "      <td>1091585709</td>\n",
       "    </tr>\n",
       "    <tr>\n",
       "      <th>33832159</th>\n",
       "      <td>330975</td>\n",
       "      <td>8622</td>\n",
       "      <td>4.0</td>\n",
       "      <td>1091581777</td>\n",
       "    </tr>\n",
       "    <tr>\n",
       "      <th>33832160</th>\n",
       "      <td>330975</td>\n",
       "      <td>8665</td>\n",
       "      <td>3.0</td>\n",
       "      <td>1091581765</td>\n",
       "    </tr>\n",
       "    <tr>\n",
       "      <th>33832161</th>\n",
       "      <td>330975</td>\n",
       "      <td>8783</td>\n",
       "      <td>2.5</td>\n",
       "      <td>1091581799</td>\n",
       "    </tr>\n",
       "  </tbody>\n",
       "</table>\n",
       "<p>33832162 rows × 4 columns</p>\n",
       "</div>"
      ],
      "text/plain": [
       "          userId  movieId  rating   timestamp\n",
       "0              1        1     4.0  1225734739\n",
       "1              1      110     4.0  1225865086\n",
       "2              1      158     4.0  1225733503\n",
       "3              1      260     4.5  1225735204\n",
       "4              1      356     5.0  1225735119\n",
       "...          ...      ...     ...         ...\n",
       "33832157  330975     8340     2.0  1091583256\n",
       "33832158  330975     8493     2.5  1091585709\n",
       "33832159  330975     8622     4.0  1091581777\n",
       "33832160  330975     8665     3.0  1091581765\n",
       "33832161  330975     8783     2.5  1091581799\n",
       "\n",
       "[33832162 rows x 4 columns]"
      ]
     },
     "execution_count": 12,
     "metadata": {},
     "output_type": "execute_result"
    }
   ],
   "source": [
    "ratings"
   ]
  },
  {
   "cell_type": "code",
   "execution_count": 13,
   "id": "c283b3e5-02bc-4b6e-a6d6-b40c70627596",
   "metadata": {},
   "outputs": [
    {
     "data": {
      "text/html": [
       "<div>\n",
       "<style scoped>\n",
       "    .dataframe tbody tr th:only-of-type {\n",
       "        vertical-align: middle;\n",
       "    }\n",
       "\n",
       "    .dataframe tbody tr th {\n",
       "        vertical-align: top;\n",
       "    }\n",
       "\n",
       "    .dataframe thead th {\n",
       "        text-align: right;\n",
       "    }\n",
       "</style>\n",
       "<table border=\"1\" class=\"dataframe\">\n",
       "  <thead>\n",
       "    <tr style=\"text-align: right;\">\n",
       "      <th></th>\n",
       "      <th>userId</th>\n",
       "      <th>movieId</th>\n",
       "      <th>rating</th>\n",
       "      <th>timestamp</th>\n",
       "    </tr>\n",
       "  </thead>\n",
       "  <tbody>\n",
       "    <tr>\n",
       "      <th>count</th>\n",
       "      <td>3.383216e+07</td>\n",
       "      <td>3.383216e+07</td>\n",
       "      <td>3.383216e+07</td>\n",
       "      <td>3.383216e+07</td>\n",
       "    </tr>\n",
       "    <tr>\n",
       "      <th>mean</th>\n",
       "      <td>1.654380e+05</td>\n",
       "      <td>2.831348e+04</td>\n",
       "      <td>3.542540e+00</td>\n",
       "      <td>1.269362e+09</td>\n",
       "    </tr>\n",
       "    <tr>\n",
       "      <th>std</th>\n",
       "      <td>9.534122e+04</td>\n",
       "      <td>4.992865e+04</td>\n",
       "      <td>1.063959e+00</td>\n",
       "      <td>2.541023e+08</td>\n",
       "    </tr>\n",
       "    <tr>\n",
       "      <th>min</th>\n",
       "      <td>1.000000e+00</td>\n",
       "      <td>1.000000e+00</td>\n",
       "      <td>5.000000e-01</td>\n",
       "      <td>7.896520e+08</td>\n",
       "    </tr>\n",
       "    <tr>\n",
       "      <th>25%</th>\n",
       "      <td>8.295300e+04</td>\n",
       "      <td>1.219000e+03</td>\n",
       "      <td>3.000000e+00</td>\n",
       "      <td>1.046718e+09</td>\n",
       "    </tr>\n",
       "    <tr>\n",
       "      <th>50%</th>\n",
       "      <td>1.661290e+05</td>\n",
       "      <td>3.263000e+03</td>\n",
       "      <td>4.000000e+00</td>\n",
       "      <td>1.264740e+09</td>\n",
       "    </tr>\n",
       "    <tr>\n",
       "      <th>75%</th>\n",
       "      <td>2.474500e+05</td>\n",
       "      <td>4.049100e+04</td>\n",
       "      <td>4.000000e+00</td>\n",
       "      <td>1.496919e+09</td>\n",
       "    </tr>\n",
       "    <tr>\n",
       "      <th>max</th>\n",
       "      <td>3.309750e+05</td>\n",
       "      <td>2.889830e+05</td>\n",
       "      <td>5.000000e+00</td>\n",
       "      <td>1.689843e+09</td>\n",
       "    </tr>\n",
       "  </tbody>\n",
       "</table>\n",
       "</div>"
      ],
      "text/plain": [
       "             userId       movieId        rating     timestamp\n",
       "count  3.383216e+07  3.383216e+07  3.383216e+07  3.383216e+07\n",
       "mean   1.654380e+05  2.831348e+04  3.542540e+00  1.269362e+09\n",
       "std    9.534122e+04  4.992865e+04  1.063959e+00  2.541023e+08\n",
       "min    1.000000e+00  1.000000e+00  5.000000e-01  7.896520e+08\n",
       "25%    8.295300e+04  1.219000e+03  3.000000e+00  1.046718e+09\n",
       "50%    1.661290e+05  3.263000e+03  4.000000e+00  1.264740e+09\n",
       "75%    2.474500e+05  4.049100e+04  4.000000e+00  1.496919e+09\n",
       "max    3.309750e+05  2.889830e+05  5.000000e+00  1.689843e+09"
      ]
     },
     "execution_count": 13,
     "metadata": {},
     "output_type": "execute_result"
    }
   ],
   "source": [
    "ratings.describe()"
   ]
  },
  {
   "cell_type": "code",
   "execution_count": 14,
   "id": "82336b6e-1899-4494-bf04-e9b9b23c0b9b",
   "metadata": {},
   "outputs": [
    {
     "data": {
      "text/html": [
       "<div>\n",
       "<style scoped>\n",
       "    .dataframe tbody tr th:only-of-type {\n",
       "        vertical-align: middle;\n",
       "    }\n",
       "\n",
       "    .dataframe tbody tr th {\n",
       "        vertical-align: top;\n",
       "    }\n",
       "\n",
       "    .dataframe thead th {\n",
       "        text-align: right;\n",
       "    }\n",
       "</style>\n",
       "<table border=\"1\" class=\"dataframe\">\n",
       "  <thead>\n",
       "    <tr style=\"text-align: right;\">\n",
       "      <th></th>\n",
       "      <th>userId</th>\n",
       "      <th>movieId</th>\n",
       "      <th>tag</th>\n",
       "      <th>timestamp</th>\n",
       "    </tr>\n",
       "  </thead>\n",
       "  <tbody>\n",
       "    <tr>\n",
       "      <th>0</th>\n",
       "      <td>10</td>\n",
       "      <td>260</td>\n",
       "      <td>good vs evil</td>\n",
       "      <td>1430666558</td>\n",
       "    </tr>\n",
       "    <tr>\n",
       "      <th>1</th>\n",
       "      <td>10</td>\n",
       "      <td>260</td>\n",
       "      <td>Harrison Ford</td>\n",
       "      <td>1430666505</td>\n",
       "    </tr>\n",
       "    <tr>\n",
       "      <th>2</th>\n",
       "      <td>10</td>\n",
       "      <td>260</td>\n",
       "      <td>sci-fi</td>\n",
       "      <td>1430666538</td>\n",
       "    </tr>\n",
       "    <tr>\n",
       "      <th>3</th>\n",
       "      <td>14</td>\n",
       "      <td>1221</td>\n",
       "      <td>Al Pacino</td>\n",
       "      <td>1311600756</td>\n",
       "    </tr>\n",
       "    <tr>\n",
       "      <th>4</th>\n",
       "      <td>14</td>\n",
       "      <td>1221</td>\n",
       "      <td>mafia</td>\n",
       "      <td>1311600746</td>\n",
       "    </tr>\n",
       "    <tr>\n",
       "      <th>...</th>\n",
       "      <td>...</td>\n",
       "      <td>...</td>\n",
       "      <td>...</td>\n",
       "      <td>...</td>\n",
       "    </tr>\n",
       "    <tr>\n",
       "      <th>2328310</th>\n",
       "      <td>330923</td>\n",
       "      <td>176599</td>\n",
       "      <td>politically correct</td>\n",
       "      <td>1507547491</td>\n",
       "    </tr>\n",
       "    <tr>\n",
       "      <th>2328311</th>\n",
       "      <td>330933</td>\n",
       "      <td>3317</td>\n",
       "      <td>coming of age</td>\n",
       "      <td>1351279384</td>\n",
       "    </tr>\n",
       "    <tr>\n",
       "      <th>2328312</th>\n",
       "      <td>330933</td>\n",
       "      <td>3317</td>\n",
       "      <td>sexuality</td>\n",
       "      <td>1351279389</td>\n",
       "    </tr>\n",
       "    <tr>\n",
       "      <th>2328313</th>\n",
       "      <td>330947</td>\n",
       "      <td>5782</td>\n",
       "      <td>Not Luc Besson</td>\n",
       "      <td>1154110902</td>\n",
       "    </tr>\n",
       "    <tr>\n",
       "      <th>2328314</th>\n",
       "      <td>330947</td>\n",
       "      <td>44191</td>\n",
       "      <td>comic book</td>\n",
       "      <td>1154271525</td>\n",
       "    </tr>\n",
       "  </tbody>\n",
       "</table>\n",
       "<p>2328315 rows × 4 columns</p>\n",
       "</div>"
      ],
      "text/plain": [
       "         userId  movieId                  tag   timestamp\n",
       "0            10      260         good vs evil  1430666558\n",
       "1            10      260        Harrison Ford  1430666505\n",
       "2            10      260               sci-fi  1430666538\n",
       "3            14     1221            Al Pacino  1311600756\n",
       "4            14     1221                mafia  1311600746\n",
       "...         ...      ...                  ...         ...\n",
       "2328310  330923   176599  politically correct  1507547491\n",
       "2328311  330933     3317        coming of age  1351279384\n",
       "2328312  330933     3317            sexuality  1351279389\n",
       "2328313  330947     5782       Not Luc Besson  1154110902\n",
       "2328314  330947    44191           comic book  1154271525\n",
       "\n",
       "[2328315 rows x 4 columns]"
      ]
     },
     "execution_count": 14,
     "metadata": {},
     "output_type": "execute_result"
    }
   ],
   "source": [
    "tags"
   ]
  },
  {
   "cell_type": "code",
   "execution_count": 9,
   "id": "3b5fcfa8-98a2-463e-a97f-cb403ca9c395",
   "metadata": {},
   "outputs": [],
   "source": [
    "# Добавляем тэг разхное и добавляем его ко всем фильмам у которых тэгов нет\n",
    "# Найдём максимальный tagId\n",
    "max_tag_id = genome_tags['tagId'].max()\n",
    "\n",
    "# Добавим \"miscellaneous\" в genome_tags\n",
    "misc_tag = pd.DataFrame([{'tagId': max_tag_id + 1, 'tag': 'miscellaneous'}])\n",
    "genome_tags = pd.concat([genome_tags, misc_tag], ignore_index=True)\n",
    "\n",
    "# Добавим фиктивную релевантность 0.5 для фильмов без тегов\n",
    "# Сначала найдём такие movieId\n",
    "tagged_movies = genome_scores['movieId'].unique()\n",
    "all_movies = movies['movieId'].unique()\n",
    "untagged_movies = np.setdiff1d(all_movies, tagged_movies)\n",
    "\n",
    "# Создадим записи для этих фильмов\n",
    "misc_rows = pd.DataFrame({\n",
    "    'movieId': untagged_movies,\n",
    "    'tagId': max_tag_id + 1,\n",
    "    'relevance': 0.5\n",
    "})\n",
    "\n",
    "# Добавим их в genome_scores\n",
    "genome_scores = pd.concat([genome_scores, misc_rows], ignore_index=True)\n"
   ]
  },
  {
   "cell_type": "code",
   "execution_count": 10,
   "id": "28f979b1-224c-4006-addb-03509cc7770a",
   "metadata": {},
   "outputs": [
    {
     "name": "stdout",
     "output_type": "stream",
     "text": [
      "        userId  rating_count\n",
      "99237    99238             1\n",
      "313546  313547             1\n",
      "80141    80142             1\n",
      "109843  109844             1\n",
      "148384  148385             1\n",
      "211814  211815             1\n",
      "20475    20476             1\n",
      "253764  253765             1\n",
      "196577  196578             1\n",
      "211806  211807             1\n"
     ]
    }
   ],
   "source": [
    "# Группируем по userId и считаем количество оценок\n",
    "user_rating_counts = ratings.groupby('userId').size().reset_index(name='rating_count')\n",
    "\n",
    "# Фильтруем пользователей, у которых хотя бы 1 оценка (в принципе, можно не фильтровать, т.к. size() уже исключает 0)\n",
    "user_rating_counts = user_rating_counts[user_rating_counts['rating_count'] > 0]\n",
    "\n",
    "# Сортируем по возрастанию\n",
    "anti_top_users = user_rating_counts.sort_values(by='rating_count', ascending=True)\n",
    "\n",
    "# Выведем, например, 10 пользователей, которые ставили меньше всего оценок\n",
    "print(anti_top_users.head(10))"
   ]
  },
  {
   "cell_type": "code",
   "execution_count": 11,
   "id": "defb3254-c3a7-46ee-9863-bd7d71d77d2c",
   "metadata": {},
   "outputs": [
    {
     "name": "stdout",
     "output_type": "stream",
     "text": [
      "[INFO] Найдено 9563 фильмов с жанрами ['Action']\n",
      "       movieId                                 title  \\\n",
      "5            6                           Heat (1995)   \n",
      "8            9                   Sudden Death (1995)   \n",
      "9           10                      GoldenEye (1995)   \n",
      "14          15               Cutthroat Island (1995)   \n",
      "19          20                    Money Train (1995)   \n",
      "...        ...                                   ...   \n",
      "86505   288895                    Night Train (2023)   \n",
      "86506   288897                   Warhorse One (2023)   \n",
      "86517   288931                V for Vengeance (2022)   \n",
      "86532   288967  State of Siege: Temple Attack (2021)   \n",
      "86533   288971                    Ouija Japan (2021)   \n",
      "\n",
      "                                   genres  \n",
      "5                   Action|Crime|Thriller  \n",
      "8                                  Action  \n",
      "9               Action|Adventure|Thriller  \n",
      "14               Action|Adventure|Romance  \n",
      "19     Action|Comedy|Crime|Drama|Thriller  \n",
      "...                                   ...  \n",
      "86505               Action|Crime|Thriller  \n",
      "86506                    Action|Drama|War  \n",
      "86517                       Action|Horror  \n",
      "86532                        Action|Drama  \n",
      "86533                       Action|Horror  \n",
      "\n",
      "[9563 rows x 3 columns]\n",
      "[INFO] Найдено 5349 фильмов с жанрами ['Adventure']\n",
      "       movieId                                   title  \\\n",
      "0            1                        Toy Story (1995)   \n",
      "1            2                          Jumanji (1995)   \n",
      "7            8                     Tom and Huck (1995)   \n",
      "9           10                        GoldenEye (1995)   \n",
      "12          13                            Balto (1995)   \n",
      "...        ...                                     ...   \n",
      "86342   288329              Yaga and Spell Book (2023)   \n",
      "86384   288507                   Kamen Rider ZO (1993)   \n",
      "86396   288555                   Bermuda Island (2023)   \n",
      "86448   288705              The Treasure Planet (1982)   \n",
      "86523   288945  Mr. Car and the Knights Templar (2023)   \n",
      "\n",
      "                                               genres  \n",
      "0         Adventure|Animation|Children|Comedy|Fantasy  \n",
      "1                          Adventure|Children|Fantasy  \n",
      "7                                  Adventure|Children  \n",
      "9                           Action|Adventure|Thriller  \n",
      "12                       Adventure|Animation|Children  \n",
      "...                                               ...  \n",
      "86342                    Adventure|Animation|Children  \n",
      "86384                         Action|Adventure|Sci-Fi  \n",
      "86396  Action|Adventure|Drama|Horror|Mystery|Thriller  \n",
      "86448             Adventure|Animation|Children|Sci-Fi  \n",
      "86523                                       Adventure  \n",
      "\n",
      "[5349 rows x 3 columns]\n",
      "[INFO] Найдено 4850 фильмов с жанрами ['Sci-Fi']\n",
      "       movieId  \\\n",
      "23          24   \n",
      "28          29   \n",
      "31          32   \n",
      "65          66   \n",
      "75          76   \n",
      "...        ...   \n",
      "86448   288705   \n",
      "86452   288715   \n",
      "86463   288747   \n",
      "86498   288861   \n",
      "86499   288863   \n",
      "\n",
      "                                                                 title  \\\n",
      "23                                                       Powder (1995)   \n",
      "28     City of Lost Children, The (Cité des enfants perdus, La) (1995)   \n",
      "31                           Twelve Monkeys (a.k.a. 12 Monkeys) (1995)   \n",
      "65                           Lawnmower Man 2: Beyond Cyberspace (1996)   \n",
      "75                                                    Screamers (1995)   \n",
      "...                                                                ...   \n",
      "86448                                       The Treasure Planet (1982)   \n",
      "86452                                          My Robot Brother (2022)   \n",
      "86463                                                      LOLA (2023)   \n",
      "86498                                        They Cloned Tyrone (2023)   \n",
      "86499                                     Gamera: Super Monster (1980)   \n",
      "\n",
      "                                       genres  \n",
      "23                               Drama|Sci-Fi  \n",
      "28     Adventure|Drama|Fantasy|Mystery|Sci-Fi  \n",
      "31                    Mystery|Sci-Fi|Thriller  \n",
      "65                     Action|Sci-Fi|Thriller  \n",
      "75                     Action|Sci-Fi|Thriller  \n",
      "...                                       ...  \n",
      "86448     Adventure|Animation|Children|Sci-Fi  \n",
      "86452                  Children|Comedy|Sci-Fi  \n",
      "86463                            Drama|Sci-Fi  \n",
      "86498                   Comedy|Mystery|Sci-Fi  \n",
      "86499                         Children|Sci-Fi  \n",
      "\n",
      "[4850 rows x 3 columns]\n"
     ]
    }
   ],
   "source": [
    "# Проверим, сколько фильмов имеет каждый из жанров, на которые мы сокращаем\n",
    "def check_genre_availability(genres_list, movies_df):\n",
    "    # Ищем фильмы, которые содержат хотя бы один жанр из списка\n",
    "    available_movies = movies_df[movies_df['genres'].apply(lambda x: any(genre in x for genre in genres_list))]\n",
    "    print(f\"[INFO] Найдено {len(available_movies)} фильмов с жанрами {genres_list}\")\n",
    "    print(available_movies[['movieId', 'title', 'genres']])\n",
    "\n",
    "# Проверим наличие фильмов для каждого из жанров, которые мы используем\n",
    "check_genre_availability(['Action'], movies)\n",
    "check_genre_availability(['Adventure'], movies)\n",
    "check_genre_availability(['Sci-Fi'], movies)"
   ]
  },
  {
   "cell_type": "markdown",
   "id": "d6b5a1dd-c34a-46e3-95dd-6677ded364e4",
   "metadata": {},
   "source": [
    "## Что нужно сдеать\n",
    "\n",
    "1. Сделать таблицу populatiry  на основе ratings (т.е сделать датасет с столбцами: movieId, ave_rating (находим как среднее по каждому фильму по рейтингу из imdb по imdbId)\n",
    "2. Content-base:\n",
    "- написать код выдачи топ -10 по populatiry (в соответствии с жанром)  - просто выдача по populatiry + жанр(ы)  (1)\n",
    "- написать код выдачи рекомендации по фильму. На 1 фильм - 10 рекомендаций.(без учета рейтинга) -рекомендашка (2)\n",
    "\n",
    "3. User-base:\n",
    "  - написать код выдачи рекомендации по фильму. На 1 фильм - 10 рекомендаций.(без учета рейтинга) и с изменением весов по тэгу-рекомендашка (3)\n",
    "  - написать код выдачи рекомендации по фильму. На 1 фильм - 10 рекомендаций.(с учетом рейтинга) -рекомендашка (4)"
   ]
  },
  {
   "cell_type": "markdown",
   "id": "aad8fa3b-f0f9-483c-830a-c09e32457ed0",
   "metadata": {},
   "source": [
    "## Работа с юзерами\n",
    "\n",
    "1. Юзер новый и хочет рекомендаций- Юзер выбирает жанр и мы выдаем топ -5 по populatiry (в соответствии с жанром)\n",
    "2. Юзер посмотрел несоклько фильмов - подбираем похожий фильм (жанр, и тэги с учетом их весов (relevance))\n",
    "3. Юзер посмотрел несколько фильмов и поставил рейтинг менее 5 раз но больше 0. Фиксируем тэг фильмов на которые был поставлен рейтинг. И в зависимости от оценки уменьшаемили увеличиваем веса жанров/тэгов пропорционально оценке.\n",
    "4. Юзер посмотрел несколько фильмов и поставил рейтинг 5+раз  - подбираем рекомендации ( в соответвии с его рейтингами)"
   ]
  },
  {
   "cell_type": "code",
   "execution_count": 15,
   "id": "f71d2fe8-fcaf-4a53-8d36-6f43fe04cea8",
   "metadata": {},
   "outputs": [
    {
     "data": {
      "text/html": [
       "<div>\n",
       "<style scoped>\n",
       "    .dataframe tbody tr th:only-of-type {\n",
       "        vertical-align: middle;\n",
       "    }\n",
       "\n",
       "    .dataframe tbody tr th {\n",
       "        vertical-align: top;\n",
       "    }\n",
       "\n",
       "    .dataframe thead th {\n",
       "        text-align: right;\n",
       "    }\n",
       "</style>\n",
       "<table border=\"1\" class=\"dataframe\">\n",
       "  <thead>\n",
       "    <tr style=\"text-align: right;\">\n",
       "      <th></th>\n",
       "      <th>title</th>\n",
       "      <th>genres</th>\n",
       "      <th>ave_rating</th>\n",
       "      <th>rating_count</th>\n",
       "      <th>weighted_rating</th>\n",
       "    </tr>\n",
       "  </thead>\n",
       "  <tbody>\n",
       "    <tr>\n",
       "      <th>44066</th>\n",
       "      <td>Band of Brothers (2001)</td>\n",
       "      <td>Action|Drama|War</td>\n",
       "      <td>4.423986</td>\n",
       "      <td>2835</td>\n",
       "      <td>4.419025</td>\n",
       "    </tr>\n",
       "    <tr>\n",
       "      <th>1930</th>\n",
       "      <td>Seven Samurai (Shichinin no samurai) (1954)</td>\n",
       "      <td>Action|Adventure|Drama</td>\n",
       "      <td>4.250818</td>\n",
       "      <td>17120</td>\n",
       "      <td>4.250095</td>\n",
       "    </tr>\n",
       "    <tr>\n",
       "      <th>41020</th>\n",
       "      <td>Over the Garden Wall (2013)</td>\n",
       "      <td>Adventure|Animation|Drama</td>\n",
       "      <td>4.256993</td>\n",
       "      <td>1430</td>\n",
       "      <td>4.248352</td>\n",
       "    </tr>\n",
       "    <tr>\n",
       "      <th>2867</th>\n",
       "      <td>Fight Club (1999)</td>\n",
       "      <td>Action|Crime|Drama|Thriller</td>\n",
       "      <td>4.236019</td>\n",
       "      <td>86207</td>\n",
       "      <td>4.235877</td>\n",
       "    </tr>\n",
       "    <tr>\n",
       "      <th>82617</th>\n",
       "      <td>Spider-Man: Across the Spider-Verse (2023)</td>\n",
       "      <td>Action|Adventure|Animation|Sci-Fi</td>\n",
       "      <td>4.252841</td>\n",
       "      <td>528</td>\n",
       "      <td>4.229790</td>\n",
       "    </tr>\n",
       "    <tr>\n",
       "      <th>5509</th>\n",
       "      <td>Spirited Away (Sen to Chihiro no kamikakushi) ...</td>\n",
       "      <td>Adventure|Animation|Fantasy</td>\n",
       "      <td>4.226035</td>\n",
       "      <td>35375</td>\n",
       "      <td>4.225692</td>\n",
       "    </tr>\n",
       "    <tr>\n",
       "      <th>55378</th>\n",
       "      <td>Spider-Man: Into the Spider-Verse (2018)</td>\n",
       "      <td>Action|Adventure|Animation|Sci-Fi</td>\n",
       "      <td>4.192053</td>\n",
       "      <td>10885</td>\n",
       "      <td>4.190971</td>\n",
       "    </tr>\n",
       "    <tr>\n",
       "      <th>12221</th>\n",
       "      <td>Dark Knight, The (2008)</td>\n",
       "      <td>Action|Crime|Drama|IMAX</td>\n",
       "      <td>4.187539</td>\n",
       "      <td>65349</td>\n",
       "      <td>4.187359</td>\n",
       "    </tr>\n",
       "    <tr>\n",
       "      <th>887</th>\n",
       "      <td>North by Northwest (1959)</td>\n",
       "      <td>Action|Adventure|Mystery|Romance|Thriller</td>\n",
       "      <td>4.187337</td>\n",
       "      <td>21883</td>\n",
       "      <td>4.186801</td>\n",
       "    </tr>\n",
       "    <tr>\n",
       "      <th>5905</th>\n",
       "      <td>City of God (Cidade de Deus) (2002)</td>\n",
       "      <td>Action|Adventure|Crime|Drama|Thriller</td>\n",
       "      <td>4.183597</td>\n",
       "      <td>27209</td>\n",
       "      <td>4.183167</td>\n",
       "    </tr>\n",
       "  </tbody>\n",
       "</table>\n",
       "</div>"
      ],
      "text/plain": [
       "                                                   title  \\\n",
       "44066                            Band of Brothers (2001)   \n",
       "1930         Seven Samurai (Shichinin no samurai) (1954)   \n",
       "41020                        Over the Garden Wall (2013)   \n",
       "2867                                   Fight Club (1999)   \n",
       "82617         Spider-Man: Across the Spider-Verse (2023)   \n",
       "5509   Spirited Away (Sen to Chihiro no kamikakushi) ...   \n",
       "55378           Spider-Man: Into the Spider-Verse (2018)   \n",
       "12221                            Dark Knight, The (2008)   \n",
       "887                            North by Northwest (1959)   \n",
       "5905                 City of God (Cidade de Deus) (2002)   \n",
       "\n",
       "                                          genres  ave_rating  rating_count  \\\n",
       "44066                           Action|Drama|War    4.423986          2835   \n",
       "1930                      Action|Adventure|Drama    4.250818         17120   \n",
       "41020                  Adventure|Animation|Drama    4.256993          1430   \n",
       "2867                 Action|Crime|Drama|Thriller    4.236019         86207   \n",
       "82617          Action|Adventure|Animation|Sci-Fi    4.252841           528   \n",
       "5509                 Adventure|Animation|Fantasy    4.226035         35375   \n",
       "55378          Action|Adventure|Animation|Sci-Fi    4.192053         10885   \n",
       "12221                    Action|Crime|Drama|IMAX    4.187539         65349   \n",
       "887    Action|Adventure|Mystery|Romance|Thriller    4.187337         21883   \n",
       "5905       Action|Adventure|Crime|Drama|Thriller    4.183597         27209   \n",
       "\n",
       "       weighted_rating  \n",
       "44066         4.419025  \n",
       "1930          4.250095  \n",
       "41020         4.248352  \n",
       "2867          4.235877  \n",
       "82617         4.229790  \n",
       "5509          4.225692  \n",
       "55378         4.190971  \n",
       "12221         4.187359  \n",
       "887           4.186801  \n",
       "5905          4.183167  "
      ]
     },
     "execution_count": 15,
     "metadata": {},
     "output_type": "execute_result"
    }
   ],
   "source": [
    "popularity_df = preprocess_popularity(ratings)\n",
    "\n",
    "# Непосредственно рекомендации\n",
    "recommend_top_movies_by_genres(\"Action\", \"Adventure\", movies_df=movies, popularity_df=popularity_df)"
   ]
  },
  {
   "cell_type": "code",
   "execution_count": 9,
   "id": "fa6e3823-463f-49ff-9f67-b39227ebfddf",
   "metadata": {},
   "outputs": [
    {
     "data": {
      "application/vnd.jupyter.widget-view+json": {
       "model_id": "a11b8e8e8dc5474484c8e1c0462dd317",
       "version_major": 2,
       "version_minor": 0
      },
      "text/plain": [
       "VBox(children=(SelectMultiple(description='Жанры', index=(1,), options=('(no genres listed)', 'Action', 'Adven…"
      ]
     },
     "metadata": {},
     "output_type": "display_data"
    }
   ],
   "source": [
    "\n",
    "# Интерактивный режим \n",
    "show_recommendations(movies_df=movies, ratings_df=ratings)"
   ]
  },
  {
   "cell_type": "markdown",
   "id": "190fdd45-30a7-4af0-889e-5e46aa9a2271",
   "metadata": {},
   "source": [
    "# Ручной метод (ручная сборка векторов)"
   ]
  },
  {
   "cell_type": "markdown",
   "id": "7307206b-265c-496f-91ed-a73ee19b1249",
   "metadata": {},
   "source": [
    "## 1. Пробуем постой поиск по косинусовому сходству"
   ]
  },
  {
   "cell_type": "code",
   "execution_count": 11,
   "id": "59d250a2-70a4-4e3c-bcdd-17327c44d3bb",
   "metadata": {},
   "outputs": [],
   "source": [
    "tag_set = sorted(genome_scores['tagId'].unique())\n",
    "tag_index = {tag: i for i, tag in enumerate(tag_set)}\n",
    "\n",
    "\n",
    "def create_tag_vector(movieId, genome_scores, tag_index, vector_len):\n",
    "    \"\"\"\n",
    "    Создает разреженный вектор тегов фиксированной длины с релевантностями.\n",
    "    \"\"\"\n",
    "    movie_tags = genome_scores[genome_scores['movieId'] == movieId]\n",
    "\n",
    "    indices = []\n",
    "    data = []\n",
    "\n",
    "    for _, row in movie_tags.iterrows():\n",
    "        tag_id = row['tagId']\n",
    "        relevance = row['relevance']\n",
    "        if tag_id in tag_index:\n",
    "            indices.append(tag_index[tag_id])\n",
    "            data.append(relevance)\n",
    "\n",
    "    # Проверка на корректность индексов\n",
    "    if len(indices) == 0:\n",
    "        print(f\"Warning: No valid tags found for movieId {movieId}\")\n",
    "    \n",
    "    return csr_matrix((data, ([0]*len(indices), indices)), shape=(1, vector_len))\n",
    "\n",
    "def create_genre_vector(batch, all_genres):\n",
    "    \"\"\"\n",
    "    Преобразует жанры фильмов в one-hot вектора.\n",
    "    \"\"\"\n",
    "    genre_matrix = np.zeros((len(batch), len(all_genres)))\n",
    "    \n",
    "    for i, genre_string in enumerate(batch['genres']):\n",
    "        genres = genre_string.split('|')  # <--- добавили сплит по '|'\n",
    "        for genre in genres:\n",
    "            genre = genre.strip()\n",
    "            if genre in all_genres:\n",
    "                genre_matrix[i][all_genres.index(genre)] = 1\n",
    "            else:\n",
    "                print(f\"Warning: Genre {genre} not found in all_genres.\")\n",
    "    \n",
    "    return pd.DataFrame(genre_matrix, index=batch['movieId'], columns=all_genres)\n",
    "\n",
    "\n",
    "def create_movie_vectors(movies_df, genome_scores, all_genres):\n",
    "    \"\"\"\n",
    "    Создает разреженную матрицу для каждого фильма на основе жанров и тегов.\n",
    "    \"\"\"\n",
    "    genre_df = create_genre_vector(movies_df, all_genres)\n",
    "    tag_set = genome_scores['tagId'].unique()\n",
    "    \n",
    "    tag_vectors = {}\n",
    "    for movieId in movies_df['movieId']:\n",
    "        tag_vectors[movieId] = create_tag_vector(movieId, genome_scores, tag_set)\n",
    "    \n",
    "    movie_vectors = {}\n",
    "    for movieId in movies_df['movieId']:\n",
    "        genre_vector = genre_df.loc[movieId].values\n",
    "        tag_vector = tag_vectors[movieId].toarray().flatten()  # Преобразуем разреженный вектор в плотный\n",
    "        movie_vectors[movieId] = np.concatenate([genre_vector, tag_vector])\n",
    "    \n",
    "    return movie_vectors\n",
    "\n",
    "def recommend_similar_movies(movie_id, movies_df, X_reduced_final, top_n=10):\n",
    "    \"\"\"\n",
    "    Рекомендации по одному фильму на основе косинусного сходства с использованием пониженных векторов.\n",
    "    \"\"\"\n",
    "    print(f\"Общее количество векторов фильмов: {len(X_reduced_final)}\")\n",
    "\n",
    "    # Шаг 1: Получаем вектор для целевого фильма (по индексам в X_reduced_final)\n",
    "    movie_vector = X_reduced_final[movie_id]\n",
    "    \n",
    "    # Получаем название фильма\n",
    "    movie_title = movies_df.loc[movies_df['movieId'] == movie_id, 'title'].values[0]\n",
    "    \n",
    "    print(f\"\\nРекомендации для фильма: '{movie_title}'\\n\")\n",
    "\n",
    "    # Шаг 2: Вычисляем сходство по всем фильмам (используем косинусное сходство)\n",
    "    similarities = cosine_similarity([movie_vector], X_reduced_final)[0]\n",
    "\n",
    "    # Шаг 3: Сортируем фильмы по похожести\n",
    "    similar_movies_indices = similarities.argsort()[-top_n-1:-1][::-1]\n",
    "    \n",
    "    # Шаг 4: Получаем топ-N похожих фильмов\n",
    "    similar_movies = movies_df.iloc[similar_movies_indices].copy()  # Копируем, чтобы избежать предупреждения\n",
    "    similar_movies.loc[:, 'similarity'] = similarities[similar_movies_indices]  # Используем .loc для модификации\n",
    "\n",
    "    # Выводим топ-N похожих фильмов\n",
    "    return similar_movies[['title', 'genres', 'similarity']]\n",
    "\n",
    "\n",
    "\n",
    "def process_batch(batch, all_genres, genome_scores, tag_index, tag_vector_len):\n",
    "    \"\"\"\n",
    "    Обрабатывает одну партию фильмов: генерирует векторы жанров и тегов для фильмов.\n",
    "    \"\"\"\n",
    "    genre_df = create_genre_vector(batch, all_genres)\n",
    "    tag_vectors = {}\n",
    "\n",
    "    for movieId in batch['movieId']:\n",
    "        tag_vectors[movieId] = create_tag_vector(movieId, genome_scores, tag_index, tag_vector_len)\n",
    "\n",
    "    movie_vectors = {}\n",
    "    for movieId in batch['movieId']:\n",
    "        genre_vector = genre_df.loc[movieId].values\n",
    "        tag_vector = tag_vectors[movieId].toarray().flatten()\n",
    "        movie_vectors[movieId] = np.concatenate([genre_vector, tag_vector])\n",
    "\n",
    "    return movie_vectors\n",
    "    \n",
    "def process_movie_vectors_in_parallel(movies_df, genome_scores, all_genres, batch_size=1000, usage_ratio=0.6):\n",
    "    \"\"\"\n",
    "    Обрабатывает данные в партиях параллельно, с отображением прогресса.\n",
    "    usage_ratio — доля доступных ядер, которую можно задействовать (например, 0.6 = 60%)\n",
    "    \"\"\"\n",
    "    total_movies = len(movies_df)\n",
    "    movie_vectors = {}\n",
    "\n",
    "    # Получаем фиксированный набор тегов и индекс\n",
    "    tag_set = sorted(genome_scores['tagId'].unique())\n",
    "    tag_index = {tag: i for i, tag in enumerate(tag_set)}\n",
    "    tag_vector_len = len(tag_index)\n",
    "\n",
    "    # Определяем количество используемых процессов\n",
    "    cpu_count = multiprocessing.cpu_count()\n",
    "    used_workers = max(1, int(cpu_count * usage_ratio))\n",
    "    print(f\"[INFO] Доступно ядер: {cpu_count}, будет использоваться: {used_workers}\")\n",
    "\n",
    "    with ProcessPoolExecutor(max_workers=used_workers) as executor:\n",
    "        futures = []\n",
    "        with tqdm(total=total_movies, desc=\"Processing Movies\") as pbar:\n",
    "            for start_idx in range(0, total_movies, batch_size):\n",
    "                end_idx = min(start_idx + batch_size, total_movies)\n",
    "                batch = movies_df.iloc[start_idx:end_idx]\n",
    "                futures.append(\n",
    "                    executor.submit(\n",
    "                        process_batch,\n",
    "                        batch,\n",
    "                        all_genres,\n",
    "                        genome_scores,\n",
    "                        tag_index,\n",
    "                        tag_vector_len\n",
    "                    )\n",
    "                )\n",
    "\n",
    "            for future in concurrent.futures.as_completed(futures):\n",
    "                batch_movie_vectors = future.result()\n",
    "                movie_vectors.update(batch_movie_vectors)\n",
    "                pbar.update(batch_size)\n",
    "\n",
    "    return movie_vectors"
   ]
  },
  {
   "cell_type": "code",
   "execution_count": null,
   "id": "34f95118-e31a-4cc7-8172-edc6e922e180",
   "metadata": {},
   "outputs": [],
   "source": []
  },
  {
   "cell_type": "code",
   "execution_count": 4,
   "id": "0c7f0b89-d12b-4a12-be98-cdf7af312c11",
   "metadata": {},
   "outputs": [],
   "source": [
    "all_genres = get_all_genres(movies)\n"
   ]
  },
  {
   "cell_type": "code",
   "execution_count": 5,
   "id": "5057b673-b9f3-41f6-ae59-fd18caeae866",
   "metadata": {},
   "outputs": [
    {
     "data": {
      "text/plain": [
       "['(no genres listed)',\n",
       " 'Action',\n",
       " 'Adventure',\n",
       " 'Animation',\n",
       " 'Children',\n",
       " 'Comedy',\n",
       " 'Crime',\n",
       " 'Documentary',\n",
       " 'Drama',\n",
       " 'Fantasy',\n",
       " 'Film-Noir',\n",
       " 'Horror',\n",
       " 'IMAX',\n",
       " 'Musical',\n",
       " 'Mystery',\n",
       " 'Romance',\n",
       " 'Sci-Fi',\n",
       " 'Thriller',\n",
       " 'War',\n",
       " 'Western']"
      ]
     },
     "execution_count": 5,
     "metadata": {},
     "output_type": "execute_result"
    }
   ],
   "source": [
    "all_genres"
   ]
  },
  {
   "cell_type": "code",
   "execution_count": 37,
   "id": "13049ffa-16f6-445a-bc3e-529656377b77",
   "metadata": {},
   "outputs": [
    {
     "name": "stdout",
     "output_type": "stream",
     "text": [
      "[INFO] Доступно ядер: 16, будет использоваться: 9\n"
     ]
    },
    {
     "name": "stderr",
     "output_type": "stream",
     "text": [
      "Processing Movies: 87000it [23:33, 61.55it/s]                                                                                                                                                                                                                                                                       \n"
     ]
    }
   ],
   "source": [
    "# movie_vectors_all = process_movie_vectors_in_parallel(movies, genome_scores, all_genres)"
   ]
  },
  {
   "cell_type": "code",
   "execution_count": 38,
   "id": "dfba6342-9021-4ed1-b9f9-89db8565060a",
   "metadata": {},
   "outputs": [
    {
     "name": "stdout",
     "output_type": "stream",
     "text": [
      "Данные сохранены в файл.\n"
     ]
    }
   ],
   "source": [
    "# # Сохраняем данные в файл\n",
    "# # Создаем директорию, если она не существует\n",
    "# os.makedirs('content/films', exist_ok=True)\n",
    "\n",
    "# with open('content/films/movie_vectors_all.dill', 'wb') as f:\n",
    "#     dill.dump(movie_vectors_all, f)\n",
    "\n",
    "# print(\"Данные сохранены в файл.\")"
   ]
  },
  {
   "cell_type": "code",
   "execution_count": 9,
   "id": "a75a3435-378b-4c6d-86e8-6dda6583f3cc",
   "metadata": {},
   "outputs": [],
   "source": [
    "with open('content/films/movie_vectors_all.dill', 'rb') as f:\n",
    "    movie_vectors_all = dill.load(f)\n"
   ]
  },
  {
   "cell_type": "code",
   "execution_count": 43,
   "id": "c9a503fa-f24c-4d84-8770-0fc382521aad",
   "metadata": {},
   "outputs": [
    {
     "data": {
      "image/png": "[encoded data removed]",
      "text/plain": [
       "<Figure size 800x600 with 1 Axes>"
      ]
     },
     "metadata": {},
     "output_type": "display_data"
    }
   ],
   "source": [
    "X_sparse = csr_matrix(np.array([vec for vec in movie_vectors_all.values()]))\n",
    "\n",
    "# Обучаем SVD (на большое число компонент — например 300)\n",
    "svd = TruncatedSVD(n_components=300, random_state=42)\n",
    "X_reduced = svd.fit_transform(X_sparse)\n",
    "\n",
    "# Строим график накопленной объяснённой дисперсии\n",
    "plt.figure(figsize=(8,6))\n",
    "plt.plot(np.cumsum(svd.explained_variance_ratio_), marker='o')\n",
    "plt.xlabel('Number of Components')\n",
    "plt.ylabel('Cumulative Explained Variance')\n",
    "plt.title('TruncatedSVD: Explained Variance vs. Number of Components')\n",
    "plt.grid(True)\n",
    "plt.show()\n"
   ]
  },
  {
   "cell_type": "code",
   "execution_count": 46,
   "id": "baf00fe8-bc5b-474a-b0fc-3dd6c214f7df",
   "metadata": {},
   "outputs": [
    {
     "name": "stdout",
     "output_type": "stream",
     "text": [
      "Распределение длин: Counter({1148: 86537})\n"
     ]
    }
   ],
   "source": [
    "lengths = [len(vec) for vec in movie_vectors_all.values()]\n",
    "length_counts = Counter(lengths)\n",
    "print(\"Распределение длин:\", length_counts)"
   ]
  },
  {
   "cell_type": "code",
   "execution_count": 47,
   "id": "925777ae-d937-473a-a061-3be4feb7353d",
   "metadata": {},
   "outputs": [
    {
     "name": "stdout",
     "output_type": "stream",
     "text": [
      "Обработано и сохранено 86537 фильмов с 300 компонентами.\n"
     ]
    }
   ],
   "source": [
    "# # Окончательная версия: использование 300 компонент для TruncatedSVD\n",
    "# svd_final = TruncatedSVD(n_components=300, random_state=42)\n",
    "# X_reduced_final = svd_final.fit_transform(X_sparse)\n",
    "\n",
    "# # Сохраняем результат \n",
    "# with open('content/films/X_reduced_final.dill', 'wb') as f:\n",
    "#     dill.dump(X_reduced_final, f)\n",
    "\n",
    "# print(f\"Обработано и сохранено {X_reduced_final.shape[0]} фильмов с {X_reduced_final.shape[1]} компонентами.\")"
   ]
  },
  {
   "cell_type": "code",
   "execution_count": 10,
   "id": "9cd6513d-66cf-44e6-a440-066d09eba440",
   "metadata": {},
   "outputs": [],
   "source": [
    "with open('content/films/X_reduced_final.dill', 'rb') as f:\n",
    "    X_reduced_final = dill.load(f)\n"
   ]
  },
  {
   "cell_type": "code",
   "execution_count": 58,
   "id": "7a63365e-a6d8-4250-92fe-f1f8348d3223",
   "metadata": {},
   "outputs": [
    {
     "name": "stdout",
     "output_type": "stream",
     "text": [
      "Общее количество векторов фильмов: 86537\n",
      "\n",
      "Рекомендации для фильма: 'Toy Story (1995)'\n",
      "\n",
      "                                    title  \\\n",
      "1965      Honey, I Shrunk the Kids (1989)   \n",
      "14945               Knight and Day (2010)   \n",
      "3338   Death Wish 4: The Crackdown (1987)   \n",
      "1760                Borrowers, The (1997)   \n",
      "4392                        D.O.A. (1988)   \n",
      "\n",
      "                                         genres  similarity  \n",
      "1965   Adventure|Children|Comedy|Fantasy|Sci-Fi    0.901724  \n",
      "14945                     Action|Comedy|Romance    0.873002  \n",
      "3338                               Action|Drama    0.871944  \n",
      "1760          Adventure|Children|Comedy|Fantasy    0.868100  \n",
      "4392                 Film-Noir|Mystery|Thriller    0.862770  \n"
     ]
    }
   ],
   "source": [
    "movie_id = 1  # Идентификатор фильма, для которого ищем похожие\n",
    "similar_movies = recommend_similar_movies(movie_id, movies_df=movies, X_reduced_final=X_reduced_final, top_n=5)\n",
    "print(similar_movies)"
   ]
  },
  {
   "cell_type": "markdown",
   "id": "46f1b9e3-86d7-4e11-80f0-047a9e124447",
   "metadata": {},
   "source": [
    "## 2. Попробуем поиск по KNN"
   ]
  },
  {
   "cell_type": "markdown",
   "id": "71e5e707-a7bc-484e-8bc9-bb2c8745c5a6",
   "metadata": {},
   "source": [
    "Т.к KNN фактически K-means для поиска кол-ва кластеров всопльзуем методами локтя и силуэта"
   ]
  },
  {
   "cell_type": "code",
   "execution_count": 82,
   "id": "2ca7d53a-f807-475f-881c-528642f9be19",
   "metadata": {},
   "outputs": [],
   "source": [
    "def recommend_similar_movies_knn(movie_id, movies_df, X_reduced_final, top_n=10):\n",
    "    \"\"\"\n",
    "    Рекомендации по фильму с использованием KNN и пониженных векторов.\n",
    "    \"\"\"\n",
    "\n",
    "     # Шаг 1: Получаем вектор для целевого фильма (по индексам в X_reduced_final)\n",
    "    movie_vector = X_reduced_final[movie_id]\n",
    "    \n",
    "    # Получаем название фильма\n",
    "    movie_title = movies_df.loc[movies_df['movieId'] == movie_id, 'title'].values[0]\n",
    "    \n",
    "    print(f\"\\nРекомендации для фильма: '{movie_title}'\\n\")\n",
    "    \n",
    "    # Шаг 2: Получаем вектор для целевого фильма\n",
    "    movie_vector = X_reduced_final[movie_id]\n",
    "    \n",
    "    # Шаг 3: Используем KNN для поиска ближайших фильмов\n",
    "    knn = NearestNeighbors(n_neighbors=top_n + 1, metric='cosine')  # Используем косинусное сходство\n",
    "    knn.fit(X_reduced_final)\n",
    "    \n",
    "    # Шаг 4: Находим похожие фильмы\n",
    "    distances, indices = knn.kneighbors([movie_vector])\n",
    "    \n",
    "    # Шаг 4: Получаем список похожих фильмов\n",
    "    similar_movies = []\n",
    "    for i in range(1, len(indices[0])):  # Начинаем с 1, чтобы исключить сам фильм\n",
    "        similar_movie_id = movies_df.iloc[indices[0][i]]['movieId']\n",
    "        similar_movie_title = movies_df.loc[movies_df['movieId'] == similar_movie_id, 'title'].values[0]\n",
    "        similar_movies.append((similar_movie_title, distances[0][i]))\n",
    "\n",
    "    return similar_movies"
   ]
  },
  {
   "cell_type": "code",
   "execution_count": 88,
   "id": "0a891e1a-ce83-448d-b325-28bfd7c08234",
   "metadata": {},
   "outputs": [
    {
     "name": "stdout",
     "output_type": "stream",
     "text": [
      "\n",
      "Рекомендации для фильма: 'Toy Story (1995)'\n",
      "\n"
     ]
    }
   ],
   "source": [
    "# Пример использования:\n",
    "movie_id = 1  # Идентификатор фильма, для которого ищем похожие\n",
    "similar_movies_knn = recommend_similar_movies_knn(movie_id, movies_df=movies, X_reduced_final=X_reduced_final, top_n=5)\n"
   ]
  },
  {
   "cell_type": "code",
   "execution_count": 86,
   "id": "2594d92d-6a3e-44f8-a93a-2f6e0699389a",
   "metadata": {},
   "outputs": [],
   "source": [
    "recommendations_knn_df = pd.DataFrame(similar_movies_knn, columns=[\"Recommended Movie\", \"Similarity\"])"
   ]
  },
  {
   "cell_type": "code",
   "execution_count": 87,
   "id": "774c0159-1a82-48b9-92de-91a9f8b77fd5",
   "metadata": {},
   "outputs": [
    {
     "data": {
      "text/html": [
       "<div>\n",
       "<style scoped>\n",
       "    .dataframe tbody tr th:only-of-type {\n",
       "        vertical-align: middle;\n",
       "    }\n",
       "\n",
       "    .dataframe tbody tr th {\n",
       "        vertical-align: top;\n",
       "    }\n",
       "\n",
       "    .dataframe thead th {\n",
       "        text-align: right;\n",
       "    }\n",
       "</style>\n",
       "<table border=\"1\" class=\"dataframe\">\n",
       "  <thead>\n",
       "    <tr style=\"text-align: right;\">\n",
       "      <th></th>\n",
       "      <th>Recommended Movie</th>\n",
       "      <th>Similarity</th>\n",
       "    </tr>\n",
       "  </thead>\n",
       "  <tbody>\n",
       "    <tr>\n",
       "      <th>0</th>\n",
       "      <td>Honey, I Shrunk the Kids (1989)</td>\n",
       "      <td>0.098276</td>\n",
       "    </tr>\n",
       "    <tr>\n",
       "      <th>1</th>\n",
       "      <td>Knight and Day (2010)</td>\n",
       "      <td>0.126998</td>\n",
       "    </tr>\n",
       "    <tr>\n",
       "      <th>2</th>\n",
       "      <td>Death Wish 4: The Crackdown (1987)</td>\n",
       "      <td>0.128056</td>\n",
       "    </tr>\n",
       "    <tr>\n",
       "      <th>3</th>\n",
       "      <td>Borrowers, The (1997)</td>\n",
       "      <td>0.131900</td>\n",
       "    </tr>\n",
       "    <tr>\n",
       "      <th>4</th>\n",
       "      <td>D.O.A. (1988)</td>\n",
       "      <td>0.137230</td>\n",
       "    </tr>\n",
       "  </tbody>\n",
       "</table>\n",
       "</div>"
      ],
      "text/plain": [
       "                    Recommended Movie  Similarity\n",
       "0     Honey, I Shrunk the Kids (1989)    0.098276\n",
       "1               Knight and Day (2010)    0.126998\n",
       "2  Death Wish 4: The Crackdown (1987)    0.128056\n",
       "3               Borrowers, The (1997)    0.131900\n",
       "4                       D.O.A. (1988)    0.137230"
      ]
     },
     "execution_count": 87,
     "metadata": {},
     "output_type": "execute_result"
    }
   ],
   "source": [
    "recommendations_knn_df"
   ]
  },
  {
   "cell_type": "markdown",
   "id": "728fed99-418e-4b8a-9f04-e3b78d93db51",
   "metadata": {},
   "source": [
    "## 3. Попробуем кластеризацию"
   ]
  },
  {
   "cell_type": "code",
   "execution_count": 89,
   "id": "a13aca3c-baca-44e8-82b3-7a6a5a30cf2e",
   "metadata": {},
   "outputs": [
    {
     "data": {
      "text/plain": [
       "(86537, 300)"
      ]
     },
     "execution_count": 89,
     "metadata": {},
     "output_type": "execute_result"
    }
   ],
   "source": [
    "X_reduced_final.shape"
   ]
  },
  {
   "cell_type": "markdown",
   "id": "6189138f-ced6-4e4e-b006-95c9a1ccfc84",
   "metadata": {},
   "source": [
    "## Попробуем HDBSCAN"
   ]
  },
  {
   "cell_type": "code",
   "execution_count": 110,
   "id": "45848c76-881d-4b31-81dd-3cc4811a6dcb",
   "metadata": {},
   "outputs": [
    {
     "name": "stdout",
     "output_type": "stream",
     "text": [
      "Количество кластеров: 4\n",
      "Количество шумовых точек (метка -1): 12820\n"
     ]
    }
   ],
   "source": [
    "# Создаем объект кластеризатора HDBSCAN\n",
    "clusterer = hdbscan.HDBSCAN(min_cluster_size=10, gen_min_span_tree=True)\n",
    "\n",
    "# Применяем кластеризацию\n",
    "clusters_all_hdbscan = clusterer.fit_predict(X_reduced_final)\n",
    "\n",
    "# Получаем информацию о кластерах\n",
    "print(f\"Количество кластеров: {len(np.unique(clusters_all_hdbscan))}\")\n",
    "print(f\"Количество шумовых точек (метка -1): {np.sum(clusters_all_hdbscan == -1)}\")\n"
   ]
  },
  {
   "cell_type": "code",
   "execution_count": 115,
   "id": "5190096f-eaec-47de-9c94-1a0e68851dbe",
   "metadata": {},
   "outputs": [],
   "source": [
    "with open('content/films/clusters_all_hdbscan.dill', 'wb') as f:\n",
    "    dill.dump(clusters_all_hdbscan, f)"
   ]
  },
  {
   "cell_type": "markdown",
   "id": "a23ef3c2-55dc-4a7a-b9e3-b2c91ca6cf4d",
   "metadata": {},
   "source": [
    "### Разбивка очнеь плохая нет смысла ее использовать"
   ]
  },
  {
   "cell_type": "markdown",
   "id": "637af545-892f-4ed4-9cfe-0bc6458ee466",
   "metadata": {},
   "source": [
    "## Попробуем AgglomerativeClustering"
   ]
  },
  {
   "cell_type": "code",
   "execution_count": 113,
   "id": "c99c8213-0611-4274-a081-07d4abfa6a89",
   "metadata": {},
   "outputs": [],
   "source": [
    "# Шаг 1: Ресэмплинг данных\n",
    "X_sample = resample(X_reduced_final, n_samples=20000, random_state=42)\n",
    "\n",
    "# Иерархическая кластеризация на подмножестве данных\n",
    "agg_clustering = AgglomerativeClustering(distance_threshold=0.5, n_clusters=None)\n",
    "clusters_sample = agg_clustering.fit_predict(X_sample)\n",
    "\n",
    "# Получаем ссылки на кластеры из агломеративного дерева\n",
    "linkage_matrix = agg_clustering.children_"
   ]
  },
  {
   "cell_type": "code",
   "execution_count": 116,
   "id": "6d5ba826-df9e-45a3-b854-8c5eb81a5d84",
   "metadata": {},
   "outputs": [],
   "source": [
    "# Шаг 2: Применяем ближайших соседей для всех точек X_encod, чтобы найти кластер для каждой точки\n",
    "# Найдем ближайших соседей для X_sample\n",
    "nbrs = NearestNeighbors(n_neighbors=10, algorithm='ball_tree').fit(X_sample)\n",
    "distances, indices = nbrs.kneighbors(X_reduced_final)\n",
    "\n",
    "# Теперь каждому элементу из X_encod мы присваиваем кластер ближайшего соседа из X_sample\n",
    "clusters_all = clusters_sample[indices.flatten()]"
   ]
  },
  {
   "cell_type": "code",
   "execution_count": 117,
   "id": "02b521ce-9fe5-42a6-a119-b5df9d5d7fdf",
   "metadata": {},
   "outputs": [
    {
     "name": "stdout",
     "output_type": "stream",
     "text": [
      "Количество кластеров: 3469\n",
      "Количество шумовых точек (метка -1): 0\n"
     ]
    }
   ],
   "source": [
    "# Получаем информацию о кластерах\n",
    "print(f\"Количество кластеров: {len(np.unique(clusters_all))}\")\n",
    "print(f\"Количество шумовых точек (метка -1): {np.sum(clusters_all == -1)}\")"
   ]
  },
  {
   "cell_type": "code",
   "execution_count": 140,
   "id": "95c7f93a-b880-450d-b312-3cb0a0a011fa",
   "metadata": {},
   "outputs": [],
   "source": [
    "def recommend_similar_movies_by_agglomerative_cluster(movie_id, movies_df, X_reduced_final, clusters_all, top_n=10):\n",
    "    \"\"\"\n",
    "    Рекомендации по фильму с использованием агломеративной кластеризации и пониженных векторов.\n",
    "    Фильмы выбираются из того же кластера, и сортируются по евклидовому расстоянию.\n",
    "    \"\"\"\n",
    "    \n",
    "    # Шаг 1: Получаем индекс фильма в movies_df по movieId\n",
    "    movie_index = movies_df[movies_df['movieId'] == movie_id].index[0]  # Ищем индекс фильма по movieId\n",
    "    movie_vector = X_reduced_final[movie_index]\n",
    "    \n",
    "    # Получаем название фильма\n",
    "    movie_title = movies_df.loc[movies_df['movieId'] == movie_id, 'title'].values[0]\n",
    "    \n",
    "    print(f\"\\nРекомендации для фильма: '{movie_title}'\\n\")\n",
    "    \n",
    "    # Шаг 2: Находим кластер для целевого фильма\n",
    "    target_cluster = clusters_all[movie_index]\n",
    "    \n",
    "    # Шаг 3: Находим все фильмы, которые принадлежат тому же кластеру\n",
    "    cluster_indices = [i for i, cluster in enumerate(clusters_all) if cluster == target_cluster and i != movie_index]\n",
    "    \n",
    "    # Если кластер не содержит других фильмов, вернем None\n",
    "    if len(cluster_indices) == 0:\n",
    "        return None\n",
    "    \n",
    "    # Применяем фильтрацию индексов, чтобы избежать выхода за границы\n",
    "    valid_cluster_indices = [i for i in cluster_indices if i < len(X_reduced_final)]\n",
    "    \n",
    "    # Если не найдено валидных индексов, возвращаем None\n",
    "    if len(valid_cluster_indices) == 0:\n",
    "        return None\n",
    "    \n",
    "    # Извлекаем все векторы фильмов в этом кластере\n",
    "    cluster_vectors = X_reduced_final[valid_cluster_indices]\n",
    "    \n",
    "    # Вычисляем евклидово расстояние между целевым фильмом и всеми фильмами в кластере\n",
    "    distances = euclidean_distances([movie_vector], cluster_vectors)[0]\n",
    "    \n",
    "    # Шаг 4: Создаем список фильмов с расстоянием\n",
    "    similar_movies = []\n",
    "    for i, dist in zip(valid_cluster_indices, distances):\n",
    "        # Применяем iloc для получения данных по индексу\n",
    "        similar_movie_id = movies_df.iloc[i]['movieId']\n",
    "        similar_movie_title = movies_df.loc[movies_df['movieId'] == similar_movie_id, 'title'].values[0]\n",
    "        similar_movies.append({\n",
    "            'movieId': similar_movie_id,\n",
    "            'title': similar_movie_title,\n",
    "            'distance': dist\n",
    "        })\n",
    "    \n",
    "    # Шаг 5: Преобразуем в DataFrame для удобного вывода и сортируем по расстоянию\n",
    "    similar_movies_df = pd.DataFrame(similar_movies)\n",
    "    similar_movies_df = similar_movies_df.sort_values(by='distance', ascending=True)  # Сортируем по возрастанию расстояния\n",
    "    \n",
    "    # Возвращаем топ-n рекомендаций\n",
    "    return similar_movies_df.head(top_n)"
   ]
  },
  {
   "cell_type": "code",
   "execution_count": 153,
   "id": "7d469a4c-581e-4470-933c-041d22422090",
   "metadata": {},
   "outputs": [
    {
     "data": {
      "text/html": [
       "<div>\n",
       "<style scoped>\n",
       "    .dataframe tbody tr th:only-of-type {\n",
       "        vertical-align: middle;\n",
       "    }\n",
       "\n",
       "    .dataframe tbody tr th {\n",
       "        vertical-align: top;\n",
       "    }\n",
       "\n",
       "    .dataframe thead th {\n",
       "        text-align: right;\n",
       "    }\n",
       "</style>\n",
       "<table border=\"1\" class=\"dataframe\">\n",
       "  <thead>\n",
       "    <tr style=\"text-align: right;\">\n",
       "      <th></th>\n",
       "      <th>movieId</th>\n",
       "      <th>title</th>\n",
       "      <th>distance</th>\n",
       "    </tr>\n",
       "  </thead>\n",
       "  <tbody>\n",
       "    <tr>\n",
       "      <th>0</th>\n",
       "      <td>3699</td>\n",
       "      <td>Starman (1984)</td>\n",
       "      <td>6.158118</td>\n",
       "    </tr>\n",
       "    <tr>\n",
       "      <th>1</th>\n",
       "      <td>115019</td>\n",
       "      <td>Yank on the Burma Road, A (1942)</td>\n",
       "      <td>8.728472</td>\n",
       "    </tr>\n",
       "    <tr>\n",
       "      <th>2</th>\n",
       "      <td>140799</td>\n",
       "      <td>Truck Turner (1974)</td>\n",
       "      <td>8.728472</td>\n",
       "    </tr>\n",
       "    <tr>\n",
       "      <th>3</th>\n",
       "      <td>158031</td>\n",
       "      <td>The Little Theatre of Jean Renoir (1970)</td>\n",
       "      <td>8.728472</td>\n",
       "    </tr>\n",
       "    <tr>\n",
       "      <th>4</th>\n",
       "      <td>205591</td>\n",
       "      <td>The Uninvited (2003)</td>\n",
       "      <td>8.728472</td>\n",
       "    </tr>\n",
       "  </tbody>\n",
       "</table>\n",
       "</div>"
      ],
      "text/plain": [
       "   movieId                                     title  distance\n",
       "0     3699                            Starman (1984)  6.158118\n",
       "1   115019          Yank on the Burma Road, A (1942)  8.728472\n",
       "2   140799                       Truck Turner (1974)  8.728472\n",
       "3   158031  The Little Theatre of Jean Renoir (1970)  8.728472\n",
       "4   205591                      The Uninvited (2003)  8.728472"
      ]
     },
     "execution_count": 153,
     "metadata": {},
     "output_type": "execute_result"
    }
   ],
   "source": []
  },
  {
   "cell_type": "code",
   "execution_count": 157,
   "id": "37f07d22-c49c-4ff8-8a14-a3f3221d3af6",
   "metadata": {},
   "outputs": [
    {
     "name": "stdout",
     "output_type": "stream",
     "text": [
      "\n",
      "Рекомендации для фильма: 'Toy Story (1995)'\n",
      "\n",
      "                                      title  distance  \\\n",
      "0                            Starman (1984)  6.158118   \n",
      "1          Yank on the Burma Road, A (1942)  8.728472   \n",
      "2                       Truck Turner (1974)  8.728472   \n",
      "3  The Little Theatre of Jean Renoir (1970)  8.728472   \n",
      "4                      The Uninvited (2003)  8.728472   \n",
      "\n",
      "                           genres  \n",
      "0  Adventure|Drama|Romance|Sci-Fi  \n",
      "1                       Drama|War  \n",
      "2              Action|Crime|Drama  \n",
      "3              (no genres listed)  \n",
      "4          Action|Horror|Thriller  \n"
     ]
    }
   ],
   "source": [
    "movie_id = 1  # Например, фильм с индексом 1\n",
    "recommended_movies = recommend_similar_movies_by_agglomerative_cluster(movie_id, movies_df=movies, X_reduced_final=X_reduced_final, clusters_all=clusters_all, top_n=5)\n",
    "# Подтягиваем жанры для рекомендованных фильмов\n",
    "recommended_movies['genres'] = recommended_movies['title'].apply(lambda title: movies[movies['title'] == title]['genres'].values[0])\n",
    "# Выводим результат с жанрами\n",
    "print(recommended_movies[['title', 'distance', 'genres']])\n"
   ]
  },
  {
   "cell_type": "code",
   "execution_count": 158,
   "id": "5bcd0403-7e65-49c2-808d-5192b55fe756",
   "metadata": {},
   "outputs": [
    {
     "name": "stdout",
     "output_type": "stream",
     "text": [
      "\n",
      "Рекомендации для фильма: 'Jumanji (1995)'\n",
      "\n",
      "                            title  distance              genres\n",
      "0           Spare Bed-Room (1969)  6.688013  (no genres listed)\n",
      "1                Blue Rita (1977)  6.688013     Action|Thriller\n",
      "2  Come, Come, Come Upward (1989)  6.688013               Drama\n",
      "3       I Wish I Had Wings (1932)  6.688013    Animation|Comedy\n"
     ]
    }
   ],
   "source": [
    "movie_id = 2  # Например, фильм с индексом 1\n",
    "recommended_movies = recommend_similar_movies_by_agglomerative_cluster(movie_id, movies_df=movies, X_reduced_final=X_reduced_final, clusters_all=clusters_all, top_n=5)\n",
    "# Подтягиваем жанры для рекомендованных фильмов\n",
    "recommended_movies['genres'] = recommended_movies['title'].apply(lambda title: movies[movies['title'] == title]['genres'].values[0])\n",
    "# Выводим результат с жанрами\n",
    "print(recommended_movies[['title', 'distance', 'genres']])"
   ]
  },
  {
   "cell_type": "markdown",
   "id": "ee1c45e6-d32d-4322-b21e-dc884932743f",
   "metadata": {},
   "source": [
    "### Рекомендации очнеь инетресные но не коррелируют с другими методами"
   ]
  },
  {
   "cell_type": "markdown",
   "id": "b7cfccac-f4e7-4b35-bd69-4fbc9b870ee8",
   "metadata": {},
   "source": [
    "## User-based часть"
   ]
  },
  {
   "cell_type": "markdown",
   "id": "e1faaf4a-5c0d-437a-b88f-b904ce98cd00",
   "metadata": {},
   "source": [
    ". ALS (Alternating Least Squares)\n",
    "Описание: Это метод для матричной факторизации, который используется в collaborative filtering. ALS пытается разложить матрицу пользователь-товар на два более маленьких матрицы (пользовательская и товарная). Метод использует чередующиеся минимизации, чтобы предсказать недостающие значения.\n",
    "\n",
    "Преимущества: Хорошо работает, когда у вас есть много данных о взаимодействиях пользователей с объектами (например, рейтинги). ALS способен учитывать латентные факторы, которые могут влиять на предпочтения пользователей.\n",
    "\n",
    "Недостатки: Требует большого объема данных для обучения, и может быть медленным при работе с большими датасетами.\n",
    "\n",
    "2. KNN (k-Nearest Neighbors)\n",
    "Описание: Этот метод используется для определения сходства между пользователями (или объектами) на основе их профилей (например, по схожести рейтингов или векторных представлений).\n",
    "\n",
    "Как это работает для user-based: Мы находим ближайших соседей для конкретного пользователя, используя метрики сходства (например, косинусное расстояние, евклидово расстояние или корреляцию Пирсона). Затем на основе этих ближайших пользователей формируются рекомендации.\n",
    "\n",
    "Преимущества: Прост в реализации и подходит для небольших или средних данных.\n",
    "\n",
    "Недостатки: Может быть медленным для больших наборов данных, так как требует расчета сходства для каждого пользователя с каждым другим. Также не всегда хорошо работает с разреженными данными.\n",
    "\n",
    "3. User-Item Matrix Factorization\n",
    "Описание: Этот метод можно использовать, если ваша задача — факторизовать матрицу взаимодействий между пользователями и предметами. Например, вы можете использовать SVD (Singular Value Decomposition) для поиска скрытых факторов, которые объясняют взаимодействия.\n",
    "\n",
    "Преимущества: Может работать с разреженными матрицами и хорошо подходит для использования с implicit feedback (например, просмотры или клики).\n",
    "\n",
    "Недостатки: Потребует большого объема данных и может быть медленным на больших матрицах.\n",
    "\n",
    "4. Matrix Factorization Using Neural Networks\n",
    "Описание: В последние годы для рекомендательных систем стали применять нейронные сети для факторизации матрицы, обучая модель на реальных данных о пользователях и объектах. Это могут быть глубокие модели, например, autoencoders, которые пытаются восстановить разреженную матрицу.\n",
    "\n",
    "Преимущества: Может быть более гибким и мощным, чем традиционные методы факторизации, такие как SVD.\n",
    "\n",
    "Недостатки: Требует много вычислительных ресурсов для обучения и настройки.\n",
    "\n",
    "5. Factorization Machines\n",
    "Описание: Это общее обобщение матричной факторизации, которое может быть использовано для построения рекомендательных систем. Factorization Machines могут учитывать как взаимодействие пользователей с объектами, так и более сложные взаимодействия (например, с дополнительными признаками).\n",
    "\n",
    "Преимущества: Позволяет работать с очень большими разреженными данными и учитывать взаимодействие дополнительных факторов.\n",
    "\n",
    "Недостатки: Модели могут быть сложными для настройки и требуют большого объема вычислений.\n",
    "\n",
    "6. Deep Learning Models for User-Based Recommendations\n",
    "Описание: Глубокие нейронные сети могут быть использованы для моделирования предпочтений пользователей. Сеть обучается предсказывать, какие объекты могут быть интересны пользователю, принимая во внимание его прошлые действия и предпочтения.\n",
    "\n",
    "Преимущества: Очень гибкие и могут извлекать сложные скрытые паттерны в данных.\n",
    "\n",
    "Недостатки: Очень ресурсоёмкие и требуют большого объема данных для тренировки.\n",
    "\n",
    "7. Content-Based Filtering\n",
    "Описание: Это подход, при котором рекомендации делаются на основе контента, с которым пользователь взаимодействовал. Например, для фильма — это описание, жанры, теги и т.д. Хотя это не является полностью user-based методом, его можно комбинировать с другими подходами.\n",
    "\n",
    "Преимущества: Прост в реализации и не требует данных о поведении других пользователей.\n",
    "\n",
    "Недостатки: Проблемы с разнообразием рекомендаций — пользователь может получать только фильмы, похожие на те, которые он уже смотрел.\n",
    "\n",
    "8. Hybrid Models\n",
    "Описание: Это комбинация различных методов рекомендаций, например, collaborative filtering и content-based filtering. Например, можно использовать ALS для рекомендаций и KNN для анализа сходства между пользователями.\n",
    "\n",
    "Преимущества: Гибкость и возможность использовать сильные стороны различных подходов.\n",
    "\n",
    "Недостатки: Сложность в реализации и настройке."
   ]
  },
  {
   "cell_type": "code",
   "execution_count": 21,
   "id": "61c15a00-74e1-4e77-8636-32de64ae5cf7",
   "metadata": {},
   "outputs": [],
   "source": [
    "def build_user_vector(user_ratings, movie_vectors, good_rating_threshold):\n",
    "    \"\"\"\n",
    "    Функция для построения user_vector, на основе оценок пользователя.\n",
    "    Для каждой оценки фильма будет назначен вес в зависимости от рейтинга.\n",
    "    \"\"\"\n",
    "    # Берем размерность вектора фильма\n",
    "    movie_vector_sample = next(iter(movie_vectors.values()))  # Берем первый вектор из словаря\n",
    "    user_vector = np.zeros(len(movie_vector_sample))  # Инициализируем нулевой вектор, размерность как у movie_vectors\n",
    "    total_weight = 0\n",
    "    \n",
    "    for _, row in user_ratings.iterrows():\n",
    "        movie_id = row['movieId']\n",
    "        rating = row['rating']\n",
    "        weight = 0\n",
    "        \n",
    "        if rating >= 4:\n",
    "            weight = 1  # Положительный рейтинг увеличивает вклад\n",
    "        elif rating <= 2:\n",
    "            weight = -1  # Негативный рейтинг уменьшает вклад\n",
    "        else:\n",
    "            weight = 0  # Нейтральный рейтинг не изменяет вклад\n",
    "        \n",
    "        if movie_id in movie_vectors:\n",
    "            user_vector += weight * movie_vectors[movie_id]  # Суммируем вес вектора\n",
    "            total_weight += weight\n",
    "    \n",
    "    if total_weight != 0:\n",
    "        user_vector /= total_weight  # Нормализуем вектор пользователя\n",
    "    return user_vector"
   ]
  },
  {
   "cell_type": "code",
   "execution_count": 22,
   "id": "e827daa5-fdc1-446b-9bde-5cbff0fe1de8",
   "metadata": {},
   "outputs": [],
   "source": [
    "def calculate_similarity(movie_vector, user_vector):\n",
    "    \"\"\"\n",
    "    Расчет схожести между вектором фильма и вектором пользователя.\n",
    "    \"\"\"\n",
    "    return np.dot(movie_vector, user_vector)  # Косинусная схожесть или другой метод\n",
    "\n",
    "def apply_sports_weight(ranking):\n",
    "    \"\"\"\n",
    "    Применяем спортивную систему весов для позиций (по аналогии с Формулой 1).\n",
    "    \"\"\"\n",
    "    weights = {1: 20, 2: 12, 3: 8, 4: 6, 5: 4, 6: 2}  # Примерная система весов \n",
    "    \n",
    "    # Применяем веса для каждого места в рейтинге\n",
    "    weighted_ranking = {}\n",
    "    for idx, rank in enumerate(ranking):\n",
    "        place = idx + 1  # Номер места\n",
    "        if place in weights:\n",
    "            weighted_ranking[rank['movieId']] = weighted_ranking.get(rank['movieId'], 0) + weights[place]\n",
    "    \n",
    "    return weighted_ranking\n",
    "\n",
    "\n",
    "def get_user_recommendations_by_rating(user_id, ratings, movie_ids_order, movie_vectors, top_n=5, good_rating_threshold=4, max_genre_reduction_steps=5):\n",
    "    # Получаем оценки пользователя\n",
    "    user_ratings = ratings[ratings['userId'] == user_id]\n",
    "    \n",
    "    # Объединяем с таблицей movies, чтобы добавить информацию о жанрах\n",
    "    user_ratings_with_genres = user_ratings.merge(movies[['movieId', 'genres']], on='movieId', how='left')\n",
    "    \n",
    "    # Подсчитаем количество хороших оценок\n",
    "    num_good_ratings = user_ratings_with_genres[user_ratings_with_genres['rating'] >= good_rating_threshold].shape[0]\n",
    "    num_ratings = user_ratings_with_genres.shape[0]\n",
    "    \n",
    "    print(f\"[INFO] У пользователя {user_id} {num_ratings} оценок, из них {num_good_ratings} хороших.\", end=\" \")\n",
    "\n",
    "    # Проверяем условие для использования адаптации веса жанров\n",
    "    if (num_ratings < 5) or (num_ratings > 5 and num_good_ratings < 3):\n",
    "        print(\"Используем адаптацию веса жанров.\")\n",
    "        \n",
    "        recommendations = []\n",
    "        all_genres = []  # Список для всех жанров\n",
    "        for _, row in user_ratings_with_genres.iterrows():\n",
    "            movie_rating = row['rating']\n",
    "            movie_id = row['movieId']\n",
    "            movie_genres = row['genres'].split('|')  # Жанры разделены символом '|'\n",
    "            all_genres.extend(movie_genres)  # Добавляем жанры в общий список\n",
    "            movie_vector = movie_vectors.get(movie_id, None)\n",
    "            \n",
    "            if movie_vector is not None:\n",
    "                # Модифицируем веса жанров на основе оценки\n",
    "                if movie_rating >= 4:  # Если оценка хорошая (4 или больше)\n",
    "                    print(f\"[INFO] Оценка хорошая для фильма {movie_id}, усиливаем веса для жанров: {movie_genres}\")\n",
    "                    weight_factor = 1.5  # Усиливаем веса\n",
    "                else:  # Если оценка плохая (менее 4)\n",
    "                    print(f\"[INFO] Оценка плохая для фильма {movie_id}, ослабляем веса для жанров: {movie_genres}\")\n",
    "                    weight_factor = 0.5  # Ослабляем веса\n",
    "\n",
    "                # Обновляем веса для жанров в movie_vectors\n",
    "                for genre in movie_genres:\n",
    "                    if genre in movie_vector:\n",
    "                        movie_vector[genre] *= weight_factor  # Усиливаем или ослабляем соответствующий вес\n",
    "                \n",
    "                recommendations.append({'movieId': movie_id, 'similarity': np.dot(movie_vector, movie_vector)})\n",
    "\n",
    "        # Сортируем рекомендации по схожести\n",
    "        recommendations = sorted(recommendations, key=lambda x: x['similarity'], reverse=True)\n",
    "        \n",
    "        # Проверяем, если количество рекомендаций меньше 5\n",
    "        if len(recommendations) < top_n:\n",
    "            print(f\"[INFO] Недостаточно рекомендаций с текущими жанрами, уменьшаем количество жанров.\")\n",
    "            \n",
    "            # Уменьшаем количество жанров, начиная с самых общих\n",
    "            reduced_genres_list = list(set(all_genres))  # Получаем уникальные жанры\n",
    "            additional_recommendations = []\n",
    "            steps = 0\n",
    "\n",
    "            while len(reduced_genres_list) > 0 and len(additional_recommendations) < top_n and steps < max_genre_reduction_steps:\n",
    "                # Попробуем сделать рекомендации с уменьшением жанров\n",
    "                for i in range(1, len(reduced_genres_list) + 1):\n",
    "                    reduced_genres = reduced_genres_list[:i]\n",
    "                    # Фильтруем фильмы, которые имеют хотя бы один из этих жанров\n",
    "                    possible_movies = movies[movies['genres'].str.contains('|'.join(reduced_genres))]\n",
    "                    for _, row in possible_movies.iterrows():\n",
    "                        movie_id = row['movieId']\n",
    "                        movie_genres = row['genres'].split('|')\n",
    "                        \n",
    "                        if movie_id not in [rec['movieId'] for rec in additional_recommendations]:  # Убираем дубли\n",
    "                            movie_vector = movie_vectors.get(movie_id, None)\n",
    "                            if movie_vector is not None:\n",
    "                                similarity = np.dot(movie_vector, movie_vector)\n",
    "                                additional_recommendations.append({'movieId': movie_id, 'similarity': similarity})\n",
    "\n",
    "                # Если у нас достаточно рекомендаций, выходим из цикла\n",
    "                if len(additional_recommendations) >= top_n:\n",
    "                    recommendations = additional_recommendations[:top_n]\n",
    "                    break\n",
    "\n",
    "                steps += 1  # Увеличиваем счетчик шагов\n",
    "\n",
    "            # Если все шаги исчерпаны и рекомендаций все равно недостаточно\n",
    "            if len(recommendations) < top_n:\n",
    "                print(\"[INFO] Достигнут максимальный лимит шагов по уменьшению жанров.\")\n",
    "                recommendations = additional_recommendations[:top_n]\n",
    "\n",
    "            # Сортируем рекомендации по схожести\n",
    "            recommendations = sorted(recommendations, key=lambda x: x['similarity'], reverse=True)[:top_n]\n",
    "\n",
    "    else:\n",
    "        print(\"Используем только user_vector.\")\n",
    "        # В другом случае, если оценок больше, строим полноценный user_vector\n",
    "        user_vector = build_user_vector(user_ratings_with_genres, movie_vectors, good_rating_threshold)\n",
    "        \n",
    "        recommendations = []\n",
    "        \n",
    "        for movie_id in movie_ids_order:\n",
    "            movie_vector = movie_vectors.get(movie_id, None)\n",
    "            if movie_vector is not None:\n",
    "                similarity = calculate_similarity(movie_vector, user_vector)\n",
    "                recommendations.append({'movieId': movie_id, 'similarity': similarity})\n",
    "\n",
    "        # Сортируем рекомендации по схожести\n",
    "        recommendations = sorted(recommendations, key=lambda x: x['similarity'], reverse=True)\n",
    "\n",
    "        # Ограничиваем топ N рекомендаций\n",
    "        recommendations = recommendations[:top_n]\n",
    "\n",
    "    return recommendations\n"
   ]
  },
  {
   "cell_type": "code",
   "execution_count": 137,
   "id": "8d53c640-670b-4001-8b1d-caae4033510c",
   "metadata": {},
   "outputs": [],
   "source": [
    "movie_ids_order = movies['movieId'].sample(n=10, random_state=42).tolist()"
   ]
  },
  {
   "cell_type": "code",
   "execution_count": 138,
   "id": "32ce5d52-9c1b-4957-9fc5-f713434eb407",
   "metadata": {},
   "outputs": [
    {
     "data": {
      "text/plain": [
       "[189019, 268374, 134021, 177245, 45730, 109798, 137763, 189315, 141387, 163995]"
      ]
     },
     "execution_count": 138,
     "metadata": {},
     "output_type": "execute_result"
    }
   ],
   "source": [
    "movie_ids_order"
   ]
  },
  {
   "cell_type": "code",
   "execution_count": 147,
   "id": "95a686fb-82b8-4071-a189-672672ede8fe",
   "metadata": {},
   "outputs": [
    {
     "name": "stdout",
     "output_type": "stream",
     "text": [
      "[INFO] У пользователя 1 62 оценок, из них 41 хороших. Используем только user_vector.\n"
     ]
    },
    {
     "data": {
      "text/html": [
       "<div>\n",
       "<style scoped>\n",
       "    .dataframe tbody tr th:only-of-type {\n",
       "        vertical-align: middle;\n",
       "    }\n",
       "\n",
       "    .dataframe tbody tr th {\n",
       "        vertical-align: top;\n",
       "    }\n",
       "\n",
       "    .dataframe thead th {\n",
       "        text-align: right;\n",
       "    }\n",
       "</style>\n",
       "<table border=\"1\" class=\"dataframe\">\n",
       "  <thead>\n",
       "    <tr style=\"text-align: right;\">\n",
       "      <th></th>\n",
       "      <th>movieId</th>\n",
       "      <th>title</th>\n",
       "      <th>genres</th>\n",
       "    </tr>\n",
       "  </thead>\n",
       "  <tbody>\n",
       "    <tr>\n",
       "      <th>0</th>\n",
       "      <td>45730</td>\n",
       "      <td>Lady in the Water (2006)</td>\n",
       "      <td>Drama|Fantasy|Mystery</td>\n",
       "    </tr>\n",
       "    <tr>\n",
       "      <th>1</th>\n",
       "      <td>134021</td>\n",
       "      <td>5 to 7 (2014)</td>\n",
       "      <td>Comedy|Drama|Romance</td>\n",
       "    </tr>\n",
       "    <tr>\n",
       "      <th>2</th>\n",
       "      <td>189019</td>\n",
       "      <td>The Rape of Recy Taylor (2017)</td>\n",
       "      <td>Documentary</td>\n",
       "    </tr>\n",
       "    <tr>\n",
       "      <th>3</th>\n",
       "      <td>268374</td>\n",
       "      <td>Moonlight Shadow (2021)</td>\n",
       "      <td>Drama</td>\n",
       "    </tr>\n",
       "    <tr>\n",
       "      <th>4</th>\n",
       "      <td>177245</td>\n",
       "      <td>Same Kind of Different as Me (2017)</td>\n",
       "      <td>Drama</td>\n",
       "    </tr>\n",
       "  </tbody>\n",
       "</table>\n",
       "</div>"
      ],
      "text/plain": [
       "   movieId                                title                 genres\n",
       "0    45730             Lady in the Water (2006)  Drama|Fantasy|Mystery\n",
       "1   134021                        5 to 7 (2014)   Comedy|Drama|Romance\n",
       "2   189019       The Rape of Recy Taylor (2017)            Documentary\n",
       "3   268374              Moonlight Shadow (2021)                  Drama\n",
       "4   177245  Same Kind of Different as Me (2017)                  Drama"
      ]
     },
     "execution_count": 147,
     "metadata": {},
     "output_type": "execute_result"
    }
   ],
   "source": [
    "user_id = 1  # Например, фильм с индексом 1\n",
    "recommended_movies = get_user_recommendations_by_rating(\n",
    "    user_id, \n",
    "    ratings=ratings, \n",
    "    movie_ids_order=movie_ids_order, \n",
    "    movie_vectors=movie_vectors_all, \n",
    "    top_n=5)\n",
    "\n",
    "# Преобразуем список рекомендаций в DataFrame\n",
    "df_recommended = pd.DataFrame(recommended_movies, columns=['movieId'])\n",
    "\n",
    "# Объединяем DataFrame с рекомендациями с DataFrame с фильмами по movieId\n",
    "df_recommended = pd.merge(df_recommended, movies, on='movieId')\n",
    "\n",
    "# Выводим финальный результат\n",
    "df_recommended"
   ]
  },
  {
   "cell_type": "code",
   "execution_count": 145,
   "id": "3b43d78f-17ed-4755-8e33-0fed76ca5366",
   "metadata": {},
   "outputs": [
    {
     "name": "stdout",
     "output_type": "stream",
     "text": [
      "[INFO] У пользователя 148385 1 оценок, из них 1 хороших. Используем адаптацию веса жанров.\n",
      "[INFO] Оценка хорошая для фильма 1196, усиливаем веса для жанров: ['Action', 'Adventure', 'Sci-Fi']\n",
      "[INFO] Недостаточно рекомендаций с текущими жанрами, уменьшаем количество жанров.\n"
     ]
    },
    {
     "data": {
      "text/html": [
       "<div>\n",
       "<style scoped>\n",
       "    .dataframe tbody tr th:only-of-type {\n",
       "        vertical-align: middle;\n",
       "    }\n",
       "\n",
       "    .dataframe tbody tr th {\n",
       "        vertical-align: top;\n",
       "    }\n",
       "\n",
       "    .dataframe thead th {\n",
       "        text-align: right;\n",
       "    }\n",
       "</style>\n",
       "<table border=\"1\" class=\"dataframe\">\n",
       "  <thead>\n",
       "    <tr style=\"text-align: right;\">\n",
       "      <th></th>\n",
       "      <th>movieId</th>\n",
       "      <th>title</th>\n",
       "      <th>genres</th>\n",
       "    </tr>\n",
       "  </thead>\n",
       "  <tbody>\n",
       "    <tr>\n",
       "      <th>0</th>\n",
       "      <td>32</td>\n",
       "      <td>Twelve Monkeys (a.k.a. 12 Monkeys) (1995)</td>\n",
       "      <td>Mystery|Sci-Fi|Thriller</td>\n",
       "    </tr>\n",
       "    <tr>\n",
       "      <th>1</th>\n",
       "      <td>29</td>\n",
       "      <td>City of Lost Children, The (Cité des enfants perdus, La) (1995)</td>\n",
       "      <td>Adventure|Drama|Fantasy|Mystery|Sci-Fi</td>\n",
       "    </tr>\n",
       "    <tr>\n",
       "      <th>2</th>\n",
       "      <td>76</td>\n",
       "      <td>Screamers (1995)</td>\n",
       "      <td>Action|Sci-Fi|Thriller</td>\n",
       "    </tr>\n",
       "    <tr>\n",
       "      <th>3</th>\n",
       "      <td>24</td>\n",
       "      <td>Powder (1995)</td>\n",
       "      <td>Drama|Sci-Fi</td>\n",
       "    </tr>\n",
       "    <tr>\n",
       "      <th>4</th>\n",
       "      <td>66</td>\n",
       "      <td>Lawnmower Man 2: Beyond Cyberspace (1996)</td>\n",
       "      <td>Action|Sci-Fi|Thriller</td>\n",
       "    </tr>\n",
       "  </tbody>\n",
       "</table>\n",
       "</div>"
      ],
      "text/plain": [
       "   movieId                                                            title  \\\n",
       "0       32                        Twelve Monkeys (a.k.a. 12 Monkeys) (1995)   \n",
       "1       29  City of Lost Children, The (Cité des enfants perdus, La) (1995)   \n",
       "2       76                                                 Screamers (1995)   \n",
       "3       24                                                    Powder (1995)   \n",
       "4       66                        Lawnmower Man 2: Beyond Cyberspace (1996)   \n",
       "\n",
       "                                   genres  \n",
       "0                 Mystery|Sci-Fi|Thriller  \n",
       "1  Adventure|Drama|Fantasy|Mystery|Sci-Fi  \n",
       "2                  Action|Sci-Fi|Thriller  \n",
       "3                            Drama|Sci-Fi  \n",
       "4                  Action|Sci-Fi|Thriller  "
      ]
     },
     "execution_count": 145,
     "metadata": {},
     "output_type": "execute_result"
    }
   ],
   "source": [
    "user_id = 148385  # Например, пользователь с индексом 1\n",
    "recommended_movies = get_user_recommendations_by_rating(\n",
    "    user_id, \n",
    "    ratings=ratings, \n",
    "    movie_ids_order=movie_ids_order, \n",
    "    movie_vectors=movie_vectors_all, \n",
    "    top_n=5)\n",
    "\n",
    "# Преобразуем список рекомендаций в DataFrame\n",
    "df_recommended = pd.DataFrame(recommended_movies, columns=['movieId'])\n",
    "\n",
    "# Объединяем DataFrame с рекомендациями с DataFrame с фильмами по movieId\n",
    "df_recommended = pd.merge(df_recommended, movies, on='movieId')\n",
    "\n",
    "# Выводим финальный результат\n",
    "df_recommended"
   ]
  },
  {
   "cell_type": "markdown",
   "id": "a91a17f5-3bff-4c38-8513-3b2663416799",
   "metadata": {},
   "source": [
    "## Попробуем метод KNN"
   ]
  },
  {
   "cell_type": "markdown",
   "id": "1a17d794-fd91-4da9-b3ea-4e857248fb14",
   "metadata": {},
   "source": [
    "Сначала нужно получить общий вектор пользователей"
   ]
  },
  {
   "cell_type": "code",
   "execution_count": 15,
   "id": "7f7949f1-df62-4ab2-8df2-3da1090f0d14",
   "metadata": {},
   "outputs": [],
   "source": [
    "def process_movies_in_chunks(movies_df, genome_scores, all_genres, user_ratings,\n",
    "                             chunk_count=5, good_rating_threshold=4):\n",
    "    total_movies = len(movies_df)\n",
    "    chunk_size = total_movies // chunk_count\n",
    "\n",
    "    movie_vectors = {}\n",
    "    user_vectors = {}\n",
    "\n",
    "    # Индексация тегов\n",
    "    tag_set = sorted(genome_scores['tagId'].unique())\n",
    "    tag_index = {tag: i for i, tag in enumerate(tag_set)}\n",
    "    tag_vector_len = len(tag_index)\n",
    "\n",
    "    print(f\"[INFO] Всего фильмов: {total_movies}, обработка в {chunk_count} частях...\")\n",
    "\n",
    "    for i in range(chunk_count):\n",
    "        start_idx = i * chunk_size\n",
    "        end_idx = (i + 1) * chunk_size if i < chunk_count - 1 else total_movies\n",
    "        batch = movies_df.iloc[start_idx:end_idx]\n",
    "\n",
    "        print(f\"\\n[CHUNK {i+1}] Обработка фильмов {start_idx}–{end_idx}...\")\n",
    "\n",
    "        try:\n",
    "            batch_movie_vectors, batch_user_vectors = process_batch_with_user_vectors(\n",
    "                batch, all_genres, genome_scores, tag_index, tag_vector_len, user_ratings, good_rating_threshold\n",
    "            )\n",
    "            movie_vectors.update(batch_movie_vectors)\n",
    "            user_vectors.update(batch_user_vectors)\n",
    "            print(f\"[CHUNK {i+1}] Готово: {len(batch_movie_vectors)} фильмов, {len(batch_user_vectors)} пользователей\")\n",
    "        except Exception as e:\n",
    "            print(f\"[CHUNK {i+1}] Ошибка: {e}\")\n",
    "\n",
    "    return movie_vectors, user_vectors"
   ]
  },
  {
   "cell_type": "code",
   "execution_count": 16,
   "id": "ba4daaf8-169f-4e5c-ab77-193d4c3e6f16",
   "metadata": {},
   "outputs": [],
   "source": [
    "def process_batch_with_user_vectors(batch, all_genres, genome_scores, tag_index, tag_vector_len, user_ratings, good_rating_threshold=4):\n",
    "    try:\n",
    "        # Инициализация векторов тегов и жанров\n",
    "        genre_df = create_genre_vector(batch, all_genres)\n",
    "        tag_vectors = {}\n",
    "\n",
    "        print(f\"[INFO] Генерация tag-векторов для {len(batch)} фильмов...\")\n",
    "        for movieId in tqdm(batch['movieId'], desc=\"Tag-векторы\"):\n",
    "            tag_vectors[movieId] = create_tag_vector(movieId, genome_scores, tag_index, tag_vector_len)\n",
    "\n",
    "        movie_vectors = {}\n",
    "        user_vectors = {}\n",
    "\n",
    "        print(f\"[INFO] Генерация movie-векторов...\")\n",
    "        for movieId in tqdm(batch['movieId'], desc=\"Movie-векторы\"):\n",
    "            genre_vector = genre_df.loc[movieId].values\n",
    "            tag_vector = tag_vectors[movieId].toarray().flatten()\n",
    "            movie_vectors[movieId] = np.concatenate([genre_vector, tag_vector])\n",
    "\n",
    "        print(f\"[INFO] Фильтрация рейтингов по batch-фильмам...\")\n",
    "        batch_movie_ids = set(batch['movieId'])\n",
    "        user_ratings_in_batch = user_ratings[user_ratings['movieId'].isin(batch_movie_ids)]\n",
    "\n",
    "        print(f\"[INFO] Генерация user-векторов...\")\n",
    "        grouped_user_ratings = user_ratings_in_batch.groupby('userId')\n",
    "        for user_id, group in tqdm(grouped_user_ratings, desc=\"User-векторы\"):\n",
    "            user_vector = process_user(user_id, group, movie_vectors, good_rating_threshold)\n",
    "            user_vectors[user_id] = user_vector\n",
    "\n",
    "        return movie_vectors, user_vectors\n",
    "    except Exception as e:\n",
    "        print(f\"[ERROR] Ошибка при обработке batch: {e}\")\n",
    "        raise e"
   ]
  },
  {
   "cell_type": "code",
   "execution_count": 17,
   "id": "ae8bc334-3940-4550-a003-84c566a95621",
   "metadata": {},
   "outputs": [],
   "source": [
    "def process_user(user_id, user_ratings_for_movie, movie_vectors, good_rating_threshold):\n",
    "    if not movie_vectors:\n",
    "        return csr_matrix([])\n",
    "\n",
    "    vector_len = len(next(iter(movie_vectors.values())))\n",
    "    user_vector = np.zeros(vector_len)\n",
    "\n",
    "    for _, row in user_ratings_for_movie.iterrows():\n",
    "        movieId = row['movieId']\n",
    "        rating = row['rating']\n",
    "        if movieId in movie_vectors and rating >= good_rating_threshold:\n",
    "            weight = rating / 5.0\n",
    "            user_vector += movie_vectors[movieId] * weight\n",
    "\n",
    "    return csr_matrix(user_vector)\n"
   ]
  },
  {
   "cell_type": "code",
   "execution_count": 19,
   "id": "26ed6d87-626c-4f90-8502-122e344f8f65",
   "metadata": {},
   "outputs": [
    {
     "name": "stdout",
     "output_type": "stream",
     "text": [
      "[INFO] Всего фильмов: 86537, обработка в 10 частях...\n",
      "\n",
      "[CHUNK 1] Обработка фильмов 0–8653...\n",
      "[INFO] Генерация tag-векторов для 8653 фильмов...\n"
     ]
    },
    {
     "name": "stderr",
     "output_type": "stream",
     "text": [
      "Tag-векторы: 100%|██████████████████████████████████████████████████████████████████████████████████████████████████████████████████████████████████████████████████████████████████████████████████████████████████████████████████████████████████████████████████████████████| 8653/8653 [06:31<00:00, 22.09it/s]\n"
     ]
    },
    {
     "name": "stdout",
     "output_type": "stream",
     "text": [
      "[INFO] Генерация movie-векторов...\n"
     ]
    },
    {
     "name": "stderr",
     "output_type": "stream",
     "text": [
      "Movie-векторы: 100%|█████████████████████████████████████████████████████████████████████████████████████████████████████████████████████████████████████████████████████████████████████████████████████████████████████████████████████████████████████████████████████████| 8653/8653 [00:00<00:00, 20129.25it/s]\n"
     ]
    },
    {
     "name": "stdout",
     "output_type": "stream",
     "text": [
      "[INFO] Фильтрация рейтингов по batch-фильмам...\n",
      "[INFO] Генерация user-векторов...\n"
     ]
    },
    {
     "name": "stderr",
     "output_type": "stream",
     "text": [
      "User-векторы: 100%|████████████████████████████████████████████████████████████████████████████████████████████████████████████████████████████████████████████████████████████████████████████████████████████████████████████████████████████████████████████████████████| 326228/326228 [14:15<00:00, 381.43it/s]\n"
     ]
    },
    {
     "name": "stdout",
     "output_type": "stream",
     "text": [
      "[CHUNK 1] Готово: 8653 фильмов, 326228 пользователей\n",
      "\n",
      "[CHUNK 2] Обработка фильмов 8653–17306...\n",
      "[INFO] Генерация tag-векторов для 8653 фильмов...\n"
     ]
    },
    {
     "name": "stderr",
     "output_type": "stream",
     "text": [
      "Tag-векторы: 100%|██████████████████████████████████████████████████████████████████████████████████████████████████████████████████████████████████████████████████████████████████████████████████████████████████████████████████████████████████████████████████████████████| 8653/8653 [04:34<00:00, 31.52it/s]\n"
     ]
    },
    {
     "name": "stdout",
     "output_type": "stream",
     "text": [
      "[INFO] Генерация movie-векторов...\n"
     ]
    },
    {
     "name": "stderr",
     "output_type": "stream",
     "text": [
      "Movie-векторы: 100%|█████████████████████████████████████████████████████████████████████████████████████████████████████████████████████████████████████████████████████████████████████████████████████████████████████████████████████████████████████████████████████████| 8653/8653 [00:00<00:00, 26688.14it/s]\n"
     ]
    },
    {
     "name": "stdout",
     "output_type": "stream",
     "text": [
      "[INFO] Фильтрация рейтингов по batch-фильмам...\n",
      "[INFO] Генерация user-векторов...\n"
     ]
    },
    {
     "name": "stderr",
     "output_type": "stream",
     "text": [
      "User-векторы: 100%|████████████████████████████████████████████████████████████████████████████████████████████████████████████████████████████████████████████████████████████████████████████████████████████████████████████████████████████████████████████████████████| 155883/155883 [03:21<00:00, 774.68it/s]\n"
     ]
    },
    {
     "name": "stdout",
     "output_type": "stream",
     "text": [
      "[CHUNK 2] Готово: 8653 фильмов, 155883 пользователей\n",
      "\n",
      "[CHUNK 3] Обработка фильмов 17306–25959...\n",
      "[INFO] Генерация tag-векторов для 8653 фильмов...\n"
     ]
    },
    {
     "name": "stderr",
     "output_type": "stream",
     "text": [
      "Tag-векторы: 100%|██████████████████████████████████████████████████████████████████████████████████████████████████████████████████████████████████████████████████████████████████████████████████████████████████████████████████████████████████████████████████████████████| 8653/8653 [03:22<00:00, 42.69it/s]\n"
     ]
    },
    {
     "name": "stdout",
     "output_type": "stream",
     "text": [
      "[INFO] Генерация movie-векторов...\n"
     ]
    },
    {
     "name": "stderr",
     "output_type": "stream",
     "text": [
      "Movie-векторы: 100%|█████████████████████████████████████████████████████████████████████████████████████████████████████████████████████████████████████████████████████████████████████████████████████████████████████████████████████████████████████████████████████████| 8653/8653 [00:00<00:00, 26920.67it/s]\n"
     ]
    },
    {
     "name": "stdout",
     "output_type": "stream",
     "text": [
      "[INFO] Фильтрация рейтингов по batch-фильмам...\n",
      "[INFO] Генерация user-векторов...\n"
     ]
    },
    {
     "name": "stderr",
     "output_type": "stream",
     "text": [
      "User-векторы: 100%|█████████████████████████████████████████████████████████████████████████████████████████████████████████████████████████████████████████████████████████████████████████████████████████████████████████████████████████████████████████████████████████| 96980/96980 [01:26<00:00, 1124.59it/s]\n"
     ]
    },
    {
     "name": "stdout",
     "output_type": "stream",
     "text": [
      "[CHUNK 3] Готово: 8653 фильмов, 96980 пользователей\n",
      "\n",
      "[CHUNK 4] Обработка фильмов 25959–34612...\n",
      "[INFO] Генерация tag-векторов для 8653 фильмов...\n"
     ]
    },
    {
     "name": "stderr",
     "output_type": "stream",
     "text": [
      "Tag-векторы: 100%|██████████████████████████████████████████████████████████████████████████████████████████████████████████████████████████████████████████████████████████████████████████████████████████████████████████████████████████████████████████████████████████████| 8653/8653 [02:52<00:00, 50.22it/s]\n"
     ]
    },
    {
     "name": "stdout",
     "output_type": "stream",
     "text": [
      "[INFO] Генерация movie-векторов...\n"
     ]
    },
    {
     "name": "stderr",
     "output_type": "stream",
     "text": [
      "Movie-векторы: 100%|█████████████████████████████████████████████████████████████████████████████████████████████████████████████████████████████████████████████████████████████████████████████████████████████████████████████████████████████████████████████████████████| 8653/8653 [00:00<00:00, 29481.23it/s]\n"
     ]
    },
    {
     "name": "stdout",
     "output_type": "stream",
     "text": [
      "[INFO] Фильтрация рейтингов по batch-фильмам...\n",
      "[INFO] Генерация user-векторов...\n"
     ]
    },
    {
     "name": "stderr",
     "output_type": "stream",
     "text": [
      "User-векторы: 100%|█████████████████████████████████████████████████████████████████████████████████████████████████████████████████████████████████████████████████████████████████████████████████████████████████████████████████████████████████████████████████████████| 59202/59202 [00:27<00:00, 2147.13it/s]\n"
     ]
    },
    {
     "name": "stdout",
     "output_type": "stream",
     "text": [
      "[CHUNK 4] Готово: 8653 фильмов, 59202 пользователей\n",
      "\n",
      "[CHUNK 5] Обработка фильмов 34612–43265...\n",
      "[INFO] Генерация tag-векторов для 8653 фильмов...\n"
     ]
    },
    {
     "name": "stderr",
     "output_type": "stream",
     "text": [
      "Tag-векторы: 100%|██████████████████████████████████████████████████████████████████████████████████████████████████████████████████████████████████████████████████████████████████████████████████████████████████████████████████████████████████████████████████████████████| 8653/8653 [02:43<00:00, 52.84it/s]\n"
     ]
    },
    {
     "name": "stdout",
     "output_type": "stream",
     "text": [
      "[INFO] Генерация movie-векторов...\n"
     ]
    },
    {
     "name": "stderr",
     "output_type": "stream",
     "text": [
      "Movie-векторы: 100%|█████████████████████████████████████████████████████████████████████████████████████████████████████████████████████████████████████████████████████████████████████████████████████████████████████████████████████████████████████████████████████████| 8653/8653 [00:00<00:00, 27438.91it/s]\n"
     ]
    },
    {
     "name": "stdout",
     "output_type": "stream",
     "text": [
      "[INFO] Фильтрация рейтингов по batch-фильмам...\n",
      "[INFO] Генерация user-векторов...\n"
     ]
    },
    {
     "name": "stderr",
     "output_type": "stream",
     "text": [
      "User-векторы: 100%|█████████████████████████████████████████████████████████████████████████████████████████████████████████████████████████████████████████████████████████████████████████████████████████████████████████████████████████████████████████████████████████| 47483/47483 [00:19<00:00, 2389.74it/s]\n"
     ]
    },
    {
     "name": "stdout",
     "output_type": "stream",
     "text": [
      "[CHUNK 5] Готово: 8653 фильмов, 47483 пользователей\n",
      "\n",
      "[CHUNK 6] Обработка фильмов 43265–51918...\n",
      "[INFO] Генерация tag-векторов для 8653 фильмов...\n"
     ]
    },
    {
     "name": "stderr",
     "output_type": "stream",
     "text": [
      "Tag-векторы: 100%|██████████████████████████████████████████████████████████████████████████████████████████████████████████████████████████████████████████████████████████████████████████████████████████████████████████████████████████████████████████████████████████████| 8653/8653 [02:52<00:00, 50.24it/s]\n"
     ]
    },
    {
     "name": "stdout",
     "output_type": "stream",
     "text": [
      "[INFO] Генерация movie-векторов...\n"
     ]
    },
    {
     "name": "stderr",
     "output_type": "stream",
     "text": [
      "Movie-векторы: 100%|█████████████████████████████████████████████████████████████████████████████████████████████████████████████████████████████████████████████████████████████████████████████████████████████████████████████████████████████████████████████████████████| 8653/8653 [00:00<00:00, 27806.94it/s]\n"
     ]
    },
    {
     "name": "stdout",
     "output_type": "stream",
     "text": [
      "[INFO] Фильтрация рейтингов по batch-фильмам...\n",
      "[INFO] Генерация user-векторов...\n"
     ]
    },
    {
     "name": "stderr",
     "output_type": "stream",
     "text": [
      "User-векторы: 100%|█████████████████████████████████████████████████████████████████████████████████████████████████████████████████████████████████████████████████████████████████████████████████████████████████████████████████████████████████████████████████████████| 44628/44628 [00:23<00:00, 1869.56it/s]\n"
     ]
    },
    {
     "name": "stdout",
     "output_type": "stream",
     "text": [
      "[CHUNK 6] Готово: 8653 фильмов, 44628 пользователей\n",
      "\n",
      "[CHUNK 7] Обработка фильмов 51918–60571...\n",
      "[INFO] Генерация tag-векторов для 8653 фильмов...\n"
     ]
    },
    {
     "name": "stderr",
     "output_type": "stream",
     "text": [
      "Tag-векторы: 100%|██████████████████████████████████████████████████████████████████████████████████████████████████████████████████████████████████████████████████████████████████████████████████████████████████████████████████████████████████████████████████████████████| 8653/8653 [02:47<00:00, 51.57it/s]\n"
     ]
    },
    {
     "name": "stdout",
     "output_type": "stream",
     "text": [
      "[INFO] Генерация movie-векторов...\n"
     ]
    },
    {
     "name": "stderr",
     "output_type": "stream",
     "text": [
      "Movie-векторы: 100%|█████████████████████████████████████████████████████████████████████████████████████████████████████████████████████████████████████████████████████████████████████████████████████████████████████████████████████████████████████████████████████████| 8653/8653 [00:00<00:00, 25349.57it/s]\n"
     ]
    },
    {
     "name": "stdout",
     "output_type": "stream",
     "text": [
      "[INFO] Фильтрация рейтингов по batch-фильмам...\n",
      "[INFO] Генерация user-векторов...\n"
     ]
    },
    {
     "name": "stderr",
     "output_type": "stream",
     "text": [
      "User-векторы: 100%|█████████████████████████████████████████████████████████████████████████████████████████████████████████████████████████████████████████████████████████████████████████████████████████████████████████████████████████████████████████████████████████| 33488/33488 [00:17<00:00, 1917.50it/s]\n"
     ]
    },
    {
     "name": "stdout",
     "output_type": "stream",
     "text": [
      "[CHUNK 7] Готово: 8653 фильмов, 33488 пользователей\n",
      "\n",
      "[CHUNK 8] Обработка фильмов 60571–69224...\n",
      "[INFO] Генерация tag-векторов для 8653 фильмов...\n"
     ]
    },
    {
     "name": "stderr",
     "output_type": "stream",
     "text": [
      "Tag-векторы: 100%|██████████████████████████████████████████████████████████████████████████████████████████████████████████████████████████████████████████████████████████████████████████████████████████████████████████████████████████████████████████████████████████████| 8653/8653 [02:41<00:00, 53.72it/s]\n"
     ]
    },
    {
     "name": "stdout",
     "output_type": "stream",
     "text": [
      "[INFO] Генерация movie-векторов...\n"
     ]
    },
    {
     "name": "stderr",
     "output_type": "stream",
     "text": [
      "Movie-векторы: 100%|█████████████████████████████████████████████████████████████████████████████████████████████████████████████████████████████████████████████████████████████████████████████████████████████████████████████████████████████████████████████████████████| 8653/8653 [00:00<00:00, 26311.13it/s]\n"
     ]
    },
    {
     "name": "stdout",
     "output_type": "stream",
     "text": [
      "[INFO] Фильтрация рейтингов по batch-фильмам...\n",
      "[INFO] Генерация user-векторов...\n"
     ]
    },
    {
     "name": "stderr",
     "output_type": "stream",
     "text": [
      "User-векторы: 100%|█████████████████████████████████████████████████████████████████████████████████████████████████████████████████████████████████████████████████████████████████████████████████████████████████████████████████████████████████████████████████████████| 28798/28798 [00:14<00:00, 1955.09it/s]\n"
     ]
    },
    {
     "name": "stdout",
     "output_type": "stream",
     "text": [
      "[CHUNK 8] Готово: 8653 фильмов, 28798 пользователей\n",
      "\n",
      "[CHUNK 9] Обработка фильмов 69224–77877...\n",
      "[INFO] Генерация tag-векторов для 8653 фильмов...\n"
     ]
    },
    {
     "name": "stderr",
     "output_type": "stream",
     "text": [
      "Tag-векторы: 100%|██████████████████████████████████████████████████████████████████████████████████████████████████████████████████████████████████████████████████████████████████████████████████████████████████████████████████████████████████████████████████████████████| 8653/8653 [02:35<00:00, 55.73it/s]\n"
     ]
    },
    {
     "name": "stdout",
     "output_type": "stream",
     "text": [
      "[INFO] Генерация movie-векторов...\n"
     ]
    },
    {
     "name": "stderr",
     "output_type": "stream",
     "text": [
      "Movie-векторы: 100%|█████████████████████████████████████████████████████████████████████████████████████████████████████████████████████████████████████████████████████████████████████████████████████████████████████████████████████████████████████████████████████████| 8653/8653 [00:00<00:00, 25486.20it/s]\n"
     ]
    },
    {
     "name": "stdout",
     "output_type": "stream",
     "text": [
      "[INFO] Фильтрация рейтингов по batch-фильмам...\n",
      "[INFO] Генерация user-векторов...\n"
     ]
    },
    {
     "name": "stderr",
     "output_type": "stream",
     "text": [
      "User-векторы: 100%|█████████████████████████████████████████████████████████████████████████████████████████████████████████████████████████████████████████████████████████████████████████████████████████████████████████████████████████████████████████████████████████| 15345/15345 [00:06<00:00, 2249.66it/s]\n"
     ]
    },
    {
     "name": "stdout",
     "output_type": "stream",
     "text": [
      "[CHUNK 9] Готово: 8653 фильмов, 15345 пользователей\n",
      "\n",
      "[CHUNK 10] Обработка фильмов 77877–86537...\n",
      "[INFO] Генерация tag-векторов для 8660 фильмов...\n"
     ]
    },
    {
     "name": "stderr",
     "output_type": "stream",
     "text": [
      "Tag-векторы: 100%|██████████████████████████████████████████████████████████████████████████████████████████████████████████████████████████████████████████████████████████████████████████████████████████████████████████████████████████████████████████████████████████████| 8660/8660 [02:35<00:00, 55.85it/s]\n"
     ]
    },
    {
     "name": "stdout",
     "output_type": "stream",
     "text": [
      "[INFO] Генерация movie-векторов...\n"
     ]
    },
    {
     "name": "stderr",
     "output_type": "stream",
     "text": [
      "Movie-векторы: 100%|█████████████████████████████████████████████████████████████████████████████████████████████████████████████████████████████████████████████████████████████████████████████████████████████████████████████████████████████████████████████████████████| 8660/8660 [00:00<00:00, 25410.78it/s]\n"
     ]
    },
    {
     "name": "stdout",
     "output_type": "stream",
     "text": [
      "[INFO] Фильтрация рейтингов по batch-фильмам...\n",
      "[INFO] Генерация user-векторов...\n"
     ]
    },
    {
     "name": "stderr",
     "output_type": "stream",
     "text": [
      "User-векторы: 100%|█████████████████████████████████████████████████████████████████████████████████████████████████████████████████████████████████████████████████████████████████████████████████████████████████████████████████████████████████████████████████████████| 11618/11618 [00:05<00:00, 2067.86it/s]"
     ]
    },
    {
     "name": "stdout",
     "output_type": "stream",
     "text": [
      "[CHUNK 10] Готово: 8660 фильмов, 11618 пользователей\n"
     ]
    },
    {
     "name": "stderr",
     "output_type": "stream",
     "text": [
      "\n"
     ]
    }
   ],
   "source": [
    "movie_vectors, user_vectors = process_movies_in_chunks(\n",
    "    movies_df=movies,\n",
    "    genome_scores=genome_scores,\n",
    "    all_genres=all_genres,\n",
    "    user_ratings=ratings,\n",
    "    chunk_count=10,  # или 10, если хочешь поменьше нагрузку\n",
    "    good_rating_threshold=4\n",
    ")\n"
   ]
  },
  {
   "cell_type": "code",
   "execution_count": 13,
   "id": "39e9f462-9bc3-4524-b954-11e0c323da25",
   "metadata": {},
   "outputs": [],
   "source": [
    "\n",
    "def save_dict_in_chunks(data_dict, output_dir, base_filename=\"data\", chunk_size=10000):\n",
    "    \"\"\"\n",
    "    Универсальная функция для сохранения словаря по чанкам.\n",
    "\n",
    "    :param data_dict: словарь для сохранения\n",
    "    :param output_dir: папка, куда будут сохранены чанки\n",
    "    :param base_filename: базовое имя файлов (например, \"user_vectors\" или \"movie_vectors\")\n",
    "    :param chunk_size: размер одного чанка\n",
    "    \"\"\"\n",
    "    os.makedirs(output_dir, exist_ok=True)\n",
    "\n",
    "    keys = list(data_dict.keys())\n",
    "    total = len(keys)\n",
    "\n",
    "    print(f\"[INFO] Сохраняем {total} элементов по чанкам в '{output_dir}'...\")\n",
    "\n",
    "    for i in tqdm(range(0, total, chunk_size)):\n",
    "        chunk_keys = keys[i:i + chunk_size]\n",
    "        chunk_data = {k: data_dict[k] for k in chunk_keys}\n",
    "\n",
    "        chunk_filename = os.path.join(output_dir, f\"{base_filename}_chunk_{i // chunk_size + 1}.dill\")\n",
    "        with open(chunk_filename, 'wb') as f:\n",
    "            dill.dump(chunk_data, f)\n",
    "\n",
    "    print(f\"[✅] Всего чанков сохранено: {(total + chunk_size - 1) // chunk_size}\")"
   ]
  },
  {
   "cell_type": "code",
   "execution_count": 14,
   "id": "4631bfe6-a866-4ede-b9d7-e775ca917036",
   "metadata": {},
   "outputs": [],
   "source": [
    "def load_dict_from_chunks(chunk_dir, base_filename=\"data\"):\n",
    "    \"\"\"\n",
    "    Загружает словарь, сохранённый по чанкам, и объединяет все части.\n",
    "\n",
    "    :param chunk_dir: путь к папке с чанками\n",
    "    :param base_filename: базовое имя файлов (например, \"user_vectors\" или \"movie_vectors\")\n",
    "    :return: объединённый словарь\n",
    "    \"\"\"\n",
    "    import dill\n",
    "    import os\n",
    "    from tqdm import tqdm\n",
    "\n",
    "    data_dict = {}\n",
    "    chunk_files = sorted([\n",
    "        f for f in os.listdir(chunk_dir)\n",
    "        if f.startswith(base_filename) and f.endswith('.dill')\n",
    "    ])\n",
    "\n",
    "    print(f\"[INFO] Загружаем {len(chunk_files)} чанков из '{chunk_dir}'...\")\n",
    "\n",
    "    for chunk_file in tqdm(chunk_files):\n",
    "        chunk_path = os.path.join(chunk_dir, chunk_file)\n",
    "        with open(chunk_path, 'rb') as f:\n",
    "            chunk_data = dill.load(f)\n",
    "            data_dict.update(chunk_data)\n",
    "\n",
    "    print(\"[✅] Все чанки успешно загружены.\")\n",
    "    return data_dict"
   ]
  },
  {
   "cell_type": "code",
   "execution_count": 21,
   "id": "df8fa005-9e5d-4efc-8112-e27a1dc3202b",
   "metadata": {},
   "outputs": [
    {
     "name": "stdout",
     "output_type": "stream",
     "text": [
      "[INFO] Сохраняем 330975 элементов по чанкам в 'content/films/user_vectors_chank'...\n"
     ]
    },
    {
     "name": "stderr",
     "output_type": "stream",
     "text": [
      "100%|███████████████████████████████████████████████████████████████████████████████████████████████████████████████████████████████████████████████████████████████████████████████████████████████████████████████████████████████████████████████████████████████████████████████| 34/34 [01:19<00:00,  2.33s/it]"
     ]
    },
    {
     "name": "stdout",
     "output_type": "stream",
     "text": [
      "[✅] Всего чанков сохранено: 34\n"
     ]
    },
    {
     "name": "stderr",
     "output_type": "stream",
     "text": [
      "\n"
     ]
    }
   ],
   "source": [
    "# # Сохраняем user_vectors\n",
    "# save_dict_in_chunks(user_vectors, output_dir='content/films/user_vectors_chank', base_filename='user_vectors', chunk_size=10000)\n"
   ]
  },
  {
   "cell_type": "code",
   "execution_count": 20,
   "id": "94999cb2-4c61-486f-9109-973e39bb9ddb",
   "metadata": {},
   "outputs": [
    {
     "name": "stdout",
     "output_type": "stream",
     "text": [
      "[INFO] Сохраняем 86537 элементов по чанкам в 'content/films/movie_vectors_chank'...\n"
     ]
    },
    {
     "name": "stderr",
     "output_type": "stream",
     "text": [
      "100%|█████████████████████████████████████████████████████████████████████████████████████████████████████████████████████████████████████████████████████████████████████████████████████████████████████████████████████████████████████████████████████████████████████████████████| 9/9 [00:05<00:00,  1.53it/s]"
     ]
    },
    {
     "name": "stdout",
     "output_type": "stream",
     "text": [
      "[✅] Всего чанков сохранено: 9\n"
     ]
    },
    {
     "name": "stderr",
     "output_type": "stream",
     "text": [
      "\n"
     ]
    }
   ],
   "source": [
    "# save_dict_in_chunks(movie_vectors, output_dir='content/films/movie_vectors_chank', base_filename='movie_vectors', chunk_size=10000)"
   ]
  },
  {
   "cell_type": "code",
   "execution_count": 15,
   "id": "4d71075d-57c5-4ca4-aa1b-a2e083d38010",
   "metadata": {},
   "outputs": [
    {
     "name": "stdout",
     "output_type": "stream",
     "text": [
      "[INFO] Загружаем 34 чанков из 'content/films/user_vectors_chank'...\n"
     ]
    },
    {
     "name": "stderr",
     "output_type": "stream",
     "text": [
      "100%|███████████████████████████████████████████████████████████████████████████████████████████████████████████████████████████████████████████████████████████████████████████████████████████████████████████████████████████████████████████████████████████████████████████████| 34/34 [00:43<00:00,  1.27s/it]\n"
     ]
    },
    {
     "name": "stdout",
     "output_type": "stream",
     "text": [
      "[✅] Все чанки успешно загружены.\n",
      "[INFO] Загружаем 9 чанков из 'content/films/movie_vectors_chank'...\n"
     ]
    },
    {
     "name": "stderr",
     "output_type": "stream",
     "text": [
      "100%|█████████████████████████████████████████████████████████████████████████████████████████████████████████████████████████████████████████████████████████████████████████████████████████████████████████████████████████████████████████████████████████████████████████████████| 9/9 [00:12<00:00,  1.34s/it]"
     ]
    },
    {
     "name": "stdout",
     "output_type": "stream",
     "text": [
      "[✅] Все чанки успешно загружены.\n"
     ]
    },
    {
     "name": "stderr",
     "output_type": "stream",
     "text": [
      "\n"
     ]
    }
   ],
   "source": [
    "# Загрузка user_vectors\n",
    "user_vectors = load_dict_from_chunks('content/films/user_vectors_chank', base_filename='user_vectors')\n",
    "\n",
    "# Загрузка movie_vectors\n",
    "movie_vectors = load_dict_from_chunks('content/films/movie_vectors_chank', base_filename='movie_vectors')"
   ]
  },
  {
   "cell_type": "code",
   "execution_count": null,
   "id": "0cbc8bf5-41c0-4b1a-82e0-d5d9b3bb5fe7",
   "metadata": {},
   "outputs": [],
   "source": []
  },
  {
   "cell_type": "code",
   "execution_count": null,
   "id": "b0e36edb-5c6d-4f3e-a175-daf7b26eac13",
   "metadata": {},
   "outputs": [],
   "source": []
  },
  {
   "cell_type": "code",
   "execution_count": 23,
   "id": "8abec8b6-66e0-4f2b-a883-22f8e44c6123",
   "metadata": {},
   "outputs": [],
   "source": [
    "def combine_user_movie_vectors_in_chunks(user_vectors, movie_vectors, chunk_size=1000):\n",
    "    \"\"\"\n",
    "    Объединяет user_vector с каждым movie_vector для чанков данных.\n",
    "    \"\"\"\n",
    "    movie_ids = list(movie_vectors.keys())\n",
    "    total_movies = len(movie_ids)\n",
    "    \n",
    "    common_vectors = []\n",
    "    \n",
    "    # Размерность векторов\n",
    "    vector_dim = len(next(iter(movie_vectors.values())))  # размерность movie-вектора\n",
    "    user_dim = len(next(iter(user_vectors.values()))[0].toarray().flatten())  # размерность user-вектора\n",
    "    \n",
    "    # Обработка векторов по частям (чанкам)\n",
    "    for start_idx in range(0, total_movies, chunk_size):\n",
    "        end_idx = min(start_idx + chunk_size, total_movies)\n",
    "        batch_movie_ids = movie_ids[start_idx:end_idx]\n",
    "        \n",
    "        # Генерация объединённых векторов для текущего чанка\n",
    "        for movie_id in batch_movie_ids:\n",
    "            movie_vec = movie_vectors[movie_id]\n",
    "            user_vec = user_vectors.get(movie_id)\n",
    "        \n",
    "            if user_vec is not None:\n",
    "                user_vec = user_vec.toarray().flatten()  # Преобразуем разреженную матрицу в массив\n",
    "            else:\n",
    "                user_vec = np.zeros(user_dim)  # Если нет user-вектора, создаём нулевой\n",
    "    \n",
    "            combined = np.concatenate([movie_vec, user_vec])\n",
    "            common_vectors.append(combined)\n",
    "    \n",
    "    # Преобразуем в список векторов в numpy массив\n",
    "    X_combined = np.array(common_vectors)\n",
    "    return X_combined"
   ]
  },
  {
   "cell_type": "code",
   "execution_count": 25,
   "id": "c8d54138-0807-40ba-a6fc-ada79d444a94",
   "metadata": {},
   "outputs": [],
   "source": [
    "X_combined = combine_user_movie_vectors_in_chunks(user_vectors, movie_vectors, 1000)"
   ]
  },
  {
   "cell_type": "code",
   "execution_count": 28,
   "id": "54b4f2a1-4fa6-4eff-8927-6dee982485b1",
   "metadata": {},
   "outputs": [
    {
     "data": {
      "text/plain": [
       "(86537, 2298)"
      ]
     },
     "execution_count": 28,
     "metadata": {},
     "output_type": "execute_result"
    }
   ],
   "source": [
    "X_combined.shape"
   ]
  },
  {
   "cell_type": "code",
   "execution_count": 16,
   "id": "00bd0cf8-7d00-4641-9857-5a2a59f3f197",
   "metadata": {},
   "outputs": [],
   "source": [
    "# Путь к файлу\n",
    "compressed_path = 'content/films/X_combined_compressed.npz'"
   ]
  },
  {
   "cell_type": "code",
   "execution_count": 30,
   "id": "440b3682-da4e-4681-a932-0af8755cd8fd",
   "metadata": {},
   "outputs": [
    {
     "name": "stdout",
     "output_type": "stream",
     "text": [
      "[✔] Сжатый X_combined сохранён: content/films/X_combined_compressed.npz\n"
     ]
    }
   ],
   "source": [
    "# # Сохраняем с компрессией\n",
    "# np.savez_compressed(compressed_path, X=X_combined)\n",
    "# print(f\"[✔] Сжатый X_combined сохранён: {compressed_path}\")"
   ]
  },
  {
   "cell_type": "code",
   "execution_count": 17,
   "id": "a127920d-c4ef-4b59-a89c-aadf8122df58",
   "metadata": {},
   "outputs": [
    {
     "ename": "NameError",
     "evalue": "name 'X_loaded' is not defined",
     "output_type": "error",
     "traceback": [
      "\u001b[0;31m---------------------------------------------------------------------------\u001b[0m",
      "\u001b[0;31mNameError\u001b[0m                                 Traceback (most recent call last)",
      "Cell \u001b[0;32mIn[17], line 4\u001b[0m\n\u001b[1;32m      2\u001b[0m loaded_data \u001b[38;5;241m=\u001b[39m np\u001b[38;5;241m.\u001b[39mload(compressed_path)\n\u001b[1;32m      3\u001b[0m X_combined \u001b[38;5;241m=\u001b[39m loaded_data[\u001b[38;5;124m'\u001b[39m\u001b[38;5;124mX\u001b[39m\u001b[38;5;124m'\u001b[39m]\n\u001b[0;32m----> 4\u001b[0m \u001b[38;5;28mprint\u001b[39m(\u001b[38;5;124mf\u001b[39m\u001b[38;5;124m\"\u001b[39m\u001b[38;5;124m[ℹ️] Загружен массив формы: \u001b[39m\u001b[38;5;132;01m{\u001b[39;00mX_loaded\u001b[38;5;241m.\u001b[39mshape\u001b[38;5;132;01m}\u001b[39;00m\u001b[38;5;124m\"\u001b[39m)\n",
      "\u001b[0;31mNameError\u001b[0m: name 'X_loaded' is not defined"
     ]
    }
   ],
   "source": [
    "# Загружаем\n",
    "loaded_data = np.load(compressed_path)\n",
    "X_combined = loaded_data['X']\n",
    "print(f\"[ℹ️] Загружен массив формы: {X_combined.shape}\")"
   ]
  },
  {
   "cell_type": "code",
   "execution_count": 46,
   "id": "26a72b2b-3bc3-426b-b0bb-ac9c2963b4b6",
   "metadata": {},
   "outputs": [],
   "source": [
    "def reduce_dimensionality_incremental(\n",
    "    X_matrix,\n",
    "    save_path,\n",
    "    n_components=300,\n",
    "    batch_size=2000,\n",
    "    plot_variance=True\n",
    "):\n",
    "    \"\"\"\n",
    "    Понижает размерность матрицы X_matrix с помощью IncrementalPCA по чанкам.\n",
    "    Сохраняет результат в .npz файл и строит график накопленной дисперсии (по необходимости).\n",
    "    Поддерживает вход в виде словаря с csr_matrix.\n",
    "    \"\"\"\n",
    "    # Если словарь — собрать в список\n",
    "    if isinstance(X_matrix, dict):\n",
    "        print(\"[INFO] Преобразуем словарь с разрежёнными матрицами в плотную матрицу...\")\n",
    "        X_matrix = np.array([vec.toarray().flatten() for vec in X_matrix.values()])\n",
    "    \n",
    "    elif hasattr(X_matrix, \"toarray\"):  # если это csr_matrix целиком\n",
    "        print(\"[INFO] Преобразуем csr_matrix в плотную матрицу...\")\n",
    "        X_matrix = X_matrix.toarray()\n",
    "\n",
    "    print(f\"[INFO] Начало обучения IncrementalPCA (n_components={n_components}, batch_size={batch_size})...\")\n",
    "    ipca = IncrementalPCA(n_components=n_components)\n",
    "\n",
    "    # Первый проход — обучение\n",
    "    for i in tqdm(range(0, X_matrix.shape[0], batch_size), desc=\"Обучение IncrementalPCA\"):\n",
    "        batch = X_matrix[i:i+batch_size]\n",
    "        ipca.partial_fit(batch)\n",
    "\n",
    "    # Дисперсия\n",
    "    cumulative_variance = np.cumsum(ipca.explained_variance_ratio_)\n",
    "    n_components_95 = np.argmax(cumulative_variance >= 0.95) + 1\n",
    "    print(f\"[INFO] Чтобы объяснить ≥95% дисперсии, нужно {n_components_95} компонент.\")\n",
    "\n",
    "    if plot_variance:\n",
    "        plt.figure(figsize=(8, 6))\n",
    "        plt.plot(cumulative_variance, marker='o')\n",
    "        plt.axhline(y=0.95, color='r', linestyle='--', label='95% variance')\n",
    "        plt.xlabel(\"Number of Components\")\n",
    "        plt.ylabel(\"Cumulative Explained Variance\")\n",
    "        plt.title(\"IncrementalPCA: Explained Variance vs Components\")\n",
    "        plt.legend()\n",
    "        plt.grid(True)\n",
    "        plt.tight_layout()\n",
    "        plt.show()\n",
    "\n",
    "    # Второй проход — трансформация\n",
    "    X_reduced = []\n",
    "    for i in tqdm(range(0, X_matrix.shape[0], batch_size), desc=\"Трансформация\"):\n",
    "        batch = X_matrix[i:i+batch_size]\n",
    "        X_reduced.append(ipca.transform(batch))\n",
    "\n",
    "    X_reduced = np.vstack(X_reduced)\n",
    "    print(f\"[INFO] Готово: новая форма матрицы: {X_reduced.shape}\")\n",
    "\n",
    "    # Сохраняем результат\n",
    "    os.makedirs(os.path.dirname(save_path), exist_ok=True)\n",
    "    np.savez_compressed(save_path, X_reduced=X_reduced)\n",
    "    print(f\"[SAVED] Сохранено в файл: {save_path}\")\n",
    "\n",
    "    return X_reduced, ipca.explained_variance_ratio_, cumulative_variance"
   ]
  },
  {
   "cell_type": "code",
   "execution_count": 43,
   "id": "b9970e5a-241f-4fab-ad78-b01f9e6b6147",
   "metadata": {},
   "outputs": [
    {
     "name": "stdout",
     "output_type": "stream",
     "text": [
      "[INFO] Начало обучения IncrementalPCA (n_components=150, batch_size=2000)...\n"
     ]
    },
    {
     "name": "stderr",
     "output_type": "stream",
     "text": [
      "Обучение IncrementalPCA: 100%|██████████████████████████████████████████████████████████████████████████████████████████████████████████████████████████████████████████████████████████████████████████████████████████████████████████████████████████████████████████████████████| 44/44 [02:28<00:00,  3.39s/it]"
     ]
    },
    {
     "name": "stdout",
     "output_type": "stream",
     "text": [
      "[INFO] Чтобы объяснить ≥95% дисперсии, нужно 1 компонент.\n"
     ]
    },
    {
     "name": "stderr",
     "output_type": "stream",
     "text": [
      "\n"
     ]
    },
    {
     "data": {
      "image/png": "[encoded data removed]",
      "text/plain": [
       "<Figure size 800x600 with 1 Axes>"
      ]
     },
     "metadata": {},
     "output_type": "display_data"
    },
    {
     "name": "stderr",
     "output_type": "stream",
     "text": [
      "Трансформация: 100%|████████████████████████████████████████████████████████████████████████████████████████████████████████████████████████████████████████████████████████████████████████████████████████████████████████████████████████████████████████████████████████████████| 44/44 [00:00<00:00, 50.74it/s]\n"
     ]
    },
    {
     "name": "stdout",
     "output_type": "stream",
     "text": [
      "[INFO] Готово: новая форма матрицы: (86537, 150)\n",
      "[SAVED] Сохранено в файл: content/films/X_combined_reduced.npz\n"
     ]
    }
   ],
   "source": [
    "X_reduced, evr, cumulative = reduce_dimensionality_incremental(\n",
    "    X_combined,\n",
    "    save_path=\"content/films/X_combined_reduced.npz\",\n",
    "    n_components=150\n",
    ")"
   ]
  },
  {
   "cell_type": "code",
   "execution_count": 31,
   "id": "6470953e-f15f-4e9c-98da-6d835e572a57",
   "metadata": {},
   "outputs": [
    {
     "data": {
      "text/plain": [
       "(86537, 150)"
      ]
     },
     "execution_count": 31,
     "metadata": {},
     "output_type": "execute_result"
    }
   ],
   "source": [
    "X_reduced.shape"
   ]
  },
  {
   "cell_type": "markdown",
   "id": "f37ae9b8-3f93-4952-a800-8f8c0a034c42",
   "metadata": {},
   "source": [
    "## Попробуем KNN"
   ]
  },
  {
   "cell_type": "code",
   "execution_count": 33,
   "id": "1ed8cf31-ea32-49b2-b1a4-d7257c368157",
   "metadata": {},
   "outputs": [],
   "source": [
    "def compute_knn_in_chunks(X_reduced, chunk_size=10000, n_neighbors=5):\n",
    "    \"\"\"\n",
    "    Выполняет поиск ближайших соседей для данных X_reduced с использованием чанков.\n",
    "    \"\"\"\n",
    "    total_samples = X_reduced.shape[0]\n",
    "    all_neighbors = []\n",
    "    all_distances = []\n",
    "    \n",
    "    # Создаём объект для поиска ближайших соседей\n",
    "    knn = NearestNeighbors(n_neighbors=n_neighbors, algorithm='auto', n_jobs=-1)\n",
    "    \n",
    "    # Обработка по чанкам\n",
    "    for start_idx in range(0, total_samples, chunk_size):\n",
    "        end_idx = min(start_idx + chunk_size, total_samples)\n",
    "        chunk = X_reduced[start_idx:end_idx]\n",
    "        \n",
    "        print(f\"[INFO] Обрабатываем чанк {start_idx} - {end_idx}\")\n",
    "        \n",
    "        # Обучаем модель KNN для текущего чанка\n",
    "        knn.fit(chunk)\n",
    "        \n",
    "        # Находим ближайших соседей для текущего чанка\n",
    "        distances, indices = knn.kneighbors(chunk)\n",
    "        \n",
    "        # Добавляем результаты\n",
    "        all_neighbors.append(indices)\n",
    "        all_distances.append(distances)\n",
    "    \n",
    "    # Конкатенируем все чанки в один массив\n",
    "    all_neighbors = np.concatenate(all_neighbors, axis=0)\n",
    "    all_distances = np.concatenate(all_distances, axis=0)\n",
    "    \n",
    "    return all_neighbors, all_distances"
   ]
  },
  {
   "cell_type": "code",
   "execution_count": 39,
   "id": "d558bd88-af2d-4dd8-adc6-387415d111eb",
   "metadata": {},
   "outputs": [],
   "source": [
    "def get_recommendations_df(user_id, ratings, movies, all_neighbors, all_distances, top_n=10):\n",
    "    \"\"\"\n",
    "    Получает рекомендации для пользователя в виде DataFrame с жанрами и рейтингами от соседей.\n",
    "    \"\"\"\n",
    "    user_idx = user_id  # Предполагается, что user_id совпадает с индексом в X_reduced\n",
    "\n",
    "    neighbors = all_neighbors[user_idx]\n",
    "    distances = all_distances[user_idx]\n",
    "\n",
    "    recommended_movies = {}\n",
    "    \n",
    "    for i, neighbor_idx in enumerate(neighbors):\n",
    "        neighbor_ratings = ratings[ratings['userId'] == neighbor_idx]\n",
    "        \n",
    "        for _, row in neighbor_ratings.iterrows():\n",
    "            movie_id = row['movieId']\n",
    "            rating = row['rating']\n",
    "            \n",
    "            if movie_id not in recommended_movies:\n",
    "                recommended_movies[movie_id] = []\n",
    "            recommended_movies[movie_id].append(rating)\n",
    "    \n",
    "    # Формируем список средних оценок\n",
    "    movie_avg_ratings = [\n",
    "        (movie_id, np.mean(ratings_list)) \n",
    "        for movie_id, ratings_list in recommended_movies.items()\n",
    "    ]\n",
    "\n",
    "    # Сортировка по убыванию средней оценки\n",
    "    movie_avg_ratings.sort(key=lambda x: x[1], reverse=True)\n",
    "\n",
    "    # Отбор top-N фильмов\n",
    "    top_movies = movie_avg_ratings[:top_n]\n",
    "\n",
    "    # Преобразуем в DataFrame\n",
    "    top_movie_ids = [movie_id for movie_id, _ in top_movies]\n",
    "    avg_ratings = {movie_id: avg_rating for movie_id, avg_rating in top_movies}\n",
    "    \n",
    "    recommendations_df = movies[movies['movieId'].isin(top_movie_ids)].copy()\n",
    "    recommendations_df[\"avg_rating_from_neighbors\"] = recommendations_df[\"movieId\"].map(avg_ratings)\n",
    "    \n",
    "    # Сортируем DataFrame по рейтингу от соседей\n",
    "    recommendations_df = recommendations_df.sort_values(\"avg_rating_from_neighbors\", ascending=False).reset_index(drop=True)\n",
    "\n",
    "    return recommendations_df"
   ]
  },
  {
   "cell_type": "code",
   "execution_count": 34,
   "id": "09110281-5d60-456b-a5e0-eb46f955f093",
   "metadata": {},
   "outputs": [
    {
     "name": "stdout",
     "output_type": "stream",
     "text": [
      "[INFO] Обрабатываем чанк 0 - 10000\n",
      "[INFO] Обрабатываем чанк 10000 - 20000\n",
      "[INFO] Обрабатываем чанк 20000 - 30000\n",
      "[INFO] Обрабатываем чанк 30000 - 40000\n",
      "[INFO] Обрабатываем чанк 40000 - 50000\n",
      "[INFO] Обрабатываем чанк 50000 - 60000\n",
      "[INFO] Обрабатываем чанк 60000 - 70000\n",
      "[INFO] Обрабатываем чанк 70000 - 80000\n",
      "[INFO] Обрабатываем чанк 80000 - 86537\n"
     ]
    }
   ],
   "source": [
    "all_neighbors, all_distances = compute_knn_in_chunks(X_reduced, chunk_size=10000, n_neighbors=5)\n"
   ]
  },
  {
   "cell_type": "code",
   "execution_count": 40,
   "id": "879eaced-0243-42e1-a3d5-cbea767c02cc",
   "metadata": {},
   "outputs": [
    {
     "data": {
      "text/html": [
       "<div>\n",
       "<style scoped>\n",
       "    .dataframe tbody tr th:only-of-type {\n",
       "        vertical-align: middle;\n",
       "    }\n",
       "\n",
       "    .dataframe tbody tr th {\n",
       "        vertical-align: top;\n",
       "    }\n",
       "\n",
       "    .dataframe thead th {\n",
       "        text-align: right;\n",
       "    }\n",
       "</style>\n",
       "<table border=\"1\" class=\"dataframe\">\n",
       "  <thead>\n",
       "    <tr style=\"text-align: right;\">\n",
       "      <th></th>\n",
       "      <th>movieId</th>\n",
       "      <th>title</th>\n",
       "      <th>genres</th>\n",
       "      <th>avg_rating_from_neighbors</th>\n",
       "    </tr>\n",
       "  </thead>\n",
       "  <tbody>\n",
       "    <tr>\n",
       "      <th>0</th>\n",
       "      <td>1036</td>\n",
       "      <td>Die Hard (1988)</td>\n",
       "      <td>Action|Crime|Thriller</td>\n",
       "      <td>5.0</td>\n",
       "    </tr>\n",
       "    <tr>\n",
       "      <th>1</th>\n",
       "      <td>1291</td>\n",
       "      <td>Indiana Jones and the Last Crusade (1989)</td>\n",
       "      <td>Action|Adventure</td>\n",
       "      <td>5.0</td>\n",
       "    </tr>\n",
       "    <tr>\n",
       "      <th>2</th>\n",
       "      <td>2028</td>\n",
       "      <td>Saving Private Ryan (1998)</td>\n",
       "      <td>Action|Drama|War</td>\n",
       "      <td>5.0</td>\n",
       "    </tr>\n",
       "    <tr>\n",
       "      <th>3</th>\n",
       "      <td>2762</td>\n",
       "      <td>Sixth Sense, The (1999)</td>\n",
       "      <td>Drama|Horror|Mystery</td>\n",
       "      <td>5.0</td>\n",
       "    </tr>\n",
       "    <tr>\n",
       "      <th>4</th>\n",
       "      <td>3578</td>\n",
       "      <td>Gladiator (2000)</td>\n",
       "      <td>Action|Adventure|Drama</td>\n",
       "      <td>5.0</td>\n",
       "    </tr>\n",
       "    <tr>\n",
       "      <th>5</th>\n",
       "      <td>4886</td>\n",
       "      <td>Monsters, Inc. (2001)</td>\n",
       "      <td>Adventure|Animation|Children|Comedy|Fantasy</td>\n",
       "      <td>5.0</td>\n",
       "    </tr>\n",
       "    <tr>\n",
       "      <th>6</th>\n",
       "      <td>4995</td>\n",
       "      <td>Beautiful Mind, A (2001)</td>\n",
       "      <td>Drama|Romance</td>\n",
       "      <td>5.0</td>\n",
       "    </tr>\n",
       "    <tr>\n",
       "      <th>7</th>\n",
       "      <td>7153</td>\n",
       "      <td>Lord of the Rings: The Return of the King, The (2003)</td>\n",
       "      <td>Action|Adventure|Drama|Fantasy</td>\n",
       "      <td>5.0</td>\n",
       "    </tr>\n",
       "    <tr>\n",
       "      <th>8</th>\n",
       "      <td>8132</td>\n",
       "      <td>Gladiator (1992)</td>\n",
       "      <td>Action|Drama</td>\n",
       "      <td>5.0</td>\n",
       "    </tr>\n",
       "    <tr>\n",
       "      <th>9</th>\n",
       "      <td>8533</td>\n",
       "      <td>Notebook, The (2004)</td>\n",
       "      <td>Drama|Romance</td>\n",
       "      <td>5.0</td>\n",
       "    </tr>\n",
       "  </tbody>\n",
       "</table>\n",
       "</div>"
      ],
      "text/plain": [
       "   movieId                                                  title  \\\n",
       "0     1036                                        Die Hard (1988)   \n",
       "1     1291              Indiana Jones and the Last Crusade (1989)   \n",
       "2     2028                             Saving Private Ryan (1998)   \n",
       "3     2762                                Sixth Sense, The (1999)   \n",
       "4     3578                                       Gladiator (2000)   \n",
       "5     4886                                  Monsters, Inc. (2001)   \n",
       "6     4995                               Beautiful Mind, A (2001)   \n",
       "7     7153  Lord of the Rings: The Return of the King, The (2003)   \n",
       "8     8132                                       Gladiator (1992)   \n",
       "9     8533                                   Notebook, The (2004)   \n",
       "\n",
       "                                        genres  avg_rating_from_neighbors  \n",
       "0                        Action|Crime|Thriller                        5.0  \n",
       "1                             Action|Adventure                        5.0  \n",
       "2                             Action|Drama|War                        5.0  \n",
       "3                         Drama|Horror|Mystery                        5.0  \n",
       "4                       Action|Adventure|Drama                        5.0  \n",
       "5  Adventure|Animation|Children|Comedy|Fantasy                        5.0  \n",
       "6                                Drama|Romance                        5.0  \n",
       "7               Action|Adventure|Drama|Fantasy                        5.0  \n",
       "8                                 Action|Drama                        5.0  \n",
       "9                                Drama|Romance                        5.0  "
      ]
     },
     "execution_count": 40,
     "metadata": {},
     "output_type": "execute_result"
    }
   ],
   "source": [
    "top_n = 10\n",
    "user_id = 1  # например, первый пользователь\n",
    "\n",
    "recs_df = get_recommendations_df(user_id, ratings, movies, all_neighbors, all_distances, top_n)\n",
    "recs_df"
   ]
  },
  {
   "cell_type": "code",
   "execution_count": null,
   "id": "d247a693-ec21-47b5-a0f1-bbcae26c3cc5",
   "metadata": {},
   "outputs": [],
   "source": []
  },
  {
   "cell_type": "markdown",
   "id": "9fa53f4a-fc83-4101-92fa-19498feb4fa0",
   "metadata": {},
   "source": [
    "## Попробуем ALS\n",
    "Вначале нудно понизитьразмерность для базовых векторов"
   ]
  },
  {
   "cell_type": "code",
   "execution_count": null,
   "id": "4b0032d1-d206-4628-84b2-2ccc717ccc52",
   "metadata": {},
   "outputs": [],
   "source": [
    "def reduce_dimensionality_sparse_svd(\n",
    "    X_sparse_dict,\n",
    "    save_path,\n",
    "    n_components=150,\n",
    "    plot_variance=True\n",
    "):\n",
    "    \"\"\"\n",
    "    Экономный по памяти способ понижения размерности sparse-векторов с помощью TruncatedSVD.\n",
    "    Поддерживает входной словарь csr_matrix-векторов.\n",
    "    \"\"\"\n",
    "    print(\"[INFO] Сборка sparse матрицы из словаря...\")\n",
    "    X_sparse = vstack(list(X_sparse_dict.values()))\n",
    "    \n",
    "    print(f\"[INFO] Начало TruncatedSVD (n_components={n_components})...\")\n",
    "    svd = TruncatedSVD(n_components=n_components, random_state=42)\n",
    "    X_reduced = svd.fit_transform(X_sparse)\n",
    "\n",
    "    cumulative_variance = np.cumsum(svd.explained_variance_ratio_)\n",
    "    n_components_95 = np.argmax(cumulative_variance >= 0.95) + 1\n",
    "    print(f\"[INFO] Чтобы объяснить ≥95% дисперсии, нужно {n_components_95} компонент.\")\n",
    "\n",
    "    if plot_variance:\n",
    "        plt.figure(figsize=(8, 6))\n",
    "        plt.plot(cumulative_variance, marker='o')\n",
    "        plt.axhline(y=0.95, color='r', linestyle='--', label='95% variance')\n",
    "        plt.xlabel(\"Number of Components\")\n",
    "        plt.ylabel(\"Cumulative Explained Variance\")\n",
    "        plt.title(\"TruncatedSVD: Explained Variance vs Components\")\n",
    "        plt.legend()\n",
    "        plt.grid(True)\n",
    "        plt.tight_layout()\n",
    "        plt.show()\n",
    "\n",
    "    print(f\"[INFO] Итоговая форма: {X_reduced.shape}\")\n",
    "    \n",
    "    os.makedirs(os.path.dirname(save_path), exist_ok=True)\n",
    "    np.savez_compressed(save_path, X_reduced=X_reduced)\n",
    "    print(f\"[SAVED] Сохранено: {save_path}\")\n",
    "\n",
    "    return X_reduced, svd.explained_variance_ratio_, cumulative_variance"
   ]
  },
  {
   "cell_type": "code",
   "execution_count": 32,
   "id": "a4e33d8b-0da3-442f-b903-dee6ff126659",
   "metadata": {},
   "outputs": [],
   "source": [
    "def reduce_dimensionality_sparse_incremental(\n",
    "    X_sparse_dict,\n",
    "    save_path,\n",
    "    n_components=150,\n",
    "    batch_size=2000,\n",
    "    plot_variance=True\n",
    "):\n",
    "    \"\"\"\n",
    "    Поинжение размерности для user_vector\n",
    "    Батчевое понижение размерности sparse-векторов (в словаре) с помощью IncrementalPCA.\n",
    "    Преобразует данные по чанкам, экономно использует память.\n",
    "    \"\"\"\n",
    "    print(f\"[INFO] Преобразуем словарь sparse векторов (n_components={n_components}, batch_size={batch_size})\")\n",
    "\n",
    "    ipca = IncrementalPCA(n_components=n_components)\n",
    "\n",
    "    keys = list(X_sparse_dict.keys())\n",
    "    \n",
    "    # Первый проход — обучение\n",
    "    print(\"[INFO] Этап partial_fit:\")\n",
    "    for i in tqdm(range(0, len(keys), batch_size), desc=\"Обучение IPCA\"):\n",
    "        chunk = [X_sparse_dict[k] for k in keys[i:i + batch_size]]\n",
    "        X_chunk = vstack(chunk).toarray()\n",
    "        ipca.partial_fit(X_chunk)\n",
    "\n",
    "    cumulative_variance = np.cumsum(ipca.explained_variance_ratio_)\n",
    "    n_components_95 = np.argmax(cumulative_variance >= 0.95) + 1\n",
    "    print(f\"[INFO] Чтобы объяснить ≥95% дисперсии, нужно {n_components_95} компонент.\")\n",
    "\n",
    "    if plot_variance:\n",
    "        plt.figure(figsize=(8,6))\n",
    "        plt.plot(cumulative_variance, marker='o')\n",
    "        plt.axhline(y=0.95, color='r', linestyle='--', label='95% variance')\n",
    "        plt.xlabel(\"Number of Components\")\n",
    "        plt.ylabel(\"Cumulative Explained Variance\")\n",
    "        plt.title(\"IncrementalPCA: Explained Variance vs Components\")\n",
    "        plt.legend()\n",
    "        plt.grid(True)\n",
    "        plt.tight_layout()\n",
    "        plt.show()\n",
    "\n",
    "    # Второй проход — трансформация\n",
    "    print(\"[INFO] Этап transform:\")\n",
    "    X_reduced_parts = []\n",
    "    for i in tqdm(range(0, len(keys), batch_size), desc=\"Трансформация\"):\n",
    "        chunk = [X_sparse_dict[k] for k in keys[i:i + batch_size]]\n",
    "        X_chunk = vstack(chunk).toarray()\n",
    "        X_reduced_parts.append(ipca.transform(X_chunk))\n",
    "\n",
    "    X_reduced = np.vstack(X_reduced_parts)\n",
    "    print(f\"[INFO] Итоговая форма: {X_reduced.shape}\")\n",
    "    \n",
    "    os.makedirs(os.path.dirname(save_path), exist_ok=True)\n",
    "    np.savez_compressed(save_path, X_reduced=X_reduced)\n",
    "    print(f\"[SAVED] Сохранено: {save_path}\")\n",
    "\n",
    "    return X_reduced, ipca.explained_variance_ratio_, cumulative_variance"
   ]
  },
  {
   "cell_type": "code",
   "execution_count": 23,
   "id": "4ff5772b-aba2-492b-bc4e-84c0c9c586ba",
   "metadata": {},
   "outputs": [
    {
     "name": "stdout",
     "output_type": "stream",
     "text": [
      "[INFO] Преобразуем словарь sparse векторов (n_components=150, batch_size=1000)\n",
      "[INFO] Этап partial_fit:\n"
     ]
    },
    {
     "name": "stderr",
     "output_type": "stream",
     "text": [
      "Обучение IPCA: 100%|██████████████████████████████████████████████████████████████████████████████████████████████████████████████████████████████████████████████████████████████████████████████████████████████████████████████████████████████████████████████████████████████| 331/331 [01:38<00:00,  3.36it/s]\n"
     ]
    },
    {
     "name": "stdout",
     "output_type": "stream",
     "text": [
      "[INFO] Чтобы объяснить ≥95% дисперсии, нужно 1 компонент.\n"
     ]
    },
    {
     "data": {
      "image/png": "[encoded data removed]",
      "text/plain": [
       "<Figure size 800x600 with 1 Axes>"
      ]
     },
     "metadata": {},
     "output_type": "display_data"
    },
    {
     "name": "stdout",
     "output_type": "stream",
     "text": [
      "[INFO] Этап transform:\n"
     ]
    },
    {
     "name": "stderr",
     "output_type": "stream",
     "text": [
      "Трансформация: 100%|██████████████████████████████████████████████████████████████████████████████████████████████████████████████████████████████████████████████████████████████████████████████████████████████████████████████████████████████████████████████████████████████| 331/331 [00:08<00:00, 38.97it/s]\n"
     ]
    },
    {
     "name": "stdout",
     "output_type": "stream",
     "text": [
      "[INFO] Итоговая форма: (330975, 150)\n",
      "[SAVED] Сохранено: content/films/user_vectors_reduced_ipca_batched.npz\n"
     ]
    }
   ],
   "source": [
    "user_vectors_reduced, evr, cumulative = reduce_dimensionality_sparse_incremental(\n",
    "    user_vectors,\n",
    "    save_path=\"content/films/user_vectors_reduced_ipca_batched.npz\",\n",
    "    n_components=150,\n",
    "    batch_size=1000  \n",
    ")"
   ]
  },
  {
   "cell_type": "code",
   "execution_count": 33,
   "id": "2bf87e65-552d-4411-9a66-afeef4a80c30",
   "metadata": {},
   "outputs": [],
   "source": [
    "def reduce_dimensionality_incremental_movies(X_dict, save_path, n_components=150, batch_size=2000, plot_variance=True):\n",
    "\n",
    "\n",
    "    print(f\"[INFO] Преобразуем словарь в numpy array...\")\n",
    "    keys = list(X_dict.keys())\n",
    "    X = np.array([X_dict[k] for k in keys])  # <- это сработает, т.к. массивы одинаковой длины\n",
    "\n",
    "    ipca = IncrementalPCA(n_components=n_components, batch_size=batch_size)\n",
    "    print(f\"[INFO] Начало обучения IncrementalPCA (n_components={n_components}, batch_size={batch_size})...\")\n",
    "    \n",
    "    for i in tqdm(range(0, X.shape[0], batch_size), desc=\"Обучение IncrementalPCA\"):\n",
    "        batch = X[i:i+batch_size]\n",
    "        ipca.partial_fit(batch)\n",
    "\n",
    "    cumulative_variance = np.cumsum(ipca.explained_variance_ratio_)\n",
    "    n_components_95 = np.argmax(cumulative_variance >= 0.95) + 1\n",
    "    print(f\"[INFO] Чтобы объяснить ≥95% дисперсии, нужно {n_components_95} компонент.\")\n",
    "\n",
    "    if plot_variance:\n",
    "        plt.figure(figsize=(10,5))\n",
    "        plt.plot(cumulative_variance, marker='o')\n",
    "        plt.axhline(0.95, color='red', linestyle='--')\n",
    "        plt.title(\"Cumulative Explained Variance\")\n",
    "        plt.xlabel(\"Number of Components\")\n",
    "        plt.ylabel(\"Cumulative Variance\")\n",
    "        plt.grid()\n",
    "        plt.show()\n",
    "\n",
    "    X_reduced = ipca.transform(X)\n",
    "    np.savez_compressed(save_path, X=X_reduced, keys=keys)\n",
    "    print(f\"[INFO] Сохранено: {save_path}\")\n",
    "\n",
    "    # Собираем словарь обратно\n",
    "    reduced_dict = {k: X_reduced[i] for i, k in enumerate(keys)}\n",
    "    return reduced_dict, ipca.explained_variance_ratio_, cumulative_variance\n"
   ]
  },
  {
   "cell_type": "code",
   "execution_count": 34,
   "id": "5c4b46d8-808e-4d96-a14a-cf9b1d9c521f",
   "metadata": {},
   "outputs": [
    {
     "name": "stdout",
     "output_type": "stream",
     "text": [
      "[INFO] Преобразуем словарь в numpy array...\n",
      "[INFO] Начало обучения IncrementalPCA (n_components=150, batch_size=1000)...\n"
     ]
    },
    {
     "name": "stderr",
     "output_type": "stream",
     "text": [
      "Обучение IncrementalPCA: 100%|██████████████████████████████████████████████████████████████████████████████████████████████████████████████████████████████████████████████████████████████████████████████████████████████████████████████████████████████████████████████████████| 87/87 [00:19<00:00,  4.35it/s]\n"
     ]
    },
    {
     "name": "stdout",
     "output_type": "stream",
     "text": [
      "[INFO] Чтобы объяснить ≥95% дисперсии, нужно 1 компонент.\n"
     ]
    },
    {
     "data": {
      "image/png": "[encoded data removed]",
      "text/plain": [
       "<Figure size 1000x500 with 1 Axes>"
      ]
     },
     "metadata": {},
     "output_type": "display_data"
    },
    {
     "name": "stdout",
     "output_type": "stream",
     "text": [
      "[INFO] Сохранено: content/films/movie_vectors_reduced_ipca_batched.npz\n"
     ]
    }
   ],
   "source": [
    "movie_vectors_reduced, evr, cumulative = reduce_dimensionality_incremental_movies(\n",
    "    movie_vectors,\n",
    "    save_path=\"content/films/movie_vectors_reduced_ipca_batched.npz\",\n",
    "    n_components=150,\n",
    "    batch_size=1000\n",
    ")"
   ]
  },
  {
   "cell_type": "code",
   "execution_count": null,
   "id": "9ce9a955-f035-447b-8092-d73a348b954f",
   "metadata": {},
   "outputs": [],
   "source": [
    "# Загружаем\n",
    "loaded_data = np.load('content/films/movie_vectors_reduced_ipca_batched.npz')\n",
    "movie_vectors_reduced= loaded_data['X']\n",
    "print(f\"[ℹ️] Загружен массив формы: {movie_vectors_reduced.shape}\")"
   ]
  },
  {
   "cell_type": "code",
   "execution_count": null,
   "id": "7e7399ac-e8e4-49bd-ae1d-0ae96924ae4d",
   "metadata": {},
   "outputs": [],
   "source": [
    "# Загружаем\n",
    "loaded_data = np.load('content/films/user_vectors_reduced_ipca_batched.npz')\n",
    "user_vectors_reduced= loaded_data['X']\n",
    "print(f\"[ℹ️] Загружен массив формы: {user_vectors_reduced.shape}\")"
   ]
  },
  {
   "cell_type": "code",
   "execution_count": 34,
   "id": "30be64a1-bcec-40ea-9e08-2bad5066de66",
   "metadata": {},
   "outputs": [],
   "source": [
    "# Кодируем пользователей и фильмы в индексы\n",
    "user_encoder = LabelEncoder()\n",
    "item_encoder = LabelEncoder()\n",
    "\n",
    "ratings['user_idx'] = user_encoder.fit_transform(ratings['userId'])\n",
    "ratings['item_idx'] = item_encoder.fit_transform(ratings['movieId'])"
   ]
  },
  {
   "cell_type": "code",
   "execution_count": 36,
   "id": "b6935b2f-8317-4e0c-8032-99c4625feb73",
   "metadata": {},
   "outputs": [],
   "source": [
    "# 1. Подготовка данных: создаем матрицу взаимодействий user-item (пользователь - фильм)\n",
    "ratings_matrix = csr_matrix((\n",
    "    ratings['rating'],\n",
    "    (ratings['user_idx'], ratings['item_idx'])\n",
    "))"
   ]
  },
  {
   "cell_type": "code",
   "execution_count": 37,
   "id": "0a4abc60-7b6e-4d60-bce9-800c0b0d3bda",
   "metadata": {},
   "outputs": [
    {
     "data": {
      "application/vnd.jupyter.widget-view+json": {
       "model_id": "b75478aa74c84eef9bbd026579e9d350",
       "version_major": 2,
       "version_minor": 0
      },
      "text/plain": [
       "  0%|          | 0/10 [00:00<?, ?it/s]"
      ]
     },
     "metadata": {},
     "output_type": "display_data"
    }
   ],
   "source": [
    "als_model = implicit.als.AlternatingLeastSquares(factors=50, regularization=0.1, iterations=10)\n",
    "als_model.fit(ratings_matrix)"
   ]
  },
  {
   "cell_type": "code",
   "execution_count": 46,
   "id": "089d94d3-19fd-4973-85c7-3a784a3e6ccf",
   "metadata": {},
   "outputs": [
    {
     "data": {
      "text/html": [
       "<div>\n",
       "<style scoped>\n",
       "    .dataframe tbody tr th:only-of-type {\n",
       "        vertical-align: middle;\n",
       "    }\n",
       "\n",
       "    .dataframe tbody tr th {\n",
       "        vertical-align: top;\n",
       "    }\n",
       "\n",
       "    .dataframe thead th {\n",
       "        text-align: right;\n",
       "    }\n",
       "</style>\n",
       "<table border=\"1\" class=\"dataframe\">\n",
       "  <thead>\n",
       "    <tr style=\"text-align: right;\">\n",
       "      <th></th>\n",
       "      <th>movieId</th>\n",
       "      <th>title</th>\n",
       "      <th>genres</th>\n",
       "    </tr>\n",
       "  </thead>\n",
       "  <tbody>\n",
       "    <tr>\n",
       "      <th>0</th>\n",
       "      <td>312</td>\n",
       "      <td>Stuart Saves His Family (1995)</td>\n",
       "      <td>Comedy</td>\n",
       "    </tr>\n",
       "    <tr>\n",
       "      <th>1</th>\n",
       "      <td>324</td>\n",
       "      <td>Sum of Us, The (1994)</td>\n",
       "      <td>Comedy|Drama</td>\n",
       "    </tr>\n",
       "    <tr>\n",
       "      <th>2</th>\n",
       "      <td>405</td>\n",
       "      <td>Highlander III: The Sorcerer (a.k.a. Highlander: The Final Dimension) (1994)</td>\n",
       "      <td>Action|Fantasy</td>\n",
       "    </tr>\n",
       "    <tr>\n",
       "      <th>3</th>\n",
       "      <td>31</td>\n",
       "      <td>Dangerous Minds (1995)</td>\n",
       "      <td>Drama</td>\n",
       "    </tr>\n",
       "    <tr>\n",
       "      <th>4</th>\n",
       "      <td>61</td>\n",
       "      <td>Eye for an Eye (1996)</td>\n",
       "      <td>Drama|Thriller</td>\n",
       "    </tr>\n",
       "    <tr>\n",
       "      <th>5</th>\n",
       "      <td>503</td>\n",
       "      <td>New Age, The (1994)</td>\n",
       "      <td>Drama</td>\n",
       "    </tr>\n",
       "    <tr>\n",
       "      <th>6</th>\n",
       "      <td>469</td>\n",
       "      <td>House of the Spirits, The (1993)</td>\n",
       "      <td>Drama|Romance</td>\n",
       "    </tr>\n",
       "    <tr>\n",
       "      <th>7</th>\n",
       "      <td>430</td>\n",
       "      <td>Calendar Girl (1993)</td>\n",
       "      <td>Comedy|Drama</td>\n",
       "    </tr>\n",
       "    <tr>\n",
       "      <th>8</th>\n",
       "      <td>721</td>\n",
       "      <td>Halfmoon (Paul Bowles - Halbmond) (1995)</td>\n",
       "      <td>Drama</td>\n",
       "    </tr>\n",
       "    <tr>\n",
       "      <th>9</th>\n",
       "      <td>363</td>\n",
       "      <td>Wonderful, Horrible Life of Leni Riefenstahl, The (Macht der Bilder: Leni Riefenstahl, Die) (1993)</td>\n",
       "      <td>Documentary</td>\n",
       "    </tr>\n",
       "  </tbody>\n",
       "</table>\n",
       "</div>"
      ],
      "text/plain": [
       "   movieId  \\\n",
       "0      312   \n",
       "1      324   \n",
       "2      405   \n",
       "3       31   \n",
       "4       61   \n",
       "5      503   \n",
       "6      469   \n",
       "7      430   \n",
       "8      721   \n",
       "9      363   \n",
       "\n",
       "                                                                                                title  \\\n",
       "0                                                                      Stuart Saves His Family (1995)   \n",
       "1                                                                               Sum of Us, The (1994)   \n",
       "2                        Highlander III: The Sorcerer (a.k.a. Highlander: The Final Dimension) (1994)   \n",
       "3                                                                              Dangerous Minds (1995)   \n",
       "4                                                                               Eye for an Eye (1996)   \n",
       "5                                                                                 New Age, The (1994)   \n",
       "6                                                                    House of the Spirits, The (1993)   \n",
       "7                                                                                Calendar Girl (1993)   \n",
       "8                                                            Halfmoon (Paul Bowles - Halbmond) (1995)   \n",
       "9  Wonderful, Horrible Life of Leni Riefenstahl, The (Macht der Bilder: Leni Riefenstahl, Die) (1993)   \n",
       "\n",
       "           genres  \n",
       "0          Comedy  \n",
       "1    Comedy|Drama  \n",
       "2  Action|Fantasy  \n",
       "3           Drama  \n",
       "4  Drama|Thriller  \n",
       "5           Drama  \n",
       "6   Drama|Romance  \n",
       "7    Comedy|Drama  \n",
       "8           Drama  \n",
       "9     Documentary  "
      ]
     },
     "execution_count": 46,
     "metadata": {},
     "output_type": "execute_result"
    }
   ],
   "source": [
    "internal_user_id = 1\n",
    "\n",
    "# Рекомендуем фильмы для конкретного пользователя\n",
    "recommended = als_model.recommend(internal_user_id, user_interaction, N=10)\n",
    "\n",
    "# Извлекаем только movieId из результатов\n",
    "recommended_movie_ids = recommended[0]\n",
    "\n",
    "# Создаем DataFrame из рекомендованных фильмов\n",
    "recommended_df = pd.DataFrame(recommended_movie_ids, columns=['movieId'])\n",
    "\n",
    "# Подтягиваем жанры для рекомендованных фильмов\n",
    "recommended_df = recommended_df.merge(movies[['movieId', 'title', 'genres']], on='movieId', how='left')\n",
    "\n",
    "# Выводим результат\n",
    "recommended_df"
   ]
  }
 ],
 "metadata": {
  "kernelspec": {
   "display_name": "Python 3 (ipykernel)",
   "language": "python",
   "name": "python3"
  },
  "language_info": {
   "codemirror_mode": {
    "name": "ipython",
    "version": 3
   },
   "file_extension": ".py",
   "mimetype": "text/x-python",
   "name": "python",
   "nbconvert_exporter": "python",
   "pygments_lexer": "ipython3",
   "version": "3.12.2"
  }
 },
 "nbformat": 4,
 "nbformat_minor": 5
}
