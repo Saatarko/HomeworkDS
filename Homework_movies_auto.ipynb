{
 "cells": [
  {
   "cell_type": "code",
   "execution_count": 17,
   "id": "6094cd3d-0e66-4fb3-8075-c15560842255",
   "metadata": {},
   "outputs": [],
   "source": [
    "import os\n",
    "# Отключает все логи TensorFlow (0 - все, 1 - предупреждения, 2 - ошибки, 3 - критичные ошибки)\n",
    "os.environ['TF_CPP_MIN_LOG_LEVEL'] = '3'"
   ]
  },
  {
   "cell_type": "code",
   "execution_count": 20,
   "id": "261f5150-503b-4fb9-9df6-0b5835e38f4f",
   "metadata": {},
   "outputs": [],
   "source": [
    "import torch\n",
    "import torch.nn as nn\n",
    "import torch.optim as optim\n",
    "from transformers import BertTokenizer, BertModel\n",
    "import pandas as pd\n",
    "import numpy as np\n",
    "from sklearn.preprocessing import MinMaxScaler\n",
    "import tensorflow as tf\n",
    "from keras.models import Model\n",
    "from keras.layers import Input, Dense\n",
    "from genre_recommender import preprocess_popularity, recommend_top_movies_by_genres, show_recommendations, get_all_genres\n",
    "from sklearn.metrics.pairwise import cosine_similarity\n",
    "from sklearn.neighbors import NearestNeighbors\n",
    "from sklearn.cluster import AgglomerativeClustering\n",
    "from sklearn.metrics.pairwise import euclidean_distances\n",
    "from scipy.sparse import csr_matrix\n",
    "import implicit\n",
    "from implicit.als import AlternatingLeastSquares\n",
    "from sklearn.preprocessing import LabelEncoder\n",
    "from sklearn.decomposition import NMF, TruncatedSVD\n",
    "from scipy.sparse import coo_matrix\n",
    "# from lightfm import LightFM\n",
    "# from lightfm.data import Dataset\n",
    "# from lightfm.evaluation import precision_at_k\n",
    "from tqdm import tqdm\n",
    "import json\n",
    "import os\n",
    "import math\n",
    "import glob\n",
    "import dill\n",
    "import matplotlib.pyplot as plt\n",
    "from hdbscan import HDBSCAN"
   ]
  },
  {
   "cell_type": "markdown",
   "id": "13b6aec4-30fd-490e-9df6-d9b9efc5c750",
   "metadata": {},
   "source": [
    "## Что нужно сдеать\n",
    "\n",
    "1. Сделать таблицу populatiry  на основе ratings (т.е сделать датасет с столбцами: movieId, ave_rating (находим как среднее по каждому фильму по рейтингу из imdb по imdbId)\n",
    "2. Content-base:\n",
    "- написать код выдачи топ -10 по populatiry (в соответствии с жанром)  - просто выдача по populatiry + жанр(ы)  (1)\n",
    "- написать код выдачи рекомендации по фильмам. На 1 фильм - 10 рекомендаций.(без учета рейтинга) -рекомендашка (2)\n",
    "\n",
    "3. User-base:\n",
    "  - написать код выдачи рекомендации по фильму. На 1 фильм - 10 рекомендаций.(без учета рейтинга) и с изменением весов по тэгу-рекомендашка (3)\n",
    "  - написать код выдачи рекомендации по фильму. На 1 фильм - 10 рекомендаций.(с учетом рейтинга) -рекомендашка (4)\n",
    "\n",
    "## Работа с юзерами\n",
    "\n",
    "1. Юзер новый и хочет рекомендаций- Юзер выбирает жанр и мы выдаем топ -5 по populatiry (в соответствии с жанром)\n",
    "2. Юзер посмотрел несоклько фильмов - подбираем похожий фильм (жанр, и тэги с учетом их весов (relevance))\n",
    "3. Юзер посмотрел несколько фильмов и поставил рейтинг менее 5 раз но больше 0. Фиксируем тэг фильмов на которые был поставлен рейтинг. И в зависимости от оценки уменьшаемили увеличиваем веса жанров/тэгов пропорционально оценке.\n",
    "4. Юзер посмотрел несколько фильмов и поставил рейтинг 5+раз  - подбираем рекомендации ( в соответвии с его рейтингами)"
   ]
  },
  {
   "cell_type": "markdown",
   "id": "d1062f46-8983-4570-af14-6df8c3bdbe06",
   "metadata": {},
   "source": [
    "# 1.топ -10 по populatiry (в соответствии с жанром) - просто выдача по populatiry + жанр(ы) (1)"
   ]
  },
  {
   "cell_type": "code",
   "execution_count": 16,
   "id": "ecb182c9-c0e8-41ee-a8da-e79bca76e98e",
   "metadata": {},
   "outputs": [
    {
     "data": {
      "text/html": [
       "<div>\n",
       "<style scoped>\n",
       "    .dataframe tbody tr th:only-of-type {\n",
       "        vertical-align: middle;\n",
       "    }\n",
       "\n",
       "    .dataframe tbody tr th {\n",
       "        vertical-align: top;\n",
       "    }\n",
       "\n",
       "    .dataframe thead th {\n",
       "        text-align: right;\n",
       "    }\n",
       "</style>\n",
       "<table border=\"1\" class=\"dataframe\">\n",
       "  <thead>\n",
       "    <tr style=\"text-align: right;\">\n",
       "      <th></th>\n",
       "      <th>title</th>\n",
       "      <th>genres</th>\n",
       "      <th>ave_rating</th>\n",
       "      <th>rating_count</th>\n",
       "      <th>weighted_rating</th>\n",
       "    </tr>\n",
       "  </thead>\n",
       "  <tbody>\n",
       "    <tr>\n",
       "      <th>44066</th>\n",
       "      <td>Band of Brothers (2001)</td>\n",
       "      <td>Action|Drama|War</td>\n",
       "      <td>4.423986</td>\n",
       "      <td>2835</td>\n",
       "      <td>4.419025</td>\n",
       "    </tr>\n",
       "    <tr>\n",
       "      <th>1930</th>\n",
       "      <td>Seven Samurai (Shichinin no samurai) (1954)</td>\n",
       "      <td>Action|Adventure|Drama</td>\n",
       "      <td>4.250818</td>\n",
       "      <td>17120</td>\n",
       "      <td>4.250095</td>\n",
       "    </tr>\n",
       "    <tr>\n",
       "      <th>41020</th>\n",
       "      <td>Over the Garden Wall (2013)</td>\n",
       "      <td>Adventure|Animation|Drama</td>\n",
       "      <td>4.256993</td>\n",
       "      <td>1430</td>\n",
       "      <td>4.248352</td>\n",
       "    </tr>\n",
       "    <tr>\n",
       "      <th>2867</th>\n",
       "      <td>Fight Club (1999)</td>\n",
       "      <td>Action|Crime|Drama|Thriller</td>\n",
       "      <td>4.236019</td>\n",
       "      <td>86207</td>\n",
       "      <td>4.235877</td>\n",
       "    </tr>\n",
       "    <tr>\n",
       "      <th>82617</th>\n",
       "      <td>Spider-Man: Across the Spider-Verse (2023)</td>\n",
       "      <td>Action|Adventure|Animation|Sci-Fi</td>\n",
       "      <td>4.252841</td>\n",
       "      <td>528</td>\n",
       "      <td>4.229790</td>\n",
       "    </tr>\n",
       "    <tr>\n",
       "      <th>5509</th>\n",
       "      <td>Spirited Away (Sen to Chihiro no kamikakushi) ...</td>\n",
       "      <td>Adventure|Animation|Fantasy</td>\n",
       "      <td>4.226035</td>\n",
       "      <td>35375</td>\n",
       "      <td>4.225692</td>\n",
       "    </tr>\n",
       "    <tr>\n",
       "      <th>55378</th>\n",
       "      <td>Spider-Man: Into the Spider-Verse (2018)</td>\n",
       "      <td>Action|Adventure|Animation|Sci-Fi</td>\n",
       "      <td>4.192053</td>\n",
       "      <td>10885</td>\n",
       "      <td>4.190971</td>\n",
       "    </tr>\n",
       "    <tr>\n",
       "      <th>12221</th>\n",
       "      <td>Dark Knight, The (2008)</td>\n",
       "      <td>Action|Crime|Drama|IMAX</td>\n",
       "      <td>4.187539</td>\n",
       "      <td>65349</td>\n",
       "      <td>4.187359</td>\n",
       "    </tr>\n",
       "    <tr>\n",
       "      <th>887</th>\n",
       "      <td>North by Northwest (1959)</td>\n",
       "      <td>Action|Adventure|Mystery|Romance|Thriller</td>\n",
       "      <td>4.187337</td>\n",
       "      <td>21883</td>\n",
       "      <td>4.186801</td>\n",
       "    </tr>\n",
       "    <tr>\n",
       "      <th>5905</th>\n",
       "      <td>City of God (Cidade de Deus) (2002)</td>\n",
       "      <td>Action|Adventure|Crime|Drama|Thriller</td>\n",
       "      <td>4.183597</td>\n",
       "      <td>27209</td>\n",
       "      <td>4.183167</td>\n",
       "    </tr>\n",
       "  </tbody>\n",
       "</table>\n",
       "</div>"
      ],
      "text/plain": [
       "                                                   title  \\\n",
       "44066                            Band of Brothers (2001)   \n",
       "1930         Seven Samurai (Shichinin no samurai) (1954)   \n",
       "41020                        Over the Garden Wall (2013)   \n",
       "2867                                   Fight Club (1999)   \n",
       "82617         Spider-Man: Across the Spider-Verse (2023)   \n",
       "5509   Spirited Away (Sen to Chihiro no kamikakushi) ...   \n",
       "55378           Spider-Man: Into the Spider-Verse (2018)   \n",
       "12221                            Dark Knight, The (2008)   \n",
       "887                            North by Northwest (1959)   \n",
       "5905                 City of God (Cidade de Deus) (2002)   \n",
       "\n",
       "                                          genres  ave_rating  rating_count  \\\n",
       "44066                           Action|Drama|War    4.423986          2835   \n",
       "1930                      Action|Adventure|Drama    4.250818         17120   \n",
       "41020                  Adventure|Animation|Drama    4.256993          1430   \n",
       "2867                 Action|Crime|Drama|Thriller    4.236019         86207   \n",
       "82617          Action|Adventure|Animation|Sci-Fi    4.252841           528   \n",
       "5509                 Adventure|Animation|Fantasy    4.226035         35375   \n",
       "55378          Action|Adventure|Animation|Sci-Fi    4.192053         10885   \n",
       "12221                    Action|Crime|Drama|IMAX    4.187539         65349   \n",
       "887    Action|Adventure|Mystery|Romance|Thriller    4.187337         21883   \n",
       "5905       Action|Adventure|Crime|Drama|Thriller    4.183597         27209   \n",
       "\n",
       "       weighted_rating  \n",
       "44066         4.419025  \n",
       "1930          4.250095  \n",
       "41020         4.248352  \n",
       "2867          4.235877  \n",
       "82617         4.229790  \n",
       "5509          4.225692  \n",
       "55378         4.190971  \n",
       "12221         4.187359  \n",
       "887           4.186801  \n",
       "5905          4.183167  "
      ]
     },
     "execution_count": 16,
     "metadata": {},
     "output_type": "execute_result"
    }
   ],
   "source": [
    "popularity_df = preprocess_popularity(ratings)\n",
    "\n",
    "# Непосредственно рекомендации\n",
    "recommend_top_movies_by_genres(\"Action\", \"Adventure\", movies_df=movies, popularity_df=popularity_df)"
   ]
  },
  {
   "cell_type": "code",
   "execution_count": 25,
   "id": "1f21b948-e853-43b9-a967-320033a15f0e",
   "metadata": {},
   "outputs": [
    {
     "data": {
      "application/vnd.jupyter.widget-view+json": {
       "model_id": "66a016cd69b443ed98d7440fee263e5d",
       "version_major": 2,
       "version_minor": 0
      },
      "text/plain": [
       "VBox(children=(SelectMultiple(description='Жанры', index=(1,), options=('(no genres listed)', 'Action', 'Adven…"
      ]
     },
     "metadata": {},
     "output_type": "display_data"
    }
   ],
   "source": [
    "# Интерактивный режим \n",
    "show_recommendations(movies_df=movies, ratings_df=ratings)"
   ]
  },
  {
   "cell_type": "markdown",
   "id": "a4b1a41f-8588-4ee5-af35-4c2728d96380",
   "metadata": {},
   "source": [
    "## 2. Content-base:"
   ]
  },
  {
   "cell_type": "code",
   "execution_count": 4,
   "id": "4aabee26-03a7-4708-bb1b-2120c4e8475e",
   "metadata": {},
   "outputs": [
    {
     "name": "stdout",
     "output_type": "stream",
     "text": [
      "movies: (86537, 3)\n",
      "ratings: (33832162, 4)\n",
      "tags: (2328315, 4)\n",
      "genome_tags: (1128, 2)\n",
      "genome_scores: (18472128, 3)\n"
     ]
    }
   ],
   "source": [
    "# Подготовка данных\n",
    "\n",
    "movies = pd.read_csv('content/films/movies.csv')\n",
    "ratings = pd.read_csv('content/films/ratings.csv')\n",
    "tags = pd.read_csv('content/films/tags.csv')\n",
    "genome_tags = pd.read_csv('content/films/genome-tags.csv')\n",
    "genome_scores = pd.read_csv('content/films/genome-scores.csv')\n",
    "\n",
    "# Проверим размеры\n",
    "print(\"movies:\", movies.shape)\n",
    "print(\"ratings:\", ratings.shape)\n",
    "print(\"tags:\", tags.shape)\n",
    "print(\"genome_tags:\", genome_tags.shape)\n",
    "print(\"genome_scores:\", genome_scores.shape)"
   ]
  },
  {
   "cell_type": "code",
   "execution_count": 6,
   "id": "ab58a36f-99f6-4c93-86be-3d33a3b3a7ba",
   "metadata": {},
   "outputs": [
    {
     "name": "stdout",
     "output_type": "stream",
     "text": [
      "movie_tag_matrix shape: (16376, 1128)\n"
     ]
    },
    {
     "data": {
      "text/html": [
       "<div>\n",
       "<style scoped>\n",
       "    .dataframe tbody tr th:only-of-type {\n",
       "        vertical-align: middle;\n",
       "    }\n",
       "\n",
       "    .dataframe tbody tr th {\n",
       "        vertical-align: top;\n",
       "    }\n",
       "\n",
       "    .dataframe thead th {\n",
       "        text-align: right;\n",
       "    }\n",
       "</style>\n",
       "<table border=\"1\" class=\"dataframe\">\n",
       "  <thead>\n",
       "    <tr style=\"text-align: right;\">\n",
       "      <th>tagId</th>\n",
       "      <th>007</th>\n",
       "      <th>007 (series)</th>\n",
       "      <th>18th century</th>\n",
       "      <th>1920s</th>\n",
       "      <th>1930s</th>\n",
       "      <th>1950s</th>\n",
       "      <th>1960s</th>\n",
       "      <th>1970s</th>\n",
       "      <th>1980s</th>\n",
       "      <th>19th century</th>\n",
       "      <th>...</th>\n",
       "      <th>world politics</th>\n",
       "      <th>world war i</th>\n",
       "      <th>world war ii</th>\n",
       "      <th>writer's life</th>\n",
       "      <th>writers</th>\n",
       "      <th>writing</th>\n",
       "      <th>wuxia</th>\n",
       "      <th>wwii</th>\n",
       "      <th>zombie</th>\n",
       "      <th>zombies</th>\n",
       "    </tr>\n",
       "    <tr>\n",
       "      <th>movieId</th>\n",
       "      <th></th>\n",
       "      <th></th>\n",
       "      <th></th>\n",
       "      <th></th>\n",
       "      <th></th>\n",
       "      <th></th>\n",
       "      <th></th>\n",
       "      <th></th>\n",
       "      <th></th>\n",
       "      <th></th>\n",
       "      <th></th>\n",
       "      <th></th>\n",
       "      <th></th>\n",
       "      <th></th>\n",
       "      <th></th>\n",
       "      <th></th>\n",
       "      <th></th>\n",
       "      <th></th>\n",
       "      <th></th>\n",
       "      <th></th>\n",
       "      <th></th>\n",
       "    </tr>\n",
       "  </thead>\n",
       "  <tbody>\n",
       "    <tr>\n",
       "      <th>1</th>\n",
       "      <td>0.0320</td>\n",
       "      <td>0.02225</td>\n",
       "      <td>0.07000</td>\n",
       "      <td>0.05900</td>\n",
       "      <td>0.12300</td>\n",
       "      <td>0.1310</td>\n",
       "      <td>0.06175</td>\n",
       "      <td>0.19550</td>\n",
       "      <td>0.26625</td>\n",
       "      <td>0.03300</td>\n",
       "      <td>...</td>\n",
       "      <td>0.04125</td>\n",
       "      <td>0.01550</td>\n",
       "      <td>0.03775</td>\n",
       "      <td>0.03500</td>\n",
       "      <td>0.11525</td>\n",
       "      <td>0.04350</td>\n",
       "      <td>0.04050</td>\n",
       "      <td>0.03300</td>\n",
       "      <td>0.07700</td>\n",
       "      <td>0.01825</td>\n",
       "    </tr>\n",
       "    <tr>\n",
       "      <th>2</th>\n",
       "      <td>0.0325</td>\n",
       "      <td>0.03200</td>\n",
       "      <td>0.04050</td>\n",
       "      <td>0.05100</td>\n",
       "      <td>0.10050</td>\n",
       "      <td>0.0635</td>\n",
       "      <td>0.19825</td>\n",
       "      <td>0.07525</td>\n",
       "      <td>0.09750</td>\n",
       "      <td>0.06325</td>\n",
       "      <td>...</td>\n",
       "      <td>0.04100</td>\n",
       "      <td>0.02025</td>\n",
       "      <td>0.01100</td>\n",
       "      <td>0.01875</td>\n",
       "      <td>0.13425</td>\n",
       "      <td>0.01850</td>\n",
       "      <td>0.01825</td>\n",
       "      <td>0.00825</td>\n",
       "      <td>0.08750</td>\n",
       "      <td>0.01375</td>\n",
       "    </tr>\n",
       "    <tr>\n",
       "      <th>3</th>\n",
       "      <td>0.0415</td>\n",
       "      <td>0.05525</td>\n",
       "      <td>0.02125</td>\n",
       "      <td>0.07225</td>\n",
       "      <td>0.05125</td>\n",
       "      <td>0.0440</td>\n",
       "      <td>0.03000</td>\n",
       "      <td>0.10375</td>\n",
       "      <td>0.02300</td>\n",
       "      <td>0.03250</td>\n",
       "      <td>...</td>\n",
       "      <td>0.06175</td>\n",
       "      <td>0.01825</td>\n",
       "      <td>0.02375</td>\n",
       "      <td>0.01700</td>\n",
       "      <td>0.12400</td>\n",
       "      <td>0.02775</td>\n",
       "      <td>0.01600</td>\n",
       "      <td>0.01325</td>\n",
       "      <td>0.10075</td>\n",
       "      <td>0.01800</td>\n",
       "    </tr>\n",
       "  </tbody>\n",
       "</table>\n",
       "<p>3 rows × 1128 columns</p>\n",
       "</div>"
      ],
      "text/plain": [
       "tagId       007  007 (series)  18th century    1920s    1930s   1950s  \\\n",
       "movieId                                                                 \n",
       "1        0.0320       0.02225       0.07000  0.05900  0.12300  0.1310   \n",
       "2        0.0325       0.03200       0.04050  0.05100  0.10050  0.0635   \n",
       "3        0.0415       0.05525       0.02125  0.07225  0.05125  0.0440   \n",
       "\n",
       "tagId      1960s    1970s    1980s  19th century  ...  world politics  \\\n",
       "movieId                                           ...                   \n",
       "1        0.06175  0.19550  0.26625       0.03300  ...         0.04125   \n",
       "2        0.19825  0.07525  0.09750       0.06325  ...         0.04100   \n",
       "3        0.03000  0.10375  0.02300       0.03250  ...         0.06175   \n",
       "\n",
       "tagId    world war i  world war ii  writer's life  writers  writing    wuxia  \\\n",
       "movieId                                                                        \n",
       "1            0.01550       0.03775        0.03500  0.11525  0.04350  0.04050   \n",
       "2            0.02025       0.01100        0.01875  0.13425  0.01850  0.01825   \n",
       "3            0.01825       0.02375        0.01700  0.12400  0.02775  0.01600   \n",
       "\n",
       "tagId       wwii   zombie  zombies  \n",
       "movieId                             \n",
       "1        0.03300  0.07700  0.01825  \n",
       "2        0.00825  0.08750  0.01375  \n",
       "3        0.01325  0.10075  0.01800  \n",
       "\n",
       "[3 rows x 1128 columns]"
      ]
     },
     "execution_count": 6,
     "metadata": {},
     "output_type": "execute_result"
    }
   ],
   "source": [
    "# Преобразуем genome_scores в широкую таблицу: movieId × tagId\n",
    "movie_tag_matrix = genome_scores.pivot(index='movieId', columns='tagId', values='relevance').fillna(0)\n",
    "\n",
    "# Добавим к movie_tag_matrix названия тегов\n",
    "tag_id_to_name = genome_tags.set_index('tagId')['tag']\n",
    "movie_tag_matrix.columns = movie_tag_matrix.columns.map(tag_id_to_name)\n",
    "\n",
    "# Проверим результат\n",
    "print(\"movie_tag_matrix shape:\", movie_tag_matrix.shape)\n",
    "movie_tag_matrix.head(3)"
   ]
  },
  {
   "cell_type": "markdown",
   "id": "03bfacdd-a7d6-44ec-a700-7987fed2d908",
   "metadata": {},
   "source": [
    "## Нормализация"
   ]
  },
  {
   "cell_type": "code",
   "execution_count": 8,
   "id": "88e39b0f-fbd6-456f-91f9-e5b8d5cb958f",
   "metadata": {},
   "outputs": [
    {
     "name": "stdout",
     "output_type": "stream",
     "text": [
      "Scaled shape: (16376, 1128)\n"
     ]
    }
   ],
   "source": [
    "scaler = MinMaxScaler()\n",
    "movie_vectors_scaled = scaler.fit_transform(movie_tag_matrix)\n",
    "\n",
    "print(\"Scaled shape:\", movie_vectors_scaled.shape)"
   ]
  },
  {
   "cell_type": "code",
   "execution_count": 12,
   "id": "84ffc277-7a3f-4626-b0e2-541c7863e708",
   "metadata": {
    "scrolled": true
   },
   "outputs": [
    {
     "name": "stdout",
     "output_type": "stream",
     "text": [
      "Epoch 1/20\n",
      "\u001b[1m58/58\u001b[0m \u001b[32m━━━━━━━━━━━━━━━━━━━━\u001b[0m\u001b[37m\u001b[0m \u001b[1m4s\u001b[0m 34ms/step - loss: 0.0755 - val_loss: 0.0255\n",
      "Epoch 2/20\n",
      "\u001b[1m58/58\u001b[0m \u001b[32m━━━━━━━━━━━━━━━━━━━━\u001b[0m\u001b[37m\u001b[0m \u001b[1m2s\u001b[0m 30ms/step - loss: 0.0299 - val_loss: 0.0247\n",
      "Epoch 3/20\n",
      "\u001b[1m58/58\u001b[0m \u001b[32m━━━━━━━━━━━━━━━━━━━━\u001b[0m\u001b[37m\u001b[0m \u001b[1m2s\u001b[0m 30ms/step - loss: 0.0291 - val_loss: 0.0244\n",
      "Epoch 4/20\n",
      "\u001b[1m58/58\u001b[0m \u001b[32m━━━━━━━━━━━━━━━━━━━━\u001b[0m\u001b[37m\u001b[0m \u001b[1m2s\u001b[0m 29ms/step - loss: 0.0287 - val_loss: 0.0231\n",
      "Epoch 5/20\n",
      "\u001b[1m58/58\u001b[0m \u001b[32m━━━━━━━━━━━━━━━━━━━━\u001b[0m\u001b[37m\u001b[0m \u001b[1m2s\u001b[0m 29ms/step - loss: 0.0230 - val_loss: 0.0065\n",
      "Epoch 6/20\n",
      "\u001b[1m58/58\u001b[0m \u001b[32m━━━━━━━━━━━━━━━━━━━━\u001b[0m\u001b[37m\u001b[0m \u001b[1m2s\u001b[0m 29ms/step - loss: 0.0117 - val_loss: 0.0056\n",
      "Epoch 7/20\n",
      "\u001b[1m58/58\u001b[0m \u001b[32m━━━━━━━━━━━━━━━━━━━━\u001b[0m\u001b[37m\u001b[0m \u001b[1m2s\u001b[0m 35ms/step - loss: 0.0102 - val_loss: 0.0051\n",
      "Epoch 8/20\n",
      "\u001b[1m58/58\u001b[0m \u001b[32m━━━━━━━━━━━━━━━━━━━━\u001b[0m\u001b[37m\u001b[0m \u001b[1m2s\u001b[0m 31ms/step - loss: 0.0088 - val_loss: 0.0050\n",
      "Epoch 9/20\n",
      "\u001b[1m58/58\u001b[0m \u001b[32m━━━━━━━━━━━━━━━━━━━━\u001b[0m\u001b[37m\u001b[0m \u001b[1m2s\u001b[0m 29ms/step - loss: 0.0079 - val_loss: 0.0049\n",
      "Epoch 10/20\n",
      "\u001b[1m58/58\u001b[0m \u001b[32m━━━━━━━━━━━━━━━━━━━━\u001b[0m\u001b[37m\u001b[0m \u001b[1m2s\u001b[0m 29ms/step - loss: 0.0074 - val_loss: 0.0046\n",
      "Epoch 11/20\n",
      "\u001b[1m58/58\u001b[0m \u001b[32m━━━━━━━━━━━━━━━━━━━━\u001b[0m\u001b[37m\u001b[0m \u001b[1m2s\u001b[0m 28ms/step - loss: 0.0070 - val_loss: 0.0044\n",
      "Epoch 12/20\n",
      "\u001b[1m58/58\u001b[0m \u001b[32m━━━━━━━━━━━━━━━━━━━━\u001b[0m\u001b[37m\u001b[0m \u001b[1m2s\u001b[0m 29ms/step - loss: 0.0066 - val_loss: 0.0044\n",
      "Epoch 13/20\n",
      "\u001b[1m58/58\u001b[0m \u001b[32m━━━━━━━━━━━━━━━━━━━━\u001b[0m\u001b[37m\u001b[0m \u001b[1m2s\u001b[0m 29ms/step - loss: 0.0063 - val_loss: 0.0042\n",
      "Epoch 14/20\n",
      "\u001b[1m58/58\u001b[0m \u001b[32m━━━━━━━━━━━━━━━━━━━━\u001b[0m\u001b[37m\u001b[0m \u001b[1m2s\u001b[0m 29ms/step - loss: 0.0061 - val_loss: 0.0041\n",
      "Epoch 15/20\n",
      "\u001b[1m58/58\u001b[0m \u001b[32m━━━━━━━━━━━━━━━━━━━━\u001b[0m\u001b[37m\u001b[0m \u001b[1m2s\u001b[0m 28ms/step - loss: 0.0059 - val_loss: 0.0040\n",
      "Epoch 16/20\n",
      "\u001b[1m58/58\u001b[0m \u001b[32m━━━━━━━━━━━━━━━━━━━━\u001b[0m\u001b[37m\u001b[0m \u001b[1m2s\u001b[0m 34ms/step - loss: 0.0057 - val_loss: 0.0039\n",
      "Epoch 17/20\n",
      "\u001b[1m58/58\u001b[0m \u001b[32m━━━━━━━━━━━━━━━━━━━━\u001b[0m\u001b[37m\u001b[0m \u001b[1m2s\u001b[0m 31ms/step - loss: 0.0055 - val_loss: 0.0040\n",
      "Epoch 18/20\n",
      "\u001b[1m58/58\u001b[0m \u001b[32m━━━━━━━━━━━━━━━━━━━━\u001b[0m\u001b[37m\u001b[0m \u001b[1m2s\u001b[0m 35ms/step - loss: 0.0054 - val_loss: 0.0039\n",
      "Epoch 19/20\n",
      "\u001b[1m58/58\u001b[0m \u001b[32m━━━━━━━━━━━━━━━━━━━━\u001b[0m\u001b[37m\u001b[0m \u001b[1m2s\u001b[0m 31ms/step - loss: 0.0053 - val_loss: 0.0039\n",
      "Epoch 20/20\n",
      "\u001b[1m58/58\u001b[0m \u001b[32m━━━━━━━━━━━━━━━━━━━━\u001b[0m\u001b[37m\u001b[0m \u001b[1m2s\u001b[0m 31ms/step - loss: 0.0052 - val_loss: 0.0038\n"
     ]
    }
   ],
   "source": [
    "input_dim = movie_vectors_scaled.shape[1]  # 1128\n",
    "encoding_dim = 64  # можно изменить на 128 или 32\n",
    "\n",
    "# Входной слой\n",
    "input_layer = Input(shape=(input_dim,))\n",
    "\n",
    "# Кодировщик (encoder)\n",
    "encoded = Dense(512, activation='relu')(input_layer)\n",
    "encoded = Dense(256, activation='relu')(encoded)\n",
    "encoded = Dense(encoding_dim, activation='relu')(encoded)\n",
    "\n",
    "# Декодировщик (decoder)\n",
    "decoded = Dense(256, activation='relu')(encoded)\n",
    "decoded = Dense(512, activation='relu')(decoded)\n",
    "decoded = Dense(input_dim, activation='sigmoid')(decoded)\n",
    "\n",
    "# Модель автоэнкодера\n",
    "autoencoder = Model(input_layer, decoded)\n",
    "\n",
    "# Модель энкодера (для извлечения признаков)\n",
    "encoder = Model(input_layer, encoded)\n",
    "\n",
    "# Компиляция\n",
    "autoencoder.compile(optimizer='adam', loss='mse')\n",
    "\n",
    "# Обучение\n",
    "history = autoencoder.fit(\n",
    "    movie_vectors_scaled, movie_vectors_scaled,\n",
    "    epochs=20,\n",
    "    batch_size=256,\n",
    "    shuffle=True,\n",
    "    validation_split=0.1\n",
    ")"
   ]
  },
  {
   "cell_type": "code",
   "execution_count": 13,
   "id": "4762411b-a1ed-453e-ac8f-c22e4c62caf5",
   "metadata": {},
   "outputs": [
    {
     "name": "stdout",
     "output_type": "stream",
     "text": [
      "\u001b[1m512/512\u001b[0m \u001b[32m━━━━━━━━━━━━━━━━━━━━\u001b[0m\u001b[37m\u001b[0m \u001b[1m1s\u001b[0m 2ms/step\n",
      "Reduced shape: (16376, 64)\n"
     ]
    }
   ],
   "source": [
    "# Получаем сжатые векторы\n",
    "movie_vectors_reduced = encoder.predict(movie_vectors_scaled)\n",
    "\n",
    "# Проверим размерность\n",
    "print(\"Reduced shape:\", movie_vectors_reduced.shape)\n"
   ]
  },
  {
   "cell_type": "code",
   "execution_count": null,
   "id": "5d83d248-9897-420a-a53b-750f6a0d3429",
   "metadata": {},
   "outputs": [],
   "source": [
    "# Преобразуем в DataFrame и добавим movieId\n",
    "movie_vectors_df = pd.DataFrame(movie_vectors_reduced)\n",
    "movie_vectors_df['movieId'] = movie_tag_matrix.index.values\n",
    "\n"
   ]
  },
  {
   "cell_type": "code",
   "execution_count": 14,
   "id": "a101d2fc-65f4-4be1-92ba-33f7a96893f9",
   "metadata": {},
   "outputs": [
    {
     "name": "stdout",
     "output_type": "stream",
     "text": [
      "Сжатые векторы фильмов сохранены в movie_vectors_reduced.npz\n"
     ]
    }
   ],
   "source": [
    "# Сохраняем с индексами\n",
    "np.savez_compressed('content/films/movie_vectors_reduced.npz',\n",
    "                    vectors=movie_vectors_reduced,\n",
    "                    movie_ids=movie_tag_matrix.index.values)\n",
    "\n",
    "print(\"Сжатые векторы фильмов сохранены в movie_vectors_reduced.npz\")"
   ]
  },
  {
   "cell_type": "code",
   "execution_count": 19,
   "id": "9128c92e-5691-4ba3-a17b-5c3742aeb54b",
   "metadata": {},
   "outputs": [],
   "source": [
    "data = np.load('content/films/movie_vectors_reduced.npz')\n",
    "movie_vectors_reduced = data['vectors']\n",
    "movie_ids = data['movie_ids']\n"
   ]
  },
  {
   "cell_type": "code",
   "execution_count": 4,
   "id": "886cf482-b85b-4716-8559-92f28c1bd58e",
   "metadata": {},
   "outputs": [],
   "source": [
    "# Функция для получения 10 самых похожих фильмов\n",
    "def get_similar_movies(movie_id, movie_vectors_reduced, top_n=10):\n",
    "    cosine_sim = cosine_similarity(movie_vectors_reduced)  # Косинусное сходство\n",
    "    movie_index = movie_id - 1  # Индексы начинаются с 0, а movie_id - с 1\n",
    "    sim_scores = list(enumerate(cosine_sim[movie_index]))  # Список сходства\n",
    "    sim_scores = sorted(sim_scores, key=lambda x: x[1], reverse=True)  # Сортируем\n",
    "    return sim_scores[1:top_n+1]  # Топ-N схожих фильмов\n"
   ]
  },
  {
   "cell_type": "code",
   "execution_count": null,
   "id": "67c336a6-7a8c-4312-80a5-2a87e5c798df",
   "metadata": {},
   "outputs": [],
   "source": [
    "def recommend_movies_with_strict_genres_filter(movie_ids, top_n=10, internal_top_n=50, mode='custom'):\n",
    "    all_recommendations = []\n",
    "\n",
    "    for movie_id in movie_ids:\n",
    "        original_movie_row = movies[movies['movieId'] == movie_id]\n",
    "        if original_movie_row.empty:\n",
    "            continue\n",
    "        \n",
    "        original_movie_title = original_movie_row['title'].values[0]\n",
    "        original_movie_genres = original_movie_row['genres'].values[0]\n",
    "        original_genres_set = set(original_movie_genres.split('|'))\n",
    "\n",
    "        print(f\"Получаем рекомендации для фильма с ID: {movie_id} (Название: {original_movie_title}) (Жанры: {original_movie_genres})\")\n",
    "\n",
    "        # Выбор метода получения похожих фильмов\n",
    "        if mode == 'knn':\n",
    "            similar_movies = get_similar_movies_knn(movie_id, movie_vectors_reduced, top_n=internal_top_n)\n",
    "        else:\n",
    "            similar_movies = get_similar_movies(movie_id, movie_vectors_reduced, top_n=internal_top_n)\n",
    "\n",
    "        filtered_similar_movies = []\n",
    "        for idx, score in similar_movies:\n",
    "            movie_row = movies.iloc[idx]\n",
    "            movie_title = movie_row['title']\n",
    "            movie_genres = movie_row['genres']\n",
    "\n",
    "            if pd.isna(movie_title) or pd.isna(movie_genres):\n",
    "                continue\n",
    "\n",
    "            movie_genres_set = set(movie_genres.split('|'))\n",
    "\n",
    "            # Зануляем score, если нет пересечений по жанрам\n",
    "            if not original_genres_set.intersection(movie_genres_set):\n",
    "                score = 0\n",
    "\n",
    "            filtered_similar_movies.append({\n",
    "                'movie_id': movies.iloc[idx]['movieId'],\n",
    "                'title': movie_title,\n",
    "                'genres': movie_genres,\n",
    "                'similarity_score': score\n",
    "            })\n",
    "\n",
    "        # Применяем взвешенные баллы\n",
    "        for i, rec in enumerate(filtered_similar_movies):\n",
    "            final_weight = rec['similarity_score']\n",
    "            if i == 0:\n",
    "                rec['weight'] = final_weight + 20\n",
    "            elif i == 1:\n",
    "                rec['weight'] = final_weight + 12\n",
    "            elif i == 2:\n",
    "                rec['weight'] = final_weight + 8\n",
    "            elif i == 3:\n",
    "                rec['weight'] = final_weight + 5\n",
    "            elif i == 4:\n",
    "                rec['weight'] = final_weight + 3\n",
    "            else:\n",
    "                rec['weight'] = final_weight + 1\n",
    "\n",
    "        all_recommendations.extend(filtered_similar_movies)\n",
    "\n",
    "    # Финальный расчёт баллов\n",
    "    recommendations_df = pd.DataFrame(all_recommendations)\n",
    "    if recommendations_df.empty:\n",
    "        return pd.DataFrame(columns=['movie_id', 'title', 'genres', 'weight'])\n",
    "\n",
    "    final_scores = recommendations_df.groupby('movie_id').agg({'weight': 'sum'}).reset_index()\n",
    "    final_recommendations_df = final_scores.sort_values('weight', ascending=False).head(top_n)\n",
    "\n",
    "    final_recommendations_df = final_recommendations_df.merge(\n",
    "        movies[['movieId', 'title', 'genres']],\n",
    "        left_on='movie_id',\n",
    "        right_on='movieId',\n",
    "        how='left'\n",
    "    ).dropna(subset=['title', 'genres'])\n",
    "\n",
    "    return final_recommendations_df[['movie_id', 'title', 'genres', 'weight']]"
   ]
  },
  {
   "cell_type": "code",
   "execution_count": 22,
   "id": "f01bdb03-1d79-4e04-9776-09e0c5ab6a2c",
   "metadata": {},
   "outputs": [],
   "source": [
    "# Функция для расчета сходства жанров\n",
    "def calculate_genre_similarity(genre1, genre2):\n",
    "    genres1 = set(genre1.split('|'))\n",
    "    genres2 = set(genre2.split('|'))\n",
    "    \n",
    "    # Рассчитываем пересечение жанров\n",
    "    common_genres = genres1.intersection(genres2)\n",
    "    \n",
    "    # Схожесть будет равна отношению общего количества жанров к общему количеству жанров\n",
    "    return len(common_genres) / len(genres1.union(genres2))"
   ]
  },
  {
   "cell_type": "code",
   "execution_count": 23,
   "id": "ad306b79-fdcb-498a-b2ca-92e49cfa720f",
   "metadata": {},
   "outputs": [
    {
     "name": "stdout",
     "output_type": "stream",
     "text": [
      "Получаем рекомендации для фильма с ID: 1 (Название: Toy Story (1995)) (Жанры: Adventure|Animation|Children|Comedy|Fantasy)\n",
      "Получаем рекомендации для фильма с ID: 10 (Название: GoldenEye (1995)) (Жанры: Action|Adventure|Thriller)\n",
      "Получаем рекомендации для фильма с ID: 100 (Название: City Hall (1996)) (Жанры: Drama|Thriller)\n"
     ]
    },
    {
     "data": {
      "text/html": [
       "<div>\n",
       "<style scoped>\n",
       "    .dataframe tbody tr th:only-of-type {\n",
       "        vertical-align: middle;\n",
       "    }\n",
       "\n",
       "    .dataframe tbody tr th {\n",
       "        vertical-align: top;\n",
       "    }\n",
       "\n",
       "    .dataframe thead th {\n",
       "        text-align: right;\n",
       "    }\n",
       "</style>\n",
       "<table border=\"1\" class=\"dataframe\">\n",
       "  <thead>\n",
       "    <tr style=\"text-align: right;\">\n",
       "      <th></th>\n",
       "      <th>movie_id</th>\n",
       "      <th>title</th>\n",
       "      <th>genres</th>\n",
       "      <th>weight</th>\n",
       "    </tr>\n",
       "  </thead>\n",
       "  <tbody>\n",
       "    <tr>\n",
       "      <th>0</th>\n",
       "      <td>1591</td>\n",
       "      <td>Spawn (1997)</td>\n",
       "      <td>Action|Adventure|Sci-Fi|Thriller</td>\n",
       "      <td>20.996246</td>\n",
       "    </tr>\n",
       "    <tr>\n",
       "      <th>1</th>\n",
       "      <td>4533</td>\n",
       "      <td>Return of the Living Dead, The (1985)</td>\n",
       "      <td>Comedy|Horror|Sci-Fi</td>\n",
       "      <td>20.987832</td>\n",
       "    </tr>\n",
       "    <tr>\n",
       "      <th>2</th>\n",
       "      <td>6656</td>\n",
       "      <td>Attack of the Puppet People (1958)</td>\n",
       "      <td>Horror|Sci-Fi</td>\n",
       "      <td>20.000000</td>\n",
       "    </tr>\n",
       "    <tr>\n",
       "      <th>3</th>\n",
       "      <td>2794</td>\n",
       "      <td>European Vacation (aka National Lampoon's Euro...</td>\n",
       "      <td>Adventure|Comedy|Romance</td>\n",
       "      <td>12.995582</td>\n",
       "    </tr>\n",
       "    <tr>\n",
       "      <th>4</th>\n",
       "      <td>2626</td>\n",
       "      <td>Edge of Seventeen (1998)</td>\n",
       "      <td>Comedy|Drama|Romance</td>\n",
       "      <td>12.993158</td>\n",
       "    </tr>\n",
       "    <tr>\n",
       "      <th>5</th>\n",
       "      <td>5786</td>\n",
       "      <td>Paid in Full (2002)</td>\n",
       "      <td>Action|Drama</td>\n",
       "      <td>12.000000</td>\n",
       "    </tr>\n",
       "    <tr>\n",
       "      <th>6</th>\n",
       "      <td>2881</td>\n",
       "      <td>Double Jeopardy (1999)</td>\n",
       "      <td>Action|Crime|Drama|Thriller</td>\n",
       "      <td>8.994554</td>\n",
       "    </tr>\n",
       "    <tr>\n",
       "      <th>7</th>\n",
       "      <td>8874</td>\n",
       "      <td>Shaun of the Dead (2004)</td>\n",
       "      <td>Comedy|Horror</td>\n",
       "      <td>8.000000</td>\n",
       "    </tr>\n",
       "    <tr>\n",
       "      <th>8</th>\n",
       "      <td>2912</td>\n",
       "      <td>Limey, The (1999)</td>\n",
       "      <td>Crime|Drama|Thriller</td>\n",
       "      <td>8.000000</td>\n",
       "    </tr>\n",
       "    <tr>\n",
       "      <th>9</th>\n",
       "      <td>167</td>\n",
       "      <td>Feast of July (1995)</td>\n",
       "      <td>Drama</td>\n",
       "      <td>5.991889</td>\n",
       "    </tr>\n",
       "  </tbody>\n",
       "</table>\n",
       "</div>"
      ],
      "text/plain": [
       "   movie_id                                              title  \\\n",
       "0      1591                                       Spawn (1997)   \n",
       "1      4533              Return of the Living Dead, The (1985)   \n",
       "2      6656                 Attack of the Puppet People (1958)   \n",
       "3      2794  European Vacation (aka National Lampoon's Euro...   \n",
       "4      2626                           Edge of Seventeen (1998)   \n",
       "5      5786                                Paid in Full (2002)   \n",
       "6      2881                             Double Jeopardy (1999)   \n",
       "7      8874                           Shaun of the Dead (2004)   \n",
       "8      2912                                  Limey, The (1999)   \n",
       "9       167                               Feast of July (1995)   \n",
       "\n",
       "                             genres     weight  \n",
       "0  Action|Adventure|Sci-Fi|Thriller  20.996246  \n",
       "1              Comedy|Horror|Sci-Fi  20.987832  \n",
       "2                     Horror|Sci-Fi  20.000000  \n",
       "3          Adventure|Comedy|Romance  12.995582  \n",
       "4              Comedy|Drama|Romance  12.993158  \n",
       "5                      Action|Drama  12.000000  \n",
       "6       Action|Crime|Drama|Thriller   8.994554  \n",
       "7                     Comedy|Horror   8.000000  \n",
       "8              Crime|Drama|Thriller   8.000000  \n",
       "9                             Drama   5.991889  "
      ]
     },
     "execution_count": 23,
     "metadata": {},
     "output_type": "execute_result"
    }
   ],
   "source": [
    "# Пример: рекомендации для фильма с ID = 1\n",
    "movie_ids_to_check = [1, 10, 100]\n",
    "top_n = 10  # Количество рекомендаций\n",
    "final_recommendations_df = recommend_movies_with_strict_genres_filter(movie_ids_to_check, top_n)\n",
    "\n",
    "\n",
    "# Выводим результат\n",
    "final_recommendations_df"
   ]
  },
  {
   "cell_type": "code",
   "execution_count": 24,
   "id": "82234933-af5f-473b-85bc-b704d280c79e",
   "metadata": {},
   "outputs": [
    {
     "name": "stdout",
     "output_type": "stream",
     "text": [
      "Получаем рекомендации для фильма с ID: 1 (Название: Toy Story (1995)) (Жанры: Adventure|Animation|Children|Comedy|Fantasy)\n"
     ]
    },
    {
     "data": {
      "text/html": [
       "<div>\n",
       "<style scoped>\n",
       "    .dataframe tbody tr th:only-of-type {\n",
       "        vertical-align: middle;\n",
       "    }\n",
       "\n",
       "    .dataframe tbody tr th {\n",
       "        vertical-align: top;\n",
       "    }\n",
       "\n",
       "    .dataframe thead th {\n",
       "        text-align: right;\n",
       "    }\n",
       "</style>\n",
       "<table border=\"1\" class=\"dataframe\">\n",
       "  <thead>\n",
       "    <tr style=\"text-align: right;\">\n",
       "      <th></th>\n",
       "      <th>movie_id</th>\n",
       "      <th>title</th>\n",
       "      <th>genres</th>\n",
       "      <th>weight</th>\n",
       "    </tr>\n",
       "  </thead>\n",
       "  <tbody>\n",
       "    <tr>\n",
       "      <th>0</th>\n",
       "      <td>4533</td>\n",
       "      <td>Return of the Living Dead, The (1985)</td>\n",
       "      <td>Comedy|Horror|Sci-Fi</td>\n",
       "      <td>20.987832</td>\n",
       "    </tr>\n",
       "    <tr>\n",
       "      <th>1</th>\n",
       "      <td>5786</td>\n",
       "      <td>Paid in Full (2002)</td>\n",
       "      <td>Action|Drama</td>\n",
       "      <td>12.000000</td>\n",
       "    </tr>\n",
       "    <tr>\n",
       "      <th>2</th>\n",
       "      <td>2912</td>\n",
       "      <td>Limey, The (1999)</td>\n",
       "      <td>Crime|Drama|Thriller</td>\n",
       "      <td>8.000000</td>\n",
       "    </tr>\n",
       "    <tr>\n",
       "      <th>3</th>\n",
       "      <td>2196</td>\n",
       "      <td>Knock Off (1998)</td>\n",
       "      <td>Action</td>\n",
       "      <td>5.000000</td>\n",
       "    </tr>\n",
       "    <tr>\n",
       "      <th>4</th>\n",
       "      <td>44655</td>\n",
       "      <td>Trial of Joan of Arc, The (Procès de Jeanne d'...</td>\n",
       "      <td>Drama|War</td>\n",
       "      <td>3.000000</td>\n",
       "    </tr>\n",
       "    <tr>\n",
       "      <th>5</th>\n",
       "      <td>53318</td>\n",
       "      <td>Cashback (2006)</td>\n",
       "      <td>Comedy|Drama|Romance</td>\n",
       "      <td>1.971462</td>\n",
       "    </tr>\n",
       "    <tr>\n",
       "      <th>6</th>\n",
       "      <td>7370</td>\n",
       "      <td>A Foreign Affair (2003)</td>\n",
       "      <td>Comedy|Drama|Romance</td>\n",
       "      <td>1.970418</td>\n",
       "    </tr>\n",
       "    <tr>\n",
       "      <th>7</th>\n",
       "      <td>72612</td>\n",
       "      <td>Fly, The (Légy, A) (1980)</td>\n",
       "      <td>Animation|Comedy</td>\n",
       "      <td>1.970037</td>\n",
       "    </tr>\n",
       "    <tr>\n",
       "      <th>8</th>\n",
       "      <td>54910</td>\n",
       "      <td>Behind the Mask: The Rise of Leslie Vernon (2006)</td>\n",
       "      <td>Comedy|Horror|Thriller</td>\n",
       "      <td>1.965568</td>\n",
       "    </tr>\n",
       "    <tr>\n",
       "      <th>9</th>\n",
       "      <td>59143</td>\n",
       "      <td>Super High Me (2007)</td>\n",
       "      <td>Comedy|Documentary</td>\n",
       "      <td>1.965460</td>\n",
       "    </tr>\n",
       "  </tbody>\n",
       "</table>\n",
       "</div>"
      ],
      "text/plain": [
       "   movie_id                                              title  \\\n",
       "0      4533              Return of the Living Dead, The (1985)   \n",
       "1      5786                                Paid in Full (2002)   \n",
       "2      2912                                  Limey, The (1999)   \n",
       "3      2196                                   Knock Off (1998)   \n",
       "4     44655  Trial of Joan of Arc, The (Procès de Jeanne d'...   \n",
       "5     53318                                    Cashback (2006)   \n",
       "6      7370                            A Foreign Affair (2003)   \n",
       "7     72612                          Fly, The (Légy, A) (1980)   \n",
       "8     54910  Behind the Mask: The Rise of Leslie Vernon (2006)   \n",
       "9     59143                               Super High Me (2007)   \n",
       "\n",
       "                   genres     weight  \n",
       "0    Comedy|Horror|Sci-Fi  20.987832  \n",
       "1            Action|Drama  12.000000  \n",
       "2    Crime|Drama|Thriller   8.000000  \n",
       "3                  Action   5.000000  \n",
       "4               Drama|War   3.000000  \n",
       "5    Comedy|Drama|Romance   1.971462  \n",
       "6    Comedy|Drama|Romance   1.970418  \n",
       "7        Animation|Comedy   1.970037  \n",
       "8  Comedy|Horror|Thriller   1.965568  \n",
       "9      Comedy|Documentary   1.965460  "
      ]
     },
     "execution_count": 24,
     "metadata": {},
     "output_type": "execute_result"
    }
   ],
   "source": [
    "# Пример: рекомендации для фильма с ID = 1\n",
    "movie_ids_to_check = [1]\n",
    "top_n = 10  # Количество рекомендаций\n",
    "final_recommendations_df_2 = recommend_movies_with_strict_genres_filter(movie_ids_to_check, top_n)\n",
    "\n",
    "\n",
    "# Выводим результат\n",
    "final_recommendations_df_2"
   ]
  },
  {
   "cell_type": "markdown",
   "id": "62779bc6-096a-4934-b826-fdfbebc7b7bd",
   "metadata": {},
   "source": [
    "## KNN"
   ]
  },
  {
   "cell_type": "markdown",
   "id": "171d5e31-b06b-46b3-9a10-005695604f4a",
   "metadata": {},
   "source": [
    "KNN (K-Nearest Neighbors)\n",
    "\n",
    "Принцип работы: KNN — это метод, основанный на идее поиска ближайших соседей. Для рекомендации товаров или фильмов он ищет пользователей или элементы, которые наиболее похожи на заданного пользователя или фильм. Основные шаги:\n",
    "Преобразование данных: Мы представляем каждый фильм или пользователя в виде вектора признаков (например, с использованием TF-IDF, меток жанра или других характеристик). Расстояние между объектами: Чтобы найти «похожие» объекты, мы измеряем расстояние (или схожесть) между векторами с использованием таких метрик, как евклидово расстояние, косинусная схожесть и другие.\n",
    "Поиск ближайших соседей: Для конкретного пользователя или фильма KNN находит ближайших соседей (фильмов или пользователей), основываясь на выбранной метрике сходства.\n",
    "Рекомендация: Для фильма или пользователя на основе схожести с другими объектами рекомендатор предсказывает, какие элементы он мог бы \"нравиться\" или какие фильмы могут ему подойти. Физический смысл: Модель ищет ближайших соседей на основе сходства признаков. Например, если фильм похож на другие по жанрам, актёрам, рейтингу, то пользователю могут порекомендовать эти фильмы. KNN можно представить как способ поиск похожих объектов в большом множестве данных.\n",
    "Преимущества: Простота и интерпретируемость. Модель не требует обучения, потому что она просто использует данные для поиска ближайших соседей.\n",
    "Недостатки: Высокая вычислительная нагрузка на больших данных, особенно при поиске по всей базе. Не всегда подходит для более сложных или скрытых зависимостей между объектами.\n"
   ]
  },
  {
   "cell_type": "code",
   "execution_count": 30,
   "id": "83bfd6c6-7c4c-4532-957a-95ff39830011",
   "metadata": {},
   "outputs": [
    {
     "data": {
      "text/html": [
       "<style>#sk-container-id-1 {\n",
       "  /* Definition of color scheme common for light and dark mode */\n",
       "  --sklearn-color-text: black;\n",
       "  --sklearn-color-line: gray;\n",
       "  /* Definition of color scheme for unfitted estimators */\n",
       "  --sklearn-color-unfitted-level-0: #fff5e6;\n",
       "  --sklearn-color-unfitted-level-1: #f6e4d2;\n",
       "  --sklearn-color-unfitted-level-2: #ffe0b3;\n",
       "  --sklearn-color-unfitted-level-3: chocolate;\n",
       "  /* Definition of color scheme for fitted estimators */\n",
       "  --sklearn-color-fitted-level-0: #f0f8ff;\n",
       "  --sklearn-color-fitted-level-1: #d4ebff;\n",
       "  --sklearn-color-fitted-level-2: #b3dbfd;\n",
       "  --sklearn-color-fitted-level-3: cornflowerblue;\n",
       "\n",
       "  /* Specific color for light theme */\n",
       "  --sklearn-color-text-on-default-background: var(--sg-text-color, var(--theme-code-foreground, var(--jp-content-font-color1, black)));\n",
       "  --sklearn-color-background: var(--sg-background-color, var(--theme-background, var(--jp-layout-color0, white)));\n",
       "  --sklearn-color-border-box: var(--sg-text-color, var(--theme-code-foreground, var(--jp-content-font-color1, black)));\n",
       "  --sklearn-color-icon: #696969;\n",
       "\n",
       "  @media (prefers-color-scheme: dark) {\n",
       "    /* Redefinition of color scheme for dark theme */\n",
       "    --sklearn-color-text-on-default-background: var(--sg-text-color, var(--theme-code-foreground, var(--jp-content-font-color1, white)));\n",
       "    --sklearn-color-background: var(--sg-background-color, var(--theme-background, var(--jp-layout-color0, #111)));\n",
       "    --sklearn-color-border-box: var(--sg-text-color, var(--theme-code-foreground, var(--jp-content-font-color1, white)));\n",
       "    --sklearn-color-icon: #878787;\n",
       "  }\n",
       "}\n",
       "\n",
       "#sk-container-id-1 {\n",
       "  color: var(--sklearn-color-text);\n",
       "}\n",
       "\n",
       "#sk-container-id-1 pre {\n",
       "  padding: 0;\n",
       "}\n",
       "\n",
       "#sk-container-id-1 input.sk-hidden--visually {\n",
       "  border: 0;\n",
       "  clip: rect(1px 1px 1px 1px);\n",
       "  clip: rect(1px, 1px, 1px, 1px);\n",
       "  height: 1px;\n",
       "  margin: -1px;\n",
       "  overflow: hidden;\n",
       "  padding: 0;\n",
       "  position: absolute;\n",
       "  width: 1px;\n",
       "}\n",
       "\n",
       "#sk-container-id-1 div.sk-dashed-wrapped {\n",
       "  border: 1px dashed var(--sklearn-color-line);\n",
       "  margin: 0 0.4em 0.5em 0.4em;\n",
       "  box-sizing: border-box;\n",
       "  padding-bottom: 0.4em;\n",
       "  background-color: var(--sklearn-color-background);\n",
       "}\n",
       "\n",
       "#sk-container-id-1 div.sk-container {\n",
       "  /* jupyter's `normalize.less` sets `[hidden] { display: none; }`\n",
       "     but bootstrap.min.css set `[hidden] { display: none !important; }`\n",
       "     so we also need the `!important` here to be able to override the\n",
       "     default hidden behavior on the sphinx rendered scikit-learn.org.\n",
       "     See: https://github.com/scikit-learn/scikit-learn/issues/21755 */\n",
       "  display: inline-block !important;\n",
       "  position: relative;\n",
       "}\n",
       "\n",
       "#sk-container-id-1 div.sk-text-repr-fallback {\n",
       "  display: none;\n",
       "}\n",
       "\n",
       "div.sk-parallel-item,\n",
       "div.sk-serial,\n",
       "div.sk-item {\n",
       "  /* draw centered vertical line to link estimators */\n",
       "  background-image: linear-gradient(var(--sklearn-color-text-on-default-background), var(--sklearn-color-text-on-default-background));\n",
       "  background-size: 2px 100%;\n",
       "  background-repeat: no-repeat;\n",
       "  background-position: center center;\n",
       "}\n",
       "\n",
       "/* Parallel-specific style estimator block */\n",
       "\n",
       "#sk-container-id-1 div.sk-parallel-item::after {\n",
       "  content: \"\";\n",
       "  width: 100%;\n",
       "  border-bottom: 2px solid var(--sklearn-color-text-on-default-background);\n",
       "  flex-grow: 1;\n",
       "}\n",
       "\n",
       "#sk-container-id-1 div.sk-parallel {\n",
       "  display: flex;\n",
       "  align-items: stretch;\n",
       "  justify-content: center;\n",
       "  background-color: var(--sklearn-color-background);\n",
       "  position: relative;\n",
       "}\n",
       "\n",
       "#sk-container-id-1 div.sk-parallel-item {\n",
       "  display: flex;\n",
       "  flex-direction: column;\n",
       "}\n",
       "\n",
       "#sk-container-id-1 div.sk-parallel-item:first-child::after {\n",
       "  align-self: flex-end;\n",
       "  width: 50%;\n",
       "}\n",
       "\n",
       "#sk-container-id-1 div.sk-parallel-item:last-child::after {\n",
       "  align-self: flex-start;\n",
       "  width: 50%;\n",
       "}\n",
       "\n",
       "#sk-container-id-1 div.sk-parallel-item:only-child::after {\n",
       "  width: 0;\n",
       "}\n",
       "\n",
       "/* Serial-specific style estimator block */\n",
       "\n",
       "#sk-container-id-1 div.sk-serial {\n",
       "  display: flex;\n",
       "  flex-direction: column;\n",
       "  align-items: center;\n",
       "  background-color: var(--sklearn-color-background);\n",
       "  padding-right: 1em;\n",
       "  padding-left: 1em;\n",
       "}\n",
       "\n",
       "\n",
       "/* Toggleable style: style used for estimator/Pipeline/ColumnTransformer box that is\n",
       "clickable and can be expanded/collapsed.\n",
       "- Pipeline and ColumnTransformer use this feature and define the default style\n",
       "- Estimators will overwrite some part of the style using the `sk-estimator` class\n",
       "*/\n",
       "\n",
       "/* Pipeline and ColumnTransformer style (default) */\n",
       "\n",
       "#sk-container-id-1 div.sk-toggleable {\n",
       "  /* Default theme specific background. It is overwritten whether we have a\n",
       "  specific estimator or a Pipeline/ColumnTransformer */\n",
       "  background-color: var(--sklearn-color-background);\n",
       "}\n",
       "\n",
       "/* Toggleable label */\n",
       "#sk-container-id-1 label.sk-toggleable__label {\n",
       "  cursor: pointer;\n",
       "  display: block;\n",
       "  width: 100%;\n",
       "  margin-bottom: 0;\n",
       "  padding: 0.5em;\n",
       "  box-sizing: border-box;\n",
       "  text-align: center;\n",
       "}\n",
       "\n",
       "#sk-container-id-1 label.sk-toggleable__label-arrow:before {\n",
       "  /* Arrow on the left of the label */\n",
       "  content: \"▸\";\n",
       "  float: left;\n",
       "  margin-right: 0.25em;\n",
       "  color: var(--sklearn-color-icon);\n",
       "}\n",
       "\n",
       "#sk-container-id-1 label.sk-toggleable__label-arrow:hover:before {\n",
       "  color: var(--sklearn-color-text);\n",
       "}\n",
       "\n",
       "/* Toggleable content - dropdown */\n",
       "\n",
       "#sk-container-id-1 div.sk-toggleable__content {\n",
       "  max-height: 0;\n",
       "  max-width: 0;\n",
       "  overflow: hidden;\n",
       "  text-align: left;\n",
       "  /* unfitted */\n",
       "  background-color: var(--sklearn-color-unfitted-level-0);\n",
       "}\n",
       "\n",
       "#sk-container-id-1 div.sk-toggleable__content.fitted {\n",
       "  /* fitted */\n",
       "  background-color: var(--sklearn-color-fitted-level-0);\n",
       "}\n",
       "\n",
       "#sk-container-id-1 div.sk-toggleable__content pre {\n",
       "  margin: 0.2em;\n",
       "  border-radius: 0.25em;\n",
       "  color: var(--sklearn-color-text);\n",
       "  /* unfitted */\n",
       "  background-color: var(--sklearn-color-unfitted-level-0);\n",
       "}\n",
       "\n",
       "#sk-container-id-1 div.sk-toggleable__content.fitted pre {\n",
       "  /* unfitted */\n",
       "  background-color: var(--sklearn-color-fitted-level-0);\n",
       "}\n",
       "\n",
       "#sk-container-id-1 input.sk-toggleable__control:checked~div.sk-toggleable__content {\n",
       "  /* Expand drop-down */\n",
       "  max-height: 200px;\n",
       "  max-width: 100%;\n",
       "  overflow: auto;\n",
       "}\n",
       "\n",
       "#sk-container-id-1 input.sk-toggleable__control:checked~label.sk-toggleable__label-arrow:before {\n",
       "  content: \"▾\";\n",
       "}\n",
       "\n",
       "/* Pipeline/ColumnTransformer-specific style */\n",
       "\n",
       "#sk-container-id-1 div.sk-label input.sk-toggleable__control:checked~label.sk-toggleable__label {\n",
       "  color: var(--sklearn-color-text);\n",
       "  background-color: var(--sklearn-color-unfitted-level-2);\n",
       "}\n",
       "\n",
       "#sk-container-id-1 div.sk-label.fitted input.sk-toggleable__control:checked~label.sk-toggleable__label {\n",
       "  background-color: var(--sklearn-color-fitted-level-2);\n",
       "}\n",
       "\n",
       "/* Estimator-specific style */\n",
       "\n",
       "/* Colorize estimator box */\n",
       "#sk-container-id-1 div.sk-estimator input.sk-toggleable__control:checked~label.sk-toggleable__label {\n",
       "  /* unfitted */\n",
       "  background-color: var(--sklearn-color-unfitted-level-2);\n",
       "}\n",
       "\n",
       "#sk-container-id-1 div.sk-estimator.fitted input.sk-toggleable__control:checked~label.sk-toggleable__label {\n",
       "  /* fitted */\n",
       "  background-color: var(--sklearn-color-fitted-level-2);\n",
       "}\n",
       "\n",
       "#sk-container-id-1 div.sk-label label.sk-toggleable__label,\n",
       "#sk-container-id-1 div.sk-label label {\n",
       "  /* The background is the default theme color */\n",
       "  color: var(--sklearn-color-text-on-default-background);\n",
       "}\n",
       "\n",
       "/* On hover, darken the color of the background */\n",
       "#sk-container-id-1 div.sk-label:hover label.sk-toggleable__label {\n",
       "  color: var(--sklearn-color-text);\n",
       "  background-color: var(--sklearn-color-unfitted-level-2);\n",
       "}\n",
       "\n",
       "/* Label box, darken color on hover, fitted */\n",
       "#sk-container-id-1 div.sk-label.fitted:hover label.sk-toggleable__label.fitted {\n",
       "  color: var(--sklearn-color-text);\n",
       "  background-color: var(--sklearn-color-fitted-level-2);\n",
       "}\n",
       "\n",
       "/* Estimator label */\n",
       "\n",
       "#sk-container-id-1 div.sk-label label {\n",
       "  font-family: monospace;\n",
       "  font-weight: bold;\n",
       "  display: inline-block;\n",
       "  line-height: 1.2em;\n",
       "}\n",
       "\n",
       "#sk-container-id-1 div.sk-label-container {\n",
       "  text-align: center;\n",
       "}\n",
       "\n",
       "/* Estimator-specific */\n",
       "#sk-container-id-1 div.sk-estimator {\n",
       "  font-family: monospace;\n",
       "  border: 1px dotted var(--sklearn-color-border-box);\n",
       "  border-radius: 0.25em;\n",
       "  box-sizing: border-box;\n",
       "  margin-bottom: 0.5em;\n",
       "  /* unfitted */\n",
       "  background-color: var(--sklearn-color-unfitted-level-0);\n",
       "}\n",
       "\n",
       "#sk-container-id-1 div.sk-estimator.fitted {\n",
       "  /* fitted */\n",
       "  background-color: var(--sklearn-color-fitted-level-0);\n",
       "}\n",
       "\n",
       "/* on hover */\n",
       "#sk-container-id-1 div.sk-estimator:hover {\n",
       "  /* unfitted */\n",
       "  background-color: var(--sklearn-color-unfitted-level-2);\n",
       "}\n",
       "\n",
       "#sk-container-id-1 div.sk-estimator.fitted:hover {\n",
       "  /* fitted */\n",
       "  background-color: var(--sklearn-color-fitted-level-2);\n",
       "}\n",
       "\n",
       "/* Specification for estimator info (e.g. \"i\" and \"?\") */\n",
       "\n",
       "/* Common style for \"i\" and \"?\" */\n",
       "\n",
       ".sk-estimator-doc-link,\n",
       "a:link.sk-estimator-doc-link,\n",
       "a:visited.sk-estimator-doc-link {\n",
       "  float: right;\n",
       "  font-size: smaller;\n",
       "  line-height: 1em;\n",
       "  font-family: monospace;\n",
       "  background-color: var(--sklearn-color-background);\n",
       "  border-radius: 1em;\n",
       "  height: 1em;\n",
       "  width: 1em;\n",
       "  text-decoration: none !important;\n",
       "  margin-left: 1ex;\n",
       "  /* unfitted */\n",
       "  border: var(--sklearn-color-unfitted-level-1) 1pt solid;\n",
       "  color: var(--sklearn-color-unfitted-level-1);\n",
       "}\n",
       "\n",
       ".sk-estimator-doc-link.fitted,\n",
       "a:link.sk-estimator-doc-link.fitted,\n",
       "a:visited.sk-estimator-doc-link.fitted {\n",
       "  /* fitted */\n",
       "  border: var(--sklearn-color-fitted-level-1) 1pt solid;\n",
       "  color: var(--sklearn-color-fitted-level-1);\n",
       "}\n",
       "\n",
       "/* On hover */\n",
       "div.sk-estimator:hover .sk-estimator-doc-link:hover,\n",
       ".sk-estimator-doc-link:hover,\n",
       "div.sk-label-container:hover .sk-estimator-doc-link:hover,\n",
       ".sk-estimator-doc-link:hover {\n",
       "  /* unfitted */\n",
       "  background-color: var(--sklearn-color-unfitted-level-3);\n",
       "  color: var(--sklearn-color-background);\n",
       "  text-decoration: none;\n",
       "}\n",
       "\n",
       "div.sk-estimator.fitted:hover .sk-estimator-doc-link.fitted:hover,\n",
       ".sk-estimator-doc-link.fitted:hover,\n",
       "div.sk-label-container:hover .sk-estimator-doc-link.fitted:hover,\n",
       ".sk-estimator-doc-link.fitted:hover {\n",
       "  /* fitted */\n",
       "  background-color: var(--sklearn-color-fitted-level-3);\n",
       "  color: var(--sklearn-color-background);\n",
       "  text-decoration: none;\n",
       "}\n",
       "\n",
       "/* Span, style for the box shown on hovering the info icon */\n",
       ".sk-estimator-doc-link span {\n",
       "  display: none;\n",
       "  z-index: 9999;\n",
       "  position: relative;\n",
       "  font-weight: normal;\n",
       "  right: .2ex;\n",
       "  padding: .5ex;\n",
       "  margin: .5ex;\n",
       "  width: min-content;\n",
       "  min-width: 20ex;\n",
       "  max-width: 50ex;\n",
       "  color: var(--sklearn-color-text);\n",
       "  box-shadow: 2pt 2pt 4pt #999;\n",
       "  /* unfitted */\n",
       "  background: var(--sklearn-color-unfitted-level-0);\n",
       "  border: .5pt solid var(--sklearn-color-unfitted-level-3);\n",
       "}\n",
       "\n",
       ".sk-estimator-doc-link.fitted span {\n",
       "  /* fitted */\n",
       "  background: var(--sklearn-color-fitted-level-0);\n",
       "  border: var(--sklearn-color-fitted-level-3);\n",
       "}\n",
       "\n",
       ".sk-estimator-doc-link:hover span {\n",
       "  display: block;\n",
       "}\n",
       "\n",
       "/* \"?\"-specific style due to the `<a>` HTML tag */\n",
       "\n",
       "#sk-container-id-1 a.estimator_doc_link {\n",
       "  float: right;\n",
       "  font-size: 1rem;\n",
       "  line-height: 1em;\n",
       "  font-family: monospace;\n",
       "  background-color: var(--sklearn-color-background);\n",
       "  border-radius: 1rem;\n",
       "  height: 1rem;\n",
       "  width: 1rem;\n",
       "  text-decoration: none;\n",
       "  /* unfitted */\n",
       "  color: var(--sklearn-color-unfitted-level-1);\n",
       "  border: var(--sklearn-color-unfitted-level-1) 1pt solid;\n",
       "}\n",
       "\n",
       "#sk-container-id-1 a.estimator_doc_link.fitted {\n",
       "  /* fitted */\n",
       "  border: var(--sklearn-color-fitted-level-1) 1pt solid;\n",
       "  color: var(--sklearn-color-fitted-level-1);\n",
       "}\n",
       "\n",
       "/* On hover */\n",
       "#sk-container-id-1 a.estimator_doc_link:hover {\n",
       "  /* unfitted */\n",
       "  background-color: var(--sklearn-color-unfitted-level-3);\n",
       "  color: var(--sklearn-color-background);\n",
       "  text-decoration: none;\n",
       "}\n",
       "\n",
       "#sk-container-id-1 a.estimator_doc_link.fitted:hover {\n",
       "  /* fitted */\n",
       "  background-color: var(--sklearn-color-fitted-level-3);\n",
       "}\n",
       "</style><div id=\"sk-container-id-1\" class=\"sk-top-container\"><div class=\"sk-text-repr-fallback\"><pre>NearestNeighbors(metric=&#x27;cosine&#x27;, n_neighbors=51)</pre><b>In a Jupyter environment, please rerun this cell to show the HTML representation or trust the notebook. <br />On GitHub, the HTML representation is unable to render, please try loading this page with nbviewer.org.</b></div><div class=\"sk-container\" hidden><div class=\"sk-item\"><div class=\"sk-estimator fitted sk-toggleable\"><input class=\"sk-toggleable__control sk-hidden--visually\" id=\"sk-estimator-id-1\" type=\"checkbox\" checked><label for=\"sk-estimator-id-1\" class=\"sk-toggleable__label fitted sk-toggleable__label-arrow fitted\">&nbsp;&nbsp;NearestNeighbors<a class=\"sk-estimator-doc-link fitted\" rel=\"noreferrer\" target=\"_blank\" href=\"https://scikit-learn.org/1.5/modules/generated/sklearn.neighbors.NearestNeighbors.html\">?<span>Documentation for NearestNeighbors</span></a><span class=\"sk-estimator-doc-link fitted\">i<span>Fitted</span></span></label><div class=\"sk-toggleable__content fitted\"><pre>NearestNeighbors(metric=&#x27;cosine&#x27;, n_neighbors=51)</pre></div> </div></div></div></div>"
      ],
      "text/plain": [
       "NearestNeighbors(metric='cosine', n_neighbors=51)"
      ]
     },
     "execution_count": 30,
     "metadata": {},
     "output_type": "execute_result"
    }
   ],
   "source": [
    "knn_model = NearestNeighbors(n_neighbors=51, metric='cosine')  # 50 + 1, потому что первый будет сам фильм\n",
    "knn_model.fit(movie_vectors_reduced)"
   ]
  },
  {
   "cell_type": "code",
   "execution_count": 31,
   "id": "6dd5ae97-9791-4dfa-bed5-dbf3ccea5a92",
   "metadata": {},
   "outputs": [],
   "source": [
    "def get_similar_movies_knn(movie_id, movie_vectors, top_n=50):\n",
    "    # Получаем индекс фильма\n",
    "    movie_index = movies[movies['movieId'] == movie_id].index[0]\n",
    "\n",
    "    # Находим ближайшие фильмы\n",
    "    distances, indices = knn_model.kneighbors([movie_vectors[movie_index]], n_neighbors=top_n+1)\n",
    "\n",
    "    # Возвращаем список (индекс, 1 - расстояние) — кроме самого себя\n",
    "    similar_movies = []\n",
    "    for i in range(1, len(indices[0])):  # пропускаем 0-й элемент (сам фильм)\n",
    "        idx = indices[0][i]\n",
    "        similarity_score = 1 - distances[0][i]  # чем меньше расстояние, тем выше сходство\n",
    "        similar_movies.append((idx, similarity_score))\n",
    "    \n",
    "    return similar_movies"
   ]
  },
  {
   "cell_type": "code",
   "execution_count": 32,
   "id": "08cc4984-e967-403a-86a8-0594ef06c563",
   "metadata": {},
   "outputs": [
    {
     "name": "stdout",
     "output_type": "stream",
     "text": [
      "Получаем рекомендации для фильма с ID: 1 (Название: Toy Story (1995)) (Жанры: Adventure|Animation|Children|Comedy|Fantasy)\n",
      "Получаем рекомендации для фильма с ID: 10 (Название: GoldenEye (1995)) (Жанры: Action|Adventure|Thriller)\n",
      "Получаем рекомендации для фильма с ID: 100 (Название: City Hall (1996)) (Жанры: Drama|Thriller)\n"
     ]
    },
    {
     "data": {
      "text/html": [
       "<div>\n",
       "<style scoped>\n",
       "    .dataframe tbody tr th:only-of-type {\n",
       "        vertical-align: middle;\n",
       "    }\n",
       "\n",
       "    .dataframe tbody tr th {\n",
       "        vertical-align: top;\n",
       "    }\n",
       "\n",
       "    .dataframe thead th {\n",
       "        text-align: right;\n",
       "    }\n",
       "</style>\n",
       "<table border=\"1\" class=\"dataframe\">\n",
       "  <thead>\n",
       "    <tr style=\"text-align: right;\">\n",
       "      <th></th>\n",
       "      <th>movie_id</th>\n",
       "      <th>title</th>\n",
       "      <th>genres</th>\n",
       "      <th>weight</th>\n",
       "    </tr>\n",
       "  </thead>\n",
       "  <tbody>\n",
       "    <tr>\n",
       "      <th>0</th>\n",
       "      <td>1591</td>\n",
       "      <td>Spawn (1997)</td>\n",
       "      <td>Action|Adventure|Sci-Fi|Thriller</td>\n",
       "      <td>20.996246</td>\n",
       "    </tr>\n",
       "    <tr>\n",
       "      <th>1</th>\n",
       "      <td>4533</td>\n",
       "      <td>Return of the Living Dead, The (1985)</td>\n",
       "      <td>Comedy|Horror|Sci-Fi</td>\n",
       "      <td>20.987832</td>\n",
       "    </tr>\n",
       "    <tr>\n",
       "      <th>2</th>\n",
       "      <td>1184</td>\n",
       "      <td>Mediterraneo (1991)</td>\n",
       "      <td>Comedy|Drama</td>\n",
       "      <td>20.977005</td>\n",
       "    </tr>\n",
       "    <tr>\n",
       "      <th>3</th>\n",
       "      <td>2794</td>\n",
       "      <td>European Vacation (aka National Lampoon's Euro...</td>\n",
       "      <td>Adventure|Comedy|Romance</td>\n",
       "      <td>12.995582</td>\n",
       "    </tr>\n",
       "    <tr>\n",
       "      <th>4</th>\n",
       "      <td>5786</td>\n",
       "      <td>Paid in Full (2002)</td>\n",
       "      <td>Action|Drama</td>\n",
       "      <td>12.000000</td>\n",
       "    </tr>\n",
       "    <tr>\n",
       "      <th>5</th>\n",
       "      <td>65204</td>\n",
       "      <td>Chandu the Magician (1932)</td>\n",
       "      <td>Action|Adventure|Fantasy|Sci-Fi</td>\n",
       "      <td>12.000000</td>\n",
       "    </tr>\n",
       "    <tr>\n",
       "      <th>6</th>\n",
       "      <td>2881</td>\n",
       "      <td>Double Jeopardy (1999)</td>\n",
       "      <td>Action|Crime|Drama|Thriller</td>\n",
       "      <td>8.994554</td>\n",
       "    </tr>\n",
       "    <tr>\n",
       "      <th>7</th>\n",
       "      <td>1141</td>\n",
       "      <td>Last Call (Hoogste tijd) (1995)</td>\n",
       "      <td>Drama</td>\n",
       "      <td>8.974602</td>\n",
       "    </tr>\n",
       "    <tr>\n",
       "      <th>8</th>\n",
       "      <td>2912</td>\n",
       "      <td>Limey, The (1999)</td>\n",
       "      <td>Crime|Drama|Thriller</td>\n",
       "      <td>8.000000</td>\n",
       "    </tr>\n",
       "    <tr>\n",
       "      <th>9</th>\n",
       "      <td>2237</td>\n",
       "      <td>Without Limits (1998)</td>\n",
       "      <td>Drama</td>\n",
       "      <td>5.974312</td>\n",
       "    </tr>\n",
       "  </tbody>\n",
       "</table>\n",
       "</div>"
      ],
      "text/plain": [
       "   movie_id                                              title  \\\n",
       "0      1591                                       Spawn (1997)   \n",
       "1      4533              Return of the Living Dead, The (1985)   \n",
       "2      1184                                Mediterraneo (1991)   \n",
       "3      2794  European Vacation (aka National Lampoon's Euro...   \n",
       "4      5786                                Paid in Full (2002)   \n",
       "5     65204                         Chandu the Magician (1932)   \n",
       "6      2881                             Double Jeopardy (1999)   \n",
       "7      1141                    Last Call (Hoogste tijd) (1995)   \n",
       "8      2912                                  Limey, The (1999)   \n",
       "9      2237                              Without Limits (1998)   \n",
       "\n",
       "                             genres     weight  \n",
       "0  Action|Adventure|Sci-Fi|Thriller  20.996246  \n",
       "1              Comedy|Horror|Sci-Fi  20.987832  \n",
       "2                      Comedy|Drama  20.977005  \n",
       "3          Adventure|Comedy|Romance  12.995582  \n",
       "4                      Action|Drama  12.000000  \n",
       "5   Action|Adventure|Fantasy|Sci-Fi  12.000000  \n",
       "6       Action|Crime|Drama|Thriller   8.994554  \n",
       "7                             Drama   8.974602  \n",
       "8              Crime|Drama|Thriller   8.000000  \n",
       "9                             Drama   5.974312  "
      ]
     },
     "execution_count": 32,
     "metadata": {},
     "output_type": "execute_result"
    }
   ],
   "source": [
    "movie_ids_to_check = [1, 10, 100]\n",
    "\n",
    "recommend_movies_with_strict_genres_filter(\n",
    "    movie_ids=movie_ids_to_check,\n",
    "    top_n=10,\n",
    "    internal_top_n=50,\n",
    "    mode='knn'\n",
    ")"
   ]
  },
  {
   "cell_type": "markdown",
   "id": "d4170dbe-d66a-4b05-853e-4919a0f7b28e",
   "metadata": {},
   "source": [
    "## Попробуем AgglomerativeClustering"
   ]
  },
  {
   "cell_type": "code",
   "execution_count": 45,
   "id": "c57fcd0f-8abc-4d6d-9a9b-bfce0cc091a7",
   "metadata": {},
   "outputs": [],
   "source": [
    "# 1. Кластеризация\n",
    "def cluster_movies(movie_vectors_reduced, n_clusters=100):\n",
    "    clustering_model = AgglomerativeClustering(n_clusters=n_clusters)\n",
    "    cluster_labels = clustering_model.fit_predict(movie_vectors_reduced)\n",
    "    return cluster_labels"
   ]
  },
  {
   "cell_type": "code",
   "execution_count": 46,
   "id": "c668d5a7-75fa-4302-9da9-02ac7d38f638",
   "metadata": {},
   "outputs": [],
   "source": [
    "def recommend_movies_by_cluster_filtered(movie_ids, movie_vectors_reduced, movies, cluster_labels, top_n=10):\n",
    "    all_recommendations = []\n",
    "\n",
    "    for movie_id in movie_ids:\n",
    "        try:\n",
    "            # Получаем индекс фильма\n",
    "            movie_idx = movies[movies['movieId'] == movie_id].index[0]\n",
    "            movie_title = movies.iloc[movie_idx]['title']\n",
    "            movie_genres = set(movies.iloc[movie_idx]['genres'].split('|'))\n",
    "\n",
    "            # Получаем кластер\n",
    "            cluster_label = cluster_labels[movie_idx]\n",
    "            same_cluster_indices = np.where(cluster_labels == cluster_label)[0]\n",
    "            same_cluster_indices = same_cluster_indices[same_cluster_indices != movie_idx]\n",
    "\n",
    "            if len(same_cluster_indices) == 0:\n",
    "                continue\n",
    "\n",
    "            # Евклидовы расстояния\n",
    "            distances = euclidean_distances(\n",
    "                movie_vectors_reduced[movie_idx].reshape(1, -1),\n",
    "                movie_vectors_reduced[same_cluster_indices]\n",
    "            )[0]\n",
    "            similarities = 1 / (1 + distances)\n",
    "\n",
    "            for idx, score in zip(same_cluster_indices, similarities):\n",
    "                title = movies.iloc[idx]['title']\n",
    "                genres = movies.iloc[idx]['genres']\n",
    "                genres_set = set(genres.split('|'))\n",
    "\n",
    "                if pd.isna(title) or pd.isna(genres):\n",
    "                    continue\n",
    "\n",
    "                if not movie_genres.intersection(genres_set):\n",
    "                    score = 0\n",
    "\n",
    "                all_recommendations.append({\n",
    "                    'movie_id': movies.iloc[idx]['movieId'],\n",
    "                    'title': title,\n",
    "                    'genres': genres,\n",
    "                    'similarity_score': score\n",
    "                })\n",
    "        except IndexError:\n",
    "            continue\n",
    "\n",
    "    # Агрегируем и сортируем\n",
    "    all_recommendations_df = pd.DataFrame(all_recommendations)\n",
    "    if all_recommendations_df.empty:\n",
    "        return all_recommendations_df\n",
    "\n",
    "    all_recommendations_df = all_recommendations_df.groupby(['movie_id', 'title', 'genres']).agg({'similarity_score': 'sum'}).reset_index()\n",
    "    all_recommendations_df = all_recommendations_df.sort_values('similarity_score', ascending=False).head(top_n)\n",
    "\n",
    "    # Добавим веса \n",
    "    weights = [20, 12, 8, 5, 3, 2, 2, 1, 1, 1]\n",
    "    all_recommendations_df['weight'] = weights[:len(all_recommendations_df)]\n",
    "\n",
    "    return all_recommendations_df"
   ]
  },
  {
   "cell_type": "code",
   "execution_count": 47,
   "id": "62d18ec2-7ca0-4afd-892f-449f014c1acc",
   "metadata": {},
   "outputs": [
    {
     "data": {
      "text/html": [
       "<div>\n",
       "<style scoped>\n",
       "    .dataframe tbody tr th:only-of-type {\n",
       "        vertical-align: middle;\n",
       "    }\n",
       "\n",
       "    .dataframe tbody tr th {\n",
       "        vertical-align: top;\n",
       "    }\n",
       "\n",
       "    .dataframe thead th {\n",
       "        text-align: right;\n",
       "    }\n",
       "</style>\n",
       "<table border=\"1\" class=\"dataframe\">\n",
       "  <thead>\n",
       "    <tr style=\"text-align: right;\">\n",
       "      <th></th>\n",
       "      <th>movie_id</th>\n",
       "      <th>title</th>\n",
       "      <th>genres</th>\n",
       "      <th>similarity_score</th>\n",
       "      <th>weight</th>\n",
       "    </tr>\n",
       "  </thead>\n",
       "  <tbody>\n",
       "    <tr>\n",
       "      <th>52</th>\n",
       "      <td>1591</td>\n",
       "      <td>Spawn (1997)</td>\n",
       "      <td>Action|Adventure|Sci-Fi|Thriller</td>\n",
       "      <td>0.360900</td>\n",
       "      <td>20</td>\n",
       "    </tr>\n",
       "    <tr>\n",
       "      <th>96</th>\n",
       "      <td>2794</td>\n",
       "      <td>European Vacation (aka National Lampoon's Euro...</td>\n",
       "      <td>Adventure|Comedy|Romance</td>\n",
       "      <td>0.339488</td>\n",
       "      <td>12</td>\n",
       "    </tr>\n",
       "    <tr>\n",
       "      <th>103</th>\n",
       "      <td>2881</td>\n",
       "      <td>Double Jeopardy (1999)</td>\n",
       "      <td>Action|Crime|Drama|Thriller</td>\n",
       "      <td>0.313479</td>\n",
       "      <td>8</td>\n",
       "    </tr>\n",
       "    <tr>\n",
       "      <th>132</th>\n",
       "      <td>3696</td>\n",
       "      <td>Night of the Creeps (1986)</td>\n",
       "      <td>Comedy|Horror|Sci-Fi|Thriller</td>\n",
       "      <td>0.264342</td>\n",
       "      <td>5</td>\n",
       "    </tr>\n",
       "    <tr>\n",
       "      <th>161</th>\n",
       "      <td>5378</td>\n",
       "      <td>Star Wars: Episode II - Attack of the Clones (...</td>\n",
       "      <td>Action|Adventure|Sci-Fi|IMAX</td>\n",
       "      <td>0.253869</td>\n",
       "      <td>3</td>\n",
       "    </tr>\n",
       "    <tr>\n",
       "      <th>146</th>\n",
       "      <td>4533</td>\n",
       "      <td>Return of the Living Dead, The (1985)</td>\n",
       "      <td>Comedy|Horror|Sci-Fi</td>\n",
       "      <td>0.229954</td>\n",
       "      <td>2</td>\n",
       "    </tr>\n",
       "    <tr>\n",
       "      <th>201</th>\n",
       "      <td>6695</td>\n",
       "      <td>Jeepers Creepers 2 (2003)</td>\n",
       "      <td>Horror|Thriller</td>\n",
       "      <td>0.214032</td>\n",
       "      <td>2</td>\n",
       "    </tr>\n",
       "    <tr>\n",
       "      <th>45</th>\n",
       "      <td>1184</td>\n",
       "      <td>Mediterraneo (1991)</td>\n",
       "      <td>Comedy|Drama</td>\n",
       "      <td>0.189812</td>\n",
       "      <td>1</td>\n",
       "    </tr>\n",
       "    <tr>\n",
       "      <th>42</th>\n",
       "      <td>1141</td>\n",
       "      <td>Last Call (Hoogste tijd) (1995)</td>\n",
       "      <td>Drama</td>\n",
       "      <td>0.183063</td>\n",
       "      <td>1</td>\n",
       "    </tr>\n",
       "    <tr>\n",
       "      <th>246</th>\n",
       "      <td>8658</td>\n",
       "      <td>Zandalee (1991)</td>\n",
       "      <td>Drama|Thriller</td>\n",
       "      <td>0.179778</td>\n",
       "      <td>1</td>\n",
       "    </tr>\n",
       "  </tbody>\n",
       "</table>\n",
       "</div>"
      ],
      "text/plain": [
       "     movie_id                                              title  \\\n",
       "52       1591                                       Spawn (1997)   \n",
       "96       2794  European Vacation (aka National Lampoon's Euro...   \n",
       "103      2881                             Double Jeopardy (1999)   \n",
       "132      3696                         Night of the Creeps (1986)   \n",
       "161      5378  Star Wars: Episode II - Attack of the Clones (...   \n",
       "146      4533              Return of the Living Dead, The (1985)   \n",
       "201      6695                          Jeepers Creepers 2 (2003)   \n",
       "45       1184                                Mediterraneo (1991)   \n",
       "42       1141                    Last Call (Hoogste tijd) (1995)   \n",
       "246      8658                                    Zandalee (1991)   \n",
       "\n",
       "                               genres  similarity_score  weight  \n",
       "52   Action|Adventure|Sci-Fi|Thriller          0.360900      20  \n",
       "96           Adventure|Comedy|Romance          0.339488      12  \n",
       "103       Action|Crime|Drama|Thriller          0.313479       8  \n",
       "132     Comedy|Horror|Sci-Fi|Thriller          0.264342       5  \n",
       "161      Action|Adventure|Sci-Fi|IMAX          0.253869       3  \n",
       "146              Comedy|Horror|Sci-Fi          0.229954       2  \n",
       "201                   Horror|Thriller          0.214032       2  \n",
       "45                       Comedy|Drama          0.189812       1  \n",
       "42                              Drama          0.183063       1  \n",
       "246                    Drama|Thriller          0.179778       1  "
      ]
     },
     "execution_count": 47,
     "metadata": {},
     "output_type": "execute_result"
    }
   ],
   "source": [
    "# Кластеризуем фильмы\n",
    "cluster_labels = cluster_movies(movie_vectors_reduced, n_clusters=100)\n",
    "\n",
    "# Рекомендации для списка фильмов\n",
    "movie_ids_to_check = [1, 10, 100]\n",
    "recommend_movies_by_cluster_filtered(movie_ids_to_check, movie_vectors_reduced, movies, cluster_labels, top_n=10)\n"
   ]
  },
  {
   "cell_type": "code",
   "execution_count": null,
   "id": "4bc09826-afc7-4430-be06-d27c2faf97bd",
   "metadata": {},
   "outputs": [],
   "source": []
  },
  {
   "cell_type": "markdown",
   "id": "e64b5dce-3162-4238-a4d9-2315391d63a5",
   "metadata": {},
   "source": [
    "## Ensemble из 3 методов:"
   ]
  },
  {
   "cell_type": "code",
   "execution_count": 54,
   "id": "3472ac16-3c30-4f81-95d4-8358deb5a51a",
   "metadata": {},
   "outputs": [],
   "source": [
    "def ensemble_recommendation(movie_ids_to_check, top_n=10):\n",
    "    # Получаем рекомендации от KNN с фильтрацией по жанрам\n",
    "    rec_knn = recommend_movies_with_strict_genres_filter(\n",
    "        movie_ids=movie_ids_to_check,\n",
    "        top_n=top_n,\n",
    "        internal_top_n=50,\n",
    "        mode='knn'  # для KNN\n",
    "    )\n",
    "\n",
    "    # Получаем рекомендации с использованием простого косинусного сходства\n",
    "    rec_cosine = recommend_movies_with_strict_genres_filter(\n",
    "        movie_ids=movie_ids_to_check,\n",
    "        top_n=top_n,\n",
    "        internal_top_n=50,\n",
    "        mode='custom'  # обычное косинусное сходство\n",
    "    )\n",
    "\n",
    "    cluster_labels = cluster_movies(movie_vectors_reduced, n_clusters=100)\n",
    "    \n",
    "    # Получаем рекомендации от кластеризации\n",
    "    rec_cluster = recommend_movies_by_cluster_filtered(\n",
    "        movie_ids=movie_ids_to_check,\n",
    "        movie_vectors_reduced=movie_vectors_reduced,\n",
    "        movies=movies,\n",
    "        cluster_labels=cluster_labels,\n",
    "        top_n=top_n\n",
    "    )\n",
    "\n",
    "    # Объединяем все рекомендации\n",
    "    all_recs = pd.concat([rec_knn, rec_cosine, rec_cluster], ignore_index=True)\n",
    "\n",
    "    # Суммируем веса по movie_id\n",
    "    combined_scores = all_recs.groupby('movie_id').agg({'weight': 'sum'}).reset_index()\n",
    "\n",
    "    # Добавляем названия и жанры\n",
    "    combined_scores = combined_scores.merge(\n",
    "        movies[['movieId', 'title', 'genres']],\n",
    "        left_on='movie_id',\n",
    "        right_on='movieId',\n",
    "        how='left'\n",
    "    ).dropna(subset=['title', 'genres'])\n",
    "\n",
    "    # Возвращаем топ-N рекомендаций\n",
    "    return combined_scores.sort_values('weight', ascending=False).head(top_n)[['movie_id', 'title', 'genres', 'weight']]"
   ]
  },
  {
   "cell_type": "code",
   "execution_count": 55,
   "id": "668d0c70-770f-4028-b204-6c4e55315a70",
   "metadata": {},
   "outputs": [
    {
     "name": "stdout",
     "output_type": "stream",
     "text": [
      "Получаем рекомендации для фильма с ID: 1 (Название: Toy Story (1995)) (Жанры: Adventure|Animation|Children|Comedy|Fantasy)\n",
      "Получаем рекомендации для фильма с ID: 10 (Название: GoldenEye (1995)) (Жанры: Action|Adventure|Thriller)\n",
      "Получаем рекомендации для фильма с ID: 100 (Название: City Hall (1996)) (Жанры: Drama|Thriller)\n",
      "Получаем рекомендации для фильма с ID: 1 (Название: Toy Story (1995)) (Жанры: Adventure|Animation|Children|Comedy|Fantasy)\n",
      "Получаем рекомендации для фильма с ID: 10 (Название: GoldenEye (1995)) (Жанры: Action|Adventure|Thriller)\n",
      "Получаем рекомендации для фильма с ID: 100 (Название: City Hall (1996)) (Жанры: Drama|Thriller)\n"
     ]
    },
    {
     "data": {
      "text/html": [
       "<div>\n",
       "<style scoped>\n",
       "    .dataframe tbody tr th:only-of-type {\n",
       "        vertical-align: middle;\n",
       "    }\n",
       "\n",
       "    .dataframe tbody tr th {\n",
       "        vertical-align: top;\n",
       "    }\n",
       "\n",
       "    .dataframe thead th {\n",
       "        text-align: right;\n",
       "    }\n",
       "</style>\n",
       "<table border=\"1\" class=\"dataframe\">\n",
       "  <thead>\n",
       "    <tr style=\"text-align: right;\">\n",
       "      <th></th>\n",
       "      <th>movie_id</th>\n",
       "      <th>title</th>\n",
       "      <th>genres</th>\n",
       "      <th>weight</th>\n",
       "    </tr>\n",
       "  </thead>\n",
       "  <tbody>\n",
       "    <tr>\n",
       "      <th>3</th>\n",
       "      <td>1591</td>\n",
       "      <td>Spawn (1997)</td>\n",
       "      <td>Action|Adventure|Sci-Fi|Thriller</td>\n",
       "      <td>61.992492</td>\n",
       "    </tr>\n",
       "    <tr>\n",
       "      <th>10</th>\n",
       "      <td>4533</td>\n",
       "      <td>Return of the Living Dead, The (1985)</td>\n",
       "      <td>Comedy|Horror|Sci-Fi</td>\n",
       "      <td>43.975665</td>\n",
       "    </tr>\n",
       "    <tr>\n",
       "      <th>6</th>\n",
       "      <td>2794</td>\n",
       "      <td>European Vacation (aka National Lampoon's Euro...</td>\n",
       "      <td>Adventure|Comedy|Romance</td>\n",
       "      <td>37.991163</td>\n",
       "    </tr>\n",
       "    <tr>\n",
       "      <th>7</th>\n",
       "      <td>2881</td>\n",
       "      <td>Double Jeopardy (1999)</td>\n",
       "      <td>Action|Crime|Drama|Thriller</td>\n",
       "      <td>25.989107</td>\n",
       "    </tr>\n",
       "    <tr>\n",
       "      <th>12</th>\n",
       "      <td>5786</td>\n",
       "      <td>Paid in Full (2002)</td>\n",
       "      <td>Action|Drama</td>\n",
       "      <td>24.000000</td>\n",
       "    </tr>\n",
       "    <tr>\n",
       "      <th>2</th>\n",
       "      <td>1184</td>\n",
       "      <td>Mediterraneo (1991)</td>\n",
       "      <td>Comedy|Drama</td>\n",
       "      <td>21.977005</td>\n",
       "    </tr>\n",
       "    <tr>\n",
       "      <th>13</th>\n",
       "      <td>6656</td>\n",
       "      <td>Attack of the Puppet People (1958)</td>\n",
       "      <td>Horror|Sci-Fi</td>\n",
       "      <td>20.000000</td>\n",
       "    </tr>\n",
       "    <tr>\n",
       "      <th>8</th>\n",
       "      <td>2912</td>\n",
       "      <td>Limey, The (1999)</td>\n",
       "      <td>Crime|Drama|Thriller</td>\n",
       "      <td>16.000000</td>\n",
       "    </tr>\n",
       "    <tr>\n",
       "      <th>5</th>\n",
       "      <td>2626</td>\n",
       "      <td>Edge of Seventeen (1998)</td>\n",
       "      <td>Comedy|Drama|Romance</td>\n",
       "      <td>12.993158</td>\n",
       "    </tr>\n",
       "    <tr>\n",
       "      <th>17</th>\n",
       "      <td>65204</td>\n",
       "      <td>Chandu the Magician (1932)</td>\n",
       "      <td>Action|Adventure|Fantasy|Sci-Fi</td>\n",
       "      <td>12.000000</td>\n",
       "    </tr>\n",
       "  </tbody>\n",
       "</table>\n",
       "</div>"
      ],
      "text/plain": [
       "    movie_id                                              title  \\\n",
       "3       1591                                       Spawn (1997)   \n",
       "10      4533              Return of the Living Dead, The (1985)   \n",
       "6       2794  European Vacation (aka National Lampoon's Euro...   \n",
       "7       2881                             Double Jeopardy (1999)   \n",
       "12      5786                                Paid in Full (2002)   \n",
       "2       1184                                Mediterraneo (1991)   \n",
       "13      6656                 Attack of the Puppet People (1958)   \n",
       "8       2912                                  Limey, The (1999)   \n",
       "5       2626                           Edge of Seventeen (1998)   \n",
       "17     65204                         Chandu the Magician (1932)   \n",
       "\n",
       "                              genres     weight  \n",
       "3   Action|Adventure|Sci-Fi|Thriller  61.992492  \n",
       "10              Comedy|Horror|Sci-Fi  43.975665  \n",
       "6           Adventure|Comedy|Romance  37.991163  \n",
       "7        Action|Crime|Drama|Thriller  25.989107  \n",
       "12                      Action|Drama  24.000000  \n",
       "2                       Comedy|Drama  21.977005  \n",
       "13                     Horror|Sci-Fi  20.000000  \n",
       "8               Crime|Drama|Thriller  16.000000  \n",
       "5               Comedy|Drama|Romance  12.993158  \n",
       "17   Action|Adventure|Fantasy|Sci-Fi  12.000000  "
      ]
     },
     "execution_count": 55,
     "metadata": {},
     "output_type": "execute_result"
    }
   ],
   "source": [
    "# Рекомендации для списка фильмов\n",
    "movie_ids_to_check = [1, 10, 100]\n",
    "ensemble_recommendation(movie_ids_to_check, top_n=10)"
   ]
  },
  {
   "cell_type": "markdown",
   "id": "302a8b5e-ccfe-46be-99ed-c625a7153e89",
   "metadata": {},
   "source": [
    "## 3. User-base: Сделаю сразу ассамблею (простое сродство, KNN, кластеры)"
   ]
  },
  {
   "cell_type": "code",
   "execution_count": 70,
   "id": "c26b367c-d719-48c7-b059-12f3e078f637",
   "metadata": {},
   "outputs": [],
   "source": [
    "def get_user_vector(user_id, viewed_movie_ids, ratings_df, movie_vectors, movie_id_map, rating_threshold=4.0):\n",
    "    \"\"\"\n",
    "    Строит user_vector в зависимости от количества рейтингов и их качества.\n",
    "    \n",
    "    Параметры:\n",
    "    - user_id: ID пользователя\n",
    "    - viewed_movie_ids: список просмотренных movieId (может включать фильмы без оценки)\n",
    "    - ratings_df: DataFrame с колонками ['userId', 'movieId', 'rating']\n",
    "    - movie_vectors: массив векторов фильмов \n",
    "    - movie_id_map: словарь movieId → индекс в movie_vectors\n",
    "    - rating_threshold: рейтинг, выше которого считается \"положительный\"\n",
    "    \n",
    "    Возвращает:\n",
    "    - user_vector: numpy-вектор предпочтений пользователя\n",
    "    - mode: 'view_based' или 'rating_based' (для дальнейшей логики)\n",
    "    \"\"\"\n",
    "\n",
    "    for movie_id in viewed_movie_ids:\n",
    "        original_movie_row = movies[movies['movieId'] == movie_id]\n",
    "        if original_movie_row.empty:\n",
    "            continue\n",
    "        \n",
    "        original_movie_title = original_movie_row['title'].values[0]\n",
    "        original_movie_genres = original_movie_row['genres'].values[0]\n",
    "        original_genres_set = set(original_movie_genres.split('|'))\n",
    "    \n",
    "        print(f\"Получаем рекомендации для фильма с ID: {movie_id} (Название: {original_movie_title}) (Жанры: {original_movie_genres})\")\n",
    "\n",
    "    user_ratings = ratings_df[ratings_df['userId'] == user_id]\n",
    "    rated_movie_ids = set(user_ratings['movieId'])\n",
    "    positive_ratings = user_ratings[user_ratings['rating'] >= rating_threshold]\n",
    "    \n",
    "    # Используем рейтинговую стратегию, если достаточно данных\n",
    "    if len(user_ratings) >= 5 and len(positive_ratings) >= 3:\n",
    "        vectors = []\n",
    "        weights = []\n",
    "        for _, row in user_ratings.iterrows():\n",
    "            mid = row['movieId']\n",
    "            if mid in movie_id_map:\n",
    "                vectors.append(movie_vectors[movie_id_map[mid]])\n",
    "                weights.append(row['rating'])  # Вес = рейтинг\n",
    "        if vectors:\n",
    "            weighted_avg = np.average(vectors, axis=0, weights=weights)\n",
    "            return weighted_avg, 'rating_based'\n",
    "    else:\n",
    "        # Используем просмотренные фильмы\n",
    "        vectors = []\n",
    "        for mid in viewed_movie_ids:\n",
    "            if mid in movie_id_map:\n",
    "                vectors.append(movie_vectors[movie_id_map[mid]])\n",
    "        if vectors:\n",
    "            avg_vector = np.mean(vectors, axis=0)\n",
    "            return avg_vector, 'view_based'\n",
    "    \n",
    "    return None, 'no_data'"
   ]
  },
  {
   "cell_type": "code",
   "execution_count": 71,
   "id": "1774e999-bc79-4581-b454-da01c23dedfc",
   "metadata": {},
   "outputs": [],
   "source": [
    "def recommend_for_user(user_vector, movie_vectors, movies_df, clustering_labels=None, top_n=10, mode='cosine'):\n",
    "    \"\"\"\n",
    "    Делает рекомендации на основе вектора пользователя тремя способами:\n",
    "    - mode='cosine': простое косинусное сходство\n",
    "    - mode='knn': KNN по user_vector\n",
    "    - mode='cluster': рекомендации из кластера пользователя\n",
    "\n",
    "    Параметры:\n",
    "    - user_vector: numpy-вектор предпочтений пользователя\n",
    "    - movie_vectors: матрица векторов фильмов\n",
    "    - movies_df: DataFrame с колонками ['movieId', 'title', 'genres']\n",
    "    - clustering_labels: массив меток кластеров для каждого фильма (нужен для mode='cluster')\n",
    "    - top_n: количество рекомендаций\n",
    "    - mode: 'cosine' | 'knn' | 'cluster'\n",
    "\n",
    "    Возвращает:\n",
    "    - DataFrame с колонками ['movieId', 'title', 'genres', 'score']\n",
    "    \"\"\"\n",
    "\n",
    "\n",
    "    if user_vector is None:\n",
    "        return pd.DataFrame(columns=['movieId', 'title', 'genres', 'score'])\n",
    "\n",
    "    if mode == 'cosine':\n",
    "        similarities = cosine_similarity([user_vector], movie_vectors)[0]\n",
    "        top_indices = similarities.argsort()[::-1][:top_n]\n",
    "        scores = similarities[top_indices]\n",
    "\n",
    "    elif mode == 'knn':\n",
    "        knn = NearestNeighbors(n_neighbors=top_n, metric='cosine')\n",
    "        knn.fit(movie_vectors)\n",
    "        distances, indices = knn.kneighbors([user_vector])\n",
    "        top_indices = indices[0]\n",
    "        scores = 1 - distances[0]  # cos-дистанция -> сходство\n",
    "\n",
    "    elif mode == 'cluster':\n",
    "        if clustering_labels is None:\n",
    "            raise ValueError(\"Для кластеризации необходимо передать clustering_labels\")\n",
    "\n",
    "        from sklearn.metrics.pairwise import euclidean_distances\n",
    "        # Определяем ближайший кластер\n",
    "        cluster_id = clustering_labels[np.argmin(euclidean_distances([user_vector], movie_vectors))]\n",
    "        cluster_indices = np.where(clustering_labels == cluster_id)[0]\n",
    "        cluster_vectors = movie_vectors[cluster_indices]\n",
    "\n",
    "        similarities = cosine_similarity([user_vector], cluster_vectors)[0]\n",
    "        top_indices_in_cluster = similarities.argsort()[::-1][:top_n]\n",
    "        top_indices = cluster_indices[top_indices_in_cluster]\n",
    "        scores = similarities[top_indices_in_cluster]\n",
    "\n",
    "    else:\n",
    "        raise ValueError(\"Неверный mode. Используйте: 'cosine', 'knn', 'cluster'\")\n",
    "\n",
    "    result_df = movies_df.iloc[top_indices].copy()\n",
    "    result_df['score'] = scores\n",
    "    return result_df[['movieId', 'title', 'genres', 'score']]"
   ]
  },
  {
   "cell_type": "code",
   "execution_count": 72,
   "id": "5828809d-058f-42ef-8d1f-cc5fdcea732c",
   "metadata": {},
   "outputs": [],
   "source": [
    "def ensemble_user_recommendations(user_vector, movie_vectors, movies_df, clustering_labels=None, top_n=10):\n",
    "    \"\"\"\n",
    "    Собирает рекомендации из 3 методов: cosine, knn, cluster → делает ensemble.\n",
    "    \n",
    "    Возвращает top_n рекомендаций по объединённому score.\n",
    "    \"\"\"\n",
    "\n",
    "   \n",
    "\n",
    "    rec_cosine = recommend_for_user(user_vector, movie_vectors, movies_df, mode='cosine', top_n=top_n * 2)\n",
    "    rec_knn = recommend_for_user(user_vector, movie_vectors, movies_df, mode='knn', top_n=top_n * 2)\n",
    "    rec_cluster = recommend_for_user(user_vector, movie_vectors, movies_df, clustering_labels=clustering_labels, mode='cluster', top_n=top_n * 2)\n",
    "\n",
    "    # Объединяем все рекомендации\n",
    "    all_recs = pd.concat([rec_cosine, rec_knn, rec_cluster], axis=0)\n",
    "\n",
    "    # Суммируем score по movieId\n",
    "    combined = (\n",
    "        all_recs.groupby('movieId')\n",
    "        .agg({\n",
    "            'score': 'sum',\n",
    "            'title': 'first',\n",
    "            'genres': 'first'\n",
    "        })\n",
    "        .reset_index()\n",
    "    )\n",
    "\n",
    "    # Сортируем и выбираем топ-N\n",
    "    combined = combined.sort_values('score', ascending=False).head(top_n)\n",
    "    return combined[['movieId', 'title', 'genres', 'score']]"
   ]
  },
  {
   "cell_type": "code",
   "execution_count": 76,
   "id": "eb8cf0b8-08a2-4ad2-8f8a-295ccbe092bf",
   "metadata": {},
   "outputs": [
    {
     "name": "stdout",
     "output_type": "stream",
     "text": [
      "Получаем рекомендации для фильма с ID: 1 (Название: Toy Story (1995)) (Жанры: Adventure|Animation|Children|Comedy|Fantasy)\n",
      "Получаем рекомендации для фильма с ID: 10 (Название: GoldenEye (1995)) (Жанры: Action|Adventure|Thriller)\n",
      "Получаем рекомендации для фильма с ID: 100 (Название: City Hall (1996)) (Жанры: Drama|Thriller)\n"
     ]
    },
    {
     "data": {
      "text/html": [
       "<div>\n",
       "<style scoped>\n",
       "    .dataframe tbody tr th:only-of-type {\n",
       "        vertical-align: middle;\n",
       "    }\n",
       "\n",
       "    .dataframe tbody tr th {\n",
       "        vertical-align: top;\n",
       "    }\n",
       "\n",
       "    .dataframe thead th {\n",
       "        text-align: right;\n",
       "    }\n",
       "</style>\n",
       "<table border=\"1\" class=\"dataframe\">\n",
       "  <thead>\n",
       "    <tr style=\"text-align: right;\">\n",
       "      <th></th>\n",
       "      <th>movieId</th>\n",
       "      <th>title</th>\n",
       "      <th>genres</th>\n",
       "      <th>score</th>\n",
       "    </tr>\n",
       "  </thead>\n",
       "  <tbody>\n",
       "    <tr>\n",
       "      <th>37</th>\n",
       "      <td>86412</td>\n",
       "      <td>That's What I Am (2011)</td>\n",
       "      <td>Children|Comedy</td>\n",
       "      <td>2.982625</td>\n",
       "    </tr>\n",
       "    <tr>\n",
       "      <th>8</th>\n",
       "      <td>80160</td>\n",
       "      <td>Flintstone Kids' Just Say No Special, The (1988)</td>\n",
       "      <td>Animation|Children</td>\n",
       "      <td>1.988295</td>\n",
       "    </tr>\n",
       "    <tr>\n",
       "      <th>36</th>\n",
       "      <td>86190</td>\n",
       "      <td>Hanna (2011)</td>\n",
       "      <td>Action|Adventure|Mystery|Thriller</td>\n",
       "      <td>1.987912</td>\n",
       "    </tr>\n",
       "    <tr>\n",
       "      <th>1</th>\n",
       "      <td>78088</td>\n",
       "      <td>Buried (2010)</td>\n",
       "      <td>Mystery|Thriller</td>\n",
       "      <td>1.986712</td>\n",
       "    </tr>\n",
       "    <tr>\n",
       "      <th>13</th>\n",
       "      <td>80984</td>\n",
       "      <td>Rogue Cop (1954)</td>\n",
       "      <td>Crime|Drama|Film-Noir</td>\n",
       "      <td>1.986586</td>\n",
       "    </tr>\n",
       "    <tr>\n",
       "      <th>18</th>\n",
       "      <td>81806</td>\n",
       "      <td>Vlad Tepes (Vlad &amp;#354;epe&amp;#351;) (1979)</td>\n",
       "      <td>Drama</td>\n",
       "      <td>1.986568</td>\n",
       "    </tr>\n",
       "    <tr>\n",
       "      <th>34</th>\n",
       "      <td>85312</td>\n",
       "      <td>House of Small Cubes, The (Tsumiki no ie) (2008)</td>\n",
       "      <td>Animation|Drama</td>\n",
       "      <td>1.985593</td>\n",
       "    </tr>\n",
       "    <tr>\n",
       "      <th>12</th>\n",
       "      <td>80761</td>\n",
       "      <td>Crimson Wing: Mystery of the Flamingos, The (2...</td>\n",
       "      <td>Documentary</td>\n",
       "      <td>1.985462</td>\n",
       "    </tr>\n",
       "    <tr>\n",
       "      <th>16</th>\n",
       "      <td>81355</td>\n",
       "      <td>Employment, The (Empleo, El) (2008)</td>\n",
       "      <td>Animation|Comedy|Drama</td>\n",
       "      <td>1.985326</td>\n",
       "    </tr>\n",
       "    <tr>\n",
       "      <th>35</th>\n",
       "      <td>85618</td>\n",
       "      <td>Noah's Ark (1928)</td>\n",
       "      <td>Drama|War</td>\n",
       "      <td>1.985206</td>\n",
       "    </tr>\n",
       "  </tbody>\n",
       "</table>\n",
       "</div>"
      ],
      "text/plain": [
       "    movieId                                              title  \\\n",
       "37    86412                            That's What I Am (2011)   \n",
       "8     80160   Flintstone Kids' Just Say No Special, The (1988)   \n",
       "36    86190                                       Hanna (2011)   \n",
       "1     78088                                      Buried (2010)   \n",
       "13    80984                                   Rogue Cop (1954)   \n",
       "18    81806           Vlad Tepes (Vlad &#354;epe&#351;) (1979)   \n",
       "34    85312   House of Small Cubes, The (Tsumiki no ie) (2008)   \n",
       "12    80761  Crimson Wing: Mystery of the Flamingos, The (2...   \n",
       "16    81355                Employment, The (Empleo, El) (2008)   \n",
       "35    85618                                  Noah's Ark (1928)   \n",
       "\n",
       "                               genres     score  \n",
       "37                    Children|Comedy  2.982625  \n",
       "8                  Animation|Children  1.988295  \n",
       "36  Action|Adventure|Mystery|Thriller  1.987912  \n",
       "1                    Mystery|Thriller  1.986712  \n",
       "13              Crime|Drama|Film-Noir  1.986586  \n",
       "18                              Drama  1.986568  \n",
       "34                    Animation|Drama  1.985593  \n",
       "12                        Documentary  1.985462  \n",
       "16             Animation|Comedy|Drama  1.985326  \n",
       "35                          Drama|War  1.985206  "
      ]
     },
     "execution_count": 76,
     "metadata": {},
     "output_type": "execute_result"
    }
   ],
   "source": [
    "user_vector, mode = get_user_vector(\n",
    "    user_id=1,\n",
    "    viewed_movie_ids=[1, 10, 100],\n",
    "    ratings_df=ratings,\n",
    "    movie_vectors=movie_vectors_reduced,\n",
    "    movie_id_map={mid: idx for idx, mid in enumerate(movies['movieId'])}\n",
    ")\n",
    "final_recommendations = ensemble_user_recommendations(\n",
    "    user_vector,\n",
    "    movie_vectors_reduced,\n",
    "    movies,\n",
    "    clustering_labels=cluster_labels,\n",
    "    top_n=10\n",
    ")\n",
    "final_recommendations"
   ]
  },
  {
   "cell_type": "markdown",
   "id": "5fcf8034-4ea1-4f7e-bd4e-df6571e6f646",
   "metadata": {},
   "source": [
    "## Попробуем ALS"
   ]
  },
  {
   "cell_type": "markdown",
   "id": "22e1ba4f-fb72-4cfc-8555-22cf4f50b6c2",
   "metadata": {},
   "source": [
    "ALS (Alternating Least Squares)\n",
    "- Принцип работы:\n",
    "ALS — это метод матричной факторизации, который активно используется для рекомендательных систем, особенно в тех случаях, когда у нас есть большая матрица взаимодействий между пользователями и объектами (например, фильмы и оценки).\n",
    "- Матрица взаимодействий:\n",
    "Есть большая матрица, где строки — это пользователи, а столбцы — это объекты (например, фильмы). Каждое значение в ячейке — это взаимодействие пользователя с объектом (например, оценка фильма).\n",
    "- Матричная факторизация:\n",
    "ALS пытается разложить эту матрицу на две меньшие матрицы: одну для пользователей и одну для объектов. Эти матрицы называются факторами.\n",
    "Идея заключается в том, чтобы найти скрытые представления (факторы), которые могут объяснить взаимодействия между пользователями и объектами. Модель ищет структуру в данных и пытается понять, какие скрытые факторы (например, предпочтения пользователя, жанры фильмов) влияют на взаимодействия.\n",
    "- Чередующиеся минимизации (Alternating):\n",
    "ALS поочередно фиксирует одну из матриц (например, матрицу факторов пользователей) и минимизирует ошибку по другой (например, матрице факторов объектов), и наоборот. Это называется чередующейся минимизацией (alternating minimization).\n",
    "Алгоритм выполняет итерации, обновляя матрицы, пока ошибка (разница между предсказанными и реальными оценками) не станет минимальной.\n",
    "- Физический смысл:\n",
    "Это метод выделения скрытых факторов, которые объясняют поведение пользователей. В контексте фильмов это может быть жанровые предпочтения, актерский состав, тематика или другие факторы, которые влияют на предпочтения.\n",
    "Таким образом, ALS пытается понять, что пользователи «ценят» в фильмах, и на основе этого делать предсказания.\n",
    "- Преимущества:\n",
    "Эффективен для работы с большими наборами данных, где взаимодействий (оценок) немного.\n",
    "Подходит для задач, где важно выделить скрытые зависимости между пользователями и объектами.\n",
    "- Недостатки:\n",
    "Требует времени на обучение и вычисления, особенно для больших данных.\n",
    "Может давать плохие результаты, если данные плохо распределены или если данные разрежены."
   ]
  },
  {
   "cell_type": "code",
   "execution_count": 115,
   "id": "3e292e50-6e94-404c-8dc8-24065b8ff7a8",
   "metadata": {},
   "outputs": [],
   "source": [
    "# Преобразуем userId и movieId в числовые индексы\n",
    "user_encoder = LabelEncoder()\n",
    "item_encoder = LabelEncoder()\n",
    "\n",
    "ratings['user_idx'] = user_encoder.fit_transform(ratings['userId'])\n",
    "ratings['item_idx'] = item_encoder.fit_transform(ratings['movieId'])\n",
    "\n",
    "# Сохраняем маппинг обратно\n",
    "user_id_map = dict(enumerate(user_encoder.classes_))\n",
    "movie_id_map = dict(enumerate(item_encoder.classes_))\n"
   ]
  },
  {
   "cell_type": "code",
   "execution_count": 103,
   "id": "172dff95-5c18-456f-bf8f-a3a15dc634dc",
   "metadata": {},
   "outputs": [],
   "source": [
    "# Создание sparse-матрицы (user-item взаимодействий)\n",
    "ratings_matrix = csr_matrix((\n",
    "    ratings['rating'].values,\n",
    "    (ratings['user_idx'].values, ratings['item_idx'].values)\n",
    "))"
   ]
  },
  {
   "cell_type": "code",
   "execution_count": 116,
   "id": "505e9887-aafe-48f9-8577-0932797a6dae",
   "metadata": {},
   "outputs": [
    {
     "data": {
      "application/vnd.jupyter.widget-view+json": {
       "model_id": "130957f3850a4559afd26a751d9c62b1",
       "version_major": 2,
       "version_minor": 0
      },
      "text/plain": [
       "  0%|          | 0/10 [00:00<?, ?it/s]"
      ]
     },
     "metadata": {},
     "output_type": "display_data"
    }
   ],
   "source": [
    "# Создаем и обучаем ALS модель\n",
    "als_model = AlternatingLeastSquares(\n",
    "    factors=50,\n",
    "    regularization=0.1,\n",
    "    iterations=10,\n",
    "    use_gpu=False  # Если есть GPU, установите True\n",
    ")\n",
    "\n",
    "# Обучаем модель на исходной матрице без транспонирования\n",
    "als_model.fit(ratings_matrix)"
   ]
  },
  {
   "cell_type": "code",
   "execution_count": 117,
   "id": "6ba28748-c78f-42f9-aedc-db463ebcf498",
   "metadata": {},
   "outputs": [
    {
     "name": "stdout",
     "output_type": "stream",
     "text": [
      "(330975, 83239)\n"
     ]
    }
   ],
   "source": [
    "print(ratings_matrix.shape)"
   ]
  },
  {
   "cell_type": "code",
   "execution_count": 123,
   "id": "1b966239-ed9b-4f77-90d1-4fe2e056c003",
   "metadata": {},
   "outputs": [
    {
     "data": {
      "text/html": [
       "<div>\n",
       "<style scoped>\n",
       "    .dataframe tbody tr th:only-of-type {\n",
       "        vertical-align: middle;\n",
       "    }\n",
       "\n",
       "    .dataframe tbody tr th {\n",
       "        vertical-align: top;\n",
       "    }\n",
       "\n",
       "    .dataframe thead th {\n",
       "        text-align: right;\n",
       "    }\n",
       "</style>\n",
       "<table border=\"1\" class=\"dataframe\">\n",
       "  <thead>\n",
       "    <tr style=\"text-align: right;\">\n",
       "      <th></th>\n",
       "      <th>movieId</th>\n",
       "      <th>title</th>\n",
       "      <th>genres</th>\n",
       "    </tr>\n",
       "  </thead>\n",
       "  <tbody>\n",
       "    <tr>\n",
       "      <th>31</th>\n",
       "      <td>32</td>\n",
       "      <td>Twelve Monkeys (a.k.a. 12 Monkeys) (1995)</td>\n",
       "      <td>Mystery|Sci-Fi|Thriller</td>\n",
       "    </tr>\n",
       "    <tr>\n",
       "      <th>61</th>\n",
       "      <td>62</td>\n",
       "      <td>Mr. Holland's Opus (1995)</td>\n",
       "      <td>Drama</td>\n",
       "    </tr>\n",
       "    <tr>\n",
       "      <th>312</th>\n",
       "      <td>316</td>\n",
       "      <td>Stargate (1994)</td>\n",
       "      <td>Action|Adventure|Sci-Fi</td>\n",
       "    </tr>\n",
       "    <tr>\n",
       "      <th>324</th>\n",
       "      <td>329</td>\n",
       "      <td>Star Trek: Generations (1994)</td>\n",
       "      <td>Adventure|Drama|Sci-Fi</td>\n",
       "    </tr>\n",
       "    <tr>\n",
       "      <th>363</th>\n",
       "      <td>368</td>\n",
       "      <td>Maverick (1994)</td>\n",
       "      <td>Adventure|Comedy|Western</td>\n",
       "    </tr>\n",
       "    <tr>\n",
       "      <th>405</th>\n",
       "      <td>410</td>\n",
       "      <td>Addams Family Values (1993)</td>\n",
       "      <td>Children|Comedy|Fantasy</td>\n",
       "    </tr>\n",
       "    <tr>\n",
       "      <th>430</th>\n",
       "      <td>435</td>\n",
       "      <td>Coneheads (1993)</td>\n",
       "      <td>Comedy|Sci-Fi</td>\n",
       "    </tr>\n",
       "    <tr>\n",
       "      <th>469</th>\n",
       "      <td>474</td>\n",
       "      <td>In the Line of Fire (1993)</td>\n",
       "      <td>Action|Thriller</td>\n",
       "    </tr>\n",
       "    <tr>\n",
       "      <th>503</th>\n",
       "      <td>508</td>\n",
       "      <td>Philadelphia (1993)</td>\n",
       "      <td>Drama</td>\n",
       "    </tr>\n",
       "    <tr>\n",
       "      <th>721</th>\n",
       "      <td>736</td>\n",
       "      <td>Twister (1996)</td>\n",
       "      <td>Action|Adventure|Romance|Thriller</td>\n",
       "    </tr>\n",
       "  </tbody>\n",
       "</table>\n",
       "</div>"
      ],
      "text/plain": [
       "     movieId                                      title  \\\n",
       "31        32  Twelve Monkeys (a.k.a. 12 Monkeys) (1995)   \n",
       "61        62                  Mr. Holland's Opus (1995)   \n",
       "312      316                            Stargate (1994)   \n",
       "324      329              Star Trek: Generations (1994)   \n",
       "363      368                            Maverick (1994)   \n",
       "405      410                Addams Family Values (1993)   \n",
       "430      435                           Coneheads (1993)   \n",
       "469      474                 In the Line of Fire (1993)   \n",
       "503      508                        Philadelphia (1993)   \n",
       "721      736                             Twister (1996)   \n",
       "\n",
       "                                genres  \n",
       "31             Mystery|Sci-Fi|Thriller  \n",
       "61                               Drama  \n",
       "312            Action|Adventure|Sci-Fi  \n",
       "324             Adventure|Drama|Sci-Fi  \n",
       "363           Adventure|Comedy|Western  \n",
       "405            Children|Comedy|Fantasy  \n",
       "430                      Comedy|Sci-Fi  \n",
       "469                    Action|Thriller  \n",
       "503                              Drama  \n",
       "721  Action|Adventure|Romance|Thriller  "
      ]
     },
     "execution_count": 123,
     "metadata": {},
     "output_type": "execute_result"
    }
   ],
   "source": [
    "user_internal_id =1\n",
    "\n",
    "# Получаем строку взаимодействий для конкретного пользователя\n",
    "user_interaction = ratings_matrix[user_internal_id]\n",
    "\n",
    "# Получаем рекомендации для пользователя с user_internal_id\n",
    "recommended_items = als_model.recommend(user_internal_id, user_interaction, N=10)\n",
    "\n",
    "# Получаем ID фильмов и преобразуем их в реальные ID\n",
    "recommended_movie_ids = [movie_id_map[item_id] for item_id in recommended_items[0]]\n",
    "\n",
    "# Фильтруем фильмы, чтобы оставить только те, которые рекомендуются\n",
    "recommended_movies = movies[movies['movieId'].isin(recommended_movie_ids)]\n",
    "\n",
    "# Отображаем результат\n",
    "recommended_movies[['movieId', 'title', 'genres']]"
   ]
  },
  {
   "cell_type": "markdown",
   "id": "734ef5cf-5a32-4a46-a22a-e0998031c708",
   "metadata": {},
   "source": [
    "## MF — это Non-negative Matrix Factorization"
   ]
  },
  {
   "cell_type": "markdown",
   "id": "8a8d0240-fbcc-494a-9636-805b3a3bfc0f",
   "metadata": {},
   "source": [
    "- Алгоритм NMF — это Non-negative Matrix Factorization (Ненегативная матричная факторизация). Это метод разложения матрицы на две более простые, при условии, что все значения в этих матрицах неотрицательные.\n",
    "Он часто используется в рекомендательных системах, тематическом моделировании и других задачах, где данные не могут быть отрицательными — например, рейтинги фильмов, частоты слов и т.д.\n",
    "\n",
    "💡 Что делает NMF?\n",
    "Предположим, у нас есть матрица рейтингов R размера (users x items) — например:\n",
    "R ≈ U × V\n",
    "R — исходная матрица рейтингов (пользователь × фильм)\n",
    "U — матрица пользователей в \"скрытом\" пространстве (users × features)\n",
    "V — матрица фильмов в том же пространстве (features × items)\n",
    "\n",
    "Значения в U и V — неотрицательные (≥ 0).\n",
    "Идея в том, что каждый пользователь и каждый товар описываются набором неотрицательных признаков (например, предпочтения по жанрам, стилю и т.д.), и произведение этих матриц приближает реальные рейтинги.\n",
    "\n",
    "📊 Пример интуитивно\n",
    "Допустим, ты — пользователь, который любит:\n",
    "Комедии — 0.9\n",
    "Экшн — 0.1\n",
    "А фильм описывается как:\n",
    "Комедия — 0.8\n",
    "Экшн — 0.2\n",
    "\n",
    "0.9 * 0.8 + 0.1 * 0.2 = 0.74\n",
    "🧠 Почему NMF интересен?\n",
    "В отличие от ALS или SVD, он интерпретируемый — можно понять, какие \"темы\" или \"жанры\" отвечают за предпочтения.\n",
    "Очень хорошо работает в задачах, где отрицательные значения не имеют смысла.\n",
    "Можно применять к спарс-матрицам (много пропущенных данных — обычное дело в рекомендациях)."
   ]
  },
  {
   "cell_type": "code",
   "execution_count": 4,
   "id": "1119ce4a-2d3a-4598-ad40-42525b8b608e",
   "metadata": {},
   "outputs": [],
   "source": [
    "# 1. Шаг 1: Подготовка данных\n",
    "\n",
    "# Создаем матрицу взаимодействий (userId × movieId)\n",
    "user_encoder = LabelEncoder()\n",
    "item_encoder = LabelEncoder()\n",
    "\n",
    "ratings['user_idx'] = user_encoder.fit_transform(ratings['userId'])\n",
    "ratings['item_idx'] = item_encoder.fit_transform(ratings['movieId'])\n",
    "\n",
    "n_users = ratings['user_idx'].nunique()\n",
    "n_items = ratings['item_idx'].nunique()\n"
   ]
  },
  {
   "cell_type": "code",
   "execution_count": 5,
   "id": "31939936-f14a-4468-8360-eddcb37bcb41",
   "metadata": {},
   "outputs": [
    {
     "name": "stdout",
     "output_type": "stream",
     "text": [
      "Создаем разреженную матрицу 330975×83239...\n",
      "Готово: разреженная матрица создана!\n"
     ]
    }
   ],
   "source": [
    "# Создание разреженной матрицы взаимодействий (user × item)\n",
    "print(f\"Создаем разреженную матрицу {n_users}×{n_items}...\")\n",
    "ratings_coo = coo_matrix(\n",
    "    (ratings['rating'].astype(float), (ratings['user_idx'], ratings['item_idx'])),\n",
    "    shape=(n_users, n_items)\n",
    ")\n",
    "\n",
    "ratings_csr = ratings_coo.tocsr()\n",
    "\n",
    "print(\"Готово: разреженная матрица создана!\")"
   ]
  },
  {
   "cell_type": "code",
   "execution_count": 6,
   "id": "494d53e1-5126-42f0-b28f-9ed693f5151e",
   "metadata": {},
   "outputs": [
    {
     "name": "stderr",
     "output_type": "stream",
     "text": [
      "/home/saatarko/.conda/envs/HomeworkDS/lib/python3.12/site-packages/sklearn/decomposition/_nmf.py:1759: ConvergenceWarning: Maximum number of iterations 100 reached. Increase it to improve convergence.\n",
      "  warnings.warn(\n"
     ]
    }
   ],
   "source": [
    "# Шаг 2: Обучаем NMF\n",
    "nmf_model = NMF(n_components=50, init='nndsvda', random_state=42, max_iter=100)\n",
    "user_factors = nmf_model.fit_transform(ratings_csr)\n",
    "item_factors = nmf_model.components_"
   ]
  },
  {
   "cell_type": "code",
   "execution_count": 7,
   "id": "94ec0997-52d6-419e-a1f0-6ea3c57cd1b0",
   "metadata": {},
   "outputs": [
    {
     "name": "stdout",
     "output_type": "stream",
     "text": [
      "[✔] Сжатый user_factors сохранён\n",
      "[✔] Сжатый item_factors сохранён\n"
     ]
    }
   ],
   "source": [
    "# Сохраняем с компрессией\n",
    "np.savez_compressed('content/films/user_factors_compressed.npz', X=user_factors)\n",
    "print(f\"[✔] Сжатый user_factors сохранён\")\n",
    "\n",
    "np.savez_compressed('content/films/item_factors_compressed.npz', X=item_factors)\n",
    "print(f\"[✔] Сжатый item_factors сохранён\")"
   ]
  },
  {
   "cell_type": "code",
   "execution_count": 6,
   "id": "893fdc9c-ac99-4d67-8bf8-1cbf0005efb2",
   "metadata": {},
   "outputs": [
    {
     "name": "stdout",
     "output_type": "stream",
     "text": [
      "[✔] Данные загружены\n"
     ]
    }
   ],
   "source": [
    "# Загружаем сжатые данные\n",
    "user_factors = np.load('content/films/user_factors_compressed.npz')['X']\n",
    "item_factors = np.load('content/films/item_factors_compressed.npz')['X']\n",
    "print(f\"[✔] Данные загружены\")"
   ]
  },
  {
   "cell_type": "code",
   "execution_count": 29,
   "id": "00df6c88-635f-4da8-b49b-0156bea7e614",
   "metadata": {},
   "outputs": [],
   "source": [
    "def save_recommendation_chunks(user_factors, item_factors, chunk_size=200, top_n=100, save_dir=\"content/films/recommendations/recommendation_chunks\"):\n",
    "    os.makedirs(save_dir, exist_ok=True)\n",
    "\n",
    "    n_users = user_factors.shape[0]\n",
    "    n_items = item_factors.shape[0]\n",
    "    n_components = item_factors.shape[1]\n",
    "\n",
    "    print(f\"Размерность item_factors: {item_factors.shape}\")  # Добавляем отладочную информацию\n",
    "    \n",
    "    for start_idx in tqdm(range(0, n_users, chunk_size), desc=\"Сохраняем чанки\"):\n",
    "        end_idx = min(start_idx + chunk_size, n_users)\n",
    "        \n",
    "        chunk_user_factors = user_factors[start_idx:end_idx]  # (chunk_size, n_components)\n",
    "        \n",
    "        # # Перемножаем (chunk_size, n_components) на (n_components, n_items)\n",
    "        # print(f\"Размерность chunk_user_factors: {chunk_user_factors.shape}\")  # Отладочная информация\n",
    "        # print(f\"Размерность item_factors: {item_factors.shape}\")  # Отладочная информация\n",
    "        \n",
    "        chunk_scores = chunk_user_factors @ item_factors  # (chunk_size, n_items)\n",
    "        \n",
    "        recs_dict = {}\n",
    "        for local_i in range(chunk_scores.shape[0]):\n",
    "            global_user_id = start_idx + local_i\n",
    "            top_n_indices = np.argsort(-chunk_scores[local_i])[:top_n]\n",
    "            recs_dict[global_user_id] = top_n_indices.tolist()\n",
    "\n",
    "        filename = os.path.join(save_dir, f\"recs_chunk_{start_idx}_{end_idx}.dll\")\n",
    "\n",
    "        # Сохраняем данные с использованием dill\n",
    "        with open(filename, 'wb') as f:\n",
    "            dill.dump(recs_dict, f)\n",
    "\n",
    "        print(f\"✅ Сохранён чанк: {filename}\")\n",
    "\n",
    "    print(\"🎉 Все чанки успешно сохранены.\")\n"
   ]
  },
  {
   "cell_type": "code",
   "execution_count": 30,
   "id": "cb1718b8-2e6f-4b61-803d-8ffcdc2e9078",
   "metadata": {
    "scrolled": true
   },
   "outputs": [
    {
     "name": "stdout",
     "output_type": "stream",
     "text": [
      "Размерность item_factors: (50, 83239)\n"
     ]
    },
    {
     "name": "stderr",
     "output_type": "stream",
     "text": [
      "Сохраняем чанки:   1%|█▌                                                                                                                                                                                                                                                            | 1/166 [00:10<28:12, 10.26s/it]"
     ]
    },
    {
     "name": "stdout",
     "output_type": "stream",
     "text": [
      "✅ Сохранён чанк: content/films/recommendations/recommendation_chunks/recs_chunk_0_2000.dll\n"
     ]
    },
    {
     "name": "stderr",
     "output_type": "stream",
     "text": [
      "Сохраняем чанки:   1%|███                                                                                                                                                                                                                                                           | 2/166 [00:20<28:22, 10.38s/it]"
     ]
    },
    {
     "name": "stdout",
     "output_type": "stream",
     "text": [
      "✅ Сохранён чанк: content/films/recommendations/recommendation_chunks/recs_chunk_2000_4000.dll\n"
     ]
    },
    {
     "name": "stderr",
     "output_type": "stream",
     "text": [
      "Сохраняем чанки:   2%|████▌                                                                                                                                                                                                                                                         | 3/166 [00:30<27:28, 10.11s/it]"
     ]
    },
    {
     "name": "stdout",
     "output_type": "stream",
     "text": [
      "✅ Сохранён чанк: content/films/recommendations/recommendation_chunks/recs_chunk_4000_6000.dll\n"
     ]
    },
    {
     "name": "stderr",
     "output_type": "stream",
     "text": [
      "Сохраняем чанки:   2%|██████                                                                                                                                                                                                                                                        | 4/166 [00:40<27:19, 10.12s/it]"
     ]
    },
    {
     "name": "stdout",
     "output_type": "stream",
     "text": [
      "✅ Сохранён чанк: content/films/recommendations/recommendation_chunks/recs_chunk_6000_8000.dll\n"
     ]
    },
    {
     "name": "stderr",
     "output_type": "stream",
     "text": [
      "Сохраняем чанки:   3%|███████▋                                                                                                                                                                                                                                                      | 5/166 [00:50<27:08, 10.12s/it]"
     ]
    },
    {
     "name": "stdout",
     "output_type": "stream",
     "text": [
      "✅ Сохранён чанк: content/films/recommendations/recommendation_chunks/recs_chunk_8000_10000.dll\n"
     ]
    },
    {
     "name": "stderr",
     "output_type": "stream",
     "text": [
      "Сохраняем чанки:   4%|█████████▏                                                                                                                                                                                                                                                    | 6/166 [01:00<26:42, 10.02s/it]"
     ]
    },
    {
     "name": "stdout",
     "output_type": "stream",
     "text": [
      "✅ Сохранён чанк: content/films/recommendations/recommendation_chunks/recs_chunk_10000_12000.dll\n"
     ]
    },
    {
     "name": "stderr",
     "output_type": "stream",
     "text": [
      "Сохраняем чанки:   4%|██████████▋                                                                                                                                                                                                                                                   | 7/166 [01:11<27:10, 10.26s/it]"
     ]
    },
    {
     "name": "stdout",
     "output_type": "stream",
     "text": [
      "✅ Сохранён чанк: content/films/recommendations/recommendation_chunks/recs_chunk_12000_14000.dll\n"
     ]
    },
    {
     "name": "stderr",
     "output_type": "stream",
     "text": [
      "Сохраняем чанки:   5%|████████████▏                                                                                                                                                                                                                                                 | 8/166 [01:22<27:27, 10.43s/it]"
     ]
    },
    {
     "name": "stdout",
     "output_type": "stream",
     "text": [
      "✅ Сохранён чанк: content/films/recommendations/recommendation_chunks/recs_chunk_14000_16000.dll\n"
     ]
    },
    {
     "name": "stderr",
     "output_type": "stream",
     "text": [
      "Сохраняем чанки:   5%|█████████████▊                                                                                                                                                                                                                                                | 9/166 [01:32<27:06, 10.36s/it]"
     ]
    },
    {
     "name": "stdout",
     "output_type": "stream",
     "text": [
      "✅ Сохранён чанк: content/films/recommendations/recommendation_chunks/recs_chunk_16000_18000.dll\n"
     ]
    },
    {
     "name": "stderr",
     "output_type": "stream",
     "text": [
      "Сохраняем чанки:   6%|███████████████▏                                                                                                                                                                                                                                             | 10/166 [01:42<26:41, 10.27s/it]"
     ]
    },
    {
     "name": "stdout",
     "output_type": "stream",
     "text": [
      "✅ Сохранён чанк: content/films/recommendations/recommendation_chunks/recs_chunk_18000_20000.dll\n"
     ]
    },
    {
     "name": "stderr",
     "output_type": "stream",
     "text": [
      "Сохраняем чанки:   7%|████████████████▊                                                                                                                                                                                                                                            | 11/166 [01:52<26:33, 10.28s/it]"
     ]
    },
    {
     "name": "stdout",
     "output_type": "stream",
     "text": [
      "✅ Сохранён чанк: content/films/recommendations/recommendation_chunks/recs_chunk_20000_22000.dll\n"
     ]
    },
    {
     "name": "stderr",
     "output_type": "stream",
     "text": [
      "Сохраняем чанки:   7%|██████████████████▎                                                                                                                                                                                                                                          | 12/166 [02:03<26:28, 10.31s/it]"
     ]
    },
    {
     "name": "stdout",
     "output_type": "stream",
     "text": [
      "✅ Сохранён чанк: content/films/recommendations/recommendation_chunks/recs_chunk_22000_24000.dll\n"
     ]
    },
    {
     "name": "stderr",
     "output_type": "stream",
     "text": [
      "Сохраняем чанки:   8%|███████████████████▊                                                                                                                                                                                                                                         | 13/166 [02:13<26:06, 10.24s/it]"
     ]
    },
    {
     "name": "stdout",
     "output_type": "stream",
     "text": [
      "✅ Сохранён чанк: content/films/recommendations/recommendation_chunks/recs_chunk_24000_26000.dll\n"
     ]
    },
    {
     "name": "stderr",
     "output_type": "stream",
     "text": [
      "Сохраняем чанки:   8%|█████████████████████▎                                                                                                                                                                                                                                       | 14/166 [02:23<25:44, 10.16s/it]"
     ]
    },
    {
     "name": "stdout",
     "output_type": "stream",
     "text": [
      "✅ Сохранён чанк: content/films/recommendations/recommendation_chunks/recs_chunk_26000_28000.dll\n"
     ]
    },
    {
     "name": "stderr",
     "output_type": "stream",
     "text": [
      "Сохраняем чанки:   9%|██████████████████████▊                                                                                                                                                                                                                                      | 15/166 [02:33<25:30, 10.14s/it]"
     ]
    },
    {
     "name": "stdout",
     "output_type": "stream",
     "text": [
      "✅ Сохранён чанк: content/films/recommendations/recommendation_chunks/recs_chunk_28000_30000.dll\n"
     ]
    },
    {
     "name": "stderr",
     "output_type": "stream",
     "text": [
      "Сохраняем чанки:  10%|████████████████████████▍                                                                                                                                                                                                                                    | 16/166 [02:43<25:05, 10.03s/it]"
     ]
    },
    {
     "name": "stdout",
     "output_type": "stream",
     "text": [
      "✅ Сохранён чанк: content/films/recommendations/recommendation_chunks/recs_chunk_30000_32000.dll\n"
     ]
    },
    {
     "name": "stderr",
     "output_type": "stream",
     "text": [
      "Сохраняем чанки:  10%|█████████████████████████▉                                                                                                                                                                                                                                   | 17/166 [02:53<25:06, 10.11s/it]"
     ]
    },
    {
     "name": "stdout",
     "output_type": "stream",
     "text": [
      "✅ Сохранён чанк: content/films/recommendations/recommendation_chunks/recs_chunk_32000_34000.dll\n"
     ]
    },
    {
     "name": "stderr",
     "output_type": "stream",
     "text": [
      "Сохраняем чанки:  11%|███████████████████████████▍                                                                                                                                                                                                                                 | 18/166 [03:03<24:42, 10.02s/it]"
     ]
    },
    {
     "name": "stdout",
     "output_type": "stream",
     "text": [
      "✅ Сохранён чанк: content/films/recommendations/recommendation_chunks/recs_chunk_34000_36000.dll\n"
     ]
    },
    {
     "name": "stderr",
     "output_type": "stream",
     "text": [
      "Сохраняем чанки:  11%|████████████████████████████▉                                                                                                                                                                                                                                | 19/166 [03:12<24:22,  9.95s/it]"
     ]
    },
    {
     "name": "stdout",
     "output_type": "stream",
     "text": [
      "✅ Сохранён чанк: content/films/recommendations/recommendation_chunks/recs_chunk_36000_38000.dll\n"
     ]
    },
    {
     "name": "stderr",
     "output_type": "stream",
     "text": [
      "Сохраняем чанки:  12%|██████████████████████████████▍                                                                                                                                                                                                                              | 20/166 [03:23<24:21, 10.01s/it]"
     ]
    },
    {
     "name": "stdout",
     "output_type": "stream",
     "text": [
      "✅ Сохранён чанк: content/films/recommendations/recommendation_chunks/recs_chunk_38000_40000.dll\n"
     ]
    },
    {
     "name": "stderr",
     "output_type": "stream",
     "text": [
      "Сохраняем чанки:  13%|████████████████████████████████                                                                                                                                                                                                                             | 21/166 [03:33<24:21, 10.08s/it]"
     ]
    },
    {
     "name": "stdout",
     "output_type": "stream",
     "text": [
      "✅ Сохранён чанк: content/films/recommendations/recommendation_chunks/recs_chunk_40000_42000.dll\n"
     ]
    },
    {
     "name": "stderr",
     "output_type": "stream",
     "text": [
      "Сохраняем чанки:  13%|█████████████████████████████████▌                                                                                                                                                                                                                           | 22/166 [03:43<23:58,  9.99s/it]"
     ]
    },
    {
     "name": "stdout",
     "output_type": "stream",
     "text": [
      "✅ Сохранён чанк: content/films/recommendations/recommendation_chunks/recs_chunk_42000_44000.dll\n"
     ]
    },
    {
     "name": "stderr",
     "output_type": "stream",
     "text": [
      "Сохраняем чанки:  14%|███████████████████████████████████                                                                                                                                                                                                                          | 23/166 [03:52<23:44,  9.96s/it]"
     ]
    },
    {
     "name": "stdout",
     "output_type": "stream",
     "text": [
      "✅ Сохранён чанк: content/films/recommendations/recommendation_chunks/recs_chunk_44000_46000.dll\n"
     ]
    },
    {
     "name": "stderr",
     "output_type": "stream",
     "text": [
      "Сохраняем чанки:  14%|████████████████████████████████████▌                                                                                                                                                                                                                        | 24/166 [04:02<23:32,  9.94s/it]"
     ]
    },
    {
     "name": "stdout",
     "output_type": "stream",
     "text": [
      "✅ Сохранён чанк: content/films/recommendations/recommendation_chunks/recs_chunk_46000_48000.dll\n"
     ]
    },
    {
     "name": "stderr",
     "output_type": "stream",
     "text": [
      "Сохраняем чанки:  15%|██████████████████████████████████████                                                                                                                                                                                                                       | 25/166 [04:12<23:04,  9.82s/it]"
     ]
    },
    {
     "name": "stdout",
     "output_type": "stream",
     "text": [
      "✅ Сохранён чанк: content/films/recommendations/recommendation_chunks/recs_chunk_48000_50000.dll\n"
     ]
    },
    {
     "name": "stderr",
     "output_type": "stream",
     "text": [
      "Сохраняем чанки:  16%|███████████████████████████████████████▋                                                                                                                                                                                                                     | 26/166 [04:22<22:53,  9.81s/it]"
     ]
    },
    {
     "name": "stdout",
     "output_type": "stream",
     "text": [
      "✅ Сохранён чанк: content/films/recommendations/recommendation_chunks/recs_chunk_50000_52000.dll\n"
     ]
    },
    {
     "name": "stderr",
     "output_type": "stream",
     "text": [
      "Сохраняем чанки:  16%|█████████████████████████████████████████▏                                                                                                                                                                                                                   | 27/166 [04:32<22:45,  9.83s/it]"
     ]
    },
    {
     "name": "stdout",
     "output_type": "stream",
     "text": [
      "✅ Сохранён чанк: content/films/recommendations/recommendation_chunks/recs_chunk_52000_54000.dll\n"
     ]
    },
    {
     "name": "stderr",
     "output_type": "stream",
     "text": [
      "Сохраняем чанки:  17%|██████████████████████████████████████████▋                                                                                                                                                                                                                  | 28/166 [04:41<22:26,  9.76s/it]"
     ]
    },
    {
     "name": "stdout",
     "output_type": "stream",
     "text": [
      "✅ Сохранён чанк: content/films/recommendations/recommendation_chunks/recs_chunk_54000_56000.dll\n"
     ]
    },
    {
     "name": "stderr",
     "output_type": "stream",
     "text": [
      "Сохраняем чанки:  17%|████████████████████████████████████████████▏                                                                                                                                                                                                                | 29/166 [04:51<22:18,  9.77s/it]"
     ]
    },
    {
     "name": "stdout",
     "output_type": "stream",
     "text": [
      "✅ Сохранён чанк: content/films/recommendations/recommendation_chunks/recs_chunk_56000_58000.dll\n"
     ]
    },
    {
     "name": "stderr",
     "output_type": "stream",
     "text": [
      "Сохраняем чанки:  18%|█████████████████████████████████████████████▋                                                                                                                                                                                                               | 30/166 [05:01<22:06,  9.76s/it]"
     ]
    },
    {
     "name": "stdout",
     "output_type": "stream",
     "text": [
      "✅ Сохранён чанк: content/films/recommendations/recommendation_chunks/recs_chunk_58000_60000.dll\n"
     ]
    },
    {
     "name": "stderr",
     "output_type": "stream",
     "text": [
      "Сохраняем чанки:  19%|███████████████████████████████████████████████▏                                                                                                                                                                                                             | 31/166 [05:11<22:03,  9.81s/it]"
     ]
    },
    {
     "name": "stdout",
     "output_type": "stream",
     "text": [
      "✅ Сохранён чанк: content/films/recommendations/recommendation_chunks/recs_chunk_60000_62000.dll\n"
     ]
    },
    {
     "name": "stderr",
     "output_type": "stream",
     "text": [
      "Сохраняем чанки:  19%|████████████████████████████████████████████████▊                                                                                                                                                                                                            | 32/166 [05:21<22:04,  9.88s/it]"
     ]
    },
    {
     "name": "stdout",
     "output_type": "stream",
     "text": [
      "✅ Сохранён чанк: content/films/recommendations/recommendation_chunks/recs_chunk_62000_64000.dll\n"
     ]
    },
    {
     "name": "stderr",
     "output_type": "stream",
     "text": [
      "Сохраняем чанки:  20%|██████████████████████████████████████████████████▎                                                                                                                                                                                                          | 33/166 [05:30<21:43,  9.80s/it]"
     ]
    },
    {
     "name": "stdout",
     "output_type": "stream",
     "text": [
      "✅ Сохранён чанк: content/films/recommendations/recommendation_chunks/recs_chunk_64000_66000.dll\n"
     ]
    },
    {
     "name": "stderr",
     "output_type": "stream",
     "text": [
      "Сохраняем чанки:  20%|███████████████████████████████████████████████████▊                                                                                                                                                                                                         | 34/166 [05:40<21:35,  9.81s/it]"
     ]
    },
    {
     "name": "stdout",
     "output_type": "stream",
     "text": [
      "✅ Сохранён чанк: content/films/recommendations/recommendation_chunks/recs_chunk_66000_68000.dll\n"
     ]
    },
    {
     "name": "stderr",
     "output_type": "stream",
     "text": [
      "Сохраняем чанки:  21%|█████████████████████████████████████████████████████▎                                                                                                                                                                                                       | 35/166 [05:50<21:26,  9.82s/it]"
     ]
    },
    {
     "name": "stdout",
     "output_type": "stream",
     "text": [
      "✅ Сохранён чанк: content/films/recommendations/recommendation_chunks/recs_chunk_68000_70000.dll\n"
     ]
    },
    {
     "name": "stderr",
     "output_type": "stream",
     "text": [
      "Сохраняем чанки:  22%|██████████████████████████████████████████████████████▊                                                                                                                                                                                                      | 36/166 [06:00<21:12,  9.79s/it]"
     ]
    },
    {
     "name": "stdout",
     "output_type": "stream",
     "text": [
      "✅ Сохранён чанк: content/films/recommendations/recommendation_chunks/recs_chunk_70000_72000.dll\n"
     ]
    },
    {
     "name": "stderr",
     "output_type": "stream",
     "text": [
      "Сохраняем чанки:  22%|████████████████████████████████████████████████████████▍                                                                                                                                                                                                    | 37/166 [06:09<20:59,  9.76s/it]"
     ]
    },
    {
     "name": "stdout",
     "output_type": "stream",
     "text": [
      "✅ Сохранён чанк: content/films/recommendations/recommendation_chunks/recs_chunk_72000_74000.dll\n"
     ]
    },
    {
     "name": "stderr",
     "output_type": "stream",
     "text": [
      "Сохраняем чанки:  23%|█████████████████████████████████████████████████████████▉                                                                                                                                                                                                   | 38/166 [06:19<20:52,  9.78s/it]"
     ]
    },
    {
     "name": "stdout",
     "output_type": "stream",
     "text": [
      "✅ Сохранён чанк: content/films/recommendations/recommendation_chunks/recs_chunk_74000_76000.dll\n"
     ]
    },
    {
     "name": "stderr",
     "output_type": "stream",
     "text": [
      "Сохраняем чанки:  23%|███████████████████████████████████████████████████████████▍                                                                                                                                                                                                 | 39/166 [06:29<20:37,  9.74s/it]"
     ]
    },
    {
     "name": "stdout",
     "output_type": "stream",
     "text": [
      "✅ Сохранён чанк: content/films/recommendations/recommendation_chunks/recs_chunk_76000_78000.dll\n"
     ]
    },
    {
     "name": "stderr",
     "output_type": "stream",
     "text": [
      "Сохраняем чанки:  24%|████████████████████████████████████████████████████████████▉                                                                                                                                                                                                | 40/166 [06:39<20:30,  9.77s/it]"
     ]
    },
    {
     "name": "stdout",
     "output_type": "stream",
     "text": [
      "✅ Сохранён чанк: content/films/recommendations/recommendation_chunks/recs_chunk_78000_80000.dll\n"
     ]
    },
    {
     "name": "stderr",
     "output_type": "stream",
     "text": [
      "Сохраняем чанки:  25%|██████████████████████████████████████████████████████████████▍                                                                                                                                                                                              | 41/166 [06:48<20:22,  9.78s/it]"
     ]
    },
    {
     "name": "stdout",
     "output_type": "stream",
     "text": [
      "✅ Сохранён чанк: content/films/recommendations/recommendation_chunks/recs_chunk_80000_82000.dll\n"
     ]
    },
    {
     "name": "stderr",
     "output_type": "stream",
     "text": [
      "Сохраняем чанки:  25%|████████████████████████████████████████████████████████████████                                                                                                                                                                                             | 42/166 [06:58<20:11,  9.77s/it]"
     ]
    },
    {
     "name": "stdout",
     "output_type": "stream",
     "text": [
      "✅ Сохранён чанк: content/films/recommendations/recommendation_chunks/recs_chunk_82000_84000.dll\n"
     ]
    },
    {
     "name": "stderr",
     "output_type": "stream",
     "text": [
      "Сохраняем чанки:  26%|█████████████████████████████████████████████████████████████████▌                                                                                                                                                                                           | 43/166 [07:08<20:08,  9.82s/it]"
     ]
    },
    {
     "name": "stdout",
     "output_type": "stream",
     "text": [
      "✅ Сохранён чанк: content/films/recommendations/recommendation_chunks/recs_chunk_84000_86000.dll\n"
     ]
    },
    {
     "name": "stderr",
     "output_type": "stream",
     "text": [
      "Сохраняем чанки:  27%|███████████████████████████████████████████████████████████████████                                                                                                                                                                                          | 44/166 [07:18<19:54,  9.79s/it]"
     ]
    },
    {
     "name": "stdout",
     "output_type": "stream",
     "text": [
      "✅ Сохранён чанк: content/films/recommendations/recommendation_chunks/recs_chunk_86000_88000.dll\n"
     ]
    },
    {
     "name": "stderr",
     "output_type": "stream",
     "text": [
      "Сохраняем чанки:  27%|████████████████████████████████████████████████████████████████████▌                                                                                                                                                                                        | 45/166 [07:27<19:34,  9.70s/it]"
     ]
    },
    {
     "name": "stdout",
     "output_type": "stream",
     "text": [
      "✅ Сохранён чанк: content/films/recommendations/recommendation_chunks/recs_chunk_88000_90000.dll\n"
     ]
    },
    {
     "name": "stderr",
     "output_type": "stream",
     "text": [
      "Сохраняем чанки:  28%|██████████████████████████████████████████████████████████████████████                                                                                                                                                                                       | 46/166 [07:37<19:35,  9.79s/it]"
     ]
    },
    {
     "name": "stdout",
     "output_type": "stream",
     "text": [
      "✅ Сохранён чанк: content/films/recommendations/recommendation_chunks/recs_chunk_90000_92000.dll\n"
     ]
    },
    {
     "name": "stderr",
     "output_type": "stream",
     "text": [
      "Сохраняем чанки:  28%|███████████████████████████████████████████████████████████████████████▋                                                                                                                                                                                     | 47/166 [07:47<19:36,  9.89s/it]"
     ]
    },
    {
     "name": "stdout",
     "output_type": "stream",
     "text": [
      "✅ Сохранён чанк: content/films/recommendations/recommendation_chunks/recs_chunk_92000_94000.dll\n"
     ]
    },
    {
     "name": "stderr",
     "output_type": "stream",
     "text": [
      "Сохраняем чанки:  29%|█████████████████████████████████████████████████████████████████████████▏                                                                                                                                                                                   | 48/166 [07:57<19:16,  9.80s/it]"
     ]
    },
    {
     "name": "stdout",
     "output_type": "stream",
     "text": [
      "✅ Сохранён чанк: content/films/recommendations/recommendation_chunks/recs_chunk_94000_96000.dll\n"
     ]
    },
    {
     "name": "stderr",
     "output_type": "stream",
     "text": [
      "Сохраняем чанки:  30%|██████████████████████████████████████████████████████████████████████████▋                                                                                                                                                                                  | 49/166 [08:07<19:16,  9.88s/it]"
     ]
    },
    {
     "name": "stdout",
     "output_type": "stream",
     "text": [
      "✅ Сохранён чанк: content/films/recommendations/recommendation_chunks/recs_chunk_96000_98000.dll\n"
     ]
    },
    {
     "name": "stderr",
     "output_type": "stream",
     "text": [
      "Сохраняем чанки:  30%|████████████████████████████████████████████████████████████████████████████▏                                                                                                                                                                                | 50/166 [08:17<19:01,  9.84s/it]"
     ]
    },
    {
     "name": "stdout",
     "output_type": "stream",
     "text": [
      "✅ Сохранён чанк: content/films/recommendations/recommendation_chunks/recs_chunk_98000_100000.dll\n"
     ]
    },
    {
     "name": "stderr",
     "output_type": "stream",
     "text": [
      "Сохраняем чанки:  31%|█████████████████████████████████████████████████████████████████████████████▋                                                                                                                                                                               | 51/166 [08:27<18:43,  9.77s/it]"
     ]
    },
    {
     "name": "stdout",
     "output_type": "stream",
     "text": [
      "✅ Сохранён чанк: content/films/recommendations/recommendation_chunks/recs_chunk_100000_102000.dll\n"
     ]
    },
    {
     "name": "stderr",
     "output_type": "stream",
     "text": [
      "Сохраняем чанки:  31%|███████████████████████████████████████████████████████████████████████████████▎                                                                                                                                                                             | 52/166 [08:36<18:35,  9.79s/it]"
     ]
    },
    {
     "name": "stdout",
     "output_type": "stream",
     "text": [
      "✅ Сохранён чанк: content/films/recommendations/recommendation_chunks/recs_chunk_102000_104000.dll\n"
     ]
    },
    {
     "name": "stderr",
     "output_type": "stream",
     "text": [
      "Сохраняем чанки:  32%|████████████████████████████████████████████████████████████████████████████████▊                                                                                                                                                                            | 53/166 [08:46<18:18,  9.72s/it]"
     ]
    },
    {
     "name": "stdout",
     "output_type": "stream",
     "text": [
      "✅ Сохранён чанк: content/films/recommendations/recommendation_chunks/recs_chunk_104000_106000.dll\n"
     ]
    },
    {
     "name": "stderr",
     "output_type": "stream",
     "text": [
      "Сохраняем чанки:  33%|██████████████████████████████████████████████████████████████████████████████████▎                                                                                                                                                                          | 54/166 [08:56<18:25,  9.87s/it]"
     ]
    },
    {
     "name": "stdout",
     "output_type": "stream",
     "text": [
      "✅ Сохранён чанк: content/films/recommendations/recommendation_chunks/recs_chunk_106000_108000.dll\n"
     ]
    },
    {
     "name": "stderr",
     "output_type": "stream",
     "text": [
      "Сохраняем чанки:  33%|███████████████████████████████████████████████████████████████████████████████████▊                                                                                                                                                                         | 55/166 [09:06<18:11,  9.83s/it]"
     ]
    },
    {
     "name": "stdout",
     "output_type": "stream",
     "text": [
      "✅ Сохранён чанк: content/films/recommendations/recommendation_chunks/recs_chunk_108000_110000.dll\n"
     ]
    },
    {
     "name": "stderr",
     "output_type": "stream",
     "text": [
      "Сохраняем чанки:  34%|█████████████████████████████████████████████████████████████████████████████████████▎                                                                                                                                                                       | 56/166 [09:16<17:56,  9.79s/it]"
     ]
    },
    {
     "name": "stdout",
     "output_type": "stream",
     "text": [
      "✅ Сохранён чанк: content/films/recommendations/recommendation_chunks/recs_chunk_110000_112000.dll\n"
     ]
    },
    {
     "name": "stderr",
     "output_type": "stream",
     "text": [
      "Сохраняем чанки:  34%|██████████████████████████████████████████████████████████████████████████████████████▊                                                                                                                                                                      | 57/166 [09:25<17:48,  9.80s/it]"
     ]
    },
    {
     "name": "stdout",
     "output_type": "stream",
     "text": [
      "✅ Сохранён чанк: content/films/recommendations/recommendation_chunks/recs_chunk_112000_114000.dll\n"
     ]
    },
    {
     "name": "stderr",
     "output_type": "stream",
     "text": [
      "Сохраняем чанки:  35%|████████████████████████████████████████████████████████████████████████████████████████▍                                                                                                                                                                    | 58/166 [09:35<17:46,  9.88s/it]"
     ]
    },
    {
     "name": "stdout",
     "output_type": "stream",
     "text": [
      "✅ Сохранён чанк: content/films/recommendations/recommendation_chunks/recs_chunk_114000_116000.dll\n"
     ]
    },
    {
     "name": "stderr",
     "output_type": "stream",
     "text": [
      "Сохраняем чанки:  36%|█████████████████████████████████████████████████████████████████████████████████████████▉                                                                                                                                                                   | 59/166 [09:45<17:35,  9.86s/it]"
     ]
    },
    {
     "name": "stdout",
     "output_type": "stream",
     "text": [
      "✅ Сохранён чанк: content/films/recommendations/recommendation_chunks/recs_chunk_116000_118000.dll\n"
     ]
    },
    {
     "name": "stderr",
     "output_type": "stream",
     "text": [
      "Сохраняем чанки:  36%|███████████████████████████████████████████████████████████████████████████████████████████▍                                                                                                                                                                 | 60/166 [09:55<17:23,  9.85s/it]"
     ]
    },
    {
     "name": "stdout",
     "output_type": "stream",
     "text": [
      "✅ Сохранён чанк: content/films/recommendations/recommendation_chunks/recs_chunk_118000_120000.dll\n"
     ]
    },
    {
     "name": "stderr",
     "output_type": "stream",
     "text": [
      "Сохраняем чанки:  37%|████████████████████████████████████████████████████████████████████████████████████████████▉                                                                                                                                                                | 61/166 [10:05<17:19,  9.90s/it]"
     ]
    },
    {
     "name": "stdout",
     "output_type": "stream",
     "text": [
      "✅ Сохранён чанк: content/films/recommendations/recommendation_chunks/recs_chunk_120000_122000.dll\n"
     ]
    },
    {
     "name": "stderr",
     "output_type": "stream",
     "text": [
      "Сохраняем чанки:  37%|██████████████████████████████████████████████████████████████████████████████████████████████▍                                                                                                                                                              | 62/166 [10:15<17:17,  9.97s/it]"
     ]
    },
    {
     "name": "stdout",
     "output_type": "stream",
     "text": [
      "✅ Сохранён чанк: content/films/recommendations/recommendation_chunks/recs_chunk_122000_124000.dll\n"
     ]
    },
    {
     "name": "stderr",
     "output_type": "stream",
     "text": [
      "Сохраняем чанки:  38%|████████████████████████████████████████████████████████████████████████████████████████████████                                                                                                                                                             | 63/166 [10:25<17:01,  9.92s/it]"
     ]
    },
    {
     "name": "stdout",
     "output_type": "stream",
     "text": [
      "✅ Сохранён чанк: content/films/recommendations/recommendation_chunks/recs_chunk_124000_126000.dll\n"
     ]
    },
    {
     "name": "stderr",
     "output_type": "stream",
     "text": [
      "Сохраняем чанки:  39%|█████████████████████████████████████████████████████████████████████████████████████████████████▌                                                                                                                                                           | 64/166 [10:35<16:44,  9.85s/it]"
     ]
    },
    {
     "name": "stdout",
     "output_type": "stream",
     "text": [
      "✅ Сохранён чанк: content/films/recommendations/recommendation_chunks/recs_chunk_126000_128000.dll\n"
     ]
    },
    {
     "name": "stderr",
     "output_type": "stream",
     "text": [
      "Сохраняем чанки:  39%|███████████████████████████████████████████████████████████████████████████████████████████████████                                                                                                                                                          | 65/166 [10:44<16:30,  9.80s/it]"
     ]
    },
    {
     "name": "stdout",
     "output_type": "stream",
     "text": [
      "✅ Сохранён чанк: content/films/recommendations/recommendation_chunks/recs_chunk_128000_130000.dll\n"
     ]
    },
    {
     "name": "stderr",
     "output_type": "stream",
     "text": [
      "Сохраняем чанки:  40%|████████████████████████████████████████████████████████████████████████████████████████████████████▌                                                                                                                                                        | 66/166 [10:54<16:25,  9.85s/it]"
     ]
    },
    {
     "name": "stdout",
     "output_type": "stream",
     "text": [
      "✅ Сохранён чанк: content/films/recommendations/recommendation_chunks/recs_chunk_130000_132000.dll\n"
     ]
    },
    {
     "name": "stderr",
     "output_type": "stream",
     "text": [
      "Сохраняем чанки:  40%|██████████████████████████████████████████████████████████████████████████████████████████████████████                                                                                                                                                       | 67/166 [11:05<16:26,  9.96s/it]"
     ]
    },
    {
     "name": "stdout",
     "output_type": "stream",
     "text": [
      "✅ Сохранён чанк: content/films/recommendations/recommendation_chunks/recs_chunk_132000_134000.dll\n"
     ]
    },
    {
     "name": "stderr",
     "output_type": "stream",
     "text": [
      "Сохраняем чанки:  41%|███████████████████████████████████████████████████████████████████████████████████████████████████████▋                                                                                                                                                     | 68/166 [11:15<16:33, 10.14s/it]"
     ]
    },
    {
     "name": "stdout",
     "output_type": "stream",
     "text": [
      "✅ Сохранён чанк: content/films/recommendations/recommendation_chunks/recs_chunk_134000_136000.dll\n"
     ]
    },
    {
     "name": "stderr",
     "output_type": "stream",
     "text": [
      "Сохраняем чанки:  42%|█████████████████████████████████████████████████████████████████████████████████████████████████████████▏                                                                                                                                                   | 69/166 [11:27<17:13, 10.66s/it]"
     ]
    },
    {
     "name": "stdout",
     "output_type": "stream",
     "text": [
      "✅ Сохранён чанк: content/films/recommendations/recommendation_chunks/recs_chunk_136000_138000.dll\n"
     ]
    },
    {
     "name": "stderr",
     "output_type": "stream",
     "text": [
      "Сохраняем чанки:  42%|██████████████████████████████████████████████████████████████████████████████████████████████████████████▋                                                                                                                                                  | 70/166 [11:39<17:40, 11.05s/it]"
     ]
    },
    {
     "name": "stdout",
     "output_type": "stream",
     "text": [
      "✅ Сохранён чанк: content/films/recommendations/recommendation_chunks/recs_chunk_138000_140000.dll\n"
     ]
    },
    {
     "name": "stderr",
     "output_type": "stream",
     "text": [
      "Сохраняем чанки:  43%|████████████████████████████████████████████████████████████████████████████████████████████████████████████▏                                                                                                                                                | 71/166 [11:51<17:44, 11.20s/it]"
     ]
    },
    {
     "name": "stdout",
     "output_type": "stream",
     "text": [
      "✅ Сохранён чанк: content/films/recommendations/recommendation_chunks/recs_chunk_140000_142000.dll\n"
     ]
    },
    {
     "name": "stderr",
     "output_type": "stream",
     "text": [
      "Сохраняем чанки:  43%|█████████████████████████████████████████████████████████████████████████████████████████████████████████████▋                                                                                                                                               | 72/166 [12:02<17:50, 11.39s/it]"
     ]
    },
    {
     "name": "stdout",
     "output_type": "stream",
     "text": [
      "✅ Сохранён чанк: content/films/recommendations/recommendation_chunks/recs_chunk_142000_144000.dll\n"
     ]
    },
    {
     "name": "stderr",
     "output_type": "stream",
     "text": [
      "Сохраняем чанки:  44%|███████████████████████████████████████████████████████████████████████████████████████████████████████████████▎                                                                                                                                             | 73/166 [12:14<17:50, 11.52s/it]"
     ]
    },
    {
     "name": "stdout",
     "output_type": "stream",
     "text": [
      "✅ Сохранён чанк: content/films/recommendations/recommendation_chunks/recs_chunk_144000_146000.dll\n"
     ]
    },
    {
     "name": "stderr",
     "output_type": "stream",
     "text": [
      "Сохраняем чанки:  45%|████████████████████████████████████████████████████████████████████████████████████████████████████████████████▊                                                                                                                                            | 74/166 [12:26<17:52, 11.66s/it]"
     ]
    },
    {
     "name": "stdout",
     "output_type": "stream",
     "text": [
      "✅ Сохранён чанк: content/films/recommendations/recommendation_chunks/recs_chunk_146000_148000.dll\n"
     ]
    },
    {
     "name": "stderr",
     "output_type": "stream",
     "text": [
      "Сохраняем чанки:  45%|██████████████████████████████████████████████████████████████████████████████████████████████████████████████████▎                                                                                                                                          | 75/166 [12:38<17:45, 11.71s/it]"
     ]
    },
    {
     "name": "stdout",
     "output_type": "stream",
     "text": [
      "✅ Сохранён чанк: content/films/recommendations/recommendation_chunks/recs_chunk_148000_150000.dll\n"
     ]
    },
    {
     "name": "stderr",
     "output_type": "stream",
     "text": [
      "Сохраняем чанки:  46%|███████████████████████████████████████████████████████████████████████████████████████████████████████████████████▊                                                                                                                                         | 76/166 [12:50<17:29, 11.66s/it]"
     ]
    },
    {
     "name": "stdout",
     "output_type": "stream",
     "text": [
      "✅ Сохранён чанк: content/films/recommendations/recommendation_chunks/recs_chunk_150000_152000.dll\n"
     ]
    },
    {
     "name": "stderr",
     "output_type": "stream",
     "text": [
      "Сохраняем чанки:  46%|█████████████████████████████████████████████████████████████████████████████████████████████████████████████████████▎                                                                                                                                       | 77/166 [13:01<17:12, 11.60s/it]"
     ]
    },
    {
     "name": "stdout",
     "output_type": "stream",
     "text": [
      "✅ Сохранён чанк: content/films/recommendations/recommendation_chunks/recs_chunk_152000_154000.dll\n"
     ]
    },
    {
     "name": "stderr",
     "output_type": "stream",
     "text": [
      "Сохраняем чанки:  47%|██████████████████████████████████████████████████████████████████████████████████████████████████████████████████████▉                                                                                                                                      | 78/166 [13:13<17:09, 11.70s/it]"
     ]
    },
    {
     "name": "stdout",
     "output_type": "stream",
     "text": [
      "✅ Сохранён чанк: content/films/recommendations/recommendation_chunks/recs_chunk_154000_156000.dll\n"
     ]
    },
    {
     "name": "stderr",
     "output_type": "stream",
     "text": [
      "Сохраняем чанки:  48%|████████████████████████████████████████████████████████████████████████████████████████████████████████████████████████▍                                                                                                                                    | 79/166 [13:25<16:58, 11.71s/it]"
     ]
    },
    {
     "name": "stdout",
     "output_type": "stream",
     "text": [
      "✅ Сохранён чанк: content/films/recommendations/recommendation_chunks/recs_chunk_156000_158000.dll\n"
     ]
    },
    {
     "name": "stderr",
     "output_type": "stream",
     "text": [
      "Сохраняем чанки:  48%|█████████████████████████████████████████████████████████████████████████████████████████████████████████████████████████▉                                                                                                                                   | 80/166 [13:37<16:51, 11.76s/it]"
     ]
    },
    {
     "name": "stdout",
     "output_type": "stream",
     "text": [
      "✅ Сохранён чанк: content/films/recommendations/recommendation_chunks/recs_chunk_158000_160000.dll\n"
     ]
    },
    {
     "name": "stderr",
     "output_type": "stream",
     "text": [
      "Сохраняем чанки:  49%|███████████████████████████████████████████████████████████████████████████████████████████████████████████████████████████▍                                                                                                                                 | 81/166 [13:48<16:36, 11.72s/it]"
     ]
    },
    {
     "name": "stdout",
     "output_type": "stream",
     "text": [
      "✅ Сохранён чанк: content/films/recommendations/recommendation_chunks/recs_chunk_160000_162000.dll\n"
     ]
    },
    {
     "name": "stderr",
     "output_type": "stream",
     "text": [
      "Сохраняем чанки:  49%|████████████████████████████████████████████████████████████████████████████████████████████████████████████████████████████▉                                                                                                                                | 82/166 [14:00<16:19, 11.66s/it]"
     ]
    },
    {
     "name": "stdout",
     "output_type": "stream",
     "text": [
      "✅ Сохранён чанк: content/films/recommendations/recommendation_chunks/recs_chunk_162000_164000.dll\n"
     ]
    },
    {
     "name": "stderr",
     "output_type": "stream",
     "text": [
      "Сохраняем чанки:  50%|██████████████████████████████████████████████████████████████████████████████████████████████████████████████████████████████▌                                                                                                                              | 83/166 [14:12<16:19, 11.80s/it]"
     ]
    },
    {
     "name": "stdout",
     "output_type": "stream",
     "text": [
      "✅ Сохранён чанк: content/films/recommendations/recommendation_chunks/recs_chunk_164000_166000.dll\n"
     ]
    },
    {
     "name": "stderr",
     "output_type": "stream",
     "text": [
      "Сохраняем чанки:  51%|████████████████████████████████████████████████████████████████████████████████████████████████████████████████████████████████                                                                                                                             | 84/166 [14:24<16:05, 11.77s/it]"
     ]
    },
    {
     "name": "stdout",
     "output_type": "stream",
     "text": [
      "✅ Сохранён чанк: content/films/recommendations/recommendation_chunks/recs_chunk_166000_168000.dll\n"
     ]
    },
    {
     "name": "stderr",
     "output_type": "stream",
     "text": [
      "Сохраняем чанки:  51%|█████████████████████████████████████████████████████████████████████████████████████████████████████████████████████████████████▌                                                                                                                           | 85/166 [14:35<15:54, 11.78s/it]"
     ]
    },
    {
     "name": "stdout",
     "output_type": "stream",
     "text": [
      "✅ Сохранён чанк: content/films/recommendations/recommendation_chunks/recs_chunk_168000_170000.dll\n"
     ]
    },
    {
     "name": "stderr",
     "output_type": "stream",
     "text": [
      "Сохраняем чанки:  52%|███████████████████████████████████████████████████████████████████████████████████████████████████████████████████████████████████                                                                                                                          | 86/166 [14:47<15:33, 11.67s/it]"
     ]
    },
    {
     "name": "stdout",
     "output_type": "stream",
     "text": [
      "✅ Сохранён чанк: content/films/recommendations/recommendation_chunks/recs_chunk_170000_172000.dll\n"
     ]
    },
    {
     "name": "stderr",
     "output_type": "stream",
     "text": [
      "Сохраняем чанки:  52%|████████████████████████████████████████████████████████████████████████████████████████████████████████████████████████████████████▌                                                                                                                        | 87/166 [14:58<15:22, 11.68s/it]"
     ]
    },
    {
     "name": "stdout",
     "output_type": "stream",
     "text": [
      "✅ Сохранён чанк: content/films/recommendations/recommendation_chunks/recs_chunk_172000_174000.dll\n"
     ]
    },
    {
     "name": "stderr",
     "output_type": "stream",
     "text": [
      "Сохраняем чанки:  53%|██████████████████████████████████████████████████████████████████████████████████████████████████████████████████████████████████████                                                                                                                       | 88/166 [15:10<15:14, 11.73s/it]"
     ]
    },
    {
     "name": "stdout",
     "output_type": "stream",
     "text": [
      "✅ Сохранён чанк: content/films/recommendations/recommendation_chunks/recs_chunk_174000_176000.dll\n"
     ]
    },
    {
     "name": "stderr",
     "output_type": "stream",
     "text": [
      "Сохраняем чанки:  54%|███████████████████████████████████████████████████████████████████████████████████████████████████████████████████████████████████████▋                                                                                                                     | 89/166 [15:22<15:02, 11.72s/it]"
     ]
    },
    {
     "name": "stdout",
     "output_type": "stream",
     "text": [
      "✅ Сохранён чанк: content/films/recommendations/recommendation_chunks/recs_chunk_176000_178000.dll\n"
     ]
    },
    {
     "name": "stderr",
     "output_type": "stream",
     "text": [
      "Сохраняем чанки:  54%|█████████████████████████████████████████████████████████████████████████████████████████████████████████████████████████████████████████▏                                                                                                                   | 90/166 [15:34<14:55, 11.78s/it]"
     ]
    },
    {
     "name": "stdout",
     "output_type": "stream",
     "text": [
      "✅ Сохранён чанк: content/films/recommendations/recommendation_chunks/recs_chunk_178000_180000.dll\n"
     ]
    },
    {
     "name": "stderr",
     "output_type": "stream",
     "text": [
      "Сохраняем чанки:  55%|██████████████████████████████████████████████████████████████████████████████████████████████████████████████████████████████████████████▋                                                                                                                  | 91/166 [15:46<14:39, 11.73s/it]"
     ]
    },
    {
     "name": "stdout",
     "output_type": "stream",
     "text": [
      "✅ Сохранён чанк: content/films/recommendations/recommendation_chunks/recs_chunk_180000_182000.dll\n"
     ]
    },
    {
     "name": "stderr",
     "output_type": "stream",
     "text": [
      "Сохраняем чанки:  55%|████████████████████████████████████████████████████████████████████████████████████████████████████████████████████████████████████████████▏                                                                                                                | 92/166 [15:57<14:18, 11.61s/it]"
     ]
    },
    {
     "name": "stdout",
     "output_type": "stream",
     "text": [
      "✅ Сохранён чанк: content/films/recommendations/recommendation_chunks/recs_chunk_182000_184000.dll\n"
     ]
    },
    {
     "name": "stderr",
     "output_type": "stream",
     "text": [
      "Сохраняем чанки:  56%|█████████████████████████████████████████████████████████████████████████████████████████████████████████████████████████████████████████████▋                                                                                                               | 93/166 [16:08<13:50, 11.38s/it]"
     ]
    },
    {
     "name": "stdout",
     "output_type": "stream",
     "text": [
      "✅ Сохранён чанк: content/films/recommendations/recommendation_chunks/recs_chunk_184000_186000.dll\n"
     ]
    },
    {
     "name": "stderr",
     "output_type": "stream",
     "text": [
      "Сохраняем чанки:  57%|███████████████████████████████████████████████████████████████████████████████████████████████████████████████████████████████████████████████▎                                                                                                             | 94/166 [16:19<13:38, 11.37s/it]"
     ]
    },
    {
     "name": "stdout",
     "output_type": "stream",
     "text": [
      "✅ Сохранён чанк: content/films/recommendations/recommendation_chunks/recs_chunk_186000_188000.dll\n"
     ]
    },
    {
     "name": "stderr",
     "output_type": "stream",
     "text": [
      "Сохраняем чанки:  57%|████████████████████████████████████████████████████████████████████████████████████████████████████████████████████████████████████████████████▊                                                                                                            | 95/166 [16:30<13:27, 11.37s/it]"
     ]
    },
    {
     "name": "stdout",
     "output_type": "stream",
     "text": [
      "✅ Сохранён чанк: content/films/recommendations/recommendation_chunks/recs_chunk_188000_190000.dll\n"
     ]
    },
    {
     "name": "stderr",
     "output_type": "stream",
     "text": [
      "Сохраняем чанки:  58%|██████████████████████████████████████████████████████████████████████████████████████████████████████████████████████████████████████████████████▎                                                                                                          | 96/166 [16:42<13:23, 11.48s/it]"
     ]
    },
    {
     "name": "stdout",
     "output_type": "stream",
     "text": [
      "✅ Сохранён чанк: content/films/recommendations/recommendation_chunks/recs_chunk_190000_192000.dll\n"
     ]
    },
    {
     "name": "stderr",
     "output_type": "stream",
     "text": [
      "Сохраняем чанки:  58%|███████████████████████████████████████████████████████████████████████████████████████████████████████████████████████████████████████████████████▊                                                                                                         | 97/166 [16:54<13:09, 11.45s/it]"
     ]
    },
    {
     "name": "stdout",
     "output_type": "stream",
     "text": [
      "✅ Сохранён чанк: content/films/recommendations/recommendation_chunks/recs_chunk_192000_194000.dll\n"
     ]
    },
    {
     "name": "stderr",
     "output_type": "stream",
     "text": [
      "Сохраняем чанки:  59%|█████████████████████████████████████████████████████████████████████████████████████████████████████████████████████████████████████████████████████▎                                                                                                       | 98/166 [17:05<13:05, 11.56s/it]"
     ]
    },
    {
     "name": "stdout",
     "output_type": "stream",
     "text": [
      "✅ Сохранён чанк: content/films/recommendations/recommendation_chunks/recs_chunk_194000_196000.dll\n"
     ]
    },
    {
     "name": "stderr",
     "output_type": "stream",
     "text": [
      "Сохраняем чанки:  60%|██████████████████████████████████████████████████████████████████████████████████████████████████████████████████████████████████████████████████████▉                                                                                                      | 99/166 [17:17<12:49, 11.49s/it]"
     ]
    },
    {
     "name": "stdout",
     "output_type": "stream",
     "text": [
      "✅ Сохранён чанк: content/films/recommendations/recommendation_chunks/recs_chunk_196000_198000.dll\n"
     ]
    },
    {
     "name": "stderr",
     "output_type": "stream",
     "text": [
      "Сохраняем чанки:  60%|███████████████████████████████████████████████████████████████████████████████████████████████████████████████████████████████████████████████████████▊                                                                                                    | 100/166 [17:28<12:43, 11.57s/it]"
     ]
    },
    {
     "name": "stdout",
     "output_type": "stream",
     "text": [
      "✅ Сохранён чанк: content/films/recommendations/recommendation_chunks/recs_chunk_198000_200000.dll\n"
     ]
    },
    {
     "name": "stderr",
     "output_type": "stream",
     "text": [
      "Сохраняем чанки:  61%|█████████████████████████████████████████████████████████████████████████████████████████████████████████████████████████████████████████████████████████▎                                                                                                  | 101/166 [17:40<12:35, 11.62s/it]"
     ]
    },
    {
     "name": "stdout",
     "output_type": "stream",
     "text": [
      "✅ Сохранён чанк: content/films/recommendations/recommendation_chunks/recs_chunk_200000_202000.dll\n"
     ]
    },
    {
     "name": "stderr",
     "output_type": "stream",
     "text": [
      "Сохраняем чанки:  61%|██████████████████████████████████████████████████████████████████████████████████████████████████████████████████████████████████████████████████████████▊                                                                                                 | 102/166 [17:52<12:22, 11.60s/it]"
     ]
    },
    {
     "name": "stdout",
     "output_type": "stream",
     "text": [
      "✅ Сохранён чанк: content/films/recommendations/recommendation_chunks/recs_chunk_202000_204000.dll\n"
     ]
    },
    {
     "name": "stderr",
     "output_type": "stream",
     "text": [
      "Сохраняем чанки:  62%|████████████████████████████████████████████████████████████████████████████████████████████████████████████████████████████████████████████████████████████▎                                                                                               | 103/166 [18:03<12:10, 11.60s/it]"
     ]
    },
    {
     "name": "stdout",
     "output_type": "stream",
     "text": [
      "✅ Сохранён чанк: content/films/recommendations/recommendation_chunks/recs_chunk_204000_206000.dll\n"
     ]
    },
    {
     "name": "stderr",
     "output_type": "stream",
     "text": [
      "Сохраняем чанки:  63%|█████████████████████████████████████████████████████████████████████████████████████████████████████████████████████████████████████████████████████████████▉                                                                                              | 104/166 [18:15<11:54, 11.52s/it]"
     ]
    },
    {
     "name": "stdout",
     "output_type": "stream",
     "text": [
      "✅ Сохранён чанк: content/films/recommendations/recommendation_chunks/recs_chunk_206000_208000.dll\n"
     ]
    },
    {
     "name": "stderr",
     "output_type": "stream",
     "text": [
      "Сохраняем чанки:  63%|███████████████████████████████████████████████████████████████████████████████████████████████████████████████████████████████████████████████████████████████▍                                                                                            | 105/166 [18:26<11:47, 11.59s/it]"
     ]
    },
    {
     "name": "stdout",
     "output_type": "stream",
     "text": [
      "✅ Сохранён чанк: content/films/recommendations/recommendation_chunks/recs_chunk_208000_210000.dll\n"
     ]
    },
    {
     "name": "stderr",
     "output_type": "stream",
     "text": [
      "Сохраняем чанки:  64%|████████████████████████████████████████████████████████████████████████████████████████████████████████████████████████████████████████████████████████████████▉                                                                                           | 106/166 [18:38<11:41, 11.70s/it]"
     ]
    },
    {
     "name": "stdout",
     "output_type": "stream",
     "text": [
      "✅ Сохранён чанк: content/films/recommendations/recommendation_chunks/recs_chunk_210000_212000.dll\n"
     ]
    },
    {
     "name": "stderr",
     "output_type": "stream",
     "text": [
      "Сохраняем чанки:  64%|██████████████████████████████████████████████████████████████████████████████████████████████████████████████████████████████████████████████████████████████████▍                                                                                         | 107/166 [18:50<11:28, 11.67s/it]"
     ]
    },
    {
     "name": "stdout",
     "output_type": "stream",
     "text": [
      "✅ Сохранён чанк: content/films/recommendations/recommendation_chunks/recs_chunk_212000_214000.dll\n"
     ]
    },
    {
     "name": "stderr",
     "output_type": "stream",
     "text": [
      "Сохраняем чанки:  65%|███████████████████████████████████████████████████████████████████████████████████████████████████████████████████████████████████████████████████████████████████▉                                                                                        | 108/166 [19:02<11:17, 11.68s/it]"
     ]
    },
    {
     "name": "stdout",
     "output_type": "stream",
     "text": [
      "✅ Сохранён чанк: content/films/recommendations/recommendation_chunks/recs_chunk_214000_216000.dll\n"
     ]
    },
    {
     "name": "stderr",
     "output_type": "stream",
     "text": [
      "Сохраняем чанки:  66%|█████████████████████████████████████████████████████████████████████████████████████████████████████████████████████████████████████████████████████████████████████▍                                                                                      | 109/166 [19:13<11:06, 11.69s/it]"
     ]
    },
    {
     "name": "stdout",
     "output_type": "stream",
     "text": [
      "✅ Сохранён чанк: content/films/recommendations/recommendation_chunks/recs_chunk_216000_218000.dll\n"
     ]
    },
    {
     "name": "stderr",
     "output_type": "stream",
     "text": [
      "Сохраняем чанки:  66%|██████████████████████████████████████████████████████████████████████████████████████████████████████████████████████████████████████████████████████████████████████▉                                                                                     | 110/166 [19:25<10:55, 11.70s/it]"
     ]
    },
    {
     "name": "stdout",
     "output_type": "stream",
     "text": [
      "✅ Сохранён чанк: content/films/recommendations/recommendation_chunks/recs_chunk_218000_220000.dll\n"
     ]
    },
    {
     "name": "stderr",
     "output_type": "stream",
     "text": [
      "Сохраняем чанки:  67%|████████████████████████████████████████████████████████████████████████████████████████████████████████████████████████████████████████████████████████████████████████▌                                                                                   | 111/166 [19:37<10:53, 11.89s/it]"
     ]
    },
    {
     "name": "stdout",
     "output_type": "stream",
     "text": [
      "✅ Сохранён чанк: content/films/recommendations/recommendation_chunks/recs_chunk_220000_222000.dll\n"
     ]
    },
    {
     "name": "stderr",
     "output_type": "stream",
     "text": [
      "Сохраняем чанки:  67%|██████████████████████████████████████████████████████████████████████████████████████████████████████████████████████████████████████████████████████████████████████████                                                                                  | 112/166 [19:49<10:42, 11.90s/it]"
     ]
    },
    {
     "name": "stdout",
     "output_type": "stream",
     "text": [
      "✅ Сохранён чанк: content/films/recommendations/recommendation_chunks/recs_chunk_222000_224000.dll\n"
     ]
    },
    {
     "name": "stderr",
     "output_type": "stream",
     "text": [
      "Сохраняем чанки:  68%|███████████████████████████████████████████████████████████████████████████████████████████████████████████████████████████████████████████████████████████████████████████▌                                                                                | 113/166 [20:01<10:26, 11.83s/it]"
     ]
    },
    {
     "name": "stdout",
     "output_type": "stream",
     "text": [
      "✅ Сохранён чанк: content/films/recommendations/recommendation_chunks/recs_chunk_224000_226000.dll\n"
     ]
    },
    {
     "name": "stderr",
     "output_type": "stream",
     "text": [
      "Сохраняем чанки:  69%|█████████████████████████████████████████████████████████████████████████████████████████████████████████████████████████████████████████████████████████████████████████████                                                                               | 114/166 [20:13<10:23, 11.99s/it]"
     ]
    },
    {
     "name": "stdout",
     "output_type": "stream",
     "text": [
      "✅ Сохранён чанк: content/films/recommendations/recommendation_chunks/recs_chunk_226000_228000.dll\n"
     ]
    },
    {
     "name": "stderr",
     "output_type": "stream",
     "text": [
      "Сохраняем чанки:  69%|██████████████████████████████████████████████████████████████████████████████████████████████████████████████████████████████████████████████████████████████████████████████▌                                                                             | 115/166 [20:25<10:12, 12.02s/it]"
     ]
    },
    {
     "name": "stdout",
     "output_type": "stream",
     "text": [
      "✅ Сохранён чанк: content/films/recommendations/recommendation_chunks/recs_chunk_228000_230000.dll\n"
     ]
    },
    {
     "name": "stderr",
     "output_type": "stream",
     "text": [
      "Сохраняем чанки:  70%|████████████████████████████████████████████████████████████████████████████████████████████████████████████████████████████████████████████████████████████████████████████████                                                                            | 116/166 [20:37<09:55, 11.91s/it]"
     ]
    },
    {
     "name": "stdout",
     "output_type": "stream",
     "text": [
      "✅ Сохранён чанк: content/films/recommendations/recommendation_chunks/recs_chunk_230000_232000.dll\n"
     ]
    },
    {
     "name": "stderr",
     "output_type": "stream",
     "text": [
      "Сохраняем чанки:  70%|█████████████████████████████████████████████████████████████████████████████████████████████████████████████████████████████████████████████████████████████████████████████████▌                                                                          | 117/166 [20:49<09:42, 11.88s/it]"
     ]
    },
    {
     "name": "stdout",
     "output_type": "stream",
     "text": [
      "✅ Сохранён чанк: content/films/recommendations/recommendation_chunks/recs_chunk_232000_234000.dll\n"
     ]
    },
    {
     "name": "stderr",
     "output_type": "stream",
     "text": [
      "Сохраняем чанки:  71%|███████████████████████████████████████████████████████████████████████████████████████████████████████████████████████████████████████████████████████████████████████████████████▏                                                                        | 118/166 [21:01<09:25, 11.79s/it]"
     ]
    },
    {
     "name": "stdout",
     "output_type": "stream",
     "text": [
      "✅ Сохранён чанк: content/films/recommendations/recommendation_chunks/recs_chunk_234000_236000.dll\n"
     ]
    },
    {
     "name": "stderr",
     "output_type": "stream",
     "text": [
      "Сохраняем чанки:  72%|████████████████████████████████████████████████████████████████████████████████████████████████████████████████████████████████████████████████████████████████████████████████████▋                                                                       | 119/166 [21:12<09:15, 11.83s/it]"
     ]
    },
    {
     "name": "stdout",
     "output_type": "stream",
     "text": [
      "✅ Сохранён чанк: content/films/recommendations/recommendation_chunks/recs_chunk_236000_238000.dll\n"
     ]
    },
    {
     "name": "stderr",
     "output_type": "stream",
     "text": [
      "Сохраняем чанки:  72%|██████████████████████████████████████████████████████████████████████████████████████████████████████████████████████████████████████████████████████████████████████████████████████▏                                                                     | 120/166 [21:24<08:59, 11.72s/it]"
     ]
    },
    {
     "name": "stdout",
     "output_type": "stream",
     "text": [
      "✅ Сохранён чанк: content/films/recommendations/recommendation_chunks/recs_chunk_238000_240000.dll\n"
     ]
    },
    {
     "name": "stderr",
     "output_type": "stream",
     "text": [
      "Сохраняем чанки:  73%|███████████████████████████████████████████████████████████████████████████████████████████████████████████████████████████████████████████████████████████████████████████████████████▋                                                                    | 121/166 [21:36<08:51, 11.82s/it]"
     ]
    },
    {
     "name": "stdout",
     "output_type": "stream",
     "text": [
      "✅ Сохранён чанк: content/films/recommendations/recommendation_chunks/recs_chunk_240000_242000.dll\n"
     ]
    },
    {
     "name": "stderr",
     "output_type": "stream",
     "text": [
      "Сохраняем чанки:  73%|█████████████████████████████████████████████████████████████████████████████████████████████████████████████████████████████████████████████████████████████████████████████████████████▏                                                                  | 122/166 [21:47<08:33, 11.68s/it]"
     ]
    },
    {
     "name": "stdout",
     "output_type": "stream",
     "text": [
      "✅ Сохранён чанк: content/films/recommendations/recommendation_chunks/recs_chunk_242000_244000.dll\n"
     ]
    },
    {
     "name": "stderr",
     "output_type": "stream",
     "text": [
      "Сохраняем чанки:  74%|██████████████████████████████████████████████████████████████████████████████████████████████████████████████████████████████████████████████████████████████████████████████████████████▋                                                                 | 123/166 [21:59<08:24, 11.73s/it]"
     ]
    },
    {
     "name": "stdout",
     "output_type": "stream",
     "text": [
      "✅ Сохранён чанк: content/films/recommendations/recommendation_chunks/recs_chunk_244000_246000.dll\n"
     ]
    },
    {
     "name": "stderr",
     "output_type": "stream",
     "text": [
      "Сохраняем чанки:  75%|████████████████████████████████████████████████████████████████████████████████████████████████████████████████████████████████████████████████████████████████████████████████████████████▏                                                               | 124/166 [22:11<08:17, 11.84s/it]"
     ]
    },
    {
     "name": "stdout",
     "output_type": "stream",
     "text": [
      "✅ Сохранён чанк: content/films/recommendations/recommendation_chunks/recs_chunk_246000_248000.dll\n"
     ]
    },
    {
     "name": "stderr",
     "output_type": "stream",
     "text": [
      "Сохраняем чанки:  75%|█████████████████████████████████████████████████████████████████████████████████████████████████████████████████████████████████████████████████████████████████████████████████████████████▊                                                              | 125/166 [22:23<08:02, 11.77s/it]"
     ]
    },
    {
     "name": "stdout",
     "output_type": "stream",
     "text": [
      "✅ Сохранён чанк: content/films/recommendations/recommendation_chunks/recs_chunk_248000_250000.dll\n"
     ]
    },
    {
     "name": "stderr",
     "output_type": "stream",
     "text": [
      "Сохраняем чанки:  76%|███████████████████████████████████████████████████████████████████████████████████████████████████████████████████████████████████████████████████████████████████████████████████████████████▎                                                            | 126/166 [22:35<07:52, 11.81s/it]"
     ]
    },
    {
     "name": "stdout",
     "output_type": "stream",
     "text": [
      "✅ Сохранён чанк: content/films/recommendations/recommendation_chunks/recs_chunk_250000_252000.dll\n"
     ]
    },
    {
     "name": "stderr",
     "output_type": "stream",
     "text": [
      "Сохраняем чанки:  77%|████████████████████████████████████████████████████████████████████████████████████████████████████████████████████████████████████████████████████████████████████████████████████████████████▊                                                           | 127/166 [22:46<07:35, 11.69s/it]"
     ]
    },
    {
     "name": "stdout",
     "output_type": "stream",
     "text": [
      "✅ Сохранён чанк: content/films/recommendations/recommendation_chunks/recs_chunk_252000_254000.dll\n"
     ]
    },
    {
     "name": "stderr",
     "output_type": "stream",
     "text": [
      "Сохраняем чанки:  77%|██████████████████████████████████████████████████████████████████████████████████████████████████████████████████████████████████████████████████████████████████████████████████████████████████▎                                                         | 128/166 [22:58<07:29, 11.84s/it]"
     ]
    },
    {
     "name": "stdout",
     "output_type": "stream",
     "text": [
      "✅ Сохранён чанк: content/films/recommendations/recommendation_chunks/recs_chunk_254000_256000.dll\n"
     ]
    },
    {
     "name": "stderr",
     "output_type": "stream",
     "text": [
      "Сохраняем чанки:  78%|███████████████████████████████████████████████████████████████████████████████████████████████████████████████████████████████████████████████████████████████████████████████████████████████████▊                                                        | 129/166 [23:10<07:17, 11.82s/it]"
     ]
    },
    {
     "name": "stdout",
     "output_type": "stream",
     "text": [
      "✅ Сохранён чанк: content/films/recommendations/recommendation_chunks/recs_chunk_256000_258000.dll\n"
     ]
    },
    {
     "name": "stderr",
     "output_type": "stream",
     "text": [
      "Сохраняем чанки:  78%|█████████████████████████████████████████████████████████████████████████████████████████████████████████████████████████████████████████████████████████████████████████████████████████████████████▎                                                      | 130/166 [23:22<07:02, 11.73s/it]"
     ]
    },
    {
     "name": "stdout",
     "output_type": "stream",
     "text": [
      "✅ Сохранён чанк: content/films/recommendations/recommendation_chunks/recs_chunk_258000_260000.dll\n"
     ]
    },
    {
     "name": "stderr",
     "output_type": "stream",
     "text": [
      "Сохраняем чанки:  79%|██████████████████████████████████████████████████████████████████████████████████████████████████████████████████████████████████████████████████████████████████████████████████████████████████████▊                                                     | 131/166 [23:33<06:50, 11.73s/it]"
     ]
    },
    {
     "name": "stdout",
     "output_type": "stream",
     "text": [
      "✅ Сохранён чанк: content/films/recommendations/recommendation_chunks/recs_chunk_260000_262000.dll\n"
     ]
    },
    {
     "name": "stderr",
     "output_type": "stream",
     "text": [
      "Сохраняем чанки:  80%|████████████████████████████████████████████████████████████████████████████████████████████████████████████████████████████████████████████████████████████████████████████████████████████████████████▍                                                   | 132/166 [23:45<06:33, 11.56s/it]"
     ]
    },
    {
     "name": "stdout",
     "output_type": "stream",
     "text": [
      "✅ Сохранён чанк: content/films/recommendations/recommendation_chunks/recs_chunk_262000_264000.dll\n"
     ]
    },
    {
     "name": "stderr",
     "output_type": "stream",
     "text": [
      "Сохраняем чанки:  80%|█████████████████████████████████████████████████████████████████████████████████████████████████████████████████████████████████████████████████████████████████████████████████████████████████████████▉                                                  | 133/166 [23:56<06:23, 11.62s/it]"
     ]
    },
    {
     "name": "stdout",
     "output_type": "stream",
     "text": [
      "✅ Сохранён чанк: content/films/recommendations/recommendation_chunks/recs_chunk_264000_266000.dll\n"
     ]
    },
    {
     "name": "stderr",
     "output_type": "stream",
     "text": [
      "Сохраняем чанки:  81%|███████████████████████████████████████████████████████████████████████████████████████████████████████████████████████████████████████████████████████████████████████████████████████████████████████████▍                                                | 134/166 [24:08<06:15, 11.74s/it]"
     ]
    },
    {
     "name": "stdout",
     "output_type": "stream",
     "text": [
      "✅ Сохранён чанк: content/films/recommendations/recommendation_chunks/recs_chunk_266000_268000.dll\n"
     ]
    },
    {
     "name": "stderr",
     "output_type": "stream",
     "text": [
      "Сохраняем чанки:  81%|████████████████████████████████████████████████████████████████████████████████████████████████████████████████████████████████████████████████████████████████████████████████████████████████████████████▉                                               | 135/166 [24:20<06:05, 11.78s/it]"
     ]
    },
    {
     "name": "stdout",
     "output_type": "stream",
     "text": [
      "✅ Сохранён чанк: content/films/recommendations/recommendation_chunks/recs_chunk_268000_270000.dll\n"
     ]
    },
    {
     "name": "stderr",
     "output_type": "stream",
     "text": [
      "Сохраняем чанки:  82%|██████████████████████████████████████████████████████████████████████████████████████████████████████████████████████████████████████████████████████████████████████████████████████████████████████████████▍                                             | 136/166 [24:32<05:54, 11.80s/it]"
     ]
    },
    {
     "name": "stdout",
     "output_type": "stream",
     "text": [
      "✅ Сохранён чанк: content/films/recommendations/recommendation_chunks/recs_chunk_270000_272000.dll\n"
     ]
    },
    {
     "name": "stderr",
     "output_type": "stream",
     "text": [
      "Сохраняем чанки:  83%|███████████████████████████████████████████████████████████████████████████████████████████████████████████████████████████████████████████████████████████████████████████████████████████████████████████████▉                                            | 137/166 [24:44<05:40, 11.75s/it]"
     ]
    },
    {
     "name": "stdout",
     "output_type": "stream",
     "text": [
      "✅ Сохранён чанк: content/films/recommendations/recommendation_chunks/recs_chunk_272000_274000.dll\n"
     ]
    },
    {
     "name": "stderr",
     "output_type": "stream",
     "text": [
      "Сохраняем чанки:  83%|█████████████████████████████████████████████████████████████████████████████████████████████████████████████████████████████████████████████████████████████████████████████████████████████████████████████████▍                                          | 138/166 [24:55<05:28, 11.74s/it]"
     ]
    },
    {
     "name": "stdout",
     "output_type": "stream",
     "text": [
      "✅ Сохранён чанк: content/films/recommendations/recommendation_chunks/recs_chunk_274000_276000.dll\n"
     ]
    },
    {
     "name": "stderr",
     "output_type": "stream",
     "text": [
      "Сохраняем чанки:  84%|███████████████████████████████████████████████████████████████████████████████████████████████████████████████████████████████████████████████████████████████████████████████████████████████████████████████████                                         | 139/166 [25:07<05:15, 11.70s/it]"
     ]
    },
    {
     "name": "stdout",
     "output_type": "stream",
     "text": [
      "✅ Сохранён чанк: content/films/recommendations/recommendation_chunks/recs_chunk_276000_278000.dll\n"
     ]
    },
    {
     "name": "stderr",
     "output_type": "stream",
     "text": [
      "Сохраняем чанки:  84%|████████████████████████████████████████████████████████████████████████████████████████████████████████████████████████████████████████████████████████████████████████████████████████████████████████████████████▌                                       | 140/166 [25:19<05:03, 11.66s/it]"
     ]
    },
    {
     "name": "stdout",
     "output_type": "stream",
     "text": [
      "✅ Сохранён чанк: content/films/recommendations/recommendation_chunks/recs_chunk_278000_280000.dll\n"
     ]
    },
    {
     "name": "stderr",
     "output_type": "stream",
     "text": [
      "Сохраняем чанки:  85%|██████████████████████████████████████████████████████████████████████████████████████████████████████████████████████████████████████████████████████████████████████████████████████████████████████████████████████                                      | 141/166 [25:30<04:50, 11.63s/it]"
     ]
    },
    {
     "name": "stdout",
     "output_type": "stream",
     "text": [
      "✅ Сохранён чанк: content/films/recommendations/recommendation_chunks/recs_chunk_280000_282000.dll\n"
     ]
    },
    {
     "name": "stderr",
     "output_type": "stream",
     "text": [
      "Сохраняем чанки:  86%|███████████████████████████████████████████████████████████████████████████████████████████████████████████████████████████████████████████████████████████████████████████████████████████████████████████████████████▌                                    | 142/166 [25:42<04:43, 11.80s/it]"
     ]
    },
    {
     "name": "stdout",
     "output_type": "stream",
     "text": [
      "✅ Сохранён чанк: content/films/recommendations/recommendation_chunks/recs_chunk_282000_284000.dll\n"
     ]
    },
    {
     "name": "stderr",
     "output_type": "stream",
     "text": [
      "Сохраняем чанки:  86%|█████████████████████████████████████████████████████████████████████████████████████████████████████████████████████████████████████████████████████████████████████████████████████████████████████████████████████████                                   | 143/166 [25:54<04:30, 11.78s/it]"
     ]
    },
    {
     "name": "stdout",
     "output_type": "stream",
     "text": [
      "✅ Сохранён чанк: content/films/recommendations/recommendation_chunks/recs_chunk_284000_286000.dll\n"
     ]
    },
    {
     "name": "stderr",
     "output_type": "stream",
     "text": [
      "Сохраняем чанки:  87%|██████████████████████████████████████████████████████████████████████████████████████████████████████████████████████████████████████████████████████████████████████████████████████████████████████████████████████████▌                                 | 144/166 [26:06<04:22, 11.92s/it]"
     ]
    },
    {
     "name": "stdout",
     "output_type": "stream",
     "text": [
      "✅ Сохранён чанк: content/films/recommendations/recommendation_chunks/recs_chunk_286000_288000.dll\n"
     ]
    },
    {
     "name": "stderr",
     "output_type": "stream",
     "text": [
      "Сохраняем чанки:  87%|████████████████████████████████████████████████████████████████████████████████████████████████████████████████████████████████████████████████████████████████████████████████████████████████████████████████████████████                                | 145/166 [26:18<04:07, 11.79s/it]"
     ]
    },
    {
     "name": "stdout",
     "output_type": "stream",
     "text": [
      "✅ Сохранён чанк: content/films/recommendations/recommendation_chunks/recs_chunk_288000_290000.dll\n"
     ]
    },
    {
     "name": "stderr",
     "output_type": "stream",
     "text": [
      "Сохраняем чанки:  88%|█████████████████████████████████████████████████████████████████████████████████████████████████████████████████████████████████████████████████████████████████████████████████████████████████████████████████████████████▋                              | 146/166 [26:30<03:55, 11.78s/it]"
     ]
    },
    {
     "name": "stdout",
     "output_type": "stream",
     "text": [
      "✅ Сохранён чанк: content/films/recommendations/recommendation_chunks/recs_chunk_290000_292000.dll\n"
     ]
    },
    {
     "name": "stderr",
     "output_type": "stream",
     "text": [
      "Сохраняем чанки:  89%|███████████████████████████████████████████████████████████████████████████████████████████████████████████████████████████████████████████████████████████████████████████████████████████████████████████████████████████████▏                            | 147/166 [26:41<03:44, 11.79s/it]"
     ]
    },
    {
     "name": "stdout",
     "output_type": "stream",
     "text": [
      "✅ Сохранён чанк: content/films/recommendations/recommendation_chunks/recs_chunk_292000_294000.dll\n"
     ]
    },
    {
     "name": "stderr",
     "output_type": "stream",
     "text": [
      "Сохраняем чанки:  89%|████████████████████████████████████████████████████████████████████████████████████████████████████████████████████████████████████████████████████████████████████████████████████████████████████████████████████████████████▋                           | 148/166 [26:53<03:32, 11.80s/it]"
     ]
    },
    {
     "name": "stdout",
     "output_type": "stream",
     "text": [
      "✅ Сохранён чанк: content/films/recommendations/recommendation_chunks/recs_chunk_294000_296000.dll\n"
     ]
    },
    {
     "name": "stderr",
     "output_type": "stream",
     "text": [
      "Сохраняем чанки:  90%|██████████████████████████████████████████████████████████████████████████████████████████████████████████████████████████████████████████████████████████████████████████████████████████████████████████████████████████████████▏                         | 149/166 [27:05<03:20, 11.82s/it]"
     ]
    },
    {
     "name": "stdout",
     "output_type": "stream",
     "text": [
      "✅ Сохранён чанк: content/films/recommendations/recommendation_chunks/recs_chunk_296000_298000.dll\n"
     ]
    },
    {
     "name": "stderr",
     "output_type": "stream",
     "text": [
      "Сохраняем чанки:  90%|███████████████████████████████████████████████████████████████████████████████████████████████████████████████████████████████████████████████████████████████████████████████████████████████████████████████████████████████████▋                        | 150/166 [27:17<03:09, 11.86s/it]"
     ]
    },
    {
     "name": "stdout",
     "output_type": "stream",
     "text": [
      "✅ Сохранён чанк: content/films/recommendations/recommendation_chunks/recs_chunk_298000_300000.dll\n"
     ]
    },
    {
     "name": "stderr",
     "output_type": "stream",
     "text": [
      "Сохраняем чанки:  91%|█████████████████████████████████████████████████████████████████████████████████████████████████████████████████████████████████████████████████████████████████████████████████████████████████████████████████████████████████████▏                      | 151/166 [27:29<02:57, 11.86s/it]"
     ]
    },
    {
     "name": "stdout",
     "output_type": "stream",
     "text": [
      "✅ Сохранён чанк: content/films/recommendations/recommendation_chunks/recs_chunk_300000_302000.dll\n"
     ]
    },
    {
     "name": "stderr",
     "output_type": "stream",
     "text": [
      "Сохраняем чанки:  92%|██████████████████████████████████████████████████████████████████████████████████████████████████████████████████████████████████████████████████████████████████████████████████████████████████████████████████████████████████████▋                     | 152/166 [27:41<02:47, 11.94s/it]"
     ]
    },
    {
     "name": "stdout",
     "output_type": "stream",
     "text": [
      "✅ Сохранён чанк: content/films/recommendations/recommendation_chunks/recs_chunk_302000_304000.dll\n"
     ]
    },
    {
     "name": "stderr",
     "output_type": "stream",
     "text": [
      "Сохраняем чанки:  92%|████████████████████████████████████████████████████████████████████████████████████████████████████████████████████████████████████████████████████████████████████████████████████████████████████████████████████████████████████████▎                   | 153/166 [27:53<02:34, 11.86s/it]"
     ]
    },
    {
     "name": "stdout",
     "output_type": "stream",
     "text": [
      "✅ Сохранён чанк: content/films/recommendations/recommendation_chunks/recs_chunk_304000_306000.dll\n"
     ]
    },
    {
     "name": "stderr",
     "output_type": "stream",
     "text": [
      "Сохраняем чанки:  93%|█████████████████████████████████████████████████████████████████████████████████████████████████████████████████████████████████████████████████████████████████████████████████████████████████████████████████████████████████████████▊                  | 154/166 [28:05<02:23, 11.97s/it]"
     ]
    },
    {
     "name": "stdout",
     "output_type": "stream",
     "text": [
      "✅ Сохранён чанк: content/films/recommendations/recommendation_chunks/recs_chunk_306000_308000.dll\n"
     ]
    },
    {
     "name": "stderr",
     "output_type": "stream",
     "text": [
      "Сохраняем чанки:  93%|███████████████████████████████████████████████████████████████████████████████████████████████████████████████████████████████████████████████████████████████████████████████████████████████████████████████████████████████████████████▎                | 155/166 [28:16<02:09, 11.81s/it]"
     ]
    },
    {
     "name": "stdout",
     "output_type": "stream",
     "text": [
      "✅ Сохранён чанк: content/films/recommendations/recommendation_chunks/recs_chunk_308000_310000.dll\n"
     ]
    },
    {
     "name": "stderr",
     "output_type": "stream",
     "text": [
      "Сохраняем чанки:  94%|████████████████████████████████████████████████████████████████████████████████████████████████████████████████████████████████████████████████████████████████████████████████████████████████████████████████████████████████████████████▊               | 156/166 [28:28<01:58, 11.82s/it]"
     ]
    },
    {
     "name": "stdout",
     "output_type": "stream",
     "text": [
      "✅ Сохранён чанк: content/films/recommendations/recommendation_chunks/recs_chunk_310000_312000.dll\n"
     ]
    },
    {
     "name": "stderr",
     "output_type": "stream",
     "text": [
      "Сохраняем чанки:  95%|██████████████████████████████████████████████████████████████████████████████████████████████████████████████████████████████████████████████████████████████████████████████████████████████████████████████████████████████████████████████▎             | 157/166 [28:40<01:46, 11.86s/it]"
     ]
    },
    {
     "name": "stdout",
     "output_type": "stream",
     "text": [
      "✅ Сохранён чанк: content/films/recommendations/recommendation_chunks/recs_chunk_312000_314000.dll\n"
     ]
    },
    {
     "name": "stderr",
     "output_type": "stream",
     "text": [
      "Сохраняем чанки:  95%|███████████████████████████████████████████████████████████████████████████████████████████████████████████████████████████████████████████████████████████████████████████████████████████████████████████████████████████████████████████████▊            | 158/166 [28:52<01:34, 11.84s/it]"
     ]
    },
    {
     "name": "stdout",
     "output_type": "stream",
     "text": [
      "✅ Сохранён чанк: content/films/recommendations/recommendation_chunks/recs_chunk_314000_316000.dll\n"
     ]
    },
    {
     "name": "stderr",
     "output_type": "stream",
     "text": [
      "Сохраняем чанки:  96%|█████████████████████████████████████████████████████████████████████████████████████████████████████████████████████████████████████████████████████████████████████████████████████████████████████████████████████████████████████████████████▎          | 159/166 [29:04<01:22, 11.76s/it]"
     ]
    },
    {
     "name": "stdout",
     "output_type": "stream",
     "text": [
      "✅ Сохранён чанк: content/films/recommendations/recommendation_chunks/recs_chunk_316000_318000.dll\n"
     ]
    },
    {
     "name": "stderr",
     "output_type": "stream",
     "text": [
      "Сохраняем чанки:  96%|██████████████████████████████████████████████████████████████████████████████████████████████████████████████████████████████████████████████████████████████████████████████████████████████████████████████████████████████████████████████████▉         | 160/166 [29:15<01:10, 11.82s/it]"
     ]
    },
    {
     "name": "stdout",
     "output_type": "stream",
     "text": [
      "✅ Сохранён чанк: content/films/recommendations/recommendation_chunks/recs_chunk_318000_320000.dll\n"
     ]
    },
    {
     "name": "stderr",
     "output_type": "stream",
     "text": [
      "Сохраняем чанки:  97%|████████████████████████████████████████████████████████████████████████████████████████████████████████████████████████████████████████████████████████████████████████████████████████████████████████████████████████████████████████████████████▍       | 161/166 [29:27<00:58, 11.73s/it]"
     ]
    },
    {
     "name": "stdout",
     "output_type": "stream",
     "text": [
      "✅ Сохранён чанк: content/films/recommendations/recommendation_chunks/recs_chunk_320000_322000.dll\n"
     ]
    },
    {
     "name": "stderr",
     "output_type": "stream",
     "text": [
      "Сохраняем чанки:  98%|█████████████████████████████████████████████████████████████████████████████████████████████████████████████████████████████████████████████████████████████████████████████████████████████████████████████████████████████████████████████████████▉      | 162/166 [29:39<00:47, 11.81s/it]"
     ]
    },
    {
     "name": "stdout",
     "output_type": "stream",
     "text": [
      "✅ Сохранён чанк: content/films/recommendations/recommendation_chunks/recs_chunk_322000_324000.dll\n"
     ]
    },
    {
     "name": "stderr",
     "output_type": "stream",
     "text": [
      "Сохраняем чанки:  98%|███████████████████████████████████████████████████████████████████████████████████████████████████████████████████████████████████████████████████████████████████████████████████████████████████████████████████████████████████████████████████████▍    | 163/166 [29:51<00:35, 11.77s/it]"
     ]
    },
    {
     "name": "stdout",
     "output_type": "stream",
     "text": [
      "✅ Сохранён чанк: content/films/recommendations/recommendation_chunks/recs_chunk_324000_326000.dll\n"
     ]
    },
    {
     "name": "stderr",
     "output_type": "stream",
     "text": [
      "Сохраняем чанки:  99%|████████████████████████████████████████████████████████████████████████████████████████████████████████████████████████████████████████████████████████████████████████████████████████████████████████████████████████████████████████████████████████▉   | 164/166 [30:02<00:23, 11.77s/it]"
     ]
    },
    {
     "name": "stdout",
     "output_type": "stream",
     "text": [
      "✅ Сохранён чанк: content/films/recommendations/recommendation_chunks/recs_chunk_326000_328000.dll\n"
     ]
    },
    {
     "name": "stderr",
     "output_type": "stream",
     "text": [
      "Сохраняем чанки:  99%|██████████████████████████████████████████████████████████████████████████████████████████████████████████████████████████████████████████████████████████████████████████████████████████████████████████████████████████████████████████████████████████▍ | 165/166 [30:14<00:11, 11.84s/it]"
     ]
    },
    {
     "name": "stdout",
     "output_type": "stream",
     "text": [
      "✅ Сохранён чанк: content/films/recommendations/recommendation_chunks/recs_chunk_328000_330000.dll\n"
     ]
    },
    {
     "name": "stderr",
     "output_type": "stream",
     "text": [
      "Сохраняем чанки: 100%|████████████████████████████████████████████████████████████████████████████████████████████████████████████████████████████████████████████████████████████████████████████████████████████████████████████████████████████████████████████████████████████| 166/166 [30:21<00:00, 10.97s/it]"
     ]
    },
    {
     "name": "stdout",
     "output_type": "stream",
     "text": [
      "✅ Сохранён чанк: content/films/recommendations/recommendation_chunks/recs_chunk_330000_330975.dll\n",
      "🎉 Все чанки успешно сохранены.\n"
     ]
    },
    {
     "name": "stderr",
     "output_type": "stream",
     "text": [
      "\n"
     ]
    }
   ],
   "source": [
    "save_recommendation_chunks(user_factors, item_factors, chunk_size=2000, top_n=100)"
   ]
  },
  {
   "cell_type": "code",
   "execution_count": 66,
   "id": "21d4a558-7731-41e0-8e56-efe24c57bc5f",
   "metadata": {},
   "outputs": [],
   "source": [
    "def merge_all_chunks(directory=\"content/films/recommendations/recommendation_chunks\", output_file=\"content/films/recommendations/recommendation_chunks/all_recommendations.dll\"):\n",
    "    all_recs = {}\n",
    "\n",
    "    chunk_files = sorted(glob.glob(f\"{directory}/recs_chunk_*.dll\"))  # Обновили путь к файлам с расширением .dll\n",
    "\n",
    "    for file in chunk_files:\n",
    "        with open(file, \"rb\") as f:\n",
    "            chunk_data = dill.load(f)  # Используем dill для загрузки\n",
    "            # print(f\"Загружен чанк: {file}, размер данных: {len(chunk_data)}\")  # Печатаем информацию о чанке\n",
    "            # print(f\"Тип данных в чанке: {type(chunk_data)}\")  # Выводим тип данных\n",
    "\n",
    "            # Проверяем, что в чанке - словарь\n",
    "            if isinstance(chunk_data, dict):\n",
    "                # # Выводим только первые 5 ключей и значений словаря для проверки\n",
    "                # print(f\"Пример данных в чанке (первые 5): {list(chunk_data.items())[:5]}\")\n",
    "\n",
    "                # Обновляем all_recs\n",
    "                all_recs.update(chunk_data)  # Объединяем словари\n",
    "            else:\n",
    "                print(f\"Ожидался словарь, но найдено: {type(chunk_data)}\")  # Выводим ошибку, если не словарь\n",
    "\n",
    "    # Сохраняем все данные в один файл\n",
    "    with open(output_file, \"wb\") as f:  # Открываем файл для записи в бинарном формате\n",
    "        dill.dump(all_recs, f)  # Используем dill для сохранения\n",
    "\n",
    "    print(f\"[✔] Все чанки объединены в: {output_file}\")"
   ]
  },
  {
   "cell_type": "code",
   "execution_count": 67,
   "id": "e3596fd6-1c04-43e3-b6e8-66a786092613",
   "metadata": {
    "scrolled": true
   },
   "outputs": [
    {
     "name": "stdout",
     "output_type": "stream",
     "text": [
      "[✔] Все чанки объединены в: content/films/recommendations/recommendation_chunks/all_recommendations.dll\n"
     ]
    }
   ],
   "source": [
    "merge_all_chunks()  # Объединяем чанки один раз"
   ]
  },
  {
   "cell_type": "code",
   "execution_count": 63,
   "id": "e650994c-58fe-4ac9-952d-ba95b7e90226",
   "metadata": {},
   "outputs": [],
   "source": [
    "def get_recommendations(user_id, top_n=10, combined_file=\"content/films/recommendations/recommendation_chunks/all_recommendations.dll\"):\n",
    "    # Получаем индекс пользователя, закодировав его\n",
    "    user_idx = user_encoder.transform([user_id])[0]\n",
    "    \n",
    "    with open(combined_file, \"rb\") as f:  # Открываем файл с расширением .dll\n",
    "        all_recs = dill.load(f)  # Используем dill для загрузки\n",
    "\n",
    "    # Получаем рекомендации по индексу пользователя\n",
    "    recommended_ids = all_recs.get(user_idx, [])[:top_n]\n",
    "\n",
    "    # Раскодируем movieId обратно в оригинальные значения\n",
    "    recommended_movie_ids = item_encoder.inverse_transform(recommended_ids)\n",
    "    \n",
    "    # Создаем DataFrame с рекомендациями\n",
    "    recommended_movies_df = pd.DataFrame(recommended_movie_ids, columns=['movieId'])\n",
    "    \n",
    "    # Получаем дополнительные данные по фильмам (названия, жанры и т.д.)\n",
    "    recommended_movies_df = recommended_movies_df.merge(movies[['movieId', 'title', 'genres']], on='movieId', how='left')\n",
    "\n",
    "    return recommended_movies_df"
   ]
  },
  {
   "cell_type": "code",
   "execution_count": null,
   "id": "9622a542-d191-4c55-801e-b99107ab7607",
   "metadata": {},
   "outputs": [],
   "source": [
    "\n"
   ]
  },
  {
   "cell_type": "code",
   "execution_count": 65,
   "id": "6bd71c99-1398-4d8b-ac42-d292771b6377",
   "metadata": {
    "scrolled": true
   },
   "outputs": [
    {
     "data": {
      "text/html": [
       "<div>\n",
       "<style scoped>\n",
       "    .dataframe tbody tr th:only-of-type {\n",
       "        vertical-align: middle;\n",
       "    }\n",
       "\n",
       "    .dataframe tbody tr th {\n",
       "        vertical-align: top;\n",
       "    }\n",
       "\n",
       "    .dataframe thead th {\n",
       "        text-align: right;\n",
       "    }\n",
       "</style>\n",
       "<table border=\"1\" class=\"dataframe\">\n",
       "  <thead>\n",
       "    <tr style=\"text-align: right;\">\n",
       "      <th></th>\n",
       "      <th>movieId</th>\n",
       "      <th>title</th>\n",
       "      <th>genres</th>\n",
       "    </tr>\n",
       "  </thead>\n",
       "  <tbody>\n",
       "    <tr>\n",
       "      <th>0</th>\n",
       "      <td>4993</td>\n",
       "      <td>Lord of the Rings: The Fellowship of the Ring,...</td>\n",
       "      <td>Adventure|Fantasy</td>\n",
       "    </tr>\n",
       "    <tr>\n",
       "      <th>1</th>\n",
       "      <td>5952</td>\n",
       "      <td>Lord of the Rings: The Two Towers, The (2002)</td>\n",
       "      <td>Adventure|Fantasy</td>\n",
       "    </tr>\n",
       "    <tr>\n",
       "      <th>2</th>\n",
       "      <td>7153</td>\n",
       "      <td>Lord of the Rings: The Return of the King, The...</td>\n",
       "      <td>Action|Adventure|Drama|Fantasy</td>\n",
       "    </tr>\n",
       "    <tr>\n",
       "      <th>3</th>\n",
       "      <td>356</td>\n",
       "      <td>Forrest Gump (1994)</td>\n",
       "      <td>Comedy|Drama|Romance|War</td>\n",
       "    </tr>\n",
       "    <tr>\n",
       "      <th>4</th>\n",
       "      <td>260</td>\n",
       "      <td>Star Wars: Episode IV - A New Hope (1977)</td>\n",
       "      <td>Action|Adventure|Sci-Fi</td>\n",
       "    </tr>\n",
       "    <tr>\n",
       "      <th>5</th>\n",
       "      <td>1196</td>\n",
       "      <td>Star Wars: Episode V - The Empire Strikes Back...</td>\n",
       "      <td>Action|Adventure|Sci-Fi</td>\n",
       "    </tr>\n",
       "    <tr>\n",
       "      <th>6</th>\n",
       "      <td>1210</td>\n",
       "      <td>Star Wars: Episode VI - Return of the Jedi (1983)</td>\n",
       "      <td>Action|Adventure|Sci-Fi</td>\n",
       "    </tr>\n",
       "    <tr>\n",
       "      <th>7</th>\n",
       "      <td>2028</td>\n",
       "      <td>Saving Private Ryan (1998)</td>\n",
       "      <td>Action|Drama|War</td>\n",
       "    </tr>\n",
       "    <tr>\n",
       "      <th>8</th>\n",
       "      <td>110</td>\n",
       "      <td>Braveheart (1995)</td>\n",
       "      <td>Action|Drama|War</td>\n",
       "    </tr>\n",
       "    <tr>\n",
       "      <th>9</th>\n",
       "      <td>4306</td>\n",
       "      <td>Shrek (2001)</td>\n",
       "      <td>Adventure|Animation|Children|Comedy|Fantasy|Ro...</td>\n",
       "    </tr>\n",
       "  </tbody>\n",
       "</table>\n",
       "</div>"
      ],
      "text/plain": [
       "   movieId                                              title  \\\n",
       "0     4993  Lord of the Rings: The Fellowship of the Ring,...   \n",
       "1     5952      Lord of the Rings: The Two Towers, The (2002)   \n",
       "2     7153  Lord of the Rings: The Return of the King, The...   \n",
       "3      356                                Forrest Gump (1994)   \n",
       "4      260          Star Wars: Episode IV - A New Hope (1977)   \n",
       "5     1196  Star Wars: Episode V - The Empire Strikes Back...   \n",
       "6     1210  Star Wars: Episode VI - Return of the Jedi (1983)   \n",
       "7     2028                         Saving Private Ryan (1998)   \n",
       "8      110                                  Braveheart (1995)   \n",
       "9     4306                                       Shrek (2001)   \n",
       "\n",
       "                                              genres  \n",
       "0                                  Adventure|Fantasy  \n",
       "1                                  Adventure|Fantasy  \n",
       "2                     Action|Adventure|Drama|Fantasy  \n",
       "3                           Comedy|Drama|Romance|War  \n",
       "4                            Action|Adventure|Sci-Fi  \n",
       "5                            Action|Adventure|Sci-Fi  \n",
       "6                            Action|Adventure|Sci-Fi  \n",
       "7                                   Action|Drama|War  \n",
       "8                                   Action|Drama|War  \n",
       "9  Adventure|Animation|Children|Comedy|Fantasy|Ro...  "
      ]
     },
     "execution_count": 65,
     "metadata": {},
     "output_type": "execute_result"
    }
   ],
   "source": [
    "user_id = 1  # Используем числовой user_id\n",
    "recommended_movies = get_recommendations(user_id, top_n=10)\n",
    "recommended_movies"
   ]
  },
  {
   "cell_type": "markdown",
   "id": "c5815fbe-8387-495a-9cb0-1c001abf6076",
   "metadata": {},
   "source": [
    "## Метод SVD (Singular Value Decomposition) "
   ]
  },
  {
   "cell_type": "markdown",
   "id": "d0942c94-2493-4697-91e5-530e3fb2772f",
   "metadata": {},
   "source": [
    "📘 Что такое SVD?\n",
    "SVD (сингулярное разложение) — это метод из линейной алгебры, который позволяет разложить любую матрицу на три другие:\n",
    "𝐴=𝑈⋅Σ⋅𝑉𝑇\n",
    " \n",
    "Где:\n",
    "\n",
    "A — исходная матрица (например, матрица взаимодействий user × item);\n",
    "U — матрица пользователей (размер m × k);\n",
    "Σ — диагональная матрица с сингулярными числами (размер k × k);\n",
    "V^T — транспонированная матрица фильмов (размер k × n).\n",
    "\n",
    "k — это количество скрытых факторов (например, предпочтения пользователя: любит комедии, не любит ужасы и т.п.).\n",
    "\n",
    "🎯 Как это работает в рекомендательных системах?\n",
    "Представь, что у тебя есть матрица оценок пользователей к фильмам, где:\n",
    "строки — пользователи,\n",
    "столбцы — фильмы,\n",
    "значения — оценки (или пропущенные, если пользователь не смотрел фильм).\n",
    "SVD разбивает эту матрицу на скрытые признаки, которые описывают:\n",
    "какие предпочтения есть у пользователей;\n",
    "какие характеристики есть у фильмов.\n",
    "Потом мы можем предсказывать оценки:\n",
    "\n",
    "𝑅^𝑢𝑖=𝑈𝑢⋅Σ⋅𝑇\n",
    " То есть, умножаем скрытые предпочтения пользователя u на скрытые характеристики фильма i.\n",
    "\n",
    "🔧 Как это помогает?\n",
    "Можно заполнить пропуски в матрице: предсказать, какие фильмы понравятся пользователю.\n",
    "Уменьшить размерность: оставить только главные компоненты (k << m, n).\n",
    "Учитывать латентные (скрытые) факторы, которые нельзя напрямую измерить (например, \"драма\", \"экшен\", \"романтика\", даже если таких признаков явно нет)."
   ]
  },
  {
   "cell_type": "code",
   "execution_count": 5,
   "id": "7e8a4bf6-3900-46a0-9191-ae71af0c592a",
   "metadata": {},
   "outputs": [],
   "source": [
    "# 1. Кодируем userId и movieId\n",
    "\n",
    "user_encoder = LabelEncoder()\n",
    "item_encoder = LabelEncoder()\n",
    "\n",
    "ratings['user_idx'] = user_encoder.fit_transform(ratings['userId'])\n",
    "ratings['item_idx'] = item_encoder.fit_transform(ratings['movieId'])\n"
   ]
  },
  {
   "cell_type": "code",
   "execution_count": 6,
   "id": "5f963117-ffe7-406e-8dd1-a84b51067951",
   "metadata": {},
   "outputs": [
    {
     "name": "stdout",
     "output_type": "stream",
     "text": [
      "Создаем разреженную матрицу 330975×83239...\n"
     ]
    }
   ],
   "source": [
    "# 2. Создаём разреженную матрицу взаимодействий\n",
    "\n",
    "n_users = ratings['user_idx'].nunique()\n",
    "n_items = ratings['item_idx'].nunique()\n",
    "\n",
    "print(f\"Создаем разреженную матрицу {n_users}×{n_items}...\")\n",
    "\n",
    "ratings_coo = coo_matrix(\n",
    "    (ratings['rating'].astype(float), (ratings['user_idx'], ratings['item_idx'])),\n",
    "    shape=(n_users, n_items)\n",
    ")\n",
    "ratings_csr = ratings_coo.tocsr()"
   ]
  },
  {
   "cell_type": "code",
   "execution_count": 9,
   "id": "4fc43b79-d60e-4aba-b9f0-cbfdaf425c07",
   "metadata": {},
   "outputs": [
    {
     "data": {
      "image/png": "[encoded data removed]",
      "text/plain": [
       "<Figure size 800x600 with 1 Axes>"
      ]
     },
     "metadata": {},
     "output_type": "display_data"
    },
    {
     "name": "stdout",
     "output_type": "stream",
     "text": [
      "Оптимальное число компонент (для 90% дисперсии): 1\n"
     ]
    }
   ],
   "source": [
    "# 3. Обучаем SVD (например, на 100 компонент)\n",
    "svd = TruncatedSVD(n_components=100, random_state=42)\n",
    "X_reduced = svd.fit_transform(ratings_csr)\n",
    "\n",
    "# Строим график накопленной объяснённой дисперсии\n",
    "plt.figure(figsize=(8,6))\n",
    "plt.plot(np.cumsum(svd.explained_variance_ratio_), marker='o')\n",
    "plt.xlabel('Number of Components')\n",
    "plt.ylabel('Cumulative Explained Variance')\n",
    "plt.title('TruncatedSVD: Explained Variance vs. Number of Components')\n",
    "plt.grid(True)\n",
    "plt.show()\n",
    "\n",
    "cumulative_variance = np.cumsum(svd.explained_variance_ratio_)\n",
    "optimal_components = np.argmax(cumulative_variance >= 0.90) + 1\n",
    "print(f\"Оптимальное число компонент (для 90% дисперсии): {optimal_components}\")"
   ]
  },
  {
   "cell_type": "code",
   "execution_count": 10,
   "id": "11b9dd66-6247-441e-acef-d0d1b3b03486",
   "metadata": {},
   "outputs": [
    {
     "name": "stdout",
     "output_type": "stream",
     "text": [
      "[0.12714636 0.04276994 0.01942166 0.01888211 0.01427642 0.01204105\n",
      " 0.01111132 0.00813921 0.00688492 0.00561164 0.00556328 0.00504842\n",
      " 0.00499753 0.00482021 0.00415399 0.00412725 0.00354825 0.00349691\n",
      " 0.00343389 0.00312327 0.00294858 0.00289923 0.00272115 0.00262711\n",
      " 0.00255894 0.00251541 0.00244757 0.0023686  0.00228196 0.00223389\n",
      " 0.00218057 0.00207525 0.00202688 0.00194128 0.00189778 0.00185302\n",
      " 0.00181357 0.00180561 0.00177047 0.00172587 0.00164498 0.00162621\n",
      " 0.00158946 0.00158323 0.00155453 0.00153355 0.00148958 0.00145526\n",
      " 0.00144528 0.00142085 0.00141285 0.00139891 0.00136401 0.00133629\n",
      " 0.00131746 0.00130235 0.00127148 0.00125722 0.00124909 0.00122671\n",
      " 0.0012125  0.00119395 0.00118462 0.00116325 0.00114765 0.00114455\n",
      " 0.00113347 0.00111178 0.00110115 0.001098   0.00107721 0.00105896\n",
      " 0.00104209 0.00103874 0.00103479 0.00101604 0.00099837 0.00098936\n",
      " 0.00098634 0.00096874 0.0009544  0.0009436  0.000942   0.00093512\n",
      " 0.00092453 0.00092108 0.0009146  0.00089845 0.00089131 0.0008828\n",
      " 0.00087892 0.00086934 0.00086043 0.00084929 0.00084634 0.00083649\n",
      " 0.00082347 0.00081911 0.00080556 0.00078824]\n",
      "Суммарная объяснённая дисперсия: 0.42105626608096985\n"
     ]
    }
   ],
   "source": [
    "print(svd.explained_variance_ratio_)\n",
    "print(\"Суммарная объяснённая дисперсия:\", np.sum(svd.explained_variance_ratio_))"
   ]
  },
  {
   "cell_type": "code",
   "execution_count": 11,
   "id": "8080d1e8-4c92-472c-9882-67270bd1f924",
   "metadata": {},
   "outputs": [],
   "source": [
    "# 4 Применяем SVD на выбраном кол-ве компонент(TruncatedSVD)\n",
    "\n",
    "svd = TruncatedSVD(n_components=50, random_state=42)\n",
    "user_matrix = svd.fit_transform(ratings_csr)  # размерность: (n_users × 50)\n",
    "item_matrix = svd.components_.T                # размерность: (n_items × 50)"
   ]
  },
  {
   "cell_type": "code",
   "execution_count": 15,
   "id": "11e77488-5ed9-4f70-b7fe-1c7f9380b773",
   "metadata": {},
   "outputs": [],
   "source": [
    "def get_svd_recommendations(user_id, user_encoder, item_encoder, svd_user_factors, svd_item_factors, movies, ratings, top_n=10):\n",
    "    \"\"\"\n",
    "    Генерация рекомендаций для пользователя на основе SVD.\n",
    "    \"\"\"\n",
    "    try:\n",
    "        user_idx = user_encoder.transform([user_id])[0]\n",
    "    except ValueError:\n",
    "        print(f\"Пользователь {user_id} не найден.\")\n",
    "        return pd.DataFrame()\n",
    "\n",
    "    user_vector = svd_user_factors[user_idx]  # shape: (50,)\n",
    "    scores = np.dot(svd_item_factors, user_vector)  # shape: (n_items,)\n",
    "\n",
    "    # Получаем уже просмотренные фильмы\n",
    "    rated_movie_ids = ratings[ratings['userId'] == user_id]['movieId'].unique()\n",
    "    rated_item_indices = item_encoder.transform(rated_movie_ids)\n",
    "\n",
    "    # Исключаем просмотренные\n",
    "    recommended_indices = [i for i in np.argsort(scores)[::-1] if i not in rated_item_indices][:top_n]\n",
    "\n",
    "    # Декодируем в оригинальные movieId\n",
    "    recommended_movie_ids = item_encoder.inverse_transform(recommended_indices)\n",
    "\n",
    "    # Создаем DataFrame\n",
    "    recommended_df = pd.DataFrame(recommended_movie_ids, columns=['movieId'])\n",
    "    recommended_df = recommended_df.merge(movies[['movieId', 'title', 'genres']], on='movieId', how='left')\n",
    "\n",
    "    return recommended_df\n"
   ]
  },
  {
   "cell_type": "code",
   "execution_count": 16,
   "id": "c00e2201-00bc-4b14-a2fb-3eb1f6b82468",
   "metadata": {},
   "outputs": [
    {
     "data": {
      "text/html": [
       "<div>\n",
       "<style scoped>\n",
       "    .dataframe tbody tr th:only-of-type {\n",
       "        vertical-align: middle;\n",
       "    }\n",
       "\n",
       "    .dataframe tbody tr th {\n",
       "        vertical-align: top;\n",
       "    }\n",
       "\n",
       "    .dataframe thead th {\n",
       "        text-align: right;\n",
       "    }\n",
       "</style>\n",
       "<table border=\"1\" class=\"dataframe\">\n",
       "  <thead>\n",
       "    <tr style=\"text-align: right;\">\n",
       "      <th></th>\n",
       "      <th>movieId</th>\n",
       "      <th>title</th>\n",
       "      <th>genres</th>\n",
       "    </tr>\n",
       "  </thead>\n",
       "  <tbody>\n",
       "    <tr>\n",
       "      <th>0</th>\n",
       "      <td>4993</td>\n",
       "      <td>Lord of the Rings: The Fellowship of the Ring,...</td>\n",
       "      <td>Adventure|Fantasy</td>\n",
       "    </tr>\n",
       "    <tr>\n",
       "      <th>1</th>\n",
       "      <td>7153</td>\n",
       "      <td>Lord of the Rings: The Return of the King, The...</td>\n",
       "      <td>Action|Adventure|Drama|Fantasy</td>\n",
       "    </tr>\n",
       "    <tr>\n",
       "      <th>2</th>\n",
       "      <td>5952</td>\n",
       "      <td>Lord of the Rings: The Two Towers, The (2002)</td>\n",
       "      <td>Adventure|Fantasy</td>\n",
       "    </tr>\n",
       "    <tr>\n",
       "      <th>3</th>\n",
       "      <td>110</td>\n",
       "      <td>Braveheart (1995)</td>\n",
       "      <td>Action|Drama|War</td>\n",
       "    </tr>\n",
       "    <tr>\n",
       "      <th>4</th>\n",
       "      <td>260</td>\n",
       "      <td>Star Wars: Episode IV - A New Hope (1977)</td>\n",
       "      <td>Action|Adventure|Sci-Fi</td>\n",
       "    </tr>\n",
       "    <tr>\n",
       "      <th>5</th>\n",
       "      <td>1196</td>\n",
       "      <td>Star Wars: Episode V - The Empire Strikes Back...</td>\n",
       "      <td>Action|Adventure|Sci-Fi</td>\n",
       "    </tr>\n",
       "    <tr>\n",
       "      <th>6</th>\n",
       "      <td>1210</td>\n",
       "      <td>Star Wars: Episode VI - Return of the Jedi (1983)</td>\n",
       "      <td>Action|Adventure|Sci-Fi</td>\n",
       "    </tr>\n",
       "    <tr>\n",
       "      <th>7</th>\n",
       "      <td>356</td>\n",
       "      <td>Forrest Gump (1994)</td>\n",
       "      <td>Comedy|Drama|Romance|War</td>\n",
       "    </tr>\n",
       "    <tr>\n",
       "      <th>8</th>\n",
       "      <td>2028</td>\n",
       "      <td>Saving Private Ryan (1998)</td>\n",
       "      <td>Action|Drama|War</td>\n",
       "    </tr>\n",
       "    <tr>\n",
       "      <th>9</th>\n",
       "      <td>2571</td>\n",
       "      <td>Matrix, The (1999)</td>\n",
       "      <td>Action|Sci-Fi|Thriller</td>\n",
       "    </tr>\n",
       "  </tbody>\n",
       "</table>\n",
       "</div>"
      ],
      "text/plain": [
       "   movieId  ...                          genres\n",
       "0     4993  ...               Adventure|Fantasy\n",
       "1     7153  ...  Action|Adventure|Drama|Fantasy\n",
       "2     5952  ...               Adventure|Fantasy\n",
       "3      110  ...                Action|Drama|War\n",
       "4      260  ...         Action|Adventure|Sci-Fi\n",
       "5     1196  ...         Action|Adventure|Sci-Fi\n",
       "6     1210  ...         Action|Adventure|Sci-Fi\n",
       "7      356  ...        Comedy|Drama|Romance|War\n",
       "8     2028  ...                Action|Drama|War\n",
       "9     2571  ...          Action|Sci-Fi|Thriller\n",
       "\n",
       "[10 rows x 3 columns]"
      ]
     },
     "execution_count": 16,
     "metadata": {},
     "output_type": "execute_result"
    }
   ],
   "source": [
    "recommended_df = get_svd_recommendations(\n",
    "    user_id='1',                              # или любой другой userId из original ratings\n",
    "    user_encoder=user_encoder,\n",
    "    item_encoder=item_encoder,\n",
    "    svd_user_factors=user_matrix,            # user-факторы: (n_users, 50)\n",
    "    svd_item_factors=item_matrix,            # item-факторы: (n_items, 50)\n",
    "    movies=movies,                           # DataFrame с фильмами\n",
    "    ratings=ratings,                         # для фильтрации уже оцененных фильмов\n",
    "    top_n=10\n",
    ")\n",
    "recommended_df"
   ]
  },
  {
   "cell_type": "markdown",
   "id": "e5b514ca-5f64-4c5c-a40e-a6151b6031a5",
   "metadata": {},
   "source": [
    "## Hdbscan"
   ]
  },
  {
   "cell_type": "code",
   "execution_count": 23,
   "id": "10763031-97e8-4eee-aca4-1cf1152f7960",
   "metadata": {},
   "outputs": [],
   "source": [
    "hdbscan_model = HDBSCAN(min_samples=20, cluster_selection_epsilon=0.01)  # Параметры можно настроить\n",
    "clusters_hdb = hdbscan_model.fit_predict(movie_vectors_reduced)"
   ]
  },
  {
   "cell_type": "code",
   "execution_count": 24,
   "id": "e7a5c6f5-aa6d-42f5-809c-2aba8c611bac",
   "metadata": {},
   "outputs": [
    {
     "name": "stdout",
     "output_type": "stream",
     "text": [
      "Количество кластеров: 2\n",
      "Количество выбросов: 11285\n"
     ]
    }
   ],
   "source": [
    "unique_labels = np.unique(clusters_hdb)\n",
    "num_clusters = len(unique_labels) - (1 if -1 in unique_labels else 0)  # Исключаем выбросы (-1)\n",
    "num_outliers = np.sum(clusters_hdb == -1)\n",
    "\n",
    "print(f\"Количество кластеров: {num_clusters}\")\n",
    "print(f\"Количество выбросов: {num_outliers}\")"
   ]
  },
  {
   "cell_type": "code",
   "execution_count": null,
   "id": "ebfb0345-f477-4f17-b008-d0b25f0c9160",
   "metadata": {},
   "outputs": [],
   "source": []
  }
 ],
 "metadata": {
  "kernelspec": {
   "display_name": "Python 3 (ipykernel)",
   "language": "python",
   "name": "python3"
  },
  "language_info": {
   "codemirror_mode": {
    "name": "ipython",
    "version": 3
   },
   "file_extension": ".py",
   "mimetype": "text/x-python",
   "name": "python",
   "nbconvert_exporter": "python",
   "pygments_lexer": "ipython3",
   "version": "3.12.2"
  }
 },
 "nbformat": 4,
 "nbformat_minor": 5
}
