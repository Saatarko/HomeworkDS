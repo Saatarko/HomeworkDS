{
 "cells": [
  {
   "cell_type": "code",
   "execution_count": 8,
   "id": "9e5df9db-ac97-4aa9-a6e9-9e8508bbead8",
   "metadata": {},
   "outputs": [],
   "source": [
    "import numpy as np\n",
    "from scipy import stats\n",
    "from scipy.special import perm, comb, factorial"
   ]
  },
  {
   "cell_type": "markdown",
   "id": "2a9a3d43-2b01-40df-9b1d-24a326f76f9e",
   "metadata": {},
   "source": [
    "Задача 1. Из 1000 собранных на заводе телевизоров 5 штук бракованных. Эксперт проверяет один наугад выбранный телевизор из этой 1000. Найдите вероятность того, что проверяемый телевизор\n",
    "окажется бракованным."
   ]
  },
  {
   "cell_type": "code",
   "execution_count": null,
   "id": "1cac0fd5-6d05-47bb-90b5-d6dda4254439",
   "metadata": {},
   "outputs": [],
   "source": [
    "Число бракованных телевизоров: 5\n",
    "Число всех телевизоров: 1000"
   ]
  },
  {
   "cell_type": "code",
   "execution_count": 1,
   "id": "ea699a7f-bfd3-4903-bdb0-22cb93cb69bb",
   "metadata": {},
   "outputs": [
    {
     "data": {
      "text/plain": [
       "0.005"
      ]
     },
     "execution_count": 1,
     "metadata": {},
     "output_type": "execute_result"
    }
   ],
   "source": [
    "P = 5/1000\n",
    "P"
   ]
  },
  {
   "cell_type": "markdown",
   "id": "6b79564c-6691-4d61-ae62-c9d220bb8879",
   "metadata": {},
   "source": [
    "Задача 2. В урне 9 красных, 6 жёлтых и 5 зелёных шаров. Из урны наугад\n",
    "достают один шар. Какова вероятность того, что этот шар\n",
    "окажется жёлтым?"
   ]
  },
  {
   "cell_type": "code",
   "execution_count": null,
   "id": "15f516f3-a83c-4b20-ac9e-16c7640b148c",
   "metadata": {},
   "outputs": [],
   "source": [
    "Общее число шаров: 9+6+5 =20"
   ]
  },
  {
   "cell_type": "code",
   "execution_count": 2,
   "id": "220872b4-815e-4a34-b61d-435907668ce1",
   "metadata": {},
   "outputs": [
    {
     "data": {
      "text/plain": [
       "0.3"
      ]
     },
     "execution_count": 2,
     "metadata": {},
     "output_type": "execute_result"
    }
   ],
   "source": [
    "P = 6/20\n",
    "P"
   ]
  },
  {
   "cell_type": "markdown",
   "id": "f0b8feb1-c1bb-4f30-ab56-22946f12da5e",
   "metadata": {},
   "source": [
    "Задача 3. В чемпионате мира участвуют 16 команд. С помощью жребия\n",
    "их нужно разделить на четыре группы по четыре команды в\n",
    "каждой. В ящике вперемешку лежат карточки с номерами групп:\n",
    "1, 1, 1, 1, 2, 2, 2, 2, 3, 3, 3, 3, 4, 4, 4, 4. Капитаны команд тянут по\n",
    "одной карточке. Какова вероятность того, что команда\n",
    "Португалии окажется во второй группе?"
   ]
  },
  {
   "cell_type": "markdown",
   "id": "36378409-ecfb-41ad-ae53-722e5c44226b",
   "metadata": {},
   "source": [
    "Общее количество возможных исходов:\n",
    "Любая команда может вытянуть любую из 16 карточек.\n",
    "\n",
    "Число благоприятных исходов:\n",
    "Чтобы команда Португалии попала во вторую группу, она должна вытянуть одну из 4 карточек с номером \"2\"."
   ]
  },
  {
   "cell_type": "code",
   "execution_count": 3,
   "id": "37d3788e-1e3e-4863-a951-48cabf336a68",
   "metadata": {},
   "outputs": [
    {
     "data": {
      "text/plain": [
       "0.25"
      ]
     },
     "execution_count": 3,
     "metadata": {},
     "output_type": "execute_result"
    }
   ],
   "source": [
    "P = 4/16\n",
    "P"
   ]
  },
  {
   "cell_type": "markdown",
   "id": "d0aa8109-ffba-4cc9-8dc2-da37b3eea22a",
   "metadata": {},
   "source": [
    "Задача 4. В группе туристов 8 человек. С помощью жребия они\n",
    "выбирают шестерых человек, которые должны идти в село в\n",
    "магазин за продуктами. Какова вероятность того, что турист Д.,\n",
    "входящий в состав группы, пойдёт в магазин?"
   ]
  },
  {
   "cell_type": "code",
   "execution_count": null,
   "id": "19084522-316b-468d-a99e-4edf75ed2373",
   "metadata": {},
   "outputs": [],
   "source": [
    "Общее число исходов это сочетания (для выбора 6 человек из 8)"
   ]
  },
  {
   "cell_type": "code",
   "execution_count": 9,
   "id": "95fa1d44-1194-4952-b286-20e381af6b20",
   "metadata": {},
   "outputs": [
    {
     "data": {
      "text/plain": [
       "28.0"
      ]
     },
     "execution_count": 9,
     "metadata": {},
     "output_type": "execute_result"
    }
   ],
   "source": [
    "C = factorial(8) // (factorial(6)*(factorial(8-6)))\n",
    "C"
   ]
  },
  {
   "cell_type": "markdown",
   "id": "1ca5f736-5c02-45bb-ae1b-5a6a9c86ba1c",
   "metadata": {},
   "source": [
    "Благоприятные условия. Это турист Д в группе и ее надо дополинть 5 людми из 7 оставшися"
   ]
  },
  {
   "cell_type": "code",
   "execution_count": 11,
   "id": "b5704fd2-ec6d-485f-af7f-30483fd83531",
   "metadata": {},
   "outputs": [
    {
     "data": {
      "text/plain": [
       "21.0"
      ]
     },
     "execution_count": 11,
     "metadata": {},
     "output_type": "execute_result"
    }
   ],
   "source": [
    "C2 = factorial(7) // (factorial(5)*(factorial(7-5)))\n",
    "C2"
   ]
  },
  {
   "cell_type": "code",
   "execution_count": 12,
   "id": "6afdaf92-7c06-4fd8-aedc-ba695ddef1d3",
   "metadata": {},
   "outputs": [
    {
     "data": {
      "text/plain": [
       "0.75"
      ]
     },
     "execution_count": 12,
     "metadata": {},
     "output_type": "execute_result"
    }
   ],
   "source": [
    "P = 21/28\n",
    "P"
   ]
  },
  {
   "cell_type": "markdown",
   "id": "61788d7e-c364-4c11-be36-43d514508c15",
   "metadata": {},
   "source": [
    "Задача 5. В чемпионате по футболу участвуют 16 команд, которые\n",
    "жеребьевкой распределяются на 4 группы: A, B, C и D. Какова\n",
    "вероятность того, что команда Англии не попадает в группу A?"
   ]
  },
  {
   "cell_type": "markdown",
   "id": "d66d3c3e-cf89-42bf-adc8-3493894860e5",
   "metadata": {},
   "source": [
    "Всего карточек с названиями групп 16, из них 4 относятся к группе A."
   ]
  },
  {
   "cell_type": "code",
   "execution_count": 13,
   "id": "026e76e7-d452-4226-939c-0ebfde1bfccd",
   "metadata": {},
   "outputs": [
    {
     "data": {
      "text/plain": [
       "0.25"
      ]
     },
     "execution_count": 13,
     "metadata": {},
     "output_type": "execute_result"
    }
   ],
   "source": [
    "# Вероятность того, что команда Англии вытянет карточку группы A:\n",
    "P = 4/16\n",
    "P"
   ]
  },
  {
   "cell_type": "code",
   "execution_count": 14,
   "id": "3ab02667-3496-4b06-babd-a025b7a70ede",
   "metadata": {},
   "outputs": [
    {
     "data": {
      "text/plain": [
       "0.75"
      ]
     },
     "execution_count": 14,
     "metadata": {},
     "output_type": "execute_result"
    }
   ],
   "source": [
    "# вероятность НЕ попадания в группу A\n",
    "P2 = 1 - P\n",
    "P2"
   ]
  },
  {
   "cell_type": "markdown",
   "id": "d37e6dab-8ed0-480d-a6c2-080d276eaf59",
   "metadata": {},
   "source": [
    "Задача 6. В классе 21 учащийся, среди них две подруги - Аня и Нина.\n",
    "Класс случайным образом делят на семь групп, по 3 человека в\n",
    "каждой. Найдите вероятность того, что Аня и Нина окажутся в\n",
    "одной группе."
   ]
  },
  {
   "cell_type": "markdown",
   "id": "a06aa7b0-7a32-466c-87b8-e88bef10ba46",
   "metadata": {},
   "source": [
    "Пусть Аня уже попала в какую-то группу.\n",
    "В группе уже есть 1 место занято (Аня), остается 2 свободных места.\n",
    "Осталось 20 человек, из которых 2 места в группе могут занять Нина или кто-то другой.\n",
    "Вероятность того, что именно Нина займет одно из этих мест, равна:"
   ]
  },
  {
   "cell_type": "code",
   "execution_count": 15,
   "id": "425e5443-1202-4417-bf5b-26c3ff5cc295",
   "metadata": {},
   "outputs": [
    {
     "data": {
      "text/plain": [
       "0.1"
      ]
     },
     "execution_count": 15,
     "metadata": {},
     "output_type": "execute_result"
    }
   ],
   "source": [
    "P = 2/20 \n",
    "P"
   ]
  },
  {
   "cell_type": "markdown",
   "id": "3c96ba46-c525-4e7b-8b29-d194b352333c",
   "metadata": {},
   "source": [
    "Задача 7. Механические часы с двенадцатичасовым циферблатом в\n",
    "какой-то момент сломались и перестали идти. Найдите\n",
    "вероятность того, что часовая стрелка остановилась, достигнув\n",
    "отметки 7, но не дойдя до отметки 1."
   ]
  },
  {
   "cell_type": "markdown",
   "id": "b4b45157-7c2e-4b89-9279-245a11dc5f74",
   "metadata": {},
   "source": [
    "Разобьем диапазоны часов на цифрблате на градусы(каждый час = 30°).\n",
    "Часовая стрелка указывает на 7 часов ровно, если находится на угле 210° \n",
    "Часовая стрелка достигает 1 часа, когда находится на 30°.\n",
    "Значит нам нужно найти вероятность того, что стрелка остановилась между 210° и 360° (0°)."
   ]
  },
  {
   "cell_type": "markdown",
   "id": "7674fee6-4ae4-44ae-9bfa-91e5e0908c4e",
   "metadata": {},
   "source": [
    "Общий диапазон возможных позиций стрелки:360°."
   ]
  },
  {
   "cell_type": "code",
   "execution_count": null,
   "id": "6d627cd5-3e83-4450-a365-8f0a424b20e9",
   "metadata": {},
   "outputs": [],
   "source": [
    "# Благоприятный диапазон:\n",
    "P_blag = 360-210 = 150"
   ]
  },
  {
   "cell_type": "code",
   "execution_count": 16,
   "id": "746c5921-530c-462d-9825-fceee057e646",
   "metadata": {},
   "outputs": [
    {
     "data": {
      "text/plain": [
       "0.4166666666666667"
      ]
     },
     "execution_count": 16,
     "metadata": {},
     "output_type": "execute_result"
    }
   ],
   "source": [
    "P = 150/360\n",
    "P"
   ]
  },
  {
   "cell_type": "markdown",
   "id": "f3f2f8bc-3e24-486d-857c-0a383ddc68ca",
   "metadata": {},
   "source": [
    "Задача 8. Механические часы с двенадцатичасовым циферблатом в\n",
    "какой-то момент сломались и перестали ходить. Найдите\n",
    "вероятность того, что часовая стрелка застыла, достигнув\n",
    "отметки 6, но не дойдя до отметки 9 часов"
   ]
  },
  {
   "cell_type": "code",
   "execution_count": null,
   "id": "7a3c2ef9-9a1d-4fae-aae8-dfe514472710",
   "metadata": {},
   "outputs": [],
   "source": [
    "Разобьем диапазоны часов на цифрблате на градусы аналоогично пред задаче\n",
    "Часовая стрелка указывает на 6 часов ровно, если находится на угле 180° \n",
    "Часовая стрелка достигает 9 часа, когда находится на 270°.\n",
    "Значит нам нужно найти вероятность того, что стрелка остановилась между 180° и 270° (0°)."
   ]
  },
  {
   "cell_type": "code",
   "execution_count": null,
   "id": "77f0de71-bbac-489f-ac6a-6f9b6d0281de",
   "metadata": {},
   "outputs": [],
   "source": [
    "Общий диапазон возможных позиций стрелки:360°."
   ]
  },
  {
   "cell_type": "code",
   "execution_count": 17,
   "id": "5c0aff28-ddda-488a-9142-101d50787505",
   "metadata": {},
   "outputs": [
    {
     "data": {
      "text/plain": [
       "90"
      ]
     },
     "execution_count": 17,
     "metadata": {},
     "output_type": "execute_result"
    }
   ],
   "source": [
    "# Благоприятный диапазон:\n",
    "P_blag = 270-180 \n",
    "P_blag"
   ]
  },
  {
   "cell_type": "code",
   "execution_count": 18,
   "id": "1d652a85-63ec-49dd-9d5c-7181058f721a",
   "metadata": {},
   "outputs": [
    {
     "data": {
      "text/plain": [
       "0.25"
      ]
     },
     "execution_count": 18,
     "metadata": {},
     "output_type": "execute_result"
    }
   ],
   "source": [
    "P = P_blag/360\n",
    "P"
   ]
  },
  {
   "cell_type": "markdown",
   "id": "78392e6b-997d-46bd-a6f3-d8de7f2274fb",
   "metadata": {},
   "source": [
    "Задача 9. В случайном эксперименте симметричную монету бросают 2\n",
    "раза. Найдите вероятность того, что орел выпадет ровно 1 раз."
   ]
  },
  {
   "cell_type": "markdown",
   "id": "88c45d19-a4dd-4f3f-a621-42434d4b8410",
   "metadata": {},
   "source": [
    "При двух бросках у нас 4 возможных исхода:\n",
    "\n",
    "ОO (орёл-орёл)\n",
    "ОR (орёл-решка)\n",
    "RО (решка-орёл)\n",
    "RR (решка-решка) подходят только  ОR (орёл-решка) и RО (решка-орёл)"
   ]
  },
  {
   "cell_type": "code",
   "execution_count": 25,
   "id": "2881f75f-0bdb-4a3b-af6e-7d5202da1a8e",
   "metadata": {},
   "outputs": [
    {
     "data": {
      "text/plain": [
       "0.25"
      ]
     },
     "execution_count": 25,
     "metadata": {},
     "output_type": "execute_result"
    }
   ],
   "source": [
    "#базовые вероятности выпадения орла и решки = (1/2)\n",
    "\n",
    "# вертяность выпадаения ОR (орёл-решка) (при 2- бросках)\n",
    "POR = (1/2) * (1/2)\n",
    "POR"
   ]
  },
  {
   "cell_type": "code",
   "execution_count": 21,
   "id": "9938a57c-9d58-472f-8bd2-01fa367a5324",
   "metadata": {},
   "outputs": [],
   "source": [
    "# вероястноть выпадения RО (решка-орёл)"
   ]
  },
  {
   "cell_type": "code",
   "execution_count": 26,
   "id": "c4a61967-909c-4b02-94db-4612458918f5",
   "metadata": {},
   "outputs": [
    {
     "data": {
      "text/plain": [
       "0.25"
      ]
     },
     "execution_count": 26,
     "metadata": {},
     "output_type": "execute_result"
    }
   ],
   "source": [
    "PRО = (1/2) * (1/2)\n",
    "PRО"
   ]
  },
  {
   "cell_type": "code",
   "execution_count": 27,
   "id": "a39d7d60-510c-4648-a1b8-2366e236b862",
   "metadata": {},
   "outputs": [
    {
     "data": {
      "text/plain": [
       "0.5"
      ]
     },
     "execution_count": 27,
     "metadata": {},
     "output_type": "execute_result"
    }
   ],
   "source": [
    "P_all = POR + PRО\n",
    "P_all "
   ]
  },
  {
   "cell_type": "markdown",
   "id": "93d05269-a5df-4d4b-9bcc-ffb84deb76e2",
   "metadata": {},
   "source": [
    "Задача 10. В случайном эксперименте симметричную монету бросают\n",
    "дважды. Найдите вероятность того, что орёл не выпадет ни разу."
   ]
  },
  {
   "cell_type": "code",
   "execution_count": null,
   "id": "4434f78a-bcc1-438e-8aad-83bc9d14bb1c",
   "metadata": {},
   "outputs": [],
   "source": [
    "При двух бросках у нас 4 возможных исхода:\n",
    "\n",
    "ОO (орёл-орёл)\n",
    "ОR (орёл-решка)\n",
    "RО (решка-орёл)\n",
    "RR (решка-решка) подходит только  RR (решка-решка)"
   ]
  },
  {
   "cell_type": "code",
   "execution_count": null,
   "id": "5306932a-467a-4d96-8a39-b6b541eee5d7",
   "metadata": {},
   "outputs": [],
   "source": [
    "#базовые вероятности выпадения орла и решки = (1/2)"
   ]
  },
  {
   "cell_type": "code",
   "execution_count": 28,
   "id": "e12a048e-557d-404b-9fb6-fef9db32d1eb",
   "metadata": {},
   "outputs": [
    {
     "data": {
      "text/plain": [
       "0.25"
      ]
     },
     "execution_count": 28,
     "metadata": {},
     "output_type": "execute_result"
    }
   ],
   "source": [
    "# вертяность выпадаения решка-решка (при 2- бросках)\n",
    "PRR = (1/2) * (1/2)\n",
    "PRR"
   ]
  },
  {
   "cell_type": "markdown",
   "id": "d03e4089-5d16-4197-a2ea-0749512d0900",
   "metadata": {},
   "source": [
    "Задача 11. Вероятность того, что новая шариковая ручка пишет плохо\n",
    "(или не пишет), равна 0,19. Покупатель в магазине выбирает одну\n",
    "такую ручку. Найдите вероятность того, что эта ручка пишет\n",
    "хорошо."
   ]
  },
  {
   "cell_type": "code",
   "execution_count": 30,
   "id": "5d8f6a6b-614b-4754-a502-0f6eec5f9f8c",
   "metadata": {},
   "outputs": [
    {
     "data": {
      "text/plain": [
       "0.81"
      ]
     },
     "execution_count": 30,
     "metadata": {},
     "output_type": "execute_result"
    }
   ],
   "source": [
    "#  вероятность того, что  ручка пишет противоположная к вероятности что ручка не пишет \n",
    "# И находится по формуле доп вероятности\n",
    "P=1-0.19\n",
    "P"
   ]
  },
  {
   "cell_type": "markdown",
   "id": "94a14fef-ccd0-4a3b-986b-c63a26f7baaa",
   "metadata": {},
   "source": [
    "Задача 12. При изготовлении подшипников диаметром 67 мм\n",
    "вероятность того, что диаметр будет отличаться от заданного не\n",
    "больше, чем на 0,01 мм, равна 0,965. Найдите вероятность того,\n",
    "что случайный подшипник будет иметь диаметр меньше чем\n",
    "66,99 мм или больше чем 67,01 мм."
   ]
  },
  {
   "cell_type": "markdown",
   "id": "352de7f5-17fe-42c4-97b0-2d2fa0509b47",
   "metadata": {},
   "source": [
    "Вероятность того, что диаметр выйдет за этот диапазон (будет меньше 66,99 мм или больше 67,01 мм) — это дополнительное событие. следовательно:"
   ]
  },
  {
   "cell_type": "code",
   "execution_count": 33,
   "id": "609ef05c-5464-4cee-b23c-2ff8bee0e47c",
   "metadata": {},
   "outputs": [
    {
     "data": {
      "text/plain": [
       "0.03500000000000003"
      ]
     },
     "execution_count": 33,
     "metadata": {},
     "output_type": "execute_result"
    }
   ],
   "source": [
    "1-0.965"
   ]
  },
  {
   "cell_type": "markdown",
   "id": "667eb2bc-edb3-4110-8f6e-91d7466a3891",
   "metadata": {},
   "source": [
    "Задача 13. На экзамене по геометрии школьнику достаётся одна задача из\n",
    "сборника. Вероятность того, что эта задача по теме «Углы», равна\n",
    "0,1. Вероятность того, что это окажется задача по теме\n",
    "«Параллелограмм», равна 0,6. В сборнике нет задач, которые\n",
    "одновременно относятся к этим двум темам. Найдите вероятность\n",
    "того, что на экзамене школьнику достанется задача по одной из\n",
    "этих двух тем."
   ]
  },
  {
   "cell_type": "markdown",
   "id": "ce285c92-e2ac-42a5-8072-31767f2c01ce",
   "metadata": {},
   "source": [
    "Т.е у нас оба события не могут возникнуть одновремено. Т.е может достаться или одна или другая задача, то тут сложения вероятностей\n"
   ]
  },
  {
   "cell_type": "code",
   "execution_count": 34,
   "id": "224f6f98-f847-43de-9ac7-b68a636726fc",
   "metadata": {},
   "outputs": [
    {
     "data": {
      "text/plain": [
       "0.7"
      ]
     },
     "execution_count": 34,
     "metadata": {},
     "output_type": "execute_result"
    }
   ],
   "source": [
    "# P(Углы|Параллелограмм) = P(Углы) + P(Параллелограмм)\n",
    "P = 0.1+0.6\n",
    "P"
   ]
  },
  {
   "cell_type": "code",
   "execution_count": null,
   "id": "7dd3ed27-f2b7-47fe-84a4-b8528ef82b30",
   "metadata": {},
   "outputs": [],
   "source": []
  }
 ],
 "metadata": {
  "kernelspec": {
   "display_name": "Python 3 (ipykernel)",
   "language": "python",
   "name": "python3"
  },
  "language_info": {
   "codemirror_mode": {
    "name": "ipython",
    "version": 3
   },
   "file_extension": ".py",
   "mimetype": "text/x-python",
   "name": "python",
   "nbconvert_exporter": "python",
   "pygments_lexer": "ipython3",
   "version": "3.12.8"
  }
 },
 "nbformat": 4,
 "nbformat_minor": 5
}
