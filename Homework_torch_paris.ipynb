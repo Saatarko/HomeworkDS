{
 "cells": [
  {
   "cell_type": "code",
   "execution_count": 1,
   "id": "3d7611f4-94f9-47a6-8fe9-320328a86244",
   "metadata": {},
   "outputs": [],
   "source": [
    "import os\n",
    "# Отключает все логи TensorFlow (0 - все, 1 - предупреждения, 2 - ошибки, 3 - критичные ошибки)\n",
    "os.environ['TF_CPP_MIN_LOG_LEVEL'] = '3'"
   ]
  },
  {
   "cell_type": "code",
   "execution_count": 132,
   "id": "f404c73a-b0c9-4cb6-9c7e-109790f66076",
   "metadata": {},
   "outputs": [],
   "source": [
    "from sklearn import datasets\n",
    "import pandas as pd\n",
    "import numpy as np\n",
    "from typing import List, Union\n",
    "import matplotlib.pyplot as plt\n",
    "import seaborn as sns\n",
    "from sklearn.preprocessing import StandardScaler, MinMaxScaler\n",
    "from sklearn.model_selection import train_test_split, KFold\n",
    "import pandas as pd\n",
    "import torch\n",
    "from torch.utils.data import Dataset, DataLoader\n",
    "import time  \n",
    "import torch.nn as nn\n",
    "import torchvision\n",
    "import torchvision.transforms as transforms\n",
    "import torch.optim as optim\n",
    "from sklearn.metrics import confusion_matrix, ConfusionMatrixDisplay, mean_absolute_error, confusion_matrix, accuracy_score, f1_score, r2_score, mean_squared_error\n",
    "from sklearn.linear_model import LogisticRegression, LinearRegression\n",
    "import tensorflow as tf\n",
    "from tensorflow import keras\n",
    "from keras.callbacks import ReduceLROnPlateau, EarlyStopping, ModelCheckpoint\n",
    "from sklearn.preprocessing import LabelEncoder\n",
    "from sklearn.feature_selection import mutual_info_regression\n",
    "from sklearn.feature_selection import mutual_info_classif\n",
    "from sklearn.decomposition import PCA\n",
    "import xgboost as xgb\n",
    "from torch.utils.tensorboard import SummaryWriter\n",
    "import neptune\n",
    "import optuna\n",
    "from dotenv import load_dotenv\n",
    "import matplotlib.pyplot as plt\n",
    "from datetime import datetime"
   ]
  },
  {
   "cell_type": "code",
   "execution_count": 3,
   "id": "eed3c8ca-8cf6-415b-8e8d-91986ee8023c",
   "metadata": {},
   "outputs": [],
   "source": [
    "df = pd.read_csv('content/ParisHousing.csv')"
   ]
  },
  {
   "cell_type": "code",
   "execution_count": 4,
   "id": "d057415d-8242-4b54-8a02-bbfe4cc91010",
   "metadata": {},
   "outputs": [
    {
     "data": {
      "text/html": [
       "<div>\n",
       "<style scoped>\n",
       "    .dataframe tbody tr th:only-of-type {\n",
       "        vertical-align: middle;\n",
       "    }\n",
       "\n",
       "    .dataframe tbody tr th {\n",
       "        vertical-align: top;\n",
       "    }\n",
       "\n",
       "    .dataframe thead th {\n",
       "        text-align: right;\n",
       "    }\n",
       "</style>\n",
       "<table border=\"1\" class=\"dataframe\">\n",
       "  <thead>\n",
       "    <tr style=\"text-align: right;\">\n",
       "      <th></th>\n",
       "      <th>squareMeters</th>\n",
       "      <th>numberOfRooms</th>\n",
       "      <th>hasYard</th>\n",
       "      <th>hasPool</th>\n",
       "      <th>floors</th>\n",
       "      <th>cityCode</th>\n",
       "      <th>cityPartRange</th>\n",
       "      <th>numPrevOwners</th>\n",
       "      <th>made</th>\n",
       "      <th>isNewBuilt</th>\n",
       "      <th>hasStormProtector</th>\n",
       "      <th>basement</th>\n",
       "      <th>attic</th>\n",
       "      <th>garage</th>\n",
       "      <th>hasStorageRoom</th>\n",
       "      <th>hasGuestRoom</th>\n",
       "      <th>price</th>\n",
       "    </tr>\n",
       "  </thead>\n",
       "  <tbody>\n",
       "    <tr>\n",
       "      <th>0</th>\n",
       "      <td>75523</td>\n",
       "      <td>3</td>\n",
       "      <td>0</td>\n",
       "      <td>1</td>\n",
       "      <td>63</td>\n",
       "      <td>9373</td>\n",
       "      <td>3</td>\n",
       "      <td>8</td>\n",
       "      <td>2005</td>\n",
       "      <td>0</td>\n",
       "      <td>1</td>\n",
       "      <td>4313</td>\n",
       "      <td>9005</td>\n",
       "      <td>956</td>\n",
       "      <td>0</td>\n",
       "      <td>7</td>\n",
       "      <td>7559081.5</td>\n",
       "    </tr>\n",
       "    <tr>\n",
       "      <th>1</th>\n",
       "      <td>80771</td>\n",
       "      <td>39</td>\n",
       "      <td>1</td>\n",
       "      <td>1</td>\n",
       "      <td>98</td>\n",
       "      <td>39381</td>\n",
       "      <td>8</td>\n",
       "      <td>6</td>\n",
       "      <td>2015</td>\n",
       "      <td>1</td>\n",
       "      <td>0</td>\n",
       "      <td>3653</td>\n",
       "      <td>2436</td>\n",
       "      <td>128</td>\n",
       "      <td>1</td>\n",
       "      <td>2</td>\n",
       "      <td>8085989.5</td>\n",
       "    </tr>\n",
       "    <tr>\n",
       "      <th>2</th>\n",
       "      <td>55712</td>\n",
       "      <td>58</td>\n",
       "      <td>0</td>\n",
       "      <td>1</td>\n",
       "      <td>19</td>\n",
       "      <td>34457</td>\n",
       "      <td>6</td>\n",
       "      <td>8</td>\n",
       "      <td>2021</td>\n",
       "      <td>0</td>\n",
       "      <td>0</td>\n",
       "      <td>2937</td>\n",
       "      <td>8852</td>\n",
       "      <td>135</td>\n",
       "      <td>1</td>\n",
       "      <td>9</td>\n",
       "      <td>5574642.1</td>\n",
       "    </tr>\n",
       "    <tr>\n",
       "      <th>3</th>\n",
       "      <td>32316</td>\n",
       "      <td>47</td>\n",
       "      <td>0</td>\n",
       "      <td>0</td>\n",
       "      <td>6</td>\n",
       "      <td>27939</td>\n",
       "      <td>10</td>\n",
       "      <td>4</td>\n",
       "      <td>2012</td>\n",
       "      <td>0</td>\n",
       "      <td>1</td>\n",
       "      <td>659</td>\n",
       "      <td>7141</td>\n",
       "      <td>359</td>\n",
       "      <td>0</td>\n",
       "      <td>3</td>\n",
       "      <td>3232561.2</td>\n",
       "    </tr>\n",
       "    <tr>\n",
       "      <th>4</th>\n",
       "      <td>70429</td>\n",
       "      <td>19</td>\n",
       "      <td>1</td>\n",
       "      <td>1</td>\n",
       "      <td>90</td>\n",
       "      <td>38045</td>\n",
       "      <td>3</td>\n",
       "      <td>7</td>\n",
       "      <td>1990</td>\n",
       "      <td>1</td>\n",
       "      <td>0</td>\n",
       "      <td>8435</td>\n",
       "      <td>2429</td>\n",
       "      <td>292</td>\n",
       "      <td>1</td>\n",
       "      <td>4</td>\n",
       "      <td>7055052.0</td>\n",
       "    </tr>\n",
       "    <tr>\n",
       "      <th>...</th>\n",
       "      <td>...</td>\n",
       "      <td>...</td>\n",
       "      <td>...</td>\n",
       "      <td>...</td>\n",
       "      <td>...</td>\n",
       "      <td>...</td>\n",
       "      <td>...</td>\n",
       "      <td>...</td>\n",
       "      <td>...</td>\n",
       "      <td>...</td>\n",
       "      <td>...</td>\n",
       "      <td>...</td>\n",
       "      <td>...</td>\n",
       "      <td>...</td>\n",
       "      <td>...</td>\n",
       "      <td>...</td>\n",
       "      <td>...</td>\n",
       "    </tr>\n",
       "    <tr>\n",
       "      <th>9995</th>\n",
       "      <td>1726</td>\n",
       "      <td>89</td>\n",
       "      <td>0</td>\n",
       "      <td>1</td>\n",
       "      <td>5</td>\n",
       "      <td>73133</td>\n",
       "      <td>7</td>\n",
       "      <td>6</td>\n",
       "      <td>2009</td>\n",
       "      <td>0</td>\n",
       "      <td>1</td>\n",
       "      <td>9311</td>\n",
       "      <td>1698</td>\n",
       "      <td>218</td>\n",
       "      <td>0</td>\n",
       "      <td>4</td>\n",
       "      <td>176425.9</td>\n",
       "    </tr>\n",
       "    <tr>\n",
       "      <th>9996</th>\n",
       "      <td>44403</td>\n",
       "      <td>29</td>\n",
       "      <td>1</td>\n",
       "      <td>1</td>\n",
       "      <td>12</td>\n",
       "      <td>34606</td>\n",
       "      <td>9</td>\n",
       "      <td>4</td>\n",
       "      <td>1990</td>\n",
       "      <td>0</td>\n",
       "      <td>1</td>\n",
       "      <td>9061</td>\n",
       "      <td>1742</td>\n",
       "      <td>230</td>\n",
       "      <td>0</td>\n",
       "      <td>0</td>\n",
       "      <td>4448474.0</td>\n",
       "    </tr>\n",
       "    <tr>\n",
       "      <th>9997</th>\n",
       "      <td>83841</td>\n",
       "      <td>3</td>\n",
       "      <td>0</td>\n",
       "      <td>0</td>\n",
       "      <td>69</td>\n",
       "      <td>80933</td>\n",
       "      <td>10</td>\n",
       "      <td>10</td>\n",
       "      <td>2005</td>\n",
       "      <td>1</td>\n",
       "      <td>1</td>\n",
       "      <td>8304</td>\n",
       "      <td>7730</td>\n",
       "      <td>345</td>\n",
       "      <td>1</td>\n",
       "      <td>9</td>\n",
       "      <td>8390030.5</td>\n",
       "    </tr>\n",
       "    <tr>\n",
       "      <th>9998</th>\n",
       "      <td>59036</td>\n",
       "      <td>70</td>\n",
       "      <td>0</td>\n",
       "      <td>0</td>\n",
       "      <td>96</td>\n",
       "      <td>55856</td>\n",
       "      <td>1</td>\n",
       "      <td>3</td>\n",
       "      <td>2010</td>\n",
       "      <td>0</td>\n",
       "      <td>1</td>\n",
       "      <td>2590</td>\n",
       "      <td>6174</td>\n",
       "      <td>339</td>\n",
       "      <td>1</td>\n",
       "      <td>4</td>\n",
       "      <td>5905107.0</td>\n",
       "    </tr>\n",
       "    <tr>\n",
       "      <th>9999</th>\n",
       "      <td>1440</td>\n",
       "      <td>84</td>\n",
       "      <td>0</td>\n",
       "      <td>0</td>\n",
       "      <td>49</td>\n",
       "      <td>18412</td>\n",
       "      <td>6</td>\n",
       "      <td>10</td>\n",
       "      <td>1994</td>\n",
       "      <td>1</td>\n",
       "      <td>0</td>\n",
       "      <td>8485</td>\n",
       "      <td>2024</td>\n",
       "      <td>278</td>\n",
       "      <td>1</td>\n",
       "      <td>6</td>\n",
       "      <td>146708.4</td>\n",
       "    </tr>\n",
       "  </tbody>\n",
       "</table>\n",
       "<p>10000 rows × 17 columns</p>\n",
       "</div>"
      ],
      "text/plain": [
       "      squareMeters  numberOfRooms  hasYard  hasPool  floors  cityCode  \\\n",
       "0            75523              3        0        1      63      9373   \n",
       "1            80771             39        1        1      98     39381   \n",
       "2            55712             58        0        1      19     34457   \n",
       "3            32316             47        0        0       6     27939   \n",
       "4            70429             19        1        1      90     38045   \n",
       "...            ...            ...      ...      ...     ...       ...   \n",
       "9995          1726             89        0        1       5     73133   \n",
       "9996         44403             29        1        1      12     34606   \n",
       "9997         83841              3        0        0      69     80933   \n",
       "9998         59036             70        0        0      96     55856   \n",
       "9999          1440             84        0        0      49     18412   \n",
       "\n",
       "      cityPartRange  numPrevOwners  made  isNewBuilt  hasStormProtector  \\\n",
       "0                 3              8  2005           0                  1   \n",
       "1                 8              6  2015           1                  0   \n",
       "2                 6              8  2021           0                  0   \n",
       "3                10              4  2012           0                  1   \n",
       "4                 3              7  1990           1                  0   \n",
       "...             ...            ...   ...         ...                ...   \n",
       "9995              7              6  2009           0                  1   \n",
       "9996              9              4  1990           0                  1   \n",
       "9997             10             10  2005           1                  1   \n",
       "9998              1              3  2010           0                  1   \n",
       "9999              6             10  1994           1                  0   \n",
       "\n",
       "      basement  attic  garage  hasStorageRoom  hasGuestRoom      price  \n",
       "0         4313   9005     956               0             7  7559081.5  \n",
       "1         3653   2436     128               1             2  8085989.5  \n",
       "2         2937   8852     135               1             9  5574642.1  \n",
       "3          659   7141     359               0             3  3232561.2  \n",
       "4         8435   2429     292               1             4  7055052.0  \n",
       "...        ...    ...     ...             ...           ...        ...  \n",
       "9995      9311   1698     218               0             4   176425.9  \n",
       "9996      9061   1742     230               0             0  4448474.0  \n",
       "9997      8304   7730     345               1             9  8390030.5  \n",
       "9998      2590   6174     339               1             4  5905107.0  \n",
       "9999      8485   2024     278               1             6   146708.4  \n",
       "\n",
       "[10000 rows x 17 columns]"
      ]
     },
     "execution_count": 4,
     "metadata": {},
     "output_type": "execute_result"
    }
   ],
   "source": [
    "df"
   ]
  },
  {
   "cell_type": "code",
   "execution_count": 5,
   "id": "5b9a2c45-bfbb-43bd-9ca2-82866402bcea",
   "metadata": {},
   "outputs": [
    {
     "name": "stdout",
     "output_type": "stream",
     "text": [
      "<class 'pandas.core.frame.DataFrame'>\n",
      "RangeIndex: 10000 entries, 0 to 9999\n",
      "Data columns (total 17 columns):\n",
      " #   Column             Non-Null Count  Dtype  \n",
      "---  ------             --------------  -----  \n",
      " 0   squareMeters       10000 non-null  int64  \n",
      " 1   numberOfRooms      10000 non-null  int64  \n",
      " 2   hasYard            10000 non-null  int64  \n",
      " 3   hasPool            10000 non-null  int64  \n",
      " 4   floors             10000 non-null  int64  \n",
      " 5   cityCode           10000 non-null  int64  \n",
      " 6   cityPartRange      10000 non-null  int64  \n",
      " 7   numPrevOwners      10000 non-null  int64  \n",
      " 8   made               10000 non-null  int64  \n",
      " 9   isNewBuilt         10000 non-null  int64  \n",
      " 10  hasStormProtector  10000 non-null  int64  \n",
      " 11  basement           10000 non-null  int64  \n",
      " 12  attic              10000 non-null  int64  \n",
      " 13  garage             10000 non-null  int64  \n",
      " 14  hasStorageRoom     10000 non-null  int64  \n",
      " 15  hasGuestRoom       10000 non-null  int64  \n",
      " 16  price              10000 non-null  float64\n",
      "dtypes: float64(1), int64(16)\n",
      "memory usage: 1.3 MB\n"
     ]
    }
   ],
   "source": [
    "df.info()"
   ]
  },
  {
   "cell_type": "code",
   "execution_count": null,
   "id": "23af6798-6f3e-49fa-82be-b00aba7b7083",
   "metadata": {},
   "outputs": [],
   "source": []
  },
  {
   "cell_type": "code",
   "execution_count": 6,
   "id": "5d64eb5a-60c8-40de-a7c4-3504fb2e20c3",
   "metadata": {},
   "outputs": [
    {
     "data": {
      "image/png": "[encoded data removed]",
      "text/plain": [
       "<Figure size 1200x600 with 2 Axes>"
      ]
     },
     "metadata": {},
     "output_type": "display_data"
    }
   ],
   "source": [
    "plt.figure(figsize=(12, 6)) \n",
    "sns.heatmap(df.corr(), annot=True, cmap='coolwarm', fmt='.2f', cbar_kws={'label': 'Значение'})\n",
    "plt.show()"
   ]
  },
  {
   "cell_type": "code",
   "execution_count": 7,
   "id": "27f185e0-82e3-4bb8-a0a5-c1904e248af6",
   "metadata": {},
   "outputs": [
    {
     "data": {
      "text/html": [
       "<div>\n",
       "<style scoped>\n",
       "    .dataframe tbody tr th:only-of-type {\n",
       "        vertical-align: middle;\n",
       "    }\n",
       "\n",
       "    .dataframe tbody tr th {\n",
       "        vertical-align: top;\n",
       "    }\n",
       "\n",
       "    .dataframe thead th {\n",
       "        text-align: right;\n",
       "    }\n",
       "</style>\n",
       "<table border=\"1\" class=\"dataframe\">\n",
       "  <thead>\n",
       "    <tr style=\"text-align: right;\">\n",
       "      <th></th>\n",
       "      <th>squareMeters</th>\n",
       "      <th>numberOfRooms</th>\n",
       "      <th>hasYard</th>\n",
       "      <th>hasPool</th>\n",
       "      <th>floors</th>\n",
       "      <th>cityCode</th>\n",
       "      <th>cityPartRange</th>\n",
       "      <th>numPrevOwners</th>\n",
       "      <th>made</th>\n",
       "      <th>isNewBuilt</th>\n",
       "      <th>hasStormProtector</th>\n",
       "      <th>basement</th>\n",
       "      <th>attic</th>\n",
       "      <th>garage</th>\n",
       "      <th>hasStorageRoom</th>\n",
       "      <th>hasGuestRoom</th>\n",
       "      <th>price</th>\n",
       "    </tr>\n",
       "  </thead>\n",
       "  <tbody>\n",
       "    <tr>\n",
       "      <th>squareMeters</th>\n",
       "      <td>1.000000</td>\n",
       "      <td>0.009573</td>\n",
       "      <td>-0.006650</td>\n",
       "      <td>-0.005594</td>\n",
       "      <td>0.001109</td>\n",
       "      <td>-0.001541</td>\n",
       "      <td>0.008758</td>\n",
       "      <td>0.016619</td>\n",
       "      <td>-0.007207</td>\n",
       "      <td>-0.010667</td>\n",
       "      <td>0.007480</td>\n",
       "      <td>-0.003960</td>\n",
       "      <td>-0.000588</td>\n",
       "      <td>-0.017246</td>\n",
       "      <td>-0.003486</td>\n",
       "      <td>-0.000623</td>\n",
       "      <td>0.999999</td>\n",
       "    </tr>\n",
       "    <tr>\n",
       "      <th>numberOfRooms</th>\n",
       "      <td>0.009573</td>\n",
       "      <td>1.000000</td>\n",
       "      <td>-0.011240</td>\n",
       "      <td>0.017015</td>\n",
       "      <td>0.022244</td>\n",
       "      <td>0.009040</td>\n",
       "      <td>0.008340</td>\n",
       "      <td>0.016766</td>\n",
       "      <td>0.003978</td>\n",
       "      <td>-0.002865</td>\n",
       "      <td>-0.001656</td>\n",
       "      <td>-0.013990</td>\n",
       "      <td>0.012061</td>\n",
       "      <td>0.023188</td>\n",
       "      <td>-0.004760</td>\n",
       "      <td>-0.015529</td>\n",
       "      <td>0.009591</td>\n",
       "    </tr>\n",
       "    <tr>\n",
       "      <th>hasYard</th>\n",
       "      <td>-0.006650</td>\n",
       "      <td>-0.011240</td>\n",
       "      <td>1.000000</td>\n",
       "      <td>0.015514</td>\n",
       "      <td>-0.000883</td>\n",
       "      <td>0.006760</td>\n",
       "      <td>0.005023</td>\n",
       "      <td>0.004279</td>\n",
       "      <td>0.002214</td>\n",
       "      <td>-0.008370</td>\n",
       "      <td>-0.007598</td>\n",
       "      <td>-0.008558</td>\n",
       "      <td>-0.003085</td>\n",
       "      <td>-0.004626</td>\n",
       "      <td>-0.009506</td>\n",
       "      <td>-0.007276</td>\n",
       "      <td>-0.006119</td>\n",
       "    </tr>\n",
       "    <tr>\n",
       "      <th>hasPool</th>\n",
       "      <td>-0.005594</td>\n",
       "      <td>0.017015</td>\n",
       "      <td>0.015514</td>\n",
       "      <td>1.000000</td>\n",
       "      <td>-0.004006</td>\n",
       "      <td>0.008072</td>\n",
       "      <td>0.014613</td>\n",
       "      <td>-0.006848</td>\n",
       "      <td>0.001894</td>\n",
       "      <td>0.000188</td>\n",
       "      <td>-0.001001</td>\n",
       "      <td>-0.007268</td>\n",
       "      <td>-0.011901</td>\n",
       "      <td>0.004832</td>\n",
       "      <td>0.001238</td>\n",
       "      <td>0.001123</td>\n",
       "      <td>-0.005070</td>\n",
       "    </tr>\n",
       "    <tr>\n",
       "      <th>floors</th>\n",
       "      <td>0.001109</td>\n",
       "      <td>0.022244</td>\n",
       "      <td>-0.000883</td>\n",
       "      <td>-0.004006</td>\n",
       "      <td>1.000000</td>\n",
       "      <td>0.002207</td>\n",
       "      <td>-0.004921</td>\n",
       "      <td>0.002463</td>\n",
       "      <td>0.005022</td>\n",
       "      <td>0.002458</td>\n",
       "      <td>-0.008566</td>\n",
       "      <td>0.006228</td>\n",
       "      <td>-0.000270</td>\n",
       "      <td>0.011303</td>\n",
       "      <td>0.003616</td>\n",
       "      <td>-0.021155</td>\n",
       "      <td>0.001654</td>\n",
       "    </tr>\n",
       "    <tr>\n",
       "      <th>cityCode</th>\n",
       "      <td>-0.001541</td>\n",
       "      <td>0.009040</td>\n",
       "      <td>0.006760</td>\n",
       "      <td>0.008072</td>\n",
       "      <td>0.002207</td>\n",
       "      <td>1.000000</td>\n",
       "      <td>0.011334</td>\n",
       "      <td>-0.007549</td>\n",
       "      <td>0.009266</td>\n",
       "      <td>-0.000224</td>\n",
       "      <td>-0.004941</td>\n",
       "      <td>0.002652</td>\n",
       "      <td>-0.002019</td>\n",
       "      <td>-0.002208</td>\n",
       "      <td>0.002554</td>\n",
       "      <td>-0.003338</td>\n",
       "      <td>-0.001539</td>\n",
       "    </tr>\n",
       "    <tr>\n",
       "      <th>cityPartRange</th>\n",
       "      <td>0.008758</td>\n",
       "      <td>0.008340</td>\n",
       "      <td>0.005023</td>\n",
       "      <td>0.014613</td>\n",
       "      <td>-0.004921</td>\n",
       "      <td>0.011334</td>\n",
       "      <td>1.000000</td>\n",
       "      <td>0.009238</td>\n",
       "      <td>0.007748</td>\n",
       "      <td>-0.001874</td>\n",
       "      <td>0.005224</td>\n",
       "      <td>0.004743</td>\n",
       "      <td>0.010696</td>\n",
       "      <td>-0.001648</td>\n",
       "      <td>-0.011338</td>\n",
       "      <td>-0.007153</td>\n",
       "      <td>0.008813</td>\n",
       "    </tr>\n",
       "    <tr>\n",
       "      <th>numPrevOwners</th>\n",
       "      <td>0.016619</td>\n",
       "      <td>0.016766</td>\n",
       "      <td>0.004279</td>\n",
       "      <td>-0.006848</td>\n",
       "      <td>0.002463</td>\n",
       "      <td>-0.007549</td>\n",
       "      <td>0.009238</td>\n",
       "      <td>1.000000</td>\n",
       "      <td>0.006858</td>\n",
       "      <td>-0.017420</td>\n",
       "      <td>0.002522</td>\n",
       "      <td>-0.000862</td>\n",
       "      <td>0.000719</td>\n",
       "      <td>0.020268</td>\n",
       "      <td>0.031707</td>\n",
       "      <td>-0.006082</td>\n",
       "      <td>0.016619</td>\n",
       "    </tr>\n",
       "    <tr>\n",
       "      <th>made</th>\n",
       "      <td>-0.007207</td>\n",
       "      <td>0.003978</td>\n",
       "      <td>0.002214</td>\n",
       "      <td>0.001894</td>\n",
       "      <td>0.005022</td>\n",
       "      <td>0.009266</td>\n",
       "      <td>0.007748</td>\n",
       "      <td>0.006858</td>\n",
       "      <td>1.000000</td>\n",
       "      <td>-0.001678</td>\n",
       "      <td>-0.000645</td>\n",
       "      <td>-0.005506</td>\n",
       "      <td>0.013773</td>\n",
       "      <td>0.005687</td>\n",
       "      <td>-0.007868</td>\n",
       "      <td>-0.005431</td>\n",
       "      <td>-0.007210</td>\n",
       "    </tr>\n",
       "    <tr>\n",
       "      <th>isNewBuilt</th>\n",
       "      <td>-0.010667</td>\n",
       "      <td>-0.002865</td>\n",
       "      <td>-0.008370</td>\n",
       "      <td>0.000188</td>\n",
       "      <td>0.002458</td>\n",
       "      <td>-0.000224</td>\n",
       "      <td>-0.001874</td>\n",
       "      <td>-0.017420</td>\n",
       "      <td>-0.001678</td>\n",
       "      <td>1.000000</td>\n",
       "      <td>0.003200</td>\n",
       "      <td>-0.015986</td>\n",
       "      <td>0.020127</td>\n",
       "      <td>0.002749</td>\n",
       "      <td>0.007011</td>\n",
       "      <td>0.019895</td>\n",
       "      <td>-0.010643</td>\n",
       "    </tr>\n",
       "    <tr>\n",
       "      <th>hasStormProtector</th>\n",
       "      <td>0.007480</td>\n",
       "      <td>-0.001656</td>\n",
       "      <td>-0.007598</td>\n",
       "      <td>-0.001001</td>\n",
       "      <td>-0.008566</td>\n",
       "      <td>-0.004941</td>\n",
       "      <td>0.005224</td>\n",
       "      <td>0.002522</td>\n",
       "      <td>-0.000645</td>\n",
       "      <td>0.003200</td>\n",
       "      <td>1.000000</td>\n",
       "      <td>-0.005001</td>\n",
       "      <td>-0.003753</td>\n",
       "      <td>0.003758</td>\n",
       "      <td>0.001401</td>\n",
       "      <td>-0.006549</td>\n",
       "      <td>0.007496</td>\n",
       "    </tr>\n",
       "    <tr>\n",
       "      <th>basement</th>\n",
       "      <td>-0.003960</td>\n",
       "      <td>-0.013990</td>\n",
       "      <td>-0.008558</td>\n",
       "      <td>-0.007268</td>\n",
       "      <td>0.006228</td>\n",
       "      <td>0.002652</td>\n",
       "      <td>0.004743</td>\n",
       "      <td>-0.000862</td>\n",
       "      <td>-0.005506</td>\n",
       "      <td>-0.015986</td>\n",
       "      <td>-0.005001</td>\n",
       "      <td>1.000000</td>\n",
       "      <td>-0.003180</td>\n",
       "      <td>0.000117</td>\n",
       "      <td>-0.010815</td>\n",
       "      <td>-0.020732</td>\n",
       "      <td>-0.003967</td>\n",
       "    </tr>\n",
       "    <tr>\n",
       "      <th>attic</th>\n",
       "      <td>-0.000588</td>\n",
       "      <td>0.012061</td>\n",
       "      <td>-0.003085</td>\n",
       "      <td>-0.011901</td>\n",
       "      <td>-0.000270</td>\n",
       "      <td>-0.002019</td>\n",
       "      <td>0.010696</td>\n",
       "      <td>0.000719</td>\n",
       "      <td>0.013773</td>\n",
       "      <td>0.020127</td>\n",
       "      <td>-0.003753</td>\n",
       "      <td>-0.003180</td>\n",
       "      <td>1.000000</td>\n",
       "      <td>-0.000611</td>\n",
       "      <td>-0.000789</td>\n",
       "      <td>-0.011995</td>\n",
       "      <td>-0.000600</td>\n",
       "    </tr>\n",
       "    <tr>\n",
       "      <th>garage</th>\n",
       "      <td>-0.017246</td>\n",
       "      <td>0.023188</td>\n",
       "      <td>-0.004626</td>\n",
       "      <td>0.004832</td>\n",
       "      <td>0.011303</td>\n",
       "      <td>-0.002208</td>\n",
       "      <td>-0.001648</td>\n",
       "      <td>0.020268</td>\n",
       "      <td>0.005687</td>\n",
       "      <td>0.002749</td>\n",
       "      <td>0.003758</td>\n",
       "      <td>0.000117</td>\n",
       "      <td>-0.000611</td>\n",
       "      <td>1.000000</td>\n",
       "      <td>0.032863</td>\n",
       "      <td>-0.017316</td>\n",
       "      <td>-0.017229</td>\n",
       "    </tr>\n",
       "    <tr>\n",
       "      <th>hasStorageRoom</th>\n",
       "      <td>-0.003486</td>\n",
       "      <td>-0.004760</td>\n",
       "      <td>-0.009506</td>\n",
       "      <td>0.001238</td>\n",
       "      <td>0.003616</td>\n",
       "      <td>0.002554</td>\n",
       "      <td>-0.011338</td>\n",
       "      <td>0.031707</td>\n",
       "      <td>-0.007868</td>\n",
       "      <td>0.007011</td>\n",
       "      <td>0.001401</td>\n",
       "      <td>-0.010815</td>\n",
       "      <td>-0.000789</td>\n",
       "      <td>0.032863</td>\n",
       "      <td>1.000000</td>\n",
       "      <td>0.015186</td>\n",
       "      <td>-0.003485</td>\n",
       "    </tr>\n",
       "    <tr>\n",
       "      <th>hasGuestRoom</th>\n",
       "      <td>-0.000623</td>\n",
       "      <td>-0.015529</td>\n",
       "      <td>-0.007276</td>\n",
       "      <td>0.001123</td>\n",
       "      <td>-0.021155</td>\n",
       "      <td>-0.003338</td>\n",
       "      <td>-0.007153</td>\n",
       "      <td>-0.006082</td>\n",
       "      <td>-0.005431</td>\n",
       "      <td>0.019895</td>\n",
       "      <td>-0.006549</td>\n",
       "      <td>-0.020732</td>\n",
       "      <td>-0.011995</td>\n",
       "      <td>-0.017316</td>\n",
       "      <td>0.015186</td>\n",
       "      <td>1.000000</td>\n",
       "      <td>-0.000644</td>\n",
       "    </tr>\n",
       "    <tr>\n",
       "      <th>price</th>\n",
       "      <td>0.999999</td>\n",
       "      <td>0.009591</td>\n",
       "      <td>-0.006119</td>\n",
       "      <td>-0.005070</td>\n",
       "      <td>0.001654</td>\n",
       "      <td>-0.001539</td>\n",
       "      <td>0.008813</td>\n",
       "      <td>0.016619</td>\n",
       "      <td>-0.007210</td>\n",
       "      <td>-0.010643</td>\n",
       "      <td>0.007496</td>\n",
       "      <td>-0.003967</td>\n",
       "      <td>-0.000600</td>\n",
       "      <td>-0.017229</td>\n",
       "      <td>-0.003485</td>\n",
       "      <td>-0.000644</td>\n",
       "      <td>1.000000</td>\n",
       "    </tr>\n",
       "  </tbody>\n",
       "</table>\n",
       "</div>"
      ],
      "text/plain": [
       "                   squareMeters  numberOfRooms   hasYard   hasPool    floors  \\\n",
       "squareMeters           1.000000       0.009573 -0.006650 -0.005594  0.001109   \n",
       "numberOfRooms          0.009573       1.000000 -0.011240  0.017015  0.022244   \n",
       "hasYard               -0.006650      -0.011240  1.000000  0.015514 -0.000883   \n",
       "hasPool               -0.005594       0.017015  0.015514  1.000000 -0.004006   \n",
       "floors                 0.001109       0.022244 -0.000883 -0.004006  1.000000   \n",
       "cityCode              -0.001541       0.009040  0.006760  0.008072  0.002207   \n",
       "cityPartRange          0.008758       0.008340  0.005023  0.014613 -0.004921   \n",
       "numPrevOwners          0.016619       0.016766  0.004279 -0.006848  0.002463   \n",
       "made                  -0.007207       0.003978  0.002214  0.001894  0.005022   \n",
       "isNewBuilt            -0.010667      -0.002865 -0.008370  0.000188  0.002458   \n",
       "hasStormProtector      0.007480      -0.001656 -0.007598 -0.001001 -0.008566   \n",
       "basement              -0.003960      -0.013990 -0.008558 -0.007268  0.006228   \n",
       "attic                 -0.000588       0.012061 -0.003085 -0.011901 -0.000270   \n",
       "garage                -0.017246       0.023188 -0.004626  0.004832  0.011303   \n",
       "hasStorageRoom        -0.003486      -0.004760 -0.009506  0.001238  0.003616   \n",
       "hasGuestRoom          -0.000623      -0.015529 -0.007276  0.001123 -0.021155   \n",
       "price                  0.999999       0.009591 -0.006119 -0.005070  0.001654   \n",
       "\n",
       "                   cityCode  cityPartRange  numPrevOwners      made  \\\n",
       "squareMeters      -0.001541       0.008758       0.016619 -0.007207   \n",
       "numberOfRooms      0.009040       0.008340       0.016766  0.003978   \n",
       "hasYard            0.006760       0.005023       0.004279  0.002214   \n",
       "hasPool            0.008072       0.014613      -0.006848  0.001894   \n",
       "floors             0.002207      -0.004921       0.002463  0.005022   \n",
       "cityCode           1.000000       0.011334      -0.007549  0.009266   \n",
       "cityPartRange      0.011334       1.000000       0.009238  0.007748   \n",
       "numPrevOwners     -0.007549       0.009238       1.000000  0.006858   \n",
       "made               0.009266       0.007748       0.006858  1.000000   \n",
       "isNewBuilt        -0.000224      -0.001874      -0.017420 -0.001678   \n",
       "hasStormProtector -0.004941       0.005224       0.002522 -0.000645   \n",
       "basement           0.002652       0.004743      -0.000862 -0.005506   \n",
       "attic             -0.002019       0.010696       0.000719  0.013773   \n",
       "garage            -0.002208      -0.001648       0.020268  0.005687   \n",
       "hasStorageRoom     0.002554      -0.011338       0.031707 -0.007868   \n",
       "hasGuestRoom      -0.003338      -0.007153      -0.006082 -0.005431   \n",
       "price             -0.001539       0.008813       0.016619 -0.007210   \n",
       "\n",
       "                   isNewBuilt  hasStormProtector  basement     attic  \\\n",
       "squareMeters        -0.010667           0.007480 -0.003960 -0.000588   \n",
       "numberOfRooms       -0.002865          -0.001656 -0.013990  0.012061   \n",
       "hasYard             -0.008370          -0.007598 -0.008558 -0.003085   \n",
       "hasPool              0.000188          -0.001001 -0.007268 -0.011901   \n",
       "floors               0.002458          -0.008566  0.006228 -0.000270   \n",
       "cityCode            -0.000224          -0.004941  0.002652 -0.002019   \n",
       "cityPartRange       -0.001874           0.005224  0.004743  0.010696   \n",
       "numPrevOwners       -0.017420           0.002522 -0.000862  0.000719   \n",
       "made                -0.001678          -0.000645 -0.005506  0.013773   \n",
       "isNewBuilt           1.000000           0.003200 -0.015986  0.020127   \n",
       "hasStormProtector    0.003200           1.000000 -0.005001 -0.003753   \n",
       "basement            -0.015986          -0.005001  1.000000 -0.003180   \n",
       "attic                0.020127          -0.003753 -0.003180  1.000000   \n",
       "garage               0.002749           0.003758  0.000117 -0.000611   \n",
       "hasStorageRoom       0.007011           0.001401 -0.010815 -0.000789   \n",
       "hasGuestRoom         0.019895          -0.006549 -0.020732 -0.011995   \n",
       "price               -0.010643           0.007496 -0.003967 -0.000600   \n",
       "\n",
       "                     garage  hasStorageRoom  hasGuestRoom     price  \n",
       "squareMeters      -0.017246       -0.003486     -0.000623  0.999999  \n",
       "numberOfRooms      0.023188       -0.004760     -0.015529  0.009591  \n",
       "hasYard           -0.004626       -0.009506     -0.007276 -0.006119  \n",
       "hasPool            0.004832        0.001238      0.001123 -0.005070  \n",
       "floors             0.011303        0.003616     -0.021155  0.001654  \n",
       "cityCode          -0.002208        0.002554     -0.003338 -0.001539  \n",
       "cityPartRange     -0.001648       -0.011338     -0.007153  0.008813  \n",
       "numPrevOwners      0.020268        0.031707     -0.006082  0.016619  \n",
       "made               0.005687       -0.007868     -0.005431 -0.007210  \n",
       "isNewBuilt         0.002749        0.007011      0.019895 -0.010643  \n",
       "hasStormProtector  0.003758        0.001401     -0.006549  0.007496  \n",
       "basement           0.000117       -0.010815     -0.020732 -0.003967  \n",
       "attic             -0.000611       -0.000789     -0.011995 -0.000600  \n",
       "garage             1.000000        0.032863     -0.017316 -0.017229  \n",
       "hasStorageRoom     0.032863        1.000000      0.015186 -0.003485  \n",
       "hasGuestRoom      -0.017316        0.015186      1.000000 -0.000644  \n",
       "price             -0.017229       -0.003485     -0.000644  1.000000  "
      ]
     },
     "execution_count": 7,
     "metadata": {},
     "output_type": "execute_result"
    }
   ],
   "source": [
    "df.corr()"
   ]
  },
  {
   "cell_type": "code",
   "execution_count": 8,
   "id": "dc8eb7ef-caf6-482b-9aa6-e66db7584410",
   "metadata": {},
   "outputs": [],
   "source": [
    "# Целевая переменная\n",
    "y = df['price']\n",
    "X = df.drop(columns=['price'])"
   ]
  },
  {
   "cell_type": "code",
   "execution_count": 9,
   "id": "021947e0-0045-40fc-a249-0811f248ad09",
   "metadata": {},
   "outputs": [
    {
     "name": "stdout",
     "output_type": "stream",
     "text": [
      "squareMeters         6.566358\n",
      "cityCode             0.026265\n",
      "numPrevOwners        0.012794\n",
      "cityPartRange        0.011770\n",
      "floors               0.009026\n",
      "numberOfRooms        0.009001\n",
      "hasYard              0.007757\n",
      "attic                0.005434\n",
      "isNewBuilt           0.004307\n",
      "hasGuestRoom         0.002099\n",
      "hasStorageRoom       0.000711\n",
      "hasPool              0.000356\n",
      "made                 0.000000\n",
      "hasStormProtector    0.000000\n",
      "basement             0.000000\n",
      "garage               0.000000\n",
      "dtype: float64\n"
     ]
    }
   ],
   "source": [
    "# Вычисляем MI\n",
    "mi_scores = mutual_info_regression(X, y)\n",
    "\n",
    "# Оформляем результат в DataFrame\n",
    "mi_scores = pd.Series(mi_scores, index=X.columns)\n",
    "mi_scores = mi_scores.sort_values(ascending=False)\n",
    "\n",
    "# Выводим топ-10 признаков\n",
    "print(mi_scores)"
   ]
  },
  {
   "cell_type": "code",
   "execution_count": 10,
   "id": "5dcf9550-5edb-4a91-a393-a1a44e6c8015",
   "metadata": {},
   "outputs": [],
   "source": [
    "X_prob = df.drop(columns=['price','squareMeters'])"
   ]
  },
  {
   "cell_type": "code",
   "execution_count": 11,
   "id": "b42504d8-7fed-46c3-8ec8-9ac9783007ed",
   "metadata": {},
   "outputs": [
    {
     "name": "stdout",
     "output_type": "stream",
     "text": [
      "cityCode             0.026293\n",
      "numPrevOwners        0.012794\n",
      "cityPartRange        0.011770\n",
      "hasYard              0.007757\n",
      "attic                0.005367\n",
      "isNewBuilt           0.004307\n",
      "numberOfRooms        0.003532\n",
      "floors               0.002892\n",
      "hasGuestRoom         0.002099\n",
      "hasStorageRoom       0.000711\n",
      "hasPool              0.000356\n",
      "made                 0.000000\n",
      "hasStormProtector    0.000000\n",
      "basement             0.000000\n",
      "garage               0.000000\n",
      "dtype: float64\n"
     ]
    }
   ],
   "source": [
    "# Вычисляем MI\n",
    "mi_scores = mutual_info_regression(X_prob, y)\n",
    "\n",
    "# Оформляем результат в DataFrame\n",
    "mi_scores = pd.Series(mi_scores, index=X_prob.columns)\n",
    "mi_scores = mi_scores.sort_values(ascending=False)\n",
    "\n",
    "# Выводим топ-10 признаков\n",
    "print(mi_scores)"
   ]
  },
  {
   "cell_type": "code",
   "execution_count": 12,
   "id": "752d1f31-d3d9-4bf0-885e-b3329a4ce6f9",
   "metadata": {},
   "outputs": [],
   "source": [
    "X_prob2 = df.drop(columns=['price','hasGuestRoom','squareMeters'])"
   ]
  },
  {
   "cell_type": "code",
   "execution_count": 13,
   "id": "6b4d6b87-f1e2-4ce6-a1e0-e7f321d95b8e",
   "metadata": {},
   "outputs": [
    {
     "name": "stdout",
     "output_type": "stream",
     "text": [
      "cityCode             0.026267\n",
      "numPrevOwners        0.012794\n",
      "cityPartRange        0.011765\n",
      "hasYard              0.007757\n",
      "numberOfRooms        0.007011\n",
      "floors               0.006065\n",
      "attic                0.005413\n",
      "isNewBuilt           0.004287\n",
      "hasStorageRoom       0.000691\n",
      "hasPool              0.000356\n",
      "made                 0.000000\n",
      "hasStormProtector    0.000000\n",
      "basement             0.000000\n",
      "garage               0.000000\n",
      "dtype: float64\n"
     ]
    }
   ],
   "source": [
    "# Вычисляем MI\n",
    "mi_scores = mutual_info_regression(X_prob2, y)\n",
    "\n",
    "# Оформляем результат в DataFrame\n",
    "mi_scores = pd.Series(mi_scores, index=X_prob2.columns)\n",
    "mi_scores = mi_scores.sort_values(ascending=False)\n",
    "\n",
    "# Выводим топ-10 признаков\n",
    "print(mi_scores)"
   ]
  },
  {
   "cell_type": "code",
   "execution_count": null,
   "id": "ad3e916e-5d1f-4fcb-b26d-41c50aecb505",
   "metadata": {},
   "outputs": [],
   "source": [
    "# Исключаем ненужные признаки (малая корреляция 0-е MI)\n",
    "drop_columns = ['price', 'made', 'hasStormProtector', 'basement', 'garage']\n",
    "X_prob3 = df.drop(columns=drop_columns)\n",
    "\n",
    "# Применяем PCA для одного компонента\n",
    "pca = PCA(n_components=1)\n",
    "quality_index = pca.fit_transform(X_prob3)\n",
    "\n",
    "# Создаём финальный DataFrame с новым признаком\n",
    "X_final = pd.DataFrame(quality_index, columns=['quality_index'])\n",
    "\n",
    "# Проверяем форму данных\n",
    "print(X_final.shape)"
   ]
  },
  {
   "cell_type": "code",
   "execution_count": null,
   "id": "852ac0fb-8712-43d1-be3d-3db5f1b622e3",
   "metadata": {},
   "outputs": [],
   "source": [
    "X_final"
   ]
  },
  {
   "cell_type": "code",
   "execution_count": 16,
   "id": "2678b059-9faa-463a-b4d0-714eb32aa864",
   "metadata": {},
   "outputs": [],
   "source": [
    "X_train, X_test, y_train, y_test = train_test_split(X, y, test_size=0.2, random_state=42)"
   ]
  },
  {
   "cell_type": "code",
   "execution_count": 17,
   "id": "8c2cfbe3-5a03-4cd7-9d60-05212f72fa58",
   "metadata": {},
   "outputs": [],
   "source": [
    "X_train, X_val, y_train, y_val = train_test_split(X_train, y_train, test_size=0.2, random_state=42)"
   ]
  },
  {
   "cell_type": "code",
   "execution_count": 18,
   "id": "e6f94da3-1779-4814-be71-5e6266e43f2e",
   "metadata": {},
   "outputs": [],
   "source": [
    "scaler = StandardScaler()\n",
    "X_train_scaled = scaler.fit_transform(X_train)\n",
    "X_val_scaled = scaler.transform(X_val)\n",
    "X_test_scaled = scaler.transform(X_test)"
   ]
  },
  {
   "cell_type": "code",
   "execution_count": 19,
   "id": "98ab7707-3d7b-45d2-ade3-fd0bf68fc6fd",
   "metadata": {},
   "outputs": [],
   "source": [
    "# Конвертируем в тензоры\n",
    "X_train_tensor = torch.tensor(X_train_scaled, dtype=torch.float32)\n",
    "y_train_tensor = torch.tensor(y_train.values, dtype=torch.float32).unsqueeze(1)\n",
    "\n",
    "X_test_tensor = torch.tensor(X_test_scaled, dtype=torch.float32)\n",
    "y_test_tensor = torch.tensor(y_test.values, dtype=torch.float32).unsqueeze(1)\n",
    "\n",
    "X_val_tensor = torch.tensor(X_val_scaled, dtype=torch.float32)\n",
    "y_val_tensor = torch.tensor(y_val.values, dtype=torch.float32).unsqueeze(1)"
   ]
  },
  {
   "cell_type": "code",
   "execution_count": 33,
   "id": "985971df-a375-42c7-9630-1cf74acc0105",
   "metadata": {},
   "outputs": [
    {
     "data": {
      "text/plain": [
       "True"
      ]
     },
     "execution_count": 33,
     "metadata": {},
     "output_type": "execute_result"
    }
   ],
   "source": [
    "load_dotenv()"
   ]
  },
  {
   "cell_type": "code",
   "execution_count": 115,
   "id": "592661fb-fff4-4c6a-9623-795bf083f19d",
   "metadata": {},
   "outputs": [
    {
     "name": "stdout",
     "output_type": "stream",
     "text": [
      "[neptune] [info   ] Neptune initialized. Open in the app: https://app.neptune.ai/saatarko/financescoring/e/FIN-29\n"
     ]
    }
   ],
   "source": [
    "run = neptune.init_run(\n",
    "        project=os.getenv(\"NEPTUNE_PROJECT\"), \n",
    "        api_token=os.getenv(\"NEPTUNE_API_TOKEN\"),\n",
    "        capture_stdout=True,\n",
    "        capture_stderr=True,\n",
    "        capture_traceback=True,\n",
    "        capture_hardware_metrics=True\n",
    "    ) "
   ]
  },
  {
   "cell_type": "code",
   "execution_count": 94,
   "id": "2e8de9ec-cfd4-439f-99e4-ca00b725218f",
   "metadata": {},
   "outputs": [],
   "source": [
    "class ParisDataset(Dataset):\n",
    "    def __init__(self, X, y=None):\n",
    "        self.X = X\n",
    "        self.y = y  \n",
    "\n",
    "    def __len__(self):\n",
    "        return len(self.X)\n",
    "\n",
    "    def __getitem__(self, idx):\n",
    "        if self.y is not None:\n",
    "            # Возвращаем как тензоры\n",
    "            return self.X[idx].float(), self.y[idx].float()\n",
    "        return self.X[idx].float()\n",
    "\n",
    "# Создаём датасеты\n",
    "train_dataset = ParisDataset(X_train_tensor, y_train_tensor)\n",
    "val_dataset = ParisDataset(X_val_tensor, y_val_tensor)  \n",
    "test_dataset = ParisDataset(X_test_tensor, y_test_tensor)"
   ]
  },
  {
   "cell_type": "code",
   "execution_count": 120,
   "id": "faca98f5-5b09-4171-9ad8-acb8e2a68dd7",
   "metadata": {},
   "outputs": [],
   "source": [
    "def train_model(config, trial):\n",
    "\n",
    "    results = []  # Инициализация списка для хранения результатов\n",
    "    \n",
    "    device = \"cuda\" if torch.cuda.is_available() else \"cpu\"\n",
    "    \n",
    "  \n",
    "    epochs = 600 \n",
    "\n",
    "    # Подготовка данных\n",
    "    train_loader = DataLoader(train_dataset, batch_size=config[\"batch_size\"], shuffle=True)\n",
    "    val_loader = DataLoader(val_dataset, batch_size=config[\"batch_size\"], shuffle=False)\n",
    "    \n",
    "    # Инициализация модели и оптимизатора\n",
    "    model = SimpleNN(config[\"num_layers\"], config[\"layers\"], config[\"dropout\"], config[\"activation\"]).to(device)\n",
    "    optimizer = {\n",
    "        \"Adam\": optim.Adam(model.parameters(), lr=config[\"learning_rate\"]),\n",
    "        \"SGD\": optim.SGD(model.parameters(), lr=config[\"learning_rate\"]),\n",
    "        \"RMSprop\": optim.RMSprop(model.parameters(), lr=config[\"learning_rate\"]),\n",
    "    }[config[\"optimizer\"]]\n",
    "    \n",
    "    # Используем Huber Loss (SmoothL1Loss)\n",
    "    criterion = nn.SmoothL1Loss()  # Huber Loss\n",
    "    \n",
    "    # Логирование гиперпараметров в Neptune\n",
    "    run[f'trials/{trial.number}/parameters'] = {\n",
    "        'learning_rate': config[\"learning_rate\"],\n",
    "        'batch_size': config[\"batch_size\"],\n",
    "        'num_layers': config[\"num_layers\"],\n",
    "        'layers': config[\"layers\"],\n",
    "        'dropout': config[\"dropout\"],\n",
    "        'activation': config[\"activation\"],\n",
    "        'optimizer': config[\"optimizer\"]\n",
    "    }\n",
    "    \n",
    "    # Инициализация TensorBoard\n",
    "    writer = SummaryWriter(log_dir=f'content/logs/{trial.number}')\n",
    "    \n",
    "    # Параметры ранней остановки\n",
    "    patience = 30  # количество эпох без улучшений до остановки\n",
    "    best_val_loss = np.inf\n",
    "    epochs_no_improve = 0\n",
    "    best_model_wts = None\n",
    "\n",
    "    # Списки для логирования потерь\n",
    "    train_losses = []\n",
    "    val_losses = []\n",
    "    val_mses = []  # Для MSE на валидации\n",
    "    val_maes = []  # Для MAE на валидации\n",
    "\n",
    "    start_time = time.time()\n",
    "\n",
    "    for epoch in range(epochs):  # теперь epochs определена\n",
    "        model.train()\n",
    "        running_loss = 0.0\n",
    "        for inputs, labels in train_loader:\n",
    "            inputs, labels = inputs.to(device), labels.to(device)\n",
    "    \n",
    "            optimizer.zero_grad()\n",
    "            outputs = model(inputs)\n",
    "            loss = criterion(outputs, labels)\n",
    "            loss.backward()\n",
    "\n",
    "            # Ограничиваем значение градиентов\n",
    "            torch.nn.utils.clip_grad_value_(model.parameters(), clip_value=1.0)\n",
    "    \n",
    "            optimizer.step()\n",
    "    \n",
    "            running_loss += loss.item()\n",
    "\n",
    "        # Логирование потерь на TensorBoard\n",
    "        writer.add_scalar('Loss/train', running_loss / len(train_loader), epoch)\n",
    "        train_losses.append(running_loss / len(train_loader))\n",
    "\n",
    "        model.eval()\n",
    "        val_loss = 0.0\n",
    "        val_mse = 0.0  # Для удобства хранения MSE\n",
    "        val_mae = 0.0  # Для удобства хранения MAE\n",
    "        \n",
    "        with torch.no_grad():\n",
    "            for inputs, labels in val_loader:\n",
    "                inputs, labels = inputs.to(device), labels.to(device)\n",
    "                outputs = model(inputs)\n",
    "                loss = criterion(outputs, labels)\n",
    "                val_loss += loss.item()\n",
    "        \n",
    "                # Для регрессии считаем MSE и MAE\n",
    "                val_mse += mean_squared_error(labels.cpu(), outputs.cpu())\n",
    "                val_mae += torch.mean(torch.abs(labels.cpu() - outputs.cpu()))\n",
    "        \n",
    "        # Среднее значение MSE и MAE для всех батчей\n",
    "        val_mse /= len(val_loader)\n",
    "        val_mae /= len(val_loader)\n",
    "        val_losses.append(val_loss / len(val_loader))\n",
    "        \n",
    "        # Логируем MSE и MAE на валидации в Neptune\n",
    "        run[f'trials/{trial.number}/epoch/{epoch+1}/val_mse'] = val_mse\n",
    "        run[f'trials/{trial.number}/epoch/{epoch+1}/val_mae'] = val_mae\n",
    "        \n",
    "        # print(f\"Epoch {epoch+1}, Loss: {running_loss / len(train_loader)}, Val Loss: {val_loss / len(val_loader)}, Val MSE: {val_mse:.4f}, Val MAE: {val_mae:.4f}\")\n",
    "\n",
    "        if val_loss < best_val_loss:\n",
    "            best_val_loss = val_loss\n",
    "            epochs_no_improve = 0\n",
    "            best_model_wts = model.state_dict()\n",
    "        else:\n",
    "            epochs_no_improve += 1\n",
    "        \n",
    "        if epochs_no_improve >= patience:\n",
    "            print(f\"⏹️ Early stopping at epoch {epoch+1}\")\n",
    "            break\n",
    "\n",
    "    # Восстановим лучшие веса\n",
    "    if best_model_wts is not None:\n",
    "        model.load_state_dict(best_model_wts)\n",
    "    else:\n",
    "        print(\"Нет лучших весов для загрузки.\")\n",
    "    \n",
    "    writer.flush()\n",
    "    writer.close()\n",
    "\n",
    "    # Сохраняем результаты\n",
    "    results.append({\n",
    "        \"loss\": best_val_loss,\n",
    "        \"optimizer\": config[\"optimizer\"],\n",
    "        \"device\": device,\n",
    "        \"val_mse\": val_mse,\n",
    "        \"val_mae\": val_mae,\n",
    "        \"training_time\": time.time() - start_time,\n",
    "        \"train_losses\": train_losses,\n",
    "        \"val_losses\": val_losses\n",
    "    })\n",
    "    \n",
    "    # Логируем метрики в Neptune по эпохам\n",
    "    for epoch in range(len(train_losses)):\n",
    "        run[f\"trials/{trial.number}/metrics/train_loss\"].log(train_losses[epoch], step=epoch)\n",
    "        run[f\"trials/{trial.number}/metrics/val_loss\"].log(val_losses[epoch], step=epoch)\n",
    "        run[f\"trials/{trial.number}/metrics/val_mse\"].log(val_mses[epoch], step=epoch)\n",
    "        run[f\"trials/{trial.number}/metrics/val_mae\"].log(val_maes[epoch], step=epoch)\n",
    "\n",
    "\n",
    "    # Выводим все результаты\n",
    "    print(\"\\n📊 Итоговые результаты:\")\n",
    "    for res in results:\n",
    "        print(f\"Loss: {res['loss']} + {res['optimizer']} на {res['device']} | MSE: {res['val_mse']:.4f} | MAE: {res['val_mae']:.4f} | Время обучения: {res['training_time']}\")\n",
    "\n",
    "    # Возвращаем метрику для оптимизации в Optuna\n",
    "    return best_val_loss"
   ]
  },
  {
   "cell_type": "code",
   "execution_count": 113,
   "id": "c63441c8-9896-4cb7-bbfe-92d56d440709",
   "metadata": {},
   "outputs": [],
   "source": [
    "# Определение конфигурации гиперпараметров для Optuna\n",
    "def objective(trial):\n",
    "    config = {\n",
    "        \"learning_rate\": trial.suggest_categorical(\"learning_rate\", [0.1, 0.01, 0.001]),\n",
    "        \"batch_size\": trial.suggest_categorical(\"batch_size\", [32, 64]),\n",
    "        \"num_layers\": trial.suggest_int(\"num_layers\", 2, 6),\n",
    "        \"layers\": trial.suggest_categorical(\"layers\", [35, 50, 75, 100, 250, 350, 500]),\n",
    "        \"dropout\": trial.suggest_float(\"dropout\", 0.1, 0.3),\n",
    "        \"activation\": trial.suggest_categorical(\"activation\", [\"relu\", \"leaky_relu\"]),\n",
    "        \"optimizer\": trial.suggest_categorical(\"optimizer\", [\"Adam\", \"SGD\", \"RMSprop\"]),\n",
    "    }\n",
    "\n",
    "    # Передаем конфигурацию в функцию обучения\n",
    "    return train_model(config, trial)"
   ]
  },
  {
   "cell_type": "code",
   "execution_count": 116,
   "id": "4bbd38fe-dccf-4080-bb50-306e731ed544",
   "metadata": {},
   "outputs": [
    {
     "name": "stderr",
     "output_type": "stream",
     "text": [
      "[I 2025-03-25 16:28:30,512] A new study created in memory with name: no-name-81f7d7ef-4b8b-4fe1-a349-d739012c1774\n",
      "[I 2025-03-25 16:29:49,711] Trial 0 finished with value: 862612.607421875 and parameters: {'learning_rate': 0.001, 'batch_size': 64, 'num_layers': 4, 'layers': 50, 'dropout': 0.17283682269675155, 'activation': 'leaky_relu', 'optimizer': 'SGD'}. Best is trial 0 with value: 862612.607421875.\n"
     ]
    },
    {
     "name": "stdout",
     "output_type": "stream",
     "text": [
      "⏹️ Early stopping at epoch 254\n",
      "\n",
      "📊 Итоговые результаты:\n",
      "Loss: 862612.607421875 + SGD на cuda | MSE: 5265767464.9600 | MAE: 64261.1641 | Время обучения: 79.16737580299377\n"
     ]
    },
    {
     "name": "stderr",
     "output_type": "stream",
     "text": [
      "[I 2025-03-25 16:30:20,305] Trial 1 finished with value: 6399139.1875 and parameters: {'learning_rate': 0.1, 'batch_size': 64, 'num_layers': 4, 'layers': 75, 'dropout': 0.16278628497212644, 'activation': 'leaky_relu', 'optimizer': 'RMSprop'}. Best is trial 0 with value: 862612.607421875.\n"
     ]
    },
    {
     "name": "stdout",
     "output_type": "stream",
     "text": [
      "⏹️ Early stopping at epoch 92\n",
      "\n",
      "📊 Итоговые результаты:\n",
      "Loss: 6399139.1875 + RMSprop на cuda | MSE: 338600807628.8000 | MAE: 445693.1875 | Время обучения: 30.57328486442566\n"
     ]
    },
    {
     "name": "stderr",
     "output_type": "stream",
     "text": [
      "[I 2025-03-25 16:31:36,361] Trial 2 finished with value: 1357004.91015625 and parameters: {'learning_rate': 0.001, 'batch_size': 32, 'num_layers': 3, 'layers': 500, 'dropout': 0.11227971898360732, 'activation': 'relu', 'optimizer': 'SGD'}. Best is trial 0 with value: 862612.607421875.\n"
     ]
    },
    {
     "name": "stdout",
     "output_type": "stream",
     "text": [
      "⏹️ Early stopping at epoch 138\n",
      "\n",
      "📊 Итоговые результаты:\n",
      "Loss: 1357004.91015625 + SGD на cuda | MSE: 1601983157.7600 | MAE: 31605.2656 | Время обучения: 76.03120350837708\n"
     ]
    },
    {
     "name": "stderr",
     "output_type": "stream",
     "text": [
      "[I 2025-03-25 16:31:48,976] Trial 3 finished with value: 41185871.0 and parameters: {'learning_rate': 0.1, 'batch_size': 64, 'num_layers': 5, 'layers': 50, 'dropout': 0.23475814549914267, 'activation': 'leaky_relu', 'optimizer': 'SGD'}. Best is trial 0 with value: 862612.607421875.\n"
     ]
    },
    {
     "name": "stdout",
     "output_type": "stream",
     "text": [
      "⏹️ Early stopping at epoch 32\n",
      "\n",
      "📊 Итоговые результаты:\n",
      "Loss: 41185871.0 + SGD на cuda | MSE: 10160990846976.0000 | MAE: 2788103.7500 | Время обучения: 12.590619325637817\n"
     ]
    },
    {
     "name": "stderr",
     "output_type": "stream",
     "text": [
      "[I 2025-03-25 16:32:21,002] Trial 4 finished with value: 984013.00390625 and parameters: {'learning_rate': 0.01, 'batch_size': 64, 'num_layers': 3, 'layers': 75, 'dropout': 0.29775005444745184, 'activation': 'relu', 'optimizer': 'SGD'}. Best is trial 0 with value: 862612.607421875.\n"
     ]
    },
    {
     "name": "stdout",
     "output_type": "stream",
     "text": [
      "⏹️ Early stopping at epoch 110\n",
      "\n",
      "📊 Итоговые результаты:\n",
      "Loss: 984013.00390625 + SGD на cuda | MSE: 5635179130.8800 | MAE: 60465.5469 | Время обучения: 32.00939083099365\n"
     ]
    },
    {
     "name": "stderr",
     "output_type": "stream",
     "text": [
      "[I 2025-03-25 16:32:51,979] Trial 5 finished with value: 26641488.96875 and parameters: {'learning_rate': 0.1, 'batch_size': 32, 'num_layers': 5, 'layers': 250, 'dropout': 0.19190772763665118, 'activation': 'leaky_relu', 'optimizer': 'SGD'}. Best is trial 0 with value: 862612.607421875.\n"
     ]
    },
    {
     "name": "stdout",
     "output_type": "stream",
     "text": [
      "⏹️ Early stopping at epoch 44\n",
      "\n",
      "📊 Итоговые результаты:\n",
      "Loss: 26641488.96875 + SGD на cuda | MSE: 5768233475274713088.0000 | MAE: 76637888.0000 | Время обучения: 30.952025175094604\n"
     ]
    },
    {
     "name": "stderr",
     "output_type": "stream",
     "text": [
      "[I 2025-03-25 16:33:44,126] Trial 6 finished with value: 3526322.1328125 and parameters: {'learning_rate': 0.01, 'batch_size': 32, 'num_layers': 4, 'layers': 100, 'dropout': 0.14122060938621483, 'activation': 'relu', 'optimizer': 'RMSprop'}. Best is trial 0 with value: 862612.607421875.\n"
     ]
    },
    {
     "name": "stdout",
     "output_type": "stream",
     "text": [
      "⏹️ Early stopping at epoch 78\n",
      "\n",
      "📊 Итоговые результаты:\n",
      "Loss: 3526322.1328125 + RMSprop на cuda | MSE: 150872331223.0400 | MAE: 340457.6875 | Время обучения: 52.116517543792725\n"
     ]
    },
    {
     "name": "stderr",
     "output_type": "stream",
     "text": [
      "[I 2025-03-25 16:34:17,756] Trial 7 finished with value: 3840847.03515625 and parameters: {'learning_rate': 0.01, 'batch_size': 32, 'num_layers': 4, 'layers': 100, 'dropout': 0.11042205088914046, 'activation': 'relu', 'optimizer': 'Adam'}. Best is trial 0 with value: 862612.607421875.\n"
     ]
    },
    {
     "name": "stdout",
     "output_type": "stream",
     "text": [
      "⏹️ Early stopping at epoch 50\n",
      "\n",
      "📊 Итоговые результаты:\n",
      "Loss: 3840847.03515625 + Adam на cuda | MSE: 31109247406.0800 | MAE: 152411.2812 | Время обучения: 33.60402822494507\n"
     ]
    },
    {
     "name": "stderr",
     "output_type": "stream",
     "text": [
      "[I 2025-03-25 16:35:23,509] Trial 8 finished with value: 984402.71484375 and parameters: {'learning_rate': 0.001, 'batch_size': 64, 'num_layers': 5, 'layers': 350, 'dropout': 0.24560268013429462, 'activation': 'leaky_relu', 'optimizer': 'Adam'}. Best is trial 0 with value: 862612.607421875.\n"
     ]
    },
    {
     "name": "stdout",
     "output_type": "stream",
     "text": [
      "⏹️ Early stopping at epoch 168\n",
      "\n",
      "📊 Итоговые результаты:\n",
      "Loss: 984402.71484375 + Adam на cuda | MSE: 8857009070.0800 | MAE: 77323.3828 | Время обучения: 65.72274661064148\n"
     ]
    },
    {
     "name": "stderr",
     "output_type": "stream",
     "text": [
      "[I 2025-03-25 16:36:09,737] Trial 9 finished with value: 505589.54296875 and parameters: {'learning_rate': 0.01, 'batch_size': 64, 'num_layers': 2, 'layers': 250, 'dropout': 0.12098281754351181, 'activation': 'relu', 'optimizer': 'RMSprop'}. Best is trial 9 with value: 505589.54296875.\n"
     ]
    },
    {
     "name": "stdout",
     "output_type": "stream",
     "text": [
      "⏹️ Early stopping at epoch 130\n",
      "\n",
      "📊 Итоговые результаты:\n",
      "Loss: 505589.54296875 + RMSprop на cuda | MSE: 1372631552.0000 | MAE: 29620.0332 | Время обучения: 46.20758843421936\n"
     ]
    },
    {
     "name": "stderr",
     "output_type": "stream",
     "text": [
      "[I 2025-03-25 16:36:54,380] Trial 10 finished with value: 540683.63671875 and parameters: {'learning_rate': 0.01, 'batch_size': 64, 'num_layers': 2, 'layers': 250, 'dropout': 0.2279671097085171, 'activation': 'relu', 'optimizer': 'RMSprop'}. Best is trial 9 with value: 505589.54296875.\n"
     ]
    },
    {
     "name": "stdout",
     "output_type": "stream",
     "text": [
      "⏹️ Early stopping at epoch 147\n",
      "\n",
      "📊 Итоговые результаты:\n",
      "Loss: 540683.63671875 + RMSprop на cuda | MSE: 1833092423.6800 | MAE: 35419.6289 | Время обучения: 44.607749462127686\n"
     ]
    },
    {
     "name": "stderr",
     "output_type": "stream",
     "text": [
      "[I 2025-03-25 16:37:20,585] Trial 11 finished with value: 636166.3046875 and parameters: {'learning_rate': 0.01, 'batch_size': 64, 'num_layers': 2, 'layers': 250, 'dropout': 0.22613309633617867, 'activation': 'relu', 'optimizer': 'RMSprop'}. Best is trial 9 with value: 505589.54296875.\n"
     ]
    },
    {
     "name": "stdout",
     "output_type": "stream",
     "text": [
      "⏹️ Early stopping at epoch 100\n",
      "\n",
      "📊 Итоговые результаты:\n",
      "Loss: 636166.3046875 + RMSprop на cuda | MSE: 1704139642.8800 | MAE: 33029.2969 | Время обучения: 26.174389600753784\n"
     ]
    },
    {
     "name": "stderr",
     "output_type": "stream",
     "text": [
      "[I 2025-03-25 16:38:01,319] Trial 12 finished with value: 1916542.1484375 and parameters: {'learning_rate': 0.01, 'batch_size': 64, 'num_layers': 2, 'layers': 35, 'dropout': 0.2653851944619029, 'activation': 'relu', 'optimizer': 'RMSprop'}. Best is trial 9 with value: 505589.54296875.\n"
     ]
    },
    {
     "name": "stdout",
     "output_type": "stream",
     "text": [
      "⏹️ Early stopping at epoch 148\n",
      "\n",
      "📊 Итоговые результаты:\n",
      "Loss: 1916542.1484375 + RMSprop на cuda | MSE: 16750113710.0800 | MAE: 117249.4375 | Время обучения: 40.69993233680725\n"
     ]
    },
    {
     "name": "stderr",
     "output_type": "stream",
     "text": [
      "[I 2025-03-25 16:38:30,500] Trial 13 finished with value: 667088.20703125 and parameters: {'learning_rate': 0.01, 'batch_size': 64, 'num_layers': 2, 'layers': 250, 'dropout': 0.20436008094825103, 'activation': 'relu', 'optimizer': 'RMSprop'}. Best is trial 9 with value: 505589.54296875.\n"
     ]
    },
    {
     "name": "stdout",
     "output_type": "stream",
     "text": [
      "⏹️ Early stopping at epoch 101\n",
      "\n",
      "📊 Итоговые результаты:\n",
      "Loss: 667088.20703125 + RMSprop на cuda | MSE: 2475509923.8400 | MAE: 39895.9258 | Время обучения: 29.156571626663208\n"
     ]
    },
    {
     "name": "stderr",
     "output_type": "stream",
     "text": [
      "[I 2025-03-25 16:38:51,316] Trial 14 finished with value: 1471735.8125 and parameters: {'learning_rate': 0.01, 'batch_size': 64, 'num_layers': 3, 'layers': 250, 'dropout': 0.13998456748748153, 'activation': 'relu', 'optimizer': 'RMSprop'}. Best is trial 9 with value: 505589.54296875.\n"
     ]
    },
    {
     "name": "stdout",
     "output_type": "stream",
     "text": [
      "⏹️ Early stopping at epoch 69\n",
      "\n",
      "📊 Итоговые результаты:\n",
      "Loss: 1471735.8125 + RMSprop на cuda | MSE: 15570860318.7200 | MAE: 100163.8828 | Время обучения: 20.789785861968994\n"
     ]
    },
    {
     "name": "stderr",
     "output_type": "stream",
     "text": [
      "[I 2025-03-25 16:40:40,482] Trial 15 finished with value: 4576084.671875 and parameters: {'learning_rate': 0.01, 'batch_size': 64, 'num_layers': 6, 'layers': 250, 'dropout': 0.2019382951266926, 'activation': 'relu', 'optimizer': 'RMSprop'}. Best is trial 9 with value: 505589.54296875.\n"
     ]
    },
    {
     "name": "stdout",
     "output_type": "stream",
     "text": [
      "⏹️ Early stopping at epoch 228\n",
      "\n",
      "📊 Итоговые результаты:\n",
      "Loss: 4576084.671875 + RMSprop на cuda | MSE: 95933891051.5200 | MAE: 245828.1406 | Время обучения: 109.13792014122009\n"
     ]
    },
    {
     "name": "stderr",
     "output_type": "stream",
     "text": [
      "[I 2025-03-25 16:41:29,964] Trial 16 finished with value: 1612573.59375 and parameters: {'learning_rate': 0.01, 'batch_size': 64, 'num_layers': 2, 'layers': 35, 'dropout': 0.27289566091988987, 'activation': 'relu', 'optimizer': 'Adam'}. Best is trial 9 with value: 505589.54296875.\n"
     ]
    },
    {
     "name": "stdout",
     "output_type": "stream",
     "text": [
      "⏹️ Early stopping at epoch 178\n",
      "\n",
      "📊 Итоговые результаты:\n",
      "Loss: 1612573.59375 + Adam на cuda | MSE: 20538523525.1200 | MAE: 124327.5391 | Время обучения: 49.45841932296753\n"
     ]
    },
    {
     "name": "stderr",
     "output_type": "stream",
     "text": [
      "[I 2025-03-25 16:42:04,364] Trial 17 finished with value: 3117872.8046875 and parameters: {'learning_rate': 0.01, 'batch_size': 64, 'num_layers': 3, 'layers': 500, 'dropout': 0.14678525088268463, 'activation': 'relu', 'optimizer': 'RMSprop'}. Best is trial 9 with value: 505589.54296875.\n"
     ]
    },
    {
     "name": "stdout",
     "output_type": "stream",
     "text": [
      "⏹️ Early stopping at epoch 104\n",
      "\n",
      "📊 Итоговые результаты:\n",
      "Loss: 3117872.8046875 + RMSprop на cuda | MSE: 65289534341.1200 | MAE: 211065.5938 | Время обучения: 34.35819983482361\n"
     ]
    },
    {
     "name": "stderr",
     "output_type": "stream",
     "text": [
      "[I 2025-03-25 16:42:45,061] Trial 18 finished with value: 5865319.3046875 and parameters: {'learning_rate': 0.1, 'batch_size': 32, 'num_layers': 2, 'layers': 350, 'dropout': 0.22458789865971407, 'activation': 'relu', 'optimizer': 'RMSprop'}. Best is trial 9 with value: 505589.54296875.\n"
     ]
    },
    {
     "name": "stdout",
     "output_type": "stream",
     "text": [
      "⏹️ Early stopping at epoch 83\n",
      "\n",
      "📊 Итоговые результаты:\n",
      "Loss: 5865319.3046875 + RMSprop на cuda | MSE: 85769305948.1600 | MAE: 241863.9219 | Время обучения: 40.653541564941406\n"
     ]
    },
    {
     "name": "stderr",
     "output_type": "stream",
     "text": [
      "[I 2025-03-25 16:44:06,519] Trial 19 finished with value: 509351.05078125 and parameters: {'learning_rate': 0.001, 'batch_size': 64, 'num_layers': 3, 'layers': 250, 'dropout': 0.10105235258145016, 'activation': 'relu', 'optimizer': 'RMSprop'}. Best is trial 9 with value: 505589.54296875.\n"
     ]
    },
    {
     "name": "stdout",
     "output_type": "stream",
     "text": [
      "⏹️ Early stopping at epoch 248\n",
      "\n",
      "📊 Итоговые результаты:\n",
      "Loss: 509351.05078125 + RMSprop на cuda | MSE: 1177902986.2400 | MAE: 27959.0430 | Время обучения: 81.42795014381409\n"
     ]
    },
    {
     "name": "stderr",
     "output_type": "stream",
     "text": [
      "[I 2025-03-25 16:45:44,049] Trial 20 finished with value: 458824.8984375 and parameters: {'learning_rate': 0.001, 'batch_size': 64, 'num_layers': 3, 'layers': 250, 'dropout': 0.10439348664601776, 'activation': 'relu', 'optimizer': 'Adam'}. Best is trial 20 with value: 458824.8984375.\n"
     ]
    },
    {
     "name": "stdout",
     "output_type": "stream",
     "text": [
      "⏹️ Early stopping at epoch 311\n",
      "\n",
      "📊 Итоговые результаты:\n",
      "Loss: 458824.8984375 + Adam на cuda | MSE: 2300495257.6000 | MAE: 41418.4297 | Время обучения: 97.4844434261322\n"
     ]
    },
    {
     "name": "stderr",
     "output_type": "stream",
     "text": [
      "[I 2025-03-25 16:46:45,650] Trial 21 finished with value: 520949.671875 and parameters: {'learning_rate': 0.001, 'batch_size': 64, 'num_layers': 3, 'layers': 250, 'dropout': 0.10264411280136862, 'activation': 'relu', 'optimizer': 'Adam'}. Best is trial 20 with value: 458824.8984375.\n"
     ]
    },
    {
     "name": "stdout",
     "output_type": "stream",
     "text": [
      "⏹️ Early stopping at epoch 195\n",
      "\n",
      "📊 Итоговые результаты:\n",
      "Loss: 520949.671875 + Adam на cuda | MSE: 1743434900.4800 | MAE: 37664.8320 | Время обучения: 61.56773805618286\n"
     ]
    },
    {
     "name": "stderr",
     "output_type": "stream",
     "text": [
      "[I 2025-03-25 16:47:56,184] Trial 22 finished with value: 506454.220703125 and parameters: {'learning_rate': 0.001, 'batch_size': 64, 'num_layers': 3, 'layers': 250, 'dropout': 0.12335627155365719, 'activation': 'relu', 'optimizer': 'Adam'}. Best is trial 20 with value: 458824.8984375.\n"
     ]
    },
    {
     "name": "stdout",
     "output_type": "stream",
     "text": [
      "⏹️ Early stopping at epoch 207\n",
      "\n",
      "📊 Итоговые результаты:\n",
      "Loss: 506454.220703125 + Adam на cuda | MSE: 1912631818.2400 | MAE: 37792.8164 | Время обучения: 70.49672055244446\n"
     ]
    },
    {
     "name": "stderr",
     "output_type": "stream",
     "text": [
      "[I 2025-03-25 16:48:59,432] Trial 23 finished with value: 605227.7734375 and parameters: {'learning_rate': 0.001, 'batch_size': 64, 'num_layers': 3, 'layers': 250, 'dropout': 0.12481270811455965, 'activation': 'relu', 'optimizer': 'Adam'}. Best is trial 20 with value: 458824.8984375.\n"
     ]
    },
    {
     "name": "stdout",
     "output_type": "stream",
     "text": [
      "⏹️ Early stopping at epoch 171\n",
      "\n",
      "📊 Итоговые результаты:\n",
      "Loss: 605227.7734375 + Adam на cuda | MSE: 2178019051.5200 | MAE: 35584.9219 | Время обучения: 63.21474647521973\n"
     ]
    },
    {
     "name": "stderr",
     "output_type": "stream",
     "text": [
      "[I 2025-03-25 16:50:17,496] Trial 24 finished with value: 562475.9296875 and parameters: {'learning_rate': 0.001, 'batch_size': 64, 'num_layers': 3, 'layers': 250, 'dropout': 0.12695735423382762, 'activation': 'relu', 'optimizer': 'Adam'}. Best is trial 20 with value: 458824.8984375.\n"
     ]
    },
    {
     "name": "stdout",
     "output_type": "stream",
     "text": [
      "⏹️ Early stopping at epoch 210\n",
      "\n",
      "📊 Итоговые результаты:\n",
      "Loss: 562475.9296875 + Adam на cuda | MSE: 941682542.0800 | MAE: 23824.8730 | Время обучения: 78.02769422531128\n"
     ]
    },
    {
     "name": "stderr",
     "output_type": "stream",
     "text": [
      "[I 2025-03-25 16:54:42,287] Trial 25 finished with value: 558966.15625 and parameters: {'learning_rate': 0.001, 'batch_size': 64, 'num_layers': 2, 'layers': 250, 'dropout': 0.12565046699013124, 'activation': 'relu', 'optimizer': 'Adam'}. Best is trial 20 with value: 458824.8984375.\n"
     ]
    },
    {
     "name": "stdout",
     "output_type": "stream",
     "text": [
      "\n",
      "📊 Итоговые результаты:\n",
      "Loss: 558966.15625 + Adam на cuda | MSE: 852498854.4000 | MAE: 23671.7344 | Время обучения: 264.75958228111267\n",
      "[neptune] [error  ] Unexpected error occurred in Neptune background thread: Killing Neptune asynchronous thread. All data is safe on disk and can be later synced manually using `neptune sync` command.\n"
     ]
    },
    {
     "name": "stderr",
     "output_type": "stream",
     "text": [
      "Exception in thread NeptuneAsyncOpProcessor:\n",
      "Traceback (most recent call last):\n",
      "  File \"/home/saatarko/.conda/envs/HomeworkDS/lib/python3.12/site-packages/neptune/internal/backends/swagger_client_wrapper.py\", line 111, in __call__\n",
      "    return FinishedApiResponseFuture(future.response())  # wait synchronously\n",
      "                                     ^^^^^^^^^^^^^^^^^\n",
      "  File \"/home/saatarko/.conda/envs/HomeworkDS/lib/python3.12/site-packages/bravado/http_future.py\", line 200, in response\n",
      "    swagger_result = self._get_swagger_result(incoming_response)\n",
      "                     ^^^^^^^^^^^^^^^^^^^^^^^^^^^^^^^^^^^^^^^^^^^\n",
      "  File \"/home/saatarko/.conda/envs/HomeworkDS/lib/python3.12/site-packages/bravado/http_future.py\", line 124, in wrapper\n",
      "    return func(self, *args, **kwargs)\n",
      "           ^^^^^^^^^^^^^^^^^^^^^^^^^^^\n",
      "  File \"/home/saatarko/.conda/envs/HomeworkDS/lib/python3.12/site-packages/bravado/http_future.py\", line 300, in _get_swagger_result\n",
      "    unmarshal_response(\n",
      "  File \"/home/saatarko/.conda/envs/HomeworkDS/lib/python3.12/site-packages/bravado/http_future.py\", line 353, in unmarshal_response\n",
      "    raise_on_expected(incoming_response)\n",
      "  File \"/home/saatarko/.conda/envs/HomeworkDS/lib/python3.12/site-packages/bravado/http_future.py\", line 420, in raise_on_expected\n",
      "    raise make_http_exception(\n",
      "bravado.exception.HTTPUnprocessableEntity: 422 unknown\n",
      "\n",
      "The above exception was the direct cause of the following exception:\n",
      "\n",
      "Traceback (most recent call last):\n",
      "  File \"/home/saatarko/.conda/envs/HomeworkDS/lib/python3.12/threading.py\", line 1073, in _bootstrap_inner\n",
      "    self.run()\n",
      "  File \"/home/saatarko/.conda/envs/HomeworkDS/lib/python3.12/site-packages/neptune/internal/operation_processors/async_operation_processor.py\", line 297, in run\n",
      "    super().run()\n",
      "  File \"/home/saatarko/.conda/envs/HomeworkDS/lib/python3.12/site-packages/neptune/internal/threading/daemon.py\", line 96, in run\n",
      "    self.work()\n",
      "  File \"/home/saatarko/.conda/envs/HomeworkDS/lib/python3.12/site-packages/neptune/internal/operation_processors/async_operation_processor.py\", line 315, in work\n",
      "    self.process_batch([element.obj for element in batch], batch[-1].ver, batch[-1].at)\n",
      "  File \"/home/saatarko/.conda/envs/HomeworkDS/lib/python3.12/site-packages/neptune/internal/threading/daemon.py\", line 121, in wrapper\n",
      "    result = func(self_, *args, **kwargs)\n",
      "             ^^^^^^^^^^^^^^^^^^^^^^^^^^^^\n",
      "  File \"/home/saatarko/.conda/envs/HomeworkDS/lib/python3.12/site-packages/neptune/internal/operation_processors/async_operation_processor.py\", line 339, in process_batch\n",
      "    processed_count, errors = self._processor._backend.execute_operations(\n",
      "                              ^^^^^^^^^^^^^^^^^^^^^^^^^^^^^^^^^^^^^^^^^^^^\n",
      "  File \"/home/saatarko/.conda/envs/HomeworkDS/lib/python3.12/site-packages/neptune/internal/backends/hosted_neptune_backend.py\", line 518, in execute_operations\n",
      "    self._execute_operations(\n",
      "  File \"/home/saatarko/.conda/envs/HomeworkDS/lib/python3.12/site-packages/neptune/common/backends/utils.py\", line 79, in wrapper\n",
      "    return func(*args, **kwargs)\n",
      "           ^^^^^^^^^^^^^^^^^^^^^\n",
      "  File \"/home/saatarko/.conda/envs/HomeworkDS/lib/python3.12/site-packages/neptune/internal/backends/hosted_neptune_backend.py\", line 682, in _execute_operations\n",
      "    result = self.leaderboard_client.api.executeOperations(**kwargs).response().result\n",
      "             ^^^^^^^^^^^^^^^^^^^^^^^^^^^^^^^^^^^^^^^^^^^^^^^^^^^^^^^\n",
      "  File \"/home/saatarko/.conda/envs/HomeworkDS/lib/python3.12/site-packages/neptune/internal/backends/swagger_client_wrapper.py\", line 113, in __call__\n",
      "    self.handle_neptune_http_errors(e.response, exception=e)\n",
      "  File \"/home/saatarko/.conda/envs/HomeworkDS/lib/python3.12/site-packages/neptune/internal/backends/swagger_client_wrapper.py\", line 102, in handle_neptune_http_errors\n",
      "    raise error_processor(body) from exception\n",
      "neptune.exceptions.NeptuneFieldCountLimitExceedException: \n",
      "\u001b[95m\n",
      "----NeptuneFieldCountLimitExceedException---------------------------------------------------------------------------------------\n",
      "\u001b[0m\n",
      "There are too many fields (more than 9000) in the saatarko/financescoring/FIN-29 run.\n",
      "We have stopped the synchronization to the Neptune server and stored the data locally.\n",
      "\n",
      "To continue uploading the metadata:\n",
      "\n",
      "    1. Delete some excess fields from saatarko/financescoring/FIN-29.\n",
      "\n",
      "       You can delete fields or namespaces with the \"del\" command.\n",
      "       For example, to delete the \"training/checkpoints\" namespace:\n",
      "\n",
      "       \u001b[96mdel run[\"training/checkpoints\"]\u001b[0m\n",
      "\n",
      "    2. Once you're done, synchronize the data manually with the following command:\n",
      "\n",
      "       \u001b[95mneptune sync -p project_name\u001b[0m\n",
      "\n",
      "For more details, see https://docs.neptune.ai/usage/best_practices\n",
      "\n",
      "[I 2025-03-25 16:57:07,242] Trial 26 finished with value: 2045344.85546875 and parameters: {'learning_rate': 0.001, 'batch_size': 32, 'num_layers': 3, 'layers': 50, 'dropout': 0.1719673077483565, 'activation': 'leaky_relu', 'optimizer': 'Adam'}. Best is trial 20 with value: 458824.8984375.\n"
     ]
    },
    {
     "name": "stdout",
     "output_type": "stream",
     "text": [
      "⏹️ Early stopping at epoch 207\n",
      "\n",
      "📊 Итоговые результаты:\n",
      "Loss: 2045344.85546875 + Adam на cuda | MSE: 3774764856.3200 | MAE: 57338.0781 | Время обучения: 144.9148886203766\n"
     ]
    },
    {
     "name": "stderr",
     "output_type": "stream",
     "text": [
      "[I 2025-03-25 17:00:14,991] Trial 27 finished with value: 6052068.578125 and parameters: {'learning_rate': 0.001, 'batch_size': 64, 'num_layers': 2, 'layers': 35, 'dropout': 0.153359828101103, 'activation': 'relu', 'optimizer': 'Adam'}. Best is trial 20 with value: 458824.8984375.\n"
     ]
    },
    {
     "name": "stdout",
     "output_type": "stream",
     "text": [
      "\n",
      "📊 Итоговые результаты:\n",
      "Loss: 6052068.578125 + Adam на cuda | MSE: 86843423784.9600 | MAE: 242083.2812 | Время обучения: 187.7211630344391\n"
     ]
    },
    {
     "name": "stderr",
     "output_type": "stream",
     "text": [
      "[I 2025-03-25 17:01:31,797] Trial 28 finished with value: 753197.22265625 and parameters: {'learning_rate': 0.001, 'batch_size': 64, 'num_layers': 4, 'layers': 350, 'dropout': 0.12467646705450536, 'activation': 'relu', 'optimizer': 'Adam'}. Best is trial 20 with value: 458824.8984375.\n"
     ]
    },
    {
     "name": "stdout",
     "output_type": "stream",
     "text": [
      "⏹️ Early stopping at epoch 184\n",
      "\n",
      "📊 Итоговые результаты:\n",
      "Loss: 753197.22265625 + Adam на cuda | MSE: 3404113745.9200 | MAE: 46405.6797 | Время обучения: 76.76473498344421\n"
     ]
    },
    {
     "name": "stderr",
     "output_type": "stream",
     "text": [
      "[I 2025-03-25 17:02:34,852] Trial 29 finished with value: 547547.90234375 and parameters: {'learning_rate': 0.001, 'batch_size': 64, 'num_layers': 3, 'layers': 500, 'dropout': 0.18685692535249196, 'activation': 'leaky_relu', 'optimizer': 'Adam'}. Best is trial 20 with value: 458824.8984375.\n"
     ]
    },
    {
     "name": "stdout",
     "output_type": "stream",
     "text": [
      "⏹️ Early stopping at epoch 161\n",
      "\n",
      "📊 Итоговые результаты:\n",
      "Loss: 547547.90234375 + Adam на cuda | MSE: 1533227627.5200 | MAE: 31199.2773 | Время обучения: 63.00701856613159\n"
     ]
    },
    {
     "name": "stderr",
     "output_type": "stream",
     "text": [
      "[I 2025-03-25 17:04:47,877] Trial 30 finished with value: 710169.765625 and parameters: {'learning_rate': 0.001, 'batch_size': 64, 'num_layers': 4, 'layers': 100, 'dropout': 0.16183383571063736, 'activation': 'relu', 'optimizer': 'Adam'}. Best is trial 20 with value: 458824.8984375.\n"
     ]
    },
    {
     "name": "stdout",
     "output_type": "stream",
     "text": [
      "⏹️ Early stopping at epoch 315\n",
      "\n",
      "📊 Итоговые результаты:\n",
      "Loss: 710169.765625 + Adam на cuda | MSE: 3096180490.2400 | MAE: 45728.7617 | Время обучения: 132.98734307289124\n"
     ]
    },
    {
     "name": "stderr",
     "output_type": "stream",
     "text": [
      "[I 2025-03-25 17:05:58,371] Trial 31 finished with value: 641922.65625 and parameters: {'learning_rate': 0.001, 'batch_size': 64, 'num_layers': 3, 'layers': 250, 'dropout': 0.1019378408740372, 'activation': 'relu', 'optimizer': 'RMSprop'}. Best is trial 20 with value: 458824.8984375.\n"
     ]
    },
    {
     "name": "stdout",
     "output_type": "stream",
     "text": [
      "⏹️ Early stopping at epoch 188\n",
      "\n",
      "📊 Итоговые результаты:\n",
      "Loss: 641922.65625 + RMSprop на cuda | MSE: 2052243845.1200 | MAE: 37770.5898 | Время обучения: 70.46175718307495\n"
     ]
    },
    {
     "name": "stderr",
     "output_type": "stream",
     "text": [
      "[I 2025-03-25 17:08:09,746] Trial 32 finished with value: 665585.91015625 and parameters: {'learning_rate': 0.001, 'batch_size': 64, 'num_layers': 4, 'layers': 75, 'dropout': 0.11500888075481162, 'activation': 'relu', 'optimizer': 'RMSprop'}. Best is trial 20 with value: 458824.8984375.\n"
     ]
    },
    {
     "name": "stdout",
     "output_type": "stream",
     "text": [
      "⏹️ Early stopping at epoch 268\n",
      "\n",
      "📊 Итоговые результаты:\n",
      "Loss: 665585.91015625 + RMSprop на cuda | MSE: 2323993794.5600 | MAE: 40051.4023 | Время обучения: 131.33717823028564\n"
     ]
    },
    {
     "name": "stderr",
     "output_type": "stream",
     "text": [
      "[I 2025-03-25 17:09:09,378] Trial 33 finished with value: 710522.3359375 and parameters: {'learning_rate': 0.001, 'batch_size': 64, 'num_layers': 3, 'layers': 250, 'dropout': 0.13416403739559693, 'activation': 'relu', 'optimizer': 'SGD'}. Best is trial 20 with value: 458824.8984375.\n"
     ]
    },
    {
     "name": "stdout",
     "output_type": "stream",
     "text": [
      "⏹️ Early stopping at epoch 168\n",
      "\n",
      "📊 Итоговые результаты:\n",
      "Loss: 710522.3359375 + SGD на cuda | MSE: 2869399255.0400 | MAE: 44773.9297 | Время обучения: 59.59305739402771\n"
     ]
    },
    {
     "name": "stderr",
     "output_type": "stream",
     "text": [
      "[I 2025-03-25 17:09:40,284] Trial 34 finished with value: 960347.4453125 and parameters: {'learning_rate': 0.1, 'batch_size': 64, 'num_layers': 2, 'layers': 50, 'dropout': 0.11256064949294772, 'activation': 'leaky_relu', 'optimizer': 'RMSprop'}. Best is trial 20 with value: 458824.8984375.\n"
     ]
    },
    {
     "name": "stdout",
     "output_type": "stream",
     "text": [
      "⏹️ Early stopping at epoch 92\n",
      "\n",
      "📊 Итоговые результаты:\n",
      "Loss: 960347.4453125 + RMSprop на cuda | MSE: 13286827581.4400 | MAE: 101515.5625 | Время обучения: 30.873108625411987\n"
     ]
    },
    {
     "name": "stderr",
     "output_type": "stream",
     "text": [
      "[I 2025-03-25 17:11:09,674] Trial 35 finished with value: 553317.244140625 and parameters: {'learning_rate': 0.001, 'batch_size': 64, 'num_layers': 3, 'layers': 250, 'dropout': 0.11554708849493926, 'activation': 'relu', 'optimizer': 'SGD'}. Best is trial 20 with value: 458824.8984375.\n"
     ]
    },
    {
     "name": "stdout",
     "output_type": "stream",
     "text": [
      "⏹️ Early stopping at epoch 259\n",
      "\n",
      "📊 Итоговые результаты:\n",
      "Loss: 553317.244140625 + SGD на cuda | MSE: 834216565.7600 | MAE: 22923.3477 | Время обучения: 89.35342502593994\n"
     ]
    },
    {
     "name": "stderr",
     "output_type": "stream",
     "text": [
      "[I 2025-03-25 17:11:40,029] Trial 36 finished with value: 9584266.2734375 and parameters: {'learning_rate': 0.1, 'batch_size': 32, 'num_layers': 4, 'layers': 75, 'dropout': 0.10050880721187481, 'activation': 'relu', 'optimizer': 'Adam'}. Best is trial 20 with value: 458824.8984375.\n"
     ]
    },
    {
     "name": "stdout",
     "output_type": "stream",
     "text": [
      "⏹️ Early stopping at epoch 42\n",
      "\n",
      "📊 Итоговые результаты:\n",
      "Loss: 9584266.2734375 + Adam на cuda | MSE: 682184581447.6801 | MAE: 710779.7500 | Время обучения: 30.316549062728882\n"
     ]
    },
    {
     "name": "stderr",
     "output_type": "stream",
     "text": [
      "[I 2025-03-25 17:12:50,453] Trial 37 finished with value: 658315.4140625 and parameters: {'learning_rate': 0.001, 'batch_size': 64, 'num_layers': 3, 'layers': 250, 'dropout': 0.15304621514402336, 'activation': 'leaky_relu', 'optimizer': 'RMSprop'}. Best is trial 20 with value: 458824.8984375.\n"
     ]
    },
    {
     "name": "stdout",
     "output_type": "stream",
     "text": [
      "⏹️ Early stopping at epoch 199\n",
      "\n",
      "📊 Итоговые результаты:\n",
      "Loss: 658315.4140625 + RMSprop на cuda | MSE: 5540536862.7200 | MAE: 66319.6719 | Время обучения: 70.38879561424255\n"
     ]
    },
    {
     "name": "stderr",
     "output_type": "stream",
     "text": [
      "[I 2025-03-25 17:14:20,652] Trial 38 finished with value: 2503601.45703125 and parameters: {'learning_rate': 0.001, 'batch_size': 32, 'num_layers': 5, 'layers': 250, 'dropout': 0.1357492818548793, 'activation': 'relu', 'optimizer': 'SGD'}. Best is trial 20 with value: 458824.8984375.\n"
     ]
    },
    {
     "name": "stdout",
     "output_type": "stream",
     "text": [
      "⏹️ Early stopping at epoch 115\n",
      "\n",
      "📊 Итоговые результаты:\n",
      "Loss: 2503601.45703125 + SGD на cuda | MSE: 79420023275.5200 | MAE: 241421.8438 | Время обучения: 90.1683440208435\n"
     ]
    },
    {
     "name": "stderr",
     "output_type": "stream",
     "text": [
      "[I 2025-03-25 17:14:37,274] Trial 39 finished with value: 19064196.8125 and parameters: {'learning_rate': 0.1, 'batch_size': 64, 'num_layers': 6, 'layers': 500, 'dropout': 0.16795108780741796, 'activation': 'relu', 'optimizer': 'Adam'}. Best is trial 20 with value: 458824.8984375.\n"
     ]
    },
    {
     "name": "stdout",
     "output_type": "stream",
     "text": [
      "⏹️ Early stopping at epoch 31\n",
      "\n",
      "📊 Итоговые результаты:\n",
      "Loss: 19064196.8125 + Adam на cuda | MSE: 4942402913566.7197 | MAE: 1897148.5000 | Время обучения: 16.57380509376526\n",
      "[neptune] [info   ] Shutting down background jobs, please wait a moment...\n",
      "[neptune] [info   ] Done!\n",
      "[neptune] [info   ] Explore the metadata in the Neptune app: https://app.neptune.ai/saatarko/financescoring/e/FIN-29/metadata\n",
      "Best parameters: {'learning_rate': 0.001, 'batch_size': 64, 'num_layers': 3, 'layers': 250, 'dropout': 0.10439348664601776, 'activation': 'relu', 'optimizer': 'Adam'}\n"
     ]
    },
    {
     "ename": "NameError",
     "evalue": "name 'best_mse' is not defined",
     "output_type": "error",
     "traceback": [
      "\u001b[0;31m---------------------------------------------------------------------------\u001b[0m",
      "\u001b[0;31mNameError\u001b[0m                                 Traceback (most recent call last)",
      "Cell \u001b[0;32mIn[116], line 12\u001b[0m\n\u001b[1;32m      9\u001b[0m run\u001b[38;5;241m.\u001b[39mstop()\n\u001b[1;32m     11\u001b[0m \u001b[38;5;28mprint\u001b[39m(\u001b[38;5;124mf\u001b[39m\u001b[38;5;124m\"\u001b[39m\u001b[38;5;124mBest parameters: \u001b[39m\u001b[38;5;132;01m{\u001b[39;00mbest_params\u001b[38;5;132;01m}\u001b[39;00m\u001b[38;5;124m\"\u001b[39m)\n\u001b[0;32m---> 12\u001b[0m \u001b[38;5;28mprint\u001b[39m(\u001b[38;5;124mf\u001b[39m\u001b[38;5;124m\"\u001b[39m\u001b[38;5;124mBest mse: \u001b[39m\u001b[38;5;132;01m{\u001b[39;00mbest_mse\u001b[38;5;132;01m}\u001b[39;00m\u001b[38;5;124m\"\u001b[39m)\n",
      "\u001b[0;31mNameError\u001b[0m: name 'best_mse' is not defined"
     ]
    }
   ],
   "source": [
    "# Запуск оптимизации с Optuna\n",
    "study = optuna.create_study(direction=\"minimize\")  # Минимизируем потери\n",
    "study.optimize(objective, n_trials=40)\n",
    "\n",
    "# Логируем лучшие параметры\n",
    "best_params = study.best_params\n",
    "best_mse = study.best_value\n",
    "\n",
    "run.stop()\n",
    "\n",
    "print(f\"Best parameters: {best_params}\")\n",
    "print(f\"Best mse: {best_mse}\")"
   ]
  },
  {
   "cell_type": "code",
   "execution_count": 117,
   "id": "2740b610-7c77-496b-8e48-d8fe76ec5cfa",
   "metadata": {},
   "outputs": [
    {
     "name": "stdout",
     "output_type": "stream",
     "text": [
      "Best parameters: {'learning_rate': 0.001, 'batch_size': 64, 'num_layers': 3, 'layers': 250, 'dropout': 0.10439348664601776, 'activation': 'relu', 'optimizer': 'Adam'}\n",
      "Best mse: 458824.8984375\n"
     ]
    }
   ],
   "source": [
    "best_mse = study.best_value\n",
    "\n",
    "print(f\"Best parameters: {best_params}\")\n",
    "print(f\"Best mse: {best_mse}\")"
   ]
  },
  {
   "cell_type": "code",
   "execution_count": 121,
   "id": "111e993d-3962-4550-9d3e-15d2528684dc",
   "metadata": {},
   "outputs": [],
   "source": [
    "# Получим данные из Optuna\n",
    "best_params = study.best_params\n",
    "best_lr = best_params['learning_rate']\n",
    "best_batch_size = best_params['batch_size']\n",
    "best_dropout = best_params['dropout']\n",
    "best_activation = best_params['activation']\n",
    "best_optimizer = best_params['optimizer']\n",
    "best_num_layers = best_params['num_layers']\n",
    "best_layers = best_params['layers']"
   ]
  },
  {
   "cell_type": "code",
   "execution_count": 123,
   "id": "f5f51c7f-b381-43fe-b773-4c716290dd6a",
   "metadata": {},
   "outputs": [
    {
     "name": "stdout",
     "output_type": "stream",
     "text": [
      "best_lr 0.001\n",
      "best_batch_size 64\n",
      "best_dropout 0.10439348664601776\n",
      "best_activation relu\n",
      "best_num_layers 3\n",
      "best_optimizer Adam\n",
      "best_layers 250\n"
     ]
    }
   ],
   "source": [
    "print(f\"best_lr {best_lr}\")\n",
    "print(f\"best_batch_size {best_batch_size}\") \n",
    "print(f\"best_dropout {best_dropout}\") \n",
    "print(f\"best_activation {best_activation}\") \n",
    "print(f\"best_num_layers {best_num_layers}\") \n",
    "print(f\"best_optimizer {best_optimizer}\")\n",
    "print(f\"best_layers {best_layers}\")"
   ]
  },
  {
   "cell_type": "code",
   "execution_count": 133,
   "id": "69373c09-285e-4ea3-8f1d-0f706090e52f",
   "metadata": {},
   "outputs": [
    {
     "name": "stdout",
     "output_type": "stream",
     "text": [
      "Epoch 1: Train Loss=4934534.535000, Val Loss=5119410.328125\n",
      "Epoch 2: Train Loss=4894620.990000, Val Loss=5034928.906250\n",
      "Epoch 3: Train Loss=4742376.120000, Val Loss=4797630.765625\n",
      "Epoch 4: Train Loss=4396479.182500, Val Loss=4327199.257812\n",
      "Epoch 5: Train Loss=3787096.055000, Val Loss=3565830.539062\n",
      "Epoch 6: Train Loss=2914464.307500, Val Loss=2560855.000000\n",
      "Epoch 7: Train Loss=1993056.228750, Val Loss=1710661.503906\n",
      "Epoch 8: Train Loss=1472912.537500, Val Loss=1316575.890625\n",
      "Epoch 9: Train Loss=1144252.645625, Val Loss=954954.259766\n",
      "Epoch 10: Train Loss=826480.008750, Val Loss=621477.145508\n",
      "Epoch 11: Train Loss=595255.933750, Val Loss=438919.269531\n",
      "Epoch 12: Train Loss=490537.617188, Val Loss=406145.848633\n",
      "Epoch 13: Train Loss=460538.029687, Val Loss=393938.133789\n",
      "Epoch 14: Train Loss=453366.197813, Val Loss=386301.595703\n",
      "Epoch 15: Train Loss=446436.921250, Val Loss=388063.656250\n",
      "Epoch 16: Train Loss=437778.040938, Val Loss=378015.655273\n",
      "Epoch 17: Train Loss=426106.235000, Val Loss=365608.332031\n",
      "Epoch 18: Train Loss=420949.942188, Val Loss=363306.486328\n",
      "Epoch 19: Train Loss=417711.693437, Val Loss=353500.577148\n",
      "Epoch 20: Train Loss=417696.991563, Val Loss=348093.479492\n",
      "Epoch 21: Train Loss=403331.255937, Val Loss=344250.673828\n",
      "Epoch 22: Train Loss=403769.754688, Val Loss=341108.062500\n",
      "Epoch 23: Train Loss=396663.027813, Val Loss=334579.122070\n",
      "Epoch 24: Train Loss=391259.842813, Val Loss=329132.892578\n",
      "Epoch 25: Train Loss=385154.300625, Val Loss=324581.908203\n",
      "Epoch 26: Train Loss=381854.750000, Val Loss=321148.734375\n",
      "Epoch 27: Train Loss=385382.890937, Val Loss=318009.672852\n",
      "Epoch 28: Train Loss=374796.669063, Val Loss=314474.396484\n",
      "Epoch 29: Train Loss=376548.548125, Val Loss=306692.985352\n",
      "Epoch 30: Train Loss=364186.051250, Val Loss=299946.086914\n",
      "Epoch 31: Train Loss=366828.074688, Val Loss=294700.679688\n",
      "Epoch 32: Train Loss=358765.648750, Val Loss=294156.548340\n",
      "Epoch 33: Train Loss=352685.974687, Val Loss=282378.793457\n",
      "Epoch 34: Train Loss=351659.468281, Val Loss=277683.812012\n",
      "Epoch 35: Train Loss=348278.338750, Val Loss=274591.112793\n",
      "Epoch 36: Train Loss=342791.485312, Val Loss=270374.079590\n",
      "Epoch 37: Train Loss=337838.340625, Val Loss=260099.359375\n",
      "Epoch 38: Train Loss=333320.437500, Val Loss=257031.236816\n",
      "Epoch 39: Train Loss=330542.351719, Val Loss=255662.258789\n",
      "Epoch 40: Train Loss=326404.173750, Val Loss=244954.781738\n",
      "Epoch 41: Train Loss=321228.789844, Val Loss=238065.452148\n",
      "Epoch 42: Train Loss=312911.045938, Val Loss=229961.420898\n",
      "Epoch 43: Train Loss=303274.000312, Val Loss=229435.835938\n",
      "Epoch 44: Train Loss=303447.267500, Val Loss=222963.783203\n",
      "Epoch 45: Train Loss=300650.131719, Val Loss=212581.701660\n",
      "Epoch 46: Train Loss=298235.478281, Val Loss=208512.991211\n",
      "Epoch 47: Train Loss=291061.976406, Val Loss=200994.420410\n",
      "Epoch 48: Train Loss=288784.667344, Val Loss=198952.630371\n",
      "Epoch 49: Train Loss=282224.373594, Val Loss=194882.791992\n",
      "Epoch 50: Train Loss=281434.043906, Val Loss=185464.374512\n",
      "Epoch 51: Train Loss=272351.065937, Val Loss=184656.986816\n",
      "Epoch 52: Train Loss=267105.336250, Val Loss=172256.587402\n",
      "Epoch 53: Train Loss=264026.868594, Val Loss=166774.028564\n",
      "Epoch 54: Train Loss=261459.316406, Val Loss=167108.966797\n",
      "Epoch 55: Train Loss=257983.999219, Val Loss=159225.651123\n",
      "Epoch 56: Train Loss=254837.031250, Val Loss=152985.664062\n",
      "Epoch 57: Train Loss=249583.590938, Val Loss=146561.114014\n",
      "Epoch 58: Train Loss=251718.332656, Val Loss=143100.619873\n",
      "Epoch 59: Train Loss=246661.759063, Val Loss=138122.324463\n",
      "Epoch 60: Train Loss=242018.703125, Val Loss=129048.777832\n",
      "Epoch 61: Train Loss=240041.877344, Val Loss=134281.841553\n",
      "Epoch 62: Train Loss=239742.573750, Val Loss=130504.945801\n",
      "Epoch 63: Train Loss=233743.360469, Val Loss=119509.260010\n",
      "Epoch 64: Train Loss=231855.298437, Val Loss=116787.486816\n",
      "Epoch 65: Train Loss=230902.523594, Val Loss=114359.541260\n",
      "Epoch 66: Train Loss=229032.599844, Val Loss=105350.411133\n",
      "Epoch 67: Train Loss=225858.449063, Val Loss=105817.762451\n",
      "Epoch 68: Train Loss=224418.285625, Val Loss=104914.965576\n",
      "Epoch 69: Train Loss=222663.772656, Val Loss=97583.593506\n",
      "Epoch 70: Train Loss=222473.121719, Val Loss=93691.234375\n",
      "Epoch 71: Train Loss=213575.362813, Val Loss=84675.817383\n",
      "Epoch 72: Train Loss=214719.211094, Val Loss=82707.493652\n",
      "Epoch 73: Train Loss=214383.459219, Val Loss=79270.278320\n",
      "Epoch 74: Train Loss=216701.035156, Val Loss=81090.312744\n",
      "Epoch 75: Train Loss=211828.746406, Val Loss=75911.578613\n",
      "Epoch 76: Train Loss=211218.192500, Val Loss=71818.544067\n",
      "Epoch 77: Train Loss=210094.411406, Val Loss=69342.950317\n",
      "Epoch 78: Train Loss=206318.932344, Val Loss=69155.157715\n",
      "Epoch 79: Train Loss=203842.863281, Val Loss=65350.361938\n",
      "Epoch 80: Train Loss=204713.056875, Val Loss=64208.647583\n",
      "Epoch 81: Train Loss=203337.998906, Val Loss=60161.120483\n",
      "Epoch 82: Train Loss=205643.016719, Val Loss=58587.676758\n",
      "Epoch 83: Train Loss=203661.260469, Val Loss=59649.518799\n",
      "Epoch 84: Train Loss=201825.038516, Val Loss=51237.485107\n",
      "Epoch 85: Train Loss=202171.212500, Val Loss=48618.607300\n",
      "Epoch 86: Train Loss=199570.424531, Val Loss=46981.063599\n",
      "Epoch 87: Train Loss=199848.557656, Val Loss=44042.793274\n",
      "Epoch 88: Train Loss=198582.700781, Val Loss=46262.532227\n",
      "Epoch 89: Train Loss=196924.678906, Val Loss=43848.412720\n",
      "Epoch 90: Train Loss=198901.332656, Val Loss=43481.766357\n",
      "Epoch 91: Train Loss=193734.410938, Val Loss=50674.555908\n",
      "Epoch 92: Train Loss=198270.800469, Val Loss=42674.416626\n",
      "Epoch 93: Train Loss=198599.644531, Val Loss=41919.843323\n",
      "Epoch 94: Train Loss=196749.552187, Val Loss=43080.503052\n",
      "Epoch 95: Train Loss=194188.201875, Val Loss=38313.948792\n",
      "Epoch 96: Train Loss=193140.798594, Val Loss=40498.098145\n",
      "Epoch 97: Train Loss=195227.696094, Val Loss=37138.928284\n",
      "Epoch 98: Train Loss=198523.134219, Val Loss=36917.634460\n",
      "Epoch 99: Train Loss=197052.087656, Val Loss=50770.491089\n",
      "Epoch 100: Train Loss=190228.135313, Val Loss=51086.917236\n",
      "Epoch 101: Train Loss=191400.385000, Val Loss=38621.064514\n",
      "Epoch 102: Train Loss=193121.522813, Val Loss=49655.186646\n",
      "Epoch 103: Train Loss=194945.740313, Val Loss=42145.829956\n",
      "Epoch 104: Train Loss=195725.175313, Val Loss=38635.780029\n",
      "Epoch 105: Train Loss=192086.088281, Val Loss=35074.026917\n",
      "Epoch 106: Train Loss=192629.896094, Val Loss=38824.549194\n",
      "Epoch 107: Train Loss=190584.538359, Val Loss=37140.867615\n",
      "Epoch 108: Train Loss=191279.133125, Val Loss=32836.690247\n",
      "Epoch 109: Train Loss=189518.463438, Val Loss=34361.366516\n",
      "Epoch 110: Train Loss=190844.001250, Val Loss=35090.394226\n",
      "Epoch 111: Train Loss=188652.740313, Val Loss=35322.553162\n",
      "Epoch 112: Train Loss=188368.321172, Val Loss=39957.800171\n",
      "Epoch 113: Train Loss=190154.007031, Val Loss=36414.129028\n",
      "Epoch 114: Train Loss=191523.431172, Val Loss=35904.208679\n",
      "Epoch 115: Train Loss=193664.239687, Val Loss=34910.215698\n",
      "Epoch 116: Train Loss=191432.733750, Val Loss=31013.162231\n",
      "Epoch 117: Train Loss=194616.041094, Val Loss=33968.686584\n",
      "Epoch 118: Train Loss=190743.133906, Val Loss=36352.522400\n",
      "Epoch 119: Train Loss=191986.584844, Val Loss=30261.196777\n",
      "Epoch 120: Train Loss=192437.836875, Val Loss=37664.440857\n",
      "Epoch 121: Train Loss=191885.392969, Val Loss=34241.717834\n",
      "Epoch 122: Train Loss=189188.182500, Val Loss=38799.601196\n",
      "Epoch 123: Train Loss=188533.502578, Val Loss=46348.795288\n",
      "Epoch 124: Train Loss=186197.814688, Val Loss=44210.288574\n",
      "Epoch 125: Train Loss=195040.991719, Val Loss=35556.857422\n",
      "Epoch 126: Train Loss=192513.827031, Val Loss=37437.597290\n",
      "Epoch 127: Train Loss=191103.557344, Val Loss=34472.227478\n",
      "Epoch 128: Train Loss=189372.286875, Val Loss=32912.648987\n",
      "Epoch 129: Train Loss=191823.604531, Val Loss=30791.035278\n",
      "Epoch 130: Train Loss=194506.181562, Val Loss=32910.146667\n",
      "Epoch 131: Train Loss=187655.079219, Val Loss=28665.131226\n",
      "Epoch 132: Train Loss=194151.678281, Val Loss=28525.418579\n",
      "Epoch 133: Train Loss=188053.898125, Val Loss=32472.155151\n",
      "Epoch 134: Train Loss=190305.755938, Val Loss=28277.147644\n",
      "Epoch 135: Train Loss=192029.313125, Val Loss=30339.716614\n",
      "Epoch 136: Train Loss=189327.722188, Val Loss=45480.462769\n",
      "Epoch 137: Train Loss=188034.720391, Val Loss=29748.681396\n",
      "Epoch 138: Train Loss=190730.522813, Val Loss=41912.270264\n",
      "Epoch 139: Train Loss=189016.488750, Val Loss=27806.870850\n",
      "Epoch 140: Train Loss=189269.446719, Val Loss=31058.845764\n",
      "Epoch 141: Train Loss=186733.581563, Val Loss=31290.044556\n",
      "Epoch 142: Train Loss=184956.930625, Val Loss=31682.754639\n",
      "Epoch 143: Train Loss=187125.260313, Val Loss=33596.083252\n",
      "Epoch 144: Train Loss=189200.785625, Val Loss=30504.902039\n",
      "Epoch 145: Train Loss=187966.259375, Val Loss=29294.288879\n",
      "Epoch 146: Train Loss=190575.703125, Val Loss=36411.220398\n",
      "Epoch 147: Train Loss=188853.459766, Val Loss=45087.716797\n",
      "Epoch 148: Train Loss=185805.995781, Val Loss=32265.473145\n",
      "Epoch 149: Train Loss=184702.703594, Val Loss=58148.417358\n",
      "Epoch 150: Train Loss=186045.757812, Val Loss=29211.538757\n",
      "Epoch 151: Train Loss=185320.994531, Val Loss=31988.034790\n",
      "Epoch 152: Train Loss=186309.930469, Val Loss=33042.017212\n",
      "Epoch 153: Train Loss=184647.864219, Val Loss=31619.458557\n",
      "Epoch 154: Train Loss=187283.121094, Val Loss=27308.064453\n",
      "Epoch 155: Train Loss=188867.637656, Val Loss=29973.010010\n",
      "Epoch 156: Train Loss=185523.813906, Val Loss=30140.441406\n",
      "Epoch 157: Train Loss=185832.189531, Val Loss=34978.978760\n",
      "Epoch 158: Train Loss=190954.174531, Val Loss=29172.978699\n",
      "Epoch 159: Train Loss=187698.351562, Val Loss=30615.998047\n",
      "Epoch 160: Train Loss=186712.115469, Val Loss=36031.907837\n",
      "Epoch 161: Train Loss=186022.396094, Val Loss=41287.144287\n",
      "Epoch 162: Train Loss=187481.908594, Val Loss=51229.095093\n",
      "Epoch 163: Train Loss=184371.681719, Val Loss=32822.442261\n",
      "Epoch 164: Train Loss=186989.310156, Val Loss=41021.287354\n",
      "Epoch 165: Train Loss=184342.788906, Val Loss=35920.256958\n",
      "Epoch 166: Train Loss=186182.919687, Val Loss=36310.562256\n",
      "Epoch 167: Train Loss=185520.844922, Val Loss=51080.889771\n",
      "Epoch 168: Train Loss=183891.091406, Val Loss=40315.621216\n",
      "Epoch 169: Train Loss=186671.009297, Val Loss=34643.201233\n",
      "Epoch 170: Train Loss=186020.602031, Val Loss=34994.643982\n",
      "Epoch 171: Train Loss=187073.067812, Val Loss=33445.899353\n",
      "Epoch 172: Train Loss=184402.097422, Val Loss=26021.095520\n",
      "Epoch 173: Train Loss=190435.902031, Val Loss=27539.459473\n",
      "Epoch 174: Train Loss=183343.975234, Val Loss=40753.637756\n",
      "Epoch 175: Train Loss=188236.093203, Val Loss=30069.756226\n",
      "Epoch 176: Train Loss=182618.836875, Val Loss=26380.319641\n",
      "Epoch 177: Train Loss=185792.644063, Val Loss=28775.571899\n",
      "Epoch 178: Train Loss=182909.305234, Val Loss=29672.647400\n",
      "Epoch 179: Train Loss=186665.636406, Val Loss=35362.291931\n",
      "Epoch 180: Train Loss=180165.910312, Val Loss=41645.088257\n",
      "Epoch 181: Train Loss=184680.085469, Val Loss=36986.556519\n",
      "Epoch 182: Train Loss=181782.438438, Val Loss=32118.045593\n",
      "Epoch 183: Train Loss=187782.422422, Val Loss=31234.283813\n",
      "Epoch 184: Train Loss=191375.285938, Val Loss=26661.762451\n",
      "Epoch 185: Train Loss=187240.485156, Val Loss=31558.395569\n",
      "Epoch 186: Train Loss=185893.168125, Val Loss=29420.047180\n",
      "Epoch 187: Train Loss=187652.813203, Val Loss=41404.917480\n",
      "Epoch 188: Train Loss=181711.752656, Val Loss=45203.336304\n",
      "Epoch 189: Train Loss=184479.312969, Val Loss=27499.790771\n",
      "Epoch 190: Train Loss=184409.521172, Val Loss=32793.825806\n",
      "Epoch 191: Train Loss=185718.951406, Val Loss=43030.888550\n",
      "Epoch 192: Train Loss=183884.716250, Val Loss=27058.522644\n",
      "Epoch 193: Train Loss=183710.257344, Val Loss=28690.192017\n",
      "Epoch 194: Train Loss=183321.691250, Val Loss=30077.110962\n",
      "Epoch 195: Train Loss=186217.271406, Val Loss=60926.245728\n",
      "Epoch 196: Train Loss=183771.133750, Val Loss=29624.352844\n",
      "Epoch 197: Train Loss=182011.189375, Val Loss=23217.658813\n",
      "Epoch 198: Train Loss=183804.705156, Val Loss=25602.784546\n",
      "Epoch 199: Train Loss=181886.324297, Val Loss=57382.541016\n",
      "Epoch 200: Train Loss=185042.165937, Val Loss=28548.368958\n",
      "Epoch 201: Train Loss=183503.392266, Val Loss=23421.791870\n",
      "Epoch 202: Train Loss=183391.870625, Val Loss=50814.702393\n",
      "Epoch 203: Train Loss=185453.651406, Val Loss=53704.760620\n",
      "Epoch 204: Train Loss=182072.277500, Val Loss=35972.170105\n",
      "Epoch 205: Train Loss=185220.547813, Val Loss=66636.205200\n",
      "Epoch 206: Train Loss=188406.235469, Val Loss=25815.521790\n",
      "Epoch 207: Train Loss=183185.647500, Val Loss=27809.212952\n",
      "Epoch 208: Train Loss=187079.431250, Val Loss=31387.225159\n",
      "Epoch 209: Train Loss=185531.385937, Val Loss=21458.823486\n",
      "Epoch 210: Train Loss=182549.553281, Val Loss=30655.593018\n",
      "Epoch 211: Train Loss=180926.041094, Val Loss=41980.160156\n",
      "Epoch 212: Train Loss=182795.729453, Val Loss=29030.787231\n",
      "Epoch 213: Train Loss=182848.232969, Val Loss=52615.739502\n",
      "Epoch 214: Train Loss=184652.068281, Val Loss=27063.960815\n",
      "Epoch 215: Train Loss=180048.084766, Val Loss=27221.939087\n",
      "Epoch 216: Train Loss=179189.945156, Val Loss=27734.802917\n",
      "Epoch 217: Train Loss=183385.757812, Val Loss=25139.424866\n",
      "Epoch 218: Train Loss=182146.537656, Val Loss=29847.453735\n",
      "Epoch 219: Train Loss=182323.608672, Val Loss=33612.585083\n",
      "Epoch 220: Train Loss=184550.295469, Val Loss=31687.681885\n",
      "Epoch 221: Train Loss=182915.700469, Val Loss=30807.735046\n",
      "Epoch 222: Train Loss=184073.492422, Val Loss=22043.615906\n",
      "Epoch 223: Train Loss=180013.944609, Val Loss=28402.429932\n",
      "Epoch 224: Train Loss=186076.860625, Val Loss=28741.246887\n",
      "Epoch 225: Train Loss=181388.668047, Val Loss=25751.553528\n",
      "Epoch 226: Train Loss=183299.618672, Val Loss=25929.083435\n",
      "Epoch 227: Train Loss=182822.182500, Val Loss=29164.506042\n",
      "Epoch 228: Train Loss=180840.769844, Val Loss=22557.221863\n",
      "Epoch 229: Train Loss=182029.151719, Val Loss=40745.251221\n",
      "Epoch 230: Train Loss=178393.913906, Val Loss=27140.444824\n",
      "Epoch 231: Train Loss=181101.112656, Val Loss=42534.511108\n",
      "Epoch 232: Train Loss=181027.159297, Val Loss=28415.391541\n",
      "Epoch 233: Train Loss=179146.184219, Val Loss=46594.841553\n",
      "Epoch 234: Train Loss=182297.753828, Val Loss=30009.024841\n",
      "Epoch 235: Train Loss=181504.030625, Val Loss=28160.804199\n",
      "Epoch 236: Train Loss=181049.238125, Val Loss=34219.881226\n",
      "Epoch 237: Train Loss=178707.747969, Val Loss=28164.408142\n",
      "Epoch 238: Train Loss=180375.406094, Val Loss=32422.352112\n",
      "Epoch 239: Train Loss=181738.904219, Val Loss=25576.643616\n",
      "⏹️ Early stopping at epoch 239\n",
      "✅ Загружены лучшие веса модели.\n",
      "📁 Модель сохранена в 'tensorboard/2025-03-25_18-04-08/final_model.pth'\n"
     ]
    }
   ],
   "source": [
    "# === 1. Устанавливаем лучшие параметры ===\n",
    "best_config = {\n",
    "    \"learning_rate\": 0.001,\n",
    "    \"batch_size\": 64,\n",
    "    \"dropout\": 0.1044,  # округляем до 4 знаков\n",
    "    \"activation\": \"relu\",\n",
    "    \"num_layers\": 3,\n",
    "    \"optimizer\": \"Adam\",\n",
    "    \"layers\": 250\n",
    "}\n",
    "\n",
    "# === 2. Определяем устройство ===\n",
    "device = \"cuda\" if torch.cuda.is_available() else \"cpu\"\n",
    "\n",
    "# === 3. Подготовка данных ===\n",
    "train_loader = DataLoader(train_dataset, batch_size=best_config[\"batch_size\"], shuffle=True)\n",
    "test_loader = DataLoader(test_dataset, batch_size=best_config[\"batch_size\"], shuffle=False)\n",
    "\n",
    "# === 4. Определяем модель ===\n",
    "class SimpleNN(nn.Module):\n",
    "    def __init__(self, num_layers, hidden_size, dropout, activation):\n",
    "        super(SimpleNN, self).__init__()\n",
    "        layers = []\n",
    "        input_dim = train_dataset[0][0].shape[0]  # Определяем размер входа\n",
    "\n",
    "        for _ in range(num_layers):\n",
    "            layers.append(nn.Linear(input_dim, hidden_size))\n",
    "            layers.append(nn.ReLU() if activation == \"relu\" else nn.Tanh())\n",
    "            layers.append(nn.Dropout(dropout))\n",
    "            input_dim = hidden_size  # обновляем входной размер\n",
    "        \n",
    "        layers.append(nn.Linear(hidden_size, 1))  # Выходной слой (для регрессии)\n",
    "        self.model = nn.Sequential(*layers)\n",
    "\n",
    "    def forward(self, x):\n",
    "        return self.model(x)\n",
    "\n",
    "# Инициализируем модель\n",
    "model = SimpleNN(\n",
    "    num_layers=best_config[\"num_layers\"],\n",
    "    hidden_size=best_config[\"layers\"],\n",
    "    dropout=best_config[\"dropout\"],\n",
    "    activation=best_config[\"activation\"]\n",
    ").to(device)\n",
    "\n",
    "# === 5. Определяем функцию потерь и оптимизатор ===\n",
    "criterion = nn.SmoothL1Loss()  # Huber Loss\n",
    "optimizer = optim.Adam(model.parameters(), lr=best_config[\"learning_rate\"])\n",
    "\n",
    "# === 6. Создаём папку для логов TensorBoard ===\n",
    "log_dir = f\"tensorboard/{datetime.now().strftime('%Y-%m-%d_%H-%M-%S')}\"\n",
    "os.makedirs(log_dir, exist_ok=True)\n",
    "writer = SummaryWriter(log_dir=log_dir)\n",
    "\n",
    "# === 7. Обучение модели ===\n",
    "epochs = 600\n",
    "best_val_loss = float(\"inf\")\n",
    "patience = 30\n",
    "epochs_no_improve = 0\n",
    "best_model_wts = None\n",
    "\n",
    "for epoch in range(epochs):\n",
    "    model.train()\n",
    "    running_loss = 0.0\n",
    "    \n",
    "    for inputs, labels in train_loader:\n",
    "        inputs, labels = inputs.to(device), labels.to(device)\n",
    "        optimizer.zero_grad()\n",
    "        outputs = model(inputs)\n",
    "        loss = criterion(outputs, labels)\n",
    "        loss.backward()\n",
    "        torch.nn.utils.clip_grad_value_(model.parameters(), clip_value=1.0)  # ограничение градиентов\n",
    "        optimizer.step()\n",
    "        running_loss += loss.item()\n",
    "    \n",
    "    avg_train_loss = running_loss / len(train_loader)\n",
    "\n",
    "    # === 8. Валидация ===\n",
    "    model.eval()\n",
    "    val_loss = 0.0\n",
    "    \n",
    "    with torch.no_grad():\n",
    "        for inputs, labels in test_loader:\n",
    "            inputs, labels = inputs.to(device), labels.to(device)\n",
    "            outputs = model(inputs)\n",
    "            loss = criterion(outputs, labels)\n",
    "            val_loss += loss.item()\n",
    "    \n",
    "    avg_val_loss = val_loss / len(test_loader)\n",
    "\n",
    "    print(f\"Epoch {epoch+1}: Train Loss={avg_train_loss:.6f}, Val Loss={avg_val_loss:.6f}\")\n",
    "\n",
    "    # === 9. Логируем данные в TensorBoard ===\n",
    "    writer.add_scalar(\"Loss/Train\", avg_train_loss, epoch)\n",
    "    writer.add_scalar(\"Loss/Validation\", avg_val_loss, epoch)\n",
    "\n",
    "    # Логируем градиенты\n",
    "    for name, param in model.named_parameters():\n",
    "        if param.grad is not None:\n",
    "            writer.add_histogram(f\"Gradients/{name}\", param.grad, epoch)\n",
    "\n",
    "    # Ранняя остановка\n",
    "    if avg_val_loss < best_val_loss:\n",
    "        best_val_loss = avg_val_loss\n",
    "        epochs_no_improve = 0\n",
    "        best_model_wts = model.state_dict()  # Сохраняем лучшие веса\n",
    "    else:\n",
    "        epochs_no_improve += 1\n",
    "    \n",
    "    if epochs_no_improve >= patience:\n",
    "        print(f\"⏹️ Early stopping at epoch {epoch+1}\")\n",
    "        break\n",
    "\n",
    "# === 10. Загружаем лучшие веса модели ===\n",
    "if best_model_wts is not None:\n",
    "    model.load_state_dict(best_model_wts)\n",
    "    print(\"✅ Загружены лучшие веса модели.\")\n",
    "\n",
    "# === 11. Сохраняем обученную модель в папку с логами ===\n",
    "model_path = os.path.join(log_dir, \"final_model.pth\")\n",
    "torch.save(model.state_dict(), model_path)\n",
    "print(f\"📁 Модель сохранена в '{model_path}'\")\n",
    "\n",
    "# Закрываем TensorBoard writer\n",
    "writer.close()"
   ]
  },
  {
   "cell_type": "code",
   "execution_count": 134,
   "id": "02773000-f0ab-4f34-ba28-e8b0ed6116a1",
   "metadata": {},
   "outputs": [
    {
     "data": {
      "image/png": "[encoded data removed]",
      "text/plain": [
       "<Figure size 640x480 with 1 Axes>"
      ]
     },
     "metadata": {},
     "output_type": "display_data"
    }
   ],
   "source": [
    "# График ошибки\n",
    "plt.plot(train_losses, label='Train Loss')\n",
    "plt.plot(val_losses, label='Validation Loss')\n",
    "plt.xlabel('Epochs')\n",
    "plt.ylabel('Loss (SmoothL1Loss)')\n",
    "plt.legend()\n",
    "plt.title('График ошибки (Loss)')\n",
    "plt.show()"
   ]
  },
  {
   "cell_type": "code",
   "execution_count": 135,
   "id": "f029af3a-9402-4e0d-98a5-4ad0ec8bdefc",
   "metadata": {},
   "outputs": [
    {
     "data": {
      "image/png": "[encoded data removed]",
      "text/plain": [
       "<Figure size 640x480 with 1 Axes>"
      ]
     },
     "metadata": {},
     "output_type": "display_data"
    }
   ],
   "source": [
    "model.eval()\n",
    "with torch.no_grad():\n",
    "    y_pred = model(X_test_tensor.to(device)).cpu().numpy()\n",
    "\n",
    "plt.scatter(y_test, y_pred)\n",
    "plt.xlabel('Фактические значения')\n",
    "plt.ylabel('Предсказанные значения')\n",
    "plt.title('Сравнение предсказаний с реальными значениями')\n",
    "plt.plot([min(y_test), max(y_test)], [min(y_test), max(y_test)], color='red')  # Линия идеального предсказания\n",
    "plt.show()"
   ]
  },
  {
   "cell_type": "code",
   "execution_count": null,
   "id": "f5b339d1-8bad-4917-963a-0a8479b93c80",
   "metadata": {},
   "outputs": [],
   "source": []
  }
 ],
 "metadata": {
  "kernelspec": {
   "display_name": "Python 3 (ipykernel)",
   "language": "python",
   "name": "python3"
  },
  "language_info": {
   "codemirror_mode": {
    "name": "ipython",
    "version": 3
   },
   "file_extension": ".py",
   "mimetype": "text/x-python",
   "name": "python",
   "nbconvert_exporter": "python",
   "pygments_lexer": "ipython3",
   "version": "3.12.2"
  }
 },
 "nbformat": 4,
 "nbformat_minor": 5
}
