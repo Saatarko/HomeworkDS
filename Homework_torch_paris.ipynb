{
 "cells": [
  {
   "cell_type": "code",
   "execution_count": 3,
   "id": "3d7611f4-94f9-47a6-8fe9-320328a86244",
   "metadata": {},
   "outputs": [],
   "source": [
    "import os\n",
    "# Отключает все логи TensorFlow (0 - все, 1 - предупреждения, 2 - ошибки, 3 - критичные ошибки)\n",
    "os.environ['TF_CPP_MIN_LOG_LEVEL'] = '3'"
   ]
  },
  {
   "cell_type": "code",
   "execution_count": 55,
   "id": "f404c73a-b0c9-4cb6-9c7e-109790f66076",
   "metadata": {},
   "outputs": [],
   "source": [
    "from sklearn import datasets\n",
    "import pandas as pd\n",
    "import numpy as np\n",
    "from typing import List, Union\n",
    "import matplotlib.pyplot as plt\n",
    "import seaborn as sns\n",
    "from sklearn.preprocessing import StandardScaler, MinMaxScaler\n",
    "from sklearn.model_selection import train_test_split, KFold\n",
    "import pandas as pd\n",
    "import torch\n",
    "from torch.utils.data import Dataset, DataLoader\n",
    "import time  \n",
    "import torch.nn as nn\n",
    "import torchvision\n",
    "import torchvision.transforms as transforms\n",
    "import torch.optim as optim\n",
    "from sklearn.metrics import confusion_matrix, ConfusionMatrixDisplay, mean_absolute_error, confusion_matrix, accuracy_score, f1_score, r2_score, mean_squared_error, make_scorer\n",
    "from sklearn.linear_model import LogisticRegression, LinearRegression\n",
    "import tensorflow as tf\n",
    "from tensorflow import keras\n",
    "from keras.callbacks import ReduceLROnPlateau, EarlyStopping, ModelCheckpoint\n",
    "from sklearn.preprocessing import LabelEncoder\n",
    "from sklearn.feature_selection import mutual_info_regression\n",
    "from sklearn.feature_selection import mutual_info_classif\n",
    "from sklearn.decomposition import PCA\n",
    "import xgboost as xgb\n",
    "from torch.utils.tensorboard import SummaryWriter\n",
    "import neptune\n",
    "import optuna\n",
    "from dotenv import load_dotenv\n",
    "import matplotlib.pyplot as plt\n",
    "from datetime import datetime\n",
    "import shap\n",
    "from sklearn.inspection import permutation_importance\n",
    "from sklearn.base import BaseEstimator, RegressorMixin\n",
    "from sklearn.model_selection import cross_val_score\n",
    "from sklearn.ensemble import RandomForestRegressor, GradientBoostingRegressor\n",
    "from xgboost import XGBRegressor\n",
    "import lightgbm as lgb"
   ]
  },
  {
   "cell_type": "markdown",
   "id": "3fd384d7-c9bc-4269-89ee-e1ac38c11d14",
   "metadata": {},
   "source": [
    "# Загружаем наш датасет и проверяем его"
   ]
  },
  {
   "cell_type": "code",
   "execution_count": 5,
   "id": "eed3c8ca-8cf6-415b-8e8d-91986ee8023c",
   "metadata": {},
   "outputs": [],
   "source": [
    "df = pd.read_csv('content/ParisHousing.csv')"
   ]
  },
  {
   "cell_type": "code",
   "execution_count": 7,
   "id": "d057415d-8242-4b54-8a02-bbfe4cc91010",
   "metadata": {},
   "outputs": [
    {
     "data": {
      "text/html": [
       "<div>\n",
       "<style scoped>\n",
       "    .dataframe tbody tr th:only-of-type {\n",
       "        vertical-align: middle;\n",
       "    }\n",
       "\n",
       "    .dataframe tbody tr th {\n",
       "        vertical-align: top;\n",
       "    }\n",
       "\n",
       "    .dataframe thead th {\n",
       "        text-align: right;\n",
       "    }\n",
       "</style>\n",
       "<table border=\"1\" class=\"dataframe\">\n",
       "  <thead>\n",
       "    <tr style=\"text-align: right;\">\n",
       "      <th></th>\n",
       "      <th>squareMeters</th>\n",
       "      <th>numberOfRooms</th>\n",
       "      <th>hasYard</th>\n",
       "      <th>hasPool</th>\n",
       "      <th>floors</th>\n",
       "      <th>cityCode</th>\n",
       "      <th>cityPartRange</th>\n",
       "      <th>numPrevOwners</th>\n",
       "      <th>made</th>\n",
       "      <th>isNewBuilt</th>\n",
       "      <th>hasStormProtector</th>\n",
       "      <th>basement</th>\n",
       "      <th>attic</th>\n",
       "      <th>garage</th>\n",
       "      <th>hasStorageRoom</th>\n",
       "      <th>hasGuestRoom</th>\n",
       "      <th>price</th>\n",
       "    </tr>\n",
       "  </thead>\n",
       "  <tbody>\n",
       "    <tr>\n",
       "      <th>0</th>\n",
       "      <td>75523</td>\n",
       "      <td>3</td>\n",
       "      <td>0</td>\n",
       "      <td>1</td>\n",
       "      <td>63</td>\n",
       "      <td>9373</td>\n",
       "      <td>3</td>\n",
       "      <td>8</td>\n",
       "      <td>2005</td>\n",
       "      <td>0</td>\n",
       "      <td>1</td>\n",
       "      <td>4313</td>\n",
       "      <td>9005</td>\n",
       "      <td>956</td>\n",
       "      <td>0</td>\n",
       "      <td>7</td>\n",
       "      <td>7559081.5</td>\n",
       "    </tr>\n",
       "    <tr>\n",
       "      <th>1</th>\n",
       "      <td>80771</td>\n",
       "      <td>39</td>\n",
       "      <td>1</td>\n",
       "      <td>1</td>\n",
       "      <td>98</td>\n",
       "      <td>39381</td>\n",
       "      <td>8</td>\n",
       "      <td>6</td>\n",
       "      <td>2015</td>\n",
       "      <td>1</td>\n",
       "      <td>0</td>\n",
       "      <td>3653</td>\n",
       "      <td>2436</td>\n",
       "      <td>128</td>\n",
       "      <td>1</td>\n",
       "      <td>2</td>\n",
       "      <td>8085989.5</td>\n",
       "    </tr>\n",
       "    <tr>\n",
       "      <th>2</th>\n",
       "      <td>55712</td>\n",
       "      <td>58</td>\n",
       "      <td>0</td>\n",
       "      <td>1</td>\n",
       "      <td>19</td>\n",
       "      <td>34457</td>\n",
       "      <td>6</td>\n",
       "      <td>8</td>\n",
       "      <td>2021</td>\n",
       "      <td>0</td>\n",
       "      <td>0</td>\n",
       "      <td>2937</td>\n",
       "      <td>8852</td>\n",
       "      <td>135</td>\n",
       "      <td>1</td>\n",
       "      <td>9</td>\n",
       "      <td>5574642.1</td>\n",
       "    </tr>\n",
       "    <tr>\n",
       "      <th>3</th>\n",
       "      <td>32316</td>\n",
       "      <td>47</td>\n",
       "      <td>0</td>\n",
       "      <td>0</td>\n",
       "      <td>6</td>\n",
       "      <td>27939</td>\n",
       "      <td>10</td>\n",
       "      <td>4</td>\n",
       "      <td>2012</td>\n",
       "      <td>0</td>\n",
       "      <td>1</td>\n",
       "      <td>659</td>\n",
       "      <td>7141</td>\n",
       "      <td>359</td>\n",
       "      <td>0</td>\n",
       "      <td>3</td>\n",
       "      <td>3232561.2</td>\n",
       "    </tr>\n",
       "    <tr>\n",
       "      <th>4</th>\n",
       "      <td>70429</td>\n",
       "      <td>19</td>\n",
       "      <td>1</td>\n",
       "      <td>1</td>\n",
       "      <td>90</td>\n",
       "      <td>38045</td>\n",
       "      <td>3</td>\n",
       "      <td>7</td>\n",
       "      <td>1990</td>\n",
       "      <td>1</td>\n",
       "      <td>0</td>\n",
       "      <td>8435</td>\n",
       "      <td>2429</td>\n",
       "      <td>292</td>\n",
       "      <td>1</td>\n",
       "      <td>4</td>\n",
       "      <td>7055052.0</td>\n",
       "    </tr>\n",
       "    <tr>\n",
       "      <th>...</th>\n",
       "      <td>...</td>\n",
       "      <td>...</td>\n",
       "      <td>...</td>\n",
       "      <td>...</td>\n",
       "      <td>...</td>\n",
       "      <td>...</td>\n",
       "      <td>...</td>\n",
       "      <td>...</td>\n",
       "      <td>...</td>\n",
       "      <td>...</td>\n",
       "      <td>...</td>\n",
       "      <td>...</td>\n",
       "      <td>...</td>\n",
       "      <td>...</td>\n",
       "      <td>...</td>\n",
       "      <td>...</td>\n",
       "      <td>...</td>\n",
       "    </tr>\n",
       "    <tr>\n",
       "      <th>9995</th>\n",
       "      <td>1726</td>\n",
       "      <td>89</td>\n",
       "      <td>0</td>\n",
       "      <td>1</td>\n",
       "      <td>5</td>\n",
       "      <td>73133</td>\n",
       "      <td>7</td>\n",
       "      <td>6</td>\n",
       "      <td>2009</td>\n",
       "      <td>0</td>\n",
       "      <td>1</td>\n",
       "      <td>9311</td>\n",
       "      <td>1698</td>\n",
       "      <td>218</td>\n",
       "      <td>0</td>\n",
       "      <td>4</td>\n",
       "      <td>176425.9</td>\n",
       "    </tr>\n",
       "    <tr>\n",
       "      <th>9996</th>\n",
       "      <td>44403</td>\n",
       "      <td>29</td>\n",
       "      <td>1</td>\n",
       "      <td>1</td>\n",
       "      <td>12</td>\n",
       "      <td>34606</td>\n",
       "      <td>9</td>\n",
       "      <td>4</td>\n",
       "      <td>1990</td>\n",
       "      <td>0</td>\n",
       "      <td>1</td>\n",
       "      <td>9061</td>\n",
       "      <td>1742</td>\n",
       "      <td>230</td>\n",
       "      <td>0</td>\n",
       "      <td>0</td>\n",
       "      <td>4448474.0</td>\n",
       "    </tr>\n",
       "    <tr>\n",
       "      <th>9997</th>\n",
       "      <td>83841</td>\n",
       "      <td>3</td>\n",
       "      <td>0</td>\n",
       "      <td>0</td>\n",
       "      <td>69</td>\n",
       "      <td>80933</td>\n",
       "      <td>10</td>\n",
       "      <td>10</td>\n",
       "      <td>2005</td>\n",
       "      <td>1</td>\n",
       "      <td>1</td>\n",
       "      <td>8304</td>\n",
       "      <td>7730</td>\n",
       "      <td>345</td>\n",
       "      <td>1</td>\n",
       "      <td>9</td>\n",
       "      <td>8390030.5</td>\n",
       "    </tr>\n",
       "    <tr>\n",
       "      <th>9998</th>\n",
       "      <td>59036</td>\n",
       "      <td>70</td>\n",
       "      <td>0</td>\n",
       "      <td>0</td>\n",
       "      <td>96</td>\n",
       "      <td>55856</td>\n",
       "      <td>1</td>\n",
       "      <td>3</td>\n",
       "      <td>2010</td>\n",
       "      <td>0</td>\n",
       "      <td>1</td>\n",
       "      <td>2590</td>\n",
       "      <td>6174</td>\n",
       "      <td>339</td>\n",
       "      <td>1</td>\n",
       "      <td>4</td>\n",
       "      <td>5905107.0</td>\n",
       "    </tr>\n",
       "    <tr>\n",
       "      <th>9999</th>\n",
       "      <td>1440</td>\n",
       "      <td>84</td>\n",
       "      <td>0</td>\n",
       "      <td>0</td>\n",
       "      <td>49</td>\n",
       "      <td>18412</td>\n",
       "      <td>6</td>\n",
       "      <td>10</td>\n",
       "      <td>1994</td>\n",
       "      <td>1</td>\n",
       "      <td>0</td>\n",
       "      <td>8485</td>\n",
       "      <td>2024</td>\n",
       "      <td>278</td>\n",
       "      <td>1</td>\n",
       "      <td>6</td>\n",
       "      <td>146708.4</td>\n",
       "    </tr>\n",
       "  </tbody>\n",
       "</table>\n",
       "<p>10000 rows × 17 columns</p>\n",
       "</div>"
      ],
      "text/plain": [
       "      squareMeters  numberOfRooms  hasYard  hasPool  floors  cityCode  \\\n",
       "0            75523              3        0        1      63      9373   \n",
       "1            80771             39        1        1      98     39381   \n",
       "2            55712             58        0        1      19     34457   \n",
       "3            32316             47        0        0       6     27939   \n",
       "4            70429             19        1        1      90     38045   \n",
       "...            ...            ...      ...      ...     ...       ...   \n",
       "9995          1726             89        0        1       5     73133   \n",
       "9996         44403             29        1        1      12     34606   \n",
       "9997         83841              3        0        0      69     80933   \n",
       "9998         59036             70        0        0      96     55856   \n",
       "9999          1440             84        0        0      49     18412   \n",
       "\n",
       "      cityPartRange  numPrevOwners  made  isNewBuilt  hasStormProtector  \\\n",
       "0                 3              8  2005           0                  1   \n",
       "1                 8              6  2015           1                  0   \n",
       "2                 6              8  2021           0                  0   \n",
       "3                10              4  2012           0                  1   \n",
       "4                 3              7  1990           1                  0   \n",
       "...             ...            ...   ...         ...                ...   \n",
       "9995              7              6  2009           0                  1   \n",
       "9996              9              4  1990           0                  1   \n",
       "9997             10             10  2005           1                  1   \n",
       "9998              1              3  2010           0                  1   \n",
       "9999              6             10  1994           1                  0   \n",
       "\n",
       "      basement  attic  garage  hasStorageRoom  hasGuestRoom      price  \n",
       "0         4313   9005     956               0             7  7559081.5  \n",
       "1         3653   2436     128               1             2  8085989.5  \n",
       "2         2937   8852     135               1             9  5574642.1  \n",
       "3          659   7141     359               0             3  3232561.2  \n",
       "4         8435   2429     292               1             4  7055052.0  \n",
       "...        ...    ...     ...             ...           ...        ...  \n",
       "9995      9311   1698     218               0             4   176425.9  \n",
       "9996      9061   1742     230               0             0  4448474.0  \n",
       "9997      8304   7730     345               1             9  8390030.5  \n",
       "9998      2590   6174     339               1             4  5905107.0  \n",
       "9999      8485   2024     278               1             6   146708.4  \n",
       "\n",
       "[10000 rows x 17 columns]"
      ]
     },
     "execution_count": 7,
     "metadata": {},
     "output_type": "execute_result"
    }
   ],
   "source": [
    "df"
   ]
  },
  {
   "cell_type": "code",
   "execution_count": 8,
   "id": "5b9a2c45-bfbb-43bd-9ca2-82866402bcea",
   "metadata": {},
   "outputs": [
    {
     "name": "stdout",
     "output_type": "stream",
     "text": [
      "<class 'pandas.core.frame.DataFrame'>\n",
      "RangeIndex: 10000 entries, 0 to 9999\n",
      "Data columns (total 17 columns):\n",
      " #   Column             Non-Null Count  Dtype  \n",
      "---  ------             --------------  -----  \n",
      " 0   squareMeters       10000 non-null  int64  \n",
      " 1   numberOfRooms      10000 non-null  int64  \n",
      " 2   hasYard            10000 non-null  int64  \n",
      " 3   hasPool            10000 non-null  int64  \n",
      " 4   floors             10000 non-null  int64  \n",
      " 5   cityCode           10000 non-null  int64  \n",
      " 6   cityPartRange      10000 non-null  int64  \n",
      " 7   numPrevOwners      10000 non-null  int64  \n",
      " 8   made               10000 non-null  int64  \n",
      " 9   isNewBuilt         10000 non-null  int64  \n",
      " 10  hasStormProtector  10000 non-null  int64  \n",
      " 11  basement           10000 non-null  int64  \n",
      " 12  attic              10000 non-null  int64  \n",
      " 13  garage             10000 non-null  int64  \n",
      " 14  hasStorageRoom     10000 non-null  int64  \n",
      " 15  hasGuestRoom       10000 non-null  int64  \n",
      " 16  price              10000 non-null  float64\n",
      "dtypes: float64(1), int64(16)\n",
      "memory usage: 1.3 MB\n"
     ]
    }
   ],
   "source": [
    "df.info()"
   ]
  },
  {
   "cell_type": "code",
   "execution_count": null,
   "id": "23af6798-6f3e-49fa-82be-b00aba7b7083",
   "metadata": {},
   "outputs": [],
   "source": []
  },
  {
   "cell_type": "code",
   "execution_count": 9,
   "id": "5d64eb5a-60c8-40de-a7c4-3504fb2e20c3",
   "metadata": {},
   "outputs": [
    {
     "data": {
      "image/png": "[encoded data removed]",
      "text/plain": [
       "<Figure size 1200x600 with 2 Axes>"
      ]
     },
     "metadata": {},
     "output_type": "display_data"
    }
   ],
   "source": [
    "plt.figure(figsize=(12, 6)) \n",
    "sns.heatmap(df.corr(), annot=True, cmap='coolwarm', fmt='.2f', cbar_kws={'label': 'Значение'})\n",
    "plt.show()"
   ]
  },
  {
   "cell_type": "code",
   "execution_count": 10,
   "id": "27f185e0-82e3-4bb8-a0a5-c1904e248af6",
   "metadata": {},
   "outputs": [
    {
     "data": {
      "text/html": [
       "<div>\n",
       "<style scoped>\n",
       "    .dataframe tbody tr th:only-of-type {\n",
       "        vertical-align: middle;\n",
       "    }\n",
       "\n",
       "    .dataframe tbody tr th {\n",
       "        vertical-align: top;\n",
       "    }\n",
       "\n",
       "    .dataframe thead th {\n",
       "        text-align: right;\n",
       "    }\n",
       "</style>\n",
       "<table border=\"1\" class=\"dataframe\">\n",
       "  <thead>\n",
       "    <tr style=\"text-align: right;\">\n",
       "      <th></th>\n",
       "      <th>squareMeters</th>\n",
       "      <th>numberOfRooms</th>\n",
       "      <th>hasYard</th>\n",
       "      <th>hasPool</th>\n",
       "      <th>floors</th>\n",
       "      <th>cityCode</th>\n",
       "      <th>cityPartRange</th>\n",
       "      <th>numPrevOwners</th>\n",
       "      <th>made</th>\n",
       "      <th>isNewBuilt</th>\n",
       "      <th>hasStormProtector</th>\n",
       "      <th>basement</th>\n",
       "      <th>attic</th>\n",
       "      <th>garage</th>\n",
       "      <th>hasStorageRoom</th>\n",
       "      <th>hasGuestRoom</th>\n",
       "      <th>price</th>\n",
       "    </tr>\n",
       "  </thead>\n",
       "  <tbody>\n",
       "    <tr>\n",
       "      <th>squareMeters</th>\n",
       "      <td>1.000000</td>\n",
       "      <td>0.009573</td>\n",
       "      <td>-0.006650</td>\n",
       "      <td>-0.005594</td>\n",
       "      <td>0.001109</td>\n",
       "      <td>-0.001541</td>\n",
       "      <td>0.008758</td>\n",
       "      <td>0.016619</td>\n",
       "      <td>-0.007207</td>\n",
       "      <td>-0.010667</td>\n",
       "      <td>0.007480</td>\n",
       "      <td>-0.003960</td>\n",
       "      <td>-0.000588</td>\n",
       "      <td>-0.017246</td>\n",
       "      <td>-0.003486</td>\n",
       "      <td>-0.000623</td>\n",
       "      <td>0.999999</td>\n",
       "    </tr>\n",
       "    <tr>\n",
       "      <th>numberOfRooms</th>\n",
       "      <td>0.009573</td>\n",
       "      <td>1.000000</td>\n",
       "      <td>-0.011240</td>\n",
       "      <td>0.017015</td>\n",
       "      <td>0.022244</td>\n",
       "      <td>0.009040</td>\n",
       "      <td>0.008340</td>\n",
       "      <td>0.016766</td>\n",
       "      <td>0.003978</td>\n",
       "      <td>-0.002865</td>\n",
       "      <td>-0.001656</td>\n",
       "      <td>-0.013990</td>\n",
       "      <td>0.012061</td>\n",
       "      <td>0.023188</td>\n",
       "      <td>-0.004760</td>\n",
       "      <td>-0.015529</td>\n",
       "      <td>0.009591</td>\n",
       "    </tr>\n",
       "    <tr>\n",
       "      <th>hasYard</th>\n",
       "      <td>-0.006650</td>\n",
       "      <td>-0.011240</td>\n",
       "      <td>1.000000</td>\n",
       "      <td>0.015514</td>\n",
       "      <td>-0.000883</td>\n",
       "      <td>0.006760</td>\n",
       "      <td>0.005023</td>\n",
       "      <td>0.004279</td>\n",
       "      <td>0.002214</td>\n",
       "      <td>-0.008370</td>\n",
       "      <td>-0.007598</td>\n",
       "      <td>-0.008558</td>\n",
       "      <td>-0.003085</td>\n",
       "      <td>-0.004626</td>\n",
       "      <td>-0.009506</td>\n",
       "      <td>-0.007276</td>\n",
       "      <td>-0.006119</td>\n",
       "    </tr>\n",
       "    <tr>\n",
       "      <th>hasPool</th>\n",
       "      <td>-0.005594</td>\n",
       "      <td>0.017015</td>\n",
       "      <td>0.015514</td>\n",
       "      <td>1.000000</td>\n",
       "      <td>-0.004006</td>\n",
       "      <td>0.008072</td>\n",
       "      <td>0.014613</td>\n",
       "      <td>-0.006848</td>\n",
       "      <td>0.001894</td>\n",
       "      <td>0.000188</td>\n",
       "      <td>-0.001001</td>\n",
       "      <td>-0.007268</td>\n",
       "      <td>-0.011901</td>\n",
       "      <td>0.004832</td>\n",
       "      <td>0.001238</td>\n",
       "      <td>0.001123</td>\n",
       "      <td>-0.005070</td>\n",
       "    </tr>\n",
       "    <tr>\n",
       "      <th>floors</th>\n",
       "      <td>0.001109</td>\n",
       "      <td>0.022244</td>\n",
       "      <td>-0.000883</td>\n",
       "      <td>-0.004006</td>\n",
       "      <td>1.000000</td>\n",
       "      <td>0.002207</td>\n",
       "      <td>-0.004921</td>\n",
       "      <td>0.002463</td>\n",
       "      <td>0.005022</td>\n",
       "      <td>0.002458</td>\n",
       "      <td>-0.008566</td>\n",
       "      <td>0.006228</td>\n",
       "      <td>-0.000270</td>\n",
       "      <td>0.011303</td>\n",
       "      <td>0.003616</td>\n",
       "      <td>-0.021155</td>\n",
       "      <td>0.001654</td>\n",
       "    </tr>\n",
       "    <tr>\n",
       "      <th>cityCode</th>\n",
       "      <td>-0.001541</td>\n",
       "      <td>0.009040</td>\n",
       "      <td>0.006760</td>\n",
       "      <td>0.008072</td>\n",
       "      <td>0.002207</td>\n",
       "      <td>1.000000</td>\n",
       "      <td>0.011334</td>\n",
       "      <td>-0.007549</td>\n",
       "      <td>0.009266</td>\n",
       "      <td>-0.000224</td>\n",
       "      <td>-0.004941</td>\n",
       "      <td>0.002652</td>\n",
       "      <td>-0.002019</td>\n",
       "      <td>-0.002208</td>\n",
       "      <td>0.002554</td>\n",
       "      <td>-0.003338</td>\n",
       "      <td>-0.001539</td>\n",
       "    </tr>\n",
       "    <tr>\n",
       "      <th>cityPartRange</th>\n",
       "      <td>0.008758</td>\n",
       "      <td>0.008340</td>\n",
       "      <td>0.005023</td>\n",
       "      <td>0.014613</td>\n",
       "      <td>-0.004921</td>\n",
       "      <td>0.011334</td>\n",
       "      <td>1.000000</td>\n",
       "      <td>0.009238</td>\n",
       "      <td>0.007748</td>\n",
       "      <td>-0.001874</td>\n",
       "      <td>0.005224</td>\n",
       "      <td>0.004743</td>\n",
       "      <td>0.010696</td>\n",
       "      <td>-0.001648</td>\n",
       "      <td>-0.011338</td>\n",
       "      <td>-0.007153</td>\n",
       "      <td>0.008813</td>\n",
       "    </tr>\n",
       "    <tr>\n",
       "      <th>numPrevOwners</th>\n",
       "      <td>0.016619</td>\n",
       "      <td>0.016766</td>\n",
       "      <td>0.004279</td>\n",
       "      <td>-0.006848</td>\n",
       "      <td>0.002463</td>\n",
       "      <td>-0.007549</td>\n",
       "      <td>0.009238</td>\n",
       "      <td>1.000000</td>\n",
       "      <td>0.006858</td>\n",
       "      <td>-0.017420</td>\n",
       "      <td>0.002522</td>\n",
       "      <td>-0.000862</td>\n",
       "      <td>0.000719</td>\n",
       "      <td>0.020268</td>\n",
       "      <td>0.031707</td>\n",
       "      <td>-0.006082</td>\n",
       "      <td>0.016619</td>\n",
       "    </tr>\n",
       "    <tr>\n",
       "      <th>made</th>\n",
       "      <td>-0.007207</td>\n",
       "      <td>0.003978</td>\n",
       "      <td>0.002214</td>\n",
       "      <td>0.001894</td>\n",
       "      <td>0.005022</td>\n",
       "      <td>0.009266</td>\n",
       "      <td>0.007748</td>\n",
       "      <td>0.006858</td>\n",
       "      <td>1.000000</td>\n",
       "      <td>-0.001678</td>\n",
       "      <td>-0.000645</td>\n",
       "      <td>-0.005506</td>\n",
       "      <td>0.013773</td>\n",
       "      <td>0.005687</td>\n",
       "      <td>-0.007868</td>\n",
       "      <td>-0.005431</td>\n",
       "      <td>-0.007210</td>\n",
       "    </tr>\n",
       "    <tr>\n",
       "      <th>isNewBuilt</th>\n",
       "      <td>-0.010667</td>\n",
       "      <td>-0.002865</td>\n",
       "      <td>-0.008370</td>\n",
       "      <td>0.000188</td>\n",
       "      <td>0.002458</td>\n",
       "      <td>-0.000224</td>\n",
       "      <td>-0.001874</td>\n",
       "      <td>-0.017420</td>\n",
       "      <td>-0.001678</td>\n",
       "      <td>1.000000</td>\n",
       "      <td>0.003200</td>\n",
       "      <td>-0.015986</td>\n",
       "      <td>0.020127</td>\n",
       "      <td>0.002749</td>\n",
       "      <td>0.007011</td>\n",
       "      <td>0.019895</td>\n",
       "      <td>-0.010643</td>\n",
       "    </tr>\n",
       "    <tr>\n",
       "      <th>hasStormProtector</th>\n",
       "      <td>0.007480</td>\n",
       "      <td>-0.001656</td>\n",
       "      <td>-0.007598</td>\n",
       "      <td>-0.001001</td>\n",
       "      <td>-0.008566</td>\n",
       "      <td>-0.004941</td>\n",
       "      <td>0.005224</td>\n",
       "      <td>0.002522</td>\n",
       "      <td>-0.000645</td>\n",
       "      <td>0.003200</td>\n",
       "      <td>1.000000</td>\n",
       "      <td>-0.005001</td>\n",
       "      <td>-0.003753</td>\n",
       "      <td>0.003758</td>\n",
       "      <td>0.001401</td>\n",
       "      <td>-0.006549</td>\n",
       "      <td>0.007496</td>\n",
       "    </tr>\n",
       "    <tr>\n",
       "      <th>basement</th>\n",
       "      <td>-0.003960</td>\n",
       "      <td>-0.013990</td>\n",
       "      <td>-0.008558</td>\n",
       "      <td>-0.007268</td>\n",
       "      <td>0.006228</td>\n",
       "      <td>0.002652</td>\n",
       "      <td>0.004743</td>\n",
       "      <td>-0.000862</td>\n",
       "      <td>-0.005506</td>\n",
       "      <td>-0.015986</td>\n",
       "      <td>-0.005001</td>\n",
       "      <td>1.000000</td>\n",
       "      <td>-0.003180</td>\n",
       "      <td>0.000117</td>\n",
       "      <td>-0.010815</td>\n",
       "      <td>-0.020732</td>\n",
       "      <td>-0.003967</td>\n",
       "    </tr>\n",
       "    <tr>\n",
       "      <th>attic</th>\n",
       "      <td>-0.000588</td>\n",
       "      <td>0.012061</td>\n",
       "      <td>-0.003085</td>\n",
       "      <td>-0.011901</td>\n",
       "      <td>-0.000270</td>\n",
       "      <td>-0.002019</td>\n",
       "      <td>0.010696</td>\n",
       "      <td>0.000719</td>\n",
       "      <td>0.013773</td>\n",
       "      <td>0.020127</td>\n",
       "      <td>-0.003753</td>\n",
       "      <td>-0.003180</td>\n",
       "      <td>1.000000</td>\n",
       "      <td>-0.000611</td>\n",
       "      <td>-0.000789</td>\n",
       "      <td>-0.011995</td>\n",
       "      <td>-0.000600</td>\n",
       "    </tr>\n",
       "    <tr>\n",
       "      <th>garage</th>\n",
       "      <td>-0.017246</td>\n",
       "      <td>0.023188</td>\n",
       "      <td>-0.004626</td>\n",
       "      <td>0.004832</td>\n",
       "      <td>0.011303</td>\n",
       "      <td>-0.002208</td>\n",
       "      <td>-0.001648</td>\n",
       "      <td>0.020268</td>\n",
       "      <td>0.005687</td>\n",
       "      <td>0.002749</td>\n",
       "      <td>0.003758</td>\n",
       "      <td>0.000117</td>\n",
       "      <td>-0.000611</td>\n",
       "      <td>1.000000</td>\n",
       "      <td>0.032863</td>\n",
       "      <td>-0.017316</td>\n",
       "      <td>-0.017229</td>\n",
       "    </tr>\n",
       "    <tr>\n",
       "      <th>hasStorageRoom</th>\n",
       "      <td>-0.003486</td>\n",
       "      <td>-0.004760</td>\n",
       "      <td>-0.009506</td>\n",
       "      <td>0.001238</td>\n",
       "      <td>0.003616</td>\n",
       "      <td>0.002554</td>\n",
       "      <td>-0.011338</td>\n",
       "      <td>0.031707</td>\n",
       "      <td>-0.007868</td>\n",
       "      <td>0.007011</td>\n",
       "      <td>0.001401</td>\n",
       "      <td>-0.010815</td>\n",
       "      <td>-0.000789</td>\n",
       "      <td>0.032863</td>\n",
       "      <td>1.000000</td>\n",
       "      <td>0.015186</td>\n",
       "      <td>-0.003485</td>\n",
       "    </tr>\n",
       "    <tr>\n",
       "      <th>hasGuestRoom</th>\n",
       "      <td>-0.000623</td>\n",
       "      <td>-0.015529</td>\n",
       "      <td>-0.007276</td>\n",
       "      <td>0.001123</td>\n",
       "      <td>-0.021155</td>\n",
       "      <td>-0.003338</td>\n",
       "      <td>-0.007153</td>\n",
       "      <td>-0.006082</td>\n",
       "      <td>-0.005431</td>\n",
       "      <td>0.019895</td>\n",
       "      <td>-0.006549</td>\n",
       "      <td>-0.020732</td>\n",
       "      <td>-0.011995</td>\n",
       "      <td>-0.017316</td>\n",
       "      <td>0.015186</td>\n",
       "      <td>1.000000</td>\n",
       "      <td>-0.000644</td>\n",
       "    </tr>\n",
       "    <tr>\n",
       "      <th>price</th>\n",
       "      <td>0.999999</td>\n",
       "      <td>0.009591</td>\n",
       "      <td>-0.006119</td>\n",
       "      <td>-0.005070</td>\n",
       "      <td>0.001654</td>\n",
       "      <td>-0.001539</td>\n",
       "      <td>0.008813</td>\n",
       "      <td>0.016619</td>\n",
       "      <td>-0.007210</td>\n",
       "      <td>-0.010643</td>\n",
       "      <td>0.007496</td>\n",
       "      <td>-0.003967</td>\n",
       "      <td>-0.000600</td>\n",
       "      <td>-0.017229</td>\n",
       "      <td>-0.003485</td>\n",
       "      <td>-0.000644</td>\n",
       "      <td>1.000000</td>\n",
       "    </tr>\n",
       "  </tbody>\n",
       "</table>\n",
       "</div>"
      ],
      "text/plain": [
       "                   squareMeters  numberOfRooms   hasYard   hasPool    floors  \\\n",
       "squareMeters           1.000000       0.009573 -0.006650 -0.005594  0.001109   \n",
       "numberOfRooms          0.009573       1.000000 -0.011240  0.017015  0.022244   \n",
       "hasYard               -0.006650      -0.011240  1.000000  0.015514 -0.000883   \n",
       "hasPool               -0.005594       0.017015  0.015514  1.000000 -0.004006   \n",
       "floors                 0.001109       0.022244 -0.000883 -0.004006  1.000000   \n",
       "cityCode              -0.001541       0.009040  0.006760  0.008072  0.002207   \n",
       "cityPartRange          0.008758       0.008340  0.005023  0.014613 -0.004921   \n",
       "numPrevOwners          0.016619       0.016766  0.004279 -0.006848  0.002463   \n",
       "made                  -0.007207       0.003978  0.002214  0.001894  0.005022   \n",
       "isNewBuilt            -0.010667      -0.002865 -0.008370  0.000188  0.002458   \n",
       "hasStormProtector      0.007480      -0.001656 -0.007598 -0.001001 -0.008566   \n",
       "basement              -0.003960      -0.013990 -0.008558 -0.007268  0.006228   \n",
       "attic                 -0.000588       0.012061 -0.003085 -0.011901 -0.000270   \n",
       "garage                -0.017246       0.023188 -0.004626  0.004832  0.011303   \n",
       "hasStorageRoom        -0.003486      -0.004760 -0.009506  0.001238  0.003616   \n",
       "hasGuestRoom          -0.000623      -0.015529 -0.007276  0.001123 -0.021155   \n",
       "price                  0.999999       0.009591 -0.006119 -0.005070  0.001654   \n",
       "\n",
       "                   cityCode  cityPartRange  numPrevOwners      made  \\\n",
       "squareMeters      -0.001541       0.008758       0.016619 -0.007207   \n",
       "numberOfRooms      0.009040       0.008340       0.016766  0.003978   \n",
       "hasYard            0.006760       0.005023       0.004279  0.002214   \n",
       "hasPool            0.008072       0.014613      -0.006848  0.001894   \n",
       "floors             0.002207      -0.004921       0.002463  0.005022   \n",
       "cityCode           1.000000       0.011334      -0.007549  0.009266   \n",
       "cityPartRange      0.011334       1.000000       0.009238  0.007748   \n",
       "numPrevOwners     -0.007549       0.009238       1.000000  0.006858   \n",
       "made               0.009266       0.007748       0.006858  1.000000   \n",
       "isNewBuilt        -0.000224      -0.001874      -0.017420 -0.001678   \n",
       "hasStormProtector -0.004941       0.005224       0.002522 -0.000645   \n",
       "basement           0.002652       0.004743      -0.000862 -0.005506   \n",
       "attic             -0.002019       0.010696       0.000719  0.013773   \n",
       "garage            -0.002208      -0.001648       0.020268  0.005687   \n",
       "hasStorageRoom     0.002554      -0.011338       0.031707 -0.007868   \n",
       "hasGuestRoom      -0.003338      -0.007153      -0.006082 -0.005431   \n",
       "price             -0.001539       0.008813       0.016619 -0.007210   \n",
       "\n",
       "                   isNewBuilt  hasStormProtector  basement     attic  \\\n",
       "squareMeters        -0.010667           0.007480 -0.003960 -0.000588   \n",
       "numberOfRooms       -0.002865          -0.001656 -0.013990  0.012061   \n",
       "hasYard             -0.008370          -0.007598 -0.008558 -0.003085   \n",
       "hasPool              0.000188          -0.001001 -0.007268 -0.011901   \n",
       "floors               0.002458          -0.008566  0.006228 -0.000270   \n",
       "cityCode            -0.000224          -0.004941  0.002652 -0.002019   \n",
       "cityPartRange       -0.001874           0.005224  0.004743  0.010696   \n",
       "numPrevOwners       -0.017420           0.002522 -0.000862  0.000719   \n",
       "made                -0.001678          -0.000645 -0.005506  0.013773   \n",
       "isNewBuilt           1.000000           0.003200 -0.015986  0.020127   \n",
       "hasStormProtector    0.003200           1.000000 -0.005001 -0.003753   \n",
       "basement            -0.015986          -0.005001  1.000000 -0.003180   \n",
       "attic                0.020127          -0.003753 -0.003180  1.000000   \n",
       "garage               0.002749           0.003758  0.000117 -0.000611   \n",
       "hasStorageRoom       0.007011           0.001401 -0.010815 -0.000789   \n",
       "hasGuestRoom         0.019895          -0.006549 -0.020732 -0.011995   \n",
       "price               -0.010643           0.007496 -0.003967 -0.000600   \n",
       "\n",
       "                     garage  hasStorageRoom  hasGuestRoom     price  \n",
       "squareMeters      -0.017246       -0.003486     -0.000623  0.999999  \n",
       "numberOfRooms      0.023188       -0.004760     -0.015529  0.009591  \n",
       "hasYard           -0.004626       -0.009506     -0.007276 -0.006119  \n",
       "hasPool            0.004832        0.001238      0.001123 -0.005070  \n",
       "floors             0.011303        0.003616     -0.021155  0.001654  \n",
       "cityCode          -0.002208        0.002554     -0.003338 -0.001539  \n",
       "cityPartRange     -0.001648       -0.011338     -0.007153  0.008813  \n",
       "numPrevOwners      0.020268        0.031707     -0.006082  0.016619  \n",
       "made               0.005687       -0.007868     -0.005431 -0.007210  \n",
       "isNewBuilt         0.002749        0.007011      0.019895 -0.010643  \n",
       "hasStormProtector  0.003758        0.001401     -0.006549  0.007496  \n",
       "basement           0.000117       -0.010815     -0.020732 -0.003967  \n",
       "attic             -0.000611       -0.000789     -0.011995 -0.000600  \n",
       "garage             1.000000        0.032863     -0.017316 -0.017229  \n",
       "hasStorageRoom     0.032863        1.000000      0.015186 -0.003485  \n",
       "hasGuestRoom      -0.017316        0.015186      1.000000 -0.000644  \n",
       "price             -0.017229       -0.003485     -0.000644  1.000000  "
      ]
     },
     "execution_count": 10,
     "metadata": {},
     "output_type": "execute_result"
    }
   ],
   "source": [
    "df.corr()"
   ]
  },
  {
   "cell_type": "markdown",
   "id": "17caa577-3c87-4f6c-8ee1-af913d3c4759",
   "metadata": {},
   "source": [
    "### Интересные данные: исключительно низкая корреляция всех параметров кроме метража. Попробую потестировать дополнительно например MI"
   ]
  },
  {
   "cell_type": "markdown",
   "id": "4020af91-00d7-4aeb-92b2-0eec0b0c70b3",
   "metadata": {},
   "source": [
    "## Попробуем получить важность параметров"
   ]
  },
  {
   "cell_type": "code",
   "execution_count": 11,
   "id": "dc8eb7ef-caf6-482b-9aa6-e66db7584410",
   "metadata": {},
   "outputs": [],
   "source": [
    "# Целевая переменная\n",
    "y = df['price']\n",
    "X = df.drop(columns=['price'])"
   ]
  },
  {
   "cell_type": "code",
   "execution_count": 12,
   "id": "021947e0-0045-40fc-a249-0811f248ad09",
   "metadata": {},
   "outputs": [
    {
     "name": "stdout",
     "output_type": "stream",
     "text": [
      "squareMeters         6.566493\n",
      "cityCode             0.026267\n",
      "numPrevOwners        0.012803\n",
      "cityPartRange        0.011765\n",
      "hasYard              0.007757\n",
      "attic                0.005385\n",
      "isNewBuilt           0.004287\n",
      "numberOfRooms        0.004134\n",
      "floors               0.002443\n",
      "hasGuestRoom         0.002099\n",
      "hasStorageRoom       0.000691\n",
      "hasPool              0.000356\n",
      "made                 0.000000\n",
      "hasStormProtector    0.000000\n",
      "basement             0.000000\n",
      "garage               0.000000\n",
      "dtype: float64\n"
     ]
    }
   ],
   "source": [
    "# Вычисляем MI\n",
    "mi_scores = mutual_info_regression(X, y)\n",
    "\n",
    "# Оформляем результат в DataFrame\n",
    "mi_scores = pd.Series(mi_scores, index=X.columns)\n",
    "mi_scores = mi_scores.sort_values(ascending=False)\n",
    "\n",
    "# Выводим топ-10 признаков\n",
    "print(mi_scores)"
   ]
  },
  {
   "cell_type": "markdown",
   "id": "c4d302a3-0ed9-4de1-bbfe-9a228075bd6a",
   "metadata": {},
   "source": [
    "### Снова важность есть только у метража. Попробуем его исключить"
   ]
  },
  {
   "cell_type": "code",
   "execution_count": 13,
   "id": "5dcf9550-5edb-4a91-a393-a1a44e6c8015",
   "metadata": {},
   "outputs": [],
   "source": [
    "X_prob = df.drop(columns=['price','squareMeters'])"
   ]
  },
  {
   "cell_type": "code",
   "execution_count": 14,
   "id": "b42504d8-7fed-46c3-8ec8-9ac9783007ed",
   "metadata": {},
   "outputs": [
    {
     "name": "stdout",
     "output_type": "stream",
     "text": [
      "cityCode             0.026280\n",
      "numPrevOwners        0.012794\n",
      "cityPartRange        0.011770\n",
      "hasYard              0.007757\n",
      "floors               0.005992\n",
      "numberOfRooms        0.005842\n",
      "attic                0.005375\n",
      "isNewBuilt           0.004327\n",
      "hasGuestRoom         0.002099\n",
      "hasStorageRoom       0.000711\n",
      "hasPool              0.000356\n",
      "made                 0.000000\n",
      "hasStormProtector    0.000000\n",
      "basement             0.000000\n",
      "garage               0.000000\n",
      "dtype: float64\n"
     ]
    }
   ],
   "source": [
    "# Вычисляем MI\n",
    "mi_scores = mutual_info_regression(X_prob, y)\n",
    "\n",
    "# Оформляем результат в DataFrame\n",
    "mi_scores = pd.Series(mi_scores, index=X_prob.columns)\n",
    "mi_scores = mi_scores.sort_values(ascending=False)\n",
    "\n",
    "# Выводим топ-10 признаков\n",
    "print(mi_scores)"
   ]
  },
  {
   "cell_type": "markdown",
   "id": "1fb20e14-fa9e-4a89-9a32-cd244625889a",
   "metadata": {},
   "source": [
    "### Важность несколько выравнялась. Но даже до 0.1 не подтянулась. Протестируем удаление еще некоторых параметров"
   ]
  },
  {
   "cell_type": "code",
   "execution_count": 15,
   "id": "752d1f31-d3d9-4bf0-885e-b3329a4ce6f9",
   "metadata": {},
   "outputs": [],
   "source": [
    "X_prob2 = df.drop(columns=['price','hasGuestRoom','squareMeters'])"
   ]
  },
  {
   "cell_type": "code",
   "execution_count": 16,
   "id": "6b4d6b87-f1e2-4ce6-a1e0-e7f321d95b8e",
   "metadata": {},
   "outputs": [
    {
     "name": "stdout",
     "output_type": "stream",
     "text": [
      "cityCode             0.026292\n",
      "numPrevOwners        0.012803\n",
      "cityPartRange        0.011770\n",
      "hasYard              0.007757\n",
      "floors               0.006515\n",
      "attic                0.005406\n",
      "numberOfRooms        0.005155\n",
      "isNewBuilt           0.004307\n",
      "hasStorageRoom       0.000691\n",
      "hasPool              0.000356\n",
      "made                 0.000000\n",
      "hasStormProtector    0.000000\n",
      "basement             0.000000\n",
      "garage               0.000000\n",
      "dtype: float64\n"
     ]
    }
   ],
   "source": [
    "# Вычисляем MI\n",
    "mi_scores = mutual_info_regression(X_prob2, y)\n",
    "\n",
    "# Оформляем результат в DataFrame\n",
    "mi_scores = pd.Series(mi_scores, index=X_prob2.columns)\n",
    "mi_scores = mi_scores.sort_values(ascending=False)\n",
    "\n",
    "# Выводим топ-10 признаков\n",
    "print(mi_scores)"
   ]
  },
  {
   "cell_type": "markdown",
   "id": "fbf109fd-6d59-440b-a946-657a331bec10",
   "metadata": {},
   "source": [
    "### Вывод: дальнейшие удаления фичей эффекта не приносят. Поэтому удалим фичи с нулевыем MI, а остльаные объединим в одну фичу."
   ]
  },
  {
   "cell_type": "code",
   "execution_count": 17,
   "id": "ad3e916e-5d1f-4fcb-b26d-41c50aecb505",
   "metadata": {},
   "outputs": [
    {
     "name": "stdout",
     "output_type": "stream",
     "text": [
      "(10000, 3)\n"
     ]
    }
   ],
   "source": [
    "# Исключаем ненужные признаки (малая корреляция 0-е MI)\n",
    "drop_columns = ['price', 'made', 'hasStormProtector', 'basement', 'garage']\n",
    "X_prob3 = df.drop(columns=drop_columns)\n",
    "\n",
    "# Применяем PCA для одного компонента\n",
    "pca = PCA(n_components=1)\n",
    "quality_index = pca.fit_transform(X_prob3)\n",
    "\n",
    "# Создаём финальный DataFrame с новым признаком\n",
    "X_final = pd.DataFrame(quality_index, columns=['quality_index'])\n",
    "\n",
    "# Добавляем столбцы 'hasGuestRoom' и 'squareMeters' из основного датасета\n",
    "X_final['hasGuestRoom'] = df['hasGuestRoom']\n",
    "X_final['squareMeters'] = df['squareMeters']\n",
    "\n",
    "# Проверяем форму данных\n",
    "print(X_final.shape)"
   ]
  },
  {
   "cell_type": "code",
   "execution_count": 18,
   "id": "852ac0fb-8712-43d1-be3d-3db5f1b622e3",
   "metadata": {},
   "outputs": [
    {
     "data": {
      "text/html": [
       "<div>\n",
       "<style scoped>\n",
       "    .dataframe tbody tr th:only-of-type {\n",
       "        vertical-align: middle;\n",
       "    }\n",
       "\n",
       "    .dataframe tbody tr th {\n",
       "        vertical-align: top;\n",
       "    }\n",
       "\n",
       "    .dataframe thead th {\n",
       "        text-align: right;\n",
       "    }\n",
       "</style>\n",
       "<table border=\"1\" class=\"dataframe\">\n",
       "  <thead>\n",
       "    <tr style=\"text-align: right;\">\n",
       "      <th></th>\n",
       "      <th>quality_index</th>\n",
       "      <th>hasGuestRoom</th>\n",
       "      <th>squareMeters</th>\n",
       "    </tr>\n",
       "  </thead>\n",
       "  <tbody>\n",
       "    <tr>\n",
       "      <th>0</th>\n",
       "      <td>-43094.783446</td>\n",
       "      <td>7</td>\n",
       "      <td>75523</td>\n",
       "    </tr>\n",
       "    <tr>\n",
       "      <th>1</th>\n",
       "      <td>-13715.766883</td>\n",
       "      <td>2</td>\n",
       "      <td>80771</td>\n",
       "    </tr>\n",
       "    <tr>\n",
       "      <th>2</th>\n",
       "      <td>-16250.757340</td>\n",
       "      <td>9</td>\n",
       "      <td>55712</td>\n",
       "    </tr>\n",
       "    <tr>\n",
       "      <th>3</th>\n",
       "      <td>-20528.176357</td>\n",
       "      <td>3</td>\n",
       "      <td>32316</td>\n",
       "    </tr>\n",
       "    <tr>\n",
       "      <th>4</th>\n",
       "      <td>-14068.401226</td>\n",
       "      <td>4</td>\n",
       "      <td>70429</td>\n",
       "    </tr>\n",
       "    <tr>\n",
       "      <th>...</th>\n",
       "      <td>...</td>\n",
       "      <td>...</td>\n",
       "      <td>...</td>\n",
       "    </tr>\n",
       "    <tr>\n",
       "      <th>9995</th>\n",
       "      <td>27355.568553</td>\n",
       "      <td>4</td>\n",
       "      <td>1726</td>\n",
       "    </tr>\n",
       "    <tr>\n",
       "      <th>9996</th>\n",
       "      <td>-15032.251094</td>\n",
       "      <td>0</td>\n",
       "      <td>44403</td>\n",
       "    </tr>\n",
       "    <tr>\n",
       "      <th>9997</th>\n",
       "      <td>27359.078271</td>\n",
       "      <td>9</td>\n",
       "      <td>83841</td>\n",
       "    </tr>\n",
       "    <tr>\n",
       "      <th>9998</th>\n",
       "      <td>4738.854559</td>\n",
       "      <td>4</td>\n",
       "      <td>59036</td>\n",
       "    </tr>\n",
       "    <tr>\n",
       "      <th>9999</th>\n",
       "      <td>-27093.548620</td>\n",
       "      <td>6</td>\n",
       "      <td>1440</td>\n",
       "    </tr>\n",
       "  </tbody>\n",
       "</table>\n",
       "<p>10000 rows × 3 columns</p>\n",
       "</div>"
      ],
      "text/plain": [
       "      quality_index  hasGuestRoom  squareMeters\n",
       "0     -43094.783446             7         75523\n",
       "1     -13715.766883             2         80771\n",
       "2     -16250.757340             9         55712\n",
       "3     -20528.176357             3         32316\n",
       "4     -14068.401226             4         70429\n",
       "...             ...           ...           ...\n",
       "9995   27355.568553             4          1726\n",
       "9996  -15032.251094             0         44403\n",
       "9997   27359.078271             9         83841\n",
       "9998    4738.854559             4         59036\n",
       "9999  -27093.548620             6          1440\n",
       "\n",
       "[10000 rows x 3 columns]"
      ]
     },
     "execution_count": 18,
     "metadata": {},
     "output_type": "execute_result"
    }
   ],
   "source": [
    "X_final"
   ]
  },
  {
   "cell_type": "markdown",
   "id": "444fac08-e06e-4b48-9628-aeedb6c2a2bd",
   "metadata": {},
   "source": [
    "## Вначале проведем тесты для общих данных со всеми фичами"
   ]
  },
  {
   "cell_type": "code",
   "execution_count": 20,
   "id": "2678b059-9faa-463a-b4d0-714eb32aa864",
   "metadata": {},
   "outputs": [],
   "source": [
    "X_train, X_test, y_train, y_test = train_test_split(X, y, test_size=0.2, random_state=42)"
   ]
  },
  {
   "cell_type": "code",
   "execution_count": 21,
   "id": "8c2cfbe3-5a03-4cd7-9d60-05212f72fa58",
   "metadata": {},
   "outputs": [],
   "source": [
    "X_train, X_val, y_train, y_val = train_test_split(X_train, y_train, test_size=0.2, random_state=42)"
   ]
  },
  {
   "cell_type": "code",
   "execution_count": 22,
   "id": "e6f94da3-1779-4814-be71-5e6266e43f2e",
   "metadata": {},
   "outputs": [],
   "source": [
    "scaler = StandardScaler()\n",
    "X_train_scaled = scaler.fit_transform(X_train)\n",
    "X_val_scaled = scaler.transform(X_val)\n",
    "X_test_scaled = scaler.transform(X_test)"
   ]
  },
  {
   "cell_type": "code",
   "execution_count": 23,
   "id": "98ab7707-3d7b-45d2-ade3-fd0bf68fc6fd",
   "metadata": {},
   "outputs": [],
   "source": [
    "# Конвертируем в тензоры\n",
    "X_train_tensor = torch.tensor(X_train_scaled, dtype=torch.float32)\n",
    "y_train_tensor = torch.tensor(y_train.values, dtype=torch.float32).unsqueeze(1)\n",
    "\n",
    "X_test_tensor = torch.tensor(X_test_scaled, dtype=torch.float32)\n",
    "y_test_tensor = torch.tensor(y_test.values, dtype=torch.float32).unsqueeze(1)\n",
    "\n",
    "X_val_tensor = torch.tensor(X_val_scaled, dtype=torch.float32)\n",
    "y_val_tensor = torch.tensor(y_val.values, dtype=torch.float32).unsqueeze(1)"
   ]
  },
  {
   "cell_type": "code",
   "execution_count": 33,
   "id": "985971df-a375-42c7-9630-1cf74acc0105",
   "metadata": {},
   "outputs": [
    {
     "data": {
      "text/plain": [
       "True"
      ]
     },
     "execution_count": 33,
     "metadata": {},
     "output_type": "execute_result"
    }
   ],
   "source": [
    "load_dotenv()"
   ]
  },
  {
   "cell_type": "code",
   "execution_count": 115,
   "id": "592661fb-fff4-4c6a-9623-795bf083f19d",
   "metadata": {},
   "outputs": [
    {
     "name": "stdout",
     "output_type": "stream",
     "text": [
      "[neptune] [info   ] Neptune initialized. Open in the app: https://app.neptune.ai/saatarko/financescoring/e/FIN-29\n"
     ]
    }
   ],
   "source": [
    "run = neptune.init_run(\n",
    "        project=os.getenv(\"NEPTUNE_PROJECT\"), \n",
    "        api_token=os.getenv(\"NEPTUNE_API_TOKEN\"),\n",
    "        capture_stdout=True,\n",
    "        capture_stderr=True,\n",
    "        capture_traceback=True,\n",
    "        capture_hardware_metrics=True\n",
    "    ) "
   ]
  },
  {
   "cell_type": "code",
   "execution_count": 24,
   "id": "2e8de9ec-cfd4-439f-99e4-ca00b725218f",
   "metadata": {},
   "outputs": [],
   "source": [
    "class ParisDataset(Dataset):\n",
    "    def __init__(self, X, y=None):\n",
    "        self.X = X\n",
    "        self.y = y  \n",
    "\n",
    "    def __len__(self):\n",
    "        return len(self.X)\n",
    "\n",
    "    def __getitem__(self, idx):\n",
    "        if self.y is not None:\n",
    "            # Возвращаем как тензоры\n",
    "            return self.X[idx].float(), self.y[idx].float()\n",
    "        return self.X[idx].float()\n",
    "\n",
    "# Создаём датасеты\n",
    "train_dataset = ParisDataset(X_train_tensor, y_train_tensor)\n",
    "val_dataset = ParisDataset(X_val_tensor, y_val_tensor)  \n",
    "test_dataset = ParisDataset(X_test_tensor, y_test_tensor)"
   ]
  },
  {
   "cell_type": "markdown",
   "id": "8fda378e-40b0-4c54-9213-2c13e91b88d6",
   "metadata": {},
   "source": [
    "## Подбирать параметры будем через neptuna+optuna +pytorch"
   ]
  },
  {
   "cell_type": "code",
   "execution_count": 120,
   "id": "faca98f5-5b09-4171-9ad8-acb8e2a68dd7",
   "metadata": {},
   "outputs": [],
   "source": [
    "def train_model(config, trial):\n",
    "\n",
    "    results = []  # Инициализация списка для хранения результатов\n",
    "    \n",
    "    device = \"cuda\" if torch.cuda.is_available() else \"cpu\"\n",
    "    \n",
    "  \n",
    "    epochs = 600 \n",
    "\n",
    "    # Подготовка данных\n",
    "    train_loader = DataLoader(train_dataset, batch_size=config[\"batch_size\"], shuffle=True)\n",
    "    val_loader = DataLoader(val_dataset, batch_size=config[\"batch_size\"], shuffle=False)\n",
    "    \n",
    "    # Инициализация модели и оптимизатора\n",
    "    model = SimpleNN(config[\"num_layers\"], config[\"layers\"], config[\"dropout\"], config[\"activation\"]).to(device)\n",
    "    optimizer = {\n",
    "        \"Adam\": optim.Adam(model.parameters(), lr=config[\"learning_rate\"]),\n",
    "        \"SGD\": optim.SGD(model.parameters(), lr=config[\"learning_rate\"]),\n",
    "        \"RMSprop\": optim.RMSprop(model.parameters(), lr=config[\"learning_rate\"]),\n",
    "    }[config[\"optimizer\"]]\n",
    "    \n",
    "    # Используем Huber Loss (SmoothL1Loss)\n",
    "    criterion = nn.SmoothL1Loss()  # Huber Loss\n",
    "    \n",
    "    # Логирование гиперпараметров в Neptune\n",
    "    run[f'trials/{trial.number}/parameters'] = {\n",
    "        'learning_rate': config[\"learning_rate\"],\n",
    "        'batch_size': config[\"batch_size\"],\n",
    "        'num_layers': config[\"num_layers\"],\n",
    "        'layers': config[\"layers\"],\n",
    "        'dropout': config[\"dropout\"],\n",
    "        'activation': config[\"activation\"],\n",
    "        'optimizer': config[\"optimizer\"]\n",
    "    }\n",
    "    \n",
    "    # Инициализация TensorBoard\n",
    "    writer = SummaryWriter(log_dir=f'content/logs/{trial.number}')\n",
    "    \n",
    "    # Параметры ранней остановки\n",
    "    patience = 30  # количество эпох без улучшений до остановки\n",
    "    best_val_loss = np.inf\n",
    "    epochs_no_improve = 0\n",
    "    best_model_wts = None\n",
    "\n",
    "    # Списки для логирования потерь\n",
    "    train_losses = []\n",
    "    val_losses = []\n",
    "    val_mses = []  # Для MSE на валидации\n",
    "    val_maes = []  # Для MAE на валидации\n",
    "\n",
    "    start_time = time.time()\n",
    "\n",
    "    for epoch in range(epochs):  # теперь epochs определена\n",
    "        model.train()\n",
    "        running_loss = 0.0\n",
    "        for inputs, labels in train_loader:\n",
    "            inputs, labels = inputs.to(device), labels.to(device)\n",
    "    \n",
    "            optimizer.zero_grad()\n",
    "            outputs = model(inputs)\n",
    "            loss = criterion(outputs, labels)\n",
    "            loss.backward()\n",
    "\n",
    "            # Ограничиваем значение градиентов\n",
    "            torch.nn.utils.clip_grad_value_(model.parameters(), clip_value=1.0)\n",
    "    \n",
    "            optimizer.step()\n",
    "    \n",
    "            running_loss += loss.item()\n",
    "\n",
    "        # Логирование потерь на TensorBoard\n",
    "        writer.add_scalar('Loss/train', running_loss / len(train_loader), epoch)\n",
    "        train_losses.append(running_loss / len(train_loader))\n",
    "\n",
    "        model.eval()\n",
    "        val_loss = 0.0\n",
    "        val_mse = 0.0  # Для удобства хранения MSE\n",
    "        val_mae = 0.0  # Для удобства хранения MAE\n",
    "        \n",
    "        with torch.no_grad():\n",
    "            for inputs, labels in val_loader:\n",
    "                inputs, labels = inputs.to(device), labels.to(device)\n",
    "                outputs = model(inputs)\n",
    "                loss = criterion(outputs, labels)\n",
    "                val_loss += loss.item()\n",
    "        \n",
    "                # Для регрессии считаем MSE и MAE\n",
    "                val_mse += mean_squared_error(labels.cpu(), outputs.cpu())\n",
    "                val_mae += torch.mean(torch.abs(labels.cpu() - outputs.cpu()))\n",
    "        \n",
    "        # Среднее значение MSE и MAE для всех батчей\n",
    "        val_mse /= len(val_loader)\n",
    "        val_mae /= len(val_loader)\n",
    "        val_losses.append(val_loss / len(val_loader))\n",
    "        \n",
    "        # Логируем MSE и MAE на валидации в Neptune\n",
    "        run[f'trials/{trial.number}/epoch/{epoch+1}/val_mse'] = val_mse\n",
    "        run[f'trials/{trial.number}/epoch/{epoch+1}/val_mae'] = val_mae\n",
    "        \n",
    "        # print(f\"Epoch {epoch+1}, Loss: {running_loss / len(train_loader)}, Val Loss: {val_loss / len(val_loader)}, Val MSE: {val_mse:.4f}, Val MAE: {val_mae:.4f}\")\n",
    "\n",
    "        if val_loss < best_val_loss:\n",
    "            best_val_loss = val_loss\n",
    "            epochs_no_improve = 0\n",
    "            best_model_wts = model.state_dict()\n",
    "        else:\n",
    "            epochs_no_improve += 1\n",
    "        \n",
    "        if epochs_no_improve >= patience:\n",
    "            print(f\"⏹️ Early stopping at epoch {epoch+1}\")\n",
    "            break\n",
    "\n",
    "    # Восстановим лучшие веса\n",
    "    if best_model_wts is not None:\n",
    "        model.load_state_dict(best_model_wts)\n",
    "    else:\n",
    "        print(\"Нет лучших весов для загрузки.\")\n",
    "    \n",
    "    writer.flush()\n",
    "    writer.close()\n",
    "\n",
    "    # Сохраняем результаты\n",
    "    results.append({\n",
    "        \"loss\": best_val_loss,\n",
    "        \"optimizer\": config[\"optimizer\"],\n",
    "        \"device\": device,\n",
    "        \"val_mse\": val_mse,\n",
    "        \"val_mae\": val_mae,\n",
    "        \"training_time\": time.time() - start_time,\n",
    "        \"train_losses\": train_losses,\n",
    "        \"val_losses\": val_losses\n",
    "    })\n",
    "    \n",
    "    # Логируем метрики в Neptune по эпохам\n",
    "    for epoch in range(len(train_losses)):\n",
    "        run[f\"trials/{trial.number}/metrics/train_loss\"].log(train_losses[epoch], step=epoch)\n",
    "        run[f\"trials/{trial.number}/metrics/val_loss\"].log(val_losses[epoch], step=epoch)\n",
    "        run[f\"trials/{trial.number}/metrics/val_mse\"].log(val_mses[epoch], step=epoch)\n",
    "        run[f\"trials/{trial.number}/metrics/val_mae\"].log(val_maes[epoch], step=epoch)\n",
    "\n",
    "\n",
    "    # Выводим все результаты\n",
    "    print(\"\\n📊 Итоговые результаты:\")\n",
    "    for res in results:\n",
    "        print(f\"Loss: {res['loss']} + {res['optimizer']} на {res['device']} | MSE: {res['val_mse']:.4f} | MAE: {res['val_mae']:.4f} | Время обучения: {res['training_time']}\")\n",
    "\n",
    "    # Возвращаем метрику для оптимизации в Optuna\n",
    "    return best_val_loss"
   ]
  },
  {
   "cell_type": "code",
   "execution_count": 113,
   "id": "c63441c8-9896-4cb7-bbfe-92d56d440709",
   "metadata": {},
   "outputs": [],
   "source": [
    "# Определение конфигурации гиперпараметров для Optuna\n",
    "def objective(trial):\n",
    "    config = {\n",
    "        \"learning_rate\": trial.suggest_categorical(\"learning_rate\", [0.1, 0.01, 0.001]),\n",
    "        \"batch_size\": trial.suggest_categorical(\"batch_size\", [32, 64]),\n",
    "        \"num_layers\": trial.suggest_int(\"num_layers\", 2, 6),\n",
    "        \"layers\": trial.suggest_categorical(\"layers\", [35, 50, 75, 100, 250, 350, 500]),\n",
    "        \"dropout\": trial.suggest_float(\"dropout\", 0.1, 0.3),\n",
    "        \"activation\": trial.suggest_categorical(\"activation\", [\"relu\", \"leaky_relu\"]),\n",
    "        \"optimizer\": trial.suggest_categorical(\"optimizer\", [\"Adam\", \"SGD\", \"RMSprop\"]),\n",
    "    }\n",
    "\n",
    "    # Передаем конфигурацию в функцию обучения\n",
    "    return train_model(config, trial)"
   ]
  },
  {
   "cell_type": "code",
   "execution_count": 116,
   "id": "4bbd38fe-dccf-4080-bb50-306e731ed544",
   "metadata": {},
   "outputs": [
    {
     "name": "stderr",
     "output_type": "stream",
     "text": [
      "[I 2025-03-25 16:28:30,512] A new study created in memory with name: no-name-81f7d7ef-4b8b-4fe1-a349-d739012c1774\n",
      "[I 2025-03-25 16:29:49,711] Trial 0 finished with value: 862612.607421875 and parameters: {'learning_rate': 0.001, 'batch_size': 64, 'num_layers': 4, 'layers': 50, 'dropout': 0.17283682269675155, 'activation': 'leaky_relu', 'optimizer': 'SGD'}. Best is trial 0 with value: 862612.607421875.\n"
     ]
    },
    {
     "name": "stdout",
     "output_type": "stream",
     "text": [
      "⏹️ Early stopping at epoch 254\n",
      "\n",
      "📊 Итоговые результаты:\n",
      "Loss: 862612.607421875 + SGD на cuda | MSE: 5265767464.9600 | MAE: 64261.1641 | Время обучения: 79.16737580299377\n"
     ]
    },
    {
     "name": "stderr",
     "output_type": "stream",
     "text": [
      "[I 2025-03-25 16:30:20,305] Trial 1 finished with value: 6399139.1875 and parameters: {'learning_rate': 0.1, 'batch_size': 64, 'num_layers': 4, 'layers': 75, 'dropout': 0.16278628497212644, 'activation': 'leaky_relu', 'optimizer': 'RMSprop'}. Best is trial 0 with value: 862612.607421875.\n"
     ]
    },
    {
     "name": "stdout",
     "output_type": "stream",
     "text": [
      "⏹️ Early stopping at epoch 92\n",
      "\n",
      "📊 Итоговые результаты:\n",
      "Loss: 6399139.1875 + RMSprop на cuda | MSE: 338600807628.8000 | MAE: 445693.1875 | Время обучения: 30.57328486442566\n"
     ]
    },
    {
     "name": "stderr",
     "output_type": "stream",
     "text": [
      "[I 2025-03-25 16:31:36,361] Trial 2 finished with value: 1357004.91015625 and parameters: {'learning_rate': 0.001, 'batch_size': 32, 'num_layers': 3, 'layers': 500, 'dropout': 0.11227971898360732, 'activation': 'relu', 'optimizer': 'SGD'}. Best is trial 0 with value: 862612.607421875.\n"
     ]
    },
    {
     "name": "stdout",
     "output_type": "stream",
     "text": [
      "⏹️ Early stopping at epoch 138\n",
      "\n",
      "📊 Итоговые результаты:\n",
      "Loss: 1357004.91015625 + SGD на cuda | MSE: 1601983157.7600 | MAE: 31605.2656 | Время обучения: 76.03120350837708\n"
     ]
    },
    {
     "name": "stderr",
     "output_type": "stream",
     "text": [
      "[I 2025-03-25 16:31:48,976] Trial 3 finished with value: 41185871.0 and parameters: {'learning_rate': 0.1, 'batch_size': 64, 'num_layers': 5, 'layers': 50, 'dropout': 0.23475814549914267, 'activation': 'leaky_relu', 'optimizer': 'SGD'}. Best is trial 0 with value: 862612.607421875.\n"
     ]
    },
    {
     "name": "stdout",
     "output_type": "stream",
     "text": [
      "⏹️ Early stopping at epoch 32\n",
      "\n",
      "📊 Итоговые результаты:\n",
      "Loss: 41185871.0 + SGD на cuda | MSE: 10160990846976.0000 | MAE: 2788103.7500 | Время обучения: 12.590619325637817\n"
     ]
    },
    {
     "name": "stderr",
     "output_type": "stream",
     "text": [
      "[I 2025-03-25 16:32:21,002] Trial 4 finished with value: 984013.00390625 and parameters: {'learning_rate': 0.01, 'batch_size': 64, 'num_layers': 3, 'layers': 75, 'dropout': 0.29775005444745184, 'activation': 'relu', 'optimizer': 'SGD'}. Best is trial 0 with value: 862612.607421875.\n"
     ]
    },
    {
     "name": "stdout",
     "output_type": "stream",
     "text": [
      "⏹️ Early stopping at epoch 110\n",
      "\n",
      "📊 Итоговые результаты:\n",
      "Loss: 984013.00390625 + SGD на cuda | MSE: 5635179130.8800 | MAE: 60465.5469 | Время обучения: 32.00939083099365\n"
     ]
    },
    {
     "name": "stderr",
     "output_type": "stream",
     "text": [
      "[I 2025-03-25 16:32:51,979] Trial 5 finished with value: 26641488.96875 and parameters: {'learning_rate': 0.1, 'batch_size': 32, 'num_layers': 5, 'layers': 250, 'dropout': 0.19190772763665118, 'activation': 'leaky_relu', 'optimizer': 'SGD'}. Best is trial 0 with value: 862612.607421875.\n"
     ]
    },
    {
     "name": "stdout",
     "output_type": "stream",
     "text": [
      "⏹️ Early stopping at epoch 44\n",
      "\n",
      "📊 Итоговые результаты:\n",
      "Loss: 26641488.96875 + SGD на cuda | MSE: 5768233475274713088.0000 | MAE: 76637888.0000 | Время обучения: 30.952025175094604\n"
     ]
    },
    {
     "name": "stderr",
     "output_type": "stream",
     "text": [
      "[I 2025-03-25 16:33:44,126] Trial 6 finished with value: 3526322.1328125 and parameters: {'learning_rate': 0.01, 'batch_size': 32, 'num_layers': 4, 'layers': 100, 'dropout': 0.14122060938621483, 'activation': 'relu', 'optimizer': 'RMSprop'}. Best is trial 0 with value: 862612.607421875.\n"
     ]
    },
    {
     "name": "stdout",
     "output_type": "stream",
     "text": [
      "⏹️ Early stopping at epoch 78\n",
      "\n",
      "📊 Итоговые результаты:\n",
      "Loss: 3526322.1328125 + RMSprop на cuda | MSE: 150872331223.0400 | MAE: 340457.6875 | Время обучения: 52.116517543792725\n"
     ]
    },
    {
     "name": "stderr",
     "output_type": "stream",
     "text": [
      "[I 2025-03-25 16:34:17,756] Trial 7 finished with value: 3840847.03515625 and parameters: {'learning_rate': 0.01, 'batch_size': 32, 'num_layers': 4, 'layers': 100, 'dropout': 0.11042205088914046, 'activation': 'relu', 'optimizer': 'Adam'}. Best is trial 0 with value: 862612.607421875.\n"
     ]
    },
    {
     "name": "stdout",
     "output_type": "stream",
     "text": [
      "⏹️ Early stopping at epoch 50\n",
      "\n",
      "📊 Итоговые результаты:\n",
      "Loss: 3840847.03515625 + Adam на cuda | MSE: 31109247406.0800 | MAE: 152411.2812 | Время обучения: 33.60402822494507\n"
     ]
    },
    {
     "name": "stderr",
     "output_type": "stream",
     "text": [
      "[I 2025-03-25 16:35:23,509] Trial 8 finished with value: 984402.71484375 and parameters: {'learning_rate': 0.001, 'batch_size': 64, 'num_layers': 5, 'layers': 350, 'dropout': 0.24560268013429462, 'activation': 'leaky_relu', 'optimizer': 'Adam'}. Best is trial 0 with value: 862612.607421875.\n"
     ]
    },
    {
     "name": "stdout",
     "output_type": "stream",
     "text": [
      "⏹️ Early stopping at epoch 168\n",
      "\n",
      "📊 Итоговые результаты:\n",
      "Loss: 984402.71484375 + Adam на cuda | MSE: 8857009070.0800 | MAE: 77323.3828 | Время обучения: 65.72274661064148\n"
     ]
    },
    {
     "name": "stderr",
     "output_type": "stream",
     "text": [
      "[I 2025-03-25 16:36:09,737] Trial 9 finished with value: 505589.54296875 and parameters: {'learning_rate': 0.01, 'batch_size': 64, 'num_layers': 2, 'layers': 250, 'dropout': 0.12098281754351181, 'activation': 'relu', 'optimizer': 'RMSprop'}. Best is trial 9 with value: 505589.54296875.\n"
     ]
    },
    {
     "name": "stdout",
     "output_type": "stream",
     "text": [
      "⏹️ Early stopping at epoch 130\n",
      "\n",
      "📊 Итоговые результаты:\n",
      "Loss: 505589.54296875 + RMSprop на cuda | MSE: 1372631552.0000 | MAE: 29620.0332 | Время обучения: 46.20758843421936\n"
     ]
    },
    {
     "name": "stderr",
     "output_type": "stream",
     "text": [
      "[I 2025-03-25 16:36:54,380] Trial 10 finished with value: 540683.63671875 and parameters: {'learning_rate': 0.01, 'batch_size': 64, 'num_layers': 2, 'layers': 250, 'dropout': 0.2279671097085171, 'activation': 'relu', 'optimizer': 'RMSprop'}. Best is trial 9 with value: 505589.54296875.\n"
     ]
    },
    {
     "name": "stdout",
     "output_type": "stream",
     "text": [
      "⏹️ Early stopping at epoch 147\n",
      "\n",
      "📊 Итоговые результаты:\n",
      "Loss: 540683.63671875 + RMSprop на cuda | MSE: 1833092423.6800 | MAE: 35419.6289 | Время обучения: 44.607749462127686\n"
     ]
    },
    {
     "name": "stderr",
     "output_type": "stream",
     "text": [
      "[I 2025-03-25 16:37:20,585] Trial 11 finished with value: 636166.3046875 and parameters: {'learning_rate': 0.01, 'batch_size': 64, 'num_layers': 2, 'layers': 250, 'dropout': 0.22613309633617867, 'activation': 'relu', 'optimizer': 'RMSprop'}. Best is trial 9 with value: 505589.54296875.\n"
     ]
    },
    {
     "name": "stdout",
     "output_type": "stream",
     "text": [
      "⏹️ Early stopping at epoch 100\n",
      "\n",
      "📊 Итоговые результаты:\n",
      "Loss: 636166.3046875 + RMSprop на cuda | MSE: 1704139642.8800 | MAE: 33029.2969 | Время обучения: 26.174389600753784\n"
     ]
    },
    {
     "name": "stderr",
     "output_type": "stream",
     "text": [
      "[I 2025-03-25 16:38:01,319] Trial 12 finished with value: 1916542.1484375 and parameters: {'learning_rate': 0.01, 'batch_size': 64, 'num_layers': 2, 'layers': 35, 'dropout': 0.2653851944619029, 'activation': 'relu', 'optimizer': 'RMSprop'}. Best is trial 9 with value: 505589.54296875.\n"
     ]
    },
    {
     "name": "stdout",
     "output_type": "stream",
     "text": [
      "⏹️ Early stopping at epoch 148\n",
      "\n",
      "📊 Итоговые результаты:\n",
      "Loss: 1916542.1484375 + RMSprop на cuda | MSE: 16750113710.0800 | MAE: 117249.4375 | Время обучения: 40.69993233680725\n"
     ]
    },
    {
     "name": "stderr",
     "output_type": "stream",
     "text": [
      "[I 2025-03-25 16:38:30,500] Trial 13 finished with value: 667088.20703125 and parameters: {'learning_rate': 0.01, 'batch_size': 64, 'num_layers': 2, 'layers': 250, 'dropout': 0.20436008094825103, 'activation': 'relu', 'optimizer': 'RMSprop'}. Best is trial 9 with value: 505589.54296875.\n"
     ]
    },
    {
     "name": "stdout",
     "output_type": "stream",
     "text": [
      "⏹️ Early stopping at epoch 101\n",
      "\n",
      "📊 Итоговые результаты:\n",
      "Loss: 667088.20703125 + RMSprop на cuda | MSE: 2475509923.8400 | MAE: 39895.9258 | Время обучения: 29.156571626663208\n"
     ]
    },
    {
     "name": "stderr",
     "output_type": "stream",
     "text": [
      "[I 2025-03-25 16:38:51,316] Trial 14 finished with value: 1471735.8125 and parameters: {'learning_rate': 0.01, 'batch_size': 64, 'num_layers': 3, 'layers': 250, 'dropout': 0.13998456748748153, 'activation': 'relu', 'optimizer': 'RMSprop'}. Best is trial 9 with value: 505589.54296875.\n"
     ]
    },
    {
     "name": "stdout",
     "output_type": "stream",
     "text": [
      "⏹️ Early stopping at epoch 69\n",
      "\n",
      "📊 Итоговые результаты:\n",
      "Loss: 1471735.8125 + RMSprop на cuda | MSE: 15570860318.7200 | MAE: 100163.8828 | Время обучения: 20.789785861968994\n"
     ]
    },
    {
     "name": "stderr",
     "output_type": "stream",
     "text": [
      "[I 2025-03-25 16:40:40,482] Trial 15 finished with value: 4576084.671875 and parameters: {'learning_rate': 0.01, 'batch_size': 64, 'num_layers': 6, 'layers': 250, 'dropout': 0.2019382951266926, 'activation': 'relu', 'optimizer': 'RMSprop'}. Best is trial 9 with value: 505589.54296875.\n"
     ]
    },
    {
     "name": "stdout",
     "output_type": "stream",
     "text": [
      "⏹️ Early stopping at epoch 228\n",
      "\n",
      "📊 Итоговые результаты:\n",
      "Loss: 4576084.671875 + RMSprop на cuda | MSE: 95933891051.5200 | MAE: 245828.1406 | Время обучения: 109.13792014122009\n"
     ]
    },
    {
     "name": "stderr",
     "output_type": "stream",
     "text": [
      "[I 2025-03-25 16:41:29,964] Trial 16 finished with value: 1612573.59375 and parameters: {'learning_rate': 0.01, 'batch_size': 64, 'num_layers': 2, 'layers': 35, 'dropout': 0.27289566091988987, 'activation': 'relu', 'optimizer': 'Adam'}. Best is trial 9 with value: 505589.54296875.\n"
     ]
    },
    {
     "name": "stdout",
     "output_type": "stream",
     "text": [
      "⏹️ Early stopping at epoch 178\n",
      "\n",
      "📊 Итоговые результаты:\n",
      "Loss: 1612573.59375 + Adam на cuda | MSE: 20538523525.1200 | MAE: 124327.5391 | Время обучения: 49.45841932296753\n"
     ]
    },
    {
     "name": "stderr",
     "output_type": "stream",
     "text": [
      "[I 2025-03-25 16:42:04,364] Trial 17 finished with value: 3117872.8046875 and parameters: {'learning_rate': 0.01, 'batch_size': 64, 'num_layers': 3, 'layers': 500, 'dropout': 0.14678525088268463, 'activation': 'relu', 'optimizer': 'RMSprop'}. Best is trial 9 with value: 505589.54296875.\n"
     ]
    },
    {
     "name": "stdout",
     "output_type": "stream",
     "text": [
      "⏹️ Early stopping at epoch 104\n",
      "\n",
      "📊 Итоговые результаты:\n",
      "Loss: 3117872.8046875 + RMSprop на cuda | MSE: 65289534341.1200 | MAE: 211065.5938 | Время обучения: 34.35819983482361\n"
     ]
    },
    {
     "name": "stderr",
     "output_type": "stream",
     "text": [
      "[I 2025-03-25 16:42:45,061] Trial 18 finished with value: 5865319.3046875 and parameters: {'learning_rate': 0.1, 'batch_size': 32, 'num_layers': 2, 'layers': 350, 'dropout': 0.22458789865971407, 'activation': 'relu', 'optimizer': 'RMSprop'}. Best is trial 9 with value: 505589.54296875.\n"
     ]
    },
    {
     "name": "stdout",
     "output_type": "stream",
     "text": [
      "⏹️ Early stopping at epoch 83\n",
      "\n",
      "📊 Итоговые результаты:\n",
      "Loss: 5865319.3046875 + RMSprop на cuda | MSE: 85769305948.1600 | MAE: 241863.9219 | Время обучения: 40.653541564941406\n"
     ]
    },
    {
     "name": "stderr",
     "output_type": "stream",
     "text": [
      "[I 2025-03-25 16:44:06,519] Trial 19 finished with value: 509351.05078125 and parameters: {'learning_rate': 0.001, 'batch_size': 64, 'num_layers': 3, 'layers': 250, 'dropout': 0.10105235258145016, 'activation': 'relu', 'optimizer': 'RMSprop'}. Best is trial 9 with value: 505589.54296875.\n"
     ]
    },
    {
     "name": "stdout",
     "output_type": "stream",
     "text": [
      "⏹️ Early stopping at epoch 248\n",
      "\n",
      "📊 Итоговые результаты:\n",
      "Loss: 509351.05078125 + RMSprop на cuda | MSE: 1177902986.2400 | MAE: 27959.0430 | Время обучения: 81.42795014381409\n"
     ]
    },
    {
     "name": "stderr",
     "output_type": "stream",
     "text": [
      "[I 2025-03-25 16:45:44,049] Trial 20 finished with value: 458824.8984375 and parameters: {'learning_rate': 0.001, 'batch_size': 64, 'num_layers': 3, 'layers': 250, 'dropout': 0.10439348664601776, 'activation': 'relu', 'optimizer': 'Adam'}. Best is trial 20 with value: 458824.8984375.\n"
     ]
    },
    {
     "name": "stdout",
     "output_type": "stream",
     "text": [
      "⏹️ Early stopping at epoch 311\n",
      "\n",
      "📊 Итоговые результаты:\n",
      "Loss: 458824.8984375 + Adam на cuda | MSE: 2300495257.6000 | MAE: 41418.4297 | Время обучения: 97.4844434261322\n"
     ]
    },
    {
     "name": "stderr",
     "output_type": "stream",
     "text": [
      "[I 2025-03-25 16:46:45,650] Trial 21 finished with value: 520949.671875 and parameters: {'learning_rate': 0.001, 'batch_size': 64, 'num_layers': 3, 'layers': 250, 'dropout': 0.10264411280136862, 'activation': 'relu', 'optimizer': 'Adam'}. Best is trial 20 with value: 458824.8984375.\n"
     ]
    },
    {
     "name": "stdout",
     "output_type": "stream",
     "text": [
      "⏹️ Early stopping at epoch 195\n",
      "\n",
      "📊 Итоговые результаты:\n",
      "Loss: 520949.671875 + Adam на cuda | MSE: 1743434900.4800 | MAE: 37664.8320 | Время обучения: 61.56773805618286\n"
     ]
    },
    {
     "name": "stderr",
     "output_type": "stream",
     "text": [
      "[I 2025-03-25 16:47:56,184] Trial 22 finished with value: 506454.220703125 and parameters: {'learning_rate': 0.001, 'batch_size': 64, 'num_layers': 3, 'layers': 250, 'dropout': 0.12335627155365719, 'activation': 'relu', 'optimizer': 'Adam'}. Best is trial 20 with value: 458824.8984375.\n"
     ]
    },
    {
     "name": "stdout",
     "output_type": "stream",
     "text": [
      "⏹️ Early stopping at epoch 207\n",
      "\n",
      "📊 Итоговые результаты:\n",
      "Loss: 506454.220703125 + Adam на cuda | MSE: 1912631818.2400 | MAE: 37792.8164 | Время обучения: 70.49672055244446\n"
     ]
    },
    {
     "name": "stderr",
     "output_type": "stream",
     "text": [
      "[I 2025-03-25 16:48:59,432] Trial 23 finished with value: 605227.7734375 and parameters: {'learning_rate': 0.001, 'batch_size': 64, 'num_layers': 3, 'layers': 250, 'dropout': 0.12481270811455965, 'activation': 'relu', 'optimizer': 'Adam'}. Best is trial 20 with value: 458824.8984375.\n"
     ]
    },
    {
     "name": "stdout",
     "output_type": "stream",
     "text": [
      "⏹️ Early stopping at epoch 171\n",
      "\n",
      "📊 Итоговые результаты:\n",
      "Loss: 605227.7734375 + Adam на cuda | MSE: 2178019051.5200 | MAE: 35584.9219 | Время обучения: 63.21474647521973\n"
     ]
    },
    {
     "name": "stderr",
     "output_type": "stream",
     "text": [
      "[I 2025-03-25 16:50:17,496] Trial 24 finished with value: 562475.9296875 and parameters: {'learning_rate': 0.001, 'batch_size': 64, 'num_layers': 3, 'layers': 250, 'dropout': 0.12695735423382762, 'activation': 'relu', 'optimizer': 'Adam'}. Best is trial 20 with value: 458824.8984375.\n"
     ]
    },
    {
     "name": "stdout",
     "output_type": "stream",
     "text": [
      "⏹️ Early stopping at epoch 210\n",
      "\n",
      "📊 Итоговые результаты:\n",
      "Loss: 562475.9296875 + Adam на cuda | MSE: 941682542.0800 | MAE: 23824.8730 | Время обучения: 78.02769422531128\n"
     ]
    },
    {
     "name": "stderr",
     "output_type": "stream",
     "text": [
      "[I 2025-03-25 16:54:42,287] Trial 25 finished with value: 558966.15625 and parameters: {'learning_rate': 0.001, 'batch_size': 64, 'num_layers': 2, 'layers': 250, 'dropout': 0.12565046699013124, 'activation': 'relu', 'optimizer': 'Adam'}. Best is trial 20 with value: 458824.8984375.\n"
     ]
    },
    {
     "name": "stdout",
     "output_type": "stream",
     "text": [
      "\n",
      "📊 Итоговые результаты:\n",
      "Loss: 558966.15625 + Adam на cuda | MSE: 852498854.4000 | MAE: 23671.7344 | Время обучения: 264.75958228111267\n",
      "[neptune] [error  ] Unexpected error occurred in Neptune background thread: Killing Neptune asynchronous thread. All data is safe on disk and can be later synced manually using `neptune sync` command.\n"
     ]
    },
    {
     "name": "stderr",
     "output_type": "stream",
     "text": [
      "Exception in thread NeptuneAsyncOpProcessor:\n",
      "Traceback (most recent call last):\n",
      "  File \"/home/saatarko/.conda/envs/HomeworkDS/lib/python3.12/site-packages/neptune/internal/backends/swagger_client_wrapper.py\", line 111, in __call__\n",
      "    return FinishedApiResponseFuture(future.response())  # wait synchronously\n",
      "                                     ^^^^^^^^^^^^^^^^^\n",
      "  File \"/home/saatarko/.conda/envs/HomeworkDS/lib/python3.12/site-packages/bravado/http_future.py\", line 200, in response\n",
      "    swagger_result = self._get_swagger_result(incoming_response)\n",
      "                     ^^^^^^^^^^^^^^^^^^^^^^^^^^^^^^^^^^^^^^^^^^^\n",
      "  File \"/home/saatarko/.conda/envs/HomeworkDS/lib/python3.12/site-packages/bravado/http_future.py\", line 124, in wrapper\n",
      "    return func(self, *args, **kwargs)\n",
      "           ^^^^^^^^^^^^^^^^^^^^^^^^^^^\n",
      "  File \"/home/saatarko/.conda/envs/HomeworkDS/lib/python3.12/site-packages/bravado/http_future.py\", line 300, in _get_swagger_result\n",
      "    unmarshal_response(\n",
      "  File \"/home/saatarko/.conda/envs/HomeworkDS/lib/python3.12/site-packages/bravado/http_future.py\", line 353, in unmarshal_response\n",
      "    raise_on_expected(incoming_response)\n",
      "  File \"/home/saatarko/.conda/envs/HomeworkDS/lib/python3.12/site-packages/bravado/http_future.py\", line 420, in raise_on_expected\n",
      "    raise make_http_exception(\n",
      "bravado.exception.HTTPUnprocessableEntity: 422 unknown\n",
      "\n",
      "The above exception was the direct cause of the following exception:\n",
      "\n",
      "Traceback (most recent call last):\n",
      "  File \"/home/saatarko/.conda/envs/HomeworkDS/lib/python3.12/threading.py\", line 1073, in _bootstrap_inner\n",
      "    self.run()\n",
      "  File \"/home/saatarko/.conda/envs/HomeworkDS/lib/python3.12/site-packages/neptune/internal/operation_processors/async_operation_processor.py\", line 297, in run\n",
      "    super().run()\n",
      "  File \"/home/saatarko/.conda/envs/HomeworkDS/lib/python3.12/site-packages/neptune/internal/threading/daemon.py\", line 96, in run\n",
      "    self.work()\n",
      "  File \"/home/saatarko/.conda/envs/HomeworkDS/lib/python3.12/site-packages/neptune/internal/operation_processors/async_operation_processor.py\", line 315, in work\n",
      "    self.process_batch([element.obj for element in batch], batch[-1].ver, batch[-1].at)\n",
      "  File \"/home/saatarko/.conda/envs/HomeworkDS/lib/python3.12/site-packages/neptune/internal/threading/daemon.py\", line 121, in wrapper\n",
      "    result = func(self_, *args, **kwargs)\n",
      "             ^^^^^^^^^^^^^^^^^^^^^^^^^^^^\n",
      "  File \"/home/saatarko/.conda/envs/HomeworkDS/lib/python3.12/site-packages/neptune/internal/operation_processors/async_operation_processor.py\", line 339, in process_batch\n",
      "    processed_count, errors = self._processor._backend.execute_operations(\n",
      "                              ^^^^^^^^^^^^^^^^^^^^^^^^^^^^^^^^^^^^^^^^^^^^\n",
      "  File \"/home/saatarko/.conda/envs/HomeworkDS/lib/python3.12/site-packages/neptune/internal/backends/hosted_neptune_backend.py\", line 518, in execute_operations\n",
      "    self._execute_operations(\n",
      "  File \"/home/saatarko/.conda/envs/HomeworkDS/lib/python3.12/site-packages/neptune/common/backends/utils.py\", line 79, in wrapper\n",
      "    return func(*args, **kwargs)\n",
      "           ^^^^^^^^^^^^^^^^^^^^^\n",
      "  File \"/home/saatarko/.conda/envs/HomeworkDS/lib/python3.12/site-packages/neptune/internal/backends/hosted_neptune_backend.py\", line 682, in _execute_operations\n",
      "    result = self.leaderboard_client.api.executeOperations(**kwargs).response().result\n",
      "             ^^^^^^^^^^^^^^^^^^^^^^^^^^^^^^^^^^^^^^^^^^^^^^^^^^^^^^^\n",
      "  File \"/home/saatarko/.conda/envs/HomeworkDS/lib/python3.12/site-packages/neptune/internal/backends/swagger_client_wrapper.py\", line 113, in __call__\n",
      "    self.handle_neptune_http_errors(e.response, exception=e)\n",
      "  File \"/home/saatarko/.conda/envs/HomeworkDS/lib/python3.12/site-packages/neptune/internal/backends/swagger_client_wrapper.py\", line 102, in handle_neptune_http_errors\n",
      "    raise error_processor(body) from exception\n",
      "neptune.exceptions.NeptuneFieldCountLimitExceedException: \n",
      "\u001b[95m\n",
      "----NeptuneFieldCountLimitExceedException---------------------------------------------------------------------------------------\n",
      "\u001b[0m\n",
      "There are too many fields (more than 9000) in the saatarko/financescoring/FIN-29 run.\n",
      "We have stopped the synchronization to the Neptune server and stored the data locally.\n",
      "\n",
      "To continue uploading the metadata:\n",
      "\n",
      "    1. Delete some excess fields from saatarko/financescoring/FIN-29.\n",
      "\n",
      "       You can delete fields or namespaces with the \"del\" command.\n",
      "       For example, to delete the \"training/checkpoints\" namespace:\n",
      "\n",
      "       \u001b[96mdel run[\"training/checkpoints\"]\u001b[0m\n",
      "\n",
      "    2. Once you're done, synchronize the data manually with the following command:\n",
      "\n",
      "       \u001b[95mneptune sync -p project_name\u001b[0m\n",
      "\n",
      "For more details, see https://docs.neptune.ai/usage/best_practices\n",
      "\n",
      "[I 2025-03-25 16:57:07,242] Trial 26 finished with value: 2045344.85546875 and parameters: {'learning_rate': 0.001, 'batch_size': 32, 'num_layers': 3, 'layers': 50, 'dropout': 0.1719673077483565, 'activation': 'leaky_relu', 'optimizer': 'Adam'}. Best is trial 20 with value: 458824.8984375.\n"
     ]
    },
    {
     "name": "stdout",
     "output_type": "stream",
     "text": [
      "⏹️ Early stopping at epoch 207\n",
      "\n",
      "📊 Итоговые результаты:\n",
      "Loss: 2045344.85546875 + Adam на cuda | MSE: 3774764856.3200 | MAE: 57338.0781 | Время обучения: 144.9148886203766\n"
     ]
    },
    {
     "name": "stderr",
     "output_type": "stream",
     "text": [
      "[I 2025-03-25 17:00:14,991] Trial 27 finished with value: 6052068.578125 and parameters: {'learning_rate': 0.001, 'batch_size': 64, 'num_layers': 2, 'layers': 35, 'dropout': 0.153359828101103, 'activation': 'relu', 'optimizer': 'Adam'}. Best is trial 20 with value: 458824.8984375.\n"
     ]
    },
    {
     "name": "stdout",
     "output_type": "stream",
     "text": [
      "\n",
      "📊 Итоговые результаты:\n",
      "Loss: 6052068.578125 + Adam на cuda | MSE: 86843423784.9600 | MAE: 242083.2812 | Время обучения: 187.7211630344391\n"
     ]
    },
    {
     "name": "stderr",
     "output_type": "stream",
     "text": [
      "[I 2025-03-25 17:01:31,797] Trial 28 finished with value: 753197.22265625 and parameters: {'learning_rate': 0.001, 'batch_size': 64, 'num_layers': 4, 'layers': 350, 'dropout': 0.12467646705450536, 'activation': 'relu', 'optimizer': 'Adam'}. Best is trial 20 with value: 458824.8984375.\n"
     ]
    },
    {
     "name": "stdout",
     "output_type": "stream",
     "text": [
      "⏹️ Early stopping at epoch 184\n",
      "\n",
      "📊 Итоговые результаты:\n",
      "Loss: 753197.22265625 + Adam на cuda | MSE: 3404113745.9200 | MAE: 46405.6797 | Время обучения: 76.76473498344421\n"
     ]
    },
    {
     "name": "stderr",
     "output_type": "stream",
     "text": [
      "[I 2025-03-25 17:02:34,852] Trial 29 finished with value: 547547.90234375 and parameters: {'learning_rate': 0.001, 'batch_size': 64, 'num_layers': 3, 'layers': 500, 'dropout': 0.18685692535249196, 'activation': 'leaky_relu', 'optimizer': 'Adam'}. Best is trial 20 with value: 458824.8984375.\n"
     ]
    },
    {
     "name": "stdout",
     "output_type": "stream",
     "text": [
      "⏹️ Early stopping at epoch 161\n",
      "\n",
      "📊 Итоговые результаты:\n",
      "Loss: 547547.90234375 + Adam на cuda | MSE: 1533227627.5200 | MAE: 31199.2773 | Время обучения: 63.00701856613159\n"
     ]
    },
    {
     "name": "stderr",
     "output_type": "stream",
     "text": [
      "[I 2025-03-25 17:04:47,877] Trial 30 finished with value: 710169.765625 and parameters: {'learning_rate': 0.001, 'batch_size': 64, 'num_layers': 4, 'layers': 100, 'dropout': 0.16183383571063736, 'activation': 'relu', 'optimizer': 'Adam'}. Best is trial 20 with value: 458824.8984375.\n"
     ]
    },
    {
     "name": "stdout",
     "output_type": "stream",
     "text": [
      "⏹️ Early stopping at epoch 315\n",
      "\n",
      "📊 Итоговые результаты:\n",
      "Loss: 710169.765625 + Adam на cuda | MSE: 3096180490.2400 | MAE: 45728.7617 | Время обучения: 132.98734307289124\n"
     ]
    },
    {
     "name": "stderr",
     "output_type": "stream",
     "text": [
      "[I 2025-03-25 17:05:58,371] Trial 31 finished with value: 641922.65625 and parameters: {'learning_rate': 0.001, 'batch_size': 64, 'num_layers': 3, 'layers': 250, 'dropout': 0.1019378408740372, 'activation': 'relu', 'optimizer': 'RMSprop'}. Best is trial 20 with value: 458824.8984375.\n"
     ]
    },
    {
     "name": "stdout",
     "output_type": "stream",
     "text": [
      "⏹️ Early stopping at epoch 188\n",
      "\n",
      "📊 Итоговые результаты:\n",
      "Loss: 641922.65625 + RMSprop на cuda | MSE: 2052243845.1200 | MAE: 37770.5898 | Время обучения: 70.46175718307495\n"
     ]
    },
    {
     "name": "stderr",
     "output_type": "stream",
     "text": [
      "[I 2025-03-25 17:08:09,746] Trial 32 finished with value: 665585.91015625 and parameters: {'learning_rate': 0.001, 'batch_size': 64, 'num_layers': 4, 'layers': 75, 'dropout': 0.11500888075481162, 'activation': 'relu', 'optimizer': 'RMSprop'}. Best is trial 20 with value: 458824.8984375.\n"
     ]
    },
    {
     "name": "stdout",
     "output_type": "stream",
     "text": [
      "⏹️ Early stopping at epoch 268\n",
      "\n",
      "📊 Итоговые результаты:\n",
      "Loss: 665585.91015625 + RMSprop на cuda | MSE: 2323993794.5600 | MAE: 40051.4023 | Время обучения: 131.33717823028564\n"
     ]
    },
    {
     "name": "stderr",
     "output_type": "stream",
     "text": [
      "[I 2025-03-25 17:09:09,378] Trial 33 finished with value: 710522.3359375 and parameters: {'learning_rate': 0.001, 'batch_size': 64, 'num_layers': 3, 'layers': 250, 'dropout': 0.13416403739559693, 'activation': 'relu', 'optimizer': 'SGD'}. Best is trial 20 with value: 458824.8984375.\n"
     ]
    },
    {
     "name": "stdout",
     "output_type": "stream",
     "text": [
      "⏹️ Early stopping at epoch 168\n",
      "\n",
      "📊 Итоговые результаты:\n",
      "Loss: 710522.3359375 + SGD на cuda | MSE: 2869399255.0400 | MAE: 44773.9297 | Время обучения: 59.59305739402771\n"
     ]
    },
    {
     "name": "stderr",
     "output_type": "stream",
     "text": [
      "[I 2025-03-25 17:09:40,284] Trial 34 finished with value: 960347.4453125 and parameters: {'learning_rate': 0.1, 'batch_size': 64, 'num_layers': 2, 'layers': 50, 'dropout': 0.11256064949294772, 'activation': 'leaky_relu', 'optimizer': 'RMSprop'}. Best is trial 20 with value: 458824.8984375.\n"
     ]
    },
    {
     "name": "stdout",
     "output_type": "stream",
     "text": [
      "⏹️ Early stopping at epoch 92\n",
      "\n",
      "📊 Итоговые результаты:\n",
      "Loss: 960347.4453125 + RMSprop на cuda | MSE: 13286827581.4400 | MAE: 101515.5625 | Время обучения: 30.873108625411987\n"
     ]
    },
    {
     "name": "stderr",
     "output_type": "stream",
     "text": [
      "[I 2025-03-25 17:11:09,674] Trial 35 finished with value: 553317.244140625 and parameters: {'learning_rate': 0.001, 'batch_size': 64, 'num_layers': 3, 'layers': 250, 'dropout': 0.11554708849493926, 'activation': 'relu', 'optimizer': 'SGD'}. Best is trial 20 with value: 458824.8984375.\n"
     ]
    },
    {
     "name": "stdout",
     "output_type": "stream",
     "text": [
      "⏹️ Early stopping at epoch 259\n",
      "\n",
      "📊 Итоговые результаты:\n",
      "Loss: 553317.244140625 + SGD на cuda | MSE: 834216565.7600 | MAE: 22923.3477 | Время обучения: 89.35342502593994\n"
     ]
    },
    {
     "name": "stderr",
     "output_type": "stream",
     "text": [
      "[I 2025-03-25 17:11:40,029] Trial 36 finished with value: 9584266.2734375 and parameters: {'learning_rate': 0.1, 'batch_size': 32, 'num_layers': 4, 'layers': 75, 'dropout': 0.10050880721187481, 'activation': 'relu', 'optimizer': 'Adam'}. Best is trial 20 with value: 458824.8984375.\n"
     ]
    },
    {
     "name": "stdout",
     "output_type": "stream",
     "text": [
      "⏹️ Early stopping at epoch 42\n",
      "\n",
      "📊 Итоговые результаты:\n",
      "Loss: 9584266.2734375 + Adam на cuda | MSE: 682184581447.6801 | MAE: 710779.7500 | Время обучения: 30.316549062728882\n"
     ]
    },
    {
     "name": "stderr",
     "output_type": "stream",
     "text": [
      "[I 2025-03-25 17:12:50,453] Trial 37 finished with value: 658315.4140625 and parameters: {'learning_rate': 0.001, 'batch_size': 64, 'num_layers': 3, 'layers': 250, 'dropout': 0.15304621514402336, 'activation': 'leaky_relu', 'optimizer': 'RMSprop'}. Best is trial 20 with value: 458824.8984375.\n"
     ]
    },
    {
     "name": "stdout",
     "output_type": "stream",
     "text": [
      "⏹️ Early stopping at epoch 199\n",
      "\n",
      "📊 Итоговые результаты:\n",
      "Loss: 658315.4140625 + RMSprop на cuda | MSE: 5540536862.7200 | MAE: 66319.6719 | Время обучения: 70.38879561424255\n"
     ]
    },
    {
     "name": "stderr",
     "output_type": "stream",
     "text": [
      "[I 2025-03-25 17:14:20,652] Trial 38 finished with value: 2503601.45703125 and parameters: {'learning_rate': 0.001, 'batch_size': 32, 'num_layers': 5, 'layers': 250, 'dropout': 0.1357492818548793, 'activation': 'relu', 'optimizer': 'SGD'}. Best is trial 20 with value: 458824.8984375.\n"
     ]
    },
    {
     "name": "stdout",
     "output_type": "stream",
     "text": [
      "⏹️ Early stopping at epoch 115\n",
      "\n",
      "📊 Итоговые результаты:\n",
      "Loss: 2503601.45703125 + SGD на cuda | MSE: 79420023275.5200 | MAE: 241421.8438 | Время обучения: 90.1683440208435\n"
     ]
    },
    {
     "name": "stderr",
     "output_type": "stream",
     "text": [
      "[I 2025-03-25 17:14:37,274] Trial 39 finished with value: 19064196.8125 and parameters: {'learning_rate': 0.1, 'batch_size': 64, 'num_layers': 6, 'layers': 500, 'dropout': 0.16795108780741796, 'activation': 'relu', 'optimizer': 'Adam'}. Best is trial 20 with value: 458824.8984375.\n"
     ]
    },
    {
     "name": "stdout",
     "output_type": "stream",
     "text": [
      "⏹️ Early stopping at epoch 31\n",
      "\n",
      "📊 Итоговые результаты:\n",
      "Loss: 19064196.8125 + Adam на cuda | MSE: 4942402913566.7197 | MAE: 1897148.5000 | Время обучения: 16.57380509376526\n",
      "[neptune] [info   ] Shutting down background jobs, please wait a moment...\n",
      "[neptune] [info   ] Done!\n",
      "[neptune] [info   ] Explore the metadata in the Neptune app: https://app.neptune.ai/saatarko/financescoring/e/FIN-29/metadata\n",
      "Best parameters: {'learning_rate': 0.001, 'batch_size': 64, 'num_layers': 3, 'layers': 250, 'dropout': 0.10439348664601776, 'activation': 'relu', 'optimizer': 'Adam'}\n"
     ]
    },
    {
     "ename": "NameError",
     "evalue": "name 'best_mse' is not defined",
     "output_type": "error",
     "traceback": [
      "\u001b[0;31m---------------------------------------------------------------------------\u001b[0m",
      "\u001b[0;31mNameError\u001b[0m                                 Traceback (most recent call last)",
      "Cell \u001b[0;32mIn[116], line 12\u001b[0m\n\u001b[1;32m      9\u001b[0m run\u001b[38;5;241m.\u001b[39mstop()\n\u001b[1;32m     11\u001b[0m \u001b[38;5;28mprint\u001b[39m(\u001b[38;5;124mf\u001b[39m\u001b[38;5;124m\"\u001b[39m\u001b[38;5;124mBest parameters: \u001b[39m\u001b[38;5;132;01m{\u001b[39;00mbest_params\u001b[38;5;132;01m}\u001b[39;00m\u001b[38;5;124m\"\u001b[39m)\n\u001b[0;32m---> 12\u001b[0m \u001b[38;5;28mprint\u001b[39m(\u001b[38;5;124mf\u001b[39m\u001b[38;5;124m\"\u001b[39m\u001b[38;5;124mBest mse: \u001b[39m\u001b[38;5;132;01m{\u001b[39;00mbest_mse\u001b[38;5;132;01m}\u001b[39;00m\u001b[38;5;124m\"\u001b[39m)\n",
      "\u001b[0;31mNameError\u001b[0m: name 'best_mse' is not defined"
     ]
    }
   ],
   "source": [
    "# Запуск оптимизации с Optuna\n",
    "study = optuna.create_study(direction=\"minimize\")  # Минимизируем потери\n",
    "study.optimize(objective, n_trials=40)\n",
    "\n",
    "# Логируем лучшие параметры\n",
    "best_params = study.best_params\n",
    "best_mse = study.best_value\n",
    "\n",
    "run.stop()\n",
    "\n",
    "print(f\"Best parameters: {best_params}\")\n",
    "print(f\"Best mse: {best_mse}\")"
   ]
  },
  {
   "cell_type": "code",
   "execution_count": 117,
   "id": "2740b610-7c77-496b-8e48-d8fe76ec5cfa",
   "metadata": {},
   "outputs": [
    {
     "name": "stdout",
     "output_type": "stream",
     "text": [
      "Best parameters: {'learning_rate': 0.001, 'batch_size': 64, 'num_layers': 3, 'layers': 250, 'dropout': 0.10439348664601776, 'activation': 'relu', 'optimizer': 'Adam'}\n",
      "Best mse: 458824.8984375\n"
     ]
    }
   ],
   "source": [
    "best_mse = study.best_value\n",
    "\n",
    "print(f\"Best parameters: {best_params}\")\n",
    "print(f\"Best mse: {best_mse}\")"
   ]
  },
  {
   "cell_type": "code",
   "execution_count": 121,
   "id": "111e993d-3962-4550-9d3e-15d2528684dc",
   "metadata": {},
   "outputs": [],
   "source": [
    "# Получим данные из Optuna\n",
    "best_params = study.best_params\n",
    "best_lr = best_params['learning_rate']\n",
    "best_batch_size = best_params['batch_size']\n",
    "best_dropout = best_params['dropout']\n",
    "best_activation = best_params['activation']\n",
    "best_optimizer = best_params['optimizer']\n",
    "best_num_layers = best_params['num_layers']\n",
    "best_layers = best_params['layers']"
   ]
  },
  {
   "cell_type": "code",
   "execution_count": 123,
   "id": "f5f51c7f-b381-43fe-b773-4c716290dd6a",
   "metadata": {},
   "outputs": [
    {
     "name": "stdout",
     "output_type": "stream",
     "text": [
      "best_lr 0.001\n",
      "best_batch_size 64\n",
      "best_dropout 0.10439348664601776\n",
      "best_activation relu\n",
      "best_num_layers 3\n",
      "best_optimizer Adam\n",
      "best_layers 250\n"
     ]
    }
   ],
   "source": [
    "print(f\"best_lr {best_lr}\")\n",
    "print(f\"best_batch_size {best_batch_size}\") \n",
    "print(f\"best_dropout {best_dropout}\") \n",
    "print(f\"best_activation {best_activation}\") \n",
    "print(f\"best_num_layers {best_num_layers}\") \n",
    "print(f\"best_optimizer {best_optimizer}\")\n",
    "print(f\"best_layers {best_layers}\")"
   ]
  },
  {
   "cell_type": "markdown",
   "id": "20952787-11f7-41de-ba95-aa3150deb72d",
   "metadata": {},
   "source": [
    "### Вывод: Мы получили лучшие параметры и построим модель на общих данных и этих параметрах"
   ]
  },
  {
   "cell_type": "code",
   "execution_count": 29,
   "id": "69373c09-285e-4ea3-8f1d-0f706090e52f",
   "metadata": {
    "scrolled": true
   },
   "outputs": [
    {
     "name": "stdout",
     "output_type": "stream",
     "text": [
      "Epoch 1: Train Loss=4934610.390000, Val Loss=5119642.218750\n",
      "Epoch 2: Train Loss=4894509.090000, Val Loss=5034773.156250\n",
      "Epoch 3: Train Loss=4740814.955000, Val Loss=4794503.671875\n",
      "Epoch 4: Train Loss=4391617.825000, Val Loss=4317756.882812\n",
      "Epoch 5: Train Loss=3772289.217500, Val Loss=3551474.382812\n",
      "Epoch 6: Train Loss=2899116.697500, Val Loss=2549982.093750\n",
      "Epoch 7: Train Loss=1978568.151250, Val Loss=1698586.691406\n",
      "Epoch 8: Train Loss=1467436.355000, Val Loss=1324236.750000\n",
      "Epoch 9: Train Loss=1140556.803125, Val Loss=955035.347656\n",
      "Epoch 10: Train Loss=835215.624375, Val Loss=631127.958008\n",
      "Epoch 11: Train Loss=595091.401563, Val Loss=447679.260742\n",
      "Epoch 12: Train Loss=488652.217500, Val Loss=409679.419922\n",
      "Epoch 13: Train Loss=469276.347500, Val Loss=401940.158203\n",
      "Epoch 14: Train Loss=457858.992500, Val Loss=395319.576172\n",
      "Epoch 15: Train Loss=449966.842187, Val Loss=387246.237305\n",
      "Epoch 16: Train Loss=443724.875625, Val Loss=381642.279297\n",
      "Epoch 17: Train Loss=435715.320000, Val Loss=374152.866211\n",
      "Epoch 18: Train Loss=426108.856563, Val Loss=371100.690430\n",
      "Epoch 19: Train Loss=425770.573437, Val Loss=361912.502930\n",
      "Epoch 20: Train Loss=417232.404375, Val Loss=355171.326172\n",
      "Epoch 21: Train Loss=412829.566875, Val Loss=349870.793945\n",
      "Epoch 22: Train Loss=407913.962187, Val Loss=343688.571289\n",
      "Epoch 23: Train Loss=403912.914687, Val Loss=340438.353516\n",
      "Epoch 24: Train Loss=396181.900313, Val Loss=336238.365234\n",
      "Epoch 25: Train Loss=395459.815312, Val Loss=333756.044922\n",
      "Epoch 26: Train Loss=386963.962187, Val Loss=330912.862305\n",
      "Epoch 27: Train Loss=387533.741875, Val Loss=323487.077148\n",
      "Epoch 28: Train Loss=381929.600313, Val Loss=314875.499023\n",
      "Epoch 29: Train Loss=367861.671250, Val Loss=312340.262695\n",
      "Epoch 30: Train Loss=371868.155000, Val Loss=309372.833008\n",
      "Epoch 31: Train Loss=372741.320000, Val Loss=305204.831055\n",
      "Epoch 32: Train Loss=363037.519062, Val Loss=294886.353027\n",
      "Epoch 33: Train Loss=360238.856875, Val Loss=292793.865234\n",
      "Epoch 34: Train Loss=352242.975313, Val Loss=293767.278809\n",
      "Epoch 35: Train Loss=355060.743125, Val Loss=286119.307129\n",
      "Epoch 36: Train Loss=349601.533438, Val Loss=277321.144531\n",
      "Epoch 37: Train Loss=338358.036250, Val Loss=274262.004395\n",
      "Epoch 38: Train Loss=337562.118750, Val Loss=266620.510254\n",
      "Epoch 39: Train Loss=333115.683437, Val Loss=260416.195312\n",
      "Epoch 40: Train Loss=332443.125000, Val Loss=254531.796875\n",
      "Epoch 41: Train Loss=326742.880937, Val Loss=245908.079590\n",
      "Epoch 42: Train Loss=322985.230938, Val Loss=241865.939453\n",
      "Epoch 43: Train Loss=313254.301406, Val Loss=240547.130371\n",
      "Epoch 44: Train Loss=312914.586875, Val Loss=229277.842773\n",
      "Epoch 45: Train Loss=305298.688437, Val Loss=226360.217285\n",
      "Epoch 46: Train Loss=297464.397344, Val Loss=217186.647461\n",
      "Epoch 47: Train Loss=297077.148750, Val Loss=210679.136719\n",
      "Epoch 48: Train Loss=294471.582656, Val Loss=207186.428223\n",
      "Epoch 49: Train Loss=289336.478750, Val Loss=197480.810059\n",
      "Epoch 50: Train Loss=284093.500937, Val Loss=193198.677246\n",
      "Epoch 51: Train Loss=280400.393906, Val Loss=196152.104980\n",
      "Epoch 52: Train Loss=277446.242031, Val Loss=185425.174805\n",
      "Epoch 53: Train Loss=272930.393125, Val Loss=176326.048340\n",
      "Epoch 54: Train Loss=270483.937344, Val Loss=172219.007324\n",
      "Epoch 55: Train Loss=264931.733906, Val Loss=163261.723145\n",
      "Epoch 56: Train Loss=262489.887031, Val Loss=158603.187988\n",
      "Epoch 57: Train Loss=257275.726562, Val Loss=155277.710205\n",
      "Epoch 58: Train Loss=253326.554219, Val Loss=155512.912354\n",
      "Epoch 59: Train Loss=249156.899688, Val Loss=144228.046875\n",
      "Epoch 60: Train Loss=247104.487969, Val Loss=140100.930420\n",
      "Epoch 61: Train Loss=241798.331875, Val Loss=138661.303711\n",
      "Epoch 62: Train Loss=239185.372500, Val Loss=130357.096680\n",
      "Epoch 63: Train Loss=236840.175937, Val Loss=126231.497314\n",
      "Epoch 64: Train Loss=233812.996719, Val Loss=124704.493652\n",
      "Epoch 65: Train Loss=230406.636250, Val Loss=125661.611816\n",
      "Epoch 66: Train Loss=234313.721406, Val Loss=113195.705078\n",
      "Epoch 67: Train Loss=228359.806562, Val Loss=111108.985596\n",
      "Epoch 68: Train Loss=229288.596719, Val Loss=103765.965088\n",
      "Epoch 69: Train Loss=223108.426250, Val Loss=103072.143066\n",
      "Epoch 70: Train Loss=221985.476406, Val Loss=103392.091309\n",
      "Epoch 71: Train Loss=221381.652344, Val Loss=97037.379639\n",
      "Epoch 72: Train Loss=220461.877656, Val Loss=94427.178955\n",
      "Epoch 73: Train Loss=216374.367500, Val Loss=93912.436523\n",
      "Epoch 74: Train Loss=213586.785625, Val Loss=87851.320312\n",
      "Epoch 75: Train Loss=213592.442500, Val Loss=91626.536133\n",
      "Epoch 76: Train Loss=212468.838438, Val Loss=90986.463623\n",
      "Epoch 77: Train Loss=212308.312969, Val Loss=82929.259033\n",
      "Epoch 78: Train Loss=212979.090156, Val Loss=78850.658203\n",
      "Epoch 79: Train Loss=210642.700469, Val Loss=80186.956543\n",
      "Epoch 80: Train Loss=206280.410156, Val Loss=73755.088379\n",
      "Epoch 81: Train Loss=207243.899844, Val Loss=75295.170776\n",
      "Epoch 82: Train Loss=205931.161719, Val Loss=69707.493652\n",
      "Epoch 83: Train Loss=204184.045313, Val Loss=68905.889404\n",
      "Epoch 84: Train Loss=203610.286719, Val Loss=68484.457764\n",
      "Epoch 85: Train Loss=207886.274375, Val Loss=62326.570557\n",
      "Epoch 86: Train Loss=202545.862969, Val Loss=67324.191895\n",
      "Epoch 87: Train Loss=202700.283906, Val Loss=62483.852173\n",
      "Epoch 88: Train Loss=201980.098906, Val Loss=60072.274414\n",
      "Epoch 89: Train Loss=197694.129688, Val Loss=59901.099243\n",
      "Epoch 90: Train Loss=202857.888281, Val Loss=78178.649292\n",
      "Epoch 91: Train Loss=200246.366250, Val Loss=56414.196411\n",
      "Epoch 92: Train Loss=198505.510781, Val Loss=54155.476562\n",
      "Epoch 93: Train Loss=201846.385156, Val Loss=52868.998779\n",
      "Epoch 94: Train Loss=194040.946875, Val Loss=51684.901978\n",
      "Epoch 95: Train Loss=198502.923594, Val Loss=48212.464478\n",
      "Epoch 96: Train Loss=190183.205625, Val Loss=49469.592651\n",
      "Epoch 97: Train Loss=196633.326250, Val Loss=55463.163330\n",
      "Epoch 98: Train Loss=197446.560625, Val Loss=47990.674072\n",
      "Epoch 99: Train Loss=193542.661562, Val Loss=44430.178833\n",
      "Epoch 100: Train Loss=192343.868906, Val Loss=44539.843872\n",
      "Epoch 101: Train Loss=193870.222812, Val Loss=46243.323120\n",
      "Epoch 102: Train Loss=195499.191406, Val Loss=49749.417114\n",
      "Epoch 103: Train Loss=193629.887187, Val Loss=48620.114746\n",
      "Epoch 104: Train Loss=192324.946406, Val Loss=42728.191650\n",
      "Epoch 105: Train Loss=190048.524219, Val Loss=41669.449219\n",
      "Epoch 106: Train Loss=189771.592500, Val Loss=37895.669861\n",
      "Epoch 107: Train Loss=190128.525312, Val Loss=40466.052368\n",
      "Epoch 108: Train Loss=190802.087656, Val Loss=56499.910767\n",
      "Epoch 109: Train Loss=191586.265937, Val Loss=39408.453918\n",
      "Epoch 110: Train Loss=191216.160312, Val Loss=49724.844727\n",
      "Epoch 111: Train Loss=188574.886875, Val Loss=35729.508972\n",
      "Epoch 112: Train Loss=188283.092812, Val Loss=39707.663696\n",
      "Epoch 113: Train Loss=190434.311641, Val Loss=36060.163574\n",
      "Epoch 114: Train Loss=191621.507344, Val Loss=36591.008545\n",
      "Epoch 115: Train Loss=188855.046875, Val Loss=36501.521118\n",
      "Epoch 116: Train Loss=188141.731875, Val Loss=31268.026428\n",
      "Epoch 117: Train Loss=189018.140156, Val Loss=60751.436646\n",
      "Epoch 118: Train Loss=188445.308750, Val Loss=29986.679443\n",
      "Epoch 119: Train Loss=185447.200937, Val Loss=41596.375671\n",
      "Epoch 120: Train Loss=187701.393281, Val Loss=34164.151917\n",
      "Epoch 121: Train Loss=189688.005156, Val Loss=31989.386169\n",
      "Epoch 122: Train Loss=189832.029062, Val Loss=59274.590820\n",
      "Epoch 123: Train Loss=186807.500156, Val Loss=34127.286499\n",
      "Epoch 124: Train Loss=190668.061250, Val Loss=38404.056885\n",
      "Epoch 125: Train Loss=186602.090625, Val Loss=32372.262146\n",
      "Epoch 126: Train Loss=190168.959063, Val Loss=45064.767090\n",
      "Epoch 127: Train Loss=192074.694844, Val Loss=35814.079590\n",
      "Epoch 128: Train Loss=190193.560625, Val Loss=58106.129150\n",
      "Epoch 129: Train Loss=187953.430781, Val Loss=26700.217041\n",
      "Epoch 130: Train Loss=188172.150156, Val Loss=39810.086670\n",
      "Epoch 131: Train Loss=189727.954609, Val Loss=29211.889587\n",
      "Epoch 132: Train Loss=186518.964531, Val Loss=29798.783081\n",
      "Epoch 133: Train Loss=189686.795937, Val Loss=26758.340393\n",
      "Epoch 134: Train Loss=186233.024688, Val Loss=29373.657410\n",
      "Epoch 135: Train Loss=185149.801563, Val Loss=32043.797607\n",
      "Epoch 136: Train Loss=188455.990781, Val Loss=29138.658081\n",
      "Epoch 137: Train Loss=190181.351250, Val Loss=67180.604004\n",
      "Epoch 138: Train Loss=187472.886953, Val Loss=27626.366272\n",
      "Epoch 139: Train Loss=185946.505781, Val Loss=28662.524170\n",
      "Epoch 140: Train Loss=186630.606094, Val Loss=27829.806213\n",
      "Epoch 141: Train Loss=185294.878281, Val Loss=31109.790161\n",
      "Epoch 142: Train Loss=184867.970781, Val Loss=28905.186218\n",
      "Epoch 143: Train Loss=189039.122656, Val Loss=33146.188110\n",
      "Epoch 144: Train Loss=183165.615781, Val Loss=31008.718079\n",
      "Epoch 145: Train Loss=186943.884219, Val Loss=27974.692139\n",
      "Epoch 146: Train Loss=184913.870625, Val Loss=28706.613403\n",
      "Epoch 147: Train Loss=186144.409297, Val Loss=26639.962341\n",
      "Epoch 148: Train Loss=189463.541328, Val Loss=24496.194275\n",
      "Epoch 149: Train Loss=183779.854375, Val Loss=23545.371704\n",
      "Epoch 150: Train Loss=185108.587188, Val Loss=26452.742004\n",
      "Epoch 151: Train Loss=186542.422813, Val Loss=48650.848267\n",
      "Epoch 152: Train Loss=185742.574687, Val Loss=38099.140808\n",
      "Epoch 153: Train Loss=182951.883281, Val Loss=27559.762878\n",
      "Epoch 154: Train Loss=187482.833281, Val Loss=27805.999878\n",
      "Epoch 155: Train Loss=185306.283125, Val Loss=29885.876038\n",
      "Epoch 156: Train Loss=187220.915469, Val Loss=23369.286560\n",
      "Epoch 157: Train Loss=186927.669063, Val Loss=36001.305847\n",
      "Epoch 158: Train Loss=184241.052187, Val Loss=27238.363281\n",
      "Epoch 159: Train Loss=184637.522187, Val Loss=47178.155029\n",
      "Epoch 160: Train Loss=184930.462812, Val Loss=28278.829834\n",
      "Epoch 161: Train Loss=185109.225469, Val Loss=26379.844238\n",
      "Epoch 162: Train Loss=183061.015156, Val Loss=35805.280701\n",
      "Epoch 163: Train Loss=186984.378281, Val Loss=31268.223816\n",
      "Epoch 164: Train Loss=186257.023438, Val Loss=29857.585938\n",
      "Epoch 165: Train Loss=185986.528047, Val Loss=24287.716248\n",
      "Epoch 166: Train Loss=185455.746875, Val Loss=26634.056885\n",
      "Epoch 167: Train Loss=186368.701406, Val Loss=37754.252930\n",
      "Epoch 168: Train Loss=185460.356406, Val Loss=28852.076782\n",
      "Epoch 169: Train Loss=181379.489375, Val Loss=26358.623901\n",
      "Epoch 170: Train Loss=183857.977500, Val Loss=36569.676636\n",
      "Epoch 171: Train Loss=185747.288438, Val Loss=41593.952148\n",
      "Epoch 172: Train Loss=183448.182500, Val Loss=26074.720825\n",
      "Epoch 173: Train Loss=184890.209844, Val Loss=30445.197388\n",
      "Epoch 174: Train Loss=186098.956250, Val Loss=30196.384888\n",
      "Epoch 175: Train Loss=185753.403594, Val Loss=22580.912476\n",
      "Epoch 176: Train Loss=184883.815938, Val Loss=23535.966064\n",
      "Epoch 177: Train Loss=184571.056875, Val Loss=32177.740967\n",
      "Epoch 178: Train Loss=183313.738281, Val Loss=26513.642273\n",
      "Epoch 179: Train Loss=183805.373594, Val Loss=24855.170105\n",
      "Epoch 180: Train Loss=185431.932500, Val Loss=26615.292725\n",
      "Epoch 181: Train Loss=182400.575937, Val Loss=24474.430054\n",
      "Epoch 182: Train Loss=184718.735156, Val Loss=41971.321899\n",
      "Epoch 183: Train Loss=184519.393906, Val Loss=32385.453430\n",
      "Epoch 184: Train Loss=183298.190312, Val Loss=32089.441956\n",
      "Epoch 185: Train Loss=181362.314844, Val Loss=24309.637268\n",
      "Epoch 186: Train Loss=184509.770000, Val Loss=25882.139893\n",
      "Epoch 187: Train Loss=185606.385000, Val Loss=31553.226562\n",
      "Epoch 188: Train Loss=183280.268984, Val Loss=35010.521912\n",
      "Epoch 189: Train Loss=184438.177500, Val Loss=30297.638550\n",
      "Epoch 190: Train Loss=179264.018281, Val Loss=24263.987854\n",
      "Epoch 191: Train Loss=183170.345000, Val Loss=22740.658264\n",
      "Epoch 192: Train Loss=182094.905000, Val Loss=20969.027466\n",
      "Epoch 193: Train Loss=185900.147500, Val Loss=21440.671509\n",
      "Epoch 194: Train Loss=182100.997656, Val Loss=29074.569214\n",
      "Epoch 195: Train Loss=185328.089844, Val Loss=41283.268311\n",
      "Epoch 196: Train Loss=181579.452734, Val Loss=24657.315552\n",
      "Epoch 197: Train Loss=181729.055938, Val Loss=57002.352783\n",
      "Epoch 198: Train Loss=183523.522500, Val Loss=26311.010193\n",
      "Epoch 199: Train Loss=185753.552969, Val Loss=32634.796509\n",
      "Epoch 200: Train Loss=181329.393750, Val Loss=25051.723633\n",
      "Epoch 201: Train Loss=183581.517187, Val Loss=32937.395630\n",
      "Epoch 202: Train Loss=185453.098281, Val Loss=29744.817749\n",
      "Epoch 203: Train Loss=178545.706094, Val Loss=26492.358948\n",
      "Epoch 204: Train Loss=176749.001953, Val Loss=30412.205078\n",
      "Epoch 205: Train Loss=181962.915000, Val Loss=30527.918152\n",
      "Epoch 206: Train Loss=180140.697734, Val Loss=31943.318481\n",
      "Epoch 207: Train Loss=181165.614375, Val Loss=25049.495056\n",
      "Epoch 208: Train Loss=180239.370781, Val Loss=53256.984375\n",
      "Epoch 209: Train Loss=179316.815156, Val Loss=24368.820312\n",
      "Epoch 210: Train Loss=184766.529688, Val Loss=28906.695679\n",
      "Epoch 211: Train Loss=181570.915781, Val Loss=25546.265747\n",
      "Epoch 212: Train Loss=184045.725781, Val Loss=24943.370483\n",
      "Epoch 213: Train Loss=182806.835000, Val Loss=26174.777893\n",
      "Epoch 214: Train Loss=183484.005547, Val Loss=25480.019653\n",
      "Epoch 215: Train Loss=181725.204375, Val Loss=24999.379089\n",
      "Epoch 216: Train Loss=178981.577500, Val Loss=27678.081299\n",
      "Epoch 217: Train Loss=182788.264375, Val Loss=24242.307434\n",
      "Epoch 218: Train Loss=181050.903594, Val Loss=53973.812500\n",
      "Epoch 219: Train Loss=182463.574844, Val Loss=25267.041870\n",
      "Epoch 220: Train Loss=180961.887813, Val Loss=53585.873291\n",
      "Epoch 221: Train Loss=179066.784219, Val Loss=23804.640747\n",
      "Epoch 222: Train Loss=183454.154531, Val Loss=32717.229736\n",
      "⏹️ Early stopping at epoch 222\n",
      "✅ Загружены лучшие веса модели.\n",
      "📁 Модель сохранена в 'tensorboard/2025-03-27_16-12-24/final_model.pth'\n"
     ]
    }
   ],
   "source": [
    "# === 1. Устанавливаем лучшие параметры ===\n",
    "best_config = {\n",
    "    \"learning_rate\": 0.001,\n",
    "    \"batch_size\": 64,\n",
    "    \"dropout\": 0.1044,  # округляем до 4 знаков\n",
    "    \"activation\": \"relu\",\n",
    "    \"num_layers\": 3,\n",
    "    \"optimizer\": \"Adam\",\n",
    "    \"layers\": 250\n",
    "}\n",
    "\n",
    "# === 2. Определяем устройство ===\n",
    "device = \"cuda\" if torch.cuda.is_available() else \"cpu\"\n",
    "\n",
    "# === 3. Подготовка данных ===\n",
    "train_loader = DataLoader(train_dataset, batch_size=best_config[\"batch_size\"], shuffle=True)\n",
    "test_loader = DataLoader(test_dataset, batch_size=best_config[\"batch_size\"], shuffle=False)\n",
    "\n",
    "# === 4. Определяем модель ===\n",
    "class SimpleNN(nn.Module):\n",
    "    def __init__(self, num_layers, hidden_size, dropout, activation):\n",
    "        super(SimpleNN, self).__init__()\n",
    "        layers = []\n",
    "        input_dim = train_dataset[0][0].shape[0]  # Определяем размер входа\n",
    "\n",
    "        for _ in range(num_layers):\n",
    "            layers.append(nn.Linear(input_dim, hidden_size))\n",
    "            layers.append(nn.ReLU() if activation == \"relu\" else nn.Tanh())\n",
    "            layers.append(nn.Dropout(dropout))\n",
    "            input_dim = hidden_size  # обновляем входной размер\n",
    "        \n",
    "        layers.append(nn.Linear(hidden_size, 1))  # Выходной слой (для регрессии)\n",
    "        self.model = nn.Sequential(*layers)\n",
    "\n",
    "    def forward(self, x):\n",
    "        return self.model(x)\n",
    "\n",
    "# Инициализируем модель\n",
    "model = SimpleNN(\n",
    "    num_layers=best_config[\"num_layers\"],\n",
    "    hidden_size=best_config[\"layers\"],\n",
    "    dropout=best_config[\"dropout\"],\n",
    "    activation=best_config[\"activation\"]\n",
    ").to(device)\n",
    "\n",
    "# === 5. Определяем функцию потерь и оптимизатор ===\n",
    "criterion = nn.SmoothL1Loss()  # Huber Loss\n",
    "optimizer = optim.Adam(model.parameters(), lr=best_config[\"learning_rate\"])\n",
    "\n",
    "# === 6. Создаём папку для логов TensorBoard ===\n",
    "log_dir = f\"tensorboard/{datetime.now().strftime('%Y-%m-%d_%H-%M-%S')}\"\n",
    "os.makedirs(log_dir, exist_ok=True)\n",
    "writer = SummaryWriter(log_dir=log_dir)\n",
    "\n",
    "# === 7. Обучение модели ===\n",
    "epochs = 600\n",
    "best_val_loss = float(\"inf\")\n",
    "patience = 30\n",
    "epochs_no_improve = 0\n",
    "best_model_wts = None\n",
    "train_losses = []\n",
    "val_losses = []\n",
    "\n",
    "for epoch in range(epochs):\n",
    "    model.train()\n",
    "    running_loss = 0.0\n",
    "    \n",
    "    for inputs, labels in train_loader:\n",
    "        inputs, labels = inputs.to(device), labels.to(device)\n",
    "        optimizer.zero_grad()\n",
    "        outputs = model(inputs)\n",
    "        loss = criterion(outputs, labels)\n",
    "        loss.backward()\n",
    "        torch.nn.utils.clip_grad_value_(model.parameters(), clip_value=1.0)  # ограничение градиентов\n",
    "        optimizer.step()\n",
    "        running_loss += loss.item()\n",
    "    \n",
    "    avg_train_loss = running_loss / len(train_loader)\n",
    "    train_losses.append(avg_train_loss)  # Добавляем в список\n",
    "\n",
    "    # === 8. Валидация ===\n",
    "    model.eval()\n",
    "    val_loss = 0.0\n",
    "    \n",
    "    with torch.no_grad():\n",
    "        for inputs, labels in test_loader:\n",
    "            inputs, labels = inputs.to(device), labels.to(device)\n",
    "            outputs = model(inputs)\n",
    "            loss = criterion(outputs, labels)\n",
    "            val_loss += loss.item()\n",
    "    \n",
    "    avg_val_loss = val_loss / len(test_loader)\n",
    "    val_losses.append(avg_val_loss)  # Добавляем в список\n",
    "\n",
    "\n",
    "    print(f\"Epoch {epoch+1}: Train Loss={avg_train_loss:.6f}, Val Loss={avg_val_loss:.6f}\")\n",
    "\n",
    "    # === 9. Логируем данные в TensorBoard ===\n",
    "    writer.add_scalar(\"Loss/Train\", avg_train_loss, epoch)\n",
    "    writer.add_scalar(\"Loss/Validation\", avg_val_loss, epoch)\n",
    "\n",
    "    # Логируем градиенты\n",
    "    for name, param in model.named_parameters():\n",
    "        if param.grad is not None:\n",
    "            writer.add_histogram(f\"Gradients/{name}\", param.grad, epoch)\n",
    "\n",
    "    # Ранняя остановка\n",
    "    if avg_val_loss < best_val_loss:\n",
    "        best_val_loss = avg_val_loss\n",
    "        epochs_no_improve = 0\n",
    "        best_model_wts = model.state_dict()  # Сохраняем лучшие веса\n",
    "    else:\n",
    "        epochs_no_improve += 1\n",
    "    \n",
    "    if epochs_no_improve >= patience:\n",
    "        print(f\"⏹️ Early stopping at epoch {epoch+1}\")\n",
    "        break\n",
    "\n",
    "# === 10. Загружаем лучшие веса модели ===\n",
    "if best_model_wts is not None:\n",
    "    model.load_state_dict(best_model_wts)\n",
    "    print(\"✅ Загружены лучшие веса модели.\")\n",
    "\n",
    "# === 11. Сохраняем обученную модель в папку с логами ===\n",
    "model_path = os.path.join(log_dir, \"final_model.pth\")\n",
    "torch.save(model.state_dict(), model_path)\n",
    "print(f\"📁 Модель сохранена в '{model_path}'\")\n",
    "\n",
    "# Закрываем TensorBoard writer\n",
    "writer.close()"
   ]
  },
  {
   "cell_type": "markdown",
   "id": "94046048-cc70-4300-b677-e6e2a7baad5e",
   "metadata": {},
   "source": [
    "### Строим графики и получаем метрики для оценки получившейся модели"
   ]
  },
  {
   "cell_type": "code",
   "execution_count": 30,
   "id": "02773000-f0ab-4f34-ba28-e8b0ed6116a1",
   "metadata": {},
   "outputs": [
    {
     "data": {
      "image/png": "[encoded data removed]",
      "text/plain": [
       "<Figure size 640x480 with 1 Axes>"
      ]
     },
     "metadata": {},
     "output_type": "display_data"
    }
   ],
   "source": [
    "# График ошибки\n",
    "plt.plot(train_losses, label='Train Loss')\n",
    "plt.plot(val_losses, label='Validation Loss')\n",
    "plt.xlabel('Epochs')\n",
    "plt.ylabel('Loss (SmoothL1Loss)')\n",
    "plt.legend()\n",
    "plt.title('График ошибки (Loss)')\n",
    "plt.show()"
   ]
  },
  {
   "cell_type": "code",
   "execution_count": 186,
   "id": "f029af3a-9402-4e0d-98a5-4ad0ec8bdefc",
   "metadata": {},
   "outputs": [
    {
     "name": "stdout",
     "output_type": "stream",
     "text": [
      "Test Loss: 2581725952.000000\n",
      "Mean Absolute Error (MAE): 43746.131227\n",
      "R²: 0.999705\n"
     ]
    },
    {
     "data": {
      "image/png": "[encoded data removed]",
      "text/plain": [
       "<Figure size 640x480 with 1 Axes>"
      ]
     },
     "metadata": {},
     "output_type": "display_data"
    }
   ],
   "source": [
    "# Переводим модель в режим оценки\n",
    "model.eval()\n",
    "\n",
    "# Переменная для хранения общей потери\n",
    "test_loss = 0.0\n",
    "n_samples = 0\n",
    "\n",
    "# Переменные для расчетов MAE и R²\n",
    "y_true = torch.tensor(y_test.values)  # Преобразуем pandas.Series в torch.Tensor\n",
    "y_pred = []\n",
    "\n",
    "# Включаем отключение градиентов\n",
    "with torch.no_grad():\n",
    "    # Предсказания\n",
    "    y_pred_tensor = model(X_test_tensor.to(device))  \n",
    "    y_pred_tensor = y_pred_tensor.cpu().numpy()  # Переводим предсказания в numpy\n",
    "    y_pred = y_pred_tensor\n",
    "\n",
    "    # Вычисляем тестовую потерю\n",
    "    criterion = nn.MSELoss()  # Потери для регрессии\n",
    "    loss = criterion(torch.tensor(y_pred), y_test_tensor)  # Включаем реальное y\n",
    "    test_loss += loss.item() * y_test_tensor.size(0)  # Умножаем на размер батча\n",
    "    n_samples += y_test_tensor.size(0)\n",
    "\n",
    "    # Средняя потеря\n",
    "    avg_test_loss = test_loss / n_samples\n",
    "\n",
    "# Вычисляем MAE и R²\n",
    "mae = mean_absolute_error(y_true.numpy(), y_pred)  # Конвертируем y_true в numpy\n",
    "r2 = r2_score(y_true.numpy(), y_pred)\n",
    "\n",
    "# Выводим среднюю потерю, MAE и R²\n",
    "print(f\"Test Loss: {avg_test_loss:.6f}\")\n",
    "print(f\"Mean Absolute Error (MAE): {mae:.6f}\")\n",
    "print(f\"R²: {r2:.6f}\")\n",
    "\n",
    "# Строим график\n",
    "plt.scatter(y_true.numpy(), y_pred)\n",
    "plt.xlabel('Фактические значения')\n",
    "plt.ylabel('Предсказанные значения')\n",
    "plt.title('Сравнение предсказаний с реальными значениями')\n",
    "\n",
    "# Линия идеального предсказания\n",
    "plt.plot([min(y_true.numpy()), max(y_true.numpy())], [min(y_true.numpy()), max(y_true.numpy())], color='red') \n",
    "\n",
    "plt.show()"
   ]
  },
  {
   "cell_type": "markdown",
   "id": "651bffd6-3303-404f-ae01-829133019a37",
   "metadata": {},
   "source": [
    "## Построим модель по отфильтрованным данным и лучшим полученым параметрам"
   ]
  },
  {
   "cell_type": "code",
   "execution_count": 31,
   "id": "b8fbeb1a-d5bd-4ed3-92b8-c4efa6663544",
   "metadata": {},
   "outputs": [
    {
     "data": {
      "text/html": [
       "<div>\n",
       "<style scoped>\n",
       "    .dataframe tbody tr th:only-of-type {\n",
       "        vertical-align: middle;\n",
       "    }\n",
       "\n",
       "    .dataframe tbody tr th {\n",
       "        vertical-align: top;\n",
       "    }\n",
       "\n",
       "    .dataframe thead th {\n",
       "        text-align: right;\n",
       "    }\n",
       "</style>\n",
       "<table border=\"1\" class=\"dataframe\">\n",
       "  <thead>\n",
       "    <tr style=\"text-align: right;\">\n",
       "      <th></th>\n",
       "      <th>quality_index</th>\n",
       "      <th>hasGuestRoom</th>\n",
       "      <th>squareMeters</th>\n",
       "    </tr>\n",
       "  </thead>\n",
       "  <tbody>\n",
       "    <tr>\n",
       "      <th>0</th>\n",
       "      <td>-43094.783446</td>\n",
       "      <td>7</td>\n",
       "      <td>75523</td>\n",
       "    </tr>\n",
       "    <tr>\n",
       "      <th>1</th>\n",
       "      <td>-13715.766883</td>\n",
       "      <td>2</td>\n",
       "      <td>80771</td>\n",
       "    </tr>\n",
       "    <tr>\n",
       "      <th>2</th>\n",
       "      <td>-16250.757340</td>\n",
       "      <td>9</td>\n",
       "      <td>55712</td>\n",
       "    </tr>\n",
       "    <tr>\n",
       "      <th>3</th>\n",
       "      <td>-20528.176357</td>\n",
       "      <td>3</td>\n",
       "      <td>32316</td>\n",
       "    </tr>\n",
       "    <tr>\n",
       "      <th>4</th>\n",
       "      <td>-14068.401226</td>\n",
       "      <td>4</td>\n",
       "      <td>70429</td>\n",
       "    </tr>\n",
       "    <tr>\n",
       "      <th>...</th>\n",
       "      <td>...</td>\n",
       "      <td>...</td>\n",
       "      <td>...</td>\n",
       "    </tr>\n",
       "    <tr>\n",
       "      <th>9995</th>\n",
       "      <td>27355.568553</td>\n",
       "      <td>4</td>\n",
       "      <td>1726</td>\n",
       "    </tr>\n",
       "    <tr>\n",
       "      <th>9996</th>\n",
       "      <td>-15032.251094</td>\n",
       "      <td>0</td>\n",
       "      <td>44403</td>\n",
       "    </tr>\n",
       "    <tr>\n",
       "      <th>9997</th>\n",
       "      <td>27359.078271</td>\n",
       "      <td>9</td>\n",
       "      <td>83841</td>\n",
       "    </tr>\n",
       "    <tr>\n",
       "      <th>9998</th>\n",
       "      <td>4738.854559</td>\n",
       "      <td>4</td>\n",
       "      <td>59036</td>\n",
       "    </tr>\n",
       "    <tr>\n",
       "      <th>9999</th>\n",
       "      <td>-27093.548620</td>\n",
       "      <td>6</td>\n",
       "      <td>1440</td>\n",
       "    </tr>\n",
       "  </tbody>\n",
       "</table>\n",
       "<p>10000 rows × 3 columns</p>\n",
       "</div>"
      ],
      "text/plain": [
       "      quality_index  hasGuestRoom  squareMeters\n",
       "0     -43094.783446             7         75523\n",
       "1     -13715.766883             2         80771\n",
       "2     -16250.757340             9         55712\n",
       "3     -20528.176357             3         32316\n",
       "4     -14068.401226             4         70429\n",
       "...             ...           ...           ...\n",
       "9995   27355.568553             4          1726\n",
       "9996  -15032.251094             0         44403\n",
       "9997   27359.078271             9         83841\n",
       "9998    4738.854559             4         59036\n",
       "9999  -27093.548620             6          1440\n",
       "\n",
       "[10000 rows x 3 columns]"
      ]
     },
     "execution_count": 31,
     "metadata": {},
     "output_type": "execute_result"
    }
   ],
   "source": [
    "X_final"
   ]
  },
  {
   "cell_type": "code",
   "execution_count": 32,
   "id": "f5b339d1-8bad-4917-963a-0a8479b93c80",
   "metadata": {},
   "outputs": [],
   "source": [
    "X_train_final, X_test_final, y_train_final, y_test_final = train_test_split(X_final, y, test_size=0.2, random_state=42)"
   ]
  },
  {
   "cell_type": "code",
   "execution_count": 33,
   "id": "f1394257-a902-433c-9b2c-2d4c0f60947c",
   "metadata": {},
   "outputs": [],
   "source": [
    "X_train_final, X_val_final, y_train_final, y_val_final = train_test_split(X_train_final, y_train_final, test_size=0.2, random_state=42)"
   ]
  },
  {
   "cell_type": "code",
   "execution_count": 51,
   "id": "b9cb77f6-6e51-46e2-9204-cad14932dfe3",
   "metadata": {},
   "outputs": [],
   "source": [
    "scaler = StandardScaler()\n",
    "X_train_scaled = scaler.fit_transform(X_train_final)\n",
    "X_val_scaled = scaler.transform(X_val_final)\n",
    "X_test_scaled = scaler.transform(X_test_final)"
   ]
  },
  {
   "cell_type": "code",
   "execution_count": 35,
   "id": "cb26ce4f-dc71-4a19-a3d9-9dbd5ce1e53a",
   "metadata": {},
   "outputs": [],
   "source": [
    "# Конвертируем в тензоры\n",
    "X_train_tensor_final = torch.tensor(X_train_scaled, dtype=torch.float32)\n",
    "y_train_tensor_final = torch.tensor(y_train.values, dtype=torch.float32).unsqueeze(1)\n",
    "\n",
    "X_test_tensor_final = torch.tensor(X_test_scaled, dtype=torch.float32)\n",
    "y_test_tensor_final = torch.tensor(y_test.values, dtype=torch.float32).unsqueeze(1)\n",
    "\n",
    "X_val_tensor_final = torch.tensor(X_val_scaled, dtype=torch.float32)\n",
    "y_val_tensor_final = torch.tensor(y_val.values, dtype=torch.float32).unsqueeze(1)"
   ]
  },
  {
   "cell_type": "code",
   "execution_count": 36,
   "id": "1bcf8e56-0d9f-4072-9d93-8beacfb16c43",
   "metadata": {},
   "outputs": [],
   "source": [
    "class ParisDataset(Dataset):\n",
    "    def __init__(self, X, y=None):\n",
    "        self.X = X\n",
    "        self.y = y  \n",
    "\n",
    "    def __len__(self):\n",
    "        return len(self.X)\n",
    "\n",
    "    def __getitem__(self, idx):\n",
    "        if self.y is not None:\n",
    "            # Возвращаем как тензоры\n",
    "            return self.X[idx].float(), self.y[idx].float()\n",
    "        return self.X[idx].float()\n",
    "\n",
    "# Создаём датасеты\n",
    "train_dataset_final = ParisDataset(X_train_tensor_final, y_train_tensor_final)\n",
    "val_dataset_final = ParisDataset(X_val_tensor_final, y_val_tensor_final)  \n",
    "test_dataset_final = ParisDataset(X_test_tensor_final, y_test_tensor_final)"
   ]
  },
  {
   "cell_type": "markdown",
   "id": "23304191-1980-4764-919e-7852cf850161",
   "metadata": {},
   "source": [
    "## Создаим модель на pytorch"
   ]
  },
  {
   "cell_type": "code",
   "execution_count": 37,
   "id": "e377e328-24b9-41a9-82e6-6c6f02dbd9c7",
   "metadata": {
    "scrolled": true
   },
   "outputs": [
    {
     "name": "stdout",
     "output_type": "stream",
     "text": [
      "Epoch 1: Train Loss=4936434.675000, Val Loss=5128773.859375\n",
      "Epoch 2: Train Loss=4935762.780000, Val Loss=5127557.953125\n",
      "Epoch 3: Train Loss=4933869.675000, Val Loss=5124832.375000\n",
      "Epoch 4: Train Loss=4930231.097500, Val Loss=5120087.062500\n",
      "Epoch 5: Train Loss=4924352.852500, Val Loss=5112833.562500\n",
      "Epoch 6: Train Loss=4915759.267500, Val Loss=5102632.171875\n",
      "Epoch 7: Train Loss=4904119.527500, Val Loss=5089157.406250\n",
      "Epoch 8: Train Loss=4889226.465000, Val Loss=5072340.234375\n",
      "Epoch 9: Train Loss=4870985.340000, Val Loss=5052243.656250\n",
      "Epoch 10: Train Loss=4849453.330000, Val Loss=5028858.437500\n",
      "Epoch 11: Train Loss=4824573.530000, Val Loss=5002058.156250\n",
      "Epoch 12: Train Loss=4796498.017500, Val Loss=4971501.015625\n",
      "Epoch 13: Train Loss=4764517.245000, Val Loss=4937204.953125\n",
      "Epoch 14: Train Loss=4728533.027500, Val Loss=4898930.937500\n",
      "Epoch 15: Train Loss=4689079.297500, Val Loss=4856585.093750\n",
      "Epoch 16: Train Loss=4645139.910000, Val Loss=4809993.593750\n",
      "Epoch 17: Train Loss=4597359.035000, Val Loss=4759354.078125\n",
      "Epoch 18: Train Loss=4545122.067500, Val Loss=4704516.531250\n",
      "Epoch 19: Train Loss=4488147.325000, Val Loss=4645566.109375\n",
      "Epoch 20: Train Loss=4427566.652500, Val Loss=4581803.820312\n",
      "Epoch 21: Train Loss=4361740.495000, Val Loss=4512769.882812\n",
      "Epoch 22: Train Loss=4291290.760000, Val Loss=4438577.867188\n",
      "Epoch 23: Train Loss=4215229.585000, Val Loss=4359166.773438\n",
      "Epoch 24: Train Loss=4134538.935000, Val Loss=4274389.578125\n",
      "Epoch 25: Train Loss=4047355.152500, Val Loss=4184079.640625\n",
      "Epoch 26: Train Loss=3956787.122500, Val Loss=4087835.562500\n",
      "Epoch 27: Train Loss=3857719.732500, Val Loss=3985281.476562\n",
      "Epoch 28: Train Loss=3754908.652500, Val Loss=3876058.671875\n",
      "Epoch 29: Train Loss=3646783.487500, Val Loss=3760468.750000\n",
      "Epoch 30: Train Loss=3530699.252500, Val Loss=3638480.914062\n",
      "Epoch 31: Train Loss=3408833.545000, Val Loss=3509731.812500\n",
      "Epoch 32: Train Loss=3281836.815000, Val Loss=3375216.726562\n",
      "Epoch 33: Train Loss=3149703.840000, Val Loss=3234914.000000\n",
      "Epoch 34: Train Loss=3009454.752500, Val Loss=3088227.070312\n",
      "Epoch 35: Train Loss=2867528.992500, Val Loss=2935426.835938\n",
      "Epoch 36: Train Loss=2716621.092500, Val Loss=2776789.617188\n",
      "Epoch 37: Train Loss=2562416.950000, Val Loss=2613068.960938\n",
      "Epoch 38: Train Loss=2405891.895000, Val Loss=2444599.906250\n",
      "Epoch 39: Train Loss=2247869.063750, Val Loss=2271015.968750\n",
      "Epoch 40: Train Loss=2081401.018750, Val Loss=2094692.390625\n",
      "Epoch 41: Train Loss=1917416.382500, Val Loss=1914639.687500\n",
      "Epoch 42: Train Loss=1747957.716250, Val Loss=1733369.722656\n",
      "Epoch 43: Train Loss=1576833.058750, Val Loss=1553431.496094\n",
      "Epoch 44: Train Loss=1415428.995000, Val Loss=1377661.242188\n",
      "Epoch 45: Train Loss=1250078.721250, Val Loss=1207929.275391\n",
      "Epoch 46: Train Loss=1104417.235000, Val Loss=1046885.621094\n",
      "Epoch 47: Train Loss=964610.962500, Val Loss=907894.248047\n",
      "Epoch 48: Train Loss=849609.442500, Val Loss=800763.318359\n",
      "Epoch 49: Train Loss=774004.225000, Val Loss=718847.449219\n",
      "Epoch 50: Train Loss=705891.728750, Val Loss=647784.855469\n",
      "Epoch 51: Train Loss=650919.604688, Val Loss=584533.652344\n",
      "Epoch 52: Train Loss=599245.673125, Val Loss=530851.241211\n",
      "Epoch 53: Train Loss=559547.927188, Val Loss=488278.199219\n",
      "Epoch 54: Train Loss=530615.319688, Val Loss=457284.345703\n",
      "Epoch 55: Train Loss=503153.610312, Val Loss=436063.332031\n",
      "Epoch 56: Train Loss=488058.422500, Val Loss=421349.655273\n",
      "Epoch 57: Train Loss=477299.199688, Val Loss=408555.191406\n",
      "Epoch 58: Train Loss=457964.452188, Val Loss=398793.643555\n",
      "Epoch 59: Train Loss=450901.956875, Val Loss=388921.592773\n",
      "Epoch 60: Train Loss=437884.618750, Val Loss=383378.856445\n",
      "Epoch 61: Train Loss=429891.055625, Val Loss=373249.168945\n",
      "Epoch 62: Train Loss=418759.043125, Val Loss=365801.810547\n",
      "Epoch 63: Train Loss=417300.657813, Val Loss=357432.643555\n",
      "Epoch 64: Train Loss=410064.408438, Val Loss=351436.104492\n",
      "Epoch 65: Train Loss=402020.473750, Val Loss=340529.961914\n",
      "Epoch 66: Train Loss=394537.887500, Val Loss=332356.717773\n",
      "Epoch 67: Train Loss=385777.455937, Val Loss=325145.465820\n",
      "Epoch 68: Train Loss=377552.781250, Val Loss=317425.667969\n",
      "Epoch 69: Train Loss=373537.760937, Val Loss=307937.056152\n",
      "Epoch 70: Train Loss=367875.158125, Val Loss=301205.190918\n",
      "Epoch 71: Train Loss=363154.177344, Val Loss=293836.906250\n",
      "Epoch 72: Train Loss=350139.031250, Val Loss=286428.099609\n",
      "Epoch 73: Train Loss=346639.034062, Val Loss=276918.323730\n",
      "Epoch 74: Train Loss=342660.596250, Val Loss=270721.044922\n",
      "Epoch 75: Train Loss=333912.716562, Val Loss=260469.153809\n",
      "Epoch 76: Train Loss=328581.287500, Val Loss=252368.948730\n",
      "Epoch 77: Train Loss=318564.696719, Val Loss=247330.176270\n",
      "Epoch 78: Train Loss=314951.010781, Val Loss=238388.495117\n",
      "Epoch 79: Train Loss=312824.930156, Val Loss=233651.891113\n",
      "Epoch 80: Train Loss=304803.522969, Val Loss=225448.370117\n",
      "Epoch 81: Train Loss=300113.806406, Val Loss=218015.961914\n",
      "Epoch 82: Train Loss=291675.210000, Val Loss=210863.020996\n",
      "Epoch 83: Train Loss=288689.790469, Val Loss=205870.342285\n",
      "Epoch 84: Train Loss=283711.760469, Val Loss=198613.216797\n",
      "Epoch 85: Train Loss=276739.073437, Val Loss=190880.747559\n",
      "Epoch 86: Train Loss=273961.748437, Val Loss=184560.594727\n",
      "Epoch 87: Train Loss=270085.993437, Val Loss=178277.453613\n",
      "Epoch 88: Train Loss=266341.979219, Val Loss=171705.202637\n",
      "Epoch 89: Train Loss=261316.455313, Val Loss=166564.169434\n",
      "Epoch 90: Train Loss=256122.232344, Val Loss=161155.814697\n",
      "Epoch 91: Train Loss=252976.599688, Val Loss=155060.107666\n",
      "Epoch 92: Train Loss=248954.255938, Val Loss=150980.135986\n",
      "Epoch 93: Train Loss=243087.800781, Val Loss=144965.141602\n",
      "Epoch 94: Train Loss=240470.620156, Val Loss=140005.991699\n",
      "Epoch 95: Train Loss=235293.993125, Val Loss=139365.302002\n",
      "Epoch 96: Train Loss=234212.114531, Val Loss=131743.353760\n",
      "Epoch 97: Train Loss=230625.923594, Val Loss=126769.138184\n",
      "Epoch 98: Train Loss=227213.092344, Val Loss=124748.488770\n",
      "Epoch 99: Train Loss=224421.977187, Val Loss=118531.501953\n",
      "Epoch 100: Train Loss=222498.330625, Val Loss=113622.746338\n",
      "Epoch 101: Train Loss=218146.393437, Val Loss=110440.748047\n",
      "Epoch 102: Train Loss=213918.050156, Val Loss=107787.093994\n",
      "Epoch 103: Train Loss=213125.012187, Val Loss=105222.722656\n",
      "Epoch 104: Train Loss=210342.219688, Val Loss=100184.577148\n",
      "Epoch 105: Train Loss=208286.490313, Val Loss=95065.778564\n",
      "Epoch 106: Train Loss=204415.762187, Val Loss=92007.605713\n",
      "Epoch 107: Train Loss=206040.903125, Val Loss=89188.482422\n",
      "Epoch 108: Train Loss=202203.267031, Val Loss=85691.126953\n",
      "Epoch 109: Train Loss=201104.864219, Val Loss=84193.528564\n",
      "Epoch 110: Train Loss=198215.221562, Val Loss=79631.499634\n",
      "Epoch 111: Train Loss=196000.116250, Val Loss=76974.714478\n",
      "Epoch 112: Train Loss=191087.715781, Val Loss=75609.700317\n",
      "Epoch 113: Train Loss=190400.919531, Val Loss=75608.485352\n",
      "Epoch 114: Train Loss=188833.022500, Val Loss=69183.328125\n",
      "Epoch 115: Train Loss=187063.040625, Val Loss=66195.727539\n",
      "Epoch 116: Train Loss=186694.055000, Val Loss=65416.845581\n",
      "Epoch 117: Train Loss=186455.316094, Val Loss=61541.956787\n",
      "Epoch 118: Train Loss=182791.480469, Val Loss=60379.190552\n",
      "Epoch 119: Train Loss=183115.416719, Val Loss=60085.361328\n",
      "Epoch 120: Train Loss=180345.815938, Val Loss=56976.673706\n",
      "Epoch 121: Train Loss=180655.666563, Val Loss=56028.175171\n",
      "Epoch 122: Train Loss=178836.914922, Val Loss=52432.391724\n",
      "Epoch 123: Train Loss=178019.851562, Val Loss=51991.869873\n",
      "Epoch 124: Train Loss=173456.367422, Val Loss=52266.632812\n",
      "Epoch 125: Train Loss=177085.732813, Val Loss=46187.646606\n",
      "Epoch 126: Train Loss=173530.752422, Val Loss=44171.046326\n",
      "Epoch 127: Train Loss=172859.070000, Val Loss=44143.968323\n",
      "Epoch 128: Train Loss=170224.631016, Val Loss=43442.303894\n",
      "Epoch 129: Train Loss=171674.202344, Val Loss=40152.932129\n",
      "Epoch 130: Train Loss=168324.478750, Val Loss=38167.898804\n",
      "Epoch 131: Train Loss=169376.324531, Val Loss=38947.068420\n",
      "Epoch 132: Train Loss=167058.423125, Val Loss=38765.583923\n",
      "Epoch 133: Train Loss=166814.613359, Val Loss=37320.250366\n",
      "Epoch 134: Train Loss=164818.086641, Val Loss=33738.417664\n",
      "Epoch 135: Train Loss=165332.399453, Val Loss=33732.568970\n",
      "Epoch 136: Train Loss=162277.085625, Val Loss=30903.918640\n",
      "Epoch 137: Train Loss=160731.934766, Val Loss=30381.798584\n",
      "Epoch 138: Train Loss=162678.840469, Val Loss=37824.961060\n",
      "Epoch 139: Train Loss=164369.453047, Val Loss=30114.894409\n",
      "Epoch 140: Train Loss=160015.038906, Val Loss=37708.363464\n",
      "Epoch 141: Train Loss=161210.421094, Val Loss=30870.846191\n",
      "Epoch 142: Train Loss=161992.561719, Val Loss=25123.226593\n",
      "Epoch 143: Train Loss=160312.003203, Val Loss=26560.630432\n",
      "Epoch 144: Train Loss=158577.417422, Val Loss=24311.968384\n",
      "Epoch 145: Train Loss=157767.487500, Val Loss=27615.008728\n",
      "Epoch 146: Train Loss=158776.525547, Val Loss=22353.437012\n",
      "Epoch 147: Train Loss=158060.355859, Val Loss=27915.029419\n",
      "Epoch 148: Train Loss=157580.951016, Val Loss=25393.590271\n",
      "Epoch 149: Train Loss=157835.306250, Val Loss=22762.745117\n",
      "Epoch 150: Train Loss=153197.948125, Val Loss=38745.671021\n",
      "Epoch 151: Train Loss=155006.252266, Val Loss=21966.603271\n",
      "Epoch 152: Train Loss=159038.478594, Val Loss=18892.763062\n",
      "Epoch 153: Train Loss=152829.310312, Val Loss=30900.662109\n",
      "Epoch 154: Train Loss=152841.322500, Val Loss=22152.212097\n",
      "Epoch 155: Train Loss=154455.595000, Val Loss=25638.887451\n",
      "Epoch 156: Train Loss=155348.158672, Val Loss=25851.897949\n",
      "Epoch 157: Train Loss=153634.494297, Val Loss=19028.628052\n",
      "Epoch 158: Train Loss=150007.264453, Val Loss=31553.245850\n",
      "Epoch 159: Train Loss=153093.243828, Val Loss=27092.523621\n",
      "Epoch 160: Train Loss=154132.395469, Val Loss=25345.535278\n",
      "Epoch 161: Train Loss=152222.730078, Val Loss=18932.371033\n",
      "Epoch 162: Train Loss=152451.859844, Val Loss=25153.976379\n",
      "Epoch 163: Train Loss=152621.413438, Val Loss=23913.401062\n",
      "Epoch 164: Train Loss=149252.381641, Val Loss=13704.388000\n",
      "Epoch 165: Train Loss=152838.491797, Val Loss=16979.472137\n",
      "Epoch 166: Train Loss=154267.616563, Val Loss=14607.418945\n",
      "Epoch 167: Train Loss=150339.716328, Val Loss=19649.700439\n",
      "Epoch 168: Train Loss=148518.218359, Val Loss=27049.430359\n",
      "Epoch 169: Train Loss=151920.029219, Val Loss=25055.618530\n",
      "Epoch 170: Train Loss=150556.209531, Val Loss=21541.246460\n",
      "Epoch 171: Train Loss=151499.175313, Val Loss=13183.486404\n",
      "Epoch 172: Train Loss=151867.104844, Val Loss=13970.665710\n",
      "Epoch 173: Train Loss=152087.303437, Val Loss=15391.775665\n",
      "Epoch 174: Train Loss=148576.848203, Val Loss=12157.388306\n",
      "Epoch 175: Train Loss=149693.947422, Val Loss=13820.898621\n",
      "Epoch 176: Train Loss=148761.935000, Val Loss=20522.845886\n",
      "Epoch 177: Train Loss=149729.800781, Val Loss=11443.801300\n",
      "Epoch 178: Train Loss=148733.669766, Val Loss=18168.431244\n",
      "Epoch 179: Train Loss=147981.085469, Val Loss=29887.103516\n",
      "Epoch 180: Train Loss=150933.014219, Val Loss=10368.746231\n",
      "Epoch 181: Train Loss=153872.228437, Val Loss=16049.206512\n",
      "Epoch 182: Train Loss=149638.077187, Val Loss=24968.478699\n",
      "Epoch 183: Train Loss=148770.469609, Val Loss=17861.950012\n",
      "Epoch 184: Train Loss=150920.932266, Val Loss=16360.143585\n",
      "Epoch 185: Train Loss=149693.677266, Val Loss=10129.401535\n",
      "Epoch 186: Train Loss=150652.218750, Val Loss=23941.130981\n",
      "Epoch 187: Train Loss=148068.772656, Val Loss=20810.257996\n",
      "Epoch 188: Train Loss=148267.370000, Val Loss=14101.905701\n",
      "Epoch 189: Train Loss=147868.846797, Val Loss=15679.450623\n",
      "Epoch 190: Train Loss=147931.607344, Val Loss=15393.601898\n",
      "Epoch 191: Train Loss=149252.922187, Val Loss=10028.559174\n",
      "Epoch 192: Train Loss=148606.018672, Val Loss=10884.487000\n",
      "Epoch 193: Train Loss=151118.211797, Val Loss=11566.337585\n",
      "Epoch 194: Train Loss=148655.362344, Val Loss=21612.632507\n",
      "Epoch 195: Train Loss=147472.830156, Val Loss=9856.383423\n",
      "Epoch 196: Train Loss=145564.602187, Val Loss=12717.263489\n",
      "Epoch 197: Train Loss=148919.467031, Val Loss=19831.336121\n",
      "Epoch 198: Train Loss=147684.313672, Val Loss=21024.796997\n",
      "Epoch 199: Train Loss=146075.406953, Val Loss=9088.119659\n",
      "Epoch 200: Train Loss=147333.043750, Val Loss=11573.094940\n",
      "Epoch 201: Train Loss=147775.350781, Val Loss=13619.780579\n",
      "Epoch 202: Train Loss=150367.820469, Val Loss=14828.335297\n",
      "Epoch 203: Train Loss=143536.950313, Val Loss=9882.251678\n",
      "Epoch 204: Train Loss=146277.687578, Val Loss=10773.877045\n",
      "Epoch 205: Train Loss=147068.624766, Val Loss=15786.687408\n",
      "Epoch 206: Train Loss=145347.050234, Val Loss=8367.618027\n",
      "Epoch 207: Train Loss=146638.742266, Val Loss=20431.126038\n",
      "Epoch 208: Train Loss=145659.350625, Val Loss=20776.817261\n",
      "Epoch 209: Train Loss=147826.151016, Val Loss=13201.649445\n",
      "Epoch 210: Train Loss=147821.512344, Val Loss=8255.873962\n",
      "Epoch 211: Train Loss=147121.683359, Val Loss=11028.581787\n",
      "Epoch 212: Train Loss=145080.743359, Val Loss=20275.916870\n",
      "Epoch 213: Train Loss=146901.265234, Val Loss=12168.973969\n",
      "Epoch 214: Train Loss=147467.513828, Val Loss=8761.613907\n",
      "Epoch 215: Train Loss=146337.240859, Val Loss=12209.227509\n",
      "Epoch 216: Train Loss=147408.087578, Val Loss=16318.401123\n",
      "Epoch 217: Train Loss=145098.198984, Val Loss=26064.430054\n",
      "Epoch 218: Train Loss=143190.629844, Val Loss=14355.283844\n",
      "Epoch 219: Train Loss=149354.918516, Val Loss=19297.938843\n",
      "Epoch 220: Train Loss=148363.640625, Val Loss=22260.810303\n",
      "Epoch 221: Train Loss=146856.938047, Val Loss=9236.274887\n",
      "Epoch 222: Train Loss=146077.182031, Val Loss=8728.620377\n",
      "Epoch 223: Train Loss=143939.826719, Val Loss=10592.193146\n",
      "Epoch 224: Train Loss=145719.701641, Val Loss=14899.820557\n",
      "Epoch 225: Train Loss=147474.183984, Val Loss=11992.089264\n",
      "Epoch 226: Train Loss=146085.758281, Val Loss=18893.669434\n",
      "Epoch 227: Train Loss=148453.377891, Val Loss=16013.474091\n",
      "Epoch 228: Train Loss=146758.625625, Val Loss=11111.876587\n",
      "Epoch 229: Train Loss=144379.021797, Val Loss=20005.463928\n",
      "Epoch 230: Train Loss=148428.926484, Val Loss=11584.326202\n",
      "Epoch 231: Train Loss=148815.527031, Val Loss=13407.466400\n",
      "Epoch 232: Train Loss=145742.711797, Val Loss=6991.492981\n",
      "Epoch 233: Train Loss=143586.479844, Val Loss=12846.818237\n",
      "Epoch 234: Train Loss=145166.852031, Val Loss=18979.646790\n",
      "Epoch 235: Train Loss=147702.912422, Val Loss=10148.432983\n",
      "Epoch 236: Train Loss=148396.394453, Val Loss=14208.657623\n",
      "Epoch 237: Train Loss=145140.705469, Val Loss=10630.011139\n",
      "Epoch 238: Train Loss=149769.650156, Val Loss=19043.241516\n",
      "Epoch 239: Train Loss=146478.392656, Val Loss=8801.592957\n",
      "Epoch 240: Train Loss=150149.634844, Val Loss=11987.494263\n",
      "Epoch 241: Train Loss=147310.433906, Val Loss=12708.607361\n",
      "Epoch 242: Train Loss=146374.963125, Val Loss=7958.278442\n",
      "Epoch 243: Train Loss=146711.409844, Val Loss=17119.265503\n",
      "Epoch 244: Train Loss=147688.988437, Val Loss=11916.301941\n",
      "Epoch 245: Train Loss=147823.043750, Val Loss=6411.279816\n",
      "Epoch 246: Train Loss=147611.758047, Val Loss=20101.659363\n",
      "Epoch 247: Train Loss=145060.018750, Val Loss=6955.664322\n",
      "Epoch 248: Train Loss=147479.822500, Val Loss=12119.904144\n",
      "Epoch 249: Train Loss=146083.393281, Val Loss=15692.484894\n",
      "Epoch 250: Train Loss=146865.476484, Val Loss=16067.098145\n",
      "Epoch 251: Train Loss=148092.336094, Val Loss=20828.014954\n",
      "Epoch 252: Train Loss=146879.552578, Val Loss=11885.823090\n",
      "Epoch 253: Train Loss=144948.188125, Val Loss=6748.112106\n",
      "Epoch 254: Train Loss=145227.419063, Val Loss=9002.902451\n",
      "Epoch 255: Train Loss=147609.872734, Val Loss=16504.089905\n",
      "Epoch 256: Train Loss=145645.969922, Val Loss=10983.558655\n",
      "Epoch 257: Train Loss=145020.923359, Val Loss=18911.372070\n",
      "Epoch 258: Train Loss=146225.105234, Val Loss=11893.735565\n",
      "Epoch 259: Train Loss=144649.530703, Val Loss=26942.518738\n",
      "Epoch 260: Train Loss=145813.296719, Val Loss=7344.667999\n",
      "Epoch 261: Train Loss=145462.555234, Val Loss=10750.600311\n",
      "Epoch 262: Train Loss=145097.335938, Val Loss=16578.419525\n",
      "Epoch 263: Train Loss=146602.776797, Val Loss=22962.202698\n",
      "Epoch 264: Train Loss=148474.976562, Val Loss=13536.884277\n",
      "Epoch 265: Train Loss=144873.295859, Val Loss=18210.605774\n",
      "Epoch 266: Train Loss=146097.514766, Val Loss=6863.462830\n",
      "Epoch 267: Train Loss=146379.437969, Val Loss=10021.537750\n",
      "Epoch 268: Train Loss=145175.576719, Val Loss=8312.710724\n",
      "Epoch 269: Train Loss=142493.165469, Val Loss=7588.285660\n",
      "Epoch 270: Train Loss=145974.084531, Val Loss=17305.319946\n",
      "Epoch 271: Train Loss=147894.842500, Val Loss=17543.135132\n",
      "Epoch 272: Train Loss=147155.466172, Val Loss=15478.567810\n",
      "Epoch 273: Train Loss=146878.365234, Val Loss=6277.152664\n",
      "Epoch 274: Train Loss=145593.517734, Val Loss=5458.077713\n",
      "Epoch 275: Train Loss=146891.076328, Val Loss=15244.881561\n",
      "Epoch 276: Train Loss=143785.158984, Val Loss=9691.124268\n",
      "Epoch 277: Train Loss=145291.323984, Val Loss=9222.855743\n",
      "Epoch 278: Train Loss=146245.808906, Val Loss=9505.712585\n",
      "Epoch 279: Train Loss=145284.912266, Val Loss=9864.351410\n",
      "Epoch 280: Train Loss=146283.119453, Val Loss=5652.819778\n",
      "Epoch 281: Train Loss=147324.441250, Val Loss=9969.948181\n",
      "Epoch 282: Train Loss=144266.001172, Val Loss=13892.587555\n",
      "Epoch 283: Train Loss=146048.474453, Val Loss=6457.330200\n",
      "Epoch 284: Train Loss=146148.727109, Val Loss=12141.177765\n",
      "Epoch 285: Train Loss=146157.561250, Val Loss=10514.317535\n",
      "Epoch 286: Train Loss=148056.130391, Val Loss=26346.908508\n",
      "Epoch 287: Train Loss=145134.768906, Val Loss=13431.763367\n",
      "Epoch 288: Train Loss=146074.316797, Val Loss=27391.085205\n",
      "Epoch 289: Train Loss=145944.559453, Val Loss=5727.181717\n",
      "Epoch 290: Train Loss=146273.304766, Val Loss=6437.522659\n",
      "Epoch 291: Train Loss=146884.419766, Val Loss=19691.469604\n",
      "Epoch 292: Train Loss=145085.439844, Val Loss=10184.882935\n",
      "Epoch 293: Train Loss=146854.532734, Val Loss=12115.600769\n",
      "Epoch 294: Train Loss=142759.429609, Val Loss=23437.481262\n",
      "Epoch 295: Train Loss=144153.578359, Val Loss=21952.826233\n",
      "Epoch 296: Train Loss=145301.351719, Val Loss=18601.981628\n",
      "Epoch 297: Train Loss=144071.207422, Val Loss=9971.733215\n",
      "Epoch 298: Train Loss=146518.501797, Val Loss=26450.778381\n",
      "Epoch 299: Train Loss=147175.669063, Val Loss=14599.082611\n",
      "Epoch 300: Train Loss=144998.037422, Val Loss=9065.945938\n",
      "Epoch 301: Train Loss=145113.204141, Val Loss=9755.875641\n",
      "Epoch 302: Train Loss=144765.411484, Val Loss=23160.644897\n",
      "Epoch 303: Train Loss=144673.855859, Val Loss=5684.872620\n",
      "Epoch 304: Train Loss=146122.856719, Val Loss=9969.139557\n",
      "⏹️ Early stopping at epoch 304\n",
      "✅ Загружены лучшие веса модели.\n",
      "📁 Модель сохранена в 'tensorboard/2025-03-27_16-15-30/final_model.pth'\n"
     ]
    }
   ],
   "source": [
    "# === 1. Устанавливаем лучшие параметры ===\n",
    "best_config = {\n",
    "    \"learning_rate\": 0.001,\n",
    "    \"batch_size\": 64,\n",
    "    \"dropout\": 0.1044,  # округляем до 4 знаков\n",
    "    \"activation\": \"relu\",\n",
    "    \"num_layers\": 3,\n",
    "    \"optimizer\": \"Adam\",\n",
    "    \"layers\": 250\n",
    "}\n",
    "\n",
    "# === 2. Определяем устройство ===\n",
    "device = \"cuda\" if torch.cuda.is_available() else \"cpu\"\n",
    "\n",
    "# === 3. Подготовка данных ===\n",
    "train_loader_final = DataLoader(train_dataset_final, batch_size=best_config[\"batch_size\"], shuffle=True)\n",
    "test_loader_final = DataLoader(test_dataset_final, batch_size=best_config[\"batch_size\"], shuffle=False)\n",
    "\n",
    "# === 4. Определяем модель ===\n",
    "class SimpleNN(nn.Module):\n",
    "    def __init__(self, hidden_size, dropout, activation, input_dim):\n",
    "        super(SimpleNN, self).__init__()\n",
    "        \n",
    "        # Первый слой\n",
    "        self.layer1 = nn.Linear(input_dim, hidden_size)\n",
    "        self.activation1 = nn.ReLU() if activation == \"relu\" else nn.Tanh()\n",
    "        self.dropout1 = nn.Dropout(dropout)\n",
    "\n",
    "        # Второй слой\n",
    "        self.layer2 = nn.Linear(hidden_size, hidden_size)\n",
    "        self.activation2 = nn.ReLU() if activation == \"relu\" else nn.Tanh()\n",
    "        self.dropout2 = nn.Dropout(dropout)\n",
    "\n",
    "        # Третий слой\n",
    "        self.layer3 = nn.Linear(hidden_size, 1)  # Выходной слой (для регрессии)\n",
    "    \n",
    "    def forward(self, x):\n",
    "        x = self.dropout1(self.activation1(self.layer1(x)))\n",
    "        x = self.dropout2(self.activation2(self.layer2(x)))\n",
    "        x = self.layer3(x)\n",
    "        return x\n",
    "\n",
    "# Инициализируем модель \n",
    "model_final = SimpleNN(\n",
    "    hidden_size=best_config[\"layers\"],\n",
    "    dropout=best_config[\"dropout\"],\n",
    "    activation=best_config[\"activation\"],\n",
    "    input_dim=X_final.shape[1]  \n",
    ").to(device)\n",
    "\n",
    "# === 5. Определяем функцию потерь и оптимизатор ===\n",
    "criterion = nn.SmoothL1Loss()  # Huber Loss\n",
    "optimizer = optim.Adam(model_final.parameters(), lr=best_config[\"learning_rate\"])\n",
    "\n",
    "# === 6. Создаём папку для логов TensorBoard ===\n",
    "log_dir = f\"tensorboard/{datetime.now().strftime('%Y-%m-%d_%H-%M-%S')}\"\n",
    "os.makedirs(log_dir, exist_ok=True)\n",
    "writer = SummaryWriter(log_dir=log_dir)\n",
    "\n",
    "# === 7. Обучение модели ===\n",
    "epochs = 600\n",
    "best_val_loss = float(\"inf\")\n",
    "patience = 30\n",
    "epochs_no_improve = 0\n",
    "best_model_wts = None\n",
    "train_losses_final = []\n",
    "val_losses_final = []\n",
    "\n",
    "for epoch in range(epochs):\n",
    "    model_final.train()\n",
    "    running_loss = 0.0\n",
    "    \n",
    "    for inputs, labels in train_loader_final:\n",
    "        inputs, labels = inputs.to(device), labels.to(device)\n",
    "        optimizer.zero_grad()\n",
    "        outputs = model_final(inputs)\n",
    "        loss = criterion(outputs, labels)\n",
    "        loss.backward()\n",
    "        torch.nn.utils.clip_grad_value_(model_final.parameters(), clip_value=1.0)  # ограничение градиентов\n",
    "        optimizer.step()\n",
    "        running_loss += loss.item()\n",
    "    \n",
    "    avg_train_loss = running_loss / len(train_loader_final)\n",
    "    train_losses_final.append(avg_train_loss)  # Добавляем в список\n",
    "\n",
    "    # === 8. Валидация ===\n",
    "    model_final.eval()\n",
    "    val_loss = 0.0\n",
    "    \n",
    "    with torch.no_grad():\n",
    "        for inputs, labels in test_loader_final:\n",
    "            inputs, labels = inputs.to(device), labels.to(device)\n",
    "            outputs = model_final(inputs)\n",
    "            loss = criterion(outputs, labels)\n",
    "            val_loss += loss.item()\n",
    "    \n",
    "    avg_val_loss = val_loss / len(test_loader_final)\n",
    "\n",
    "    val_losses_final.append(avg_val_loss)  # Добавляем в список\n",
    "\n",
    "    print(f\"Epoch {epoch+1}: Train Loss={avg_train_loss:.6f}, Val Loss={avg_val_loss:.6f}\")\n",
    "\n",
    "    # === 9. Логируем данные в TensorBoard ===\n",
    "    writer.add_scalar(\"Loss/Train\", avg_train_loss, epoch)\n",
    "    writer.add_scalar(\"Loss/Validation\", avg_val_loss, epoch)\n",
    "\n",
    "    # Логируем градиенты\n",
    "    for name, param in model_final.named_parameters():\n",
    "        if param.grad is not None:\n",
    "            writer.add_histogram(f\"Gradients/{name}\", param.grad, epoch)\n",
    "\n",
    "    # Ранняя остановка\n",
    "    if avg_val_loss < best_val_loss:\n",
    "        best_val_loss = avg_val_loss\n",
    "        epochs_no_improve = 0\n",
    "        best_model_wts = model_final.state_dict()  # Сохраняем лучшие веса\n",
    "    else:\n",
    "        epochs_no_improve += 1\n",
    "    \n",
    "    if epochs_no_improve >= patience:\n",
    "        print(f\"⏹️ Early stopping at epoch {epoch+1}\")\n",
    "        break\n",
    "\n",
    "# === 10. Загружаем лучшие веса модели ===\n",
    "if best_model_wts is not None:\n",
    "    model_final.load_state_dict(best_model_wts)\n",
    "    print(\"✅ Загружены лучшие веса модели.\")\n",
    "\n",
    "# === 11. Сохраняем обученную модель в папку с логами ===\n",
    "model_path = os.path.join(log_dir, \"final_model.pth\")\n",
    "torch.save(model_final.state_dict(), model_path)\n",
    "print(f\"📁 Модель сохранена в '{model_path}'\")\n",
    "\n",
    "# Закрываем TensorBoard writer\n",
    "writer.close()"
   ]
  },
  {
   "cell_type": "markdown",
   "id": "e71718bd-0948-4f7c-9c55-e58a1fc3851f",
   "metadata": {},
   "source": [
    "### Строим графики и получаем метрики для оценки получившейся модели"
   ]
  },
  {
   "cell_type": "code",
   "execution_count": 38,
   "id": "c9795905-3302-47aa-9947-11da8ae53cdb",
   "metadata": {},
   "outputs": [
    {
     "data": {
      "image/png": "[encoded data removed]",
      "text/plain": [
       "<Figure size 640x480 with 1 Axes>"
      ]
     },
     "metadata": {},
     "output_type": "display_data"
    }
   ],
   "source": [
    "# График ошибки\n",
    "plt.plot(train_losses_final, label='Train Loss')\n",
    "plt.plot(val_losses_final, label='Validation Loss')\n",
    "plt.xlabel('Epochs')\n",
    "plt.ylabel('Loss (SmoothL1Loss)')\n",
    "plt.legend()\n",
    "plt.title('График ошибки (Loss)')\n",
    "plt.show()"
   ]
  },
  {
   "cell_type": "code",
   "execution_count": 40,
   "id": "cac744ac-2aae-43e8-83d1-0ad015a17c0e",
   "metadata": {},
   "outputs": [
    {
     "name": "stdout",
     "output_type": "stream",
     "text": [
      "Test Loss: 130053776.000000\n",
      "Mean Absolute Error (MAE): 9931.415155\n",
      "R²: 0.999985\n"
     ]
    },
    {
     "data": {
      "image/png": "[encoded data removed]",
      "text/plain": [
       "<Figure size 640x480 with 1 Axes>"
      ]
     },
     "metadata": {},
     "output_type": "display_data"
    }
   ],
   "source": [
    "# Переводим модель в режим оценки\n",
    "model_final.eval()\n",
    "\n",
    "# Переменная для хранения общей потери\n",
    "test_loss = 0.0\n",
    "n_samples = 0\n",
    "\n",
    "# Переменные для расчетов MAE и R²\n",
    "y_true = torch.tensor(y_test_final.values)  # Преобразуем pandas.Series в torch.Tensor\n",
    "y_pred_final = []\n",
    "\n",
    "# Включаем отключение градиентов\n",
    "with torch.no_grad():\n",
    "    # Предсказания\n",
    "    y_pred_tensor = model_final(X_test_tensor_final.to(device))  \n",
    "    y_pred_tensor = y_pred_tensor.cpu().numpy()  # Переводим предсказания в numpy\n",
    "    y_pred_final = y_pred_tensor\n",
    "\n",
    "    # Вычисляем тестовую потерю\n",
    "    criterion = nn.MSELoss()  # Потери для регрессии\n",
    "    loss = criterion(torch.tensor(y_pred_final), y_test_tensor_final)  # Включаем реальное y\n",
    "    test_loss += loss.item() * y_test_tensor_final.size(0)  # Умножаем на размер батча\n",
    "    n_samples += y_test_tensor_final.size(0)\n",
    "\n",
    "    # Средняя потеря\n",
    "    avg_test_loss = test_loss / n_samples\n",
    "\n",
    "# Вычисляем MAE и R²\n",
    "mae = mean_absolute_error(y_true.numpy(), y_pred_final)  # Конвертируем y_true в numpy\n",
    "r2 = r2_score(y_true.numpy(), y_pred_final)\n",
    "\n",
    "# Выводим среднюю потерю, MAE и R²\n",
    "print(f\"Test Loss: {avg_test_loss:.6f}\")\n",
    "print(f\"Mean Absolute Error (MAE): {mae:.6f}\")\n",
    "print(f\"R²: {r2:.6f}\")\n",
    "\n",
    "# Строим график\n",
    "plt.scatter(y_true.numpy(), y_pred_final)\n",
    "plt.xlabel('Фактические значения')\n",
    "plt.ylabel('Предсказанные значения')\n",
    "plt.title('Сравнение предсказаний с реальными значениями')\n",
    "\n",
    "# Линия идеального предсказания\n",
    "plt.plot([min(y_true.numpy()), max(y_true.numpy())], [min(y_true.numpy()), max(y_true.numpy())], color='red') \n",
    "\n",
    "plt.show()\n"
   ]
  },
  {
   "cell_type": "markdown",
   "id": "0f0f48a0-e365-4e3c-ba3e-e188718018aa",
   "metadata": {},
   "source": [
    "### Вывод:\n",
    "Модель с меньшим числом фич (оставлены только ключевые) работает лучше, так как:\n",
    "Потеря (Loss) снизилась: 2.58 млрд → 206 млн\n",
    "MAE уменьшился: 43746 → 12298\n",
    "R² вырос (стал ближе к 1)\n",
    "Это подтверждает, что избыточные фичи вносили шум и мешали модели!"
   ]
  },
  {
   "cell_type": "markdown",
   "id": "f2fc4911-bf10-4c7a-914d-6da0730b5bfe",
   "metadata": {},
   "source": [
    "### Попробуем протестировать нашу модель через кроссвалидацию"
   ]
  },
  {
   "cell_type": "code",
   "execution_count": 208,
   "id": "75bab42f-4a6c-4573-927e-eed1ba8c507f",
   "metadata": {},
   "outputs": [],
   "source": [
    "# Определяем устройство\n",
    "device = torch.device(\"cuda\" if torch.cuda.is_available() else \"cpu\")\n",
    "\n",
    "# Класс для оборачивания нашей модели\n",
    "class PyTorchRegressor(BaseEstimator, RegressorMixin):\n",
    "    def __init__(self, model, learning_rate=0.001, epochs=100):\n",
    "        self.model = model.to(device)  # Переносим модель на устройство\n",
    "        self.learning_rate = learning_rate\n",
    "        self.epochs = epochs\n",
    "        self.criterion = nn.MSELoss()\n",
    "        self.optimizer = optim.Adam(self.model.parameters(), lr=self.learning_rate)\n",
    "\n",
    "    def fit(self, X, y):\n",
    "        # Переносим данные на устройство\n",
    "        X_tensor = torch.tensor(X, dtype=torch.float32).to(device)\n",
    "        y_tensor = torch.tensor(y.values, dtype=torch.float32).unsqueeze(1).to(device)\n",
    "\n",
    "        # Обучаем модель\n",
    "        self.model.train()\n",
    "        for epoch in range(self.epochs):\n",
    "            self.optimizer.zero_grad()\n",
    "            y_pred = self.model(X_tensor)\n",
    "            loss = self.criterion(y_pred, y_tensor)\n",
    "            loss.backward()\n",
    "            self.optimizer.step()\n",
    "        return self\n",
    "\n",
    "    def predict(self, X):\n",
    "        # Переносим данные на устройство\n",
    "        X_tensor = torch.tensor(X, dtype=torch.float32).to(device)\n",
    "        self.model.eval()\n",
    "        with torch.no_grad():\n",
    "            y_pred = self.model(X_tensor)\n",
    "        return y_pred.cpu().numpy()  # Возвращаем результат на CPU для совместимости с numpy"
   ]
  },
  {
   "cell_type": "code",
   "execution_count": 209,
   "id": "f257b698-9eba-40f9-9574-087a2e0c772a",
   "metadata": {},
   "outputs": [
    {
     "name": "stdout",
     "output_type": "stream",
     "text": [
      "Средняя MSE на кросс-валидации: 106784390.18670586\n"
     ]
    }
   ],
   "source": [
    "# Теперь используем этот регрессор в cross_val_score\n",
    "model_pytorch = PyTorchRegressor(model=model_final, learning_rate=0.001, epochs=100)\n",
    "\n",
    "mse_scorer = make_scorer(mean_squared_error)\n",
    "\n",
    "cv_scores = cross_val_score(model_pytorch, X_train_scaled, y_train_final, cv=5, scoring=mse_scorer)\n",
    "\n",
    "print(f\"Средняя MSE на кросс-валидации: {np.mean(cv_scores)}\")"
   ]
  },
  {
   "cell_type": "code",
   "execution_count": 210,
   "id": "6028b3fa-c70f-4860-a35d-877626df93b1",
   "metadata": {},
   "outputs": [
    {
     "name": "stdout",
     "output_type": "stream",
     "text": [
      "Средний R² на кросс-валидации: 0.9999870136103077\n"
     ]
    }
   ],
   "source": [
    "cv_scores = cross_val_score(model_pytorch, X_train_scaled, y_train_final, cv=5, scoring='r2')\n",
    "\n",
    "# Среднее значение R² на кросс-валидации\n",
    "print(f\"Средний R² на кросс-валидации: {np.mean(cv_scores)}\")\n"
   ]
  },
  {
   "cell_type": "markdown",
   "id": "847a687f-df9a-44a4-82c4-0c314091edd2",
   "metadata": {},
   "source": [
    "## Пропобуем random forest"
   ]
  },
  {
   "cell_type": "code",
   "execution_count": 41,
   "id": "f59ca5c4-2fc2-472a-bdd7-ecf79f237a3d",
   "metadata": {},
   "outputs": [
    {
     "data": {
      "image/png": "[encoded data removed]",
      "text/plain": [
       "<Figure size 800x270 with 2 Axes>"
      ]
     },
     "metadata": {},
     "output_type": "display_data"
    }
   ],
   "source": [
    "# Обучаем RF\n",
    "feature_names = X_final.columns\n",
    "\n",
    "# Обучаем модель RandomForest\n",
    "rf_model = RandomForestRegressor(n_estimators=100, random_state=42)\n",
    "rf_model.fit(X_train_scaled, y_train_final)\n",
    "\n",
    "# Используем TreeExplainer\n",
    "rf_explainer = shap.TreeExplainer(rf_model)\n",
    "shap_values_rf = rf_explainer.shap_values(X_test_scaled)\n",
    "\n",
    "# Визуализация\n",
    "shap.summary_plot(shap_values_rf, X_test_scaled, feature_names=feature_names)"
   ]
  },
  {
   "cell_type": "code",
   "execution_count": 42,
   "id": "554e4e7c-7121-4fbb-ba17-fcfd67b18cdf",
   "metadata": {},
   "outputs": [
    {
     "name": "stdout",
     "output_type": "stream",
     "text": [
      "Средняя MSE для Random Forest: 16699149.96889502\n",
      "Средняя MAE для Random Forest: 3268.9240400000567\n",
      "Средний R² для Random Forest: 0.9999980934336002\n"
     ]
    }
   ],
   "source": [
    "# Прогнозируем на тестовых данных\n",
    "y_pred_rf = rf_model.predict(X_test_scaled)\n",
    "\n",
    "# Вычисляем MSE, MAE, и R² для случайного леса\n",
    "mse_rf = mean_squared_error(y_test_final, y_pred_rf)\n",
    "mae_rf = mean_absolute_error(y_test_final, y_pred_rf)\n",
    "r2_rf = r2_score(y_test_final, y_pred_rf)\n",
    "\n",
    "# Выводим результаты\n",
    "print(f\"Средняя MSE для Random Forest: {mse_rf}\")\n",
    "print(f\"Средняя MAE для Random Forest: {mae_rf}\")\n",
    "print(f\"Средний R² для Random Forest: {r2_rf}\")"
   ]
  },
  {
   "cell_type": "markdown",
   "id": "c0de1981-4461-4cd4-a49b-1d87aad49368",
   "metadata": {},
   "source": [
    "### Вывод: Судя по метрикам, Random Forest (RF) работает значительно лучше по сравнению с основной моделью:\n",
    "Ошибка (MSE) в RF намного ниже:\n",
    "модель: 106.78 млн\n",
    "RF: 16.69 млн (в 6.4 раза меньше)\n",
    "MAE в RF также значительно ниже:\n",
    "модель: 12 298\n",
    "RF: 3 269 (в 3.7 раза меньше)\n",
    "R² у RF чуть выше, но обе модели очень точны:\n",
    "модель: 0.999987\n",
    "RF: 0.999998 (разница минимальна)"
   ]
  },
  {
   "cell_type": "markdown",
   "id": "8e153565-ae62-4ff3-8c37-c9ded751375b",
   "metadata": {},
   "source": [
    "### Вывод: \n",
    "- Первая модель (избыточные фичи)\n",
    "Loss: 2.58 млрд\n",
    "MAE: 43 746\n",
    "R²: 0.999705\n",
    "\n",
    "- Вторая модель (очищенные фичи,  основная)\n",
    "Loss: 206 млн (в 12.5 раз меньше!)\n",
    "MAE: 12 298 (в 3.5 раза меньше)\n",
    "R²: 0.999976 (значительно ближе к 1)\n",
    "\n",
    "- Random Forest\n",
    "MSE (аналог Loss): 16.69 млн (ещё в 12 раз меньше)\n",
    "MAE: 3 269 (в 3.7 раза лучше, чем у нашей модели)\n",
    "R²: 0.999998\n",
    "\n",
    "\n",
    "Вывод по всем моделям:\n",
    "Уборка фичей резко улучшила модель.\n",
    "Но Random Forest ещё лучше: он имеет наименьшую ошибку и лучшее обобщение."
   ]
  },
  {
   "cell_type": "markdown",
   "id": "7c3ca00b-654d-498f-a0a4-9f8a846c69dc",
   "metadata": {},
   "source": [
    "## Попробуем еще XBoost: "
   ]
  },
  {
   "cell_type": "code",
   "execution_count": 43,
   "id": "75ce49ba-3734-49b5-9386-d5800bbdcbd1",
   "metadata": {},
   "outputs": [
    {
     "name": "stdout",
     "output_type": "stream",
     "text": [
      "XGBoost MSE: 196259199.3346828\n",
      "XGBoost MAE: 11582.848698437503\n",
      "XGBoost R²: 0.9999775927998855\n"
     ]
    }
   ],
   "source": [
    "# Создаём модель\n",
    "xgb_model = xgb.XGBRegressor(n_estimators=100, random_state=42, verbosity=1)\n",
    "\n",
    "# Обучаем\n",
    "xgb_model.fit(X_train_scaled, y_train_final)\n",
    "\n",
    "# Предсказания\n",
    "y_pred_xgb = xgb_model.predict(X_test_scaled)\n",
    "\n",
    "# Метрики\n",
    "mse_xgb = mean_squared_error(y_test_final, y_pred_xgb)\n",
    "mae_xgb = mean_absolute_error(y_test_final, y_pred_xgb)\n",
    "r2_xgb = r2_score(y_test_final, y_pred_xgb)\n",
    "\n",
    "print(f\"XGBoost MSE: {mse_xgb}\")\n",
    "print(f\"XGBoost MAE: {mae_xgb}\")\n",
    "print(f\"XGBoost R²: {r2_xgb}\")"
   ]
  },
  {
   "cell_type": "code",
   "execution_count": 44,
   "id": "58235513-532a-48b4-b9d9-98cdc20c5f22",
   "metadata": {},
   "outputs": [
    {
     "data": {
      "image/png": "[encoded data removed]",
      "text/plain": [
       "<Figure size 800x270 with 2 Axes>"
      ]
     },
     "metadata": {},
     "output_type": "display_data"
    }
   ],
   "source": [
    "xgb_explainer = shap.Explainer(xgb_model, X_test_scaled)\n",
    "shap_values_xgb = xgb_explainer(X_test_scaled)\n",
    "\n",
    "shap.summary_plot(shap_values_xgb, X_test_scaled, feature_names=X_train_final.columns)"
   ]
  },
  {
   "cell_type": "markdown",
   "id": "f5b05f8c-58aa-4178-8302-26064ac64354",
   "metadata": {},
   "source": [
    "### Вывод: XGBoost оказался хуже, чем очищенная модель"
   ]
  },
  {
   "cell_type": "markdown",
   "id": "6c6d9e9d-d831-46e7-a8e8-0ddcd8ae7ffe",
   "metadata": {},
   "source": [
    "## Попробуем стэкинг с моделями XGBoost, Random forest и нашей фильтрованной моделью"
   ]
  },
  {
   "cell_type": "code",
   "execution_count": 45,
   "id": "8623bd65-9a69-4c8c-8e5d-a3fe4f72f77f",
   "metadata": {},
   "outputs": [
    {
     "name": "stdout",
     "output_type": "stream",
     "text": [
      "Средняя MSE на мета-модели: 16285156.247963747\n",
      "📊 **Финальные метрики стэкинга:**\n",
      "✅ MSE: 16169764.058102269\n",
      "✅ MAE: 3220.979297801207\n",
      "✅ R²: 0.9999981538743647\n"
     ]
    }
   ],
   "source": [
    "# Создаем матрицу для мета-модели (стэкинг)\n",
    "meta_X = np.column_stack((y_pred_xgb, y_pred_rf, y_pred_final))  # Добавляем предсказания 3-х моделей\n",
    "meta_y = y_test_final.values  # Истинные значения\n",
    "\n",
    "# Обучаем финальную мета-модель (лог. регрессия / XGBoost / LightGBM)\n",
    "meta_model = LinearRegression()\n",
    "cv_scores = cross_val_score(meta_model, meta_X, meta_y, cv=5, scoring=\"neg_mean_squared_error\")\n",
    "\n",
    "print(f\"Средняя MSE на мета-модели: {-np.mean(cv_scores)}\")\n",
    "\n",
    "# Финальное обучение мета-модели и тестирование\n",
    "meta_model.fit(meta_X, meta_y)\n",
    "final_preds = meta_model.predict(meta_X)\n",
    "\n",
    "# Оцениваем финальный стэкинг\n",
    "final_mse = mean_squared_error(meta_y, final_preds)\n",
    "final_mae = mean_absolute_error(meta_y, final_preds)\n",
    "final_r2 = r2_score(meta_y, final_preds)\n",
    "\n",
    "print(f\"📊 **Финальные метрики стэкинга:**\")\n",
    "print(f\"✅ MSE: {final_mse}\")\n",
    "print(f\"✅ MAE: {final_mae}\")\n",
    "print(f\"✅ R²: {final_r2}\")\n"
   ]
  },
  {
   "cell_type": "code",
   "execution_count": 46,
   "id": "2c43e2b6-c2ac-4b17-86ed-981d0930401d",
   "metadata": {},
   "outputs": [
    {
     "data": {
      "image/png": "[encoded data removed]",
      "text/plain": [
       "<Figure size 640x480 with 1 Axes>"
      ]
     },
     "metadata": {},
     "output_type": "display_data"
    }
   ],
   "source": [
    "# Строим график\n",
    "plt.scatter(y_true.numpy(), final_preds)\n",
    "plt.xlabel('Фактические значения')\n",
    "plt.ylabel('Предсказанные значения')\n",
    "plt.title('Сравнение предсказаний с реальными значениями')\n",
    "\n",
    "# Линия идеального предсказания\n",
    "plt.plot([min(y_true.numpy()), max(y_true.numpy())], [min(y_true.numpy()), max(y_true.numpy())], color='red') \n",
    "\n",
    "plt.show()"
   ]
  },
  {
   "cell_type": "code",
   "execution_count": 49,
   "id": "224a9f42-1fb6-4098-9b18-ed80cf5803d9",
   "metadata": {},
   "outputs": [
    {
     "name": "stdout",
     "output_type": "stream",
     "text": [
      "Средняя MSE на мета-модели: 16285156.247963747\n",
      "XGBoost Meta MSE: 16169764.058102269\n",
      "📊 **Финальные метрики стэкинга:**\n",
      "✅ MSE: 16169764.058102269\n",
      "✅ MAE: 3220.979297801207\n",
      "✅ R²: 0.9999981538743647\n"
     ]
    }
   ],
   "source": [
    "# Создаем матрицу для мета-модели XGBoost / LGBM(стэкинг)\n",
    "meta_X2 = np.column_stack((y_pred_xgb, y_pred_rf, y_pred_final))  # Добавляем предсказания 3-х моделей\n",
    "meta_y2 = y_test_final.values  # Истинные значения\n",
    "\n",
    "meta_model2 = XGBRegressor(n_estimators=50, learning_rate=0.1, random_state=42)\n",
    "cv_scores2 = cross_val_score(meta_model, meta_X2, meta_y2, cv=5, scoring=\"neg_mean_squared_error\")\n",
    "\n",
    "print(f\"Средняя MSE на мета-модели: {-np.mean(cv_scores2)}\")\n",
    "\n",
    "meta_model2.fit(meta_X2, meta_y2)\n",
    "\n",
    "final_preds2 = meta_model.predict(meta_X2)\n",
    "print(f\"XGBoost Meta MSE: {mean_squared_error(meta_y2, final_preds2)}\")\n",
    "\n",
    "# Оцениваем финальный стэкинг\n",
    "final_mse2 = mean_squared_error(meta_y2, final_preds2)\n",
    "final_mae2 = mean_absolute_error(meta_y2, final_preds2)\n",
    "final_r22 = r2_score(meta_y2, final_preds2)\n",
    "\n",
    "print(f\"📊 **Финальные метрики стэкинга:**\")\n",
    "print(f\"✅ MSE: {final_mse2}\")\n",
    "print(f\"✅ MAE: {final_mae2}\")\n",
    "print(f\"✅ R²: {final_r22}\")\n"
   ]
  },
  {
   "cell_type": "code",
   "execution_count": 50,
   "id": "a3e37a82-4510-4859-ba17-e369af9c123f",
   "metadata": {},
   "outputs": [
    {
     "data": {
      "image/png": "[encoded data removed]",
      "text/plain": [
       "<Figure size 640x480 with 1 Axes>"
      ]
     },
     "metadata": {},
     "output_type": "display_data"
    }
   ],
   "source": [
    "# Строим график\n",
    "plt.scatter(y_true.numpy(), final_preds2)\n",
    "plt.xlabel('Фактические значения')\n",
    "plt.ylabel('Предсказанные значения')\n",
    "plt.title('Сравнение предсказаний с реальными значениями')\n",
    "\n",
    "# Линия идеального предсказания\n",
    "plt.plot([min(y_true.numpy()), max(y_true.numpy())], [min(y_true.numpy()), max(y_true.numpy())], color='red') \n",
    "\n",
    "plt.show()"
   ]
  },
  {
   "cell_type": "markdown",
   "id": "cd92c61c-cd53-4f3c-9270-aceb67620c9d",
   "metadata": {},
   "source": [
    "### Вывод: Стэкинг усилил модель (уменьшив ошибку) но у нас там есть слабое звено - XGBoost (дал метрики хуже нашей модели) поэтому попробуем получить еще модель (например LightGBM и/или Градиентный бустинг на деревьях (Sklearn) )"
   ]
  },
  {
   "cell_type": "markdown",
   "id": "b82fb2cb-74d8-4c1a-9f43-5d9a5297378f",
   "metadata": {},
   "source": [
    "## Пробуем LightGBM"
   ]
  },
  {
   "cell_type": "code",
   "execution_count": 56,
   "id": "a35ca726-b257-4f8b-b60c-f0616eefe845",
   "metadata": {},
   "outputs": [
    {
     "name": "stdout",
     "output_type": "stream",
     "text": [
      "Training until validation scores don't improve for 50 rounds\n",
      "[100]\tvalid_0's l2: 1.78905e+10\n",
      "[200]\tvalid_0's l2: 2.57342e+09\n",
      "[300]\tvalid_0's l2: 9.26289e+08\n",
      "[400]\tvalid_0's l2: 5.52806e+08\n",
      "[500]\tvalid_0's l2: 4.15644e+08\n",
      "[600]\tvalid_0's l2: 3.45896e+08\n",
      "[700]\tvalid_0's l2: 2.986e+08\n",
      "[800]\tvalid_0's l2: 2.76138e+08\n",
      "[900]\tvalid_0's l2: 2.63044e+08\n",
      "[1000]\tvalid_0's l2: 2.52217e+08\n",
      "Did not meet early stopping. Best iteration is:\n",
      "[1000]\tvalid_0's l2: 2.52217e+08\n",
      "LightGBM MSE: 252217139.25194502\n",
      "LightGBM MAE: 12852.000229457535\n",
      "LightGBM R²: 0.999971203999962\n"
     ]
    }
   ],
   "source": [
    "\n",
    "# Создаем датасеты LightGBM\n",
    "train_data = lgb.Dataset(X_train_scaled, label=y_train)\n",
    "test_data = lgb.Dataset(X_test_scaled, label=y_test, reference=train_data)\n",
    "\n",
    "# Гиперпараметры\n",
    "params = {\n",
    "    \"objective\": \"regression\",\n",
    "    \"metric\": \"mse\",\n",
    "    \"boosting_type\": \"gbdt\",\n",
    "    \"learning_rate\": 0.05,\n",
    "    \"num_leaves\": 31,\n",
    "    \"max_depth\": -1,\n",
    "    \"min_child_samples\": 20,\n",
    "    \"subsample\": 0.8,\n",
    "    \"colsample_bytree\": 0.8,\n",
    "    \"reg_alpha\": 0.1,\n",
    "    \"reg_lambda\": 0.1,\n",
    "    \"n_estimators\": 1000,\n",
    "    \"verbosity\": -1\n",
    "}\n",
    "\n",
    "# Обучаем модель с `early_stopping_rounds`\n",
    "lgb_model = lgb.train(\n",
    "    params, \n",
    "    train_data, \n",
    "    valid_sets=[test_data], \n",
    "    callbacks=[lgb.early_stopping(50), lgb.log_evaluation(100)]\n",
    ")\n",
    "\n",
    "# Предсказания\n",
    "y_pred_lgb = lgb_model.predict(X_test_scaled)\n",
    "\n",
    "# Оценка модели\n",
    "mse_lgb = mean_squared_error(y_test, y_pred_lgb)\n",
    "mae_lgb = mean_absolute_error(y_test, y_pred_lgb)\n",
    "r2_lgb = r2_score(y_test, y_pred_lgb)\n",
    "\n",
    "print(f\"LightGBM MSE: {mse_lgb}\")\n",
    "print(f\"LightGBM MAE: {mae_lgb}\")\n",
    "print(f\"LightGBM R²: {r2_lgb}\")\n"
   ]
  },
  {
   "cell_type": "markdown",
   "id": "0bfdbf5c-eecb-46af-b88f-1a9b5134958c",
   "metadata": {},
   "source": [
    "### Вывод: Полченные метрики хуже чем наша модель. Использовать ее в стэкинге не имет смысла."
   ]
  },
  {
   "cell_type": "markdown",
   "id": "32e0c5a2-f7a8-4437-b748-2f23e40cc872",
   "metadata": {},
   "source": [
    "## Попробуем градиентный бустинг на деревьях (Sklearn)"
   ]
  },
  {
   "cell_type": "code",
   "execution_count": 57,
   "id": "1a15c135-cc26-4234-ae91-749cadebf0dc",
   "metadata": {},
   "outputs": [
    {
     "name": "stdout",
     "output_type": "stream",
     "text": [
      "Gradient Boosting MSE: 88308243.57749483\n",
      "Gradient Boosting MAE: 7269.84442342137\n",
      "Gradient Boosting R²: 0.9999899177185462\n"
     ]
    }
   ],
   "source": [
    "# Обучение модели Gradient Boosting\n",
    "gb_model = GradientBoostingRegressor(\n",
    "    n_estimators=1000,\n",
    "    learning_rate=0.05,\n",
    "    max_depth=3,\n",
    "    min_samples_split=2,\n",
    "    min_samples_leaf=1,\n",
    "    subsample=0.8,\n",
    "    random_state=42\n",
    ")\n",
    "\n",
    "# Обучаем модель\n",
    "gb_model.fit(X_train_scaled, y_train)\n",
    "\n",
    "# Предсказания\n",
    "y_pred_gb = gb_model.predict(X_test_scaled)\n",
    "\n",
    "# Оценка модели\n",
    "mse_gb = mean_squared_error(y_test, y_pred_gb)\n",
    "mae_gb = mean_absolute_error(y_test, y_pred_gb)\n",
    "r2_gb = r2_score(y_test, y_pred_gb)\n",
    "\n",
    "print(f\"Gradient Boosting MSE: {mse_gb}\")\n",
    "print(f\"Gradient Boosting MAE: {mae_gb}\")\n",
    "print(f\"Gradient Boosting R²: {r2_gb}\")"
   ]
  },
  {
   "cell_type": "markdown",
   "id": "08be5da3-acbb-401e-9875-1406dede3a24",
   "metadata": {},
   "source": [
    "## Попробуем стэкинг с моделями: градиентный бустинг на деревьях (Sklearn), Random forest и нашей фильтрованной моделью"
   ]
  },
  {
   "cell_type": "code",
   "execution_count": 59,
   "id": "dea39115-3130-4c85-89d3-56c088f1721c",
   "metadata": {},
   "outputs": [
    {
     "name": "stdout",
     "output_type": "stream",
     "text": [
      "Средняя MSE на мета-модели: 16346252.682177585\n",
      "📊 **Финальные метрики стэкинга:**\n",
      "✅ MSE: 16193547.011974335\n",
      "✅ MAE: 3223.901648287577\n",
      "✅ R²: 0.99999815115903\n"
     ]
    }
   ],
   "source": [
    "# Создаем матрицу для мета-модели (стэкинг)\n",
    "meta_X3 = np.column_stack((y_pred_gb, y_pred_rf, y_pred_final))  # Добавляем предсказания 3-х моделей\n",
    "meta_y3 = y_test_final.values  # Истинные значения\n",
    "\n",
    "# Обучаем финальную мета-модель (лог. регрессия / XGBoost / LightGBM)\n",
    "meta_model3 = LinearRegression()\n",
    "cv_scores = cross_val_score(meta_model3, meta_X3, meta_y3, cv=5, scoring=\"neg_mean_squared_error\")\n",
    "\n",
    "print(f\"Средняя MSE на мета-модели: {-np.mean(cv_scores)}\")\n",
    "\n",
    "# Финальное обучение мета-модели и тестирование\n",
    "meta_model3.fit(meta_X3, meta_y3)\n",
    "final_preds3 = meta_model3.predict(meta_X3)\n",
    "\n",
    "# Оцениваем финальный стэкинг\n",
    "final_mse3 = mean_squared_error(meta_y3, final_preds3)\n",
    "final_mae3 = mean_absolute_error(meta_y3, final_preds3)\n",
    "final_r23 = r2_score(meta_y3, final_preds3)\n",
    "\n",
    "print(f\"📊 **Финальные метрики стэкинга:**\")\n",
    "print(f\"✅ MSE: {final_mse3}\")\n",
    "print(f\"✅ MAE: {final_mae3}\")\n",
    "print(f\"✅ R²: {final_r23}\")"
   ]
  },
  {
   "cell_type": "code",
   "execution_count": 60,
   "id": "443b804e-4651-47be-a699-2b9273bc4105",
   "metadata": {},
   "outputs": [
    {
     "data": {
      "image/png": "[encoded data removed]",
      "text/plain": [
       "<Figure size 640x480 with 1 Axes>"
      ]
     },
     "metadata": {},
     "output_type": "display_data"
    }
   ],
   "source": [
    "# Строим график\n",
    "plt.scatter(y_true.numpy(), final_preds3)\n",
    "plt.xlabel('Фактические значения')\n",
    "plt.ylabel('Предсказанные значения')\n",
    "plt.title('Сравнение предсказаний с реальными значениями')\n",
    "\n",
    "# Линия идеального предсказания\n",
    "plt.plot([min(y_true.numpy()), max(y_true.numpy())], [min(y_true.numpy()), max(y_true.numpy())], color='red') \n",
    "\n",
    "plt.show()"
   ]
  },
  {
   "cell_type": "markdown",
   "id": "8c0f4e85-981e-482b-af57-4e28c6112cba",
   "metadata": {},
   "source": [
    "## Вывод: можель получилась более стаблиной с таким же высоким предсказанием"
   ]
  }
 ],
 "metadata": {
  "kernelspec": {
   "display_name": "Python 3 (ipykernel)",
   "language": "python",
   "name": "python3"
  },
  "language_info": {
   "codemirror_mode": {
    "name": "ipython",
    "version": 3
   },
   "file_extension": ".py",
   "mimetype": "text/x-python",
   "name": "python",
   "nbconvert_exporter": "python",
   "pygments_lexer": "ipython3",
   "version": "3.12.2"
  }
 },
 "nbformat": 4,
 "nbformat_minor": 5
}
