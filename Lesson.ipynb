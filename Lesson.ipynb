{
 "cells": [
  {
   "cell_type": "code",
   "execution_count": null,
   "id": "864d74ee-25db-4e90-b4c9-e9ce998ad68e",
   "metadata": {},
   "outputs": [],
   "source": [
    "\n",
    "# Ввод строки и слова для поиска\n",
    "string = input(\"Введите строку: \")\n",
    "word = input(\"Введите слово для поиска: \")\n",
    "\n",
    "# Список для хранения позиций вхождения слова\n",
    "indices = []\n",
    "\n",
    "word_len = len(word)\n",
    "\n",
    "for i in range(len(string) - word_len + 1):\n",
    "    # Проверяем каждую подстроку длины word_len\n",
    "    if string[i:i + word_len] == word:\n",
    "        indices.append(i)\n",
    "\n",
    "# Вывод результата\n",
    "if indices:\n",
    "    print(f\"Слово '{word}' найдено на позициях: {indices}\")\n",
    "else:\n",
    "    print(f\"Слово '{word}' не найдено.\")\n"
   ]
  },
  {
   "cell_type": "code",
   "execution_count": null,
   "id": "2c76d1ae-dab9-4cd5-8d8f-cd400a92f540",
   "metadata": {},
   "outputs": [],
   "source": [
    "import random\n",
    "\n",
    "len_list: int = int(input(\"Введите размерность матрицы: \"))\n",
    "\n",
    "matrix_base: List = [random.randint(1, 100) for _ in range(len_list)]\n",
    "\n",
    "for z in range(len(matrix_base)):\n",
    "    matrix_base[z]=[random.randint(1, 100) for _ in range(len_list)]\n",
    "\n",
    "matrix_base \n",
    "\n",
    "\n",
    "for x in range(len(matrix_base)):\n",
    "    for y in range(len(matrix_base)):\n",
    "        if (x==y) or (x+y==len(matrix_base)-1):\n",
    "            matrix_base[x][y] = \"*\"\n",
    " \n",
    "matrix_base"
   ]
  }
 ],
 "metadata": {
  "kernelspec": {
   "display_name": "Python 3 (ipykernel)",
   "language": "python",
   "name": "python3"
  },
  "language_info": {
   "codemirror_mode": {
    "name": "ipython",
    "version": 3
   },
   "file_extension": ".py",
   "mimetype": "text/x-python",
   "name": "python",
   "nbconvert_exporter": "python",
   "pygments_lexer": "ipython3",
   "version": "3.12.8"
  }
 },
 "nbformat": 4,
 "nbformat_minor": 5
}
