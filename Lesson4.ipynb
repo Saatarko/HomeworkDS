{
 "cells": [
  {
   "cell_type": "code",
   "execution_count": 22,
   "id": "ae853d95-337a-4935-9339-ec995f3b46ab",
   "metadata": {},
   "outputs": [
    {
     "name": "stdout",
     "output_type": "stream",
     "text": [
      "Заполнение matrix[0][0] = 87\n",
      "Заполнение matrix[0][1] = 86\n",
      "Заполнение matrix[0][2] = 55\n",
      "Заполнение matrix[0][3] = 66\n",
      "Заполнение matrix[0][4] = 30\n",
      "Заполнение matrix[1][4] = 46\n",
      "Заполнение matrix[2][4] = 44\n",
      "Заполнение matrix[3][4] = 52\n",
      "Заполнение matrix[4][4] = 96\n",
      "Заполнение matrix[4][3] = 92\n",
      "Заполнение matrix[4][2] = 74\n",
      "Заполнение matrix[4][1] = 56\n",
      "Заполнение matrix[4][0] = 70\n",
      "Заполнение matrix[3][0] = 55\n",
      "Заполнение matrix[2][0] = 82\n",
      "Заполнение matrix[1][0] = 66\n",
      "Заполнение matrix[1][1] = 86\n",
      "Заполнение matrix[1][2] = 66\n",
      "Заполнение matrix[1][3] = 8\n",
      "Заполнение matrix[2][3] = 53\n",
      "Заполнение matrix[3][3] = 44\n",
      "Заполнение matrix[3][2] = 40\n",
      "Заполнение matrix[3][1] = 45\n",
      "Заполнение matrix[2][1] = 13\n",
      "Заполнение matrix[2][2] = 48\n",
      "[87, 86, 55, 66, 30]\n",
      "[66, 86, 66, 8, 46]\n",
      "[82, 13, 48, 53, 44]\n",
      "[55, 45, 40, 44, 52]\n",
      "[70, 56, 74, 92, 96]\n"
     ]
    }
   ],
   "source": [
    "import random\n",
    "\n",
    "def fill_matrix_spiral(matrix, left, right, top, bottom):\n",
    "    \"\"\"Заполнение матрицы по спирали рекурсивно.\"\"\"\n",
    "    if left > right or top > bottom:\n",
    "        return\n",
    "    \n",
    "    # Верхняя строка слева направо\n",
    "    for col in range(left, right + 1):\n",
    "        matrix[top][col] = random.randint(1, 100)\n",
    "        print(f\"Заполнение matrix[{top}][{col}] = {matrix[top][col]}\")\n",
    "    \n",
    "    # Правая колонка сверху вниз\n",
    "    for row in range(top + 1, bottom + 1):\n",
    "        matrix[row][right] = random.randint(1, 100)\n",
    "        print(f\"Заполнение matrix[{row}][{right}] = {matrix[row][right]}\")\n",
    "    \n",
    "    # Нижняя строка справа налево\n",
    "    if top < bottom:\n",
    "        for col in range(right - 1, left - 1, -1):\n",
    "            matrix[bottom][col] = random.randint(1, 100)\n",
    "            print(f\"Заполнение matrix[{bottom}][{col}] = {matrix[bottom][col]}\")\n",
    "    \n",
    "    # Левая колонка снизу вверх\n",
    "    if left < right:\n",
    "        for row in range(bottom - 1, top, -1):\n",
    "            matrix[row][left] = random.randint(1, 100)\n",
    "            print(f\"Заполнение matrix[{row}][{left}] = {matrix[row][left]}\")\n",
    "    \n",
    "    # Рекурсивный вызов для внутренней области\n",
    "    fill_matrix_spiral(matrix, left + 1, right - 1, top + 1, bottom - 1)\n",
    "\n",
    "def matrix_func(n):\n",
    "    \"\"\"Инициализация и заполнение матрицы по спирали.\"\"\"\n",
    "    matrix = [[0] * n for _ in range(n)]\n",
    "    fill_matrix_spiral(matrix, 0, n - 1, 0, n - 1)\n",
    "    return matrix\n",
    "\n",
    "# Генерация матрицы и вывод результата\n",
    "result_matrix = matrix_func(5)\n",
    "for row in result_matrix:\n",
    "    print(row)\n"
   ]
  },
  {
   "cell_type": "code",
   "execution_count": null,
   "id": "5eb4ac46-70b9-4bcc-9432-0f43c23ba536",
   "metadata": {},
   "outputs": [],
   "source": []
  }
 ],
 "metadata": {
  "kernelspec": {
   "display_name": "Python 3 (ipykernel)",
   "language": "python",
   "name": "python3"
  },
  "language_info": {
   "codemirror_mode": {
    "name": "ipython",
    "version": 3
   },
   "file_extension": ".py",
   "mimetype": "text/x-python",
   "name": "python",
   "nbconvert_exporter": "python",
   "pygments_lexer": "ipython3",
   "version": "3.12.8"
  }
 },
 "nbformat": 4,
 "nbformat_minor": 5
}
