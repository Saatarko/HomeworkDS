{
 "cells": [
  {
   "cell_type": "code",
   "execution_count": 1,
   "id": "d241291a-1e35-4249-a8d7-da7f961b9556",
   "metadata": {},
   "outputs": [],
   "source": [
    "import math"
   ]
  },
  {
   "cell_type": "code",
   "execution_count": 7,
   "id": "37652df2-1535-4679-9d8c-70835f691a60",
   "metadata": {},
   "outputs": [
    {
     "name": "stdout",
     "output_type": "stream",
     "text": [
      "[1, 2, 3, 4, 5]\n",
      "[16, 17, 18, 19, 6]\n",
      "[15, 24, 25, 20, 7]\n",
      "[14, 23, 22, 21, 8]\n",
      "[13, 12, 11, 10, 9]\n"
     ]
    }
   ],
   "source": [
    "from functools import reduce\n",
    "from typing import List\n",
    "\n",
    "def fill_matrix_spiral(matrix: List[List[int]], \n",
    "                       left: int, right: int, \n",
    "                       top: int, bottom: int, \n",
    "                       counter: int):\n",
    "    \"\"\"Заполнение матрицы по спирали числами от 1 до n*n.\n",
    "    Параметры:\n",
    "    matrix - матрица для заполнения\n",
    "    left - левый край матрицы\n",
    "    right - правый край матрицы\n",
    "    top  - верхний край матрицы\n",
    "    bottom - нижний край матрицы\n",
    "    \"\"\"\n",
    "    if left > right or top > bottom:\n",
    "        return\n",
    "\n",
    "    def cumulative_reduce(acc: int, _: int) -> int:\n",
    "        \"\"\"Возвращает следующее значение счётчика.\n",
    "        Параметры:\n",
    "        acc: int — тип аккумулятора, который накапливает значения, \n",
    "        _: int - неиспользуемый аргумент\n",
    "        Возвращает:\n",
    "        counter[0]  - значение накопленной переменной\n",
    "        \"\"\"\n",
    "        nonlocal counter\n",
    "        counter[0] += 1  # Увеличиваем счётчик\n",
    "        return counter[0]\n",
    "\n",
    "    def fill_cell(row: int, col: int):\n",
    "        \"\"\"Заполнение ячейки с помощью reduce.\n",
    "        Параметры:\n",
    "        row - индекс строки\n",
    "        col - индекс столбца\n",
    "        \"\"\"\n",
    "        acc_state = reduce(cumulative_reduce, range(1), counter[0])\n",
    "        matrix[row][col] = acc_state\n",
    "\n",
    "    # Верхняя строка слева направо\n",
    "    list(map(lambda col: fill_cell(top, col), range(left, right + 1)))\n",
    "\n",
    "    # Правая колонка сверху вниз\n",
    "    list(map(lambda row: fill_cell(row, right), range(top + 1, bottom + 1)))\n",
    "\n",
    "    # Нижняя строка справа налево\n",
    "    if top < bottom:\n",
    "        list(map(lambda col: fill_cell(bottom, col), range(right - 1, left - 1, -1)))\n",
    "\n",
    "    # Левая колонка снизу вверх\n",
    "    if left < right:\n",
    "        list(map(lambda row: fill_cell(row, left), range(bottom - 1, top, -1)))\n",
    "\n",
    "    fill_matrix_spiral(matrix, left + 1, right - 1, top + 1, bottom - 1, counter)\n",
    "\n",
    "def matrix_func(n: int) -> List[List[int]]:\n",
    "    \"\"\"Инициализация матрицы и вызов заполнения.\n",
    "    Параметры:\n",
    "    n - размерность матрицы\n",
    "    Возвращает:\n",
    "    matrix - заполненную матрицу\n",
    "    \"\"\"\n",
    "    matrix = [[0] * n for _ in range(n)]\n",
    "    counter = [0]  # Счётчик для заполнения значениями от 1 до n*n\n",
    "    fill_matrix_spiral(matrix, 0, n - 1, 0, n - 1, counter)\n",
    "    return matrix\n",
    "\n",
    "# Генерация матрицы и вывод результата\n",
    "result_matrix = matrix_func(5)\n",
    "for row in result_matrix:\n",
    "    print(row)\n"
   ]
  },
  {
   "cell_type": "code",
   "execution_count": null,
   "id": "e1933371-99ab-4e8d-9f9c-9d4d7b33058a",
   "metadata": {},
   "outputs": [],
   "source": []
  }
 ],
 "metadata": {
  "kernelspec": {
   "display_name": "Python 3 (ipykernel)",
   "language": "python",
   "name": "python3"
  },
  "language_info": {
   "codemirror_mode": {
    "name": "ipython",
    "version": 3
   },
   "file_extension": ".py",
   "mimetype": "text/x-python",
   "name": "python",
   "nbconvert_exporter": "python",
   "pygments_lexer": "ipython3",
   "version": "3.12.8"
  }
 },
 "nbformat": 4,
 "nbformat_minor": 5
}
