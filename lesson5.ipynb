{
 "cells": [
  {
   "cell_type": "code",
   "execution_count": 1,
   "id": "d241291a-1e35-4249-a8d7-da7f961b9556",
   "metadata": {},
   "outputs": [],
   "source": [
    "import math"
   ]
  },
  {
   "cell_type": "code",
   "execution_count": 2,
   "id": "37652df2-1535-4679-9d8c-70835f691a60",
   "metadata": {},
   "outputs": [
    {
     "name": "stdout",
     "output_type": "stream",
     "text": [
      "[2, 3, 5, 8, 13]\n",
      "[2584, 4181, 6765, 10946, 21]\n",
      "[1597, 121393, 196418, 17711, 34]\n",
      "[987, 75025, 46368, 28657, 55]\n",
      "[610, 377, 233, 144, 89]\n"
     ]
    }
   ],
   "source": [
    "from functools import reduce\n",
    "\n",
    "def fill_matrix_spiral(matrix, left, right, top, bottom, initial_accumulator):\n",
    "    \"\"\"Заполнение матрицы по спирали.\"\"\"\n",
    "    if left > right or top > bottom:\n",
    "        return\n",
    "\n",
    "    def cumulative_reduce(acc, _):\n",
    "        \"\"\"Функция для накопления суммы и обновления аккумулятора.\"\"\"\n",
    "        new_value = initial_accumulator[-2] + initial_accumulator[-1]  # Суммируем последний элемент аккумулятора с текущим значением\n",
    "        initial_accumulator.append(new_value)  # Добавляем новое значение в аккумулятор\n",
    "        return new_value\n",
    "\n",
    "    def fill_cell(row, col):\n",
    "        \"\"\"Заполнение ячейки с помощью reduce.\"\"\"\n",
    "        acc_state = reduce(cumulative_reduce, range(1), initial_accumulator[-1])  # Начинаем с последнего значения в аккумуляторе\n",
    "        matrix[row][col] = acc_state\n",
    "\n",
    "    # Верхняя строка слева направо\n",
    "    list(map(lambda col: fill_cell(top, col), range(left, right + 1)))\n",
    "\n",
    "    # Правая колонка сверху вниз\n",
    "    list(map(lambda row: fill_cell(row, right), range(top + 1, bottom + 1)))\n",
    "\n",
    "    # Нижняя строка справа налево\n",
    "    if top < bottom:\n",
    "        list(map(lambda col: fill_cell(bottom, col), range(right - 1, left - 1, -1)))\n",
    "\n",
    "    # Левая колонка снизу вверх\n",
    "    if left < right:\n",
    "        list(map(lambda row: fill_cell(row, left), range(bottom - 1, top, -1)))\n",
    "\n",
    "    fill_matrix_spiral(matrix, left + 1, right - 1, top + 1, bottom - 1, initial_accumulator)\n",
    "\n",
    "def matrix_func(n):\n",
    "    \"\"\"Инициализация матрицы и вызов заполнения.\"\"\"\n",
    "    matrix = [[0] * n for _ in range(n)]\n",
    "    initial_accumulator = [1, 1]  # Начальное состояние для reduce\n",
    "    fill_matrix_spiral(matrix, 0, n - 1, 0, n - 1, initial_accumulator)\n",
    "    return matrix\n",
    "\n",
    "# Генерация матрицы и вывод результата\n",
    "result_matrix = matrix_func(5)\n",
    "for row in result_matrix:\n",
    "    print(row)\n"
   ]
  },
  {
   "cell_type": "code",
   "execution_count": null,
   "id": "61a8d503-bccf-4b60-a2d8-569e51a8b62b",
   "metadata": {},
   "outputs": [],
   "source": []
  }
 ],
 "metadata": {
  "kernelspec": {
   "display_name": "Python 3 (ipykernel)",
   "language": "python",
   "name": "python3"
  },
  "language_info": {
   "codemirror_mode": {
    "name": "ipython",
    "version": 3
   },
   "file_extension": ".py",
   "mimetype": "text/x-python",
   "name": "python",
   "nbconvert_exporter": "python",
   "pygments_lexer": "ipython3",
   "version": "3.12.8"
  }
 },
 "nbformat": 4,
 "nbformat_minor": 5
}
